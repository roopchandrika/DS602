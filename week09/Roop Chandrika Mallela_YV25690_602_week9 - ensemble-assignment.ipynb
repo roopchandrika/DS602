{
 "cells": [
  {
   "cell_type": "markdown",
   "id": "4a8bd498",
   "metadata": {},
   "source": [
    "# Week9 - Ensemble Assignment\n",
    "\n",
    "- create a training and test set with random_state = 3\n",
    "- create a pipeline to extract new features\n",
    "- try bagging & boosting algorithms\n"
   ]
  },
  {
   "cell_type": "code",
   "execution_count": 1,
   "id": "ffd31a2d",
   "metadata": {},
   "outputs": [
    {
     "name": "stdout",
     "output_type": "stream",
     "text": [
      "<class 'pandas.core.frame.DataFrame'>\n",
      "Int64Index: 27999 entries, 0 to 27999\n",
      "Data columns (total 2 columns):\n",
      " #   Column  Non-Null Count  Dtype \n",
      "---  ------  --------------  ----- \n",
      " 0   name    27999 non-null  object\n",
      " 1   gender  27999 non-null  object\n",
      "dtypes: object(2)\n",
      "memory usage: 656.2+ KB\n"
     ]
    }
   ],
   "source": [
    "import pandas as pd\n",
    "import numpy as np\n",
    "from matplotlib import pyplot as plt\n",
    "\n",
    "names = 'https://raw.githubusercontent.com/msaricaumbc/DS_data/master/ds602/names/us_names.csv'\n",
    "\n",
    "df = pd.read_csv(names)\n",
    "df.dropna(inplace=True)\n",
    "df.info()"
   ]
  },
  {
   "cell_type": "markdown",
   "id": "17fcaa30",
   "metadata": {},
   "source": [
    "## Divide into X (name) and y (gender) column"
   ]
  },
  {
   "cell_type": "code",
   "execution_count": 2,
   "id": "8dc06c7a",
   "metadata": {},
   "outputs": [],
   "source": [
    "X = df[['name']]\n",
    "y = df.gender"
   ]
  },
  {
   "cell_type": "markdown",
   "id": "0d906ad4",
   "metadata": {},
   "source": [
    "## Train and test split with random state of 3"
   ]
  },
  {
   "cell_type": "code",
   "execution_count": 3,
   "id": "a1479e31",
   "metadata": {},
   "outputs": [],
   "source": [
    "from sklearn.model_selection import train_test_split\n",
    "\n",
    "X_train, X_test, y_train, y_test = train_test_split(X, y, test_size=0.2, random_state = 3)"
   ]
  },
  {
   "cell_type": "code",
   "execution_count": 4,
   "id": "54c8a9aa",
   "metadata": {},
   "outputs": [
    {
     "name": "stdout",
     "output_type": "stream",
     "text": [
      "Training samples: 22,399\n",
      "Test samples: 5,600\n"
     ]
    }
   ],
   "source": [
    "print(f'Training samples: {X_train.shape[0]:,}')\n",
    "print(f'Test samples: {X_test.shape[0]:,}')"
   ]
  },
  {
   "cell_type": "markdown",
   "id": "1c6adb25",
   "metadata": {},
   "source": [
    "## Creating new features for the above data"
   ]
  },
  {
   "cell_type": "code",
   "execution_count": 5,
   "id": "c95f8d1b",
   "metadata": {},
   "outputs": [
    {
     "data": {
      "text/plain": [
       "<27999x52 sparse matrix of type '<class 'numpy.float64'>'\n",
       "\twith 55998 stored elements in Compressed Sparse Row format>"
      ]
     },
     "execution_count": 5,
     "metadata": {},
     "output_type": "execute_result"
    }
   ],
   "source": [
    "from sklearn.base import BaseEstimator, TransformerMixin\n",
    "from sklearn.preprocessing import StandardScaler, OneHotEncoder, LabelEncoder\n",
    "from sklearn.pipeline import Pipeline\n",
    "\n",
    "    \n",
    "class MyFeatures(BaseEstimator, TransformerMixin):\n",
    "    \n",
    "    def __init__(self):\n",
    "        pass\n",
    "    \n",
    "    def fit( self, X, y = None ):\n",
    "        return self\n",
    "    \n",
    "    def transform(self, X, y=None):\n",
    "    \n",
    "        X['first_letter'] = [name[0] for name in X['name']]\n",
    "        X['last_letter'] = [name[-1] for name in X['name']]\n",
    "    \n",
    "        return X[['first_letter', 'last_letter']].values\n",
    "\n",
    "pipe = Pipeline([ \n",
    "    (\"feature_engineering\", MyFeatures()),\n",
    "    # (\"selector_new\", FeatureSelector([\"daily_trend\"])),\n",
    "    (\"ohe\", OneHotEncoder(handle_unknown=\"ignore\"))\n",
    "  \n",
    "    # model can be created\n",
    "])\n",
    "\n",
    "\n",
    "Xmatrix = pipe.fit_transform(X,y)\n",
    "Xmatrix"
   ]
  },
  {
   "cell_type": "code",
   "execution_count": 6,
   "id": "0829e937",
   "metadata": {},
   "outputs": [
    {
     "data": {
      "text/plain": [
       "array(['x0_a', 'x0_b', 'x0_c', 'x0_d', 'x0_e', 'x0_f', 'x0_g', 'x0_h',\n",
       "       'x0_i', 'x0_j', 'x0_k', 'x0_l', 'x0_m', 'x0_n', 'x0_o', 'x0_p',\n",
       "       'x0_q', 'x0_r', 'x0_s', 'x0_t', 'x0_u', 'x0_v', 'x0_w', 'x0_x',\n",
       "       'x0_y', 'x0_z', 'x1_a', 'x1_b', 'x1_c', 'x1_d', 'x1_e', 'x1_f',\n",
       "       'x1_g', 'x1_h', 'x1_i', 'x1_j', 'x1_k', 'x1_l', 'x1_m', 'x1_n',\n",
       "       'x1_o', 'x1_p', 'x1_q', 'x1_r', 'x1_s', 'x1_t', 'x1_u', 'x1_v',\n",
       "       'x1_w', 'x1_x', 'x1_y', 'x1_z'], dtype=object)"
      ]
     },
     "execution_count": 6,
     "metadata": {},
     "output_type": "execute_result"
    }
   ],
   "source": [
    "pipe[1].get_feature_names_out()"
   ]
  },
  {
   "cell_type": "code",
   "execution_count": 7,
   "id": "40f404f4",
   "metadata": {},
   "outputs": [
    {
     "data": {
      "text/html": [
       "<div>\n",
       "<style scoped>\n",
       "    .dataframe tbody tr th:only-of-type {\n",
       "        vertical-align: middle;\n",
       "    }\n",
       "\n",
       "    .dataframe tbody tr th {\n",
       "        vertical-align: top;\n",
       "    }\n",
       "\n",
       "    .dataframe thead th {\n",
       "        text-align: right;\n",
       "    }\n",
       "</style>\n",
       "<table border=\"1\" class=\"dataframe\">\n",
       "  <thead>\n",
       "    <tr style=\"text-align: right;\">\n",
       "      <th></th>\n",
       "      <th>x0_a</th>\n",
       "      <th>x0_b</th>\n",
       "      <th>x0_c</th>\n",
       "      <th>x0_d</th>\n",
       "      <th>x0_e</th>\n",
       "      <th>x0_f</th>\n",
       "      <th>x0_g</th>\n",
       "      <th>x0_h</th>\n",
       "      <th>x0_i</th>\n",
       "      <th>x0_j</th>\n",
       "      <th>...</th>\n",
       "      <th>x1_q</th>\n",
       "      <th>x1_r</th>\n",
       "      <th>x1_s</th>\n",
       "      <th>x1_t</th>\n",
       "      <th>x1_u</th>\n",
       "      <th>x1_v</th>\n",
       "      <th>x1_w</th>\n",
       "      <th>x1_x</th>\n",
       "      <th>x1_y</th>\n",
       "      <th>x1_z</th>\n",
       "    </tr>\n",
       "  </thead>\n",
       "  <tbody>\n",
       "    <tr>\n",
       "      <th>0</th>\n",
       "      <td>0</td>\n",
       "      <td>0</td>\n",
       "      <td>0</td>\n",
       "      <td>0</td>\n",
       "      <td>0</td>\n",
       "      <td>0</td>\n",
       "      <td>0</td>\n",
       "      <td>0</td>\n",
       "      <td>0</td>\n",
       "      <td>1</td>\n",
       "      <td>...</td>\n",
       "      <td>0</td>\n",
       "      <td>0</td>\n",
       "      <td>0</td>\n",
       "      <td>0</td>\n",
       "      <td>0</td>\n",
       "      <td>0</td>\n",
       "      <td>0</td>\n",
       "      <td>0</td>\n",
       "      <td>0</td>\n",
       "      <td>0</td>\n",
       "    </tr>\n",
       "    <tr>\n",
       "      <th>1</th>\n",
       "      <td>0</td>\n",
       "      <td>0</td>\n",
       "      <td>0</td>\n",
       "      <td>0</td>\n",
       "      <td>0</td>\n",
       "      <td>0</td>\n",
       "      <td>0</td>\n",
       "      <td>0</td>\n",
       "      <td>0</td>\n",
       "      <td>0</td>\n",
       "      <td>...</td>\n",
       "      <td>0</td>\n",
       "      <td>0</td>\n",
       "      <td>0</td>\n",
       "      <td>0</td>\n",
       "      <td>0</td>\n",
       "      <td>0</td>\n",
       "      <td>0</td>\n",
       "      <td>0</td>\n",
       "      <td>1</td>\n",
       "      <td>0</td>\n",
       "    </tr>\n",
       "    <tr>\n",
       "      <th>2</th>\n",
       "      <td>0</td>\n",
       "      <td>0</td>\n",
       "      <td>0</td>\n",
       "      <td>0</td>\n",
       "      <td>0</td>\n",
       "      <td>0</td>\n",
       "      <td>0</td>\n",
       "      <td>0</td>\n",
       "      <td>0</td>\n",
       "      <td>0</td>\n",
       "      <td>...</td>\n",
       "      <td>0</td>\n",
       "      <td>0</td>\n",
       "      <td>0</td>\n",
       "      <td>0</td>\n",
       "      <td>0</td>\n",
       "      <td>0</td>\n",
       "      <td>0</td>\n",
       "      <td>0</td>\n",
       "      <td>1</td>\n",
       "      <td>0</td>\n",
       "    </tr>\n",
       "    <tr>\n",
       "      <th>3</th>\n",
       "      <td>0</td>\n",
       "      <td>0</td>\n",
       "      <td>0</td>\n",
       "      <td>0</td>\n",
       "      <td>0</td>\n",
       "      <td>0</td>\n",
       "      <td>0</td>\n",
       "      <td>0</td>\n",
       "      <td>0</td>\n",
       "      <td>0</td>\n",
       "      <td>...</td>\n",
       "      <td>0</td>\n",
       "      <td>0</td>\n",
       "      <td>0</td>\n",
       "      <td>0</td>\n",
       "      <td>0</td>\n",
       "      <td>0</td>\n",
       "      <td>0</td>\n",
       "      <td>0</td>\n",
       "      <td>0</td>\n",
       "      <td>0</td>\n",
       "    </tr>\n",
       "    <tr>\n",
       "      <th>4</th>\n",
       "      <td>0</td>\n",
       "      <td>0</td>\n",
       "      <td>0</td>\n",
       "      <td>0</td>\n",
       "      <td>0</td>\n",
       "      <td>0</td>\n",
       "      <td>1</td>\n",
       "      <td>0</td>\n",
       "      <td>0</td>\n",
       "      <td>0</td>\n",
       "      <td>...</td>\n",
       "      <td>0</td>\n",
       "      <td>0</td>\n",
       "      <td>0</td>\n",
       "      <td>0</td>\n",
       "      <td>0</td>\n",
       "      <td>0</td>\n",
       "      <td>0</td>\n",
       "      <td>0</td>\n",
       "      <td>0</td>\n",
       "      <td>0</td>\n",
       "    </tr>\n",
       "    <tr>\n",
       "      <th>...</th>\n",
       "      <td>...</td>\n",
       "      <td>...</td>\n",
       "      <td>...</td>\n",
       "      <td>...</td>\n",
       "      <td>...</td>\n",
       "      <td>...</td>\n",
       "      <td>...</td>\n",
       "      <td>...</td>\n",
       "      <td>...</td>\n",
       "      <td>...</td>\n",
       "      <td>...</td>\n",
       "      <td>...</td>\n",
       "      <td>...</td>\n",
       "      <td>...</td>\n",
       "      <td>...</td>\n",
       "      <td>...</td>\n",
       "      <td>...</td>\n",
       "      <td>...</td>\n",
       "      <td>...</td>\n",
       "      <td>...</td>\n",
       "      <td>...</td>\n",
       "    </tr>\n",
       "    <tr>\n",
       "      <th>27994</th>\n",
       "      <td>0</td>\n",
       "      <td>0</td>\n",
       "      <td>0</td>\n",
       "      <td>0</td>\n",
       "      <td>1</td>\n",
       "      <td>0</td>\n",
       "      <td>0</td>\n",
       "      <td>0</td>\n",
       "      <td>0</td>\n",
       "      <td>0</td>\n",
       "      <td>...</td>\n",
       "      <td>0</td>\n",
       "      <td>0</td>\n",
       "      <td>0</td>\n",
       "      <td>0</td>\n",
       "      <td>0</td>\n",
       "      <td>0</td>\n",
       "      <td>0</td>\n",
       "      <td>0</td>\n",
       "      <td>0</td>\n",
       "      <td>0</td>\n",
       "    </tr>\n",
       "    <tr>\n",
       "      <th>27995</th>\n",
       "      <td>0</td>\n",
       "      <td>0</td>\n",
       "      <td>0</td>\n",
       "      <td>0</td>\n",
       "      <td>0</td>\n",
       "      <td>0</td>\n",
       "      <td>0</td>\n",
       "      <td>1</td>\n",
       "      <td>0</td>\n",
       "      <td>0</td>\n",
       "      <td>...</td>\n",
       "      <td>0</td>\n",
       "      <td>0</td>\n",
       "      <td>0</td>\n",
       "      <td>1</td>\n",
       "      <td>0</td>\n",
       "      <td>0</td>\n",
       "      <td>0</td>\n",
       "      <td>0</td>\n",
       "      <td>0</td>\n",
       "      <td>0</td>\n",
       "    </tr>\n",
       "    <tr>\n",
       "      <th>27996</th>\n",
       "      <td>0</td>\n",
       "      <td>0</td>\n",
       "      <td>0</td>\n",
       "      <td>0</td>\n",
       "      <td>0</td>\n",
       "      <td>0</td>\n",
       "      <td>0</td>\n",
       "      <td>0</td>\n",
       "      <td>0</td>\n",
       "      <td>0</td>\n",
       "      <td>...</td>\n",
       "      <td>0</td>\n",
       "      <td>0</td>\n",
       "      <td>0</td>\n",
       "      <td>0</td>\n",
       "      <td>0</td>\n",
       "      <td>0</td>\n",
       "      <td>0</td>\n",
       "      <td>0</td>\n",
       "      <td>0</td>\n",
       "      <td>0</td>\n",
       "    </tr>\n",
       "    <tr>\n",
       "      <th>27997</th>\n",
       "      <td>1</td>\n",
       "      <td>0</td>\n",
       "      <td>0</td>\n",
       "      <td>0</td>\n",
       "      <td>0</td>\n",
       "      <td>0</td>\n",
       "      <td>0</td>\n",
       "      <td>0</td>\n",
       "      <td>0</td>\n",
       "      <td>0</td>\n",
       "      <td>...</td>\n",
       "      <td>0</td>\n",
       "      <td>0</td>\n",
       "      <td>0</td>\n",
       "      <td>0</td>\n",
       "      <td>0</td>\n",
       "      <td>0</td>\n",
       "      <td>0</td>\n",
       "      <td>0</td>\n",
       "      <td>0</td>\n",
       "      <td>0</td>\n",
       "    </tr>\n",
       "    <tr>\n",
       "      <th>27998</th>\n",
       "      <td>0</td>\n",
       "      <td>0</td>\n",
       "      <td>0</td>\n",
       "      <td>0</td>\n",
       "      <td>1</td>\n",
       "      <td>0</td>\n",
       "      <td>0</td>\n",
       "      <td>0</td>\n",
       "      <td>0</td>\n",
       "      <td>0</td>\n",
       "      <td>...</td>\n",
       "      <td>0</td>\n",
       "      <td>0</td>\n",
       "      <td>0</td>\n",
       "      <td>0</td>\n",
       "      <td>0</td>\n",
       "      <td>0</td>\n",
       "      <td>0</td>\n",
       "      <td>0</td>\n",
       "      <td>0</td>\n",
       "      <td>0</td>\n",
       "    </tr>\n",
       "  </tbody>\n",
       "</table>\n",
       "<p>27999 rows × 52 columns</p>\n",
       "</div>"
      ],
      "text/plain": [
       "       x0_a  x0_b  x0_c  x0_d  x0_e  x0_f  x0_g  x0_h  x0_i  x0_j  ...  x1_q  \\\n",
       "0         0     0     0     0     0     0     0     0     0     1  ...     0   \n",
       "1         0     0     0     0     0     0     0     0     0     0  ...     0   \n",
       "2         0     0     0     0     0     0     0     0     0     0  ...     0   \n",
       "3         0     0     0     0     0     0     0     0     0     0  ...     0   \n",
       "4         0     0     0     0     0     0     1     0     0     0  ...     0   \n",
       "...     ...   ...   ...   ...   ...   ...   ...   ...   ...   ...  ...   ...   \n",
       "27994     0     0     0     0     1     0     0     0     0     0  ...     0   \n",
       "27995     0     0     0     0     0     0     0     1     0     0  ...     0   \n",
       "27996     0     0     0     0     0     0     0     0     0     0  ...     0   \n",
       "27997     1     0     0     0     0     0     0     0     0     0  ...     0   \n",
       "27998     0     0     0     0     1     0     0     0     0     0  ...     0   \n",
       "\n",
       "       x1_r  x1_s  x1_t  x1_u  x1_v  x1_w  x1_x  x1_y  x1_z  \n",
       "0         0     0     0     0     0     0     0     0     0  \n",
       "1         0     0     0     0     0     0     0     1     0  \n",
       "2         0     0     0     0     0     0     0     1     0  \n",
       "3         0     0     0     0     0     0     0     0     0  \n",
       "4         0     0     0     0     0     0     0     0     0  \n",
       "...     ...   ...   ...   ...   ...   ...   ...   ...   ...  \n",
       "27994     0     0     0     0     0     0     0     0     0  \n",
       "27995     0     0     1     0     0     0     0     0     0  \n",
       "27996     0     0     0     0     0     0     0     0     0  \n",
       "27997     0     0     0     0     0     0     0     0     0  \n",
       "27998     0     0     0     0     0     0     0     0     0  \n",
       "\n",
       "[27999 rows x 52 columns]"
      ]
     },
     "execution_count": 7,
     "metadata": {},
     "output_type": "execute_result"
    }
   ],
   "source": [
    "pd.DataFrame(Xmatrix.toarray(), columns=pipe[1].get_feature_names_out(), dtype=int)"
   ]
  },
  {
   "cell_type": "code",
   "execution_count": null,
   "id": "bed80566",
   "metadata": {},
   "outputs": [],
   "source": []
  },
  {
   "cell_type": "markdown",
   "id": "7ec6f067",
   "metadata": {},
   "source": [
    "# BAGGING - DECISION TREE CLASSIFIER"
   ]
  },
  {
   "cell_type": "code",
   "execution_count": 8,
   "id": "ab7c0248",
   "metadata": {},
   "outputs": [],
   "source": [
    "from sklearn.ensemble import BaggingClassifier\n",
    "# from sklearn.linear_model import LogisticRegression\n",
    "from sklearn.tree import DecisionTreeClassifier\n",
    "# from sklearn.neighbors import KNeighborsClassifier\n",
    "from sklearn.model_selection import GridSearchCV\n",
    "from sklearn.compose import ColumnTransformer"
   ]
  },
  {
   "cell_type": "code",
   "execution_count": 9,
   "id": "c40425ae",
   "metadata": {},
   "outputs": [],
   "source": [
    "pipe = Pipeline([ \n",
    "    (\"feature_engineering\", MyFeatures()),\n",
    "    # (\"selector_new\", FeatureSelector([\"daily_trend\"])),\n",
    "    (\"ohe\", OneHotEncoder(handle_unknown=\"ignore\")),\n",
    "    (\"bagging\", BaggingClassifier(estimator=DecisionTreeClassifier(), n_estimators=10, random_state=42))\n",
    "])"
   ]
  },
  {
   "cell_type": "code",
   "execution_count": 10,
   "id": "59487ade",
   "metadata": {},
   "outputs": [
    {
     "data": {
      "text/html": [
       "<style>#sk-container-id-1 {color: black;background-color: white;}#sk-container-id-1 pre{padding: 0;}#sk-container-id-1 div.sk-toggleable {background-color: white;}#sk-container-id-1 label.sk-toggleable__label {cursor: pointer;display: block;width: 100%;margin-bottom: 0;padding: 0.3em;box-sizing: border-box;text-align: center;}#sk-container-id-1 label.sk-toggleable__label-arrow:before {content: \"▸\";float: left;margin-right: 0.25em;color: #696969;}#sk-container-id-1 label.sk-toggleable__label-arrow:hover:before {color: black;}#sk-container-id-1 div.sk-estimator:hover label.sk-toggleable__label-arrow:before {color: black;}#sk-container-id-1 div.sk-toggleable__content {max-height: 0;max-width: 0;overflow: hidden;text-align: left;background-color: #f0f8ff;}#sk-container-id-1 div.sk-toggleable__content pre {margin: 0.2em;color: black;border-radius: 0.25em;background-color: #f0f8ff;}#sk-container-id-1 input.sk-toggleable__control:checked~div.sk-toggleable__content {max-height: 200px;max-width: 100%;overflow: auto;}#sk-container-id-1 input.sk-toggleable__control:checked~label.sk-toggleable__label-arrow:before {content: \"▾\";}#sk-container-id-1 div.sk-estimator input.sk-toggleable__control:checked~label.sk-toggleable__label {background-color: #d4ebff;}#sk-container-id-1 div.sk-label input.sk-toggleable__control:checked~label.sk-toggleable__label {background-color: #d4ebff;}#sk-container-id-1 input.sk-hidden--visually {border: 0;clip: rect(1px 1px 1px 1px);clip: rect(1px, 1px, 1px, 1px);height: 1px;margin: -1px;overflow: hidden;padding: 0;position: absolute;width: 1px;}#sk-container-id-1 div.sk-estimator {font-family: monospace;background-color: #f0f8ff;border: 1px dotted black;border-radius: 0.25em;box-sizing: border-box;margin-bottom: 0.5em;}#sk-container-id-1 div.sk-estimator:hover {background-color: #d4ebff;}#sk-container-id-1 div.sk-parallel-item::after {content: \"\";width: 100%;border-bottom: 1px solid gray;flex-grow: 1;}#sk-container-id-1 div.sk-label:hover label.sk-toggleable__label {background-color: #d4ebff;}#sk-container-id-1 div.sk-serial::before {content: \"\";position: absolute;border-left: 1px solid gray;box-sizing: border-box;top: 0;bottom: 0;left: 50%;z-index: 0;}#sk-container-id-1 div.sk-serial {display: flex;flex-direction: column;align-items: center;background-color: white;padding-right: 0.2em;padding-left: 0.2em;position: relative;}#sk-container-id-1 div.sk-item {position: relative;z-index: 1;}#sk-container-id-1 div.sk-parallel {display: flex;align-items: stretch;justify-content: center;background-color: white;position: relative;}#sk-container-id-1 div.sk-item::before, #sk-container-id-1 div.sk-parallel-item::before {content: \"\";position: absolute;border-left: 1px solid gray;box-sizing: border-box;top: 0;bottom: 0;left: 50%;z-index: -1;}#sk-container-id-1 div.sk-parallel-item {display: flex;flex-direction: column;z-index: 1;position: relative;background-color: white;}#sk-container-id-1 div.sk-parallel-item:first-child::after {align-self: flex-end;width: 50%;}#sk-container-id-1 div.sk-parallel-item:last-child::after {align-self: flex-start;width: 50%;}#sk-container-id-1 div.sk-parallel-item:only-child::after {width: 0;}#sk-container-id-1 div.sk-dashed-wrapped {border: 1px dashed gray;margin: 0 0.4em 0.5em 0.4em;box-sizing: border-box;padding-bottom: 0.4em;background-color: white;}#sk-container-id-1 div.sk-label label {font-family: monospace;font-weight: bold;display: inline-block;line-height: 1.2em;}#sk-container-id-1 div.sk-label-container {text-align: center;}#sk-container-id-1 div.sk-container {/* jupyter's `normalize.less` sets `[hidden] { display: none; }` but bootstrap.min.css set `[hidden] { display: none !important; }` so we also need the `!important` here to be able to override the default hidden behavior on the sphinx rendered scikit-learn.org. See: https://github.com/scikit-learn/scikit-learn/issues/21755 */display: inline-block !important;position: relative;}#sk-container-id-1 div.sk-text-repr-fallback {display: none;}</style><div id=\"sk-container-id-1\" class=\"sk-top-container\"><div class=\"sk-text-repr-fallback\"><pre>Pipeline(steps=[(&#x27;feature_engineering&#x27;, MyFeatures()),\n",
       "                (&#x27;ohe&#x27;, OneHotEncoder(handle_unknown=&#x27;ignore&#x27;)),\n",
       "                (&#x27;bagging&#x27;,\n",
       "                 BaggingClassifier(estimator=DecisionTreeClassifier(),\n",
       "                                   random_state=42))])</pre><b>In a Jupyter environment, please rerun this cell to show the HTML representation or trust the notebook. <br />On GitHub, the HTML representation is unable to render, please try loading this page with nbviewer.org.</b></div><div class=\"sk-container\" hidden><div class=\"sk-item sk-dashed-wrapped\"><div class=\"sk-label-container\"><div class=\"sk-label sk-toggleable\"><input class=\"sk-toggleable__control sk-hidden--visually\" id=\"sk-estimator-id-1\" type=\"checkbox\" ><label for=\"sk-estimator-id-1\" class=\"sk-toggleable__label sk-toggleable__label-arrow\">Pipeline</label><div class=\"sk-toggleable__content\"><pre>Pipeline(steps=[(&#x27;feature_engineering&#x27;, MyFeatures()),\n",
       "                (&#x27;ohe&#x27;, OneHotEncoder(handle_unknown=&#x27;ignore&#x27;)),\n",
       "                (&#x27;bagging&#x27;,\n",
       "                 BaggingClassifier(estimator=DecisionTreeClassifier(),\n",
       "                                   random_state=42))])</pre></div></div></div><div class=\"sk-serial\"><div class=\"sk-item\"><div class=\"sk-estimator sk-toggleable\"><input class=\"sk-toggleable__control sk-hidden--visually\" id=\"sk-estimator-id-2\" type=\"checkbox\" ><label for=\"sk-estimator-id-2\" class=\"sk-toggleable__label sk-toggleable__label-arrow\">MyFeatures</label><div class=\"sk-toggleable__content\"><pre>MyFeatures()</pre></div></div></div><div class=\"sk-item\"><div class=\"sk-estimator sk-toggleable\"><input class=\"sk-toggleable__control sk-hidden--visually\" id=\"sk-estimator-id-3\" type=\"checkbox\" ><label for=\"sk-estimator-id-3\" class=\"sk-toggleable__label sk-toggleable__label-arrow\">OneHotEncoder</label><div class=\"sk-toggleable__content\"><pre>OneHotEncoder(handle_unknown=&#x27;ignore&#x27;)</pre></div></div></div><div class=\"sk-item sk-dashed-wrapped\"><div class=\"sk-label-container\"><div class=\"sk-label sk-toggleable\"><input class=\"sk-toggleable__control sk-hidden--visually\" id=\"sk-estimator-id-4\" type=\"checkbox\" ><label for=\"sk-estimator-id-4\" class=\"sk-toggleable__label sk-toggleable__label-arrow\">bagging: BaggingClassifier</label><div class=\"sk-toggleable__content\"><pre>BaggingClassifier(estimator=DecisionTreeClassifier(), random_state=42)</pre></div></div></div><div class=\"sk-parallel\"><div class=\"sk-parallel-item\"><div class=\"sk-item\"><div class=\"sk-label-container\"><div class=\"sk-label sk-toggleable\"><input class=\"sk-toggleable__control sk-hidden--visually\" id=\"sk-estimator-id-5\" type=\"checkbox\" ><label for=\"sk-estimator-id-5\" class=\"sk-toggleable__label sk-toggleable__label-arrow\">estimator: DecisionTreeClassifier</label><div class=\"sk-toggleable__content\"><pre>DecisionTreeClassifier()</pre></div></div></div><div class=\"sk-serial\"><div class=\"sk-item\"><div class=\"sk-estimator sk-toggleable\"><input class=\"sk-toggleable__control sk-hidden--visually\" id=\"sk-estimator-id-6\" type=\"checkbox\" ><label for=\"sk-estimator-id-6\" class=\"sk-toggleable__label sk-toggleable__label-arrow\">DecisionTreeClassifier</label><div class=\"sk-toggleable__content\"><pre>DecisionTreeClassifier()</pre></div></div></div></div></div></div></div></div></div></div></div></div>"
      ],
      "text/plain": [
       "Pipeline(steps=[('feature_engineering', MyFeatures()),\n",
       "                ('ohe', OneHotEncoder(handle_unknown='ignore')),\n",
       "                ('bagging',\n",
       "                 BaggingClassifier(estimator=DecisionTreeClassifier(),\n",
       "                                   random_state=42))])"
      ]
     },
     "execution_count": 10,
     "metadata": {},
     "output_type": "execute_result"
    }
   ],
   "source": [
    "pipe.fit(X_train,y_train)"
   ]
  },
  {
   "cell_type": "markdown",
   "id": "0b7c344a",
   "metadata": {},
   "source": [
    "## EVALUATION OF TRAINING DATA"
   ]
  },
  {
   "cell_type": "code",
   "execution_count": 11,
   "id": "0da3e659",
   "metadata": {},
   "outputs": [],
   "source": [
    "y_train_pred = pipe.predict(X_train)"
   ]
  },
  {
   "cell_type": "code",
   "execution_count": 12,
   "id": "8ca86842",
   "metadata": {},
   "outputs": [
    {
     "name": "stdout",
     "output_type": "stream",
     "text": [
      "[[8521 2755]\n",
      " [2860 8263]]\n"
     ]
    }
   ],
   "source": [
    "from sklearn.metrics import confusion_matrix\n",
    "print(confusion_matrix(y_train, y_train_pred))"
   ]
  },
  {
   "cell_type": "code",
   "execution_count": 13,
   "id": "514842c0",
   "metadata": {},
   "outputs": [
    {
     "name": "stdout",
     "output_type": "stream",
     "text": [
      "Accuracy of bagging decision tree is:  74.9319166034198\n"
     ]
    }
   ],
   "source": [
    "from sklearn.metrics import accuracy_score\n",
    "\n",
    "dt_train_accuracy = accuracy_score(y_train,y_train_pred)\n",
    "\n",
    "print(\"Accuracy of bagging decision tree is: \",dt_train_accuracy*100)"
   ]
  },
  {
   "cell_type": "code",
   "execution_count": 14,
   "id": "26ed1d28",
   "metadata": {},
   "outputs": [
    {
     "name": "stdout",
     "output_type": "stream",
     "text": [
      "              precision    recall  f1-score   support\n",
      "\n",
      "           F       0.75      0.76      0.75     11276\n",
      "           M       0.75      0.74      0.75     11123\n",
      "\n",
      "    accuracy                           0.75     22399\n",
      "   macro avg       0.75      0.75      0.75     22399\n",
      "weighted avg       0.75      0.75      0.75     22399\n",
      "\n"
     ]
    }
   ],
   "source": [
    "from sklearn.metrics import classification_report\n",
    "report = classification_report(y_train, y_train_pred)\n",
    "print(report)"
   ]
  },
  {
   "cell_type": "markdown",
   "id": "8464c417",
   "metadata": {},
   "source": [
    "## EVALUATION OF TESTING DATA"
   ]
  },
  {
   "cell_type": "code",
   "execution_count": 15,
   "id": "5f1a2f55",
   "metadata": {},
   "outputs": [],
   "source": [
    "y_test_pred = pipe.predict(X_test)"
   ]
  },
  {
   "cell_type": "code",
   "execution_count": 16,
   "id": "4bc19e29",
   "metadata": {},
   "outputs": [
    {
     "name": "stdout",
     "output_type": "stream",
     "text": [
      "[[2051  672]\n",
      " [ 745 2132]]\n"
     ]
    }
   ],
   "source": [
    "from sklearn.metrics import confusion_matrix\n",
    "print(confusion_matrix(y_test, y_test_pred))"
   ]
  },
  {
   "cell_type": "code",
   "execution_count": 17,
   "id": "71ba80b2",
   "metadata": {},
   "outputs": [
    {
     "name": "stdout",
     "output_type": "stream",
     "text": [
      "Accuracy of bagging decision tree is:  74.69642857142857\n"
     ]
    }
   ],
   "source": [
    "from sklearn.metrics import accuracy_score\n",
    "\n",
    "dt_test_accuracy = accuracy_score(y_test,y_test_pred)\n",
    "\n",
    "print(\"Accuracy of bagging decision tree is: \",dt_test_accuracy*100)"
   ]
  },
  {
   "cell_type": "code",
   "execution_count": 18,
   "id": "3f66219a",
   "metadata": {},
   "outputs": [
    {
     "name": "stdout",
     "output_type": "stream",
     "text": [
      "              precision    recall  f1-score   support\n",
      "\n",
      "           F       0.73      0.75      0.74      2723\n",
      "           M       0.76      0.74      0.75      2877\n",
      "\n",
      "    accuracy                           0.75      5600\n",
      "   macro avg       0.75      0.75      0.75      5600\n",
      "weighted avg       0.75      0.75      0.75      5600\n",
      "\n"
     ]
    }
   ],
   "source": [
    "from sklearn.metrics import classification_report\n",
    "report = classification_report(y_test, y_test_pred)\n",
    "print(report)"
   ]
  },
  {
   "cell_type": "markdown",
   "id": "c94165c6",
   "metadata": {},
   "source": [
    "# ADABOOST - DECISION TREE CLASSIFIER"
   ]
  },
  {
   "cell_type": "code",
   "execution_count": 19,
   "id": "6829b925",
   "metadata": {},
   "outputs": [
    {
     "name": "stdout",
     "output_type": "stream",
     "text": [
      "AdaBoost Training Score: 74.98%\n",
      "AdaBoost Test Score: 74.93%\n"
     ]
    }
   ],
   "source": [
    "from sklearn.ensemble import AdaBoostClassifier\n",
    "\n",
    "pipe = Pipeline([ \n",
    "    (\"feature_engineering\", MyFeatures()),\n",
    "    # (\"selector_new\", FeatureSelector([\"daily_trend\"])),\n",
    "    (\"ohe\", OneHotEncoder(handle_unknown=\"ignore\")),\n",
    "    (\"adaboost\", AdaBoostClassifier(estimator=DecisionTreeClassifier(), n_estimators=500, learning_rate=0.1, random_state=1))\n",
    "])\n",
    "\n",
    "ada = pipe.fit(X_train, y_train)\n",
    "ada_train_predict = ada.predict(X_train)\n",
    "ada_test_predict = ada.predict(X_test)\n",
    "\n",
    "ada_train_score = accuracy_score(y_train, ada_train_predict)\n",
    "ada_test_score = accuracy_score(y_test, ada_test_predict)\n",
    "\n",
    "print(f'AdaBoost Training Score: {ada_train_score:.2%}')\n",
    "print(f'AdaBoost Test Score: {ada_test_score:.2%}')"
   ]
  },
  {
   "cell_type": "code",
   "execution_count": 20,
   "id": "b54c5014",
   "metadata": {},
   "outputs": [
    {
     "name": "stdout",
     "output_type": "stream",
     "text": [
      "[[8451 2825]\n",
      " [2780 8343]]\n"
     ]
    }
   ],
   "source": [
    "from sklearn.metrics import confusion_matrix\n",
    "print(confusion_matrix(y_train, ada_train_predict))"
   ]
  },
  {
   "cell_type": "code",
   "execution_count": 21,
   "id": "29b8efae",
   "metadata": {},
   "outputs": [
    {
     "name": "stdout",
     "output_type": "stream",
     "text": [
      "[[2040  683]\n",
      " [ 721 2156]]\n"
     ]
    }
   ],
   "source": [
    "from sklearn.metrics import confusion_matrix\n",
    "print(confusion_matrix(y_test, ada_test_predict))"
   ]
  },
  {
   "cell_type": "code",
   "execution_count": 22,
   "id": "ca8fd8cc",
   "metadata": {},
   "outputs": [
    {
     "name": "stdout",
     "output_type": "stream",
     "text": [
      "              precision    recall  f1-score   support\n",
      "\n",
      "           F       0.75      0.75      0.75     11276\n",
      "           M       0.75      0.75      0.75     11123\n",
      "\n",
      "    accuracy                           0.75     22399\n",
      "   macro avg       0.75      0.75      0.75     22399\n",
      "weighted avg       0.75      0.75      0.75     22399\n",
      "\n"
     ]
    }
   ],
   "source": [
    "from sklearn.metrics import classification_report\n",
    "report = classification_report(y_train, ada_train_predict)\n",
    "print(report)"
   ]
  },
  {
   "cell_type": "code",
   "execution_count": 23,
   "id": "9fb049ee",
   "metadata": {},
   "outputs": [
    {
     "name": "stdout",
     "output_type": "stream",
     "text": [
      "              precision    recall  f1-score   support\n",
      "\n",
      "           F       0.74      0.75      0.74      2723\n",
      "           M       0.76      0.75      0.75      2877\n",
      "\n",
      "    accuracy                           0.75      5600\n",
      "   macro avg       0.75      0.75      0.75      5600\n",
      "weighted avg       0.75      0.75      0.75      5600\n",
      "\n"
     ]
    }
   ],
   "source": [
    "from sklearn.metrics import classification_report\n",
    "report = classification_report(y_test, ada_test_predict)\n",
    "print(report)"
   ]
  },
  {
   "cell_type": "code",
   "execution_count": null,
   "id": "a6082c7a",
   "metadata": {},
   "outputs": [],
   "source": []
  },
  {
   "cell_type": "markdown",
   "id": "520d0074",
   "metadata": {},
   "source": [
    "# BAGGING - LOGISTIC REGRESSION"
   ]
  },
  {
   "cell_type": "code",
   "execution_count": 24,
   "id": "e1ceb914",
   "metadata": {},
   "outputs": [],
   "source": [
    "from sklearn.linear_model import LogisticRegression\n",
    "\n",
    "pipe_lr = Pipeline([ \n",
    "    (\"feature_engineering\", MyFeatures()),\n",
    "    # (\"selector_new\", FeatureSelector([\"daily_trend\"])),\n",
    "    (\"ohe\", OneHotEncoder(handle_unknown=\"ignore\")),\n",
    "    (\"bagging_lr\", BaggingClassifier(estimator=LogisticRegression(), n_estimators=10, random_state=42))\n",
    "])"
   ]
  },
  {
   "cell_type": "code",
   "execution_count": 25,
   "id": "ab23669e",
   "metadata": {},
   "outputs": [
    {
     "name": "stderr",
     "output_type": "stream",
     "text": [
      "C:\\Users\\CHANDRIKA\\anaconda3\\lib\\site-packages\\sklearn\\linear_model\\_logistic.py:458: ConvergenceWarning: lbfgs failed to converge (status=1):\n",
      "STOP: TOTAL NO. of ITERATIONS REACHED LIMIT.\n",
      "\n",
      "Increase the number of iterations (max_iter) or scale the data as shown in:\n",
      "    https://scikit-learn.org/stable/modules/preprocessing.html\n",
      "Please also refer to the documentation for alternative solver options:\n",
      "    https://scikit-learn.org/stable/modules/linear_model.html#logistic-regression\n",
      "  n_iter_i = _check_optimize_result(\n",
      "C:\\Users\\CHANDRIKA\\anaconda3\\lib\\site-packages\\sklearn\\linear_model\\_logistic.py:458: ConvergenceWarning: lbfgs failed to converge (status=1):\n",
      "STOP: TOTAL NO. of ITERATIONS REACHED LIMIT.\n",
      "\n",
      "Increase the number of iterations (max_iter) or scale the data as shown in:\n",
      "    https://scikit-learn.org/stable/modules/preprocessing.html\n",
      "Please also refer to the documentation for alternative solver options:\n",
      "    https://scikit-learn.org/stable/modules/linear_model.html#logistic-regression\n",
      "  n_iter_i = _check_optimize_result(\n"
     ]
    },
    {
     "data": {
      "text/html": [
       "<style>#sk-container-id-2 {color: black;background-color: white;}#sk-container-id-2 pre{padding: 0;}#sk-container-id-2 div.sk-toggleable {background-color: white;}#sk-container-id-2 label.sk-toggleable__label {cursor: pointer;display: block;width: 100%;margin-bottom: 0;padding: 0.3em;box-sizing: border-box;text-align: center;}#sk-container-id-2 label.sk-toggleable__label-arrow:before {content: \"▸\";float: left;margin-right: 0.25em;color: #696969;}#sk-container-id-2 label.sk-toggleable__label-arrow:hover:before {color: black;}#sk-container-id-2 div.sk-estimator:hover label.sk-toggleable__label-arrow:before {color: black;}#sk-container-id-2 div.sk-toggleable__content {max-height: 0;max-width: 0;overflow: hidden;text-align: left;background-color: #f0f8ff;}#sk-container-id-2 div.sk-toggleable__content pre {margin: 0.2em;color: black;border-radius: 0.25em;background-color: #f0f8ff;}#sk-container-id-2 input.sk-toggleable__control:checked~div.sk-toggleable__content {max-height: 200px;max-width: 100%;overflow: auto;}#sk-container-id-2 input.sk-toggleable__control:checked~label.sk-toggleable__label-arrow:before {content: \"▾\";}#sk-container-id-2 div.sk-estimator input.sk-toggleable__control:checked~label.sk-toggleable__label {background-color: #d4ebff;}#sk-container-id-2 div.sk-label input.sk-toggleable__control:checked~label.sk-toggleable__label {background-color: #d4ebff;}#sk-container-id-2 input.sk-hidden--visually {border: 0;clip: rect(1px 1px 1px 1px);clip: rect(1px, 1px, 1px, 1px);height: 1px;margin: -1px;overflow: hidden;padding: 0;position: absolute;width: 1px;}#sk-container-id-2 div.sk-estimator {font-family: monospace;background-color: #f0f8ff;border: 1px dotted black;border-radius: 0.25em;box-sizing: border-box;margin-bottom: 0.5em;}#sk-container-id-2 div.sk-estimator:hover {background-color: #d4ebff;}#sk-container-id-2 div.sk-parallel-item::after {content: \"\";width: 100%;border-bottom: 1px solid gray;flex-grow: 1;}#sk-container-id-2 div.sk-label:hover label.sk-toggleable__label {background-color: #d4ebff;}#sk-container-id-2 div.sk-serial::before {content: \"\";position: absolute;border-left: 1px solid gray;box-sizing: border-box;top: 0;bottom: 0;left: 50%;z-index: 0;}#sk-container-id-2 div.sk-serial {display: flex;flex-direction: column;align-items: center;background-color: white;padding-right: 0.2em;padding-left: 0.2em;position: relative;}#sk-container-id-2 div.sk-item {position: relative;z-index: 1;}#sk-container-id-2 div.sk-parallel {display: flex;align-items: stretch;justify-content: center;background-color: white;position: relative;}#sk-container-id-2 div.sk-item::before, #sk-container-id-2 div.sk-parallel-item::before {content: \"\";position: absolute;border-left: 1px solid gray;box-sizing: border-box;top: 0;bottom: 0;left: 50%;z-index: -1;}#sk-container-id-2 div.sk-parallel-item {display: flex;flex-direction: column;z-index: 1;position: relative;background-color: white;}#sk-container-id-2 div.sk-parallel-item:first-child::after {align-self: flex-end;width: 50%;}#sk-container-id-2 div.sk-parallel-item:last-child::after {align-self: flex-start;width: 50%;}#sk-container-id-2 div.sk-parallel-item:only-child::after {width: 0;}#sk-container-id-2 div.sk-dashed-wrapped {border: 1px dashed gray;margin: 0 0.4em 0.5em 0.4em;box-sizing: border-box;padding-bottom: 0.4em;background-color: white;}#sk-container-id-2 div.sk-label label {font-family: monospace;font-weight: bold;display: inline-block;line-height: 1.2em;}#sk-container-id-2 div.sk-label-container {text-align: center;}#sk-container-id-2 div.sk-container {/* jupyter's `normalize.less` sets `[hidden] { display: none; }` but bootstrap.min.css set `[hidden] { display: none !important; }` so we also need the `!important` here to be able to override the default hidden behavior on the sphinx rendered scikit-learn.org. See: https://github.com/scikit-learn/scikit-learn/issues/21755 */display: inline-block !important;position: relative;}#sk-container-id-2 div.sk-text-repr-fallback {display: none;}</style><div id=\"sk-container-id-2\" class=\"sk-top-container\"><div class=\"sk-text-repr-fallback\"><pre>Pipeline(steps=[(&#x27;feature_engineering&#x27;, MyFeatures()),\n",
       "                (&#x27;ohe&#x27;, OneHotEncoder(handle_unknown=&#x27;ignore&#x27;)),\n",
       "                (&#x27;bagging_lr&#x27;,\n",
       "                 BaggingClassifier(estimator=LogisticRegression(),\n",
       "                                   random_state=42))])</pre><b>In a Jupyter environment, please rerun this cell to show the HTML representation or trust the notebook. <br />On GitHub, the HTML representation is unable to render, please try loading this page with nbviewer.org.</b></div><div class=\"sk-container\" hidden><div class=\"sk-item sk-dashed-wrapped\"><div class=\"sk-label-container\"><div class=\"sk-label sk-toggleable\"><input class=\"sk-toggleable__control sk-hidden--visually\" id=\"sk-estimator-id-7\" type=\"checkbox\" ><label for=\"sk-estimator-id-7\" class=\"sk-toggleable__label sk-toggleable__label-arrow\">Pipeline</label><div class=\"sk-toggleable__content\"><pre>Pipeline(steps=[(&#x27;feature_engineering&#x27;, MyFeatures()),\n",
       "                (&#x27;ohe&#x27;, OneHotEncoder(handle_unknown=&#x27;ignore&#x27;)),\n",
       "                (&#x27;bagging_lr&#x27;,\n",
       "                 BaggingClassifier(estimator=LogisticRegression(),\n",
       "                                   random_state=42))])</pre></div></div></div><div class=\"sk-serial\"><div class=\"sk-item\"><div class=\"sk-estimator sk-toggleable\"><input class=\"sk-toggleable__control sk-hidden--visually\" id=\"sk-estimator-id-8\" type=\"checkbox\" ><label for=\"sk-estimator-id-8\" class=\"sk-toggleable__label sk-toggleable__label-arrow\">MyFeatures</label><div class=\"sk-toggleable__content\"><pre>MyFeatures()</pre></div></div></div><div class=\"sk-item\"><div class=\"sk-estimator sk-toggleable\"><input class=\"sk-toggleable__control sk-hidden--visually\" id=\"sk-estimator-id-9\" type=\"checkbox\" ><label for=\"sk-estimator-id-9\" class=\"sk-toggleable__label sk-toggleable__label-arrow\">OneHotEncoder</label><div class=\"sk-toggleable__content\"><pre>OneHotEncoder(handle_unknown=&#x27;ignore&#x27;)</pre></div></div></div><div class=\"sk-item sk-dashed-wrapped\"><div class=\"sk-label-container\"><div class=\"sk-label sk-toggleable\"><input class=\"sk-toggleable__control sk-hidden--visually\" id=\"sk-estimator-id-10\" type=\"checkbox\" ><label for=\"sk-estimator-id-10\" class=\"sk-toggleable__label sk-toggleable__label-arrow\">bagging_lr: BaggingClassifier</label><div class=\"sk-toggleable__content\"><pre>BaggingClassifier(estimator=LogisticRegression(), random_state=42)</pre></div></div></div><div class=\"sk-parallel\"><div class=\"sk-parallel-item\"><div class=\"sk-item\"><div class=\"sk-label-container\"><div class=\"sk-label sk-toggleable\"><input class=\"sk-toggleable__control sk-hidden--visually\" id=\"sk-estimator-id-11\" type=\"checkbox\" ><label for=\"sk-estimator-id-11\" class=\"sk-toggleable__label sk-toggleable__label-arrow\">estimator: LogisticRegression</label><div class=\"sk-toggleable__content\"><pre>LogisticRegression()</pre></div></div></div><div class=\"sk-serial\"><div class=\"sk-item\"><div class=\"sk-estimator sk-toggleable\"><input class=\"sk-toggleable__control sk-hidden--visually\" id=\"sk-estimator-id-12\" type=\"checkbox\" ><label for=\"sk-estimator-id-12\" class=\"sk-toggleable__label sk-toggleable__label-arrow\">LogisticRegression</label><div class=\"sk-toggleable__content\"><pre>LogisticRegression()</pre></div></div></div></div></div></div></div></div></div></div></div></div>"
      ],
      "text/plain": [
       "Pipeline(steps=[('feature_engineering', MyFeatures()),\n",
       "                ('ohe', OneHotEncoder(handle_unknown='ignore')),\n",
       "                ('bagging_lr',\n",
       "                 BaggingClassifier(estimator=LogisticRegression(),\n",
       "                                   random_state=42))])"
      ]
     },
     "execution_count": 25,
     "metadata": {},
     "output_type": "execute_result"
    }
   ],
   "source": [
    "pipe_lr.fit(X_train,y_train)"
   ]
  },
  {
   "cell_type": "markdown",
   "id": "86e82ddc",
   "metadata": {},
   "source": [
    "## EVALUATION OF TRAINING DATA"
   ]
  },
  {
   "cell_type": "code",
   "execution_count": 26,
   "id": "8afadb63",
   "metadata": {},
   "outputs": [],
   "source": [
    "y_train_p = pipe_lr.predict(X_train)"
   ]
  },
  {
   "cell_type": "code",
   "execution_count": 27,
   "id": "24cffbd0",
   "metadata": {},
   "outputs": [
    {
     "name": "stdout",
     "output_type": "stream",
     "text": [
      "[[8434 2842]\n",
      " [2915 8208]]\n"
     ]
    }
   ],
   "source": [
    "from sklearn.metrics import confusion_matrix\n",
    "print(confusion_matrix(y_train, y_train_p))"
   ]
  },
  {
   "cell_type": "code",
   "execution_count": 28,
   "id": "b0bc7bbf",
   "metadata": {},
   "outputs": [
    {
     "name": "stdout",
     "output_type": "stream",
     "text": [
      "Accuracy of bagging logistic regression is:  74.29795973034511\n"
     ]
    }
   ],
   "source": [
    "from sklearn.metrics import accuracy_score\n",
    "\n",
    "lr_train_accuracy = accuracy_score(y_train,y_train_p)\n",
    "\n",
    "print(\"Accuracy of bagging logistic regression is: \",lr_train_accuracy*100)"
   ]
  },
  {
   "cell_type": "code",
   "execution_count": 29,
   "id": "8f3f2804",
   "metadata": {},
   "outputs": [
    {
     "name": "stdout",
     "output_type": "stream",
     "text": [
      "              precision    recall  f1-score   support\n",
      "\n",
      "           F       0.74      0.75      0.75     11276\n",
      "           M       0.74      0.74      0.74     11123\n",
      "\n",
      "    accuracy                           0.74     22399\n",
      "   macro avg       0.74      0.74      0.74     22399\n",
      "weighted avg       0.74      0.74      0.74     22399\n",
      "\n"
     ]
    }
   ],
   "source": [
    "from sklearn.metrics import classification_report\n",
    "report = classification_report(y_train, y_train_p)\n",
    "print(report)"
   ]
  },
  {
   "cell_type": "markdown",
   "id": "c1cc59e9",
   "metadata": {},
   "source": [
    "## EVALUATION OF TESTING DATA"
   ]
  },
  {
   "cell_type": "code",
   "execution_count": 30,
   "id": "9e516a8a",
   "metadata": {},
   "outputs": [],
   "source": [
    "y_test_p = pipe_lr.predict(X_test)"
   ]
  },
  {
   "cell_type": "code",
   "execution_count": 31,
   "id": "7eb48e7e",
   "metadata": {},
   "outputs": [
    {
     "name": "stdout",
     "output_type": "stream",
     "text": [
      "[[2048  675]\n",
      " [ 743 2134]]\n"
     ]
    }
   ],
   "source": [
    "from sklearn.metrics import confusion_matrix\n",
    "print(confusion_matrix(y_test, y_test_p))"
   ]
  },
  {
   "cell_type": "code",
   "execution_count": 32,
   "id": "f80b83c3",
   "metadata": {},
   "outputs": [
    {
     "name": "stdout",
     "output_type": "stream",
     "text": [
      "Accuracy of bagging logistic regression is:  74.67857142857143\n"
     ]
    }
   ],
   "source": [
    "from sklearn.metrics import accuracy_score\n",
    "\n",
    "lr_test_accuracy = accuracy_score(y_test,y_test_p)\n",
    "\n",
    "print(\"Accuracy of bagging logistic regression is: \",lr_test_accuracy*100)"
   ]
  },
  {
   "cell_type": "code",
   "execution_count": 33,
   "id": "30fcd382",
   "metadata": {},
   "outputs": [
    {
     "name": "stdout",
     "output_type": "stream",
     "text": [
      "              precision    recall  f1-score   support\n",
      "\n",
      "           F       0.73      0.75      0.74      2723\n",
      "           M       0.76      0.74      0.75      2877\n",
      "\n",
      "    accuracy                           0.75      5600\n",
      "   macro avg       0.75      0.75      0.75      5600\n",
      "weighted avg       0.75      0.75      0.75      5600\n",
      "\n"
     ]
    }
   ],
   "source": [
    "from sklearn.metrics import classification_report\n",
    "report = classification_report(y_test, y_test_p)\n",
    "print(report)"
   ]
  },
  {
   "cell_type": "code",
   "execution_count": null,
   "id": "ed43e7e0",
   "metadata": {},
   "outputs": [],
   "source": []
  },
  {
   "cell_type": "markdown",
   "id": "a374f6df",
   "metadata": {},
   "source": [
    "# ADABOOST - LOGISTIC REGRESSION"
   ]
  },
  {
   "cell_type": "code",
   "execution_count": 34,
   "id": "05b03f7e",
   "metadata": {},
   "outputs": [
    {
     "name": "stdout",
     "output_type": "stream",
     "text": [
      "AdaBoost Training Score: 73.45%\n",
      "AdaBoost Test Score: 74.12%\n"
     ]
    }
   ],
   "source": [
    "from sklearn.ensemble import AdaBoostClassifier\n",
    "\n",
    "pipe_lra = Pipeline([ \n",
    "    (\"feature_engineering\", MyFeatures()),\n",
    "    # (\"selector_new\", FeatureSelector([\"daily_trend\"])),\n",
    "    (\"ohe\", OneHotEncoder(handle_unknown=\"ignore\")),\n",
    "    (\"adaboost\", AdaBoostClassifier(estimator=LogisticRegression(), n_estimators=500, learning_rate=0.1, random_state=1))\n",
    "])\n",
    "\n",
    "ada = pipe_lra.fit(X_train, y_train)\n",
    "ada_train_predict = ada.predict(X_train)\n",
    "ada_test_predict = ada.predict(X_test)\n",
    "\n",
    "ada_train_score_lr = accuracy_score(y_train, ada_train_predict)\n",
    "ada_test_score_lr = accuracy_score(y_test, ada_test_predict)\n",
    "\n",
    "print(f'AdaBoost Training Score: {ada_train_score_lr:.2%}')\n",
    "print(f'AdaBoost Test Score: {ada_test_score_lr:.2%}')"
   ]
  },
  {
   "cell_type": "markdown",
   "id": "0f98a006",
   "metadata": {},
   "source": [
    "# GRID SEARCH CV - LOGISTIC REGRESSION"
   ]
  },
  {
   "cell_type": "code",
   "execution_count": 35,
   "id": "5943ea07",
   "metadata": {},
   "outputs": [
    {
     "name": "stdout",
     "output_type": "stream",
     "text": [
      "Validation score: 74.24%\n",
      "Test score: 74.68%\n"
     ]
    }
   ],
   "source": [
    "from sklearn.linear_model import LogisticRegression\n",
    "from sklearn.model_selection import GridSearchCV\n",
    "from sklearn.pipeline import Pipeline\n",
    "\n",
    "p1 = Pipeline([(\"feature_engineering\", MyFeatures()),\n",
    "    # (\"selector_new\", FeatureSelector([\"daily_trend\"])),\n",
    "               (\"ohe\", OneHotEncoder(handle_unknown=\"ignore\")),\n",
    "               ('lr', LogisticRegression(solver='liblinear'))\n",
    "])\n",
    "\n",
    "params = {'lr__C': [0.01, 0.1, 1, 10]}\n",
    "\n",
    "lr_gscv = GridSearchCV(p1, param_grid=params, cv=10, scoring='accuracy', refit=True)\n",
    "lr_gscv = lr_gscv.fit(X_train, y_train)\n",
    "\n",
    "print(f'Validation score: {lr_gscv.best_score_:.2%}')\n",
    "\n",
    "lr_pred = lr_gscv.predict(X_test)\n",
    "\n",
    "print(f'Test score: {lr_gscv.score(X_test, y_test):.2%}')"
   ]
  },
  {
   "cell_type": "markdown",
   "id": "1118e7b8",
   "metadata": {},
   "source": [
    "# GRID SEARCH CV - DECISION TREE"
   ]
  },
  {
   "cell_type": "code",
   "execution_count": 36,
   "id": "6ab6aa7f",
   "metadata": {},
   "outputs": [
    {
     "name": "stdout",
     "output_type": "stream",
     "text": [
      "Validation score: 74.36%\n",
      "Test score: 74.98%\n"
     ]
    }
   ],
   "source": [
    "from sklearn.tree import DecisionTreeClassifier\n",
    "from sklearn.model_selection import GridSearchCV\n",
    "from sklearn.pipeline import Pipeline\n",
    "\n",
    "p2 = Pipeline([(\"feature_engineering\", MyFeatures()),\n",
    "    # (\"selector_new\", FeatureSelector([\"daily_trend\"])),\n",
    "            (\"ohe\", OneHotEncoder(handle_unknown=\"ignore\")),\n",
    "             ('dt', DecisionTreeClassifier())])\n",
    "\n",
    "params = {'dt__max_depth': [1, 5, 10, 15, 25],\n",
    "         'dt__min_samples_split': [3, 10, 15]}\n",
    "\n",
    "dt_gscv = GridSearchCV(p2, param_grid=params, cv=10, scoring='accuracy', refit=True)\n",
    "dt_gscv = dt_gscv.fit(X_train, y_train)\n",
    "\n",
    "print(f'Validation score: {dt_gscv.best_score_:.2%}')\n",
    "\n",
    "dt_pred = dt_gscv.predict(X_test)\n",
    "\n",
    "print(f'Test score: {dt_gscv.score(X_test, y_test):.2%}')"
   ]
  },
  {
   "cell_type": "markdown",
   "id": "5b84d144",
   "metadata": {},
   "source": [
    "# GRADIENT BOOSTING CLASSIFIER"
   ]
  },
  {
   "cell_type": "code",
   "execution_count": 37,
   "id": "becbc99d",
   "metadata": {},
   "outputs": [
    {
     "name": "stdout",
     "output_type": "stream",
     "text": [
      "Validation score: 74.27%\n",
      "Test score: 74.80%\n"
     ]
    }
   ],
   "source": [
    "from sklearn.ensemble import GradientBoostingClassifier\n",
    "from sklearn.model_selection import GridSearchCV\n",
    "from sklearn.pipeline import Pipeline\n",
    "\n",
    "p3 = Pipeline([(\"feature_engineering\", MyFeatures()),\n",
    "    # (\"selector_new\", FeatureSelector([\"daily_trend\"])),\n",
    "            (\"ohe\", OneHotEncoder(handle_unknown=\"ignore\")),\n",
    "             ('gb', GradientBoostingClassifier())])\n",
    "\n",
    "params = {'gb__max_depth': [1,2,3],\n",
    "          'gb__n_estimators': [50, 100, 200]\n",
    "         }\n",
    "\n",
    "gb_gscv = GridSearchCV(p3, param_grid = params, cv=10, scoring='accuracy')\n",
    "           \n",
    "gb_gscv = gb_gscv.fit(X_train, y_train)\n",
    "\n",
    "print(f'Validation score: {gb_gscv.best_score_:.2%}')\n",
    "\n",
    "gb_pred = gb_gscv.predict(X_test)\n",
    "\n",
    "print(f'Test score: {gb_gscv.score(X_test, y_test):.2%}')"
   ]
  },
  {
   "cell_type": "markdown",
   "id": "3ec05bfa",
   "metadata": {},
   "source": [
    "# COMPARISON OF MODELS OF TRAINING DATA"
   ]
  },
  {
   "cell_type": "code",
   "execution_count": 38,
   "id": "315fe2b7",
   "metadata": {},
   "outputs": [
    {
     "name": "stdout",
     "output_type": "stream",
     "text": [
      "Accuracy of all models for the training dataset\n"
     ]
    },
    {
     "data": {
      "text/html": [
       "<div>\n",
       "<style scoped>\n",
       "    .dataframe tbody tr th:only-of-type {\n",
       "        vertical-align: middle;\n",
       "    }\n",
       "\n",
       "    .dataframe tbody tr th {\n",
       "        vertical-align: top;\n",
       "    }\n",
       "\n",
       "    .dataframe thead th {\n",
       "        text-align: right;\n",
       "    }\n",
       "</style>\n",
       "<table border=\"1\" class=\"dataframe\">\n",
       "  <thead>\n",
       "    <tr style=\"text-align: right;\">\n",
       "      <th></th>\n",
       "      <th>Score</th>\n",
       "      <th>Model</th>\n",
       "    </tr>\n",
       "  </thead>\n",
       "  <tbody>\n",
       "    <tr>\n",
       "      <th>0</th>\n",
       "      <td>0.749766</td>\n",
       "      <td>Boosting Decision Tree</td>\n",
       "    </tr>\n",
       "    <tr>\n",
       "      <th>1</th>\n",
       "      <td>0.749319</td>\n",
       "      <td>Bagging Decision Tree</td>\n",
       "    </tr>\n",
       "    <tr>\n",
       "      <th>2</th>\n",
       "      <td>0.742980</td>\n",
       "      <td>Bagging Logistic Regression</td>\n",
       "    </tr>\n",
       "    <tr>\n",
       "      <th>3</th>\n",
       "      <td>0.734497</td>\n",
       "      <td>Boosting Logistic Regression</td>\n",
       "    </tr>\n",
       "  </tbody>\n",
       "</table>\n",
       "</div>"
      ],
      "text/plain": [
       "      Score                         Model\n",
       "0  0.749766        Boosting Decision Tree\n",
       "1  0.749319         Bagging Decision Tree\n",
       "2  0.742980   Bagging Logistic Regression\n",
       "3  0.734497  Boosting Logistic Regression"
      ]
     },
     "execution_count": 38,
     "metadata": {},
     "output_type": "execute_result"
    }
   ],
   "source": [
    "# Compare Several models according to their Accuracies\n",
    "print('Accuracy of all models for the training dataset')\n",
    "\n",
    "Model_Comparison_train = pd.DataFrame({\n",
    "    'Model': ['Bagging Decision Tree','Boosting Decision Tree','Bagging Logistic Regression','Boosting Logistic Regression'],\n",
    "    'Score': [dt_train_accuracy, ada_train_score, lr_train_accuracy,ada_train_score_lr]})\n",
    "\n",
    "Model_Comparison_df = Model_Comparison_train.sort_values(by='Score', ascending=False)\n",
    "Model_Comparison_df = Model_Comparison_df.set_index('Score')\n",
    "Model_Comparison_df.reset_index()"
   ]
  },
  {
   "cell_type": "markdown",
   "id": "b8a12512",
   "metadata": {},
   "source": [
    "# COMPARISON OF MODELS OF TESTING DATA"
   ]
  },
  {
   "cell_type": "code",
   "execution_count": 39,
   "id": "75623b3f",
   "metadata": {},
   "outputs": [
    {
     "name": "stdout",
     "output_type": "stream",
     "text": [
      "Accuracy of all models for the testing dataset\n"
     ]
    },
    {
     "data": {
      "text/html": [
       "<div>\n",
       "<style scoped>\n",
       "    .dataframe tbody tr th:only-of-type {\n",
       "        vertical-align: middle;\n",
       "    }\n",
       "\n",
       "    .dataframe tbody tr th {\n",
       "        vertical-align: top;\n",
       "    }\n",
       "\n",
       "    .dataframe thead th {\n",
       "        text-align: right;\n",
       "    }\n",
       "</style>\n",
       "<table border=\"1\" class=\"dataframe\">\n",
       "  <thead>\n",
       "    <tr style=\"text-align: right;\">\n",
       "      <th></th>\n",
       "      <th>Score</th>\n",
       "      <th>Model</th>\n",
       "    </tr>\n",
       "  </thead>\n",
       "  <tbody>\n",
       "    <tr>\n",
       "      <th>0</th>\n",
       "      <td>0.749286</td>\n",
       "      <td>Boosting Decision Tree</td>\n",
       "    </tr>\n",
       "    <tr>\n",
       "      <th>1</th>\n",
       "      <td>0.746964</td>\n",
       "      <td>Bagging Decision Tree</td>\n",
       "    </tr>\n",
       "    <tr>\n",
       "      <th>2</th>\n",
       "      <td>0.746786</td>\n",
       "      <td>Bagging Logistic Regression</td>\n",
       "    </tr>\n",
       "    <tr>\n",
       "      <th>3</th>\n",
       "      <td>0.741250</td>\n",
       "      <td>Boosting Logistic Regression</td>\n",
       "    </tr>\n",
       "  </tbody>\n",
       "</table>\n",
       "</div>"
      ],
      "text/plain": [
       "      Score                         Model\n",
       "0  0.749286        Boosting Decision Tree\n",
       "1  0.746964         Bagging Decision Tree\n",
       "2  0.746786   Bagging Logistic Regression\n",
       "3  0.741250  Boosting Logistic Regression"
      ]
     },
     "execution_count": 39,
     "metadata": {},
     "output_type": "execute_result"
    }
   ],
   "source": [
    "# Compare Several models according to their Accuracies\n",
    "print('Accuracy of all models for the testing dataset')\n",
    "\n",
    "Model_Comparison_test = pd.DataFrame({\n",
    "    'Model': ['Bagging Decision Tree','Boosting Decision Tree','Bagging Logistic Regression','Boosting Logistic Regression'],\n",
    "    'Score': [dt_test_accuracy, ada_test_score, lr_test_accuracy,ada_test_score_lr]})\n",
    "\n",
    "Model_Comparison_df = Model_Comparison_test.sort_values(by='Score', ascending=False)\n",
    "Model_Comparison_df = Model_Comparison_df.set_index('Score')\n",
    "Model_Comparison_df.reset_index()"
   ]
  },
  {
   "cell_type": "markdown",
   "id": "0d768b02",
   "metadata": {},
   "source": [
    "**I have implemented Bagging and Boosting classifiers for Decision Tree and Logistic Regression. I have also implemented Grid Search CV for logistic regression and decision tree. Gradient Boosting Classifier is also implemented. The accuracies of logistic regression and decision tree 75 both respectively.**"
   ]
  },
  {
   "cell_type": "code",
   "execution_count": null,
   "id": "60cdee3f",
   "metadata": {},
   "outputs": [],
   "source": []
  }
 ],
 "metadata": {
  "kernelspec": {
   "display_name": "Python 3",
   "language": "python",
   "name": "python3"
  },
  "language_info": {
   "codemirror_mode": {
    "name": "ipython",
    "version": 3
   },
   "file_extension": ".py",
   "mimetype": "text/x-python",
   "name": "python",
   "nbconvert_exporter": "python",
   "pygments_lexer": "ipython3",
   "version": "3.8.8"
  },
  "toc": {
   "base_numbering": 1,
   "nav_menu": {},
   "number_sections": false,
   "sideBar": true,
   "skip_h1_title": false,
   "title_cell": "Table of Contents",
   "title_sidebar": "Contents",
   "toc_cell": false,
   "toc_position": {},
   "toc_section_display": true,
   "toc_window_display": true
  }
 },
 "nbformat": 4,
 "nbformat_minor": 5
}
