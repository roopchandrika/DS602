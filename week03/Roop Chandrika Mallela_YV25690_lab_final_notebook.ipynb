{
 "cells": [
  {
   "cell_type": "markdown",
   "id": "57771d6f",
   "metadata": {},
   "source": [
    "# Week 3 - Lab"
   ]
  },
  {
   "cell_type": "markdown",
   "id": "ccb647fd",
   "metadata": {},
   "source": [
    "## Part1: \n",
    "#### Explain briefly (1-2 sentences) "
   ]
  },
  {
   "cell_type": "markdown",
   "id": "1d4ce05f",
   "metadata": {},
   "source": [
    "1. Differences between supervised and unsupervised learning?  \n"
   ]
  },
  {
   "cell_type": "markdown",
   "id": "03e12e71",
   "metadata": {},
   "source": [
    "**For supervised learning, labelled data is used in which both the input and target output is known.\n",
    "For unsupervised learning, unlabelled data is used in which input is known and target output is unknown.**"
   ]
  },
  {
   "cell_type": "markdown",
   "id": "ff70d958",
   "metadata": {},
   "source": [
    "2. Differences between classification and regression?  "
   ]
  },
  {
   "cell_type": "markdown",
   "id": "8a7b813d",
   "metadata": {},
   "source": [
    "**If the output is continuous, regression model is used whereas if the output is categorical, classification is used.**"
   ]
  },
  {
   "cell_type": "markdown",
   "id": "d99b1c51",
   "metadata": {},
   "source": [
    "3. Classification and regression are the only types of supervised learning? "
   ]
  },
  {
   "cell_type": "markdown",
   "id": "dc69142e",
   "metadata": {},
   "source": [
    "**Yes, classification and regression are the only types of supervised learning.**\n"
   ]
  },
  {
   "cell_type": "markdown",
   "id": "2dddc898",
   "metadata": {},
   "source": [
    "## Part2\n",
    "\n",
    "#### Write a rule based predictor. \n",
    "Do your EDA and complete `predict_one` function below.\n",
    "Your model does not need to be perfect!\n",
    "\n",
    "* Don't use a machine learning model"
   ]
  },
  {
   "cell_type": "code",
   "execution_count": 1,
   "id": "76611fb3",
   "metadata": {},
   "outputs": [
    {
     "name": "stdout",
     "output_type": "stream",
     "text": [
      "<class 'pandas.core.frame.DataFrame'>\n",
      "RangeIndex: 150 entries, 0 to 149\n",
      "Data columns (total 5 columns):\n",
      " #   Column        Non-Null Count  Dtype  \n",
      "---  ------        --------------  -----  \n",
      " 0   sepal_length  150 non-null    float64\n",
      " 1   sepal_width   150 non-null    float64\n",
      " 2   petal_length  150 non-null    float64\n",
      " 3   petal_width   150 non-null    float64\n",
      " 4   species       150 non-null    object \n",
      "dtypes: float64(4), object(1)\n",
      "memory usage: 6.0+ KB\n"
     ]
    }
   ],
   "source": [
    "import pandas as pd\n",
    "import numpy as np\n",
    "from matplotlib import pyplot as plt\n",
    "\n",
    "df = pd.read_csv('https://raw.githubusercontent.com/msaricaumbc/DS_data/master/ds602/iris.csv')\n",
    "df.info()"
   ]
  },
  {
   "cell_type": "code",
   "execution_count": 2,
   "id": "3939e20f",
   "metadata": {},
   "outputs": [
    {
     "data": {
      "text/plain": [
       "Iris-virginica     50\n",
       "Iris-versicolor    50\n",
       "Iris-setosa        50\n",
       "Name: species, dtype: int64"
      ]
     },
     "execution_count": 2,
     "metadata": {},
     "output_type": "execute_result"
    }
   ],
   "source": [
    "df.species.value_counts()"
   ]
  },
  {
   "cell_type": "code",
   "execution_count": 3,
   "id": "0b8b62a7",
   "metadata": {},
   "outputs": [
    {
     "data": {
      "text/html": [
       "<div>\n",
       "<style scoped>\n",
       "    .dataframe tbody tr th:only-of-type {\n",
       "        vertical-align: middle;\n",
       "    }\n",
       "\n",
       "    .dataframe tbody tr th {\n",
       "        vertical-align: top;\n",
       "    }\n",
       "\n",
       "    .dataframe thead th {\n",
       "        text-align: right;\n",
       "    }\n",
       "</style>\n",
       "<table border=\"1\" class=\"dataframe\">\n",
       "  <thead>\n",
       "    <tr style=\"text-align: right;\">\n",
       "      <th></th>\n",
       "      <th>sepal_length</th>\n",
       "      <th>sepal_width</th>\n",
       "      <th>petal_length</th>\n",
       "      <th>petal_width</th>\n",
       "    </tr>\n",
       "  </thead>\n",
       "  <tbody>\n",
       "    <tr>\n",
       "      <th>count</th>\n",
       "      <td>150.000000</td>\n",
       "      <td>150.000000</td>\n",
       "      <td>150.000000</td>\n",
       "      <td>150.000000</td>\n",
       "    </tr>\n",
       "    <tr>\n",
       "      <th>mean</th>\n",
       "      <td>5.843333</td>\n",
       "      <td>3.054000</td>\n",
       "      <td>3.758667</td>\n",
       "      <td>1.198667</td>\n",
       "    </tr>\n",
       "    <tr>\n",
       "      <th>std</th>\n",
       "      <td>0.828066</td>\n",
       "      <td>0.433594</td>\n",
       "      <td>1.764420</td>\n",
       "      <td>0.763161</td>\n",
       "    </tr>\n",
       "    <tr>\n",
       "      <th>min</th>\n",
       "      <td>4.300000</td>\n",
       "      <td>2.000000</td>\n",
       "      <td>1.000000</td>\n",
       "      <td>0.100000</td>\n",
       "    </tr>\n",
       "    <tr>\n",
       "      <th>25%</th>\n",
       "      <td>5.100000</td>\n",
       "      <td>2.800000</td>\n",
       "      <td>1.600000</td>\n",
       "      <td>0.300000</td>\n",
       "    </tr>\n",
       "    <tr>\n",
       "      <th>50%</th>\n",
       "      <td>5.800000</td>\n",
       "      <td>3.000000</td>\n",
       "      <td>4.350000</td>\n",
       "      <td>1.300000</td>\n",
       "    </tr>\n",
       "    <tr>\n",
       "      <th>75%</th>\n",
       "      <td>6.400000</td>\n",
       "      <td>3.300000</td>\n",
       "      <td>5.100000</td>\n",
       "      <td>1.800000</td>\n",
       "    </tr>\n",
       "    <tr>\n",
       "      <th>max</th>\n",
       "      <td>7.900000</td>\n",
       "      <td>4.400000</td>\n",
       "      <td>6.900000</td>\n",
       "      <td>2.500000</td>\n",
       "    </tr>\n",
       "  </tbody>\n",
       "</table>\n",
       "</div>"
      ],
      "text/plain": [
       "       sepal_length  sepal_width  petal_length  petal_width\n",
       "count    150.000000   150.000000    150.000000   150.000000\n",
       "mean       5.843333     3.054000      3.758667     1.198667\n",
       "std        0.828066     0.433594      1.764420     0.763161\n",
       "min        4.300000     2.000000      1.000000     0.100000\n",
       "25%        5.100000     2.800000      1.600000     0.300000\n",
       "50%        5.800000     3.000000      4.350000     1.300000\n",
       "75%        6.400000     3.300000      5.100000     1.800000\n",
       "max        7.900000     4.400000      6.900000     2.500000"
      ]
     },
     "execution_count": 3,
     "metadata": {},
     "output_type": "execute_result"
    }
   ],
   "source": [
    "df.describe()"
   ]
  },
  {
   "cell_type": "code",
   "execution_count": 4,
   "id": "cf4df828",
   "metadata": {},
   "outputs": [
    {
     "data": {
      "text/html": [
       "<div>\n",
       "<style scoped>\n",
       "    .dataframe tbody tr th:only-of-type {\n",
       "        vertical-align: middle;\n",
       "    }\n",
       "\n",
       "    .dataframe tbody tr th {\n",
       "        vertical-align: top;\n",
       "    }\n",
       "\n",
       "    .dataframe thead th {\n",
       "        text-align: right;\n",
       "    }\n",
       "</style>\n",
       "<table border=\"1\" class=\"dataframe\">\n",
       "  <thead>\n",
       "    <tr style=\"text-align: right;\">\n",
       "      <th></th>\n",
       "      <th>sepal_length</th>\n",
       "      <th>sepal_width</th>\n",
       "      <th>petal_length</th>\n",
       "      <th>petal_width</th>\n",
       "      <th>species</th>\n",
       "    </tr>\n",
       "  </thead>\n",
       "  <tbody>\n",
       "    <tr>\n",
       "      <th>0</th>\n",
       "      <td>5.1</td>\n",
       "      <td>3.5</td>\n",
       "      <td>1.4</td>\n",
       "      <td>0.2</td>\n",
       "      <td>Iris-setosa</td>\n",
       "    </tr>\n",
       "    <tr>\n",
       "      <th>1</th>\n",
       "      <td>4.9</td>\n",
       "      <td>3.0</td>\n",
       "      <td>1.4</td>\n",
       "      <td>0.2</td>\n",
       "      <td>Iris-setosa</td>\n",
       "    </tr>\n",
       "    <tr>\n",
       "      <th>2</th>\n",
       "      <td>4.7</td>\n",
       "      <td>3.2</td>\n",
       "      <td>1.3</td>\n",
       "      <td>0.2</td>\n",
       "      <td>Iris-setosa</td>\n",
       "    </tr>\n",
       "    <tr>\n",
       "      <th>3</th>\n",
       "      <td>4.6</td>\n",
       "      <td>3.1</td>\n",
       "      <td>1.5</td>\n",
       "      <td>0.2</td>\n",
       "      <td>Iris-setosa</td>\n",
       "    </tr>\n",
       "    <tr>\n",
       "      <th>4</th>\n",
       "      <td>5.0</td>\n",
       "      <td>3.6</td>\n",
       "      <td>1.4</td>\n",
       "      <td>0.2</td>\n",
       "      <td>Iris-setosa</td>\n",
       "    </tr>\n",
       "  </tbody>\n",
       "</table>\n",
       "</div>"
      ],
      "text/plain": [
       "   sepal_length  sepal_width  petal_length  petal_width      species\n",
       "0           5.1          3.5           1.4          0.2  Iris-setosa\n",
       "1           4.9          3.0           1.4          0.2  Iris-setosa\n",
       "2           4.7          3.2           1.3          0.2  Iris-setosa\n",
       "3           4.6          3.1           1.5          0.2  Iris-setosa\n",
       "4           5.0          3.6           1.4          0.2  Iris-setosa"
      ]
     },
     "execution_count": 4,
     "metadata": {},
     "output_type": "execute_result"
    }
   ],
   "source": [
    "df.head()"
   ]
  },
  {
   "cell_type": "code",
   "execution_count": 5,
   "id": "a8e7fefd",
   "metadata": {},
   "outputs": [
    {
     "data": {
      "text/plain": [
       "Index(['sepal_length', 'sepal_width', 'petal_length', 'petal_width',\n",
       "       'species'],\n",
       "      dtype='object')"
      ]
     },
     "execution_count": 5,
     "metadata": {},
     "output_type": "execute_result"
    }
   ],
   "source": [
    "df.columns"
   ]
  },
  {
   "cell_type": "code",
   "execution_count": 6,
   "id": "aad61772",
   "metadata": {},
   "outputs": [
    {
     "data": {
      "text/plain": [
       "sepal_length    0\n",
       "sepal_width     0\n",
       "petal_length    0\n",
       "petal_width     0\n",
       "species         0\n",
       "dtype: int64"
      ]
     },
     "execution_count": 6,
     "metadata": {},
     "output_type": "execute_result"
    }
   ],
   "source": [
    "df.isnull().sum()"
   ]
  },
  {
   "cell_type": "code",
   "execution_count": 7,
   "id": "76629825",
   "metadata": {},
   "outputs": [
    {
     "data": {
      "text/html": [
       "<div>\n",
       "<style scoped>\n",
       "    .dataframe tbody tr th:only-of-type {\n",
       "        vertical-align: middle;\n",
       "    }\n",
       "\n",
       "    .dataframe tbody tr th {\n",
       "        vertical-align: top;\n",
       "    }\n",
       "\n",
       "    .dataframe thead th {\n",
       "        text-align: right;\n",
       "    }\n",
       "</style>\n",
       "<table border=\"1\" class=\"dataframe\">\n",
       "  <thead>\n",
       "    <tr style=\"text-align: right;\">\n",
       "      <th></th>\n",
       "      <th>sepal_length</th>\n",
       "      <th>sepal_width</th>\n",
       "      <th>petal_length</th>\n",
       "      <th>petal_width</th>\n",
       "    </tr>\n",
       "  </thead>\n",
       "  <tbody>\n",
       "    <tr>\n",
       "      <th>sepal_length</th>\n",
       "      <td>1.000000</td>\n",
       "      <td>-0.109369</td>\n",
       "      <td>0.871754</td>\n",
       "      <td>0.817954</td>\n",
       "    </tr>\n",
       "    <tr>\n",
       "      <th>sepal_width</th>\n",
       "      <td>-0.109369</td>\n",
       "      <td>1.000000</td>\n",
       "      <td>-0.420516</td>\n",
       "      <td>-0.356544</td>\n",
       "    </tr>\n",
       "    <tr>\n",
       "      <th>petal_length</th>\n",
       "      <td>0.871754</td>\n",
       "      <td>-0.420516</td>\n",
       "      <td>1.000000</td>\n",
       "      <td>0.962757</td>\n",
       "    </tr>\n",
       "    <tr>\n",
       "      <th>petal_width</th>\n",
       "      <td>0.817954</td>\n",
       "      <td>-0.356544</td>\n",
       "      <td>0.962757</td>\n",
       "      <td>1.000000</td>\n",
       "    </tr>\n",
       "  </tbody>\n",
       "</table>\n",
       "</div>"
      ],
      "text/plain": [
       "              sepal_length  sepal_width  petal_length  petal_width\n",
       "sepal_length      1.000000    -0.109369      0.871754     0.817954\n",
       "sepal_width      -0.109369     1.000000     -0.420516    -0.356544\n",
       "petal_length      0.871754    -0.420516      1.000000     0.962757\n",
       "petal_width       0.817954    -0.356544      0.962757     1.000000"
      ]
     },
     "execution_count": 7,
     "metadata": {},
     "output_type": "execute_result"
    }
   ],
   "source": [
    "df.corr()"
   ]
  },
  {
   "cell_type": "markdown",
   "id": "e2842b24",
   "metadata": {},
   "source": [
    "### Bar plot between sepal_length and species"
   ]
  },
  {
   "cell_type": "code",
   "execution_count": 8,
   "id": "2c4480dd",
   "metadata": {},
   "outputs": [
    {
     "data": {
      "image/png": "[encoded data removed]",
      "text/plain": [
       "<Figure size 432x288 with 1 Axes>"
      ]
     },
     "metadata": {
      "needs_background": "light"
     },
     "output_type": "display_data"
    }
   ],
   "source": [
    "plt.bar('species','sepal_length',data=df)\n",
    "plt.show()"
   ]
  },
  {
   "cell_type": "markdown",
   "id": "a1a857ac",
   "metadata": {},
   "source": [
    "### Bar plot between sepal_width and species"
   ]
  },
  {
   "cell_type": "code",
   "execution_count": 9,
   "id": "d3837591",
   "metadata": {},
   "outputs": [
    {
     "data": {
      "image/png": "[encoded data removed]",
      "text/plain": [
       "<Figure size 432x288 with 1 Axes>"
      ]
     },
     "metadata": {
      "needs_background": "light"
     },
     "output_type": "display_data"
    }
   ],
   "source": [
    "plt.bar('species','sepal_width',data=df)\n",
    "plt.show()"
   ]
  },
  {
   "cell_type": "markdown",
   "id": "8bdfaa07",
   "metadata": {},
   "source": [
    "### Bar plot between petal_length and species"
   ]
  },
  {
   "cell_type": "code",
   "execution_count": 10,
   "id": "5a3d76c3",
   "metadata": {},
   "outputs": [
    {
     "data": {
      "image/png": "[encoded data removed]",
      "text/plain": [
       "<Figure size 432x288 with 1 Axes>"
      ]
     },
     "metadata": {
      "needs_background": "light"
     },
     "output_type": "display_data"
    }
   ],
   "source": [
    "plt.bar('species','petal_length',data=df)\n",
    "plt.show()"
   ]
  },
  {
   "cell_type": "markdown",
   "id": "6b9d44b6",
   "metadata": {},
   "source": [
    "### Bar plot between petal_width and species"
   ]
  },
  {
   "cell_type": "code",
   "execution_count": 11,
   "id": "1c00db1e",
   "metadata": {},
   "outputs": [
    {
     "data": {
      "image/png": "[encoded data removed]",
      "text/plain": [
       "<Figure size 432x288 with 1 Axes>"
      ]
     },
     "metadata": {
      "needs_background": "light"
     },
     "output_type": "display_data"
    }
   ],
   "source": [
    "plt.bar('species','petal_width',data=df)\n",
    "plt.show()"
   ]
  },
  {
   "cell_type": "code",
   "execution_count": 12,
   "id": "0078b425",
   "metadata": {},
   "outputs": [
    {
     "data": {
      "text/html": [
       "<div>\n",
       "<style scoped>\n",
       "    .dataframe tbody tr th:only-of-type {\n",
       "        vertical-align: middle;\n",
       "    }\n",
       "\n",
       "    .dataframe tbody tr th {\n",
       "        vertical-align: top;\n",
       "    }\n",
       "\n",
       "    .dataframe thead th {\n",
       "        text-align: right;\n",
       "    }\n",
       "</style>\n",
       "<table border=\"1\" class=\"dataframe\">\n",
       "  <thead>\n",
       "    <tr style=\"text-align: right;\">\n",
       "      <th></th>\n",
       "      <th>sepal_length</th>\n",
       "      <th>sepal_width</th>\n",
       "      <th>petal_length</th>\n",
       "      <th>petal_width</th>\n",
       "    </tr>\n",
       "  </thead>\n",
       "  <tbody>\n",
       "    <tr>\n",
       "      <th>min</th>\n",
       "      <td>4.3</td>\n",
       "      <td>2.0</td>\n",
       "      <td>1.0</td>\n",
       "      <td>0.1</td>\n",
       "    </tr>\n",
       "    <tr>\n",
       "      <th>max</th>\n",
       "      <td>7.9</td>\n",
       "      <td>4.4</td>\n",
       "      <td>6.9</td>\n",
       "      <td>2.5</td>\n",
       "    </tr>\n",
       "  </tbody>\n",
       "</table>\n",
       "</div>"
      ],
      "text/plain": [
       "     sepal_length  sepal_width  petal_length  petal_width\n",
       "min           4.3          2.0           1.0          0.1\n",
       "max           7.9          4.4           6.9          2.5"
      ]
     },
     "execution_count": 12,
     "metadata": {},
     "output_type": "execute_result"
    }
   ],
   "source": [
    "df.describe().loc[['min','max']]"
   ]
  },
  {
   "cell_type": "code",
   "execution_count": 13,
   "id": "44d2a22b",
   "metadata": {},
   "outputs": [
    {
     "data": {
      "text/html": [
       "<div>\n",
       "<style scoped>\n",
       "    .dataframe tbody tr th:only-of-type {\n",
       "        vertical-align: middle;\n",
       "    }\n",
       "\n",
       "    .dataframe tbody tr th {\n",
       "        vertical-align: top;\n",
       "    }\n",
       "\n",
       "    .dataframe thead th {\n",
       "        text-align: right;\n",
       "    }\n",
       "</style>\n",
       "<table border=\"1\" class=\"dataframe\">\n",
       "  <thead>\n",
       "    <tr style=\"text-align: right;\">\n",
       "      <th></th>\n",
       "      <th>sepal_length</th>\n",
       "      <th>sepal_width</th>\n",
       "      <th>petal_length</th>\n",
       "      <th>petal_width</th>\n",
       "    </tr>\n",
       "    <tr>\n",
       "      <th>species</th>\n",
       "      <th></th>\n",
       "      <th></th>\n",
       "      <th></th>\n",
       "      <th></th>\n",
       "    </tr>\n",
       "  </thead>\n",
       "  <tbody>\n",
       "    <tr>\n",
       "      <th>Iris-setosa</th>\n",
       "      <td>5.8</td>\n",
       "      <td>4.4</td>\n",
       "      <td>1.9</td>\n",
       "      <td>0.6</td>\n",
       "    </tr>\n",
       "    <tr>\n",
       "      <th>Iris-versicolor</th>\n",
       "      <td>7.0</td>\n",
       "      <td>3.4</td>\n",
       "      <td>5.1</td>\n",
       "      <td>1.8</td>\n",
       "    </tr>\n",
       "    <tr>\n",
       "      <th>Iris-virginica</th>\n",
       "      <td>7.9</td>\n",
       "      <td>3.8</td>\n",
       "      <td>6.9</td>\n",
       "      <td>2.5</td>\n",
       "    </tr>\n",
       "  </tbody>\n",
       "</table>\n",
       "</div>"
      ],
      "text/plain": [
       "                 sepal_length  sepal_width  petal_length  petal_width\n",
       "species                                                              \n",
       "Iris-setosa               5.8          4.4           1.9          0.6\n",
       "Iris-versicolor           7.0          3.4           5.1          1.8\n",
       "Iris-virginica            7.9          3.8           6.9          2.5"
      ]
     },
     "execution_count": 13,
     "metadata": {},
     "output_type": "execute_result"
    }
   ],
   "source": [
    "df.groupby('species').max()"
   ]
  },
  {
   "cell_type": "code",
   "execution_count": 14,
   "id": "a8dfea81",
   "metadata": {},
   "outputs": [
    {
     "data": {
      "text/html": [
       "<div>\n",
       "<style scoped>\n",
       "    .dataframe tbody tr th:only-of-type {\n",
       "        vertical-align: middle;\n",
       "    }\n",
       "\n",
       "    .dataframe tbody tr th {\n",
       "        vertical-align: top;\n",
       "    }\n",
       "\n",
       "    .dataframe thead th {\n",
       "        text-align: right;\n",
       "    }\n",
       "</style>\n",
       "<table border=\"1\" class=\"dataframe\">\n",
       "  <thead>\n",
       "    <tr style=\"text-align: right;\">\n",
       "      <th></th>\n",
       "      <th>sepal_length</th>\n",
       "      <th>sepal_width</th>\n",
       "      <th>petal_length</th>\n",
       "      <th>petal_width</th>\n",
       "    </tr>\n",
       "    <tr>\n",
       "      <th>species</th>\n",
       "      <th></th>\n",
       "      <th></th>\n",
       "      <th></th>\n",
       "      <th></th>\n",
       "    </tr>\n",
       "  </thead>\n",
       "  <tbody>\n",
       "    <tr>\n",
       "      <th>Iris-setosa</th>\n",
       "      <td>4.3</td>\n",
       "      <td>2.3</td>\n",
       "      <td>1.0</td>\n",
       "      <td>0.1</td>\n",
       "    </tr>\n",
       "    <tr>\n",
       "      <th>Iris-versicolor</th>\n",
       "      <td>4.9</td>\n",
       "      <td>2.0</td>\n",
       "      <td>3.0</td>\n",
       "      <td>1.0</td>\n",
       "    </tr>\n",
       "    <tr>\n",
       "      <th>Iris-virginica</th>\n",
       "      <td>4.9</td>\n",
       "      <td>2.2</td>\n",
       "      <td>4.5</td>\n",
       "      <td>1.4</td>\n",
       "    </tr>\n",
       "  </tbody>\n",
       "</table>\n",
       "</div>"
      ],
      "text/plain": [
       "                 sepal_length  sepal_width  petal_length  petal_width\n",
       "species                                                              \n",
       "Iris-setosa               4.3          2.3           1.0          0.1\n",
       "Iris-versicolor           4.9          2.0           3.0          1.0\n",
       "Iris-virginica            4.9          2.2           4.5          1.4"
      ]
     },
     "execution_count": 14,
     "metadata": {},
     "output_type": "execute_result"
    }
   ],
   "source": [
    "df.groupby('species').min()"
   ]
  },
  {
   "cell_type": "markdown",
   "id": "2150cbee",
   "metadata": {},
   "source": [
    "### Predict one method for sepal_length"
   ]
  },
  {
   "cell_type": "code",
   "execution_count": 15,
   "id": "1187a50c",
   "metadata": {},
   "outputs": [],
   "source": [
    "def predict_one(sepal_length, sepal_width, petal_length, petal_width):\n",
    "    # your code\n",
    "    if sepal_length>=7 and sepal_length<8.0:\n",
    "        return 'Iris-virginica'\n",
    "    if sepal_length>5.8 and sepal_length<7.1:\n",
    "        return 'Iris-versicolor'\n",
    "    if sepal_length <6:\n",
    "        return 'Iris-setosa'\n"
   ]
  },
  {
   "cell_type": "code",
   "execution_count": 16,
   "id": "567ee68e",
   "metadata": {},
   "outputs": [
    {
     "name": "stdout",
     "output_type": "stream",
     "text": [
      "Accuracy: 0.58\n"
     ]
    }
   ],
   "source": [
    "## DO NOT MODIFY THIS CELL\n",
    "def show_accuracy():\n",
    "    predictions = pd.Series([ predict_one(sl, sw, pl, pw) for sl, sw, pl, pw in zip(df.sepal_length, df.sepal_width, df.petal_length, df.petal_width)])\n",
    "    accuracy = sum(df.species == predictions) / len(df)\n",
    "    print(f\"Accuracy: {accuracy}\")\n",
    "    \n",
    "show_accuracy()"
   ]
  },
  {
   "cell_type": "markdown",
   "id": "da35746c",
   "metadata": {},
   "source": [
    "### Predict one method for sepal_width"
   ]
  },
  {
   "cell_type": "code",
   "execution_count": 17,
   "id": "a85e1005",
   "metadata": {},
   "outputs": [],
   "source": [
    "def predict_one(sepal_length, sepal_width, petal_length, petal_width):\n",
    "    # your code\n",
    "    if sepal_width>=3.5 and sepal_width<4:\n",
    "        return 'Iris-virginica'\n",
    "    elif sepal_width>=3 and sepal_width<3.5:\n",
    "        return 'Iris-versicolor'\n",
    "    else:\n",
    "        return 'Iris-setosa'"
   ]
  },
  {
   "cell_type": "code",
   "execution_count": 18,
   "id": "2be81e9b",
   "metadata": {},
   "outputs": [
    {
     "name": "stdout",
     "output_type": "stream",
     "text": [
      "Accuracy: 0.16666666666666666\n"
     ]
    }
   ],
   "source": [
    "## DO NOT MODIFY THIS CELL\n",
    "def show_accuracy():\n",
    "    predictions = pd.Series([ predict_one(sl, sw, pl, pw) for sl, sw, pl, pw in zip(df.sepal_length, df.sepal_width, df.petal_length, df.petal_width)])\n",
    "    accuracy = sum(df.species == predictions) / len(df)\n",
    "    print(f\"Accuracy: {accuracy}\")\n",
    "    \n",
    "show_accuracy()"
   ]
  },
  {
   "cell_type": "markdown",
   "id": "7cdc913a",
   "metadata": {},
   "source": [
    "### Predict one method for petal_length"
   ]
  },
  {
   "cell_type": "code",
   "execution_count": 19,
   "id": "61a62e87",
   "metadata": {},
   "outputs": [],
   "source": [
    "def predict_one(sepal_length, sepal_width, petal_length, petal_width):\n",
    "    # your code\n",
    "    if petal_length<2:\n",
    "        return 'Iris-setosa'\n",
    "    if petal_length>2 and petal_length<5.5:\n",
    "        return 'Iris-versicolor'\n",
    "    if petal_length>5.5 and petal_length <7:\n",
    "        return 'Iris-virginica'"
   ]
  },
  {
   "cell_type": "code",
   "execution_count": 20,
   "id": "98062955",
   "metadata": {},
   "outputs": [
    {
     "name": "stdout",
     "output_type": "stream",
     "text": [
      "Accuracy: 0.8333333333333334\n"
     ]
    }
   ],
   "source": [
    "## DO NOT MODIFY THIS CELL\n",
    "def show_accuracy():\n",
    "    predictions = pd.Series([ predict_one(sl, sw, pl, pw) for sl, sw, pl, pw in zip(df.sepal_length, df.sepal_width, df.petal_length, df.petal_width)])\n",
    "    accuracy = sum(df.species == predictions) / len(df)\n",
    "    print(f\"Accuracy: {accuracy}\")\n",
    "    \n",
    "show_accuracy()"
   ]
  },
  {
   "cell_type": "markdown",
   "id": "60c4a28d",
   "metadata": {},
   "source": [
    "### Predict one method for petal_width before data change"
   ]
  },
  {
   "cell_type": "code",
   "execution_count": 21,
   "id": "f250892a",
   "metadata": {},
   "outputs": [],
   "source": [
    "def predict_one(sepal_length, sepal_width, petal_length, petal_width):\n",
    "    # your code\n",
    "    if petal_width>0.1 and petal_width<0.6:\n",
    "        return 'Iris-setosa'\n",
    "    if petal_width>=1.0 and petal_width<=1.3:\n",
    "        return 'Iris-versicolor'\n",
    "    if petal_width>1.3:\n",
    "        return 'Iris-virginica'"
   ]
  },
  {
   "cell_type": "code",
   "execution_count": 22,
   "id": "90b0da90",
   "metadata": {},
   "outputs": [
    {
     "name": "stdout",
     "output_type": "stream",
     "text": [
      "Accuracy: 0.8066666666666666\n"
     ]
    }
   ],
   "source": [
    "def show_accuracy():\n",
    "    predictions = pd.Series([ predict_one(sl, sw, pl, pw) for sl, sw, pl, pw in zip(df.sepal_length, df.sepal_width, df.petal_length, df.petal_width)])\n",
    "    accuracy = sum(df.species == predictions) / len(df)\n",
    "    print(f\"Accuracy: {accuracy}\")\n",
    "    \n",
    "show_accuracy()"
   ]
  },
  {
   "cell_type": "markdown",
   "id": "7b1391da",
   "metadata": {},
   "source": [
    "### Data change for increasing accuracy"
   ]
  },
  {
   "cell_type": "code",
   "execution_count": 23,
   "id": "da3a7ea1",
   "metadata": {},
   "outputs": [],
   "source": [
    "df1=df[df['petal_width']>=1.4][['species','petal_width']]\n",
    "list1=list(df1[df1['species']=='Iris-versicolor'].index)\n",
    "df=df.drop(list1,axis=0)"
   ]
  },
  {
   "cell_type": "code",
   "execution_count": 24,
   "id": "73f137d3",
   "metadata": {},
   "outputs": [],
   "source": [
    "df = df.reset_index()"
   ]
  },
  {
   "cell_type": "markdown",
   "id": "d07a808e",
   "metadata": {},
   "source": [
    "### Predict one method for petal_width after data change"
   ]
  },
  {
   "cell_type": "code",
   "execution_count": 25,
   "id": "ebf0acaf",
   "metadata": {},
   "outputs": [],
   "source": [
    "def predict_one(sepal_length, sepal_width, petal_length, petal_width):\n",
    "    # your code\n",
    "    if petal_width>0.1 and petal_width<0.6:\n",
    "        return 'Iris-setosa'\n",
    "    if petal_width>=1.0 and petal_width<=1.3:\n",
    "        return 'Iris-versicolor'\n",
    "    if petal_width>1.3:\n",
    "        return 'Iris-virginica'"
   ]
  },
  {
   "cell_type": "code",
   "execution_count": 26,
   "id": "e3152cc2",
   "metadata": {},
   "outputs": [
    {
     "name": "stdout",
     "output_type": "stream",
     "text": [
      "Accuracy: 0.9453125\n"
     ]
    }
   ],
   "source": [
    "def show_accuracy():\n",
    "    predictions = pd.Series([ predict_one(sl, sw, pl, pw) for sl, sw, pl, pw in zip(df.sepal_length, df.sepal_width, df.petal_length, df.petal_width)])\n",
    "    accuracy = sum(df.species == predictions) / len(df)\n",
    "    print(f\"Accuracy: {accuracy}\")\n",
    "    \n",
    "show_accuracy()"
   ]
  },
  {
   "cell_type": "code",
   "execution_count": null,
   "id": "bd054998",
   "metadata": {},
   "outputs": [],
   "source": []
  }
 ],
 "metadata": {
  "kernelspec": {
   "display_name": "Python 3",
   "language": "python",
   "name": "python3"
  },
  "language_info": {
   "codemirror_mode": {
    "name": "ipython",
    "version": 3
   },
   "file_extension": ".py",
   "mimetype": "text/x-python",
   "name": "python",
   "nbconvert_exporter": "python",
   "pygments_lexer": "ipython3",
   "version": "3.8.8"
  },
  "toc": {
   "base_numbering": 1,
   "nav_menu": {},
   "number_sections": true,
   "sideBar": true,
   "skip_h1_title": false,
   "title_cell": "Table of Contents",
   "title_sidebar": "Contents",
   "toc_cell": false,
   "toc_position": {},
   "toc_section_display": true,
   "toc_window_display": false
  }
 },
 "nbformat": 4,
 "nbformat_minor": 5
}
