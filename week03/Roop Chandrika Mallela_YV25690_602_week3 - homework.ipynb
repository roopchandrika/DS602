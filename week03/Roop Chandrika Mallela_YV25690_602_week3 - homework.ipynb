{
 "cells": [
  {
   "cell_type": "markdown",
   "id": "92665e74",
   "metadata": {},
   "source": [
    "# Week3 - Homework\n",
    "\n",
    "Write a rule based predictor for the dataset below. \n",
    "\n",
    "Choose one of the following datasets and do your EDA. \n",
    "Test your assumptions. \n",
    "\n",
    "Finally write your code in `predict_one` function. \n",
    "\n",
    "Do __NOT__ change the function signature! This function should only take name and return `F` or `M`"
   ]
  },
  {
   "cell_type": "code",
   "execution_count": 1,
   "id": "71cb00e3",
   "metadata": {
    "scrolled": true
   },
   "outputs": [
    {
     "name": "stdout",
     "output_type": "stream",
     "text": [
      "<class 'pandas.core.frame.DataFrame'>\n",
      "Int64Index: 27999 entries, 0 to 27999\n",
      "Data columns (total 2 columns):\n",
      " #   Column  Non-Null Count  Dtype \n",
      "---  ------  --------------  ----- \n",
      " 0   name    27999 non-null  object\n",
      " 1   gender  27999 non-null  object\n",
      "dtypes: object(2)\n",
      "memory usage: 656.2+ KB\n"
     ]
    }
   ],
   "source": [
    "import pandas as pd\n",
    "import numpy as np\n",
    "from matplotlib import pyplot as plt\n",
    "import seaborn as sns\n",
    "\n",
    "us_names = 'https://raw.githubusercontent.com/msaricaumbc/DS_data/master/ds602/names/us_names.csv'\n",
    "#in_names = 'https://raw.githubusercontent.com/msaricaumbc/DS_data/master/ds602/names/in_names.csv'\n",
    "\n",
    "df = pd.read_csv(us_names)\n",
    "df.dropna(inplace=True)\n",
    "df.info()"
   ]
  },
  {
   "cell_type": "code",
   "execution_count": 2,
   "id": "03ad628a",
   "metadata": {},
   "outputs": [
    {
     "data": {
      "text/plain": [
       "M    14000\n",
       "F    13999\n",
       "Name: gender, dtype: int64"
      ]
     },
     "execution_count": 2,
     "metadata": {},
     "output_type": "execute_result"
    }
   ],
   "source": [
    "df.gender.value_counts()"
   ]
  },
  {
   "cell_type": "markdown",
   "id": "c2054fcb",
   "metadata": {},
   "source": [
    "**View the first five rows in dataset**"
   ]
  },
  {
   "cell_type": "code",
   "execution_count": 3,
   "id": "1f8b1310",
   "metadata": {},
   "outputs": [
    {
     "data": {
      "text/html": [
       "<div>\n",
       "<style scoped>\n",
       "    .dataframe tbody tr th:only-of-type {\n",
       "        vertical-align: middle;\n",
       "    }\n",
       "\n",
       "    .dataframe tbody tr th {\n",
       "        vertical-align: top;\n",
       "    }\n",
       "\n",
       "    .dataframe thead th {\n",
       "        text-align: right;\n",
       "    }\n",
       "</style>\n",
       "<table border=\"1\" class=\"dataframe\">\n",
       "  <thead>\n",
       "    <tr style=\"text-align: right;\">\n",
       "      <th></th>\n",
       "      <th>name</th>\n",
       "      <th>gender</th>\n",
       "    </tr>\n",
       "  </thead>\n",
       "  <tbody>\n",
       "    <tr>\n",
       "      <th>0</th>\n",
       "      <td>jerilynn</td>\n",
       "      <td>F</td>\n",
       "    </tr>\n",
       "    <tr>\n",
       "      <th>1</th>\n",
       "      <td>percy</td>\n",
       "      <td>M</td>\n",
       "    </tr>\n",
       "    <tr>\n",
       "      <th>2</th>\n",
       "      <td>landry</td>\n",
       "      <td>M</td>\n",
       "    </tr>\n",
       "    <tr>\n",
       "      <th>3</th>\n",
       "      <td>reynalda</td>\n",
       "      <td>F</td>\n",
       "    </tr>\n",
       "    <tr>\n",
       "      <th>4</th>\n",
       "      <td>girl</td>\n",
       "      <td>F</td>\n",
       "    </tr>\n",
       "  </tbody>\n",
       "</table>\n",
       "</div>"
      ],
      "text/plain": [
       "       name gender\n",
       "0  jerilynn      F\n",
       "1     percy      M\n",
       "2    landry      M\n",
       "3  reynalda      F\n",
       "4      girl      F"
      ]
     },
     "execution_count": 3,
     "metadata": {},
     "output_type": "execute_result"
    }
   ],
   "source": [
    "df.head()"
   ]
  },
  {
   "cell_type": "markdown",
   "id": "a33b44df",
   "metadata": {},
   "source": [
    "**View the last five rows in dataset**"
   ]
  },
  {
   "cell_type": "code",
   "execution_count": 4,
   "id": "86cd6fb2",
   "metadata": {},
   "outputs": [
    {
     "data": {
      "text/html": [
       "<div>\n",
       "<style scoped>\n",
       "    .dataframe tbody tr th:only-of-type {\n",
       "        vertical-align: middle;\n",
       "    }\n",
       "\n",
       "    .dataframe tbody tr th {\n",
       "        vertical-align: top;\n",
       "    }\n",
       "\n",
       "    .dataframe thead th {\n",
       "        text-align: right;\n",
       "    }\n",
       "</style>\n",
       "<table border=\"1\" class=\"dataframe\">\n",
       "  <thead>\n",
       "    <tr style=\"text-align: right;\">\n",
       "      <th></th>\n",
       "      <th>name</th>\n",
       "      <th>gender</th>\n",
       "    </tr>\n",
       "  </thead>\n",
       "  <tbody>\n",
       "    <tr>\n",
       "      <th>27995</th>\n",
       "      <td>emelio</td>\n",
       "      <td>M</td>\n",
       "    </tr>\n",
       "    <tr>\n",
       "      <th>27996</th>\n",
       "      <td>holt</td>\n",
       "      <td>M</td>\n",
       "    </tr>\n",
       "    <tr>\n",
       "      <th>27997</th>\n",
       "      <td>silvestre</td>\n",
       "      <td>M</td>\n",
       "    </tr>\n",
       "    <tr>\n",
       "      <th>27998</th>\n",
       "      <td>annastacia</td>\n",
       "      <td>F</td>\n",
       "    </tr>\n",
       "    <tr>\n",
       "      <th>27999</th>\n",
       "      <td>eliam</td>\n",
       "      <td>M</td>\n",
       "    </tr>\n",
       "  </tbody>\n",
       "</table>\n",
       "</div>"
      ],
      "text/plain": [
       "             name gender\n",
       "27995      emelio      M\n",
       "27996        holt      M\n",
       "27997   silvestre      M\n",
       "27998  annastacia      F\n",
       "27999       eliam      M"
      ]
     },
     "execution_count": 4,
     "metadata": {},
     "output_type": "execute_result"
    }
   ],
   "source": [
    "df.tail()"
   ]
  },
  {
   "cell_type": "markdown",
   "id": "c5a54820",
   "metadata": {},
   "source": [
    "**Print the shape of the dataset**"
   ]
  },
  {
   "cell_type": "code",
   "execution_count": 5,
   "id": "8db9e6a3",
   "metadata": {},
   "outputs": [
    {
     "data": {
      "text/plain": [
       "(27999, 2)"
      ]
     },
     "execution_count": 5,
     "metadata": {},
     "output_type": "execute_result"
    }
   ],
   "source": [
    "df.shape"
   ]
  },
  {
   "cell_type": "markdown",
   "id": "78035b58",
   "metadata": {},
   "source": [
    "**View the data types**"
   ]
  },
  {
   "cell_type": "code",
   "execution_count": 6,
   "id": "eda7b180",
   "metadata": {},
   "outputs": [
    {
     "data": {
      "text/plain": [
       "name      object\n",
       "gender    object\n",
       "dtype: object"
      ]
     },
     "execution_count": 6,
     "metadata": {},
     "output_type": "execute_result"
    }
   ],
   "source": [
    "df.dtypes"
   ]
  },
  {
   "cell_type": "markdown",
   "id": "72745e70",
   "metadata": {},
   "source": [
    "**Find the unique count in dataset**"
   ]
  },
  {
   "cell_type": "code",
   "execution_count": 7,
   "id": "d3d35e67",
   "metadata": {},
   "outputs": [
    {
     "data": {
      "text/plain": [
       "name      25948\n",
       "gender        2\n",
       "dtype: int64"
      ]
     },
     "execution_count": 7,
     "metadata": {},
     "output_type": "execute_result"
    }
   ],
   "source": [
    "df.nunique()"
   ]
  },
  {
   "cell_type": "markdown",
   "id": "821b2b3d",
   "metadata": {},
   "source": [
    "**View the first five rows of dataset before removing duplicates**"
   ]
  },
  {
   "cell_type": "code",
   "execution_count": 8,
   "id": "a16472ac",
   "metadata": {},
   "outputs": [
    {
     "data": {
      "text/html": [
       "<div>\n",
       "<style scoped>\n",
       "    .dataframe tbody tr th:only-of-type {\n",
       "        vertical-align: middle;\n",
       "    }\n",
       "\n",
       "    .dataframe tbody tr th {\n",
       "        vertical-align: top;\n",
       "    }\n",
       "\n",
       "    .dataframe thead th {\n",
       "        text-align: right;\n",
       "    }\n",
       "</style>\n",
       "<table border=\"1\" class=\"dataframe\">\n",
       "  <thead>\n",
       "    <tr style=\"text-align: right;\">\n",
       "      <th></th>\n",
       "      <th>name</th>\n",
       "      <th>gender</th>\n",
       "    </tr>\n",
       "  </thead>\n",
       "  <tbody>\n",
       "    <tr>\n",
       "      <th>0</th>\n",
       "      <td>jerilynn</td>\n",
       "      <td>F</td>\n",
       "    </tr>\n",
       "    <tr>\n",
       "      <th>1</th>\n",
       "      <td>percy</td>\n",
       "      <td>M</td>\n",
       "    </tr>\n",
       "    <tr>\n",
       "      <th>2</th>\n",
       "      <td>landry</td>\n",
       "      <td>M</td>\n",
       "    </tr>\n",
       "    <tr>\n",
       "      <th>3</th>\n",
       "      <td>reynalda</td>\n",
       "      <td>F</td>\n",
       "    </tr>\n",
       "    <tr>\n",
       "      <th>4</th>\n",
       "      <td>girl</td>\n",
       "      <td>F</td>\n",
       "    </tr>\n",
       "  </tbody>\n",
       "</table>\n",
       "</div>"
      ],
      "text/plain": [
       "       name gender\n",
       "0  jerilynn      F\n",
       "1     percy      M\n",
       "2    landry      M\n",
       "3  reynalda      F\n",
       "4      girl      F"
      ]
     },
     "execution_count": 8,
     "metadata": {},
     "output_type": "execute_result"
    }
   ],
   "source": [
    "df.head()"
   ]
  },
  {
   "cell_type": "markdown",
   "id": "17f407d1",
   "metadata": {},
   "source": [
    "**Drop the duplicates in name column**"
   ]
  },
  {
   "cell_type": "code",
   "execution_count": 9,
   "id": "a37a9af0",
   "metadata": {},
   "outputs": [],
   "source": [
    "df = df.drop_duplicates(subset='name')"
   ]
  },
  {
   "cell_type": "markdown",
   "id": "d433de1f",
   "metadata": {},
   "source": [
    "**View the shape in the dataset after removing duplicates**"
   ]
  },
  {
   "cell_type": "code",
   "execution_count": 10,
   "id": "baec5bf4",
   "metadata": {},
   "outputs": [
    {
     "data": {
      "text/plain": [
       "(25948, 2)"
      ]
     },
     "execution_count": 10,
     "metadata": {},
     "output_type": "execute_result"
    }
   ],
   "source": [
    "df.shape"
   ]
  },
  {
   "cell_type": "markdown",
   "id": "79664c97",
   "metadata": {},
   "source": [
    "**View the head of dataset after removing duplicates**"
   ]
  },
  {
   "cell_type": "code",
   "execution_count": 11,
   "id": "f8a859cf",
   "metadata": {},
   "outputs": [
    {
     "data": {
      "text/html": [
       "<div>\n",
       "<style scoped>\n",
       "    .dataframe tbody tr th:only-of-type {\n",
       "        vertical-align: middle;\n",
       "    }\n",
       "\n",
       "    .dataframe tbody tr th {\n",
       "        vertical-align: top;\n",
       "    }\n",
       "\n",
       "    .dataframe thead th {\n",
       "        text-align: right;\n",
       "    }\n",
       "</style>\n",
       "<table border=\"1\" class=\"dataframe\">\n",
       "  <thead>\n",
       "    <tr style=\"text-align: right;\">\n",
       "      <th></th>\n",
       "      <th>name</th>\n",
       "      <th>gender</th>\n",
       "    </tr>\n",
       "  </thead>\n",
       "  <tbody>\n",
       "    <tr>\n",
       "      <th>0</th>\n",
       "      <td>jerilynn</td>\n",
       "      <td>F</td>\n",
       "    </tr>\n",
       "    <tr>\n",
       "      <th>1</th>\n",
       "      <td>percy</td>\n",
       "      <td>M</td>\n",
       "    </tr>\n",
       "    <tr>\n",
       "      <th>2</th>\n",
       "      <td>landry</td>\n",
       "      <td>M</td>\n",
       "    </tr>\n",
       "    <tr>\n",
       "      <th>3</th>\n",
       "      <td>reynalda</td>\n",
       "      <td>F</td>\n",
       "    </tr>\n",
       "    <tr>\n",
       "      <th>4</th>\n",
       "      <td>girl</td>\n",
       "      <td>F</td>\n",
       "    </tr>\n",
       "  </tbody>\n",
       "</table>\n",
       "</div>"
      ],
      "text/plain": [
       "       name gender\n",
       "0  jerilynn      F\n",
       "1     percy      M\n",
       "2    landry      M\n",
       "3  reynalda      F\n",
       "4      girl      F"
      ]
     },
     "execution_count": 11,
     "metadata": {},
     "output_type": "execute_result"
    }
   ],
   "source": [
    "df.head()"
   ]
  },
  {
   "cell_type": "markdown",
   "id": "832beec3",
   "metadata": {},
   "source": [
    "**View the tail of dataset after removing duplicates**"
   ]
  },
  {
   "cell_type": "code",
   "execution_count": 12,
   "id": "051ac2b3",
   "metadata": {},
   "outputs": [
    {
     "data": {
      "text/html": [
       "<div>\n",
       "<style scoped>\n",
       "    .dataframe tbody tr th:only-of-type {\n",
       "        vertical-align: middle;\n",
       "    }\n",
       "\n",
       "    .dataframe tbody tr th {\n",
       "        vertical-align: top;\n",
       "    }\n",
       "\n",
       "    .dataframe thead th {\n",
       "        text-align: right;\n",
       "    }\n",
       "</style>\n",
       "<table border=\"1\" class=\"dataframe\">\n",
       "  <thead>\n",
       "    <tr style=\"text-align: right;\">\n",
       "      <th></th>\n",
       "      <th>name</th>\n",
       "      <th>gender</th>\n",
       "    </tr>\n",
       "  </thead>\n",
       "  <tbody>\n",
       "    <tr>\n",
       "      <th>27995</th>\n",
       "      <td>emelio</td>\n",
       "      <td>M</td>\n",
       "    </tr>\n",
       "    <tr>\n",
       "      <th>27996</th>\n",
       "      <td>holt</td>\n",
       "      <td>M</td>\n",
       "    </tr>\n",
       "    <tr>\n",
       "      <th>27997</th>\n",
       "      <td>silvestre</td>\n",
       "      <td>M</td>\n",
       "    </tr>\n",
       "    <tr>\n",
       "      <th>27998</th>\n",
       "      <td>annastacia</td>\n",
       "      <td>F</td>\n",
       "    </tr>\n",
       "    <tr>\n",
       "      <th>27999</th>\n",
       "      <td>eliam</td>\n",
       "      <td>M</td>\n",
       "    </tr>\n",
       "  </tbody>\n",
       "</table>\n",
       "</div>"
      ],
      "text/plain": [
       "             name gender\n",
       "27995      emelio      M\n",
       "27996        holt      M\n",
       "27997   silvestre      M\n",
       "27998  annastacia      F\n",
       "27999       eliam      M"
      ]
     },
     "execution_count": 12,
     "metadata": {},
     "output_type": "execute_result"
    }
   ],
   "source": [
    "df.tail()"
   ]
  },
  {
   "cell_type": "markdown",
   "id": "208b65bf",
   "metadata": {},
   "source": [
    "**Find the unique count in dataset**"
   ]
  },
  {
   "cell_type": "code",
   "execution_count": 13,
   "id": "4c0c9294",
   "metadata": {},
   "outputs": [
    {
     "data": {
      "text/plain": [
       "name      25948\n",
       "gender        2\n",
       "dtype: int64"
      ]
     },
     "execution_count": 13,
     "metadata": {},
     "output_type": "execute_result"
    }
   ],
   "source": [
    "df.nunique()"
   ]
  },
  {
   "cell_type": "markdown",
   "id": "477eba68",
   "metadata": {},
   "source": [
    "**Convert the name column into lower case**"
   ]
  },
  {
   "cell_type": "code",
   "execution_count": 14,
   "id": "4efdfd37",
   "metadata": {},
   "outputs": [
    {
     "data": {
      "text/plain": [
       "0          jerilynn\n",
       "1             percy\n",
       "2            landry\n",
       "3          reynalda\n",
       "4              girl\n",
       "            ...    \n",
       "27995        emelio\n",
       "27996          holt\n",
       "27997     silvestre\n",
       "27998    annastacia\n",
       "27999         eliam\n",
       "Name: name, Length: 25948, dtype: object"
      ]
     },
     "execution_count": 14,
     "metadata": {},
     "output_type": "execute_result"
    }
   ],
   "source": [
    "df['name'] = df['name'].str.lower()\n",
    "df['name']"
   ]
  },
  {
   "cell_type": "markdown",
   "id": "7e28012e",
   "metadata": {},
   "source": [
    "**Divide the name column into male and female names**"
   ]
  },
  {
   "cell_type": "code",
   "execution_count": 15,
   "id": "e0f5f7b0",
   "metadata": {},
   "outputs": [
    {
     "data": {
      "text/plain": [
       "0              NaN\n",
       "1            percy\n",
       "2           landry\n",
       "3              NaN\n",
       "4              NaN\n",
       "           ...    \n",
       "27995       emelio\n",
       "27996         holt\n",
       "27997    silvestre\n",
       "27998          NaN\n",
       "27999        eliam\n",
       "Name: male_names, Length: 25948, dtype: object"
      ]
     },
     "execution_count": 15,
     "metadata": {},
     "output_type": "execute_result"
    }
   ],
   "source": [
    "df['male_names'] = df[df['gender']=='M']['name']\n",
    "df['male_names'] # male names"
   ]
  },
  {
   "cell_type": "code",
   "execution_count": 16,
   "id": "a898a801",
   "metadata": {
    "scrolled": true
   },
   "outputs": [
    {
     "data": {
      "text/plain": [
       "0          jerilynn\n",
       "1               NaN\n",
       "2               NaN\n",
       "3          reynalda\n",
       "4              girl\n",
       "            ...    \n",
       "27995           NaN\n",
       "27996           NaN\n",
       "27997           NaN\n",
       "27998    annastacia\n",
       "27999           NaN\n",
       "Name: female_names, Length: 25948, dtype: object"
      ]
     },
     "execution_count": 16,
     "metadata": {},
     "output_type": "execute_result"
    }
   ],
   "source": [
    "df['female_names'] = df[df['gender']=='F']['name']\n",
    "df['female_names'] # female_names"
   ]
  },
  {
   "cell_type": "code",
   "execution_count": 17,
   "id": "c335e594",
   "metadata": {},
   "outputs": [
    {
     "data": {
      "text/html": [
       "<div>\n",
       "<style scoped>\n",
       "    .dataframe tbody tr th:only-of-type {\n",
       "        vertical-align: middle;\n",
       "    }\n",
       "\n",
       "    .dataframe tbody tr th {\n",
       "        vertical-align: top;\n",
       "    }\n",
       "\n",
       "    .dataframe thead th {\n",
       "        text-align: right;\n",
       "    }\n",
       "</style>\n",
       "<table border=\"1\" class=\"dataframe\">\n",
       "  <thead>\n",
       "    <tr style=\"text-align: right;\">\n",
       "      <th></th>\n",
       "      <th>name</th>\n",
       "      <th>gender</th>\n",
       "      <th>male_names</th>\n",
       "      <th>female_names</th>\n",
       "    </tr>\n",
       "  </thead>\n",
       "  <tbody>\n",
       "    <tr>\n",
       "      <th>0</th>\n",
       "      <td>jerilynn</td>\n",
       "      <td>F</td>\n",
       "      <td>NaN</td>\n",
       "      <td>jerilynn</td>\n",
       "    </tr>\n",
       "    <tr>\n",
       "      <th>1</th>\n",
       "      <td>percy</td>\n",
       "      <td>M</td>\n",
       "      <td>percy</td>\n",
       "      <td>NaN</td>\n",
       "    </tr>\n",
       "    <tr>\n",
       "      <th>2</th>\n",
       "      <td>landry</td>\n",
       "      <td>M</td>\n",
       "      <td>landry</td>\n",
       "      <td>NaN</td>\n",
       "    </tr>\n",
       "    <tr>\n",
       "      <th>3</th>\n",
       "      <td>reynalda</td>\n",
       "      <td>F</td>\n",
       "      <td>NaN</td>\n",
       "      <td>reynalda</td>\n",
       "    </tr>\n",
       "    <tr>\n",
       "      <th>4</th>\n",
       "      <td>girl</td>\n",
       "      <td>F</td>\n",
       "      <td>NaN</td>\n",
       "      <td>girl</td>\n",
       "    </tr>\n",
       "  </tbody>\n",
       "</table>\n",
       "</div>"
      ],
      "text/plain": [
       "       name gender male_names female_names\n",
       "0  jerilynn      F        NaN     jerilynn\n",
       "1     percy      M      percy          NaN\n",
       "2    landry      M     landry          NaN\n",
       "3  reynalda      F        NaN     reynalda\n",
       "4      girl      F        NaN         girl"
      ]
     },
     "execution_count": 17,
     "metadata": {},
     "output_type": "execute_result"
    }
   ],
   "source": [
    "df.head() # View the head of the dataset"
   ]
  },
  {
   "cell_type": "code",
   "execution_count": 18,
   "id": "b4daaff3",
   "metadata": {},
   "outputs": [
    {
     "data": {
      "text/html": [
       "<div>\n",
       "<style scoped>\n",
       "    .dataframe tbody tr th:only-of-type {\n",
       "        vertical-align: middle;\n",
       "    }\n",
       "\n",
       "    .dataframe tbody tr th {\n",
       "        vertical-align: top;\n",
       "    }\n",
       "\n",
       "    .dataframe thead th {\n",
       "        text-align: right;\n",
       "    }\n",
       "</style>\n",
       "<table border=\"1\" class=\"dataframe\">\n",
       "  <thead>\n",
       "    <tr style=\"text-align: right;\">\n",
       "      <th></th>\n",
       "      <th>name</th>\n",
       "      <th>gender</th>\n",
       "      <th>male_names</th>\n",
       "      <th>female_names</th>\n",
       "    </tr>\n",
       "  </thead>\n",
       "  <tbody>\n",
       "    <tr>\n",
       "      <th>27995</th>\n",
       "      <td>emelio</td>\n",
       "      <td>M</td>\n",
       "      <td>emelio</td>\n",
       "      <td>NaN</td>\n",
       "    </tr>\n",
       "    <tr>\n",
       "      <th>27996</th>\n",
       "      <td>holt</td>\n",
       "      <td>M</td>\n",
       "      <td>holt</td>\n",
       "      <td>NaN</td>\n",
       "    </tr>\n",
       "    <tr>\n",
       "      <th>27997</th>\n",
       "      <td>silvestre</td>\n",
       "      <td>M</td>\n",
       "      <td>silvestre</td>\n",
       "      <td>NaN</td>\n",
       "    </tr>\n",
       "    <tr>\n",
       "      <th>27998</th>\n",
       "      <td>annastacia</td>\n",
       "      <td>F</td>\n",
       "      <td>NaN</td>\n",
       "      <td>annastacia</td>\n",
       "    </tr>\n",
       "    <tr>\n",
       "      <th>27999</th>\n",
       "      <td>eliam</td>\n",
       "      <td>M</td>\n",
       "      <td>eliam</td>\n",
       "      <td>NaN</td>\n",
       "    </tr>\n",
       "  </tbody>\n",
       "</table>\n",
       "</div>"
      ],
      "text/plain": [
       "             name gender male_names female_names\n",
       "27995      emelio      M     emelio          NaN\n",
       "27996        holt      M       holt          NaN\n",
       "27997   silvestre      M  silvestre          NaN\n",
       "27998  annastacia      F        NaN   annastacia\n",
       "27999       eliam      M      eliam          NaN"
      ]
     },
     "execution_count": 18,
     "metadata": {},
     "output_type": "execute_result"
    }
   ],
   "source": [
    "df.tail() # View the tail of the dataset"
   ]
  },
  {
   "cell_type": "code",
   "execution_count": 19,
   "id": "649b856d",
   "metadata": {},
   "outputs": [
    {
     "data": {
      "text/plain": [
       "name            object\n",
       "gender          object\n",
       "male_names      object\n",
       "female_names    object\n",
       "dtype: object"
      ]
     },
     "execution_count": 19,
     "metadata": {},
     "output_type": "execute_result"
    }
   ],
   "source": [
    "df.dtypes # view the data types of dataset"
   ]
  },
  {
   "cell_type": "markdown",
   "id": "5fb2ecc4",
   "metadata": {},
   "source": [
    "**Find the starting letter count in male names column**"
   ]
  },
  {
   "cell_type": "code",
   "execution_count": 20,
   "id": "07cf1b1f",
   "metadata": {
    "scrolled": false
   },
   "outputs": [
    {
     "name": "stdout",
     "output_type": "stream",
     "text": [
      "a    1226\n",
      "b     576\n",
      "c     728\n",
      "d     936\n",
      "e     589\n",
      "f     228\n",
      "g     375\n",
      "h     449\n",
      "i     223\n",
      "j    1159\n",
      "k     947\n",
      "l     539\n",
      "m     830\n",
      "n     386\n",
      "o     249\n",
      "p     239\n",
      "q      82\n",
      "r     714\n",
      "s     816\n",
      "t     738\n",
      "u      56\n",
      "v     194\n",
      "w     203\n",
      "x      37\n",
      "y     241\n",
      "z     236\n",
      "Name: male_names, dtype: int64\n"
     ]
    },
    {
     "data": {
      "text/plain": [
       "a    1226\n",
       "j    1159\n",
       "k     947\n",
       "d     936\n",
       "m     830\n",
       "Name: male_names, dtype: int64"
      ]
     },
     "execution_count": 20,
     "metadata": {},
     "output_type": "execute_result"
    }
   ],
   "source": [
    "m_s_letter = df['male_names'].str[0]\n",
    "m_s_letter_count = m_s_letter.value_counts().sort_index()\n",
    "print(m_s_letter_count)\n",
    "m_s_letter_count.sort_values(ascending=False).head(5)"
   ]
  },
  {
   "cell_type": "markdown",
   "id": "4177e4f9",
   "metadata": {},
   "source": [
    "**Plot the count of starting letter count of male names**"
   ]
  },
  {
   "cell_type": "code",
   "execution_count": 21,
   "id": "104ad614",
   "metadata": {},
   "outputs": [
    {
     "data": {
      "text/plain": [
       "<AxesSubplot:>"
      ]
     },
     "execution_count": 21,
     "metadata": {},
     "output_type": "execute_result"
    },
    {
     "data": {
      "image/png": "[encoded data removed]",
      "text/plain": [
       "<Figure size 432x288 with 1 Axes>"
      ]
     },
     "metadata": {
      "needs_background": "light"
     },
     "output_type": "display_data"
    }
   ],
   "source": [
    "m_s_letter_count.plot(kind = 'bar')"
   ]
  },
  {
   "cell_type": "markdown",
   "id": "e1a39757",
   "metadata": {},
   "source": [
    "**Find the ending letter count in male name column**"
   ]
  },
  {
   "cell_type": "code",
   "execution_count": 22,
   "id": "845bbeb0",
   "metadata": {},
   "outputs": [
    {
     "name": "stdout",
     "output_type": "stream",
     "text": [
      "a     546\n",
      "b      91\n",
      "c      80\n",
      "d     537\n",
      "e    1287\n",
      "f      74\n",
      "g     125\n",
      "h     414\n",
      "i     558\n",
      "j      47\n",
      "k     308\n",
      "l     998\n",
      "m     312\n",
      "n    3277\n",
      "o    1047\n",
      "p      46\n",
      "q      15\n",
      "r     910\n",
      "s     917\n",
      "t     325\n",
      "u     108\n",
      "v      62\n",
      "w      33\n",
      "x      56\n",
      "y     728\n",
      "z      95\n",
      "Name: male_names, dtype: int64\n"
     ]
    },
    {
     "data": {
      "text/plain": [
       "n    3277\n",
       "e    1287\n",
       "o    1047\n",
       "l     998\n",
       "s     917\n",
       "Name: male_names, dtype: int64"
      ]
     },
     "execution_count": 22,
     "metadata": {},
     "output_type": "execute_result"
    }
   ],
   "source": [
    "m_e_letter = df['male_names'].str[-1]\n",
    "m_e_letter_count = m_e_letter.value_counts().sort_index()\n",
    "print(m_e_letter_count)\n",
    "m_e_letter_count.sort_values(ascending=False).head(5)"
   ]
  },
  {
   "cell_type": "markdown",
   "id": "79a57b82",
   "metadata": {},
   "source": [
    "**Plot the count of ending letter count of male names**"
   ]
  },
  {
   "cell_type": "code",
   "execution_count": 23,
   "id": "be4fff48",
   "metadata": {},
   "outputs": [
    {
     "data": {
      "text/plain": [
       "<AxesSubplot:>"
      ]
     },
     "execution_count": 23,
     "metadata": {},
     "output_type": "execute_result"
    },
    {
     "data": {
      "image/png": "[encoded data removed]",
      "text/plain": [
       "<Figure size 432x288 with 1 Axes>"
      ]
     },
     "metadata": {
      "needs_background": "light"
     },
     "output_type": "display_data"
    }
   ],
   "source": [
    "m_e_letter_count.plot(kind = 'bar')"
   ]
  },
  {
   "cell_type": "markdown",
   "id": "c246684a",
   "metadata": {},
   "source": [
    "**Find the starting letter count in female names column**"
   ]
  },
  {
   "cell_type": "code",
   "execution_count": 24,
   "id": "16a20319",
   "metadata": {},
   "outputs": [
    {
     "name": "stdout",
     "output_type": "stream",
     "text": [
      "a    1627\n",
      "b     484\n",
      "c     792\n",
      "d     656\n",
      "e     548\n",
      "f     176\n",
      "g     294\n",
      "h     261\n",
      "i     248\n",
      "j     847\n",
      "k     921\n",
      "l     872\n",
      "m    1194\n",
      "n     493\n",
      "o     123\n",
      "p     209\n",
      "q      30\n",
      "r     512\n",
      "s    1183\n",
      "t     641\n",
      "u      17\n",
      "v     216\n",
      "w     103\n",
      "x      38\n",
      "y     241\n",
      "z     226\n",
      "Name: female_names, dtype: int64\n"
     ]
    },
    {
     "data": {
      "text/plain": [
       "a    1627\n",
       "m    1194\n",
       "s    1183\n",
       "k     921\n",
       "l     872\n",
       "Name: female_names, dtype: int64"
      ]
     },
     "execution_count": 24,
     "metadata": {},
     "output_type": "execute_result"
    }
   ],
   "source": [
    "f_s_letter = df['female_names'].str[0]\n",
    "f_s_letter_count = f_s_letter.value_counts().sort_index()\n",
    "print(f_s_letter_count)\n",
    "f_s_letter_count.sort_values(ascending=False).head(5)"
   ]
  },
  {
   "cell_type": "markdown",
   "id": "6b40e7ae",
   "metadata": {},
   "source": [
    "**Plot the count of starting letter count of female names**"
   ]
  },
  {
   "cell_type": "code",
   "execution_count": 25,
   "id": "79776e8c",
   "metadata": {},
   "outputs": [
    {
     "data": {
      "text/plain": [
       "<AxesSubplot:>"
      ]
     },
     "execution_count": 25,
     "metadata": {},
     "output_type": "execute_result"
    },
    {
     "data": {
      "image/png": "[encoded data removed]",
      "text/plain": [
       "<Figure size 432x288 with 1 Axes>"
      ]
     },
     "metadata": {
      "needs_background": "light"
     },
     "output_type": "display_data"
    }
   ],
   "source": [
    "f_s_letter_count.plot(kind = 'bar')"
   ]
  },
  {
   "cell_type": "markdown",
   "id": "2ae7f9ee",
   "metadata": {},
   "source": [
    "**Find the ending letter count in female names column**"
   ]
  },
  {
   "cell_type": "code",
   "execution_count": 26,
   "id": "ceae4282",
   "metadata": {},
   "outputs": [
    {
     "name": "stdout",
     "output_type": "stream",
     "text": [
      "a    5302\n",
      "b      10\n",
      "c      12\n",
      "d      53\n",
      "e    2430\n",
      "f       2\n",
      "g      31\n",
      "h     811\n",
      "i     884\n",
      "j       3\n",
      "k      23\n",
      "l     413\n",
      "m      59\n",
      "n    1279\n",
      "o     135\n",
      "p       6\n",
      "q       2\n",
      "r     177\n",
      "s     233\n",
      "t     162\n",
      "u      39\n",
      "v       3\n",
      "w       5\n",
      "x       8\n",
      "y     838\n",
      "z      32\n",
      "Name: female_names, dtype: int64\n"
     ]
    },
    {
     "data": {
      "text/plain": [
       "a    5302\n",
       "e    2430\n",
       "n    1279\n",
       "i     884\n",
       "y     838\n",
       "Name: female_names, dtype: int64"
      ]
     },
     "execution_count": 26,
     "metadata": {},
     "output_type": "execute_result"
    }
   ],
   "source": [
    "f_e_letter = df['female_names'].str[-1]\n",
    "f_e_letter_count = f_e_letter.value_counts().sort_index()\n",
    "print(f_e_letter_count)\n",
    "f_e_letter_count.sort_values(ascending=False).head(5)"
   ]
  },
  {
   "cell_type": "markdown",
   "id": "368fbaae",
   "metadata": {},
   "source": [
    "**Plot the count of ending letter count of female names**"
   ]
  },
  {
   "cell_type": "code",
   "execution_count": 27,
   "id": "993543a0",
   "metadata": {},
   "outputs": [
    {
     "data": {
      "text/plain": [
       "<AxesSubplot:>"
      ]
     },
     "execution_count": 27,
     "metadata": {},
     "output_type": "execute_result"
    },
    {
     "data": {
      "image/png": "[encoded data removed]",
      "text/plain": [
       "<Figure size 432x288 with 1 Axes>"
      ]
     },
     "metadata": {
      "needs_background": "light"
     },
     "output_type": "display_data"
    }
   ],
   "source": [
    "f_e_letter_count.plot(kind = 'bar')"
   ]
  },
  {
   "cell_type": "markdown",
   "id": "4a49c22a",
   "metadata": {},
   "source": [
    "**Extract the middle name from the name column**"
   ]
  },
  {
   "cell_type": "code",
   "execution_count": 28,
   "id": "6466de3b",
   "metadata": {},
   "outputs": [
    {
     "name": "stdout",
     "output_type": "stream",
     "text": [
      "0          erilyn\n",
      "1             erc\n",
      "2            andr\n",
      "3          eynald\n",
      "4              ir\n",
      "           ...   \n",
      "27995        meli\n",
      "27996          ol\n",
      "27997     ilvestr\n",
      "27998    nnastaci\n",
      "27999         lia\n",
      "Name: normal_middle, Length: 25948, dtype: object\n"
     ]
    }
   ],
   "source": [
    "df['normal_middle'] = df['name'].str[1:-1]\n",
    "print(df['normal_middle'])"
   ]
  },
  {
   "cell_type": "markdown",
   "id": "d21faeeb",
   "metadata": {},
   "source": [
    "**Get the counts of middle value**"
   ]
  },
  {
   "cell_type": "code",
   "execution_count": 29,
   "id": "eee5e4b1",
   "metadata": {},
   "outputs": [
    {
     "data": {
      "text/plain": [
       "            75\n",
       "a          102\n",
       "aa           6\n",
       "aabi         1\n",
       "aach         1\n",
       "          ... \n",
       "zzabell      1\n",
       "zzar         1\n",
       "zzi          3\n",
       "zzia         1\n",
       "zzie         1\n",
       "Name: normal_middle, Length: 13890, dtype: int64"
      ]
     },
     "execution_count": 29,
     "metadata": {},
     "output_type": "execute_result"
    }
   ],
   "source": [
    "counts = df['normal_middle'].value_counts().sort_index()\n",
    "counts"
   ]
  },
  {
   "cell_type": "markdown",
   "id": "83fddd7b",
   "metadata": {},
   "source": [
    "**Groupby gender and middle value**"
   ]
  },
  {
   "cell_type": "code",
   "execution_count": 30,
   "id": "58ef9519",
   "metadata": {},
   "outputs": [
    {
     "data": {
      "text/plain": [
       "gender  normal_middle\n",
       "M       a                77\n",
       "        e                52\n",
       "        o                49\n",
       "                         47\n",
       "        ar               37\n",
       "                         ..\n",
       "F       nabiy             1\n",
       "        nacan             1\n",
       "        nacarolin         1\n",
       "        nacecili          1\n",
       "M       zzie              1\n",
       "Name: normal_middle, Length: 15672, dtype: int64"
      ]
     },
     "execution_count": 30,
     "metadata": {},
     "output_type": "execute_result"
    }
   ],
   "source": [
    "df.groupby('gender')['normal_middle'].value_counts().sort_values(ascending = False)"
   ]
  },
  {
   "cell_type": "code",
   "execution_count": null,
   "id": "b087f24f",
   "metadata": {},
   "outputs": [],
   "source": []
  },
  {
   "cell_type": "markdown",
   "id": "8c95c921",
   "metadata": {},
   "source": [
    "### Two examples:"
   ]
  },
  {
   "cell_type": "code",
   "execution_count": 31,
   "id": "88d552f1",
   "metadata": {},
   "outputs": [],
   "source": [
    "df['is_last_letter_vowel'] = [ 'aeiou'.find(name[-1])>0 for name in df.name]"
   ]
  },
  {
   "cell_type": "code",
   "execution_count": 32,
   "id": "50fcd092",
   "metadata": {
    "scrolled": true
   },
   "outputs": [
    {
     "data": {
      "text/plain": [
       "<AxesSubplot:xlabel='is_last_letter_vowel', ylabel='count'>"
      ]
     },
     "execution_count": 32,
     "metadata": {},
     "output_type": "execute_result"
    },
    {
     "data": {
      "image/png": "[encoded data removed]",
      "text/plain": [
       "<Figure size 432x288 with 1 Axes>"
      ]
     },
     "metadata": {
      "needs_background": "light"
     },
     "output_type": "display_data"
    }
   ],
   "source": [
    "import seaborn as sns\n",
    "\n",
    "sns.countplot(data = df, x = 'is_last_letter_vowel', hue = 'gender')"
   ]
  },
  {
   "cell_type": "markdown",
   "id": "1f8e6476",
   "metadata": {},
   "source": [
    "It looks like last letter is being a vowel is not a good indicator for this dataset!"
   ]
  },
  {
   "cell_type": "code",
   "execution_count": 33,
   "id": "0822aff7",
   "metadata": {},
   "outputs": [
    {
     "data": {
      "text/plain": [
       "<AxesSubplot:xlabel='len', ylabel='count'>"
      ]
     },
     "execution_count": 33,
     "metadata": {},
     "output_type": "execute_result"
    },
    {
     "data": {
      "image/png": "[encoded data removed]",
      "text/plain": [
       "<Figure size 432x288 with 1 Axes>"
      ]
     },
     "metadata": {
      "needs_background": "light"
     },
     "output_type": "display_data"
    }
   ],
   "source": [
    "df['len'] = [ len(name) for name in df.name]\n",
    "sns.countplot(data = df, x = 'len', hue = 'gender')"
   ]
  },
  {
   "cell_type": "markdown",
   "id": "b036375f",
   "metadata": {},
   "source": [
    "Seems like length doesn't also seem like a good separator"
   ]
  },
  {
   "cell_type": "markdown",
   "id": "e68efd04",
   "metadata": {},
   "source": [
    "**Find if starting letter is vowel**"
   ]
  },
  {
   "cell_type": "code",
   "execution_count": 34,
   "id": "7082967f",
   "metadata": {},
   "outputs": [],
   "source": [
    "df['is_starting_letter_vowel'] = [ 'aeiou'.find(name[0])>0 for name in df.name]"
   ]
  },
  {
   "cell_type": "code",
   "execution_count": 35,
   "id": "39d385bb",
   "metadata": {},
   "outputs": [
    {
     "data": {
      "text/plain": [
       "<AxesSubplot:xlabel='is_starting_letter_vowel', ylabel='count'>"
      ]
     },
     "execution_count": 35,
     "metadata": {},
     "output_type": "execute_result"
    },
    {
     "data": {
      "image/png": "[encoded data removed]",
      "text/plain": [
       "<Figure size 432x288 with 1 Axes>"
      ]
     },
     "metadata": {
      "needs_background": "light"
     },
     "output_type": "display_data"
    }
   ],
   "source": [
    "import seaborn as sns\n",
    "\n",
    "sns.countplot(data = df, x = 'is_starting_letter_vowel', hue = 'gender')"
   ]
  },
  {
   "cell_type": "markdown",
   "id": "61c84ba7",
   "metadata": {},
   "source": [
    "It can be derived that starting letter being a vowel is not a good indicator for this dataset"
   ]
  },
  {
   "cell_type": "markdown",
   "id": "dce010bb",
   "metadata": {},
   "source": [
    "**Predict the gender (first_letter of name is vowel)**"
   ]
  },
  {
   "cell_type": "code",
   "execution_count": 36,
   "id": "1a85f28d",
   "metadata": {},
   "outputs": [],
   "source": [
    "def predict_one(name):\n",
    "    s = ['a','e','i','o','u']\n",
    "    first_letter = name[0]\n",
    "    last_letter = name[-1]\n",
    "    if first_letter in s:\n",
    "        return 'F'\n",
    "    else:\n",
    "        return 'M'"
   ]
  },
  {
   "cell_type": "code",
   "execution_count": 37,
   "id": "e7dd8713",
   "metadata": {},
   "outputs": [
    {
     "name": "stdout",
     "output_type": "stream",
     "text": [
      "Accuracy: 0.5093263449976877\n"
     ]
    }
   ],
   "source": [
    "predictions = [ predict_one(name) for name in df.name]\n",
    "accuracy = sum(df.gender == predictions) / len(df)\n",
    "print(f\"Accuracy: {accuracy}\")"
   ]
  },
  {
   "cell_type": "markdown",
   "id": "c23be3f3",
   "metadata": {},
   "source": [
    "**Predict the gender (last_letter of name is vowel)**"
   ]
  },
  {
   "cell_type": "code",
   "execution_count": 38,
   "id": "05388a0a",
   "metadata": {},
   "outputs": [],
   "source": [
    "def predict_one(name):\n",
    "    s = ['a','e','i','o','u']\n",
    "    first_letter = name[0]\n",
    "    last_letter = name[-1]\n",
    "    if last_letter in s:\n",
    "        return 'F'\n",
    "    else:\n",
    "        return 'M'"
   ]
  },
  {
   "cell_type": "code",
   "execution_count": 39,
   "id": "7039324e",
   "metadata": {},
   "outputs": [
    {
     "name": "stdout",
     "output_type": "stream",
     "text": [
      "Accuracy: 0.7029443502389394\n"
     ]
    }
   ],
   "source": [
    "predictions = [ predict_one(name) for name in df.name]\n",
    "accuracy = sum(df.gender == predictions) / len(df)\n",
    "print(f\"Accuracy: {accuracy}\")"
   ]
  },
  {
   "cell_type": "markdown",
   "id": "eac82343",
   "metadata": {},
   "source": [
    "**Predict the gender based on highest frequency in last letter of name**"
   ]
  },
  {
   "cell_type": "code",
   "execution_count": 40,
   "id": "f962c8e7",
   "metadata": {},
   "outputs": [],
   "source": [
    "def predict_one(name):\n",
    "    s = ['a','e','i','h','y']\n",
    "    first_letter = name[0]\n",
    "    last_letter = name[-1]\n",
    "    if last_letter in s:\n",
    "        return 'F'\n",
    "    else:\n",
    "        return 'M'"
   ]
  },
  {
   "cell_type": "code",
   "execution_count": 41,
   "id": "bea4e70f",
   "metadata": {},
   "outputs": [
    {
     "name": "stdout",
     "output_type": "stream",
     "text": [
      "Accuracy: 0.7602898103900108\n"
     ]
    }
   ],
   "source": [
    "predictions = [ predict_one(name) for name in df.name]\n",
    "accuracy = sum(df.gender == predictions) / len(df)\n",
    "print(f\"Accuracy: {accuracy}\")"
   ]
  },
  {
   "cell_type": "markdown",
   "id": "09057b96",
   "metadata": {},
   "source": [
    "### Predict gender based on the frequency of letter which are having same last and first letter"
   ]
  },
  {
   "cell_type": "markdown",
   "id": "fbed9f7c",
   "metadata": {},
   "source": [
    "**Find the count of last letter of male names which are having same last and first letter**"
   ]
  },
  {
   "cell_type": "code",
   "execution_count": 42,
   "id": "32d898f8",
   "metadata": {},
   "outputs": [
    {
     "data": {
      "text/plain": [
       "n    76\n",
       "a    51\n",
       "e    42\n",
       "r    41\n",
       "s    40\n",
       "d    38\n",
       "l    30\n",
       "o    23\n",
       "k    20\n",
       "h    19\n",
       "y    14\n",
       "m    11\n",
       "t    11\n",
       "i    11\n",
       "g     7\n",
       "c     5\n",
       "p     4\n",
       "v     4\n",
       "b     3\n",
       "j     2\n",
       "w     2\n",
       "u     1\n",
       "Name: name, dtype: int64"
      ]
     },
     "execution_count": 42,
     "metadata": {},
     "output_type": "execute_result"
    }
   ],
   "source": [
    "df[df['male_names'].str[0] == df['male_names'].str[-1]]['name'].str[-1].value_counts()"
   ]
  },
  {
   "cell_type": "markdown",
   "id": "3f160155",
   "metadata": {},
   "source": [
    "**Find the count of last letter of female names which are having same last and first letter**"
   ]
  },
  {
   "cell_type": "code",
   "execution_count": 43,
   "id": "cda5a552",
   "metadata": {},
   "outputs": [
    {
     "data": {
      "text/plain": [
       "a    766\n",
       "e    127\n",
       "l     20\n",
       "n     19\n",
       "y     17\n",
       "h     16\n",
       "i     12\n",
       "m     12\n",
       "r      4\n",
       "t      3\n",
       "s      3\n",
       "d      2\n",
       "o      2\n",
       "w      1\n",
       "c      1\n",
       "b      1\n",
       "Name: name, dtype: int64"
      ]
     },
     "execution_count": 43,
     "metadata": {},
     "output_type": "execute_result"
    }
   ],
   "source": [
    "df[df['female_names'].str[0] == df['female_names'].str[-1]]['name'].str[-1].value_counts()"
   ]
  },
  {
   "cell_type": "code",
   "execution_count": 44,
   "id": "3cfc4e5c",
   "metadata": {},
   "outputs": [],
   "source": [
    "def predict_one(name):\n",
    "    # your code\n",
    "    m_e_fre = ['n','o','l','s','r','d']\n",
    "    f_e_fre = ['a','e','y','i','m','h']\n",
    "    first_letter = name[0]\n",
    "    last_letter = name[-1]\n",
    "    if last_letter in f_e_fre:\n",
    "        return 'F'\n",
    "    else:\n",
    "        return 'M'\n"
   ]
  },
  {
   "cell_type": "code",
   "execution_count": 45,
   "id": "3889bd65",
   "metadata": {},
   "outputs": [
    {
     "name": "stdout",
     "output_type": "stream",
     "text": [
      "Accuracy: 0.750539540619701\n"
     ]
    }
   ],
   "source": [
    "predictions = [ predict_one(name) for name in df.name]\n",
    "accuracy = sum(df.gender == predictions) / len(df)\n",
    "print(f\"Accuracy: {accuracy}\")"
   ]
  },
  {
   "cell_type": "code",
   "execution_count": 46,
   "id": "c8ce390e",
   "metadata": {},
   "outputs": [],
   "source": [
    "def predict_gender(name):\n",
    "    first_letter = name[0]\n",
    "    last_letter = name[-1]\n",
    "   \n",
    "    if first_letter == 'a' or last_letter=='a':\n",
    "        return 'F'\n",
    "    else:\n",
    "        return 'M'"
   ]
  },
  {
   "cell_type": "code",
   "execution_count": 47,
   "id": "5f26c9b6",
   "metadata": {},
   "outputs": [
    {
     "name": "stdout",
     "output_type": "stream",
     "text": [
      "Accuracy: 0.750539540619701\n"
     ]
    }
   ],
   "source": [
    "predictions = [ predict_one(name) for name in df.name]\n",
    "accuracy = sum(df.gender == predictions) / len(df)\n",
    "print(f\"Accuracy: {accuracy}\")"
   ]
  },
  {
   "cell_type": "markdown",
   "id": "7647ee9a",
   "metadata": {},
   "source": [
    "**Predict gender based on vowel count of both male names and female names**"
   ]
  },
  {
   "cell_type": "code",
   "execution_count": 48,
   "id": "e8bb76ad",
   "metadata": {},
   "outputs": [
    {
     "data": {
      "text/plain": [
       "0        NaN\n",
       "1        1.0\n",
       "2        1.0\n",
       "3        NaN\n",
       "4        NaN\n",
       "        ... \n",
       "27995    4.0\n",
       "27996    1.0\n",
       "27997    3.0\n",
       "27998    NaN\n",
       "27999    3.0\n",
       "Name: male_vowel_count, Length: 25948, dtype: float64"
      ]
     },
     "execution_count": 48,
     "metadata": {},
     "output_type": "execute_result"
    }
   ],
   "source": [
    "df['male_vowel_count'] = df['male_names'].str.count('[aeiou]')\n",
    "df['male_vowel_count']"
   ]
  },
  {
   "cell_type": "code",
   "execution_count": 49,
   "id": "07461050",
   "metadata": {},
   "outputs": [
    {
     "data": {
      "text/plain": [
       "7.0"
      ]
     },
     "execution_count": 49,
     "metadata": {},
     "output_type": "execute_result"
    }
   ],
   "source": [
    "df['male_vowel_count'].max()"
   ]
  },
  {
   "cell_type": "code",
   "execution_count": 50,
   "id": "c694a859",
   "metadata": {},
   "outputs": [
    {
     "data": {
      "text/plain": [
       "0        2.0\n",
       "1        NaN\n",
       "2        NaN\n",
       "3        3.0\n",
       "4        1.0\n",
       "        ... \n",
       "27995    NaN\n",
       "27996    NaN\n",
       "27997    NaN\n",
       "27998    5.0\n",
       "27999    NaN\n",
       "Name: female_vowel_count, Length: 25948, dtype: float64"
      ]
     },
     "execution_count": 50,
     "metadata": {},
     "output_type": "execute_result"
    }
   ],
   "source": [
    "df['female_vowel_count'] = df['female_names'].str.count('[aeiou]')\n",
    "df['female_vowel_count']"
   ]
  },
  {
   "cell_type": "code",
   "execution_count": 51,
   "id": "88ad9473",
   "metadata": {},
   "outputs": [
    {
     "data": {
      "text/plain": [
       "8.0"
      ]
     },
     "execution_count": 51,
     "metadata": {},
     "output_type": "execute_result"
    }
   ],
   "source": [
    "df['female_vowel_count'].max()"
   ]
  },
  {
   "cell_type": "code",
   "execution_count": 52,
   "id": "f55ba63e",
   "metadata": {},
   "outputs": [],
   "source": [
    "def predict_gender(name):\n",
    "    \n",
    "    if name.str.count('[aeiou]')>7.0:\n",
    "        return 'F'\n",
    "    else:\n",
    "        return 'M'"
   ]
  },
  {
   "cell_type": "code",
   "execution_count": 53,
   "id": "3227fce4",
   "metadata": {},
   "outputs": [
    {
     "name": "stdout",
     "output_type": "stream",
     "text": [
      "Accuracy: 0.750539540619701\n"
     ]
    }
   ],
   "source": [
    "predictions = [ predict_one(name) for name in df.name]\n",
    "accuracy = sum(df.gender == predictions) / len(df)\n",
    "print(f\"Accuracy: {accuracy}\")"
   ]
  },
  {
   "cell_type": "markdown",
   "id": "2cc8ea26",
   "metadata": {},
   "source": [
    "***Based on the above executed code, I can say that the ending letters which are having the highest frequency has impact on accuarcy (the value of Accuracy is 0.7602898103900108)***"
   ]
  },
  {
   "cell_type": "code",
   "execution_count": null,
   "id": "43cd52b2",
   "metadata": {},
   "outputs": [],
   "source": []
  }
 ],
 "metadata": {
  "kernelspec": {
   "display_name": "Python 3",
   "language": "python",
   "name": "python3"
  },
  "language_info": {
   "codemirror_mode": {
    "name": "ipython",
    "version": 3
   },
   "file_extension": ".py",
   "mimetype": "text/x-python",
   "name": "python",
   "nbconvert_exporter": "python",
   "pygments_lexer": "ipython3",
   "version": "3.8.8"
  },
  "toc": {
   "base_numbering": 1,
   "nav_menu": {},
   "number_sections": true,
   "sideBar": true,
   "skip_h1_title": false,
   "title_cell": "Table of Contents",
   "title_sidebar": "Contents",
   "toc_cell": false,
   "toc_position": {},
   "toc_section_display": true,
   "toc_window_display": false
  }
 },
 "nbformat": 4,
 "nbformat_minor": 5
}
