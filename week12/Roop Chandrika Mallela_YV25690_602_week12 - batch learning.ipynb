{
 "cells": [
  {
   "cell_type": "markdown",
   "id": "9a9ec15d",
   "metadata": {},
   "source": [
    "# Homework 12\n",
    "\n",
    "https://scikit-learn.org/0.15/modules/scaling_strategies.html#incremental-learning\n",
    "\n",
    "* Implement a mini batch functionality to train a regressor.\n",
    "    - (Optional) If anyone want to do this in a pipeline can do this: https://koaning.github.io/tokenwiser/api/pipeline.html\n",
    "\n",
    "* Save model, load the model again and test it on `X_test` __Do NOT commit the pickle file__"
   ]
  },
  {
   "cell_type": "code",
   "execution_count": 1,
   "id": "c32e5a2d",
   "metadata": {},
   "outputs": [],
   "source": [
    "import pandas as pd\n",
    "import numpy as np\n",
    "import matplotlib.pyplot as plt\n"
   ]
  },
  {
   "cell_type": "code",
   "execution_count": 2,
   "id": "5a6e0532",
   "metadata": {},
   "outputs": [],
   "source": [
    "def test_df():\n",
    "    df = pd.read_csv('https://raw.githubusercontent.com/msaricaumbc/DS_data/master/ds602/car_prices/car_prices.csv', low_memory=False)\n",
    "\n",
    "    df = df.sample(5000, random_state=100).reset_index(drop=True)\n",
    "    \n",
    "    y = df['sellingprice']\n",
    "    df.drop('sellingprice', axis=1, inplace=True)\n",
    "    X = df\n",
    "    \n",
    "    return X,y\n",
    "\n",
    "def partial_df():\n",
    "    df = pd.read_csv('https://raw.githubusercontent.com/msaricaumbc/DS_data/master/ds602/car_prices/car_prices.csv', low_memory=False)\n",
    "   \n",
    "    while(True):\n",
    "        yield df.sample(100).reset_index(drop=True)\n",
    "        \n",
    "gen = partial_df()"
   ]
  },
  {
   "cell_type": "code",
   "execution_count": 3,
   "id": "325a5ad4",
   "metadata": {},
   "outputs": [],
   "source": [
    "X_test, y_test = test_df()"
   ]
  },
  {
   "cell_type": "code",
   "execution_count": 4,
   "id": "45bd3434",
   "metadata": {},
   "outputs": [
    {
     "data": {
      "text/html": [
       "<div>\n",
       "<style scoped>\n",
       "    .dataframe tbody tr th:only-of-type {\n",
       "        vertical-align: middle;\n",
       "    }\n",
       "\n",
       "    .dataframe tbody tr th {\n",
       "        vertical-align: top;\n",
       "    }\n",
       "\n",
       "    .dataframe thead th {\n",
       "        text-align: right;\n",
       "    }\n",
       "</style>\n",
       "<table border=\"1\" class=\"dataframe\">\n",
       "  <thead>\n",
       "    <tr style=\"text-align: right;\">\n",
       "      <th></th>\n",
       "      <th>year</th>\n",
       "      <th>make</th>\n",
       "      <th>model</th>\n",
       "      <th>trim</th>\n",
       "      <th>body</th>\n",
       "      <th>transmission</th>\n",
       "      <th>vin</th>\n",
       "      <th>state</th>\n",
       "      <th>condition</th>\n",
       "      <th>odometer</th>\n",
       "      <th>color</th>\n",
       "      <th>interior</th>\n",
       "      <th>seller</th>\n",
       "      <th>mmr</th>\n",
       "      <th>sellingprice</th>\n",
       "      <th>saledate</th>\n",
       "    </tr>\n",
       "  </thead>\n",
       "  <tbody>\n",
       "    <tr>\n",
       "      <th>0</th>\n",
       "      <td>2012</td>\n",
       "      <td>Ford</td>\n",
       "      <td>Fusion</td>\n",
       "      <td>SE</td>\n",
       "      <td>Sedan</td>\n",
       "      <td>automatic</td>\n",
       "      <td>3fahp0ha9cr247085</td>\n",
       "      <td>mo</td>\n",
       "      <td>3.7</td>\n",
       "      <td>31103.0</td>\n",
       "      <td>blue</td>\n",
       "      <td>black</td>\n",
       "      <td>ford motor credit company,llc pd</td>\n",
       "      <td>11800</td>\n",
       "      <td>11200</td>\n",
       "      <td>Tue Feb 10 2015 02:30:00 GMT-0800 (PST)</td>\n",
       "    </tr>\n",
       "    <tr>\n",
       "      <th>1</th>\n",
       "      <td>2014</td>\n",
       "      <td>Subaru</td>\n",
       "      <td>Impreza WRX</td>\n",
       "      <td>Base</td>\n",
       "      <td>Hatchback</td>\n",
       "      <td>manual</td>\n",
       "      <td>jf1gr7e64eg204248</td>\n",
       "      <td>tx</td>\n",
       "      <td>4.4</td>\n",
       "      <td>5451.0</td>\n",
       "      <td>gray</td>\n",
       "      <td>black</td>\n",
       "      <td>music city autoplex llc</td>\n",
       "      <td>24500</td>\n",
       "      <td>25500</td>\n",
       "      <td>Wed Feb 11 2015 02:20:00 GMT-0800 (PST)</td>\n",
       "    </tr>\n",
       "    <tr>\n",
       "      <th>2</th>\n",
       "      <td>2011</td>\n",
       "      <td>Honda</td>\n",
       "      <td>Odyssey</td>\n",
       "      <td>Touring</td>\n",
       "      <td>minivan</td>\n",
       "      <td>automatic</td>\n",
       "      <td>5fnrl5h93bb037689</td>\n",
       "      <td>pa</td>\n",
       "      <td>4.3</td>\n",
       "      <td>53851.0</td>\n",
       "      <td>black</td>\n",
       "      <td>gray</td>\n",
       "      <td>adcock brothers inc</td>\n",
       "      <td>23500</td>\n",
       "      <td>23750</td>\n",
       "      <td>Fri Jun 05 2015 02:00:00 GMT-0700 (PDT)</td>\n",
       "    </tr>\n",
       "    <tr>\n",
       "      <th>3</th>\n",
       "      <td>2012</td>\n",
       "      <td>Chevrolet</td>\n",
       "      <td>Malibu</td>\n",
       "      <td>LT</td>\n",
       "      <td>sedan</td>\n",
       "      <td>automatic</td>\n",
       "      <td>1g1zc5e00cf206966</td>\n",
       "      <td>il</td>\n",
       "      <td>1</td>\n",
       "      <td>39571.0</td>\n",
       "      <td>black</td>\n",
       "      <td>black</td>\n",
       "      <td>ally</td>\n",
       "      <td>10800</td>\n",
       "      <td>8000</td>\n",
       "      <td>Thu Jun 18 2015 07:00:00 GMT-0700 (PDT)</td>\n",
       "    </tr>\n",
       "    <tr>\n",
       "      <th>4</th>\n",
       "      <td>2000</td>\n",
       "      <td>BMW</td>\n",
       "      <td>3 Series</td>\n",
       "      <td>323i</td>\n",
       "      <td>Sedan</td>\n",
       "      <td>automatic</td>\n",
       "      <td>wbaan3340ync92009</td>\n",
       "      <td>ga</td>\n",
       "      <td>3.3</td>\n",
       "      <td>93851.0</td>\n",
       "      <td>silver</td>\n",
       "      <td>black</td>\n",
       "      <td>davis automotive</td>\n",
       "      <td>2125</td>\n",
       "      <td>4300</td>\n",
       "      <td>Thu Jan 22 2015 02:00:00 GMT-0800 (PST)</td>\n",
       "    </tr>\n",
       "    <tr>\n",
       "      <th>...</th>\n",
       "      <td>...</td>\n",
       "      <td>...</td>\n",
       "      <td>...</td>\n",
       "      <td>...</td>\n",
       "      <td>...</td>\n",
       "      <td>...</td>\n",
       "      <td>...</td>\n",
       "      <td>...</td>\n",
       "      <td>...</td>\n",
       "      <td>...</td>\n",
       "      <td>...</td>\n",
       "      <td>...</td>\n",
       "      <td>...</td>\n",
       "      <td>...</td>\n",
       "      <td>...</td>\n",
       "      <td>...</td>\n",
       "    </tr>\n",
       "    <tr>\n",
       "      <th>95</th>\n",
       "      <td>2011</td>\n",
       "      <td>Chevrolet</td>\n",
       "      <td>Equinox</td>\n",
       "      <td>LT1</td>\n",
       "      <td>SUV</td>\n",
       "      <td>automatic</td>\n",
       "      <td>2cnaldec2b6200499</td>\n",
       "      <td>tx</td>\n",
       "      <td>1.9</td>\n",
       "      <td>49586.0</td>\n",
       "      <td>gold</td>\n",
       "      <td>black</td>\n",
       "      <td>wells fargo dealer services</td>\n",
       "      <td>13400</td>\n",
       "      <td>7600</td>\n",
       "      <td>Wed Mar 04 2015 02:00:00 GMT-0800 (PST)</td>\n",
       "    </tr>\n",
       "    <tr>\n",
       "      <th>96</th>\n",
       "      <td>2006</td>\n",
       "      <td>Chevrolet</td>\n",
       "      <td>Impala</td>\n",
       "      <td>LT</td>\n",
       "      <td>Sedan</td>\n",
       "      <td>automatic</td>\n",
       "      <td>2g1wc581569345835</td>\n",
       "      <td>wi</td>\n",
       "      <td>1.9</td>\n",
       "      <td>134040.0</td>\n",
       "      <td>brown</td>\n",
       "      <td>beige</td>\n",
       "      <td>blackhawk finance</td>\n",
       "      <td>3375</td>\n",
       "      <td>3000</td>\n",
       "      <td>Wed Feb 11 2015 02:00:00 GMT-0800 (PST)</td>\n",
       "    </tr>\n",
       "    <tr>\n",
       "      <th>97</th>\n",
       "      <td>2007</td>\n",
       "      <td>Ford</td>\n",
       "      <td>Mustang</td>\n",
       "      <td>Deluxe</td>\n",
       "      <td>Convertible</td>\n",
       "      <td>automatic</td>\n",
       "      <td>1zvft84n675262587</td>\n",
       "      <td>co</td>\n",
       "      <td>2.9</td>\n",
       "      <td>30481.0</td>\n",
       "      <td>silver</td>\n",
       "      <td>gray</td>\n",
       "      <td>santander consumer</td>\n",
       "      <td>8125</td>\n",
       "      <td>10500</td>\n",
       "      <td>Tue Mar 03 2015 04:00:00 GMT-0800 (PST)</td>\n",
       "    </tr>\n",
       "    <tr>\n",
       "      <th>98</th>\n",
       "      <td>2011</td>\n",
       "      <td>Nissan</td>\n",
       "      <td>Altima</td>\n",
       "      <td>2.5 S</td>\n",
       "      <td>Sedan</td>\n",
       "      <td>automatic</td>\n",
       "      <td>1n4al2ap4bc134794</td>\n",
       "      <td>fl</td>\n",
       "      <td>3.7</td>\n",
       "      <td>53560.0</td>\n",
       "      <td>blue</td>\n",
       "      <td>gray</td>\n",
       "      <td>gm financial</td>\n",
       "      <td>10100</td>\n",
       "      <td>9100</td>\n",
       "      <td>Thu Feb 26 2015 01:40:00 GMT-0800 (PST)</td>\n",
       "    </tr>\n",
       "    <tr>\n",
       "      <th>99</th>\n",
       "      <td>2013</td>\n",
       "      <td>Ford</td>\n",
       "      <td>Edge</td>\n",
       "      <td>SEL</td>\n",
       "      <td>SUV</td>\n",
       "      <td>automatic</td>\n",
       "      <td>2fmdk3jc8dba36668</td>\n",
       "      <td>ca</td>\n",
       "      <td>4.3</td>\n",
       "      <td>34942.0</td>\n",
       "      <td>silver</td>\n",
       "      <td>black</td>\n",
       "      <td>ford motor credit company,llc pd</td>\n",
       "      <td>21200</td>\n",
       "      <td>22300</td>\n",
       "      <td>Thu Feb 26 2015 04:30:00 GMT-0800 (PST)</td>\n",
       "    </tr>\n",
       "  </tbody>\n",
       "</table>\n",
       "<p>100 rows × 16 columns</p>\n",
       "</div>"
      ],
      "text/plain": [
       "    year       make        model     trim         body transmission  \\\n",
       "0   2012       Ford       Fusion       SE        Sedan    automatic   \n",
       "1   2014     Subaru  Impreza WRX     Base    Hatchback       manual   \n",
       "2   2011      Honda      Odyssey  Touring      minivan    automatic   \n",
       "3   2012  Chevrolet       Malibu       LT        sedan    automatic   \n",
       "4   2000        BMW     3 Series     323i        Sedan    automatic   \n",
       "..   ...        ...          ...      ...          ...          ...   \n",
       "95  2011  Chevrolet      Equinox      LT1          SUV    automatic   \n",
       "96  2006  Chevrolet       Impala       LT        Sedan    automatic   \n",
       "97  2007       Ford      Mustang   Deluxe  Convertible    automatic   \n",
       "98  2011     Nissan       Altima    2.5 S        Sedan    automatic   \n",
       "99  2013       Ford         Edge      SEL          SUV    automatic   \n",
       "\n",
       "                  vin state condition  odometer   color interior  \\\n",
       "0   3fahp0ha9cr247085    mo       3.7   31103.0    blue    black   \n",
       "1   jf1gr7e64eg204248    tx       4.4    5451.0    gray    black   \n",
       "2   5fnrl5h93bb037689    pa       4.3   53851.0   black     gray   \n",
       "3   1g1zc5e00cf206966    il         1   39571.0   black    black   \n",
       "4   wbaan3340ync92009    ga       3.3   93851.0  silver    black   \n",
       "..                ...   ...       ...       ...     ...      ...   \n",
       "95  2cnaldec2b6200499    tx       1.9   49586.0    gold    black   \n",
       "96  2g1wc581569345835    wi       1.9  134040.0   brown    beige   \n",
       "97  1zvft84n675262587    co       2.9   30481.0  silver     gray   \n",
       "98  1n4al2ap4bc134794    fl       3.7   53560.0    blue     gray   \n",
       "99  2fmdk3jc8dba36668    ca       4.3   34942.0  silver    black   \n",
       "\n",
       "                              seller    mmr  sellingprice  \\\n",
       "0   ford motor credit company,llc pd  11800         11200   \n",
       "1            music city autoplex llc  24500         25500   \n",
       "2                adcock brothers inc  23500         23750   \n",
       "3                               ally  10800          8000   \n",
       "4                   davis automotive   2125          4300   \n",
       "..                               ...    ...           ...   \n",
       "95       wells fargo dealer services  13400          7600   \n",
       "96                 blackhawk finance   3375          3000   \n",
       "97                santander consumer   8125         10500   \n",
       "98                      gm financial  10100          9100   \n",
       "99  ford motor credit company,llc pd  21200         22300   \n",
       "\n",
       "                                   saledate  \n",
       "0   Tue Feb 10 2015 02:30:00 GMT-0800 (PST)  \n",
       "1   Wed Feb 11 2015 02:20:00 GMT-0800 (PST)  \n",
       "2   Fri Jun 05 2015 02:00:00 GMT-0700 (PDT)  \n",
       "3   Thu Jun 18 2015 07:00:00 GMT-0700 (PDT)  \n",
       "4   Thu Jan 22 2015 02:00:00 GMT-0800 (PST)  \n",
       "..                                      ...  \n",
       "95  Wed Mar 04 2015 02:00:00 GMT-0800 (PST)  \n",
       "96  Wed Feb 11 2015 02:00:00 GMT-0800 (PST)  \n",
       "97  Tue Mar 03 2015 04:00:00 GMT-0800 (PST)  \n",
       "98  Thu Feb 26 2015 01:40:00 GMT-0800 (PST)  \n",
       "99  Thu Feb 26 2015 04:30:00 GMT-0800 (PST)  \n",
       "\n",
       "[100 rows x 16 columns]"
      ]
     },
     "execution_count": 4,
     "metadata": {},
     "output_type": "execute_result"
    }
   ],
   "source": [
    "# each time you call this you will get a new slice of the dataframe.\n",
    "next(gen)"
   ]
  },
  {
   "cell_type": "code",
   "execution_count": 5,
   "id": "86b06487",
   "metadata": {},
   "outputs": [
    {
     "data": {
      "text/plain": [
       "year              int64\n",
       "make             object\n",
       "model            object\n",
       "trim             object\n",
       "body             object\n",
       "transmission     object\n",
       "vin              object\n",
       "state            object\n",
       "condition        object\n",
       "odometer        float64\n",
       "color            object\n",
       "interior         object\n",
       "seller           object\n",
       "mmr              object\n",
       "sellingprice      int64\n",
       "saledate         object\n",
       "dtype: object"
      ]
     },
     "execution_count": 5,
     "metadata": {},
     "output_type": "execute_result"
    }
   ],
   "source": [
    "next(gen).dtypes"
   ]
  },
  {
   "cell_type": "code",
   "execution_count": 6,
   "id": "0c5de4b1",
   "metadata": {},
   "outputs": [
    {
     "data": {
      "text/plain": [
       "Index(['year', 'make', 'model', 'trim', 'body', 'transmission', 'vin', 'state',\n",
       "       'condition', 'odometer', 'color', 'interior', 'seller', 'mmr',\n",
       "       'sellingprice', 'saledate'],\n",
       "      dtype='object')"
      ]
     },
     "execution_count": 6,
     "metadata": {},
     "output_type": "execute_result"
    }
   ],
   "source": [
    "next(gen).columns"
   ]
  },
  {
   "cell_type": "code",
   "execution_count": 7,
   "id": "d6f8fbbf",
   "metadata": {},
   "outputs": [
    {
     "data": {
      "text/plain": [
       "<generator object partial_df at 0x000001C3226A67B0>"
      ]
     },
     "execution_count": 7,
     "metadata": {},
     "output_type": "execute_result"
    }
   ],
   "source": [
    "gen"
   ]
  },
  {
   "cell_type": "markdown",
   "id": "4b51810e",
   "metadata": {},
   "source": [
    "## Import the necessary libraries"
   ]
  },
  {
   "cell_type": "code",
   "execution_count": 8,
   "id": "0904d0e8",
   "metadata": {},
   "outputs": [],
   "source": [
    "from sklearn.linear_model import SGDRegressor\n",
    "from sklearn.metrics import mean_squared_error\n",
    "from sklearn.pipeline import Pipeline\n",
    "from sklearn.impute import SimpleImputer\n",
    "from sklearn.preprocessing import StandardScaler, OneHotEncoder\n",
    "from sklearn.compose import ColumnTransformer\n",
    "import joblib\n",
    "import warnings\n",
    "warnings.filterwarnings(\"ignore\")"
   ]
  },
  {
   "cell_type": "markdown",
   "id": "c3eb02a8",
   "metadata": {},
   "source": [
    "**In the following code, I have implemented the following :-**\n",
    "\n",
    "- First, initialized the SGDRegressor model.\n",
    "- Divide the dataset into numerical and categorical features.\n",
    "- Create a numerical transformer which imputes the missing values with mean and scale the numerical data.\n",
    "- Create a categorical transformer which imputes the missing values with most_frequent value and do the one hot encoding.\n",
    "- Preprocess the numerical and categorical data and transform the data using ColumnTransformer.\n",
    "- Combine the preprocessor pipeline and model pipeline (sgd_regressor)."
   ]
  },
  {
   "cell_type": "code",
   "execution_count": 9,
   "id": "63825f89",
   "metadata": {},
   "outputs": [],
   "source": [
    "# Initialize the sgdregressor model\n",
    "sgd_regressor = SGDRegressor()\n",
    "\n",
    "# Divide into numerical and categorical features\n",
    "numerical_features = X_test.select_dtypes(include=['int64', 'float64']).columns\n",
    "categorical_features = X_test.select_dtypes(include=['object']).columns\n",
    "\n",
    "# Transform the numerical features by imputing with mean and scale the data using standard scaler.\n",
    "numerical_transformer = Pipeline(steps=[\n",
    "    ('imputer', SimpleImputer(strategy='mean')),\n",
    "    ('scaler', StandardScaler())\n",
    "])\n",
    "\n",
    "# Transform the categorical features by imputing with most frequent value and use onehotencoder to convert into numerical values.\n",
    "categorical_transformer = Pipeline(steps=[\n",
    "    ('imputer', SimpleImputer(strategy='most_frequent')),\n",
    "    ('onehot', OneHotEncoder(handle_unknown='ignore'))\n",
    "])\n",
    "\n",
    "# Combine the numerical and categorical transformers\n",
    "preprocessor = ColumnTransformer(\n",
    "    transformers=[\n",
    "        ('num', numerical_transformer, numerical_features),\n",
    "        ('cat', categorical_transformer, categorical_features)\n",
    "    ])\n",
    "\n",
    "# Create a pipeline with preprocessor and model\n",
    "pipeline = Pipeline(steps=[\n",
    "    ('preprocessor', preprocessor),\n",
    "    ('model', sgd_regressor)\n",
    "])"
   ]
  },
  {
   "cell_type": "markdown",
   "id": "6790b90b",
   "metadata": {},
   "source": [
    "### In the following cell, I have implemented mini-batch functionality to train a regressor."
   ]
  },
  {
   "cell_type": "code",
   "execution_count": 10,
   "id": "ba24f3fa",
   "metadata": {},
   "outputs": [],
   "source": [
    "batch = 150\n",
    "num_batches = 70\n",
    "for _ in range(num_batches):\n",
    "    X_batch = next(gen)\n",
    "    y_batch = X_batch.pop('sellingprice')\n",
    "    pipeline.fit(X_batch, y_batch)"
   ]
  },
  {
   "cell_type": "markdown",
   "id": "691eb99e",
   "metadata": {},
   "source": [
    "### Evaluate the model"
   ]
  },
  {
   "cell_type": "code",
   "execution_count": 11,
   "id": "b6c5bd07",
   "metadata": {},
   "outputs": [
    {
     "name": "stdout",
     "output_type": "stream",
     "text": [
      "Mean Squared Error of Test Set 51501198.521237105\n"
     ]
    }
   ],
   "source": [
    "y_pred = pipeline.predict(X_test)\n",
    "mse = mean_squared_error(y_test, y_pred)\n",
    "print('Mean Squared Error of Test Set',mse)"
   ]
  },
  {
   "cell_type": "markdown",
   "id": "753ad74e",
   "metadata": {},
   "source": [
    "### Save the model into a file"
   ]
  },
  {
   "cell_type": "code",
   "execution_count": 12,
   "id": "17da6516",
   "metadata": {},
   "outputs": [
    {
     "data": {
      "text/plain": [
       "['model.pkl']"
      ]
     },
     "execution_count": 12,
     "metadata": {},
     "output_type": "execute_result"
    }
   ],
   "source": [
    "joblib.dump(pipeline, 'model.pkl')"
   ]
  },
  {
   "cell_type": "markdown",
   "id": "4a30add8",
   "metadata": {},
   "source": [
    "### Load the model from the file"
   ]
  },
  {
   "cell_type": "code",
   "execution_count": 13,
   "id": "eac918e3",
   "metadata": {},
   "outputs": [
    {
     "data": {
      "text/html": [
       "<style>#sk-container-id-1 {color: black;background-color: white;}#sk-container-id-1 pre{padding: 0;}#sk-container-id-1 div.sk-toggleable {background-color: white;}#sk-container-id-1 label.sk-toggleable__label {cursor: pointer;display: block;width: 100%;margin-bottom: 0;padding: 0.3em;box-sizing: border-box;text-align: center;}#sk-container-id-1 label.sk-toggleable__label-arrow:before {content: \"▸\";float: left;margin-right: 0.25em;color: #696969;}#sk-container-id-1 label.sk-toggleable__label-arrow:hover:before {color: black;}#sk-container-id-1 div.sk-estimator:hover label.sk-toggleable__label-arrow:before {color: black;}#sk-container-id-1 div.sk-toggleable__content {max-height: 0;max-width: 0;overflow: hidden;text-align: left;background-color: #f0f8ff;}#sk-container-id-1 div.sk-toggleable__content pre {margin: 0.2em;color: black;border-radius: 0.25em;background-color: #f0f8ff;}#sk-container-id-1 input.sk-toggleable__control:checked~div.sk-toggleable__content {max-height: 200px;max-width: 100%;overflow: auto;}#sk-container-id-1 input.sk-toggleable__control:checked~label.sk-toggleable__label-arrow:before {content: \"▾\";}#sk-container-id-1 div.sk-estimator input.sk-toggleable__control:checked~label.sk-toggleable__label {background-color: #d4ebff;}#sk-container-id-1 div.sk-label input.sk-toggleable__control:checked~label.sk-toggleable__label {background-color: #d4ebff;}#sk-container-id-1 input.sk-hidden--visually {border: 0;clip: rect(1px 1px 1px 1px);clip: rect(1px, 1px, 1px, 1px);height: 1px;margin: -1px;overflow: hidden;padding: 0;position: absolute;width: 1px;}#sk-container-id-1 div.sk-estimator {font-family: monospace;background-color: #f0f8ff;border: 1px dotted black;border-radius: 0.25em;box-sizing: border-box;margin-bottom: 0.5em;}#sk-container-id-1 div.sk-estimator:hover {background-color: #d4ebff;}#sk-container-id-1 div.sk-parallel-item::after {content: \"\";width: 100%;border-bottom: 1px solid gray;flex-grow: 1;}#sk-container-id-1 div.sk-label:hover label.sk-toggleable__label {background-color: #d4ebff;}#sk-container-id-1 div.sk-serial::before {content: \"\";position: absolute;border-left: 1px solid gray;box-sizing: border-box;top: 0;bottom: 0;left: 50%;z-index: 0;}#sk-container-id-1 div.sk-serial {display: flex;flex-direction: column;align-items: center;background-color: white;padding-right: 0.2em;padding-left: 0.2em;position: relative;}#sk-container-id-1 div.sk-item {position: relative;z-index: 1;}#sk-container-id-1 div.sk-parallel {display: flex;align-items: stretch;justify-content: center;background-color: white;position: relative;}#sk-container-id-1 div.sk-item::before, #sk-container-id-1 div.sk-parallel-item::before {content: \"\";position: absolute;border-left: 1px solid gray;box-sizing: border-box;top: 0;bottom: 0;left: 50%;z-index: -1;}#sk-container-id-1 div.sk-parallel-item {display: flex;flex-direction: column;z-index: 1;position: relative;background-color: white;}#sk-container-id-1 div.sk-parallel-item:first-child::after {align-self: flex-end;width: 50%;}#sk-container-id-1 div.sk-parallel-item:last-child::after {align-self: flex-start;width: 50%;}#sk-container-id-1 div.sk-parallel-item:only-child::after {width: 0;}#sk-container-id-1 div.sk-dashed-wrapped {border: 1px dashed gray;margin: 0 0.4em 0.5em 0.4em;box-sizing: border-box;padding-bottom: 0.4em;background-color: white;}#sk-container-id-1 div.sk-label label {font-family: monospace;font-weight: bold;display: inline-block;line-height: 1.2em;}#sk-container-id-1 div.sk-label-container {text-align: center;}#sk-container-id-1 div.sk-container {/* jupyter's `normalize.less` sets `[hidden] { display: none; }` but bootstrap.min.css set `[hidden] { display: none !important; }` so we also need the `!important` here to be able to override the default hidden behavior on the sphinx rendered scikit-learn.org. See: https://github.com/scikit-learn/scikit-learn/issues/21755 */display: inline-block !important;position: relative;}#sk-container-id-1 div.sk-text-repr-fallback {display: none;}</style><div id=\"sk-container-id-1\" class=\"sk-top-container\"><div class=\"sk-text-repr-fallback\"><pre>Pipeline(steps=[(&#x27;preprocessor&#x27;,\n",
       "                 ColumnTransformer(transformers=[(&#x27;num&#x27;,\n",
       "                                                  Pipeline(steps=[(&#x27;imputer&#x27;,\n",
       "                                                                   SimpleImputer()),\n",
       "                                                                  (&#x27;scaler&#x27;,\n",
       "                                                                   StandardScaler())]),\n",
       "                                                  Index([&#x27;year&#x27;, &#x27;odometer&#x27;], dtype=&#x27;object&#x27;)),\n",
       "                                                 (&#x27;cat&#x27;,\n",
       "                                                  Pipeline(steps=[(&#x27;imputer&#x27;,\n",
       "                                                                   SimpleImputer(strategy=&#x27;most_frequent&#x27;)),\n",
       "                                                                  (&#x27;onehot&#x27;,\n",
       "                                                                   OneHotEncoder(handle_unknown=&#x27;ignore&#x27;))]),\n",
       "                                                  Index([&#x27;make&#x27;, &#x27;model&#x27;, &#x27;trim&#x27;, &#x27;body&#x27;, &#x27;transmission&#x27;, &#x27;vin&#x27;, &#x27;state&#x27;,\n",
       "       &#x27;condition&#x27;, &#x27;color&#x27;, &#x27;interior&#x27;, &#x27;seller&#x27;, &#x27;mmr&#x27;, &#x27;saledate&#x27;],\n",
       "      dtype=&#x27;object&#x27;))])),\n",
       "                (&#x27;model&#x27;, SGDRegressor())])</pre><b>In a Jupyter environment, please rerun this cell to show the HTML representation or trust the notebook. <br />On GitHub, the HTML representation is unable to render, please try loading this page with nbviewer.org.</b></div><div class=\"sk-container\" hidden><div class=\"sk-item sk-dashed-wrapped\"><div class=\"sk-label-container\"><div class=\"sk-label sk-toggleable\"><input class=\"sk-toggleable__control sk-hidden--visually\" id=\"sk-estimator-id-1\" type=\"checkbox\" ><label for=\"sk-estimator-id-1\" class=\"sk-toggleable__label sk-toggleable__label-arrow\">Pipeline</label><div class=\"sk-toggleable__content\"><pre>Pipeline(steps=[(&#x27;preprocessor&#x27;,\n",
       "                 ColumnTransformer(transformers=[(&#x27;num&#x27;,\n",
       "                                                  Pipeline(steps=[(&#x27;imputer&#x27;,\n",
       "                                                                   SimpleImputer()),\n",
       "                                                                  (&#x27;scaler&#x27;,\n",
       "                                                                   StandardScaler())]),\n",
       "                                                  Index([&#x27;year&#x27;, &#x27;odometer&#x27;], dtype=&#x27;object&#x27;)),\n",
       "                                                 (&#x27;cat&#x27;,\n",
       "                                                  Pipeline(steps=[(&#x27;imputer&#x27;,\n",
       "                                                                   SimpleImputer(strategy=&#x27;most_frequent&#x27;)),\n",
       "                                                                  (&#x27;onehot&#x27;,\n",
       "                                                                   OneHotEncoder(handle_unknown=&#x27;ignore&#x27;))]),\n",
       "                                                  Index([&#x27;make&#x27;, &#x27;model&#x27;, &#x27;trim&#x27;, &#x27;body&#x27;, &#x27;transmission&#x27;, &#x27;vin&#x27;, &#x27;state&#x27;,\n",
       "       &#x27;condition&#x27;, &#x27;color&#x27;, &#x27;interior&#x27;, &#x27;seller&#x27;, &#x27;mmr&#x27;, &#x27;saledate&#x27;],\n",
       "      dtype=&#x27;object&#x27;))])),\n",
       "                (&#x27;model&#x27;, SGDRegressor())])</pre></div></div></div><div class=\"sk-serial\"><div class=\"sk-item sk-dashed-wrapped\"><div class=\"sk-label-container\"><div class=\"sk-label sk-toggleable\"><input class=\"sk-toggleable__control sk-hidden--visually\" id=\"sk-estimator-id-2\" type=\"checkbox\" ><label for=\"sk-estimator-id-2\" class=\"sk-toggleable__label sk-toggleable__label-arrow\">preprocessor: ColumnTransformer</label><div class=\"sk-toggleable__content\"><pre>ColumnTransformer(transformers=[(&#x27;num&#x27;,\n",
       "                                 Pipeline(steps=[(&#x27;imputer&#x27;, SimpleImputer()),\n",
       "                                                 (&#x27;scaler&#x27;, StandardScaler())]),\n",
       "                                 Index([&#x27;year&#x27;, &#x27;odometer&#x27;], dtype=&#x27;object&#x27;)),\n",
       "                                (&#x27;cat&#x27;,\n",
       "                                 Pipeline(steps=[(&#x27;imputer&#x27;,\n",
       "                                                  SimpleImputer(strategy=&#x27;most_frequent&#x27;)),\n",
       "                                                 (&#x27;onehot&#x27;,\n",
       "                                                  OneHotEncoder(handle_unknown=&#x27;ignore&#x27;))]),\n",
       "                                 Index([&#x27;make&#x27;, &#x27;model&#x27;, &#x27;trim&#x27;, &#x27;body&#x27;, &#x27;transmission&#x27;, &#x27;vin&#x27;, &#x27;state&#x27;,\n",
       "       &#x27;condition&#x27;, &#x27;color&#x27;, &#x27;interior&#x27;, &#x27;seller&#x27;, &#x27;mmr&#x27;, &#x27;saledate&#x27;],\n",
       "      dtype=&#x27;object&#x27;))])</pre></div></div></div><div class=\"sk-parallel\"><div class=\"sk-parallel-item\"><div class=\"sk-item\"><div class=\"sk-label-container\"><div class=\"sk-label sk-toggleable\"><input class=\"sk-toggleable__control sk-hidden--visually\" id=\"sk-estimator-id-3\" type=\"checkbox\" ><label for=\"sk-estimator-id-3\" class=\"sk-toggleable__label sk-toggleable__label-arrow\">num</label><div class=\"sk-toggleable__content\"><pre>Index([&#x27;year&#x27;, &#x27;odometer&#x27;], dtype=&#x27;object&#x27;)</pre></div></div></div><div class=\"sk-serial\"><div class=\"sk-item\"><div class=\"sk-serial\"><div class=\"sk-item\"><div class=\"sk-estimator sk-toggleable\"><input class=\"sk-toggleable__control sk-hidden--visually\" id=\"sk-estimator-id-4\" type=\"checkbox\" ><label for=\"sk-estimator-id-4\" class=\"sk-toggleable__label sk-toggleable__label-arrow\">SimpleImputer</label><div class=\"sk-toggleable__content\"><pre>SimpleImputer()</pre></div></div></div><div class=\"sk-item\"><div class=\"sk-estimator sk-toggleable\"><input class=\"sk-toggleable__control sk-hidden--visually\" id=\"sk-estimator-id-5\" type=\"checkbox\" ><label for=\"sk-estimator-id-5\" class=\"sk-toggleable__label sk-toggleable__label-arrow\">StandardScaler</label><div class=\"sk-toggleable__content\"><pre>StandardScaler()</pre></div></div></div></div></div></div></div></div><div class=\"sk-parallel-item\"><div class=\"sk-item\"><div class=\"sk-label-container\"><div class=\"sk-label sk-toggleable\"><input class=\"sk-toggleable__control sk-hidden--visually\" id=\"sk-estimator-id-6\" type=\"checkbox\" ><label for=\"sk-estimator-id-6\" class=\"sk-toggleable__label sk-toggleable__label-arrow\">cat</label><div class=\"sk-toggleable__content\"><pre>Index([&#x27;make&#x27;, &#x27;model&#x27;, &#x27;trim&#x27;, &#x27;body&#x27;, &#x27;transmission&#x27;, &#x27;vin&#x27;, &#x27;state&#x27;,\n",
       "       &#x27;condition&#x27;, &#x27;color&#x27;, &#x27;interior&#x27;, &#x27;seller&#x27;, &#x27;mmr&#x27;, &#x27;saledate&#x27;],\n",
       "      dtype=&#x27;object&#x27;)</pre></div></div></div><div class=\"sk-serial\"><div class=\"sk-item\"><div class=\"sk-serial\"><div class=\"sk-item\"><div class=\"sk-estimator sk-toggleable\"><input class=\"sk-toggleable__control sk-hidden--visually\" id=\"sk-estimator-id-7\" type=\"checkbox\" ><label for=\"sk-estimator-id-7\" class=\"sk-toggleable__label sk-toggleable__label-arrow\">SimpleImputer</label><div class=\"sk-toggleable__content\"><pre>SimpleImputer(strategy=&#x27;most_frequent&#x27;)</pre></div></div></div><div class=\"sk-item\"><div class=\"sk-estimator sk-toggleable\"><input class=\"sk-toggleable__control sk-hidden--visually\" id=\"sk-estimator-id-8\" type=\"checkbox\" ><label for=\"sk-estimator-id-8\" class=\"sk-toggleable__label sk-toggleable__label-arrow\">OneHotEncoder</label><div class=\"sk-toggleable__content\"><pre>OneHotEncoder(handle_unknown=&#x27;ignore&#x27;)</pre></div></div></div></div></div></div></div></div></div></div><div class=\"sk-item\"><div class=\"sk-estimator sk-toggleable\"><input class=\"sk-toggleable__control sk-hidden--visually\" id=\"sk-estimator-id-9\" type=\"checkbox\" ><label for=\"sk-estimator-id-9\" class=\"sk-toggleable__label sk-toggleable__label-arrow\">SGDRegressor</label><div class=\"sk-toggleable__content\"><pre>SGDRegressor()</pre></div></div></div></div></div></div></div>"
      ],
      "text/plain": [
       "Pipeline(steps=[('preprocessor',\n",
       "                 ColumnTransformer(transformers=[('num',\n",
       "                                                  Pipeline(steps=[('imputer',\n",
       "                                                                   SimpleImputer()),\n",
       "                                                                  ('scaler',\n",
       "                                                                   StandardScaler())]),\n",
       "                                                  Index(['year', 'odometer'], dtype='object')),\n",
       "                                                 ('cat',\n",
       "                                                  Pipeline(steps=[('imputer',\n",
       "                                                                   SimpleImputer(strategy='most_frequent')),\n",
       "                                                                  ('onehot',\n",
       "                                                                   OneHotEncoder(handle_unknown='ignore'))]),\n",
       "                                                  Index(['make', 'model', 'trim', 'body', 'transmission', 'vin', 'state',\n",
       "       'condition', 'color', 'interior', 'seller', 'mmr', 'saledate'],\n",
       "      dtype='object'))])),\n",
       "                ('model', SGDRegressor())])"
      ]
     },
     "execution_count": 13,
     "metadata": {},
     "output_type": "execute_result"
    }
   ],
   "source": [
    "model_pipeline = joblib.load('model.pkl')\n",
    "model_pipeline"
   ]
  },
  {
   "cell_type": "markdown",
   "id": "4a2c15f2",
   "metadata": {},
   "source": [
    "### Test the loaded model"
   ]
  },
  {
   "cell_type": "code",
   "execution_count": 14,
   "id": "a2373d15",
   "metadata": {},
   "outputs": [
    {
     "name": "stdout",
     "output_type": "stream",
     "text": [
      "Mean Squared Error of Loaded model test set 51501198.521237105\n"
     ]
    }
   ],
   "source": [
    "pred = model_pipeline.predict(X_test)\n",
    "mse_loaded = mean_squared_error(y_test, pred)\n",
    "print('Mean Squared Error of Loaded model test set',mse_loaded)"
   ]
  },
  {
   "cell_type": "markdown",
   "id": "73671056",
   "metadata": {},
   "source": [
    "**From the above code, mean squared error on the normal test set is 51501198.521237105 and the mean squared error on the loaded model test set is 51501198.521237105**"
   ]
  },
  {
   "cell_type": "code",
   "execution_count": null,
   "id": "483e442a",
   "metadata": {},
   "outputs": [],
   "source": []
  }
 ],
 "metadata": {
  "kernelspec": {
   "display_name": "Python 3",
   "language": "python",
   "name": "python3"
  },
  "language_info": {
   "codemirror_mode": {
    "name": "ipython",
    "version": 3
   },
   "file_extension": ".py",
   "mimetype": "text/x-python",
   "name": "python",
   "nbconvert_exporter": "python",
   "pygments_lexer": "ipython3",
   "version": "3.8.8"
  },
  "toc": {
   "base_numbering": 1,
   "nav_menu": {},
   "number_sections": false,
   "sideBar": true,
   "skip_h1_title": false,
   "title_cell": "Table of Contents",
   "title_sidebar": "Contents",
   "toc_cell": false,
   "toc_position": {},
   "toc_section_display": true,
   "toc_window_display": false
  }
 },
 "nbformat": 4,
 "nbformat_minor": 5
}
