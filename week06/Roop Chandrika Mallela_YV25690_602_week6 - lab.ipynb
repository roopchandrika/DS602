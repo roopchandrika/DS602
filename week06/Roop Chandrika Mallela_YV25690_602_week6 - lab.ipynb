{
 "cells": [
  {
   "cell_type": "markdown",
   "id": "0b3c2eb6",
   "metadata": {},
   "source": [
    "# Classifier Evaluation Lab\n",
    "\n",
    "* Copy&paste your model for homework5 model\n",
    "* Add grid search and train\n",
    "* Compare performance\n",
    "* Which one is better? Explain?"
   ]
  },
  {
   "cell_type": "code",
   "execution_count": 1,
   "id": "8c03dd9a",
   "metadata": {},
   "outputs": [
    {
     "data": {
      "text/html": [
       "<div>\n",
       "<style scoped>\n",
       "    .dataframe tbody tr th:only-of-type {\n",
       "        vertical-align: middle;\n",
       "    }\n",
       "\n",
       "    .dataframe tbody tr th {\n",
       "        vertical-align: top;\n",
       "    }\n",
       "\n",
       "    .dataframe thead th {\n",
       "        text-align: right;\n",
       "    }\n",
       "</style>\n",
       "<table border=\"1\" class=\"dataframe\">\n",
       "  <thead>\n",
       "    <tr style=\"text-align: right;\">\n",
       "      <th></th>\n",
       "      <th>left_company</th>\n",
       "      <th>age</th>\n",
       "      <th>frequency_of_travel</th>\n",
       "      <th>department</th>\n",
       "      <th>commuting_distance</th>\n",
       "      <th>education</th>\n",
       "      <th>satisfaction_with_environment</th>\n",
       "      <th>gender</th>\n",
       "      <th>seniority_level</th>\n",
       "      <th>position</th>\n",
       "      <th>satisfaction_with_job</th>\n",
       "      <th>married_or_single</th>\n",
       "      <th>last_raise_pct</th>\n",
       "      <th>last_performance_rating</th>\n",
       "      <th>total_years_working</th>\n",
       "      <th>years_at_company</th>\n",
       "      <th>years_in_current_job</th>\n",
       "      <th>years_since_last_promotion</th>\n",
       "      <th>years_with_current_supervisor</th>\n",
       "    </tr>\n",
       "  </thead>\n",
       "  <tbody>\n",
       "    <tr>\n",
       "      <th>0</th>\n",
       "      <td>No</td>\n",
       "      <td>37</td>\n",
       "      <td>Travel_Rarely</td>\n",
       "      <td>Sales</td>\n",
       "      <td>16</td>\n",
       "      <td>4</td>\n",
       "      <td>4</td>\n",
       "      <td>Male</td>\n",
       "      <td>2</td>\n",
       "      <td>Sales Executive</td>\n",
       "      <td>3</td>\n",
       "      <td>Divorced</td>\n",
       "      <td>19</td>\n",
       "      <td>3</td>\n",
       "      <td>9</td>\n",
       "      <td>1</td>\n",
       "      <td>0</td>\n",
       "      <td>0</td>\n",
       "      <td>0</td>\n",
       "    </tr>\n",
       "    <tr>\n",
       "      <th>1</th>\n",
       "      <td>No</td>\n",
       "      <td>39</td>\n",
       "      <td>Travel_Rarely</td>\n",
       "      <td>Research &amp; Development</td>\n",
       "      <td>3</td>\n",
       "      <td>2</td>\n",
       "      <td>3</td>\n",
       "      <td>Male</td>\n",
       "      <td>2</td>\n",
       "      <td>Laboratory Technician</td>\n",
       "      <td>3</td>\n",
       "      <td>Divorced</td>\n",
       "      <td>15</td>\n",
       "      <td>3</td>\n",
       "      <td>11</td>\n",
       "      <td>10</td>\n",
       "      <td>8</td>\n",
       "      <td>0</td>\n",
       "      <td>7</td>\n",
       "    </tr>\n",
       "    <tr>\n",
       "      <th>2</th>\n",
       "      <td>No</td>\n",
       "      <td>52</td>\n",
       "      <td>Travel_Frequently</td>\n",
       "      <td>Research &amp; Development</td>\n",
       "      <td>25</td>\n",
       "      <td>4</td>\n",
       "      <td>3</td>\n",
       "      <td>Female</td>\n",
       "      <td>4</td>\n",
       "      <td>Manufacturing Director</td>\n",
       "      <td>4</td>\n",
       "      <td>Married</td>\n",
       "      <td>22</td>\n",
       "      <td>4</td>\n",
       "      <td>31</td>\n",
       "      <td>9</td>\n",
       "      <td>8</td>\n",
       "      <td>0</td>\n",
       "      <td>0</td>\n",
       "    </tr>\n",
       "    <tr>\n",
       "      <th>3</th>\n",
       "      <td>No</td>\n",
       "      <td>50</td>\n",
       "      <td>Non-Travel</td>\n",
       "      <td>Sales</td>\n",
       "      <td>1</td>\n",
       "      <td>3</td>\n",
       "      <td>4</td>\n",
       "      <td>Female</td>\n",
       "      <td>2</td>\n",
       "      <td>Sales Executive</td>\n",
       "      <td>3</td>\n",
       "      <td>Married</td>\n",
       "      <td>12</td>\n",
       "      <td>3</td>\n",
       "      <td>19</td>\n",
       "      <td>18</td>\n",
       "      <td>7</td>\n",
       "      <td>0</td>\n",
       "      <td>13</td>\n",
       "    </tr>\n",
       "    <tr>\n",
       "      <th>4</th>\n",
       "      <td>No</td>\n",
       "      <td>44</td>\n",
       "      <td>Travel_Rarely</td>\n",
       "      <td>Research &amp; Development</td>\n",
       "      <td>4</td>\n",
       "      <td>3</td>\n",
       "      <td>4</td>\n",
       "      <td>Male</td>\n",
       "      <td>2</td>\n",
       "      <td>Healthcare Representative</td>\n",
       "      <td>2</td>\n",
       "      <td>Single</td>\n",
       "      <td>12</td>\n",
       "      <td>3</td>\n",
       "      <td>10</td>\n",
       "      <td>5</td>\n",
       "      <td>2</td>\n",
       "      <td>2</td>\n",
       "      <td>3</td>\n",
       "    </tr>\n",
       "  </tbody>\n",
       "</table>\n",
       "</div>"
      ],
      "text/plain": [
       "  left_company  age frequency_of_travel              department  \\\n",
       "0           No   37       Travel_Rarely                   Sales   \n",
       "1           No   39       Travel_Rarely  Research & Development   \n",
       "2           No   52   Travel_Frequently  Research & Development   \n",
       "3           No   50          Non-Travel                   Sales   \n",
       "4           No   44       Travel_Rarely  Research & Development   \n",
       "\n",
       "   commuting_distance  education  satisfaction_with_environment  gender  \\\n",
       "0                  16          4                              4    Male   \n",
       "1                   3          2                              3    Male   \n",
       "2                  25          4                              3  Female   \n",
       "3                   1          3                              4  Female   \n",
       "4                   4          3                              4    Male   \n",
       "\n",
       "   seniority_level                   position  satisfaction_with_job  \\\n",
       "0                2            Sales Executive                      3   \n",
       "1                2      Laboratory Technician                      3   \n",
       "2                4     Manufacturing Director                      4   \n",
       "3                2            Sales Executive                      3   \n",
       "4                2  Healthcare Representative                      2   \n",
       "\n",
       "  married_or_single  last_raise_pct  last_performance_rating  \\\n",
       "0          Divorced              19                        3   \n",
       "1          Divorced              15                        3   \n",
       "2           Married              22                        4   \n",
       "3           Married              12                        3   \n",
       "4            Single              12                        3   \n",
       "\n",
       "   total_years_working  years_at_company  years_in_current_job  \\\n",
       "0                    9                 1                     0   \n",
       "1                   11                10                     8   \n",
       "2                   31                 9                     8   \n",
       "3                   19                18                     7   \n",
       "4                   10                 5                     2   \n",
       "\n",
       "   years_since_last_promotion  years_with_current_supervisor  \n",
       "0                           0                              0  \n",
       "1                           0                              7  \n",
       "2                           0                              0  \n",
       "3                           0                             13  \n",
       "4                           2                              3  "
      ]
     },
     "execution_count": 1,
     "metadata": {},
     "output_type": "execute_result"
    }
   ],
   "source": [
    "import pandas as pd\n",
    "import numpy as np\n",
    "import matplotlib.pyplot as plt\n",
    "%matplotlib inline\n",
    "\n",
    "df = pd.read_csv('https://raw.githubusercontent.com/msaricaumbc/DS_data/master/ds602/log_reg/employee-turnover-balanced.csv')\n",
    "df.head()"
   ]
  },
  {
   "cell_type": "code",
   "execution_count": 2,
   "id": "34e1468a",
   "metadata": {},
   "outputs": [
    {
     "data": {
      "text/plain": [
       "['age',\n",
       " 'commuting_distance',\n",
       " 'last_raise_pct',\n",
       " 'total_years_working',\n",
       " 'years_at_company',\n",
       " 'years_in_current_job',\n",
       " 'years_since_last_promotion',\n",
       " 'years_with_current_supervisor']"
      ]
     },
     "execution_count": 2,
     "metadata": {},
     "output_type": "execute_result"
    }
   ],
   "source": [
    "numerical_variables = ['age','commuting_distance','last_raise_pct','total_years_working','years_at_company','years_in_current_job','years_since_last_promotion','years_with_current_supervisor']\n",
    "numerical_variables"
   ]
  },
  {
   "cell_type": "code",
   "execution_count": 3,
   "id": "78056782",
   "metadata": {},
   "outputs": [
    {
     "data": {
      "text/plain": [
       "['left_company',\n",
       " 'frequency_of_travel',\n",
       " 'department',\n",
       " 'education',\n",
       " 'satisfaction_with_environment',\n",
       " 'gender',\n",
       " 'seniority_level',\n",
       " 'position',\n",
       " 'satisfaction_with_job',\n",
       " 'married_or_single',\n",
       " 'last_performance_rating']"
      ]
     },
     "execution_count": 3,
     "metadata": {},
     "output_type": "execute_result"
    }
   ],
   "source": [
    "categorical_variables = [cat for cat in df.columns if cat not in numerical_variables]\n",
    "categorical_variables"
   ]
  },
  {
   "cell_type": "code",
   "execution_count": 4,
   "id": "dd562aa2",
   "metadata": {},
   "outputs": [],
   "source": [
    "categorical_variables.remove('left_company')"
   ]
  },
  {
   "cell_type": "code",
   "execution_count": 5,
   "id": "ad2b2a1f",
   "metadata": {},
   "outputs": [
    {
     "data": {
      "text/plain": [
       "['frequency_of_travel',\n",
       " 'department',\n",
       " 'education',\n",
       " 'satisfaction_with_environment',\n",
       " 'gender',\n",
       " 'seniority_level',\n",
       " 'position',\n",
       " 'satisfaction_with_job',\n",
       " 'married_or_single',\n",
       " 'last_performance_rating']"
      ]
     },
     "execution_count": 5,
     "metadata": {},
     "output_type": "execute_result"
    }
   ],
   "source": [
    "categorical_variables"
   ]
  },
  {
   "cell_type": "code",
   "execution_count": 6,
   "id": "13cb2eda",
   "metadata": {},
   "outputs": [],
   "source": [
    "from statsmodels.stats.outliers_influence import variance_inflation_factor\n",
    "\n",
    "def var_in_fac(X):\n",
    "    # Calculating VIF\n",
    "    var_in_fac = pd.DataFrame()\n",
    "    var_in_fac[\"Variables\"] = df[numerical_variables].columns\n",
    "    var_in_fac[\"Variance Inflation Factor\"] = [variance_inflation_factor(df[numerical_variables].values, i) for i in range(df[numerical_variables].shape[1])]\n",
    "\n",
    "    return(var_in_fac)"
   ]
  },
  {
   "cell_type": "code",
   "execution_count": 7,
   "id": "dff3625b",
   "metadata": {},
   "outputs": [
    {
     "data": {
      "text/html": [
       "<div>\n",
       "<style scoped>\n",
       "    .dataframe tbody tr th:only-of-type {\n",
       "        vertical-align: middle;\n",
       "    }\n",
       "\n",
       "    .dataframe tbody tr th {\n",
       "        vertical-align: top;\n",
       "    }\n",
       "\n",
       "    .dataframe thead th {\n",
       "        text-align: right;\n",
       "    }\n",
       "</style>\n",
       "<table border=\"1\" class=\"dataframe\">\n",
       "  <thead>\n",
       "    <tr style=\"text-align: right;\">\n",
       "      <th></th>\n",
       "      <th>Variables</th>\n",
       "      <th>Variance Inflation Factor</th>\n",
       "    </tr>\n",
       "  </thead>\n",
       "  <tbody>\n",
       "    <tr>\n",
       "      <th>0</th>\n",
       "      <td>age</td>\n",
       "      <td>16.669850</td>\n",
       "    </tr>\n",
       "    <tr>\n",
       "      <th>1</th>\n",
       "      <td>commuting_distance</td>\n",
       "      <td>2.389730</td>\n",
       "    </tr>\n",
       "    <tr>\n",
       "      <th>2</th>\n",
       "      <td>last_raise_pct</td>\n",
       "      <td>10.656507</td>\n",
       "    </tr>\n",
       "    <tr>\n",
       "      <th>3</th>\n",
       "      <td>total_years_working</td>\n",
       "      <td>7.622769</td>\n",
       "    </tr>\n",
       "    <tr>\n",
       "      <th>4</th>\n",
       "      <td>years_at_company</td>\n",
       "      <td>9.588173</td>\n",
       "    </tr>\n",
       "    <tr>\n",
       "      <th>5</th>\n",
       "      <td>years_in_current_job</td>\n",
       "      <td>7.656341</td>\n",
       "    </tr>\n",
       "    <tr>\n",
       "      <th>6</th>\n",
       "      <td>years_since_last_promotion</td>\n",
       "      <td>2.590716</td>\n",
       "    </tr>\n",
       "    <tr>\n",
       "      <th>7</th>\n",
       "      <td>years_with_current_supervisor</td>\n",
       "      <td>6.888652</td>\n",
       "    </tr>\n",
       "  </tbody>\n",
       "</table>\n",
       "</div>"
      ],
      "text/plain": [
       "                       Variables  Variance Inflation Factor\n",
       "0                            age                  16.669850\n",
       "1             commuting_distance                   2.389730\n",
       "2                 last_raise_pct                  10.656507\n",
       "3            total_years_working                   7.622769\n",
       "4               years_at_company                   9.588173\n",
       "5           years_in_current_job                   7.656341\n",
       "6     years_since_last_promotion                   2.590716\n",
       "7  years_with_current_supervisor                   6.888652"
      ]
     },
     "execution_count": 7,
     "metadata": {},
     "output_type": "execute_result"
    }
   ],
   "source": [
    "X = df.iloc[:,:-1]\n",
    "var_in_fac(X)"
   ]
  },
  {
   "cell_type": "code",
   "execution_count": 8,
   "id": "1c811175",
   "metadata": {},
   "outputs": [],
   "source": [
    "df = df.drop(['age','years_at_company','years_in_current_job'],axis=1)"
   ]
  },
  {
   "cell_type": "code",
   "execution_count": 9,
   "id": "5613f4c4",
   "metadata": {},
   "outputs": [
    {
     "data": {
      "text/plain": [
       "['commuting_distance',\n",
       " 'last_raise_pct',\n",
       " 'total_years_working',\n",
       " 'years_since_last_promotion',\n",
       " 'years_with_current_supervisor']"
      ]
     },
     "execution_count": 9,
     "metadata": {},
     "output_type": "execute_result"
    }
   ],
   "source": [
    "numerical_variables = ['commuting_distance','last_raise_pct','total_years_working','years_since_last_promotion','years_with_current_supervisor']\n",
    "numerical_variables"
   ]
  },
  {
   "cell_type": "code",
   "execution_count": 10,
   "id": "bd6a299c",
   "metadata": {},
   "outputs": [],
   "source": [
    "from statsmodels.stats.outliers_influence import variance_inflation_factor\n",
    "\n",
    "def calc_vif(X):\n",
    "\n",
    "    # Calculating VIF\n",
    "    vif = pd.DataFrame()\n",
    "    vif[\"variables\"] = df[numerical_variables].columns\n",
    "    vif[\"VIF\"] = [variance_inflation_factor(df[numerical_variables].values, i) for i in range(df[numerical_variables].shape[1])]\n",
    "\n",
    "    return(vif)"
   ]
  },
  {
   "cell_type": "code",
   "execution_count": 11,
   "id": "60d8c504",
   "metadata": {},
   "outputs": [
    {
     "data": {
      "text/html": [
       "<div>\n",
       "<style scoped>\n",
       "    .dataframe tbody tr th:only-of-type {\n",
       "        vertical-align: middle;\n",
       "    }\n",
       "\n",
       "    .dataframe tbody tr th {\n",
       "        vertical-align: top;\n",
       "    }\n",
       "\n",
       "    .dataframe thead th {\n",
       "        text-align: right;\n",
       "    }\n",
       "</style>\n",
       "<table border=\"1\" class=\"dataframe\">\n",
       "  <thead>\n",
       "    <tr style=\"text-align: right;\">\n",
       "      <th></th>\n",
       "      <th>variables</th>\n",
       "      <th>VIF</th>\n",
       "    </tr>\n",
       "  </thead>\n",
       "  <tbody>\n",
       "    <tr>\n",
       "      <th>0</th>\n",
       "      <td>commuting_distance</td>\n",
       "      <td>2.365671</td>\n",
       "    </tr>\n",
       "    <tr>\n",
       "      <th>1</th>\n",
       "      <td>last_raise_pct</td>\n",
       "      <td>3.849253</td>\n",
       "    </tr>\n",
       "    <tr>\n",
       "      <th>2</th>\n",
       "      <td>total_years_working</td>\n",
       "      <td>3.598308</td>\n",
       "    </tr>\n",
       "    <tr>\n",
       "      <th>3</th>\n",
       "      <td>years_since_last_promotion</td>\n",
       "      <td>2.334495</td>\n",
       "    </tr>\n",
       "    <tr>\n",
       "      <th>4</th>\n",
       "      <td>years_with_current_supervisor</td>\n",
       "      <td>3.842648</td>\n",
       "    </tr>\n",
       "  </tbody>\n",
       "</table>\n",
       "</div>"
      ],
      "text/plain": [
       "                       variables       VIF\n",
       "0             commuting_distance  2.365671\n",
       "1                 last_raise_pct  3.849253\n",
       "2            total_years_working  3.598308\n",
       "3     years_since_last_promotion  2.334495\n",
       "4  years_with_current_supervisor  3.842648"
      ]
     },
     "execution_count": 11,
     "metadata": {},
     "output_type": "execute_result"
    }
   ],
   "source": [
    "X = df.iloc[:,:-1]\n",
    "calc_vif(X)"
   ]
  },
  {
   "cell_type": "code",
   "execution_count": 12,
   "id": "e1a03578",
   "metadata": {},
   "outputs": [],
   "source": [
    "y = df['left_company'] # Target column is left_company\n",
    "X = df[[x for x in df.columns if x != 'left_company']] # Columns except the target column"
   ]
  },
  {
   "cell_type": "code",
   "execution_count": 13,
   "id": "8d379c63",
   "metadata": {},
   "outputs": [
    {
     "data": {
      "text/plain": [
       "Index(['frequency_of_travel', 'department', 'commuting_distance', 'education',\n",
       "       'satisfaction_with_environment', 'gender', 'seniority_level',\n",
       "       'position', 'satisfaction_with_job', 'married_or_single',\n",
       "       'last_raise_pct', 'last_performance_rating', 'total_years_working',\n",
       "       'years_since_last_promotion', 'years_with_current_supervisor'],\n",
       "      dtype='object')"
      ]
     },
     "execution_count": 13,
     "metadata": {},
     "output_type": "execute_result"
    }
   ],
   "source": [
    "X.columns"
   ]
  },
  {
   "cell_type": "code",
   "execution_count": 14,
   "id": "1b0bfcad",
   "metadata": {},
   "outputs": [
    {
     "name": "stdout",
     "output_type": "stream",
     "text": [
      "Training samples: 800\n",
      "Test samples: 200\n"
     ]
    }
   ],
   "source": [
    "# insert code here\n",
    "from sklearn.model_selection import train_test_split\n",
    "\n",
    "X_train, X_test, y_train, y_test = train_test_split(X, y, test_size=0.20)\n",
    "\n",
    "print(f'Training samples: {X_train.shape[0]:,}')\n",
    "print(f'Test samples: {X_test.shape[0]:,}')"
   ]
  },
  {
   "cell_type": "code",
   "execution_count": 15,
   "id": "4cc10ce7",
   "metadata": {},
   "outputs": [],
   "source": [
    "from sklearn.pipeline import Pipeline # import pipeline\n",
    "from sklearn.compose import ColumnTransformer # import column transformer for transforming the data.\n",
    "from sklearn.preprocessing import OneHotEncoder # used for representing categorical columns as numeric.\n",
    "from sklearn.preprocessing import StandardScaler # used for standardizing the values"
   ]
  },
  {
   "cell_type": "code",
   "execution_count": 16,
   "id": "1397c54f",
   "metadata": {},
   "outputs": [
    {
     "name": "stdout",
     "output_type": "stream",
     "text": [
      "ColumnTransformer(transformers=[('proc_numeric',\n",
      "                                 Pipeline(steps=[('standardize_num',\n",
      "                                                  StandardScaler())]),\n",
      "                                 ['commuting_distance', 'last_raise_pct',\n",
      "                                  'total_years_working',\n",
      "                                  'years_since_last_promotion',\n",
      "                                  'years_with_current_supervisor'])])\n"
     ]
    }
   ],
   "source": [
    "# insert code here\n",
    "num_pipeline = Pipeline([('standardize_num', StandardScaler())])\n",
    "num_data_processing_pipeline = ColumnTransformer(transformers=[('proc_numeric', num_pipeline, numerical_variables)])\n",
    "print(num_data_processing_pipeline)"
   ]
  },
  {
   "cell_type": "code",
   "execution_count": 17,
   "id": "e09e801c",
   "metadata": {},
   "outputs": [
    {
     "data": {
      "text/plain": [
       "array([[-0.67905134,  2.58364868,  1.70122817, -0.0140457 , -0.49140969],\n",
       "       [ 2.43872342,  1.78745494,  0.51455477,  0.3164413 ,  1.25582476],\n",
       "       [-0.80376234,  0.19506747,  0.64640737, -0.67501968, -0.78261543],\n",
       "       ...,\n",
       "       [-0.80376234, -1.1319221 , -0.01285563,  2.29936325,  0.96461902],\n",
       "       [-0.92847333, -0.07033045,  3.01975417,  1.30790227,  1.54703051],\n",
       "       [ 0.19392559,  0.46046538, -0.01285563, -0.67501968,  1.54703051]])"
      ]
     },
     "execution_count": 17,
     "metadata": {},
     "output_type": "execute_result"
    }
   ],
   "source": [
    "num_transformed_data = num_data_processing_pipeline.fit_transform(X_train)\n",
    "num_transformed_data"
   ]
  },
  {
   "cell_type": "code",
   "execution_count": 18,
   "id": "ab2a6b42",
   "metadata": {},
   "outputs": [
    {
     "data": {
      "text/plain": [
       "(800, 5)"
      ]
     },
     "execution_count": 18,
     "metadata": {},
     "output_type": "execute_result"
    }
   ],
   "source": [
    "num_transformed_data.shape"
   ]
  },
  {
   "cell_type": "code",
   "execution_count": 19,
   "id": "3d9645ed",
   "metadata": {},
   "outputs": [
    {
     "name": "stdout",
     "output_type": "stream",
     "text": [
      "ColumnTransformer(transformers=[('create_dummies',\n",
      "                                 Pipeline(steps=[('create_dummies_cats',\n",
      "                                                  OneHotEncoder(drop='first',\n",
      "                                                                handle_unknown='ignore'))]),\n",
      "                                 ['frequency_of_travel', 'department',\n",
      "                                  'education', 'satisfaction_with_environment',\n",
      "                                  'gender', 'seniority_level', 'position',\n",
      "                                  'satisfaction_with_job', 'married_or_single',\n",
      "                                  'last_performance_rating'])])\n"
     ]
    }
   ],
   "source": [
    "cat_pipeline = Pipeline([('create_dummies_cats', OneHotEncoder(handle_unknown='ignore', drop='first'))])\n",
    "cat_processing_pipeline = ColumnTransformer(transformers=[('create_dummies', cat_pipeline, categorical_variables)])\n",
    "\n",
    "print(cat_processing_pipeline)"
   ]
  },
  {
   "cell_type": "code",
   "execution_count": 20,
   "id": "952bdc7a",
   "metadata": {},
   "outputs": [
    {
     "data": {
      "text/plain": [
       "<800x30 sparse matrix of type '<class 'numpy.float64'>'\n",
       "\twith 5843 stored elements in Compressed Sparse Row format>"
      ]
     },
     "execution_count": 20,
     "metadata": {},
     "output_type": "execute_result"
    }
   ],
   "source": [
    "cat_transformed_data = cat_processing_pipeline.fit_transform(X_train)\n",
    "cat_transformed_data"
   ]
  },
  {
   "cell_type": "code",
   "execution_count": 21,
   "id": "53ea0933",
   "metadata": {},
   "outputs": [
    {
     "data": {
      "text/plain": [
       "(800, 30)"
      ]
     },
     "execution_count": 21,
     "metadata": {},
     "output_type": "execute_result"
    }
   ],
   "source": [
    "cat_transformed_data.shape"
   ]
  },
  {
   "cell_type": "code",
   "execution_count": 22,
   "id": "8541f4c5",
   "metadata": {},
   "outputs": [
    {
     "name": "stdout",
     "output_type": "stream",
     "text": [
      "ColumnTransformer(transformers=[('proc_numeric',\n",
      "                                 Pipeline(steps=[('standardize_num',\n",
      "                                                  StandardScaler())]),\n",
      "                                 ['commuting_distance', 'last_raise_pct',\n",
      "                                  'total_years_working',\n",
      "                                  'years_since_last_promotion',\n",
      "                                  'years_with_current_supervisor']),\n",
      "                                ('create_dummies',\n",
      "                                 Pipeline(steps=[('create_dummies_cats',\n",
      "                                                  OneHotEncoder(drop='first',\n",
      "                                                                handle_unknown='ignore'))]),\n",
      "                                 ['frequency_of_travel', 'department',\n",
      "                                  'education', 'satisfaction_with_environment',\n",
      "                                  'gender', 'seniority_level', 'position',\n",
      "                                  'satisfaction_with_job', 'married_or_single',\n",
      "                                  'last_performance_rating'])])\n"
     ]
    }
   ],
   "source": [
    "# insert code here\n",
    "\n",
    "processing_pipeline = ColumnTransformer(transformers=[('proc_numeric', num_pipeline, numerical_variables),\n",
    "                                                      ('create_dummies', cat_pipeline, categorical_variables)])\n",
    "\n",
    "print(processing_pipeline)"
   ]
  },
  {
   "cell_type": "code",
   "execution_count": 23,
   "id": "6972dd4f",
   "metadata": {},
   "outputs": [],
   "source": [
    "from sklearn.linear_model import LogisticRegression\n",
    "from collections import defaultdict\n",
    "from sklearn.metrics import precision_recall_fscore_support\n",
    "from sklearn.metrics import roc_auc_score"
   ]
  },
  {
   "cell_type": "code",
   "execution_count": 24,
   "id": "2bef66a5",
   "metadata": {},
   "outputs": [
    {
     "name": "stderr",
     "output_type": "stream",
     "text": [
      "C:\\Users\\CHANDRIKA\\anaconda3\\lib\\site-packages\\sklearn\\linear_model\\_logistic.py:458: ConvergenceWarning: lbfgs failed to converge (status=1):\n",
      "STOP: TOTAL NO. of ITERATIONS REACHED LIMIT.\n",
      "\n",
      "Increase the number of iterations (max_iter) or scale the data as shown in:\n",
      "    https://scikit-learn.org/stable/modules/preprocessing.html\n",
      "Please also refer to the documentation for alternative solver options:\n",
      "    https://scikit-learn.org/stable/modules/linear_model.html#logistic-regression\n",
      "  n_iter_i = _check_optimize_result(\n"
     ]
    },
    {
     "data": {
      "text/html": [
       "<style>#sk-container-id-1 {color: black;background-color: white;}#sk-container-id-1 pre{padding: 0;}#sk-container-id-1 div.sk-toggleable {background-color: white;}#sk-container-id-1 label.sk-toggleable__label {cursor: pointer;display: block;width: 100%;margin-bottom: 0;padding: 0.3em;box-sizing: border-box;text-align: center;}#sk-container-id-1 label.sk-toggleable__label-arrow:before {content: \"▸\";float: left;margin-right: 0.25em;color: #696969;}#sk-container-id-1 label.sk-toggleable__label-arrow:hover:before {color: black;}#sk-container-id-1 div.sk-estimator:hover label.sk-toggleable__label-arrow:before {color: black;}#sk-container-id-1 div.sk-toggleable__content {max-height: 0;max-width: 0;overflow: hidden;text-align: left;background-color: #f0f8ff;}#sk-container-id-1 div.sk-toggleable__content pre {margin: 0.2em;color: black;border-radius: 0.25em;background-color: #f0f8ff;}#sk-container-id-1 input.sk-toggleable__control:checked~div.sk-toggleable__content {max-height: 200px;max-width: 100%;overflow: auto;}#sk-container-id-1 input.sk-toggleable__control:checked~label.sk-toggleable__label-arrow:before {content: \"▾\";}#sk-container-id-1 div.sk-estimator input.sk-toggleable__control:checked~label.sk-toggleable__label {background-color: #d4ebff;}#sk-container-id-1 div.sk-label input.sk-toggleable__control:checked~label.sk-toggleable__label {background-color: #d4ebff;}#sk-container-id-1 input.sk-hidden--visually {border: 0;clip: rect(1px 1px 1px 1px);clip: rect(1px, 1px, 1px, 1px);height: 1px;margin: -1px;overflow: hidden;padding: 0;position: absolute;width: 1px;}#sk-container-id-1 div.sk-estimator {font-family: monospace;background-color: #f0f8ff;border: 1px dotted black;border-radius: 0.25em;box-sizing: border-box;margin-bottom: 0.5em;}#sk-container-id-1 div.sk-estimator:hover {background-color: #d4ebff;}#sk-container-id-1 div.sk-parallel-item::after {content: \"\";width: 100%;border-bottom: 1px solid gray;flex-grow: 1;}#sk-container-id-1 div.sk-label:hover label.sk-toggleable__label {background-color: #d4ebff;}#sk-container-id-1 div.sk-serial::before {content: \"\";position: absolute;border-left: 1px solid gray;box-sizing: border-box;top: 0;bottom: 0;left: 50%;z-index: 0;}#sk-container-id-1 div.sk-serial {display: flex;flex-direction: column;align-items: center;background-color: white;padding-right: 0.2em;padding-left: 0.2em;position: relative;}#sk-container-id-1 div.sk-item {position: relative;z-index: 1;}#sk-container-id-1 div.sk-parallel {display: flex;align-items: stretch;justify-content: center;background-color: white;position: relative;}#sk-container-id-1 div.sk-item::before, #sk-container-id-1 div.sk-parallel-item::before {content: \"\";position: absolute;border-left: 1px solid gray;box-sizing: border-box;top: 0;bottom: 0;left: 50%;z-index: -1;}#sk-container-id-1 div.sk-parallel-item {display: flex;flex-direction: column;z-index: 1;position: relative;background-color: white;}#sk-container-id-1 div.sk-parallel-item:first-child::after {align-self: flex-end;width: 50%;}#sk-container-id-1 div.sk-parallel-item:last-child::after {align-self: flex-start;width: 50%;}#sk-container-id-1 div.sk-parallel-item:only-child::after {width: 0;}#sk-container-id-1 div.sk-dashed-wrapped {border: 1px dashed gray;margin: 0 0.4em 0.5em 0.4em;box-sizing: border-box;padding-bottom: 0.4em;background-color: white;}#sk-container-id-1 div.sk-label label {font-family: monospace;font-weight: bold;display: inline-block;line-height: 1.2em;}#sk-container-id-1 div.sk-label-container {text-align: center;}#sk-container-id-1 div.sk-container {/* jupyter's `normalize.less` sets `[hidden] { display: none; }` but bootstrap.min.css set `[hidden] { display: none !important; }` so we also need the `!important` here to be able to override the default hidden behavior on the sphinx rendered scikit-learn.org. See: https://github.com/scikit-learn/scikit-learn/issues/21755 */display: inline-block !important;position: relative;}#sk-container-id-1 div.sk-text-repr-fallback {display: none;}</style><div id=\"sk-container-id-1\" class=\"sk-top-container\"><div class=\"sk-text-repr-fallback\"><pre>Pipeline(steps=[(&#x27;data_processing&#x27;,\n",
       "                 ColumnTransformer(transformers=[(&#x27;proc_numeric&#x27;,\n",
       "                                                  Pipeline(steps=[(&#x27;standardize_num&#x27;,\n",
       "                                                                   StandardScaler())]),\n",
       "                                                  [&#x27;commuting_distance&#x27;,\n",
       "                                                   &#x27;last_raise_pct&#x27;,\n",
       "                                                   &#x27;total_years_working&#x27;,\n",
       "                                                   &#x27;years_since_last_promotion&#x27;,\n",
       "                                                   &#x27;years_with_current_supervisor&#x27;]),\n",
       "                                                 (&#x27;create_dummies&#x27;,\n",
       "                                                  Pipeline(steps=[(&#x27;create_dummies_cats&#x27;,\n",
       "                                                                   OneHotEncoder(drop=&#x27;first&#x27;,\n",
       "                                                                                 handle_unknown=&#x27;ignore&#x27;))]),\n",
       "                                                  [&#x27;frequency_of_travel&#x27;,\n",
       "                                                   &#x27;department&#x27;, &#x27;education&#x27;,\n",
       "                                                   &#x27;satisfaction_with_environment&#x27;,\n",
       "                                                   &#x27;gender&#x27;, &#x27;seniority_level&#x27;,\n",
       "                                                   &#x27;position&#x27;,\n",
       "                                                   &#x27;satisfaction_with_job&#x27;,\n",
       "                                                   &#x27;married_or_single&#x27;,\n",
       "                                                   &#x27;last_performance_rating&#x27;])])),\n",
       "                (&#x27;logreg&#x27;, LogisticRegression(penalty=None))])</pre><b>In a Jupyter environment, please rerun this cell to show the HTML representation or trust the notebook. <br />On GitHub, the HTML representation is unable to render, please try loading this page with nbviewer.org.</b></div><div class=\"sk-container\" hidden><div class=\"sk-item sk-dashed-wrapped\"><div class=\"sk-label-container\"><div class=\"sk-label sk-toggleable\"><input class=\"sk-toggleable__control sk-hidden--visually\" id=\"sk-estimator-id-1\" type=\"checkbox\" ><label for=\"sk-estimator-id-1\" class=\"sk-toggleable__label sk-toggleable__label-arrow\">Pipeline</label><div class=\"sk-toggleable__content\"><pre>Pipeline(steps=[(&#x27;data_processing&#x27;,\n",
       "                 ColumnTransformer(transformers=[(&#x27;proc_numeric&#x27;,\n",
       "                                                  Pipeline(steps=[(&#x27;standardize_num&#x27;,\n",
       "                                                                   StandardScaler())]),\n",
       "                                                  [&#x27;commuting_distance&#x27;,\n",
       "                                                   &#x27;last_raise_pct&#x27;,\n",
       "                                                   &#x27;total_years_working&#x27;,\n",
       "                                                   &#x27;years_since_last_promotion&#x27;,\n",
       "                                                   &#x27;years_with_current_supervisor&#x27;]),\n",
       "                                                 (&#x27;create_dummies&#x27;,\n",
       "                                                  Pipeline(steps=[(&#x27;create_dummies_cats&#x27;,\n",
       "                                                                   OneHotEncoder(drop=&#x27;first&#x27;,\n",
       "                                                                                 handle_unknown=&#x27;ignore&#x27;))]),\n",
       "                                                  [&#x27;frequency_of_travel&#x27;,\n",
       "                                                   &#x27;department&#x27;, &#x27;education&#x27;,\n",
       "                                                   &#x27;satisfaction_with_environment&#x27;,\n",
       "                                                   &#x27;gender&#x27;, &#x27;seniority_level&#x27;,\n",
       "                                                   &#x27;position&#x27;,\n",
       "                                                   &#x27;satisfaction_with_job&#x27;,\n",
       "                                                   &#x27;married_or_single&#x27;,\n",
       "                                                   &#x27;last_performance_rating&#x27;])])),\n",
       "                (&#x27;logreg&#x27;, LogisticRegression(penalty=None))])</pre></div></div></div><div class=\"sk-serial\"><div class=\"sk-item sk-dashed-wrapped\"><div class=\"sk-label-container\"><div class=\"sk-label sk-toggleable\"><input class=\"sk-toggleable__control sk-hidden--visually\" id=\"sk-estimator-id-2\" type=\"checkbox\" ><label for=\"sk-estimator-id-2\" class=\"sk-toggleable__label sk-toggleable__label-arrow\">data_processing: ColumnTransformer</label><div class=\"sk-toggleable__content\"><pre>ColumnTransformer(transformers=[(&#x27;proc_numeric&#x27;,\n",
       "                                 Pipeline(steps=[(&#x27;standardize_num&#x27;,\n",
       "                                                  StandardScaler())]),\n",
       "                                 [&#x27;commuting_distance&#x27;, &#x27;last_raise_pct&#x27;,\n",
       "                                  &#x27;total_years_working&#x27;,\n",
       "                                  &#x27;years_since_last_promotion&#x27;,\n",
       "                                  &#x27;years_with_current_supervisor&#x27;]),\n",
       "                                (&#x27;create_dummies&#x27;,\n",
       "                                 Pipeline(steps=[(&#x27;create_dummies_cats&#x27;,\n",
       "                                                  OneHotEncoder(drop=&#x27;first&#x27;,\n",
       "                                                                handle_unknown=&#x27;ignore&#x27;))]),\n",
       "                                 [&#x27;frequency_of_travel&#x27;, &#x27;department&#x27;,\n",
       "                                  &#x27;education&#x27;, &#x27;satisfaction_with_environment&#x27;,\n",
       "                                  &#x27;gender&#x27;, &#x27;seniority_level&#x27;, &#x27;position&#x27;,\n",
       "                                  &#x27;satisfaction_with_job&#x27;, &#x27;married_or_single&#x27;,\n",
       "                                  &#x27;last_performance_rating&#x27;])])</pre></div></div></div><div class=\"sk-parallel\"><div class=\"sk-parallel-item\"><div class=\"sk-item\"><div class=\"sk-label-container\"><div class=\"sk-label sk-toggleable\"><input class=\"sk-toggleable__control sk-hidden--visually\" id=\"sk-estimator-id-3\" type=\"checkbox\" ><label for=\"sk-estimator-id-3\" class=\"sk-toggleable__label sk-toggleable__label-arrow\">proc_numeric</label><div class=\"sk-toggleable__content\"><pre>[&#x27;commuting_distance&#x27;, &#x27;last_raise_pct&#x27;, &#x27;total_years_working&#x27;, &#x27;years_since_last_promotion&#x27;, &#x27;years_with_current_supervisor&#x27;]</pre></div></div></div><div class=\"sk-serial\"><div class=\"sk-item\"><div class=\"sk-serial\"><div class=\"sk-item\"><div class=\"sk-estimator sk-toggleable\"><input class=\"sk-toggleable__control sk-hidden--visually\" id=\"sk-estimator-id-4\" type=\"checkbox\" ><label for=\"sk-estimator-id-4\" class=\"sk-toggleable__label sk-toggleable__label-arrow\">StandardScaler</label><div class=\"sk-toggleable__content\"><pre>StandardScaler()</pre></div></div></div></div></div></div></div></div><div class=\"sk-parallel-item\"><div class=\"sk-item\"><div class=\"sk-label-container\"><div class=\"sk-label sk-toggleable\"><input class=\"sk-toggleable__control sk-hidden--visually\" id=\"sk-estimator-id-5\" type=\"checkbox\" ><label for=\"sk-estimator-id-5\" class=\"sk-toggleable__label sk-toggleable__label-arrow\">create_dummies</label><div class=\"sk-toggleable__content\"><pre>[&#x27;frequency_of_travel&#x27;, &#x27;department&#x27;, &#x27;education&#x27;, &#x27;satisfaction_with_environment&#x27;, &#x27;gender&#x27;, &#x27;seniority_level&#x27;, &#x27;position&#x27;, &#x27;satisfaction_with_job&#x27;, &#x27;married_or_single&#x27;, &#x27;last_performance_rating&#x27;]</pre></div></div></div><div class=\"sk-serial\"><div class=\"sk-item\"><div class=\"sk-serial\"><div class=\"sk-item\"><div class=\"sk-estimator sk-toggleable\"><input class=\"sk-toggleable__control sk-hidden--visually\" id=\"sk-estimator-id-6\" type=\"checkbox\" ><label for=\"sk-estimator-id-6\" class=\"sk-toggleable__label sk-toggleable__label-arrow\">OneHotEncoder</label><div class=\"sk-toggleable__content\"><pre>OneHotEncoder(drop=&#x27;first&#x27;, handle_unknown=&#x27;ignore&#x27;)</pre></div></div></div></div></div></div></div></div></div></div><div class=\"sk-item\"><div class=\"sk-estimator sk-toggleable\"><input class=\"sk-toggleable__control sk-hidden--visually\" id=\"sk-estimator-id-7\" type=\"checkbox\" ><label for=\"sk-estimator-id-7\" class=\"sk-toggleable__label sk-toggleable__label-arrow\">LogisticRegression</label><div class=\"sk-toggleable__content\"><pre>LogisticRegression(penalty=None)</pre></div></div></div></div></div></div></div>"
      ],
      "text/plain": [
       "Pipeline(steps=[('data_processing',\n",
       "                 ColumnTransformer(transformers=[('proc_numeric',\n",
       "                                                  Pipeline(steps=[('standardize_num',\n",
       "                                                                   StandardScaler())]),\n",
       "                                                  ['commuting_distance',\n",
       "                                                   'last_raise_pct',\n",
       "                                                   'total_years_working',\n",
       "                                                   'years_since_last_promotion',\n",
       "                                                   'years_with_current_supervisor']),\n",
       "                                                 ('create_dummies',\n",
       "                                                  Pipeline(steps=[('create_dummies_cats',\n",
       "                                                                   OneHotEncoder(drop='first',\n",
       "                                                                                 handle_unknown='ignore'))]),\n",
       "                                                  ['frequency_of_travel',\n",
       "                                                   'department', 'education',\n",
       "                                                   'satisfaction_with_environment',\n",
       "                                                   'gender', 'seniority_level',\n",
       "                                                   'position',\n",
       "                                                   'satisfaction_with_job',\n",
       "                                                   'married_or_single',\n",
       "                                                   'last_performance_rating'])])),\n",
       "                ('logreg', LogisticRegression(penalty=None))])"
      ]
     },
     "execution_count": 24,
     "metadata": {},
     "output_type": "execute_result"
    }
   ],
   "source": [
    "from sklearn.linear_model import LinearRegression\n",
    "\n",
    "modeling_pipeline = Pipeline([\n",
    "        ('data_processing', processing_pipeline),\n",
    "        ('logreg', LogisticRegression(penalty=None))]\n",
    "    )\n",
    "modeling_pipeline.fit(X_train, y_train) # fit the training dataset for pipeline model"
   ]
  },
  {
   "cell_type": "code",
   "execution_count": 25,
   "id": "8368260a",
   "metadata": {},
   "outputs": [
    {
     "data": {
      "text/plain": [
       "array([[0.95854603, 0.04145397],\n",
       "       [0.28781184, 0.71218816],\n",
       "       [0.22227229, 0.77772771],\n",
       "       [0.47543365, 0.52456635],\n",
       "       [0.95550294, 0.04449706]])"
      ]
     },
     "execution_count": 25,
     "metadata": {},
     "output_type": "execute_result"
    }
   ],
   "source": [
    "y_train_predictions = modeling_pipeline.predict_proba(X_train)\n",
    "y_train_predictions[:5]"
   ]
  },
  {
   "cell_type": "code",
   "execution_count": 26,
   "id": "23045f2a",
   "metadata": {},
   "outputs": [
    {
     "data": {
      "text/plain": [
       "0.8305154664949904"
      ]
     },
     "execution_count": 26,
     "metadata": {},
     "output_type": "execute_result"
    }
   ],
   "source": [
    "from sklearn.metrics import roc_auc_score\n",
    "\n",
    "roc_auc_score(y_train, y_train_predictions[:,1])"
   ]
  },
  {
   "cell_type": "code",
   "execution_count": 27,
   "id": "4b911a2c",
   "metadata": {},
   "outputs": [
    {
     "name": "stdout",
     "output_type": "stream",
     "text": [
      "[[287 110]\n",
      " [ 92 311]]\n"
     ]
    }
   ],
   "source": [
    "from sklearn.metrics import confusion_matrix\n",
    "\n",
    "y_train_predictions = modeling_pipeline.predict(X_train)\n",
    "\n",
    "print(confusion_matrix(y_train, y_train_predictions))"
   ]
  },
  {
   "cell_type": "code",
   "execution_count": 28,
   "id": "47945e49",
   "metadata": {},
   "outputs": [
    {
     "name": "stdout",
     "output_type": "stream",
     "text": [
      "              precision    recall  f1-score   support\n",
      "\n",
      "          No       0.76      0.72      0.74       397\n",
      "         Yes       0.74      0.77      0.75       403\n",
      "\n",
      "    accuracy                           0.75       800\n",
      "   macro avg       0.75      0.75      0.75       800\n",
      "weighted avg       0.75      0.75      0.75       800\n",
      "\n"
     ]
    }
   ],
   "source": [
    "from sklearn.metrics import classification_report\n",
    "print(classification_report(y_train, y_train_predictions))"
   ]
  },
  {
   "cell_type": "code",
   "execution_count": 29,
   "id": "3c486e5b",
   "metadata": {},
   "outputs": [
    {
     "data": {
      "text/plain": [
       "array([[0.80429368, 0.19570632],\n",
       "       [0.05456463, 0.94543537],\n",
       "       [0.21991674, 0.78008326],\n",
       "       [0.90850457, 0.09149543],\n",
       "       [0.25865473, 0.74134527]])"
      ]
     },
     "execution_count": 29,
     "metadata": {},
     "output_type": "execute_result"
    }
   ],
   "source": [
    "y_test_predictions = modeling_pipeline.predict_proba(X_test)\n",
    "y_test_predictions[:5]"
   ]
  },
  {
   "cell_type": "code",
   "execution_count": 30,
   "id": "97e2394c",
   "metadata": {},
   "outputs": [
    {
     "data": {
      "text/plain": [
       "0.7533780402362127"
      ]
     },
     "execution_count": 30,
     "metadata": {},
     "output_type": "execute_result"
    }
   ],
   "source": [
    "from sklearn.metrics import roc_auc_score\n",
    "\n",
    "roc_auc_score(y_test, y_test_predictions[:,1])"
   ]
  },
  {
   "cell_type": "code",
   "execution_count": 31,
   "id": "1f3eebc7",
   "metadata": {},
   "outputs": [
    {
     "name": "stdout",
     "output_type": "stream",
     "text": [
      "[[65 38]\n",
      " [27 70]]\n"
     ]
    }
   ],
   "source": [
    "from sklearn.metrics import confusion_matrix\n",
    "\n",
    "y_test_predictions = modeling_pipeline.predict(X_test)\n",
    "\n",
    "print(confusion_matrix(y_test, y_test_predictions))"
   ]
  },
  {
   "cell_type": "code",
   "execution_count": 32,
   "id": "d73a01ad",
   "metadata": {},
   "outputs": [
    {
     "name": "stdout",
     "output_type": "stream",
     "text": [
      "              precision    recall  f1-score   support\n",
      "\n",
      "          No       0.71      0.63      0.67       103\n",
      "         Yes       0.65      0.72      0.68        97\n",
      "\n",
      "    accuracy                           0.68       200\n",
      "   macro avg       0.68      0.68      0.67       200\n",
      "weighted avg       0.68      0.68      0.67       200\n",
      "\n"
     ]
    }
   ],
   "source": [
    "from sklearn.metrics import classification_report\n",
    "print(classification_report(y_test, y_test_predictions))"
   ]
  },
  {
   "cell_type": "code",
   "execution_count": 33,
   "id": "faa904eb",
   "metadata": {},
   "outputs": [
    {
     "name": "stdout",
     "output_type": "stream",
     "text": [
      "training:  0.8305154664949904\n",
      "testing:  0.7533780402362127\n"
     ]
    }
   ],
   "source": [
    "def generate_probs(X, model=modeling_pipeline):\n",
    "    return model.predict_proba(X)[:, 1]\n",
    "from sklearn.metrics import roc_auc_score\n",
    "\n",
    "print ('training: ', roc_auc_score(y_train, generate_probs(X_train)))\n",
    "print ('testing: ', roc_auc_score(y_test, generate_probs(X_test)))"
   ]
  },
  {
   "cell_type": "code",
   "execution_count": null,
   "id": "8568a6ed",
   "metadata": {},
   "outputs": [],
   "source": []
  },
  {
   "cell_type": "markdown",
   "id": "2d75cdf6",
   "metadata": {},
   "source": [
    "## Add grid search and train"
   ]
  },
  {
   "cell_type": "code",
   "execution_count": 34,
   "id": "60f44365",
   "metadata": {},
   "outputs": [],
   "source": [
    "from sklearn.pipeline import Pipeline\n",
    "from sklearn.preprocessing import StandardScaler\n",
    "from sklearn.decomposition import PCA\n",
    "from sklearn.linear_model import LogisticRegression\n",
    "\n",
    "modeling_pipeline = Pipeline([('data_processing', processing_pipeline),\n",
    "        #('pca', PCA(n_components=5)),\n",
    "         ('logreg', LogisticRegression(penalty='l2', solver='liblinear'))\n",
    "        ]\n",
    "    )\n",
    "\n",
    "\n",
    "from sklearn.model_selection import GridSearchCV\n",
    "\n",
    "param_grid = [\n",
    "  {\n",
    "    'logreg__class_weight': [None, 'balanced'], \n",
    "    'logreg__C':[0.01, 0.1, 1, 10, 100],\n",
    "    #'pca__n_components': [1,2,3,4,5,10,15]\n",
    "  }\n",
    " ]\n",
    "\n",
    "gcv_results = GridSearchCV(estimator=modeling_pipeline, param_grid=param_grid, scoring='accuracy')\n",
    "gcv_results = gcv_results.fit(X_train, y_train)"
   ]
  },
  {
   "cell_type": "code",
   "execution_count": 35,
   "id": "999eb063",
   "metadata": {},
   "outputs": [
    {
     "data": {
      "text/html": [
       "<style>#sk-container-id-2 {color: black;background-color: white;}#sk-container-id-2 pre{padding: 0;}#sk-container-id-2 div.sk-toggleable {background-color: white;}#sk-container-id-2 label.sk-toggleable__label {cursor: pointer;display: block;width: 100%;margin-bottom: 0;padding: 0.3em;box-sizing: border-box;text-align: center;}#sk-container-id-2 label.sk-toggleable__label-arrow:before {content: \"▸\";float: left;margin-right: 0.25em;color: #696969;}#sk-container-id-2 label.sk-toggleable__label-arrow:hover:before {color: black;}#sk-container-id-2 div.sk-estimator:hover label.sk-toggleable__label-arrow:before {color: black;}#sk-container-id-2 div.sk-toggleable__content {max-height: 0;max-width: 0;overflow: hidden;text-align: left;background-color: #f0f8ff;}#sk-container-id-2 div.sk-toggleable__content pre {margin: 0.2em;color: black;border-radius: 0.25em;background-color: #f0f8ff;}#sk-container-id-2 input.sk-toggleable__control:checked~div.sk-toggleable__content {max-height: 200px;max-width: 100%;overflow: auto;}#sk-container-id-2 input.sk-toggleable__control:checked~label.sk-toggleable__label-arrow:before {content: \"▾\";}#sk-container-id-2 div.sk-estimator input.sk-toggleable__control:checked~label.sk-toggleable__label {background-color: #d4ebff;}#sk-container-id-2 div.sk-label input.sk-toggleable__control:checked~label.sk-toggleable__label {background-color: #d4ebff;}#sk-container-id-2 input.sk-hidden--visually {border: 0;clip: rect(1px 1px 1px 1px);clip: rect(1px, 1px, 1px, 1px);height: 1px;margin: -1px;overflow: hidden;padding: 0;position: absolute;width: 1px;}#sk-container-id-2 div.sk-estimator {font-family: monospace;background-color: #f0f8ff;border: 1px dotted black;border-radius: 0.25em;box-sizing: border-box;margin-bottom: 0.5em;}#sk-container-id-2 div.sk-estimator:hover {background-color: #d4ebff;}#sk-container-id-2 div.sk-parallel-item::after {content: \"\";width: 100%;border-bottom: 1px solid gray;flex-grow: 1;}#sk-container-id-2 div.sk-label:hover label.sk-toggleable__label {background-color: #d4ebff;}#sk-container-id-2 div.sk-serial::before {content: \"\";position: absolute;border-left: 1px solid gray;box-sizing: border-box;top: 0;bottom: 0;left: 50%;z-index: 0;}#sk-container-id-2 div.sk-serial {display: flex;flex-direction: column;align-items: center;background-color: white;padding-right: 0.2em;padding-left: 0.2em;position: relative;}#sk-container-id-2 div.sk-item {position: relative;z-index: 1;}#sk-container-id-2 div.sk-parallel {display: flex;align-items: stretch;justify-content: center;background-color: white;position: relative;}#sk-container-id-2 div.sk-item::before, #sk-container-id-2 div.sk-parallel-item::before {content: \"\";position: absolute;border-left: 1px solid gray;box-sizing: border-box;top: 0;bottom: 0;left: 50%;z-index: -1;}#sk-container-id-2 div.sk-parallel-item {display: flex;flex-direction: column;z-index: 1;position: relative;background-color: white;}#sk-container-id-2 div.sk-parallel-item:first-child::after {align-self: flex-end;width: 50%;}#sk-container-id-2 div.sk-parallel-item:last-child::after {align-self: flex-start;width: 50%;}#sk-container-id-2 div.sk-parallel-item:only-child::after {width: 0;}#sk-container-id-2 div.sk-dashed-wrapped {border: 1px dashed gray;margin: 0 0.4em 0.5em 0.4em;box-sizing: border-box;padding-bottom: 0.4em;background-color: white;}#sk-container-id-2 div.sk-label label {font-family: monospace;font-weight: bold;display: inline-block;line-height: 1.2em;}#sk-container-id-2 div.sk-label-container {text-align: center;}#sk-container-id-2 div.sk-container {/* jupyter's `normalize.less` sets `[hidden] { display: none; }` but bootstrap.min.css set `[hidden] { display: none !important; }` so we also need the `!important` here to be able to override the default hidden behavior on the sphinx rendered scikit-learn.org. See: https://github.com/scikit-learn/scikit-learn/issues/21755 */display: inline-block !important;position: relative;}#sk-container-id-2 div.sk-text-repr-fallback {display: none;}</style><div id=\"sk-container-id-2\" class=\"sk-top-container\"><div class=\"sk-text-repr-fallback\"><pre>GridSearchCV(estimator=Pipeline(steps=[(&#x27;data_processing&#x27;,\n",
       "                                        ColumnTransformer(transformers=[(&#x27;proc_numeric&#x27;,\n",
       "                                                                         Pipeline(steps=[(&#x27;standardize_num&#x27;,\n",
       "                                                                                          StandardScaler())]),\n",
       "                                                                         [&#x27;commuting_distance&#x27;,\n",
       "                                                                          &#x27;last_raise_pct&#x27;,\n",
       "                                                                          &#x27;total_years_working&#x27;,\n",
       "                                                                          &#x27;years_since_last_promotion&#x27;,\n",
       "                                                                          &#x27;years_with_current_supervisor&#x27;]),\n",
       "                                                                        (&#x27;create_dummies&#x27;,\n",
       "                                                                         Pipeline(steps=[(&#x27;create_dummies_cats&#x27;,\n",
       "                                                                                          OneHotEn...\n",
       "                                                                         [&#x27;frequency_of_travel&#x27;,\n",
       "                                                                          &#x27;department&#x27;,\n",
       "                                                                          &#x27;education&#x27;,\n",
       "                                                                          &#x27;satisfaction_with_environment&#x27;,\n",
       "                                                                          &#x27;gender&#x27;,\n",
       "                                                                          &#x27;seniority_level&#x27;,\n",
       "                                                                          &#x27;position&#x27;,\n",
       "                                                                          &#x27;satisfaction_with_job&#x27;,\n",
       "                                                                          &#x27;married_or_single&#x27;,\n",
       "                                                                          &#x27;last_performance_rating&#x27;])])),\n",
       "                                       (&#x27;logreg&#x27;,\n",
       "                                        LogisticRegression(solver=&#x27;liblinear&#x27;))]),\n",
       "             param_grid=[{&#x27;logreg__C&#x27;: [0.01, 0.1, 1, 10, 100],\n",
       "                          &#x27;logreg__class_weight&#x27;: [None, &#x27;balanced&#x27;]}],\n",
       "             scoring=&#x27;accuracy&#x27;)</pre><b>In a Jupyter environment, please rerun this cell to show the HTML representation or trust the notebook. <br />On GitHub, the HTML representation is unable to render, please try loading this page with nbviewer.org.</b></div><div class=\"sk-container\" hidden><div class=\"sk-item sk-dashed-wrapped\"><div class=\"sk-label-container\"><div class=\"sk-label sk-toggleable\"><input class=\"sk-toggleable__control sk-hidden--visually\" id=\"sk-estimator-id-8\" type=\"checkbox\" ><label for=\"sk-estimator-id-8\" class=\"sk-toggleable__label sk-toggleable__label-arrow\">GridSearchCV</label><div class=\"sk-toggleable__content\"><pre>GridSearchCV(estimator=Pipeline(steps=[(&#x27;data_processing&#x27;,\n",
       "                                        ColumnTransformer(transformers=[(&#x27;proc_numeric&#x27;,\n",
       "                                                                         Pipeline(steps=[(&#x27;standardize_num&#x27;,\n",
       "                                                                                          StandardScaler())]),\n",
       "                                                                         [&#x27;commuting_distance&#x27;,\n",
       "                                                                          &#x27;last_raise_pct&#x27;,\n",
       "                                                                          &#x27;total_years_working&#x27;,\n",
       "                                                                          &#x27;years_since_last_promotion&#x27;,\n",
       "                                                                          &#x27;years_with_current_supervisor&#x27;]),\n",
       "                                                                        (&#x27;create_dummies&#x27;,\n",
       "                                                                         Pipeline(steps=[(&#x27;create_dummies_cats&#x27;,\n",
       "                                                                                          OneHotEn...\n",
       "                                                                         [&#x27;frequency_of_travel&#x27;,\n",
       "                                                                          &#x27;department&#x27;,\n",
       "                                                                          &#x27;education&#x27;,\n",
       "                                                                          &#x27;satisfaction_with_environment&#x27;,\n",
       "                                                                          &#x27;gender&#x27;,\n",
       "                                                                          &#x27;seniority_level&#x27;,\n",
       "                                                                          &#x27;position&#x27;,\n",
       "                                                                          &#x27;satisfaction_with_job&#x27;,\n",
       "                                                                          &#x27;married_or_single&#x27;,\n",
       "                                                                          &#x27;last_performance_rating&#x27;])])),\n",
       "                                       (&#x27;logreg&#x27;,\n",
       "                                        LogisticRegression(solver=&#x27;liblinear&#x27;))]),\n",
       "             param_grid=[{&#x27;logreg__C&#x27;: [0.01, 0.1, 1, 10, 100],\n",
       "                          &#x27;logreg__class_weight&#x27;: [None, &#x27;balanced&#x27;]}],\n",
       "             scoring=&#x27;accuracy&#x27;)</pre></div></div></div><div class=\"sk-parallel\"><div class=\"sk-parallel-item\"><div class=\"sk-item\"><div class=\"sk-label-container\"><div class=\"sk-label sk-toggleable\"><input class=\"sk-toggleable__control sk-hidden--visually\" id=\"sk-estimator-id-9\" type=\"checkbox\" ><label for=\"sk-estimator-id-9\" class=\"sk-toggleable__label sk-toggleable__label-arrow\">estimator: Pipeline</label><div class=\"sk-toggleable__content\"><pre>Pipeline(steps=[(&#x27;data_processing&#x27;,\n",
       "                 ColumnTransformer(transformers=[(&#x27;proc_numeric&#x27;,\n",
       "                                                  Pipeline(steps=[(&#x27;standardize_num&#x27;,\n",
       "                                                                   StandardScaler())]),\n",
       "                                                  [&#x27;commuting_distance&#x27;,\n",
       "                                                   &#x27;last_raise_pct&#x27;,\n",
       "                                                   &#x27;total_years_working&#x27;,\n",
       "                                                   &#x27;years_since_last_promotion&#x27;,\n",
       "                                                   &#x27;years_with_current_supervisor&#x27;]),\n",
       "                                                 (&#x27;create_dummies&#x27;,\n",
       "                                                  Pipeline(steps=[(&#x27;create_dummies_cats&#x27;,\n",
       "                                                                   OneHotEncoder(drop=&#x27;first&#x27;,\n",
       "                                                                                 handle_unknown=&#x27;ignore&#x27;))]),\n",
       "                                                  [&#x27;frequency_of_travel&#x27;,\n",
       "                                                   &#x27;department&#x27;, &#x27;education&#x27;,\n",
       "                                                   &#x27;satisfaction_with_environment&#x27;,\n",
       "                                                   &#x27;gender&#x27;, &#x27;seniority_level&#x27;,\n",
       "                                                   &#x27;position&#x27;,\n",
       "                                                   &#x27;satisfaction_with_job&#x27;,\n",
       "                                                   &#x27;married_or_single&#x27;,\n",
       "                                                   &#x27;last_performance_rating&#x27;])])),\n",
       "                (&#x27;logreg&#x27;, LogisticRegression(solver=&#x27;liblinear&#x27;))])</pre></div></div></div><div class=\"sk-serial\"><div class=\"sk-item\"><div class=\"sk-serial\"><div class=\"sk-item sk-dashed-wrapped\"><div class=\"sk-label-container\"><div class=\"sk-label sk-toggleable\"><input class=\"sk-toggleable__control sk-hidden--visually\" id=\"sk-estimator-id-10\" type=\"checkbox\" ><label for=\"sk-estimator-id-10\" class=\"sk-toggleable__label sk-toggleable__label-arrow\">data_processing: ColumnTransformer</label><div class=\"sk-toggleable__content\"><pre>ColumnTransformer(transformers=[(&#x27;proc_numeric&#x27;,\n",
       "                                 Pipeline(steps=[(&#x27;standardize_num&#x27;,\n",
       "                                                  StandardScaler())]),\n",
       "                                 [&#x27;commuting_distance&#x27;, &#x27;last_raise_pct&#x27;,\n",
       "                                  &#x27;total_years_working&#x27;,\n",
       "                                  &#x27;years_since_last_promotion&#x27;,\n",
       "                                  &#x27;years_with_current_supervisor&#x27;]),\n",
       "                                (&#x27;create_dummies&#x27;,\n",
       "                                 Pipeline(steps=[(&#x27;create_dummies_cats&#x27;,\n",
       "                                                  OneHotEncoder(drop=&#x27;first&#x27;,\n",
       "                                                                handle_unknown=&#x27;ignore&#x27;))]),\n",
       "                                 [&#x27;frequency_of_travel&#x27;, &#x27;department&#x27;,\n",
       "                                  &#x27;education&#x27;, &#x27;satisfaction_with_environment&#x27;,\n",
       "                                  &#x27;gender&#x27;, &#x27;seniority_level&#x27;, &#x27;position&#x27;,\n",
       "                                  &#x27;satisfaction_with_job&#x27;, &#x27;married_or_single&#x27;,\n",
       "                                  &#x27;last_performance_rating&#x27;])])</pre></div></div></div><div class=\"sk-parallel\"><div class=\"sk-parallel-item\"><div class=\"sk-item\"><div class=\"sk-label-container\"><div class=\"sk-label sk-toggleable\"><input class=\"sk-toggleable__control sk-hidden--visually\" id=\"sk-estimator-id-11\" type=\"checkbox\" ><label for=\"sk-estimator-id-11\" class=\"sk-toggleable__label sk-toggleable__label-arrow\">proc_numeric</label><div class=\"sk-toggleable__content\"><pre>[&#x27;commuting_distance&#x27;, &#x27;last_raise_pct&#x27;, &#x27;total_years_working&#x27;, &#x27;years_since_last_promotion&#x27;, &#x27;years_with_current_supervisor&#x27;]</pre></div></div></div><div class=\"sk-serial\"><div class=\"sk-item\"><div class=\"sk-serial\"><div class=\"sk-item\"><div class=\"sk-estimator sk-toggleable\"><input class=\"sk-toggleable__control sk-hidden--visually\" id=\"sk-estimator-id-12\" type=\"checkbox\" ><label for=\"sk-estimator-id-12\" class=\"sk-toggleable__label sk-toggleable__label-arrow\">StandardScaler</label><div class=\"sk-toggleable__content\"><pre>StandardScaler()</pre></div></div></div></div></div></div></div></div><div class=\"sk-parallel-item\"><div class=\"sk-item\"><div class=\"sk-label-container\"><div class=\"sk-label sk-toggleable\"><input class=\"sk-toggleable__control sk-hidden--visually\" id=\"sk-estimator-id-13\" type=\"checkbox\" ><label for=\"sk-estimator-id-13\" class=\"sk-toggleable__label sk-toggleable__label-arrow\">create_dummies</label><div class=\"sk-toggleable__content\"><pre>[&#x27;frequency_of_travel&#x27;, &#x27;department&#x27;, &#x27;education&#x27;, &#x27;satisfaction_with_environment&#x27;, &#x27;gender&#x27;, &#x27;seniority_level&#x27;, &#x27;position&#x27;, &#x27;satisfaction_with_job&#x27;, &#x27;married_or_single&#x27;, &#x27;last_performance_rating&#x27;]</pre></div></div></div><div class=\"sk-serial\"><div class=\"sk-item\"><div class=\"sk-serial\"><div class=\"sk-item\"><div class=\"sk-estimator sk-toggleable\"><input class=\"sk-toggleable__control sk-hidden--visually\" id=\"sk-estimator-id-14\" type=\"checkbox\" ><label for=\"sk-estimator-id-14\" class=\"sk-toggleable__label sk-toggleable__label-arrow\">OneHotEncoder</label><div class=\"sk-toggleable__content\"><pre>OneHotEncoder(drop=&#x27;first&#x27;, handle_unknown=&#x27;ignore&#x27;)</pre></div></div></div></div></div></div></div></div></div></div><div class=\"sk-item\"><div class=\"sk-estimator sk-toggleable\"><input class=\"sk-toggleable__control sk-hidden--visually\" id=\"sk-estimator-id-15\" type=\"checkbox\" ><label for=\"sk-estimator-id-15\" class=\"sk-toggleable__label sk-toggleable__label-arrow\">LogisticRegression</label><div class=\"sk-toggleable__content\"><pre>LogisticRegression(solver=&#x27;liblinear&#x27;)</pre></div></div></div></div></div></div></div></div></div></div></div></div>"
      ],
      "text/plain": [
       "GridSearchCV(estimator=Pipeline(steps=[('data_processing',\n",
       "                                        ColumnTransformer(transformers=[('proc_numeric',\n",
       "                                                                         Pipeline(steps=[('standardize_num',\n",
       "                                                                                          StandardScaler())]),\n",
       "                                                                         ['commuting_distance',\n",
       "                                                                          'last_raise_pct',\n",
       "                                                                          'total_years_working',\n",
       "                                                                          'years_since_last_promotion',\n",
       "                                                                          'years_with_current_supervisor']),\n",
       "                                                                        ('create_dummies',\n",
       "                                                                         Pipeline(steps=[('create_dummies_cats',\n",
       "                                                                                          OneHotEn...\n",
       "                                                                         ['frequency_of_travel',\n",
       "                                                                          'department',\n",
       "                                                                          'education',\n",
       "                                                                          'satisfaction_with_environment',\n",
       "                                                                          'gender',\n",
       "                                                                          'seniority_level',\n",
       "                                                                          'position',\n",
       "                                                                          'satisfaction_with_job',\n",
       "                                                                          'married_or_single',\n",
       "                                                                          'last_performance_rating'])])),\n",
       "                                       ('logreg',\n",
       "                                        LogisticRegression(solver='liblinear'))]),\n",
       "             param_grid=[{'logreg__C': [0.01, 0.1, 1, 10, 100],\n",
       "                          'logreg__class_weight': [None, 'balanced']}],\n",
       "             scoring='accuracy')"
      ]
     },
     "execution_count": 35,
     "metadata": {},
     "output_type": "execute_result"
    }
   ],
   "source": [
    "gcv_results"
   ]
  },
  {
   "cell_type": "code",
   "execution_count": 36,
   "id": "1ba89fa6",
   "metadata": {},
   "outputs": [
    {
     "data": {
      "text/plain": [
       "dict_keys(['mean_fit_time', 'std_fit_time', 'mean_score_time', 'std_score_time', 'param_logreg__C', 'param_logreg__class_weight', 'params', 'split0_test_score', 'split1_test_score', 'split2_test_score', 'split3_test_score', 'split4_test_score', 'mean_test_score', 'std_test_score', 'rank_test_score'])"
      ]
     },
     "execution_count": 36,
     "metadata": {},
     "output_type": "execute_result"
    }
   ],
   "source": [
    "gcv_results.cv_results_.keys()"
   ]
  },
  {
   "cell_type": "code",
   "execution_count": 37,
   "id": "a6238a8e",
   "metadata": {},
   "outputs": [
    {
     "data": {
      "text/plain": [
       "0.7212500000000001"
      ]
     },
     "execution_count": 37,
     "metadata": {},
     "output_type": "execute_result"
    }
   ],
   "source": [
    "gcv_results.best_score_"
   ]
  },
  {
   "cell_type": "code",
   "execution_count": 38,
   "id": "9c7387ad",
   "metadata": {},
   "outputs": [
    {
     "data": {
      "text/plain": [
       "{'logreg__C': 100, 'logreg__class_weight': 'balanced'}"
      ]
     },
     "execution_count": 38,
     "metadata": {},
     "output_type": "execute_result"
    }
   ],
   "source": [
    "gcv_results.best_params_"
   ]
  },
  {
   "cell_type": "code",
   "execution_count": 39,
   "id": "398f8f8d",
   "metadata": {},
   "outputs": [
    {
     "data": {
      "text/html": [
       "<style>#sk-container-id-3 {color: black;background-color: white;}#sk-container-id-3 pre{padding: 0;}#sk-container-id-3 div.sk-toggleable {background-color: white;}#sk-container-id-3 label.sk-toggleable__label {cursor: pointer;display: block;width: 100%;margin-bottom: 0;padding: 0.3em;box-sizing: border-box;text-align: center;}#sk-container-id-3 label.sk-toggleable__label-arrow:before {content: \"▸\";float: left;margin-right: 0.25em;color: #696969;}#sk-container-id-3 label.sk-toggleable__label-arrow:hover:before {color: black;}#sk-container-id-3 div.sk-estimator:hover label.sk-toggleable__label-arrow:before {color: black;}#sk-container-id-3 div.sk-toggleable__content {max-height: 0;max-width: 0;overflow: hidden;text-align: left;background-color: #f0f8ff;}#sk-container-id-3 div.sk-toggleable__content pre {margin: 0.2em;color: black;border-radius: 0.25em;background-color: #f0f8ff;}#sk-container-id-3 input.sk-toggleable__control:checked~div.sk-toggleable__content {max-height: 200px;max-width: 100%;overflow: auto;}#sk-container-id-3 input.sk-toggleable__control:checked~label.sk-toggleable__label-arrow:before {content: \"▾\";}#sk-container-id-3 div.sk-estimator input.sk-toggleable__control:checked~label.sk-toggleable__label {background-color: #d4ebff;}#sk-container-id-3 div.sk-label input.sk-toggleable__control:checked~label.sk-toggleable__label {background-color: #d4ebff;}#sk-container-id-3 input.sk-hidden--visually {border: 0;clip: rect(1px 1px 1px 1px);clip: rect(1px, 1px, 1px, 1px);height: 1px;margin: -1px;overflow: hidden;padding: 0;position: absolute;width: 1px;}#sk-container-id-3 div.sk-estimator {font-family: monospace;background-color: #f0f8ff;border: 1px dotted black;border-radius: 0.25em;box-sizing: border-box;margin-bottom: 0.5em;}#sk-container-id-3 div.sk-estimator:hover {background-color: #d4ebff;}#sk-container-id-3 div.sk-parallel-item::after {content: \"\";width: 100%;border-bottom: 1px solid gray;flex-grow: 1;}#sk-container-id-3 div.sk-label:hover label.sk-toggleable__label {background-color: #d4ebff;}#sk-container-id-3 div.sk-serial::before {content: \"\";position: absolute;border-left: 1px solid gray;box-sizing: border-box;top: 0;bottom: 0;left: 50%;z-index: 0;}#sk-container-id-3 div.sk-serial {display: flex;flex-direction: column;align-items: center;background-color: white;padding-right: 0.2em;padding-left: 0.2em;position: relative;}#sk-container-id-3 div.sk-item {position: relative;z-index: 1;}#sk-container-id-3 div.sk-parallel {display: flex;align-items: stretch;justify-content: center;background-color: white;position: relative;}#sk-container-id-3 div.sk-item::before, #sk-container-id-3 div.sk-parallel-item::before {content: \"\";position: absolute;border-left: 1px solid gray;box-sizing: border-box;top: 0;bottom: 0;left: 50%;z-index: -1;}#sk-container-id-3 div.sk-parallel-item {display: flex;flex-direction: column;z-index: 1;position: relative;background-color: white;}#sk-container-id-3 div.sk-parallel-item:first-child::after {align-self: flex-end;width: 50%;}#sk-container-id-3 div.sk-parallel-item:last-child::after {align-self: flex-start;width: 50%;}#sk-container-id-3 div.sk-parallel-item:only-child::after {width: 0;}#sk-container-id-3 div.sk-dashed-wrapped {border: 1px dashed gray;margin: 0 0.4em 0.5em 0.4em;box-sizing: border-box;padding-bottom: 0.4em;background-color: white;}#sk-container-id-3 div.sk-label label {font-family: monospace;font-weight: bold;display: inline-block;line-height: 1.2em;}#sk-container-id-3 div.sk-label-container {text-align: center;}#sk-container-id-3 div.sk-container {/* jupyter's `normalize.less` sets `[hidden] { display: none; }` but bootstrap.min.css set `[hidden] { display: none !important; }` so we also need the `!important` here to be able to override the default hidden behavior on the sphinx rendered scikit-learn.org. See: https://github.com/scikit-learn/scikit-learn/issues/21755 */display: inline-block !important;position: relative;}#sk-container-id-3 div.sk-text-repr-fallback {display: none;}</style><div id=\"sk-container-id-3\" class=\"sk-top-container\"><div class=\"sk-text-repr-fallback\"><pre>Pipeline(steps=[(&#x27;data_processing&#x27;,\n",
       "                 ColumnTransformer(transformers=[(&#x27;proc_numeric&#x27;,\n",
       "                                                  Pipeline(steps=[(&#x27;standardize_num&#x27;,\n",
       "                                                                   StandardScaler())]),\n",
       "                                                  [&#x27;commuting_distance&#x27;,\n",
       "                                                   &#x27;last_raise_pct&#x27;,\n",
       "                                                   &#x27;total_years_working&#x27;,\n",
       "                                                   &#x27;years_since_last_promotion&#x27;,\n",
       "                                                   &#x27;years_with_current_supervisor&#x27;]),\n",
       "                                                 (&#x27;create_dummies&#x27;,\n",
       "                                                  Pipeline(steps=[(&#x27;create_dummies_cats&#x27;,\n",
       "                                                                   OneHotEncoder(drop=&#x27;first&#x27;,\n",
       "                                                                                 handle_unknown=&#x27;ignore&#x27;))]),\n",
       "                                                  [&#x27;frequency_of_travel&#x27;,\n",
       "                                                   &#x27;department&#x27;, &#x27;education&#x27;,\n",
       "                                                   &#x27;satisfaction_with_environment&#x27;,\n",
       "                                                   &#x27;gender&#x27;, &#x27;seniority_level&#x27;,\n",
       "                                                   &#x27;position&#x27;,\n",
       "                                                   &#x27;satisfaction_with_job&#x27;,\n",
       "                                                   &#x27;married_or_single&#x27;,\n",
       "                                                   &#x27;last_performance_rating&#x27;])])),\n",
       "                (&#x27;logreg&#x27;,\n",
       "                 LogisticRegression(C=100, class_weight=&#x27;balanced&#x27;,\n",
       "                                    solver=&#x27;liblinear&#x27;))])</pre><b>In a Jupyter environment, please rerun this cell to show the HTML representation or trust the notebook. <br />On GitHub, the HTML representation is unable to render, please try loading this page with nbviewer.org.</b></div><div class=\"sk-container\" hidden><div class=\"sk-item sk-dashed-wrapped\"><div class=\"sk-label-container\"><div class=\"sk-label sk-toggleable\"><input class=\"sk-toggleable__control sk-hidden--visually\" id=\"sk-estimator-id-16\" type=\"checkbox\" ><label for=\"sk-estimator-id-16\" class=\"sk-toggleable__label sk-toggleable__label-arrow\">Pipeline</label><div class=\"sk-toggleable__content\"><pre>Pipeline(steps=[(&#x27;data_processing&#x27;,\n",
       "                 ColumnTransformer(transformers=[(&#x27;proc_numeric&#x27;,\n",
       "                                                  Pipeline(steps=[(&#x27;standardize_num&#x27;,\n",
       "                                                                   StandardScaler())]),\n",
       "                                                  [&#x27;commuting_distance&#x27;,\n",
       "                                                   &#x27;last_raise_pct&#x27;,\n",
       "                                                   &#x27;total_years_working&#x27;,\n",
       "                                                   &#x27;years_since_last_promotion&#x27;,\n",
       "                                                   &#x27;years_with_current_supervisor&#x27;]),\n",
       "                                                 (&#x27;create_dummies&#x27;,\n",
       "                                                  Pipeline(steps=[(&#x27;create_dummies_cats&#x27;,\n",
       "                                                                   OneHotEncoder(drop=&#x27;first&#x27;,\n",
       "                                                                                 handle_unknown=&#x27;ignore&#x27;))]),\n",
       "                                                  [&#x27;frequency_of_travel&#x27;,\n",
       "                                                   &#x27;department&#x27;, &#x27;education&#x27;,\n",
       "                                                   &#x27;satisfaction_with_environment&#x27;,\n",
       "                                                   &#x27;gender&#x27;, &#x27;seniority_level&#x27;,\n",
       "                                                   &#x27;position&#x27;,\n",
       "                                                   &#x27;satisfaction_with_job&#x27;,\n",
       "                                                   &#x27;married_or_single&#x27;,\n",
       "                                                   &#x27;last_performance_rating&#x27;])])),\n",
       "                (&#x27;logreg&#x27;,\n",
       "                 LogisticRegression(C=100, class_weight=&#x27;balanced&#x27;,\n",
       "                                    solver=&#x27;liblinear&#x27;))])</pre></div></div></div><div class=\"sk-serial\"><div class=\"sk-item sk-dashed-wrapped\"><div class=\"sk-label-container\"><div class=\"sk-label sk-toggleable\"><input class=\"sk-toggleable__control sk-hidden--visually\" id=\"sk-estimator-id-17\" type=\"checkbox\" ><label for=\"sk-estimator-id-17\" class=\"sk-toggleable__label sk-toggleable__label-arrow\">data_processing: ColumnTransformer</label><div class=\"sk-toggleable__content\"><pre>ColumnTransformer(transformers=[(&#x27;proc_numeric&#x27;,\n",
       "                                 Pipeline(steps=[(&#x27;standardize_num&#x27;,\n",
       "                                                  StandardScaler())]),\n",
       "                                 [&#x27;commuting_distance&#x27;, &#x27;last_raise_pct&#x27;,\n",
       "                                  &#x27;total_years_working&#x27;,\n",
       "                                  &#x27;years_since_last_promotion&#x27;,\n",
       "                                  &#x27;years_with_current_supervisor&#x27;]),\n",
       "                                (&#x27;create_dummies&#x27;,\n",
       "                                 Pipeline(steps=[(&#x27;create_dummies_cats&#x27;,\n",
       "                                                  OneHotEncoder(drop=&#x27;first&#x27;,\n",
       "                                                                handle_unknown=&#x27;ignore&#x27;))]),\n",
       "                                 [&#x27;frequency_of_travel&#x27;, &#x27;department&#x27;,\n",
       "                                  &#x27;education&#x27;, &#x27;satisfaction_with_environment&#x27;,\n",
       "                                  &#x27;gender&#x27;, &#x27;seniority_level&#x27;, &#x27;position&#x27;,\n",
       "                                  &#x27;satisfaction_with_job&#x27;, &#x27;married_or_single&#x27;,\n",
       "                                  &#x27;last_performance_rating&#x27;])])</pre></div></div></div><div class=\"sk-parallel\"><div class=\"sk-parallel-item\"><div class=\"sk-item\"><div class=\"sk-label-container\"><div class=\"sk-label sk-toggleable\"><input class=\"sk-toggleable__control sk-hidden--visually\" id=\"sk-estimator-id-18\" type=\"checkbox\" ><label for=\"sk-estimator-id-18\" class=\"sk-toggleable__label sk-toggleable__label-arrow\">proc_numeric</label><div class=\"sk-toggleable__content\"><pre>[&#x27;commuting_distance&#x27;, &#x27;last_raise_pct&#x27;, &#x27;total_years_working&#x27;, &#x27;years_since_last_promotion&#x27;, &#x27;years_with_current_supervisor&#x27;]</pre></div></div></div><div class=\"sk-serial\"><div class=\"sk-item\"><div class=\"sk-serial\"><div class=\"sk-item\"><div class=\"sk-estimator sk-toggleable\"><input class=\"sk-toggleable__control sk-hidden--visually\" id=\"sk-estimator-id-19\" type=\"checkbox\" ><label for=\"sk-estimator-id-19\" class=\"sk-toggleable__label sk-toggleable__label-arrow\">StandardScaler</label><div class=\"sk-toggleable__content\"><pre>StandardScaler()</pre></div></div></div></div></div></div></div></div><div class=\"sk-parallel-item\"><div class=\"sk-item\"><div class=\"sk-label-container\"><div class=\"sk-label sk-toggleable\"><input class=\"sk-toggleable__control sk-hidden--visually\" id=\"sk-estimator-id-20\" type=\"checkbox\" ><label for=\"sk-estimator-id-20\" class=\"sk-toggleable__label sk-toggleable__label-arrow\">create_dummies</label><div class=\"sk-toggleable__content\"><pre>[&#x27;frequency_of_travel&#x27;, &#x27;department&#x27;, &#x27;education&#x27;, &#x27;satisfaction_with_environment&#x27;, &#x27;gender&#x27;, &#x27;seniority_level&#x27;, &#x27;position&#x27;, &#x27;satisfaction_with_job&#x27;, &#x27;married_or_single&#x27;, &#x27;last_performance_rating&#x27;]</pre></div></div></div><div class=\"sk-serial\"><div class=\"sk-item\"><div class=\"sk-serial\"><div class=\"sk-item\"><div class=\"sk-estimator sk-toggleable\"><input class=\"sk-toggleable__control sk-hidden--visually\" id=\"sk-estimator-id-21\" type=\"checkbox\" ><label for=\"sk-estimator-id-21\" class=\"sk-toggleable__label sk-toggleable__label-arrow\">OneHotEncoder</label><div class=\"sk-toggleable__content\"><pre>OneHotEncoder(drop=&#x27;first&#x27;, handle_unknown=&#x27;ignore&#x27;)</pre></div></div></div></div></div></div></div></div></div></div><div class=\"sk-item\"><div class=\"sk-estimator sk-toggleable\"><input class=\"sk-toggleable__control sk-hidden--visually\" id=\"sk-estimator-id-22\" type=\"checkbox\" ><label for=\"sk-estimator-id-22\" class=\"sk-toggleable__label sk-toggleable__label-arrow\">LogisticRegression</label><div class=\"sk-toggleable__content\"><pre>LogisticRegression(C=100, class_weight=&#x27;balanced&#x27;, solver=&#x27;liblinear&#x27;)</pre></div></div></div></div></div></div></div>"
      ],
      "text/plain": [
       "Pipeline(steps=[('data_processing',\n",
       "                 ColumnTransformer(transformers=[('proc_numeric',\n",
       "                                                  Pipeline(steps=[('standardize_num',\n",
       "                                                                   StandardScaler())]),\n",
       "                                                  ['commuting_distance',\n",
       "                                                   'last_raise_pct',\n",
       "                                                   'total_years_working',\n",
       "                                                   'years_since_last_promotion',\n",
       "                                                   'years_with_current_supervisor']),\n",
       "                                                 ('create_dummies',\n",
       "                                                  Pipeline(steps=[('create_dummies_cats',\n",
       "                                                                   OneHotEncoder(drop='first',\n",
       "                                                                                 handle_unknown='ignore'))]),\n",
       "                                                  ['frequency_of_travel',\n",
       "                                                   'department', 'education',\n",
       "                                                   'satisfaction_with_environment',\n",
       "                                                   'gender', 'seniority_level',\n",
       "                                                   'position',\n",
       "                                                   'satisfaction_with_job',\n",
       "                                                   'married_or_single',\n",
       "                                                   'last_performance_rating'])])),\n",
       "                ('logreg',\n",
       "                 LogisticRegression(C=100, class_weight='balanced',\n",
       "                                    solver='liblinear'))])"
      ]
     },
     "execution_count": 39,
     "metadata": {},
     "output_type": "execute_result"
    }
   ],
   "source": [
    "gcv_results.best_estimator_"
   ]
  },
  {
   "cell_type": "code",
   "execution_count": 40,
   "id": "30b32406",
   "metadata": {},
   "outputs": [
    {
     "name": "stdout",
     "output_type": "stream",
     "text": [
      "              precision    recall  f1-score   support\n",
      "\n",
      "          No       0.76      0.73      0.74       397\n",
      "         Yes       0.74      0.77      0.76       403\n",
      "\n",
      "    accuracy                           0.75       800\n",
      "   macro avg       0.75      0.75      0.75       800\n",
      "weighted avg       0.75      0.75      0.75       800\n",
      "\n"
     ]
    }
   ],
   "source": [
    "y_trainp = gcv_results.predict(X_train)\n",
    "from sklearn.metrics import classification_report\n",
    "print(classification_report(y_train, y_trainp))"
   ]
  },
  {
   "cell_type": "code",
   "execution_count": 41,
   "id": "ec276508",
   "metadata": {},
   "outputs": [
    {
     "name": "stdout",
     "output_type": "stream",
     "text": [
      "              precision    recall  f1-score   support\n",
      "\n",
      "          No       0.71      0.63      0.67       103\n",
      "         Yes       0.65      0.72      0.68        97\n",
      "\n",
      "    accuracy                           0.68       200\n",
      "   macro avg       0.68      0.68      0.67       200\n",
      "weighted avg       0.68      0.68      0.67       200\n",
      "\n"
     ]
    }
   ],
   "source": [
    "y_testp = gcv_results.predict(X_test)\n",
    "\n",
    "from sklearn.metrics import classification_report\n",
    "print(classification_report(y_test, y_testp))"
   ]
  },
  {
   "cell_type": "code",
   "execution_count": 42,
   "id": "d59e0aea",
   "metadata": {},
   "outputs": [
    {
     "name": "stdout",
     "output_type": "stream",
     "text": [
      "[[289 108]\n",
      " [ 92 311]]\n"
     ]
    }
   ],
   "source": [
    "print(confusion_matrix(y_train, y_trainp))"
   ]
  },
  {
   "cell_type": "code",
   "execution_count": 43,
   "id": "bede35fd",
   "metadata": {},
   "outputs": [
    {
     "name": "stdout",
     "output_type": "stream",
     "text": [
      "[[65 38]\n",
      " [27 70]]\n"
     ]
    }
   ],
   "source": [
    "print(confusion_matrix(y_test, y_testp))"
   ]
  },
  {
   "cell_type": "code",
   "execution_count": null,
   "id": "39fe95b9",
   "metadata": {},
   "outputs": [],
   "source": []
  },
  {
   "cell_type": "markdown",
   "id": "9b403c96",
   "metadata": {},
   "source": [
    "## Which one is better? Explain?"
   ]
  },
  {
   "cell_type": "markdown",
   "id": "1a69202b",
   "metadata": {},
   "source": [
    "**According to my findings, I can say that the base logistic regression model is same as Grid Search, in base logistic regression model, I got training accuracy of 76 and testing accuracy of 71 while in Grid Search, training accuracy is 76 and testing is 71 which clearly states that both of these models has the same result. But while Grid search, we got a clear output like which is the best score, parameter. From the output it is clear that training accuracy is higher than testing accuracy which may be due to various reasons such as hyperparameters are not chosen properly, overfitting (small datasets often lead to overfitting).** "
   ]
  },
  {
   "cell_type": "code",
   "execution_count": null,
   "id": "7f9ecfb4",
   "metadata": {},
   "outputs": [],
   "source": []
  }
 ],
 "metadata": {
  "kernelspec": {
   "display_name": "Python 3",
   "language": "python",
   "name": "python3"
  },
  "language_info": {
   "codemirror_mode": {
    "name": "ipython",
    "version": 3
   },
   "file_extension": ".py",
   "mimetype": "text/x-python",
   "name": "python",
   "nbconvert_exporter": "python",
   "pygments_lexer": "ipython3",
   "version": "3.8.8"
  },
  "toc": {
   "base_numbering": 1,
   "nav_menu": {},
   "number_sections": false,
   "sideBar": true,
   "skip_h1_title": false,
   "title_cell": "Table of Contents",
   "title_sidebar": "Contents",
   "toc_cell": false,
   "toc_position": {},
   "toc_section_display": true,
   "toc_window_display": false
  }
 },
 "nbformat": 4,
 "nbformat_minor": 5
}
