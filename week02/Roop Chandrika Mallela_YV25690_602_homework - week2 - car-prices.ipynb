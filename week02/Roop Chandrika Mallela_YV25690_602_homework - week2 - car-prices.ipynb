{
 "cells": [
  {
   "cell_type": "markdown",
   "metadata": {},
   "source": [
    "# Assignment Week 2 \n",
    "\n",
    "* Answer each question completely. \n",
    "* Include your code and summarize what you see in a brief narrative.\n",
    "\n",
    "__Charting:__\n",
    "Remember to make your charts as self-sufficient as possible (i.e., labels, titles, lack of clutter)  "
   ]
  },
  {
   "cell_type": "markdown",
   "metadata": {},
   "source": [
    "### Following cell is for importing libraries, reading the dataset and getting the info of the dataset"
   ]
  },
  {
   "cell_type": "code",
   "execution_count": 1,
   "metadata": {},
   "outputs": [
    {
     "name": "stdout",
     "output_type": "stream",
     "text": [
      "<class 'pandas.core.frame.DataFrame'>\n",
      "RangeIndex: 558837 entries, 0 to 558836\n",
      "Data columns (total 16 columns):\n",
      " #   Column        Non-Null Count   Dtype  \n",
      "---  ------        --------------   -----  \n",
      " 0   year          558837 non-null  int64  \n",
      " 1   make          548536 non-null  object \n",
      " 2   model         548438 non-null  object \n",
      " 3   trim          548186 non-null  object \n",
      " 4   body          545642 non-null  object \n",
      " 5   transmission  493484 non-null  object \n",
      " 6   vin           558833 non-null  object \n",
      " 7   state         558837 non-null  object \n",
      " 8   condition     547043 non-null  object \n",
      " 9   odometer      558743 non-null  float64\n",
      " 10  color         558088 non-null  object \n",
      " 11  interior      558088 non-null  object \n",
      " 12  seller        558837 non-null  object \n",
      " 13  mmr           558837 non-null  object \n",
      " 14  sellingprice  558837 non-null  int64  \n",
      " 15  saledate      558837 non-null  object \n",
      "dtypes: float64(1), int64(2), object(13)\n",
      "memory usage: 68.2+ MB\n"
     ]
    }
   ],
   "source": [
    "import pandas as pd\n",
    "import numpy as np\n",
    "import matplotlib.pyplot as plt\n",
    "%matplotlib inline\n",
    "\n",
    "df = pd.read_csv('https://raw.githubusercontent.com/msaricaumbc/DS_data/master/ds602/car_prices/car_prices.csv', low_memory=False)\n",
    "\n",
    "df.info()"
   ]
  },
  {
   "cell_type": "code",
   "execution_count": 2,
   "metadata": {},
   "outputs": [
    {
     "data": {
      "text/html": [
       "<div>\n",
       "<style scoped>\n",
       "    .dataframe tbody tr th:only-of-type {\n",
       "        vertical-align: middle;\n",
       "    }\n",
       "\n",
       "    .dataframe tbody tr th {\n",
       "        vertical-align: top;\n",
       "    }\n",
       "\n",
       "    .dataframe thead th {\n",
       "        text-align: right;\n",
       "    }\n",
       "</style>\n",
       "<table border=\"1\" class=\"dataframe\">\n",
       "  <thead>\n",
       "    <tr style=\"text-align: right;\">\n",
       "      <th></th>\n",
       "      <th>year</th>\n",
       "      <th>make</th>\n",
       "      <th>model</th>\n",
       "      <th>trim</th>\n",
       "      <th>body</th>\n",
       "      <th>transmission</th>\n",
       "      <th>vin</th>\n",
       "      <th>state</th>\n",
       "      <th>condition</th>\n",
       "      <th>odometer</th>\n",
       "      <th>color</th>\n",
       "      <th>interior</th>\n",
       "      <th>seller</th>\n",
       "      <th>mmr</th>\n",
       "      <th>sellingprice</th>\n",
       "      <th>saledate</th>\n",
       "    </tr>\n",
       "  </thead>\n",
       "  <tbody>\n",
       "    <tr>\n",
       "      <th>0</th>\n",
       "      <td>2015</td>\n",
       "      <td>Kia</td>\n",
       "      <td>Sorento</td>\n",
       "      <td>LX</td>\n",
       "      <td>SUV</td>\n",
       "      <td>automatic</td>\n",
       "      <td>5xyktca69fg566472</td>\n",
       "      <td>ca</td>\n",
       "      <td>5</td>\n",
       "      <td>16639.0</td>\n",
       "      <td>white</td>\n",
       "      <td>black</td>\n",
       "      <td>kia motors america, inc</td>\n",
       "      <td>20500</td>\n",
       "      <td>21500</td>\n",
       "      <td>Tue Dec 16 2014 12:30:00 GMT-0800 (PST)</td>\n",
       "    </tr>\n",
       "    <tr>\n",
       "      <th>1</th>\n",
       "      <td>2015</td>\n",
       "      <td>Kia</td>\n",
       "      <td>Sorento</td>\n",
       "      <td>LX</td>\n",
       "      <td>SUV</td>\n",
       "      <td>automatic</td>\n",
       "      <td>5xyktca69fg561319</td>\n",
       "      <td>ca</td>\n",
       "      <td>5</td>\n",
       "      <td>9393.0</td>\n",
       "      <td>white</td>\n",
       "      <td>beige</td>\n",
       "      <td>kia motors america, inc</td>\n",
       "      <td>20800</td>\n",
       "      <td>21500</td>\n",
       "      <td>Tue Dec 16 2014 12:30:00 GMT-0800 (PST)</td>\n",
       "    </tr>\n",
       "    <tr>\n",
       "      <th>2</th>\n",
       "      <td>2014</td>\n",
       "      <td>BMW</td>\n",
       "      <td>3 Series</td>\n",
       "      <td>328i SULEV</td>\n",
       "      <td>Sedan</td>\n",
       "      <td>automatic</td>\n",
       "      <td>wba3c1c51ek116351</td>\n",
       "      <td>ca</td>\n",
       "      <td>4.5</td>\n",
       "      <td>1331.0</td>\n",
       "      <td>gray</td>\n",
       "      <td>black</td>\n",
       "      <td>financial services remarketing (lease)</td>\n",
       "      <td>31900</td>\n",
       "      <td>30000</td>\n",
       "      <td>Thu Jan 15 2015 04:30:00 GMT-0800 (PST)</td>\n",
       "    </tr>\n",
       "    <tr>\n",
       "      <th>3</th>\n",
       "      <td>2015</td>\n",
       "      <td>Volvo</td>\n",
       "      <td>S60</td>\n",
       "      <td>T5</td>\n",
       "      <td>Sedan</td>\n",
       "      <td>automatic</td>\n",
       "      <td>yv1612tb4f1310987</td>\n",
       "      <td>ca</td>\n",
       "      <td>4.1</td>\n",
       "      <td>14282.0</td>\n",
       "      <td>white</td>\n",
       "      <td>black</td>\n",
       "      <td>volvo na rep/world omni</td>\n",
       "      <td>27500</td>\n",
       "      <td>27750</td>\n",
       "      <td>Thu Jan 29 2015 04:30:00 GMT-0800 (PST)</td>\n",
       "    </tr>\n",
       "    <tr>\n",
       "      <th>4</th>\n",
       "      <td>2014</td>\n",
       "      <td>BMW</td>\n",
       "      <td>6 Series Gran Coupe</td>\n",
       "      <td>650i</td>\n",
       "      <td>Sedan</td>\n",
       "      <td>automatic</td>\n",
       "      <td>wba6b2c57ed129731</td>\n",
       "      <td>ca</td>\n",
       "      <td>4.3</td>\n",
       "      <td>2641.0</td>\n",
       "      <td>gray</td>\n",
       "      <td>black</td>\n",
       "      <td>financial services remarketing (lease)</td>\n",
       "      <td>66000</td>\n",
       "      <td>67000</td>\n",
       "      <td>Thu Dec 18 2014 12:30:00 GMT-0800 (PST)</td>\n",
       "    </tr>\n",
       "  </tbody>\n",
       "</table>\n",
       "</div>"
      ],
      "text/plain": [
       "   year   make                model        trim   body transmission  \\\n",
       "0  2015    Kia              Sorento          LX    SUV    automatic   \n",
       "1  2015    Kia              Sorento          LX    SUV    automatic   \n",
       "2  2014    BMW             3 Series  328i SULEV  Sedan    automatic   \n",
       "3  2015  Volvo                  S60          T5  Sedan    automatic   \n",
       "4  2014    BMW  6 Series Gran Coupe        650i  Sedan    automatic   \n",
       "\n",
       "                 vin state condition  odometer  color interior  \\\n",
       "0  5xyktca69fg566472    ca         5   16639.0  white    black   \n",
       "1  5xyktca69fg561319    ca         5    9393.0  white    beige   \n",
       "2  wba3c1c51ek116351    ca       4.5    1331.0   gray    black   \n",
       "3  yv1612tb4f1310987    ca       4.1   14282.0  white    black   \n",
       "4  wba6b2c57ed129731    ca       4.3    2641.0   gray    black   \n",
       "\n",
       "                                   seller    mmr  sellingprice  \\\n",
       "0                 kia motors america, inc  20500         21500   \n",
       "1                 kia motors america, inc  20800         21500   \n",
       "2  financial services remarketing (lease)  31900         30000   \n",
       "3                 volvo na rep/world omni  27500         27750   \n",
       "4  financial services remarketing (lease)  66000         67000   \n",
       "\n",
       "                                  saledate  \n",
       "0  Tue Dec 16 2014 12:30:00 GMT-0800 (PST)  \n",
       "1  Tue Dec 16 2014 12:30:00 GMT-0800 (PST)  \n",
       "2  Thu Jan 15 2015 04:30:00 GMT-0800 (PST)  \n",
       "3  Thu Jan 29 2015 04:30:00 GMT-0800 (PST)  \n",
       "4  Thu Dec 18 2014 12:30:00 GMT-0800 (PST)  "
      ]
     },
     "execution_count": 2,
     "metadata": {},
     "output_type": "execute_result"
    }
   ],
   "source": [
    "df.head() # to get the first five rows of the dataset"
   ]
  },
  {
   "cell_type": "markdown",
   "metadata": {},
   "source": [
    "# Data Description:\n",
    "- year: year the car was built (e.g., the model year)  \n",
    "- make: the manufacturer. \n",
    "- model: specific model of the car  \n",
    "- trim: subtype of the car model. \n",
    "- body: body style of the car. \n",
    "- transmission: type of transmission  \n",
    "- state: state car is registered. \n",
    "- condition: numerical rating of the condition, higher is better.  \n",
    "- odometer: number of miles the car has been driven.   \n",
    "- color: color of the car.  \n",
    "- interior: type of interior (e.g., seats). \n",
    "- mmr: estimated wholesale price of the car if auctioned.  \n",
    "- sellingprice: actual sales price of the car."
   ]
  },
  {
   "cell_type": "markdown",
   "metadata": {},
   "source": [
    "## Question 1. Determine the number of missing values in each column."
   ]
  },
  {
   "cell_type": "code",
   "execution_count": 3,
   "metadata": {},
   "outputs": [
    {
     "name": "stdout",
     "output_type": "stream",
     "text": [
      "The number of missing values in each column is given below\n"
     ]
    },
    {
     "data": {
      "text/plain": [
       "year                0\n",
       "make            10301\n",
       "model           10399\n",
       "trim            10651\n",
       "body            13195\n",
       "transmission    65353\n",
       "vin                 4\n",
       "state               0\n",
       "condition       11794\n",
       "odometer           94\n",
       "color             749\n",
       "interior          749\n",
       "seller              0\n",
       "mmr                 0\n",
       "sellingprice        0\n",
       "saledate            0\n",
       "dtype: int64"
      ]
     },
     "execution_count": 3,
     "metadata": {},
     "output_type": "execute_result"
    }
   ],
   "source": [
    "print(\"The number of missing values in each column is given below\")\n",
    "df.isna().sum()"
   ]
  },
  {
   "cell_type": "markdown",
   "metadata": {},
   "source": [
    "**The above cell is to find the number of missing values in each column. The column with highest number of missing values is \"transmission\", I can say that this column is not needed for exploratory data analysis. I can also say that car pricing mainly depends on make, model,color, its condition, mmr. Data analysis between mmr (estimated price of the car) and selling price (actual price of the car) will be very useful for finding the price of car.**\n"
   ]
  },
  {
   "cell_type": "markdown",
   "metadata": {},
   "source": [
    "## Question 2. Check the data types.\n",
    "- Which columns are coded to the incorrect type? If any, correct them."
   ]
  },
  {
   "cell_type": "code",
   "execution_count": 4,
   "metadata": {},
   "outputs": [
    {
     "data": {
      "text/plain": [
       "year              int64\n",
       "make             object\n",
       "model            object\n",
       "trim             object\n",
       "body             object\n",
       "transmission     object\n",
       "vin              object\n",
       "state            object\n",
       "condition        object\n",
       "odometer        float64\n",
       "color            object\n",
       "interior         object\n",
       "seller           object\n",
       "mmr              object\n",
       "sellingprice      int64\n",
       "saledate         object\n",
       "dtype: object"
      ]
     },
     "execution_count": 4,
     "metadata": {},
     "output_type": "execute_result"
    }
   ],
   "source": [
    "df.dtypes # finding the data types of each column"
   ]
  },
  {
   "cell_type": "markdown",
   "metadata": {},
   "source": [
    "**mmr column contains more numeric values but it is coded as object type, so I converted this column into numeric**"
   ]
  },
  {
   "cell_type": "code",
   "execution_count": 5,
   "metadata": {},
   "outputs": [],
   "source": [
    "df['mmr'] = pd.to_numeric(df['mmr'], errors = 'coerce')"
   ]
  },
  {
   "cell_type": "code",
   "execution_count": 6,
   "metadata": {},
   "outputs": [
    {
     "data": {
      "text/plain": [
       "year              int64\n",
       "make             object\n",
       "model            object\n",
       "trim             object\n",
       "body             object\n",
       "transmission     object\n",
       "vin              object\n",
       "state            object\n",
       "condition        object\n",
       "odometer        float64\n",
       "color            object\n",
       "interior         object\n",
       "seller           object\n",
       "mmr             float64\n",
       "sellingprice      int64\n",
       "saledate         object\n",
       "dtype: object"
      ]
     },
     "execution_count": 6,
     "metadata": {},
     "output_type": "execute_result"
    }
   ],
   "source": [
    "df.dtypes # print the data types after converting the data type of the column"
   ]
  },
  {
   "cell_type": "markdown",
   "metadata": {},
   "source": [
    "**condition column determines the condition of the car in numerical values, but it is coded as object, so I converted this column also into numeric**"
   ]
  },
  {
   "cell_type": "code",
   "execution_count": 7,
   "metadata": {},
   "outputs": [],
   "source": [
    "df['condition'] = pd.to_numeric(df['condition'], errors = 'coerce')"
   ]
  },
  {
   "cell_type": "code",
   "execution_count": 8,
   "metadata": {},
   "outputs": [
    {
     "data": {
      "text/plain": [
       "year              int64\n",
       "make             object\n",
       "model            object\n",
       "trim             object\n",
       "body             object\n",
       "transmission     object\n",
       "vin              object\n",
       "state            object\n",
       "condition       float64\n",
       "odometer        float64\n",
       "color            object\n",
       "interior         object\n",
       "seller           object\n",
       "mmr             float64\n",
       "sellingprice      int64\n",
       "saledate         object\n",
       "dtype: object"
      ]
     },
     "execution_count": 8,
     "metadata": {},
     "output_type": "execute_result"
    }
   ],
   "source": [
    "df.dtypes # print the data types after converting the data type of the column"
   ]
  },
  {
   "cell_type": "code",
   "execution_count": null,
   "metadata": {},
   "outputs": [],
   "source": []
  },
  {
   "cell_type": "markdown",
   "metadata": {},
   "source": [
    "Sample narrative description."
   ]
  },
  {
   "cell_type": "markdown",
   "metadata": {},
   "source": [
    "**In this question, data types of the column are found and then the columns which are coded as incorrect type are corrected. \"mmr\" and \"condition\" columns are converted into numeric because their values are numeric. errors = 'coerce' is used when the column contains one or two string values, they cannot be converted, so NaN values are replaced in the place of that values.**"
   ]
  },
  {
   "cell_type": "markdown",
   "metadata": {},
   "source": [
    "## Question 3. Analyze the `make` column.\n",
    "- Comment on what you observe.  \n",
    "- Clean the column to reduce the number of unique values to as few as reasonably possible (no hard coding). \n",
    "\n",
    "Hint: What do you notice if you run this:\n",
    "```python\n",
    "makes = df.make.unique().tolist()\n",
    "makes = [str(x).lower() for x in makes]\n",
    "sorted(makes)\n",
    "```"
   ]
  },
  {
   "cell_type": "code",
   "execution_count": 9,
   "metadata": {},
   "outputs": [
    {
     "data": {
      "text/plain": [
       "0            Kia\n",
       "1            Kia\n",
       "2            BMW\n",
       "3          Volvo\n",
       "4            BMW\n",
       "           ...  \n",
       "558832       Kia\n",
       "558833       Ram\n",
       "558834       BMW\n",
       "558835    Nissan\n",
       "558836      Ford\n",
       "Name: make, Length: 558837, dtype: object"
      ]
     },
     "execution_count": 9,
     "metadata": {},
     "output_type": "execute_result"
    }
   ],
   "source": [
    "df['make'] # print the make column values"
   ]
  },
  {
   "cell_type": "code",
   "execution_count": 10,
   "metadata": {},
   "outputs": [
    {
     "data": {
      "text/plain": [
       "10301"
      ]
     },
     "execution_count": 10,
     "metadata": {},
     "output_type": "execute_result"
    }
   ],
   "source": [
    "df['make'].isna().sum() # find out the count of missing values in make column"
   ]
  },
  {
   "cell_type": "code",
   "execution_count": 11,
   "metadata": {},
   "outputs": [
    {
     "data": {
      "text/plain": [
       "96"
      ]
     },
     "execution_count": 11,
     "metadata": {},
     "output_type": "execute_result"
    }
   ],
   "source": [
    "df['make'].nunique() # find the number of unique values in make column"
   ]
  },
  {
   "cell_type": "code",
   "execution_count": 12,
   "metadata": {},
   "outputs": [
    {
     "data": {
      "text/plain": [
       "['acura',\n",
       " 'acura',\n",
       " 'airstream',\n",
       " 'aston martin',\n",
       " 'audi',\n",
       " 'audi',\n",
       " 'bentley',\n",
       " 'bmw',\n",
       " 'bmw',\n",
       " 'buick',\n",
       " 'buick',\n",
       " 'cadillac',\n",
       " 'cadillac',\n",
       " 'chev truck',\n",
       " 'chevrolet',\n",
       " 'chevrolet',\n",
       " 'chrysler',\n",
       " 'chrysler',\n",
       " 'daewoo',\n",
       " 'dodge',\n",
       " 'dodge',\n",
       " 'dodge tk',\n",
       " 'dot',\n",
       " 'ferrari',\n",
       " 'fiat',\n",
       " 'fisker',\n",
       " 'ford',\n",
       " 'ford',\n",
       " 'ford tk',\n",
       " 'ford truck',\n",
       " 'geo',\n",
       " 'gmc',\n",
       " 'gmc',\n",
       " 'gmc truck',\n",
       " 'honda',\n",
       " 'honda',\n",
       " 'hummer',\n",
       " 'hyundai',\n",
       " 'hyundai',\n",
       " 'hyundai tk',\n",
       " 'infiniti',\n",
       " 'isuzu',\n",
       " 'jaguar',\n",
       " 'jeep',\n",
       " 'jeep',\n",
       " 'kia',\n",
       " 'kia',\n",
       " 'lamborghini',\n",
       " 'land rover',\n",
       " 'land rover',\n",
       " 'landrover',\n",
       " 'lexus',\n",
       " 'lexus',\n",
       " 'lincoln',\n",
       " 'lincoln',\n",
       " 'lotus',\n",
       " 'maserati',\n",
       " 'maserati',\n",
       " 'mazda',\n",
       " 'mazda',\n",
       " 'mazda tk',\n",
       " 'mercedes',\n",
       " 'mercedes-b',\n",
       " 'mercedes-benz',\n",
       " 'mercury',\n",
       " 'mercury',\n",
       " 'mini',\n",
       " 'mitsubishi',\n",
       " 'mitsubishi',\n",
       " 'nan',\n",
       " 'nissan',\n",
       " 'nissan',\n",
       " 'oldsmobile',\n",
       " 'oldsmobile',\n",
       " 'plymouth',\n",
       " 'plymouth',\n",
       " 'pontiac',\n",
       " 'pontiac',\n",
       " 'porsche',\n",
       " 'porsche',\n",
       " 'ram',\n",
       " 'rolls-royce',\n",
       " 'saab',\n",
       " 'saturn',\n",
       " 'scion',\n",
       " 'smart',\n",
       " 'subaru',\n",
       " 'subaru',\n",
       " 'suzuki',\n",
       " 'suzuki',\n",
       " 'tesla',\n",
       " 'toyota',\n",
       " 'toyota',\n",
       " 'volkswagen',\n",
       " 'volkswagen',\n",
       " 'volvo',\n",
       " 'vw']"
      ]
     },
     "execution_count": 12,
     "metadata": {},
     "output_type": "execute_result"
    }
   ],
   "source": [
    "makes = df.make.unique().tolist()\n",
    "makes = [str(x).lower() for x in makes]\n",
    "sorted(makes) "
   ]
  },
  {
   "cell_type": "markdown",
   "metadata": {},
   "source": [
    "**The above code is used to the unique values of make column into list and then converting them all to lowercase to avoid same values but different case, then they are sorted. From the output, I have observed that they are duplicate values in the column.**"
   ]
  },
  {
   "cell_type": "markdown",
   "metadata": {},
   "source": [
    "### Code to reduce the number of unique values"
   ]
  },
  {
   "cell_type": "code",
   "execution_count": 13,
   "metadata": {},
   "outputs": [],
   "source": [
    "df['make'] = df['make'].str.upper() # first convert all the column values either to lower or uppercase"
   ]
  },
  {
   "cell_type": "code",
   "execution_count": 14,
   "metadata": {},
   "outputs": [
    {
     "data": {
      "text/html": [
       "<div>\n",
       "<style scoped>\n",
       "    .dataframe tbody tr th:only-of-type {\n",
       "        vertical-align: middle;\n",
       "    }\n",
       "\n",
       "    .dataframe tbody tr th {\n",
       "        vertical-align: top;\n",
       "    }\n",
       "\n",
       "    .dataframe thead th {\n",
       "        text-align: right;\n",
       "    }\n",
       "</style>\n",
       "<table border=\"1\" class=\"dataframe\">\n",
       "  <thead>\n",
       "    <tr style=\"text-align: right;\">\n",
       "      <th></th>\n",
       "      <th>year</th>\n",
       "      <th>make</th>\n",
       "      <th>model</th>\n",
       "      <th>trim</th>\n",
       "      <th>body</th>\n",
       "      <th>transmission</th>\n",
       "      <th>vin</th>\n",
       "      <th>state</th>\n",
       "      <th>condition</th>\n",
       "      <th>odometer</th>\n",
       "      <th>color</th>\n",
       "      <th>interior</th>\n",
       "      <th>seller</th>\n",
       "      <th>mmr</th>\n",
       "      <th>sellingprice</th>\n",
       "      <th>saledate</th>\n",
       "    </tr>\n",
       "  </thead>\n",
       "  <tbody>\n",
       "    <tr>\n",
       "      <th>0</th>\n",
       "      <td>2015</td>\n",
       "      <td>KIA</td>\n",
       "      <td>Sorento</td>\n",
       "      <td>LX</td>\n",
       "      <td>SUV</td>\n",
       "      <td>automatic</td>\n",
       "      <td>5xyktca69fg566472</td>\n",
       "      <td>ca</td>\n",
       "      <td>5.0</td>\n",
       "      <td>16639.0</td>\n",
       "      <td>white</td>\n",
       "      <td>black</td>\n",
       "      <td>kia motors america, inc</td>\n",
       "      <td>20500.0</td>\n",
       "      <td>21500</td>\n",
       "      <td>Tue Dec 16 2014 12:30:00 GMT-0800 (PST)</td>\n",
       "    </tr>\n",
       "    <tr>\n",
       "      <th>2</th>\n",
       "      <td>2014</td>\n",
       "      <td>BMW</td>\n",
       "      <td>3 Series</td>\n",
       "      <td>328i SULEV</td>\n",
       "      <td>Sedan</td>\n",
       "      <td>automatic</td>\n",
       "      <td>wba3c1c51ek116351</td>\n",
       "      <td>ca</td>\n",
       "      <td>4.5</td>\n",
       "      <td>1331.0</td>\n",
       "      <td>gray</td>\n",
       "      <td>black</td>\n",
       "      <td>financial services remarketing (lease)</td>\n",
       "      <td>31900.0</td>\n",
       "      <td>30000</td>\n",
       "      <td>Thu Jan 15 2015 04:30:00 GMT-0800 (PST)</td>\n",
       "    </tr>\n",
       "    <tr>\n",
       "      <th>3</th>\n",
       "      <td>2015</td>\n",
       "      <td>VOLVO</td>\n",
       "      <td>S60</td>\n",
       "      <td>T5</td>\n",
       "      <td>Sedan</td>\n",
       "      <td>automatic</td>\n",
       "      <td>yv1612tb4f1310987</td>\n",
       "      <td>ca</td>\n",
       "      <td>4.1</td>\n",
       "      <td>14282.0</td>\n",
       "      <td>white</td>\n",
       "      <td>black</td>\n",
       "      <td>volvo na rep/world omni</td>\n",
       "      <td>27500.0</td>\n",
       "      <td>27750</td>\n",
       "      <td>Thu Jan 29 2015 04:30:00 GMT-0800 (PST)</td>\n",
       "    </tr>\n",
       "    <tr>\n",
       "      <th>5</th>\n",
       "      <td>2015</td>\n",
       "      <td>NISSAN</td>\n",
       "      <td>Altima</td>\n",
       "      <td>2.5 S</td>\n",
       "      <td>Sedan</td>\n",
       "      <td>automatic</td>\n",
       "      <td>1n4al3ap1fn326013</td>\n",
       "      <td>ca</td>\n",
       "      <td>1.0</td>\n",
       "      <td>5554.0</td>\n",
       "      <td>gray</td>\n",
       "      <td>black</td>\n",
       "      <td>enterprise vehicle exchange / tra / rental / t...</td>\n",
       "      <td>15350.0</td>\n",
       "      <td>10900</td>\n",
       "      <td>Tue Dec 30 2014 12:00:00 GMT-0800 (PST)</td>\n",
       "    </tr>\n",
       "    <tr>\n",
       "      <th>7</th>\n",
       "      <td>2014</td>\n",
       "      <td>CHEVROLET</td>\n",
       "      <td>Cruze</td>\n",
       "      <td>1LT</td>\n",
       "      <td>Sedan</td>\n",
       "      <td>automatic</td>\n",
       "      <td>1g1pc5sb2e7128460</td>\n",
       "      <td>ca</td>\n",
       "      <td>2.0</td>\n",
       "      <td>28617.0</td>\n",
       "      <td>black</td>\n",
       "      <td>black</td>\n",
       "      <td>enterprise vehicle exchange / tra / rental / t...</td>\n",
       "      <td>11900.0</td>\n",
       "      <td>9800</td>\n",
       "      <td>Tue Dec 16 2014 13:00:00 GMT-0800 (PST)</td>\n",
       "    </tr>\n",
       "    <tr>\n",
       "      <th>...</th>\n",
       "      <td>...</td>\n",
       "      <td>...</td>\n",
       "      <td>...</td>\n",
       "      <td>...</td>\n",
       "      <td>...</td>\n",
       "      <td>...</td>\n",
       "      <td>...</td>\n",
       "      <td>...</td>\n",
       "      <td>...</td>\n",
       "      <td>...</td>\n",
       "      <td>...</td>\n",
       "      <td>...</td>\n",
       "      <td>...</td>\n",
       "      <td>...</td>\n",
       "      <td>...</td>\n",
       "      <td>...</td>\n",
       "    </tr>\n",
       "    <tr>\n",
       "      <th>49275</th>\n",
       "      <td>1998</td>\n",
       "      <td>DOT</td>\n",
       "      <td>durango</td>\n",
       "      <td>NaN</td>\n",
       "      <td>NaN</td>\n",
       "      <td>automatic</td>\n",
       "      <td>1b4hs28yxwf151692</td>\n",
       "      <td>az</td>\n",
       "      <td>1.9</td>\n",
       "      <td>191734.0</td>\n",
       "      <td>silver</td>\n",
       "      <td>gray</td>\n",
       "      <td>southwest title loans</td>\n",
       "      <td>850.0</td>\n",
       "      <td>500</td>\n",
       "      <td>Tue Dec 23 2014 11:00:00 GMT-0800 (PST)</td>\n",
       "    </tr>\n",
       "    <tr>\n",
       "      <th>71286</th>\n",
       "      <td>2008</td>\n",
       "      <td>ASTON MARTIN</td>\n",
       "      <td>V8 Vantage</td>\n",
       "      <td>N400 Roadster</td>\n",
       "      <td>Convertible</td>\n",
       "      <td>automatic</td>\n",
       "      <td>scfbf04b18gd07963</td>\n",
       "      <td>nv</td>\n",
       "      <td>4.2</td>\n",
       "      <td>23479.0</td>\n",
       "      <td>gray</td>\n",
       "      <td>black</td>\n",
       "      <td>las vegas motorcars llc</td>\n",
       "      <td>54600.0</td>\n",
       "      <td>51000</td>\n",
       "      <td>Fri Jan 09 2015 12:00:00 GMT-0800 (PST)</td>\n",
       "    </tr>\n",
       "    <tr>\n",
       "      <th>123924</th>\n",
       "      <td>2012</td>\n",
       "      <td>FISKER</td>\n",
       "      <td>Karma</td>\n",
       "      <td>Eco-Sport</td>\n",
       "      <td>Sedan</td>\n",
       "      <td>automatic</td>\n",
       "      <td>yh4k14aaxca001360</td>\n",
       "      <td>ca</td>\n",
       "      <td>4.2</td>\n",
       "      <td>1806.0</td>\n",
       "      <td>black</td>\n",
       "      <td>yellow</td>\n",
       "      <td>desert european motorcars</td>\n",
       "      <td>53700.0</td>\n",
       "      <td>54500</td>\n",
       "      <td>Thu Jan 15 2015 04:00:00 GMT-0800 (PST)</td>\n",
       "    </tr>\n",
       "    <tr>\n",
       "      <th>288377</th>\n",
       "      <td>2007</td>\n",
       "      <td>LAMBORGHINI</td>\n",
       "      <td>Gallardo</td>\n",
       "      <td>Spyder</td>\n",
       "      <td>Convertible</td>\n",
       "      <td>automatic</td>\n",
       "      <td>zhwgu22t47la04447</td>\n",
       "      <td>fl</td>\n",
       "      <td>4.2</td>\n",
       "      <td>8824.0</td>\n",
       "      <td>yellow</td>\n",
       "      <td>black</td>\n",
       "      <td>tdaf remarketing</td>\n",
       "      <td>120000.0</td>\n",
       "      <td>117500</td>\n",
       "      <td>Tue Feb 10 2015 01:00:00 GMT-0800 (PST)</td>\n",
       "    </tr>\n",
       "    <tr>\n",
       "      <th>417901</th>\n",
       "      <td>2007</td>\n",
       "      <td>LOTUS</td>\n",
       "      <td>Exige</td>\n",
       "      <td>S</td>\n",
       "      <td>Coupe</td>\n",
       "      <td>manual</td>\n",
       "      <td>sccvc11137hl80911</td>\n",
       "      <td>ca</td>\n",
       "      <td>2.7</td>\n",
       "      <td>16932.0</td>\n",
       "      <td>black</td>\n",
       "      <td>black</td>\n",
       "      <td>gt3 auto group</td>\n",
       "      <td>40300.0</td>\n",
       "      <td>40800</td>\n",
       "      <td>Thu May 21 2015 05:30:00 GMT-0700 (PDT)</td>\n",
       "    </tr>\n",
       "  </tbody>\n",
       "</table>\n",
       "<p>67 rows × 16 columns</p>\n",
       "</div>"
      ],
      "text/plain": [
       "        year          make       model           trim         body  \\\n",
       "0       2015           KIA     Sorento             LX          SUV   \n",
       "2       2014           BMW    3 Series     328i SULEV        Sedan   \n",
       "3       2015         VOLVO         S60             T5        Sedan   \n",
       "5       2015        NISSAN      Altima          2.5 S        Sedan   \n",
       "7       2014     CHEVROLET       Cruze            1LT        Sedan   \n",
       "...      ...           ...         ...            ...          ...   \n",
       "49275   1998           DOT     durango            NaN          NaN   \n",
       "71286   2008  ASTON MARTIN  V8 Vantage  N400 Roadster  Convertible   \n",
       "123924  2012        FISKER       Karma      Eco-Sport        Sedan   \n",
       "288377  2007   LAMBORGHINI    Gallardo         Spyder  Convertible   \n",
       "417901  2007         LOTUS       Exige              S        Coupe   \n",
       "\n",
       "       transmission                vin state  condition  odometer   color  \\\n",
       "0         automatic  5xyktca69fg566472    ca        5.0   16639.0   white   \n",
       "2         automatic  wba3c1c51ek116351    ca        4.5    1331.0    gray   \n",
       "3         automatic  yv1612tb4f1310987    ca        4.1   14282.0   white   \n",
       "5         automatic  1n4al3ap1fn326013    ca        1.0    5554.0    gray   \n",
       "7         automatic  1g1pc5sb2e7128460    ca        2.0   28617.0   black   \n",
       "...             ...                ...   ...        ...       ...     ...   \n",
       "49275     automatic  1b4hs28yxwf151692    az        1.9  191734.0  silver   \n",
       "71286     automatic  scfbf04b18gd07963    nv        4.2   23479.0    gray   \n",
       "123924    automatic  yh4k14aaxca001360    ca        4.2    1806.0   black   \n",
       "288377    automatic  zhwgu22t47la04447    fl        4.2    8824.0  yellow   \n",
       "417901       manual  sccvc11137hl80911    ca        2.7   16932.0   black   \n",
       "\n",
       "       interior                                             seller       mmr  \\\n",
       "0         black                            kia motors america, inc   20500.0   \n",
       "2         black             financial services remarketing (lease)   31900.0   \n",
       "3         black                            volvo na rep/world omni   27500.0   \n",
       "5         black  enterprise vehicle exchange / tra / rental / t...   15350.0   \n",
       "7         black  enterprise vehicle exchange / tra / rental / t...   11900.0   \n",
       "...         ...                                                ...       ...   \n",
       "49275      gray                              southwest title loans     850.0   \n",
       "71286     black                            las vegas motorcars llc   54600.0   \n",
       "123924   yellow                          desert european motorcars   53700.0   \n",
       "288377    black                                   tdaf remarketing  120000.0   \n",
       "417901    black                                     gt3 auto group   40300.0   \n",
       "\n",
       "        sellingprice                                 saledate  \n",
       "0              21500  Tue Dec 16 2014 12:30:00 GMT-0800 (PST)  \n",
       "2              30000  Thu Jan 15 2015 04:30:00 GMT-0800 (PST)  \n",
       "3              27750  Thu Jan 29 2015 04:30:00 GMT-0800 (PST)  \n",
       "5              10900  Tue Dec 30 2014 12:00:00 GMT-0800 (PST)  \n",
       "7               9800  Tue Dec 16 2014 13:00:00 GMT-0800 (PST)  \n",
       "...              ...                                      ...  \n",
       "49275            500  Tue Dec 23 2014 11:00:00 GMT-0800 (PST)  \n",
       "71286          51000  Fri Jan 09 2015 12:00:00 GMT-0800 (PST)  \n",
       "123924         54500  Thu Jan 15 2015 04:00:00 GMT-0800 (PST)  \n",
       "288377        117500  Tue Feb 10 2015 01:00:00 GMT-0800 (PST)  \n",
       "417901         40800  Thu May 21 2015 05:30:00 GMT-0700 (PDT)  \n",
       "\n",
       "[67 rows x 16 columns]"
      ]
     },
     "execution_count": 14,
     "metadata": {},
     "output_type": "execute_result"
    }
   ],
   "source": [
    "df.drop_duplicates(subset = ['make']) # drop duplicates function is used to reduce the number of unique values"
   ]
  },
  {
   "cell_type": "code",
   "execution_count": 15,
   "metadata": {},
   "outputs": [
    {
     "data": {
      "text/plain": [
       "66"
      ]
     },
     "execution_count": 15,
     "metadata": {},
     "output_type": "execute_result"
    }
   ],
   "source": [
    "df['make'].nunique() # get the count of reduced unique values"
   ]
  },
  {
   "cell_type": "code",
   "execution_count": 16,
   "metadata": {},
   "outputs": [
    {
     "data": {
      "text/plain": [
       "['acura',\n",
       " 'airstream',\n",
       " 'aston martin',\n",
       " 'audi',\n",
       " 'bentley',\n",
       " 'bmw',\n",
       " 'buick',\n",
       " 'cadillac',\n",
       " 'chev truck',\n",
       " 'chevrolet',\n",
       " 'chrysler',\n",
       " 'daewoo',\n",
       " 'dodge',\n",
       " 'dodge tk',\n",
       " 'dot',\n",
       " 'ferrari',\n",
       " 'fiat',\n",
       " 'fisker',\n",
       " 'ford',\n",
       " 'ford tk',\n",
       " 'ford truck',\n",
       " 'geo',\n",
       " 'gmc',\n",
       " 'gmc truck',\n",
       " 'honda',\n",
       " 'hummer',\n",
       " 'hyundai',\n",
       " 'hyundai tk',\n",
       " 'infiniti',\n",
       " 'isuzu',\n",
       " 'jaguar',\n",
       " 'jeep',\n",
       " 'kia',\n",
       " 'lamborghini',\n",
       " 'land rover',\n",
       " 'landrover',\n",
       " 'lexus',\n",
       " 'lincoln',\n",
       " 'lotus',\n",
       " 'maserati',\n",
       " 'mazda',\n",
       " 'mazda tk',\n",
       " 'mercedes',\n",
       " 'mercedes-b',\n",
       " 'mercedes-benz',\n",
       " 'mercury',\n",
       " 'mini',\n",
       " 'mitsubishi',\n",
       " 'nan',\n",
       " 'nissan',\n",
       " 'oldsmobile',\n",
       " 'plymouth',\n",
       " 'pontiac',\n",
       " 'porsche',\n",
       " 'ram',\n",
       " 'rolls-royce',\n",
       " 'saab',\n",
       " 'saturn',\n",
       " 'scion',\n",
       " 'smart',\n",
       " 'subaru',\n",
       " 'suzuki',\n",
       " 'tesla',\n",
       " 'toyota',\n",
       " 'volkswagen',\n",
       " 'volvo',\n",
       " 'vw']"
      ]
     },
     "execution_count": 16,
     "metadata": {},
     "output_type": "execute_result"
    }
   ],
   "source": [
    "makes = df.make.unique().tolist()\n",
    "makes = [str(x).lower() for x in makes]\n",
    "sorted(makes)"
   ]
  },
  {
   "cell_type": "markdown",
   "metadata": {},
   "source": [
    "**The above code is used to the unique values of make column into list and then converting them all to lowercase to avoid same values but different case, then they are sorted. From the output, I have observed that they are no duplicate values in the column.**"
   ]
  },
  {
   "cell_type": "markdown",
   "metadata": {},
   "source": [
    "Sample narrative description."
   ]
  },
  {
   "cell_type": "markdown",
   "metadata": {},
   "source": [
    "**First, find the count of unique values in the column make, there are 96 values. Then print the unique values using the hint given in the question. I have found that there are duplicate values in the column. So, to remove the duplicates from the column, I have used drop_duplicates method which contains the subset attribute (determines for which column duplicates are to be removed). Then, find the count of unqiue values again which got reduced to 66**"
   ]
  },
  {
   "cell_type": "markdown",
   "metadata": {},
   "source": [
    "## Question 4. Analyze the relationship between the wholeprice `mmr` and the `salesprice`.\n",
    "- What is the overall correlation?  \n",
    "- What happens to the correlation as you increase the maximum selling price window (e.g., 0-10000, 0-20000,...)?\n",
    "- Create a scatter plot with the relationship.  \n",
    "- Create a graph that shows how the correlation changes."
   ]
  },
  {
   "cell_type": "markdown",
   "metadata": {},
   "source": [
    "**Overall correlation**"
   ]
  },
  {
   "cell_type": "code",
   "execution_count": 17,
   "metadata": {},
   "outputs": [
    {
     "name": "stdout",
     "output_type": "stream",
     "text": [
      "The overall correlation between mmr and selling price is  98.36337168977236\n"
     ]
    }
   ],
   "source": [
    "c = df['mmr'].corr(df['sellingprice'])\n",
    "print(\"The overall correlation between mmr and selling price is \", c*100)"
   ]
  },
  {
   "cell_type": "markdown",
   "metadata": {},
   "source": [
    "**The below code is used to first assign the values of the selling price windows and then finding the correlation between mmr and selling price of the particular window.**"
   ]
  },
  {
   "cell_type": "code",
   "execution_count": 18,
   "metadata": {},
   "outputs": [
    {
     "name": "stdout",
     "output_type": "stream",
     "text": [
      "Correlation for first window 0-10000: 0.874354272124959\n",
      "Correlation for second window 0-20000: 0.9584428323123206\n",
      "Correlation for third window 0-30000: 0.9744203460442996\n",
      "Correlation for fourth window 0-40000: 0.9791682459086513\n"
     ]
    }
   ],
   "source": [
    "# Assigning the selling price window to the variables\n",
    "first_window = df[(df['sellingprice'] >= 0) & (df['sellingprice'] <= 10000)]\n",
    "second_window = df[(df['sellingprice'] >= 0) & (df['sellingprice'] <= 20000)]\n",
    "third_window = df[(df['sellingprice'] >= 0) & (df['sellingprice'] <= 30000)]\n",
    "fourth_window = df[(df['sellingprice'] >= 0) & (df['sellingprice'] <= 40000)]\n",
    "\n",
    "# Calculating the correlation between mmr and selling price based on the above assigned windows\n",
    "corr_first_window = first_window['mmr'].corr(first_window['sellingprice'])\n",
    "corr_second_window = second_window['mmr'].corr(second_window['sellingprice'])\n",
    "corr_third_window = third_window['mmr'].corr(third_window['sellingprice'])\n",
    "corr_fourth_window = fourth_window['mmr'].corr(fourth_window['sellingprice'])\n",
    "\n",
    "# Printing the correlation of all the calculated windows\n",
    "print(\"Correlation for first window 0-10000:\", corr_first_window)\n",
    "print(\"Correlation for second window 0-20000:\", corr_second_window)\n",
    "print(\"Correlation for third window 0-30000:\", corr_third_window)\n",
    "print(\"Correlation for fourth window 0-40000:\", corr_fourth_window)"
   ]
  },
  {
   "cell_type": "markdown",
   "metadata": {},
   "source": [
    "**Below code is plot the scatterplot between mmr and selling price**"
   ]
  },
  {
   "cell_type": "code",
   "execution_count": 19,
   "metadata": {},
   "outputs": [
    {
     "data": {
      "image/png": "[encoded data removed]",
      "text/plain": [
       "<Figure size 432x288 with 1 Axes>"
      ]
     },
     "metadata": {
      "needs_background": "light"
     },
     "output_type": "display_data"
    }
   ],
   "source": [
    "plt.scatter(df['mmr'], df['sellingprice'])\n",
    "plt.xlabel('Estimates Price MMR')\n",
    "plt.ylabel('Actual Selling Price')\n",
    "plt.title('Scatter Plot of Estimated Price MMR and Actual Selling Price')\n",
    "plt.show()\n"
   ]
  },
  {
   "cell_type": "markdown",
   "metadata": {},
   "source": [
    "**Below is the code to plot the graph to show how the relationship changes**"
   ]
  },
  {
   "cell_type": "code",
   "execution_count": 20,
   "metadata": {},
   "outputs": [
    {
     "data": {
      "image/png": "[encoded data removed]",
      "text/plain": [
       "<Figure size 432x288 with 1 Axes>"
      ]
     },
     "metadata": {
      "needs_background": "light"
     },
     "output_type": "display_data"
    }
   ],
   "source": [
    "window_prices = ['0-10000', '0-20000', '0-30000', '0-40000']  \n",
    "corr_windows = [corr_first_window, corr_second_window, corr_third_window, corr_fourth_window]  \n",
    "\n",
    "plt.bar(window_prices, corr_windows)\n",
    "plt.xlabel('Prices Window')\n",
    "plt.ylabel('Correlation of price windows')\n",
    "plt.title('Plot between correlation and price windows')\n",
    "plt.show()\n"
   ]
  },
  {
   "cell_type": "code",
   "execution_count": null,
   "metadata": {},
   "outputs": [],
   "source": []
  },
  {
   "cell_type": "markdown",
   "metadata": {},
   "source": [
    "Sample narrative description."
   ]
  },
  {
   "cell_type": "markdown",
   "metadata": {},
   "source": [
    "**Overall correlation** - found by using corr() function. I have found that these two variables are strongly correlated with 98 percent.\n",
    "\n",
    "**Correlation Changes** - Assigned the window length to variables and found correlation between mmr and selling price based on that windows. It is found that correlation between mmr and selling price is positively correlated. MMR is increasing with the increase in selling price and vice versa.\n",
    "\n",
    "**Scatter Plot** - Scatter plot is plotted between mmr and selling price using plt.scatter function. The x-label, y-label and title is also given. It can also be found in this plot that increase in selling price also increases mmr.\n",
    "\n",
    "**Plot to find the relationship changes** - Assign the window prices and correlation of that windows to respective variables. Plot the bar between these two variables using plt.bar function. The x-label, y-label and title is also given. It can also be truly observed from the plot that increase in selling price also increases mmr.\n",
    "\n"
   ]
  },
  {
   "cell_type": "markdown",
   "metadata": {},
   "source": [
    "## Question 5. How does the distribution of `salesprice` vary by make for cars made between 2010-2015?\n",
    "- Use the 10 most common makes (your cleaned version of this column).  \n",
    "- Create a graph that answers this question."
   ]
  },
  {
   "cell_type": "code",
   "execution_count": 21,
   "metadata": {},
   "outputs": [],
   "source": [
    "# Assign the rows of years between 2010 to 2015 to a variable\n",
    "\n",
    "years = df[(df['year']>=2010) & (df['year']<=2015)]"
   ]
  },
  {
   "cell_type": "code",
   "execution_count": 22,
   "metadata": {},
   "outputs": [
    {
     "data": {
      "text/plain": [
       "['FORD',\n",
       " 'NISSAN',\n",
       " 'CHEVROLET',\n",
       " 'TOYOTA',\n",
       " 'DODGE',\n",
       " 'HYUNDAI',\n",
       " 'HONDA',\n",
       " 'KIA',\n",
       " 'INFINITI',\n",
       " 'BMW']"
      ]
     },
     "execution_count": 22,
     "metadata": {},
     "output_type": "execute_result"
    }
   ],
   "source": [
    "# use the above variables years to find the top 10 values of make column and convert them all to the list\n",
    "top_car_making = years['make'].value_counts().head(10).index.tolist()\n",
    "top_car_making"
   ]
  },
  {
   "cell_type": "code",
   "execution_count": 23,
   "metadata": {},
   "outputs": [
    {
     "data": {
      "image/png": "[encoded data removed]",
      "text/plain": [
       "<Figure size 864x432 with 1 Axes>"
      ]
     },
     "metadata": {
      "needs_background": "light"
     },
     "output_type": "display_data"
    }
   ],
   "source": [
    "# plot between top makes of the car and selling price using the above years data\n",
    "import seaborn as sns\n",
    "plt.figure(figsize=(12, 6))\n",
    "sns.boxplot(x='make',y='sellingprice', data = years[years['make'].isin(top_car_making)])\n",
    "plt.xlabel(\"Top 10 car making companies\")\n",
    "plt.ylabel(\"Selling price\")\n",
    "plt.show()"
   ]
  },
  {
   "cell_type": "markdown",
   "metadata": {},
   "source": [
    "Sample narrative description."
   ]
  },
  {
   "cell_type": "markdown",
   "metadata": {},
   "source": [
    "**First, assign the rows of data which has the years between 2010 and 2015. Then, use this data to get the top 10 car making companies using value_counts, head and add them to the list using tolist() function. Then, plot using boxplot (this is used for plotting between a categorical and contionous variable) between \"make\" column (filter the column and take the only data which are in the list of top 10 car making companies) and selling price. From the plot, it is ckear that Ford and BMW has the highest selling price compared to the others.**"
   ]
  },
  {
   "cell_type": "code",
   "execution_count": null,
   "metadata": {},
   "outputs": [],
   "source": []
  }
 ],
 "metadata": {
  "kernelspec": {
   "display_name": "Python 3",
   "language": "python",
   "name": "python3"
  },
  "language_info": {
   "codemirror_mode": {
    "name": "ipython",
    "version": 3
   },
   "file_extension": ".py",
   "mimetype": "text/x-python",
   "name": "python",
   "nbconvert_exporter": "python",
   "pygments_lexer": "ipython3",
   "version": "3.8.8"
  },
  "toc": {
   "base_numbering": 1,
   "nav_menu": {},
   "number_sections": false,
   "sideBar": true,
   "skip_h1_title": false,
   "title_cell": "Table of Contents",
   "title_sidebar": "Contents",
   "toc_cell": false,
   "toc_position": {},
   "toc_section_display": true,
   "toc_window_display": false
  }
 },
 "nbformat": 4,
 "nbformat_minor": 4
}
