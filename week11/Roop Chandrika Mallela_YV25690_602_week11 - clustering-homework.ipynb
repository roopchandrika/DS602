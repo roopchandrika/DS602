{
 "cells": [
  {
   "cell_type": "markdown",
   "metadata": {},
   "source": [
    "# Clustering Homework\n",
    "- Execute the below code and complete the following questions. __DO NOT commit the csv file__ "
   ]
  },
  {
   "cell_type": "code",
   "execution_count": 1,
   "metadata": {},
   "outputs": [],
   "source": [
    "import pandas as pd\n",
    "from sklearn.datasets import make_classification\n",
    "import numpy as np\n",
    "\n",
    "def generate_data():\n",
    "    \n",
    "    X, y = make_classification(n_samples=4000, \n",
    "                          n_features=50, \n",
    "                          n_redundant=30, \n",
    "                          n_repeated=2,\n",
    "                          n_classes=2,\n",
    "                          n_clusters_per_class=1,\n",
    "                          class_sep = 0.9,\n",
    "                          random_state = 1200,\n",
    "                          scale=1\n",
    "                         )\n",
    "\n",
    "    colNames = ['var'+str(x) for x in range(50)]\n",
    "    colNames.append('target')\n",
    "\n",
    "    df = pd.DataFrame(np.concatenate((X,y.reshape(-1,1)), axis=1), columns=colNames)\n",
    "    \n",
    "    df['var0'] = np.where(df['var0'] < 0, 'a', np.where(df['var0'] < 0.5, 'b', 'c'))\n",
    "    df['var1'] = np.where(df['var1'] < -.5, 'd', np.where(df['var1'] < 0.4, 'e', 'f'))\n",
    "    df['var2'] = np.where(df['var2'] < 0, 'g', np.where(df['var2'] < 0.5, 'h', 'i'))\n",
    "\n",
    "    df.to_csv('clustering-data.csv', index=False)\n",
    "\n",
    "generate_data()"
   ]
  },
  {
   "cell_type": "code",
   "execution_count": 2,
   "metadata": {},
   "outputs": [
    {
     "data": {
      "text/html": [
       "<div>\n",
       "<style scoped>\n",
       "    .dataframe tbody tr th:only-of-type {\n",
       "        vertical-align: middle;\n",
       "    }\n",
       "\n",
       "    .dataframe tbody tr th {\n",
       "        vertical-align: top;\n",
       "    }\n",
       "\n",
       "    .dataframe thead th {\n",
       "        text-align: right;\n",
       "    }\n",
       "</style>\n",
       "<table border=\"1\" class=\"dataframe\">\n",
       "  <thead>\n",
       "    <tr style=\"text-align: right;\">\n",
       "      <th></th>\n",
       "      <th>var0</th>\n",
       "      <th>var1</th>\n",
       "      <th>var2</th>\n",
       "      <th>var3</th>\n",
       "      <th>var4</th>\n",
       "      <th>var5</th>\n",
       "      <th>var6</th>\n",
       "      <th>var7</th>\n",
       "      <th>var8</th>\n",
       "      <th>var9</th>\n",
       "      <th>...</th>\n",
       "      <th>var41</th>\n",
       "      <th>var42</th>\n",
       "      <th>var43</th>\n",
       "      <th>var44</th>\n",
       "      <th>var45</th>\n",
       "      <th>var46</th>\n",
       "      <th>var47</th>\n",
       "      <th>var48</th>\n",
       "      <th>var49</th>\n",
       "      <th>target</th>\n",
       "    </tr>\n",
       "  </thead>\n",
       "  <tbody>\n",
       "    <tr>\n",
       "      <th>0</th>\n",
       "      <td>a</td>\n",
       "      <td>d</td>\n",
       "      <td>g</td>\n",
       "      <td>-0.396805</td>\n",
       "      <td>0.678895</td>\n",
       "      <td>0.726830</td>\n",
       "      <td>-0.640008</td>\n",
       "      <td>-1.039820</td>\n",
       "      <td>-0.934986</td>\n",
       "      <td>-0.098290</td>\n",
       "      <td>...</td>\n",
       "      <td>-0.268735</td>\n",
       "      <td>0.070548</td>\n",
       "      <td>0.808570</td>\n",
       "      <td>1.523755</td>\n",
       "      <td>-0.497207</td>\n",
       "      <td>0.470146</td>\n",
       "      <td>1.095665</td>\n",
       "      <td>-0.339445</td>\n",
       "      <td>0.470146</td>\n",
       "      <td>1.0</td>\n",
       "    </tr>\n",
       "    <tr>\n",
       "      <th>1</th>\n",
       "      <td>a</td>\n",
       "      <td>d</td>\n",
       "      <td>i</td>\n",
       "      <td>-0.991416</td>\n",
       "      <td>2.359730</td>\n",
       "      <td>-0.993249</td>\n",
       "      <td>-2.486560</td>\n",
       "      <td>-3.793524</td>\n",
       "      <td>-3.316669</td>\n",
       "      <td>-0.456288</td>\n",
       "      <td>...</td>\n",
       "      <td>0.500165</td>\n",
       "      <td>0.348498</td>\n",
       "      <td>3.031635</td>\n",
       "      <td>-0.996257</td>\n",
       "      <td>-1.832063</td>\n",
       "      <td>1.907786</td>\n",
       "      <td>4.046193</td>\n",
       "      <td>-1.076047</td>\n",
       "      <td>1.907786</td>\n",
       "      <td>0.0</td>\n",
       "    </tr>\n",
       "    <tr>\n",
       "      <th>2</th>\n",
       "      <td>a</td>\n",
       "      <td>d</td>\n",
       "      <td>g</td>\n",
       "      <td>-2.075731</td>\n",
       "      <td>0.544290</td>\n",
       "      <td>-0.854121</td>\n",
       "      <td>-0.615142</td>\n",
       "      <td>-0.903471</td>\n",
       "      <td>-0.775623</td>\n",
       "      <td>-0.123449</td>\n",
       "      <td>...</td>\n",
       "      <td>0.207872</td>\n",
       "      <td>0.096783</td>\n",
       "      <td>0.734387</td>\n",
       "      <td>0.564490</td>\n",
       "      <td>-0.439069</td>\n",
       "      <td>0.483492</td>\n",
       "      <td>0.971048</td>\n",
       "      <td>-0.231717</td>\n",
       "      <td>0.483492</td>\n",
       "      <td>0.0</td>\n",
       "    </tr>\n",
       "    <tr>\n",
       "      <th>3</th>\n",
       "      <td>b</td>\n",
       "      <td>e</td>\n",
       "      <td>i</td>\n",
       "      <td>0.330885</td>\n",
       "      <td>1.100425</td>\n",
       "      <td>1.468506</td>\n",
       "      <td>0.456396</td>\n",
       "      <td>-0.663287</td>\n",
       "      <td>-1.134611</td>\n",
       "      <td>0.494358</td>\n",
       "      <td>...</td>\n",
       "      <td>0.963910</td>\n",
       "      <td>-0.474539</td>\n",
       "      <td>0.049557</td>\n",
       "      <td>-0.169026</td>\n",
       "      <td>-0.213812</td>\n",
       "      <td>-0.798086</td>\n",
       "      <td>0.419922</td>\n",
       "      <td>-1.142086</td>\n",
       "      <td>-0.798086</td>\n",
       "      <td>1.0</td>\n",
       "    </tr>\n",
       "    <tr>\n",
       "      <th>4</th>\n",
       "      <td>a</td>\n",
       "      <td>d</td>\n",
       "      <td>h</td>\n",
       "      <td>2.245218</td>\n",
       "      <td>1.039071</td>\n",
       "      <td>0.481155</td>\n",
       "      <td>-1.373746</td>\n",
       "      <td>-1.861215</td>\n",
       "      <td>-1.531545</td>\n",
       "      <td>-0.322933</td>\n",
       "      <td>...</td>\n",
       "      <td>0.040232</td>\n",
       "      <td>0.263376</td>\n",
       "      <td>1.570320</td>\n",
       "      <td>0.212608</td>\n",
       "      <td>-0.917244</td>\n",
       "      <td>1.131278</td>\n",
       "      <td>2.034796</td>\n",
       "      <td>-0.363342</td>\n",
       "      <td>1.131278</td>\n",
       "      <td>0.0</td>\n",
       "    </tr>\n",
       "  </tbody>\n",
       "</table>\n",
       "<p>5 rows × 51 columns</p>\n",
       "</div>"
      ],
      "text/plain": [
       "  var0 var1 var2      var3      var4      var5      var6      var7      var8  \\\n",
       "0    a    d    g -0.396805  0.678895  0.726830 -0.640008 -1.039820 -0.934986   \n",
       "1    a    d    i -0.991416  2.359730 -0.993249 -2.486560 -3.793524 -3.316669   \n",
       "2    a    d    g -2.075731  0.544290 -0.854121 -0.615142 -0.903471 -0.775623   \n",
       "3    b    e    i  0.330885  1.100425  1.468506  0.456396 -0.663287 -1.134611   \n",
       "4    a    d    h  2.245218  1.039071  0.481155 -1.373746 -1.861215 -1.531545   \n",
       "\n",
       "       var9  ...     var41     var42     var43     var44     var45     var46  \\\n",
       "0 -0.098290  ... -0.268735  0.070548  0.808570  1.523755 -0.497207  0.470146   \n",
       "1 -0.456288  ...  0.500165  0.348498  3.031635 -0.996257 -1.832063  1.907786   \n",
       "2 -0.123449  ...  0.207872  0.096783  0.734387  0.564490 -0.439069  0.483492   \n",
       "3  0.494358  ...  0.963910 -0.474539  0.049557 -0.169026 -0.213812 -0.798086   \n",
       "4 -0.322933  ...  0.040232  0.263376  1.570320  0.212608 -0.917244  1.131278   \n",
       "\n",
       "      var47     var48     var49  target  \n",
       "0  1.095665 -0.339445  0.470146     1.0  \n",
       "1  4.046193 -1.076047  1.907786     0.0  \n",
       "2  0.971048 -0.231717  0.483492     0.0  \n",
       "3  0.419922 -1.142086 -0.798086     1.0  \n",
       "4  2.034796 -0.363342  1.131278     0.0  \n",
       "\n",
       "[5 rows x 51 columns]"
      ]
     },
     "execution_count": 2,
     "metadata": {},
     "output_type": "execute_result"
    }
   ],
   "source": [
    "import pandas as pd\n",
    "import numpy as np\n",
    "import matplotlib.pyplot as plt\n",
    "\n",
    "df = pd.read_csv('clustering-data.csv')\n",
    "df.head()"
   ]
  },
  {
   "cell_type": "code",
   "execution_count": 3,
   "metadata": {},
   "outputs": [
    {
     "name": "stdout",
     "output_type": "stream",
     "text": [
      "<class 'pandas.core.frame.DataFrame'>\n",
      "RangeIndex: 4000 entries, 0 to 3999\n",
      "Data columns (total 51 columns):\n",
      " #   Column  Non-Null Count  Dtype  \n",
      "---  ------  --------------  -----  \n",
      " 0   var0    4000 non-null   object \n",
      " 1   var1    4000 non-null   object \n",
      " 2   var2    4000 non-null   object \n",
      " 3   var3    4000 non-null   float64\n",
      " 4   var4    4000 non-null   float64\n",
      " 5   var5    4000 non-null   float64\n",
      " 6   var6    4000 non-null   float64\n",
      " 7   var7    4000 non-null   float64\n",
      " 8   var8    4000 non-null   float64\n",
      " 9   var9    4000 non-null   float64\n",
      " 10  var10   4000 non-null   float64\n",
      " 11  var11   4000 non-null   float64\n",
      " 12  var12   4000 non-null   float64\n",
      " 13  var13   4000 non-null   float64\n",
      " 14  var14   4000 non-null   float64\n",
      " 15  var15   4000 non-null   float64\n",
      " 16  var16   4000 non-null   float64\n",
      " 17  var17   4000 non-null   float64\n",
      " 18  var18   4000 non-null   float64\n",
      " 19  var19   4000 non-null   float64\n",
      " 20  var20   4000 non-null   float64\n",
      " 21  var21   4000 non-null   float64\n",
      " 22  var22   4000 non-null   float64\n",
      " 23  var23   4000 non-null   float64\n",
      " 24  var24   4000 non-null   float64\n",
      " 25  var25   4000 non-null   float64\n",
      " 26  var26   4000 non-null   float64\n",
      " 27  var27   4000 non-null   float64\n",
      " 28  var28   4000 non-null   float64\n",
      " 29  var29   4000 non-null   float64\n",
      " 30  var30   4000 non-null   float64\n",
      " 31  var31   4000 non-null   float64\n",
      " 32  var32   4000 non-null   float64\n",
      " 33  var33   4000 non-null   float64\n",
      " 34  var34   4000 non-null   float64\n",
      " 35  var35   4000 non-null   float64\n",
      " 36  var36   4000 non-null   float64\n",
      " 37  var37   4000 non-null   float64\n",
      " 38  var38   4000 non-null   float64\n",
      " 39  var39   4000 non-null   float64\n",
      " 40  var40   4000 non-null   float64\n",
      " 41  var41   4000 non-null   float64\n",
      " 42  var42   4000 non-null   float64\n",
      " 43  var43   4000 non-null   float64\n",
      " 44  var44   4000 non-null   float64\n",
      " 45  var45   4000 non-null   float64\n",
      " 46  var46   4000 non-null   float64\n",
      " 47  var47   4000 non-null   float64\n",
      " 48  var48   4000 non-null   float64\n",
      " 49  var49   4000 non-null   float64\n",
      " 50  target  4000 non-null   float64\n",
      "dtypes: float64(48), object(3)\n",
      "memory usage: 1.6+ MB\n"
     ]
    }
   ],
   "source": [
    "df.info()"
   ]
  },
  {
   "cell_type": "markdown",
   "metadata": {},
   "source": [
    "# Data Definitions\n",
    "- `var0` - `var49`: some feature that could be used to describe the `target`.  \n",
    "- `target`: variable that contains the classes. This is your target variable."
   ]
  },
  {
   "cell_type": "code",
   "execution_count": 4,
   "metadata": {},
   "outputs": [
    {
     "data": {
      "image/png": "[encoded data removed]",
      "text/plain": [
       "<Figure size 432x288 with 1 Axes>"
      ]
     },
     "metadata": {
      "needs_background": "light"
     },
     "output_type": "display_data"
    }
   ],
   "source": [
    "df.target.value_counts().plot.bar()\n",
    "plt.title('Distribution of Target', loc='left')\n",
    "plt.show()"
   ]
  },
  {
   "cell_type": "code",
   "execution_count": 5,
   "metadata": {},
   "outputs": [
    {
     "name": "stdout",
     "output_type": "stream",
     "text": [
      "Training examples: 3200\n",
      "Test examples: 800\n",
      "\n",
      "Feature names:\n",
      "var0\tvar1\tvar2\tvar3\tvar4\tvar5\tvar6\tvar7\tvar8\tvar9\tvar10\tvar11\tvar12\tvar13\tvar14\tvar15\tvar16\tvar17\tvar18\tvar19\tvar20\tvar21\tvar22\tvar23\tvar24\tvar25\tvar26\tvar27\tvar28\tvar29\tvar30\tvar31\tvar32\tvar33\tvar34\tvar35\tvar36\tvar37\tvar38\tvar39\tvar40\tvar41\tvar42\tvar43\tvar44\tvar45\tvar46\tvar47\tvar48\tvar49\n"
     ]
    }
   ],
   "source": [
    "from sklearn.model_selection import train_test_split\n",
    "X = df[[x for x in df.columns if x != 'target']]\n",
    "y = df['target']\n",
    "\n",
    "X_train, X_test, y_train, y_test = train_test_split(X, y, test_size=0.2, random_state=2303)\n",
    "\n",
    "print(f'Training examples: {X_train.shape[0]}')\n",
    "print(f'Test examples: {X_test.shape[0]}')\n",
    "print('\\nFeature names:')\n",
    "print(*X.columns, sep='\\t')"
   ]
  },
  {
   "cell_type": "markdown",
   "metadata": {},
   "source": [
    "# Question 1\n",
    "- Using `X_train`, you will perform k-means clustering using best practices.  \n",
    "- Determine what the \"optimum\" number of clusters is - support your answer.  \n",
    "- Visualize the results of your clustering using PCA.\n",
    "- Based on the visualization, how do you interpret the clustering result?"
   ]
  },
  {
   "cell_type": "code",
   "execution_count": 6,
   "metadata": {},
   "outputs": [],
   "source": [
    "# Insert Code"
   ]
  },
  {
   "cell_type": "markdown",
   "metadata": {},
   "source": [
    "## Importing the libraries"
   ]
  },
  {
   "cell_type": "code",
   "execution_count": 7,
   "metadata": {},
   "outputs": [],
   "source": [
    "import numpy as np\n",
    "import pandas as pd\n",
    "import matplotlib.pyplot as plt\n",
    "import seaborn as sns\n",
    "from sklearn.cluster import KMeans\n",
    "from sklearn.preprocessing import StandardScaler\n",
    "from sklearn.decomposition import PCA\n",
    "from sklearn.compose import ColumnTransformer\n",
    "from sklearn.preprocessing import OneHotEncoder, StandardScaler\n",
    "import warnings\n",
    "warnings.filterwarnings(\"ignore\")"
   ]
  },
  {
   "cell_type": "markdown",
   "metadata": {},
   "source": [
    "### Dividing dataframe into numerical and categorical features"
   ]
  },
  {
   "cell_type": "code",
   "execution_count": 8,
   "metadata": {},
   "outputs": [
    {
     "name": "stdout",
     "output_type": "stream",
     "text": [
      "Numerical Features: ['var3', 'var4', 'var5', 'var6', 'var7', 'var8', 'var9', 'var10', 'var11', 'var12', 'var13', 'var14', 'var15', 'var16', 'var17', 'var18', 'var19', 'var20', 'var21', 'var22', 'var23', 'var24', 'var25', 'var26', 'var27', 'var28', 'var29', 'var30', 'var31', 'var32', 'var33', 'var34', 'var35', 'var36', 'var37', 'var38', 'var39', 'var40', 'var41', 'var42', 'var43', 'var44', 'var45', 'var46', 'var47', 'var48', 'var49']\n",
      "Categorical Features: ['var0', 'var1', 'var2']\n"
     ]
    }
   ],
   "source": [
    "numerical_features = df.select_dtypes(include=['number']).columns.tolist()\n",
    "categorical_features = df.select_dtypes(exclude=['number']).columns.tolist()\n",
    "numerical_features.remove('target')\n",
    "\n",
    "# Print the numerical and categorical features\n",
    "print(\"Numerical Features:\", numerical_features)\n",
    "print(\"Categorical Features:\", categorical_features)\n"
   ]
  },
  {
   "cell_type": "markdown",
   "metadata": {},
   "source": [
    "### Pipeline with standard scaler (for numerical features) and OneHotEncoder (for categorical features)"
   ]
  },
  {
   "cell_type": "code",
   "execution_count": 9,
   "metadata": {},
   "outputs": [],
   "source": [
    "preprocessor = ColumnTransformer(\n",
    "    transformers=[\n",
    "        ('num', StandardScaler(), numerical_features),\n",
    "        ('cat', OneHotEncoder(), categorical_features)\n",
    "    ])\n",
    "\n",
    "X_train_p = preprocessor.fit_transform(X_train)"
   ]
  },
  {
   "cell_type": "markdown",
   "metadata": {},
   "source": [
    "### Plotting the elbow plot to find the optimal number of clusters"
   ]
  },
  {
   "cell_type": "code",
   "execution_count": 10,
   "metadata": {},
   "outputs": [
    {
     "data": {
      "image/png": "[encoded data removed]",
      "text/plain": [
       "<Figure size 432x288 with 1 Axes>"
      ]
     },
     "metadata": {
      "needs_background": "light"
     },
     "output_type": "display_data"
    }
   ],
   "source": [
    "distortions = list()\n",
    "\n",
    "for i in range(1, 15):\n",
    "    km = KMeans(n_clusters=i, random_state=0, n_init='auto')\n",
    "    km = km.fit(X_train_p)\n",
    "    distortions.append(km.inertia_)\n",
    "    \n",
    "plt.plot(range(1, 15), distortions, marker='o')\n",
    "plt.xlabel('Number of Clusters')\n",
    "plt.ylabel('Inertia')\n",
    "plt.show()"
   ]
  },
  {
   "cell_type": "markdown",
   "metadata": {},
   "source": [
    "**From the elbow plot, I can say that from cluster number 9, the plot starts gradually decreasing.**"
   ]
  },
  {
   "cell_type": "code",
   "execution_count": 11,
   "metadata": {},
   "outputs": [],
   "source": [
    "k = 9 \n",
    "\n",
    "km = KMeans(n_clusters=k, random_state=42)\n",
    "\n",
    "km_labels = km.fit_predict(X_train_p)"
   ]
  },
  {
   "cell_type": "code",
   "execution_count": 12,
   "metadata": {},
   "outputs": [
    {
     "data": {
      "text/plain": [
       "array([6, 3, 0, ..., 7, 1, 2])"
      ]
     },
     "execution_count": 12,
     "metadata": {},
     "output_type": "execute_result"
    }
   ],
   "source": [
    "km_labels"
   ]
  },
  {
   "cell_type": "code",
   "execution_count": 13,
   "metadata": {},
   "outputs": [
    {
     "data": {
      "text/plain": [
       "7    585\n",
       "1    450\n",
       "3    432\n",
       "2    427\n",
       "6    424\n",
       "0    249\n",
       "8    241\n",
       "5    232\n",
       "4    160\n",
       "dtype: int64"
      ]
     },
     "execution_count": 13,
     "metadata": {},
     "output_type": "execute_result"
    }
   ],
   "source": [
    "pd.Series(km_labels).value_counts()"
   ]
  },
  {
   "cell_type": "code",
   "execution_count": 14,
   "metadata": {},
   "outputs": [
    {
     "data": {
      "text/plain": [
       "9"
      ]
     },
     "execution_count": 14,
     "metadata": {},
     "output_type": "execute_result"
    }
   ],
   "source": [
    "pd.Series(km_labels).nunique()"
   ]
  },
  {
   "cell_type": "markdown",
   "metadata": {},
   "source": [
    "### Plotting the clustering using PCA"
   ]
  },
  {
   "cell_type": "code",
   "execution_count": 15,
   "metadata": {},
   "outputs": [
    {
     "data": {
      "image/png": "[encoded data removed]",
      "text/plain": [
       "<Figure size 720x576 with 1 Axes>"
      ]
     },
     "metadata": {
      "needs_background": "light"
     },
     "output_type": "display_data"
    }
   ],
   "source": [
    "pca = PCA(n_components=2)\n",
    "k_pca = pca.fit_transform(X_train_p)\n",
    "\n",
    "df_pca = pd.DataFrame({'PC_1': k_pca[:, 0], 'PC_2': k_pca[:, 1], 'Cluster': km_labels})\n",
    "\n",
    "plt.figure(figsize=(10, 8))\n",
    "sns.scatterplot(x='PC_1', y='PC_2', hue='Cluster', data=df_pca)\n",
    "plt.title('Clustering using PCA')\n",
    "plt.show()"
   ]
  },
  {
   "cell_type": "code",
   "execution_count": null,
   "metadata": {},
   "outputs": [],
   "source": []
  },
  {
   "cell_type": "markdown",
   "metadata": {},
   "source": [
    "**Insert conclusions**\n",
    "\n",
    "**In the above cells, I have done the following:-**\n",
    "\n",
    "- Dividing the dataframe into numerical and categorical features.\n",
    "- Create a preprocessor pipeline with StandardScaler and OneHotEncoder, fit and transform the X_train.\n",
    "- Elbow plot is plotted to determine the optimal number of clusters (9 started gradually decreasing).\n",
    "- K-means clustering is also done.\n",
    "- Done the k-means clustering using PCA.\n",
    "\n",
    "**From the visualization, I can say that the data is clearly separated with some overlapping which means that this clustering might successfully identify the data points.**"
   ]
  },
  {
   "cell_type": "markdown",
   "metadata": {},
   "source": [
    "# Question 2\n",
    "- Using `X_train` and `y_train`, create a logistic regression model. Then evaluate the performance on the test data. The only preprocessing steps you should include are scaling and one hot encoding.    \n",
    "- Using cross-validation and grid search on the regularization strength using best practices.\n",
    "- Provide a ROC chart and provide accuracy, precision, and recall.  \n",
    "- What is your opinion of the model's performance?"
   ]
  },
  {
   "cell_type": "code",
   "execution_count": 16,
   "metadata": {},
   "outputs": [],
   "source": [
    "# Insert Code"
   ]
  },
  {
   "cell_type": "markdown",
   "metadata": {},
   "source": [
    "### Preprocessor pipeline"
   ]
  },
  {
   "cell_type": "code",
   "execution_count": 17,
   "metadata": {},
   "outputs": [],
   "source": [
    "preprocessor = ColumnTransformer(\n",
    "    transformers=[\n",
    "        ('num', StandardScaler(), numerical_features),\n",
    "        ('cat', OneHotEncoder(), categorical_features)\n",
    "    ])"
   ]
  },
  {
   "cell_type": "markdown",
   "metadata": {},
   "source": [
    "### Pipeline for implementing preprocessor and LogisticRegression."
   ]
  },
  {
   "cell_type": "code",
   "execution_count": 18,
   "metadata": {},
   "outputs": [],
   "source": [
    "from sklearn.pipeline import Pipeline\n",
    "from sklearn.metrics import accuracy_score, classification_report, confusion_matrix\n",
    "from sklearn.linear_model import LogisticRegression\n",
    "\n",
    "lr_model = Pipeline([\n",
    "    ('preprocessor', preprocessor),\n",
    "    ('logreg', LogisticRegression(penalty=None))\n",
    "])"
   ]
  },
  {
   "cell_type": "code",
   "execution_count": 19,
   "metadata": {},
   "outputs": [
    {
     "data": {
      "text/html": [
       "<style>#sk-container-id-1 {color: black;background-color: white;}#sk-container-id-1 pre{padding: 0;}#sk-container-id-1 div.sk-toggleable {background-color: white;}#sk-container-id-1 label.sk-toggleable__label {cursor: pointer;display: block;width: 100%;margin-bottom: 0;padding: 0.3em;box-sizing: border-box;text-align: center;}#sk-container-id-1 label.sk-toggleable__label-arrow:before {content: \"▸\";float: left;margin-right: 0.25em;color: #696969;}#sk-container-id-1 label.sk-toggleable__label-arrow:hover:before {color: black;}#sk-container-id-1 div.sk-estimator:hover label.sk-toggleable__label-arrow:before {color: black;}#sk-container-id-1 div.sk-toggleable__content {max-height: 0;max-width: 0;overflow: hidden;text-align: left;background-color: #f0f8ff;}#sk-container-id-1 div.sk-toggleable__content pre {margin: 0.2em;color: black;border-radius: 0.25em;background-color: #f0f8ff;}#sk-container-id-1 input.sk-toggleable__control:checked~div.sk-toggleable__content {max-height: 200px;max-width: 100%;overflow: auto;}#sk-container-id-1 input.sk-toggleable__control:checked~label.sk-toggleable__label-arrow:before {content: \"▾\";}#sk-container-id-1 div.sk-estimator input.sk-toggleable__control:checked~label.sk-toggleable__label {background-color: #d4ebff;}#sk-container-id-1 div.sk-label input.sk-toggleable__control:checked~label.sk-toggleable__label {background-color: #d4ebff;}#sk-container-id-1 input.sk-hidden--visually {border: 0;clip: rect(1px 1px 1px 1px);clip: rect(1px, 1px, 1px, 1px);height: 1px;margin: -1px;overflow: hidden;padding: 0;position: absolute;width: 1px;}#sk-container-id-1 div.sk-estimator {font-family: monospace;background-color: #f0f8ff;border: 1px dotted black;border-radius: 0.25em;box-sizing: border-box;margin-bottom: 0.5em;}#sk-container-id-1 div.sk-estimator:hover {background-color: #d4ebff;}#sk-container-id-1 div.sk-parallel-item::after {content: \"\";width: 100%;border-bottom: 1px solid gray;flex-grow: 1;}#sk-container-id-1 div.sk-label:hover label.sk-toggleable__label {background-color: #d4ebff;}#sk-container-id-1 div.sk-serial::before {content: \"\";position: absolute;border-left: 1px solid gray;box-sizing: border-box;top: 0;bottom: 0;left: 50%;z-index: 0;}#sk-container-id-1 div.sk-serial {display: flex;flex-direction: column;align-items: center;background-color: white;padding-right: 0.2em;padding-left: 0.2em;position: relative;}#sk-container-id-1 div.sk-item {position: relative;z-index: 1;}#sk-container-id-1 div.sk-parallel {display: flex;align-items: stretch;justify-content: center;background-color: white;position: relative;}#sk-container-id-1 div.sk-item::before, #sk-container-id-1 div.sk-parallel-item::before {content: \"\";position: absolute;border-left: 1px solid gray;box-sizing: border-box;top: 0;bottom: 0;left: 50%;z-index: -1;}#sk-container-id-1 div.sk-parallel-item {display: flex;flex-direction: column;z-index: 1;position: relative;background-color: white;}#sk-container-id-1 div.sk-parallel-item:first-child::after {align-self: flex-end;width: 50%;}#sk-container-id-1 div.sk-parallel-item:last-child::after {align-self: flex-start;width: 50%;}#sk-container-id-1 div.sk-parallel-item:only-child::after {width: 0;}#sk-container-id-1 div.sk-dashed-wrapped {border: 1px dashed gray;margin: 0 0.4em 0.5em 0.4em;box-sizing: border-box;padding-bottom: 0.4em;background-color: white;}#sk-container-id-1 div.sk-label label {font-family: monospace;font-weight: bold;display: inline-block;line-height: 1.2em;}#sk-container-id-1 div.sk-label-container {text-align: center;}#sk-container-id-1 div.sk-container {/* jupyter's `normalize.less` sets `[hidden] { display: none; }` but bootstrap.min.css set `[hidden] { display: none !important; }` so we also need the `!important` here to be able to override the default hidden behavior on the sphinx rendered scikit-learn.org. See: https://github.com/scikit-learn/scikit-learn/issues/21755 */display: inline-block !important;position: relative;}#sk-container-id-1 div.sk-text-repr-fallback {display: none;}</style><div id=\"sk-container-id-1\" class=\"sk-top-container\"><div class=\"sk-text-repr-fallback\"><pre>Pipeline(steps=[(&#x27;preprocessor&#x27;,\n",
       "                 ColumnTransformer(transformers=[(&#x27;num&#x27;, StandardScaler(),\n",
       "                                                  [&#x27;var3&#x27;, &#x27;var4&#x27;, &#x27;var5&#x27;,\n",
       "                                                   &#x27;var6&#x27;, &#x27;var7&#x27;, &#x27;var8&#x27;,\n",
       "                                                   &#x27;var9&#x27;, &#x27;var10&#x27;, &#x27;var11&#x27;,\n",
       "                                                   &#x27;var12&#x27;, &#x27;var13&#x27;, &#x27;var14&#x27;,\n",
       "                                                   &#x27;var15&#x27;, &#x27;var16&#x27;, &#x27;var17&#x27;,\n",
       "                                                   &#x27;var18&#x27;, &#x27;var19&#x27;, &#x27;var20&#x27;,\n",
       "                                                   &#x27;var21&#x27;, &#x27;var22&#x27;, &#x27;var23&#x27;,\n",
       "                                                   &#x27;var24&#x27;, &#x27;var25&#x27;, &#x27;var26&#x27;,\n",
       "                                                   &#x27;var27&#x27;, &#x27;var28&#x27;, &#x27;var29&#x27;,\n",
       "                                                   &#x27;var30&#x27;, &#x27;var31&#x27;, &#x27;var32&#x27;, ...]),\n",
       "                                                 (&#x27;cat&#x27;, OneHotEncoder(),\n",
       "                                                  [&#x27;var0&#x27;, &#x27;var1&#x27;, &#x27;var2&#x27;])])),\n",
       "                (&#x27;logreg&#x27;, LogisticRegression(penalty=None))])</pre><b>In a Jupyter environment, please rerun this cell to show the HTML representation or trust the notebook. <br />On GitHub, the HTML representation is unable to render, please try loading this page with nbviewer.org.</b></div><div class=\"sk-container\" hidden><div class=\"sk-item sk-dashed-wrapped\"><div class=\"sk-label-container\"><div class=\"sk-label sk-toggleable\"><input class=\"sk-toggleable__control sk-hidden--visually\" id=\"sk-estimator-id-1\" type=\"checkbox\" ><label for=\"sk-estimator-id-1\" class=\"sk-toggleable__label sk-toggleable__label-arrow\">Pipeline</label><div class=\"sk-toggleable__content\"><pre>Pipeline(steps=[(&#x27;preprocessor&#x27;,\n",
       "                 ColumnTransformer(transformers=[(&#x27;num&#x27;, StandardScaler(),\n",
       "                                                  [&#x27;var3&#x27;, &#x27;var4&#x27;, &#x27;var5&#x27;,\n",
       "                                                   &#x27;var6&#x27;, &#x27;var7&#x27;, &#x27;var8&#x27;,\n",
       "                                                   &#x27;var9&#x27;, &#x27;var10&#x27;, &#x27;var11&#x27;,\n",
       "                                                   &#x27;var12&#x27;, &#x27;var13&#x27;, &#x27;var14&#x27;,\n",
       "                                                   &#x27;var15&#x27;, &#x27;var16&#x27;, &#x27;var17&#x27;,\n",
       "                                                   &#x27;var18&#x27;, &#x27;var19&#x27;, &#x27;var20&#x27;,\n",
       "                                                   &#x27;var21&#x27;, &#x27;var22&#x27;, &#x27;var23&#x27;,\n",
       "                                                   &#x27;var24&#x27;, &#x27;var25&#x27;, &#x27;var26&#x27;,\n",
       "                                                   &#x27;var27&#x27;, &#x27;var28&#x27;, &#x27;var29&#x27;,\n",
       "                                                   &#x27;var30&#x27;, &#x27;var31&#x27;, &#x27;var32&#x27;, ...]),\n",
       "                                                 (&#x27;cat&#x27;, OneHotEncoder(),\n",
       "                                                  [&#x27;var0&#x27;, &#x27;var1&#x27;, &#x27;var2&#x27;])])),\n",
       "                (&#x27;logreg&#x27;, LogisticRegression(penalty=None))])</pre></div></div></div><div class=\"sk-serial\"><div class=\"sk-item sk-dashed-wrapped\"><div class=\"sk-label-container\"><div class=\"sk-label sk-toggleable\"><input class=\"sk-toggleable__control sk-hidden--visually\" id=\"sk-estimator-id-2\" type=\"checkbox\" ><label for=\"sk-estimator-id-2\" class=\"sk-toggleable__label sk-toggleable__label-arrow\">preprocessor: ColumnTransformer</label><div class=\"sk-toggleable__content\"><pre>ColumnTransformer(transformers=[(&#x27;num&#x27;, StandardScaler(),\n",
       "                                 [&#x27;var3&#x27;, &#x27;var4&#x27;, &#x27;var5&#x27;, &#x27;var6&#x27;, &#x27;var7&#x27;,\n",
       "                                  &#x27;var8&#x27;, &#x27;var9&#x27;, &#x27;var10&#x27;, &#x27;var11&#x27;, &#x27;var12&#x27;,\n",
       "                                  &#x27;var13&#x27;, &#x27;var14&#x27;, &#x27;var15&#x27;, &#x27;var16&#x27;, &#x27;var17&#x27;,\n",
       "                                  &#x27;var18&#x27;, &#x27;var19&#x27;, &#x27;var20&#x27;, &#x27;var21&#x27;, &#x27;var22&#x27;,\n",
       "                                  &#x27;var23&#x27;, &#x27;var24&#x27;, &#x27;var25&#x27;, &#x27;var26&#x27;, &#x27;var27&#x27;,\n",
       "                                  &#x27;var28&#x27;, &#x27;var29&#x27;, &#x27;var30&#x27;, &#x27;var31&#x27;, &#x27;var32&#x27;, ...]),\n",
       "                                (&#x27;cat&#x27;, OneHotEncoder(),\n",
       "                                 [&#x27;var0&#x27;, &#x27;var1&#x27;, &#x27;var2&#x27;])])</pre></div></div></div><div class=\"sk-parallel\"><div class=\"sk-parallel-item\"><div class=\"sk-item\"><div class=\"sk-label-container\"><div class=\"sk-label sk-toggleable\"><input class=\"sk-toggleable__control sk-hidden--visually\" id=\"sk-estimator-id-3\" type=\"checkbox\" ><label for=\"sk-estimator-id-3\" class=\"sk-toggleable__label sk-toggleable__label-arrow\">num</label><div class=\"sk-toggleable__content\"><pre>[&#x27;var3&#x27;, &#x27;var4&#x27;, &#x27;var5&#x27;, &#x27;var6&#x27;, &#x27;var7&#x27;, &#x27;var8&#x27;, &#x27;var9&#x27;, &#x27;var10&#x27;, &#x27;var11&#x27;, &#x27;var12&#x27;, &#x27;var13&#x27;, &#x27;var14&#x27;, &#x27;var15&#x27;, &#x27;var16&#x27;, &#x27;var17&#x27;, &#x27;var18&#x27;, &#x27;var19&#x27;, &#x27;var20&#x27;, &#x27;var21&#x27;, &#x27;var22&#x27;, &#x27;var23&#x27;, &#x27;var24&#x27;, &#x27;var25&#x27;, &#x27;var26&#x27;, &#x27;var27&#x27;, &#x27;var28&#x27;, &#x27;var29&#x27;, &#x27;var30&#x27;, &#x27;var31&#x27;, &#x27;var32&#x27;, &#x27;var33&#x27;, &#x27;var34&#x27;, &#x27;var35&#x27;, &#x27;var36&#x27;, &#x27;var37&#x27;, &#x27;var38&#x27;, &#x27;var39&#x27;, &#x27;var40&#x27;, &#x27;var41&#x27;, &#x27;var42&#x27;, &#x27;var43&#x27;, &#x27;var44&#x27;, &#x27;var45&#x27;, &#x27;var46&#x27;, &#x27;var47&#x27;, &#x27;var48&#x27;, &#x27;var49&#x27;]</pre></div></div></div><div class=\"sk-serial\"><div class=\"sk-item\"><div class=\"sk-estimator sk-toggleable\"><input class=\"sk-toggleable__control sk-hidden--visually\" id=\"sk-estimator-id-4\" type=\"checkbox\" ><label for=\"sk-estimator-id-4\" class=\"sk-toggleable__label sk-toggleable__label-arrow\">StandardScaler</label><div class=\"sk-toggleable__content\"><pre>StandardScaler()</pre></div></div></div></div></div></div><div class=\"sk-parallel-item\"><div class=\"sk-item\"><div class=\"sk-label-container\"><div class=\"sk-label sk-toggleable\"><input class=\"sk-toggleable__control sk-hidden--visually\" id=\"sk-estimator-id-5\" type=\"checkbox\" ><label for=\"sk-estimator-id-5\" class=\"sk-toggleable__label sk-toggleable__label-arrow\">cat</label><div class=\"sk-toggleable__content\"><pre>[&#x27;var0&#x27;, &#x27;var1&#x27;, &#x27;var2&#x27;]</pre></div></div></div><div class=\"sk-serial\"><div class=\"sk-item\"><div class=\"sk-estimator sk-toggleable\"><input class=\"sk-toggleable__control sk-hidden--visually\" id=\"sk-estimator-id-6\" type=\"checkbox\" ><label for=\"sk-estimator-id-6\" class=\"sk-toggleable__label sk-toggleable__label-arrow\">OneHotEncoder</label><div class=\"sk-toggleable__content\"><pre>OneHotEncoder()</pre></div></div></div></div></div></div></div></div><div class=\"sk-item\"><div class=\"sk-estimator sk-toggleable\"><input class=\"sk-toggleable__control sk-hidden--visually\" id=\"sk-estimator-id-7\" type=\"checkbox\" ><label for=\"sk-estimator-id-7\" class=\"sk-toggleable__label sk-toggleable__label-arrow\">LogisticRegression</label><div class=\"sk-toggleable__content\"><pre>LogisticRegression(penalty=None)</pre></div></div></div></div></div></div></div>"
      ],
      "text/plain": [
       "Pipeline(steps=[('preprocessor',\n",
       "                 ColumnTransformer(transformers=[('num', StandardScaler(),\n",
       "                                                  ['var3', 'var4', 'var5',\n",
       "                                                   'var6', 'var7', 'var8',\n",
       "                                                   'var9', 'var10', 'var11',\n",
       "                                                   'var12', 'var13', 'var14',\n",
       "                                                   'var15', 'var16', 'var17',\n",
       "                                                   'var18', 'var19', 'var20',\n",
       "                                                   'var21', 'var22', 'var23',\n",
       "                                                   'var24', 'var25', 'var26',\n",
       "                                                   'var27', 'var28', 'var29',\n",
       "                                                   'var30', 'var31', 'var32', ...]),\n",
       "                                                 ('cat', OneHotEncoder(),\n",
       "                                                  ['var0', 'var1', 'var2'])])),\n",
       "                ('logreg', LogisticRegression(penalty=None))])"
      ]
     },
     "execution_count": 19,
     "metadata": {},
     "output_type": "execute_result"
    }
   ],
   "source": [
    "lr_model.fit(X_train, y_train)"
   ]
  },
  {
   "cell_type": "code",
   "execution_count": 20,
   "metadata": {},
   "outputs": [
    {
     "data": {
      "text/plain": [
       "array([[8.65313503e-01, 1.34686497e-01],\n",
       "       [2.32116523e-02, 9.76788348e-01],\n",
       "       [4.04619442e-02, 9.59538056e-01],\n",
       "       [2.12494107e-04, 9.99787506e-01],\n",
       "       [7.31211191e-01, 2.68788809e-01]])"
      ]
     },
     "execution_count": 20,
     "metadata": {},
     "output_type": "execute_result"
    }
   ],
   "source": [
    "y_train_predictions = lr_model.predict_proba(X_train)\n",
    "y_train_predictions[:5]"
   ]
  },
  {
   "cell_type": "code",
   "execution_count": 21,
   "metadata": {},
   "outputs": [
    {
     "data": {
      "image/png": "[encoded data removed]",
      "text/plain": [
       "<Figure size 432x288 with 1 Axes>"
      ]
     },
     "metadata": {
      "needs_background": "light"
     },
     "output_type": "display_data"
    }
   ],
   "source": [
    "plt.hist(y_train_predictions)\n",
    "plt.legend(['Yes', 'No'])\n",
    "plt.show()"
   ]
  },
  {
   "cell_type": "code",
   "execution_count": 22,
   "metadata": {},
   "outputs": [
    {
     "name": "stdout",
     "output_type": "stream",
     "text": [
      "[[1599    6]\n",
      " [ 185 1410]]\n"
     ]
    }
   ],
   "source": [
    "from sklearn.metrics import confusion_matrix\n",
    "\n",
    "y_train_predictions = lr_model.predict(X_train)\n",
    "\n",
    "print(confusion_matrix(y_train, y_train_predictions))"
   ]
  },
  {
   "cell_type": "code",
   "execution_count": 23,
   "metadata": {},
   "outputs": [
    {
     "name": "stdout",
     "output_type": "stream",
     "text": [
      "              precision    recall  f1-score   support\n",
      "\n",
      "         0.0       0.90      1.00      0.94      1605\n",
      "         1.0       1.00      0.88      0.94      1595\n",
      "\n",
      "    accuracy                           0.94      3200\n",
      "   macro avg       0.95      0.94      0.94      3200\n",
      "weighted avg       0.95      0.94      0.94      3200\n",
      "\n"
     ]
    }
   ],
   "source": [
    "from sklearn.metrics import classification_report\n",
    "print(classification_report(y_train, y_train_predictions))"
   ]
  },
  {
   "cell_type": "code",
   "execution_count": 24,
   "metadata": {},
   "outputs": [
    {
     "data": {
      "text/plain": [
       "array([[0.00812727, 0.99187273],\n",
       "       [0.00346742, 0.99653258],\n",
       "       [0.90732575, 0.09267425],\n",
       "       [0.00664991, 0.99335009],\n",
       "       [0.88115011, 0.11884989]])"
      ]
     },
     "execution_count": 24,
     "metadata": {},
     "output_type": "execute_result"
    }
   ],
   "source": [
    "y_test_predictions = lr_model.predict_proba(X_test)\n",
    "y_test_predictions[:5]"
   ]
  },
  {
   "cell_type": "code",
   "execution_count": 25,
   "metadata": {},
   "outputs": [
    {
     "data": {
      "image/png": "[encoded data removed]",
      "text/plain": [
       "<Figure size 432x288 with 1 Axes>"
      ]
     },
     "metadata": {
      "needs_background": "light"
     },
     "output_type": "display_data"
    }
   ],
   "source": [
    "plt.hist(y_test_predictions)\n",
    "plt.legend(['Yes', 'No'])\n",
    "plt.show()"
   ]
  },
  {
   "cell_type": "code",
   "execution_count": 26,
   "metadata": {},
   "outputs": [
    {
     "name": "stdout",
     "output_type": "stream",
     "text": [
      "[[390   4]\n",
      " [ 56 350]]\n"
     ]
    }
   ],
   "source": [
    "from sklearn.metrics import confusion_matrix\n",
    "\n",
    "y_test_predictions = lr_model.predict(X_test)\n",
    "\n",
    "print(confusion_matrix(y_test, y_test_predictions))"
   ]
  },
  {
   "cell_type": "code",
   "execution_count": 27,
   "metadata": {},
   "outputs": [
    {
     "name": "stdout",
     "output_type": "stream",
     "text": [
      "              precision    recall  f1-score   support\n",
      "\n",
      "         0.0       0.87      0.99      0.93       394\n",
      "         1.0       0.99      0.86      0.92       406\n",
      "\n",
      "    accuracy                           0.93       800\n",
      "   macro avg       0.93      0.93      0.92       800\n",
      "weighted avg       0.93      0.93      0.92       800\n",
      "\n"
     ]
    }
   ],
   "source": [
    "from sklearn.metrics import classification_report\n",
    "print(classification_report(y_test, y_test_predictions))"
   ]
  },
  {
   "cell_type": "markdown",
   "metadata": {},
   "source": [
    "### Plotting the ROC_AUC curve"
   ]
  },
  {
   "cell_type": "code",
   "execution_count": 28,
   "metadata": {},
   "outputs": [
    {
     "data": {
      "image/png": "[encoded data removed]",
      "text/plain": [
       "<Figure size 432x288 with 1 Axes>"
      ]
     },
     "metadata": {
      "needs_background": "light"
     },
     "output_type": "display_data"
    }
   ],
   "source": [
    "from sklearn.metrics import roc_curve\n",
    "\n",
    "def generate_probs(X, model= lr_model):\n",
    "    return model.predict_proba(X)[:, 1]\n",
    "\n",
    "def generate_roc(y, probs):\n",
    "    fpr, tpr, _ = roc_curve(y, probs, pos_label= 1)\n",
    "    return fpr, tpr\n",
    "    \n",
    "fpr_test, tpr_test = generate_roc(y_test, generate_probs(X_test))\n",
    "fpr_train, tpr_train = generate_roc(y_train, generate_probs(X_train))\n",
    "\n",
    "plt.plot(fpr_test, tpr_test,'-r')\n",
    "plt.plot(fpr_train, tpr_train,'-b')\n",
    "plt.xlabel('False Positive Rate')\n",
    "plt.ylabel('True Positive Rate')\n",
    "plt.legend(['Test','Training'])\n",
    "plt.plot([0, 1], [0, 1], color='navy', linestyle='--')\n",
    "plt.show()"
   ]
  },
  {
   "cell_type": "code",
   "execution_count": 29,
   "metadata": {},
   "outputs": [
    {
     "name": "stdout",
     "output_type": "stream",
     "text": [
      "training:  0.9607570386429556\n",
      "testing:  0.9440999224825586\n"
     ]
    }
   ],
   "source": [
    "from sklearn.metrics import roc_auc_score\n",
    "\n",
    "print ('training: ', roc_auc_score(y_train, generate_probs(X_train)))\n",
    "print ('testing: ', roc_auc_score(y_test, generate_probs(X_test)))"
   ]
  },
  {
   "cell_type": "code",
   "execution_count": 30,
   "metadata": {},
   "outputs": [
    {
     "name": "stdout",
     "output_type": "stream",
     "text": [
      "Accuracy of logistic regression of training dataset is:  94.03125\n"
     ]
    }
   ],
   "source": [
    "from sklearn.metrics import accuracy_score\n",
    "\n",
    "log_train_accuracy = accuracy_score(y_train,y_train_predictions)\n",
    "\n",
    "print(\"Accuracy of logistic regression of training dataset is: \",log_train_accuracy*100)"
   ]
  },
  {
   "cell_type": "code",
   "execution_count": 31,
   "metadata": {},
   "outputs": [
    {
     "name": "stdout",
     "output_type": "stream",
     "text": [
      "Accuracy of logistic regression of testing dataset is:  92.5\n"
     ]
    }
   ],
   "source": [
    "from sklearn.metrics import accuracy_score\n",
    "\n",
    "log_test_accuracy = accuracy_score(y_test,y_test_predictions)\n",
    "\n",
    "print(\"Accuracy of logistic regression of testing dataset is: \",log_test_accuracy*100)"
   ]
  },
  {
   "cell_type": "code",
   "execution_count": 32,
   "metadata": {},
   "outputs": [
    {
     "name": "stdout",
     "output_type": "stream",
     "text": [
      "Precision of logistic regression of training dataset is:  99.57627118644068\n"
     ]
    }
   ],
   "source": [
    "from sklearn.metrics import precision_score\n",
    "\n",
    "log_train_precision = precision_score(y_train,y_train_predictions)\n",
    "\n",
    "print(\"Precision of logistic regression of training dataset is: \",log_train_precision*100)"
   ]
  },
  {
   "cell_type": "code",
   "execution_count": 33,
   "metadata": {},
   "outputs": [
    {
     "name": "stdout",
     "output_type": "stream",
     "text": [
      "Precision of logistic regression of testing dataset is:  98.87005649717514\n"
     ]
    }
   ],
   "source": [
    "from sklearn.metrics import precision_score\n",
    "\n",
    "log_test_precision = precision_score(y_test,y_test_predictions)\n",
    "\n",
    "print(\"Precision of logistic regression of testing dataset is: \",log_test_precision*100)"
   ]
  },
  {
   "cell_type": "code",
   "execution_count": 34,
   "metadata": {},
   "outputs": [
    {
     "name": "stdout",
     "output_type": "stream",
     "text": [
      "Recall of logistic regression of training dataset is:  88.40125391849529\n"
     ]
    }
   ],
   "source": [
    "from sklearn.metrics import recall_score\n",
    "\n",
    "log_train_recall = recall_score(y_train,y_train_predictions)\n",
    "\n",
    "print(\"Recall of logistic regression of training dataset is: \",log_train_recall*100)"
   ]
  },
  {
   "cell_type": "code",
   "execution_count": 35,
   "metadata": {},
   "outputs": [
    {
     "name": "stdout",
     "output_type": "stream",
     "text": [
      "Recall of logistic regression of testing dataset is:  86.20689655172413\n"
     ]
    }
   ],
   "source": [
    "from sklearn.metrics import recall_score\n",
    "\n",
    "log_test_recall= recall_score(y_test,y_test_predictions)\n",
    "\n",
    "print(\"Recall of logistic regression of testing dataset is: \",log_test_recall*100)"
   ]
  },
  {
   "cell_type": "markdown",
   "metadata": {},
   "source": [
    "### Cross Validation"
   ]
  },
  {
   "cell_type": "code",
   "execution_count": 36,
   "metadata": {},
   "outputs": [
    {
     "name": "stdout",
     "output_type": "stream",
     "text": [
      "Cross-Validation Scores of Logistic Regression: [0.921875  0.9328125 0.9515625 0.925     0.9546875]\n"
     ]
    }
   ],
   "source": [
    "from sklearn.model_selection import cross_val_score\n",
    "log_scores = cross_val_score(lr_model, X_train, y_train, cv=5)\n",
    "print(\"Cross-Validation Scores of Logistic Regression:\", log_scores)"
   ]
  },
  {
   "cell_type": "markdown",
   "metadata": {},
   "source": [
    "### Grid Search"
   ]
  },
  {
   "cell_type": "code",
   "execution_count": 37,
   "metadata": {},
   "outputs": [
    {
     "data": {
      "text/html": [
       "<style>#sk-container-id-2 {color: black;background-color: white;}#sk-container-id-2 pre{padding: 0;}#sk-container-id-2 div.sk-toggleable {background-color: white;}#sk-container-id-2 label.sk-toggleable__label {cursor: pointer;display: block;width: 100%;margin-bottom: 0;padding: 0.3em;box-sizing: border-box;text-align: center;}#sk-container-id-2 label.sk-toggleable__label-arrow:before {content: \"▸\";float: left;margin-right: 0.25em;color: #696969;}#sk-container-id-2 label.sk-toggleable__label-arrow:hover:before {color: black;}#sk-container-id-2 div.sk-estimator:hover label.sk-toggleable__label-arrow:before {color: black;}#sk-container-id-2 div.sk-toggleable__content {max-height: 0;max-width: 0;overflow: hidden;text-align: left;background-color: #f0f8ff;}#sk-container-id-2 div.sk-toggleable__content pre {margin: 0.2em;color: black;border-radius: 0.25em;background-color: #f0f8ff;}#sk-container-id-2 input.sk-toggleable__control:checked~div.sk-toggleable__content {max-height: 200px;max-width: 100%;overflow: auto;}#sk-container-id-2 input.sk-toggleable__control:checked~label.sk-toggleable__label-arrow:before {content: \"▾\";}#sk-container-id-2 div.sk-estimator input.sk-toggleable__control:checked~label.sk-toggleable__label {background-color: #d4ebff;}#sk-container-id-2 div.sk-label input.sk-toggleable__control:checked~label.sk-toggleable__label {background-color: #d4ebff;}#sk-container-id-2 input.sk-hidden--visually {border: 0;clip: rect(1px 1px 1px 1px);clip: rect(1px, 1px, 1px, 1px);height: 1px;margin: -1px;overflow: hidden;padding: 0;position: absolute;width: 1px;}#sk-container-id-2 div.sk-estimator {font-family: monospace;background-color: #f0f8ff;border: 1px dotted black;border-radius: 0.25em;box-sizing: border-box;margin-bottom: 0.5em;}#sk-container-id-2 div.sk-estimator:hover {background-color: #d4ebff;}#sk-container-id-2 div.sk-parallel-item::after {content: \"\";width: 100%;border-bottom: 1px solid gray;flex-grow: 1;}#sk-container-id-2 div.sk-label:hover label.sk-toggleable__label {background-color: #d4ebff;}#sk-container-id-2 div.sk-serial::before {content: \"\";position: absolute;border-left: 1px solid gray;box-sizing: border-box;top: 0;bottom: 0;left: 50%;z-index: 0;}#sk-container-id-2 div.sk-serial {display: flex;flex-direction: column;align-items: center;background-color: white;padding-right: 0.2em;padding-left: 0.2em;position: relative;}#sk-container-id-2 div.sk-item {position: relative;z-index: 1;}#sk-container-id-2 div.sk-parallel {display: flex;align-items: stretch;justify-content: center;background-color: white;position: relative;}#sk-container-id-2 div.sk-item::before, #sk-container-id-2 div.sk-parallel-item::before {content: \"\";position: absolute;border-left: 1px solid gray;box-sizing: border-box;top: 0;bottom: 0;left: 50%;z-index: -1;}#sk-container-id-2 div.sk-parallel-item {display: flex;flex-direction: column;z-index: 1;position: relative;background-color: white;}#sk-container-id-2 div.sk-parallel-item:first-child::after {align-self: flex-end;width: 50%;}#sk-container-id-2 div.sk-parallel-item:last-child::after {align-self: flex-start;width: 50%;}#sk-container-id-2 div.sk-parallel-item:only-child::after {width: 0;}#sk-container-id-2 div.sk-dashed-wrapped {border: 1px dashed gray;margin: 0 0.4em 0.5em 0.4em;box-sizing: border-box;padding-bottom: 0.4em;background-color: white;}#sk-container-id-2 div.sk-label label {font-family: monospace;font-weight: bold;display: inline-block;line-height: 1.2em;}#sk-container-id-2 div.sk-label-container {text-align: center;}#sk-container-id-2 div.sk-container {/* jupyter's `normalize.less` sets `[hidden] { display: none; }` but bootstrap.min.css set `[hidden] { display: none !important; }` so we also need the `!important` here to be able to override the default hidden behavior on the sphinx rendered scikit-learn.org. See: https://github.com/scikit-learn/scikit-learn/issues/21755 */display: inline-block !important;position: relative;}#sk-container-id-2 div.sk-text-repr-fallback {display: none;}</style><div id=\"sk-container-id-2\" class=\"sk-top-container\"><div class=\"sk-text-repr-fallback\"><pre>GridSearchCV(cv=5,\n",
       "             estimator=Pipeline(steps=[(&#x27;preprocessor&#x27;,\n",
       "                                        ColumnTransformer(transformers=[(&#x27;num&#x27;,\n",
       "                                                                         StandardScaler(),\n",
       "                                                                         [&#x27;var3&#x27;,\n",
       "                                                                          &#x27;var4&#x27;,\n",
       "                                                                          &#x27;var5&#x27;,\n",
       "                                                                          &#x27;var6&#x27;,\n",
       "                                                                          &#x27;var7&#x27;,\n",
       "                                                                          &#x27;var8&#x27;,\n",
       "                                                                          &#x27;var9&#x27;,\n",
       "                                                                          &#x27;var10&#x27;,\n",
       "                                                                          &#x27;var11&#x27;,\n",
       "                                                                          &#x27;var12&#x27;,\n",
       "                                                                          &#x27;var13&#x27;,\n",
       "                                                                          &#x27;var14&#x27;,\n",
       "                                                                          &#x27;var15&#x27;,\n",
       "                                                                          &#x27;var16&#x27;,\n",
       "                                                                          &#x27;var17&#x27;,\n",
       "                                                                          &#x27;var18&#x27;,\n",
       "                                                                          &#x27;var19&#x27;,\n",
       "                                                                          &#x27;var20&#x27;,\n",
       "                                                                          &#x27;var21&#x27;,\n",
       "                                                                          &#x27;var22&#x27;,\n",
       "                                                                          &#x27;var23&#x27;,\n",
       "                                                                          &#x27;var24&#x27;,\n",
       "                                                                          &#x27;var25&#x27;,\n",
       "                                                                          &#x27;var26&#x27;,\n",
       "                                                                          &#x27;var27&#x27;,\n",
       "                                                                          &#x27;var28&#x27;,\n",
       "                                                                          &#x27;var29&#x27;,\n",
       "                                                                          &#x27;var30&#x27;,\n",
       "                                                                          &#x27;var31&#x27;,\n",
       "                                                                          &#x27;var32&#x27;, ...]),\n",
       "                                                                        (&#x27;cat&#x27;,\n",
       "                                                                         OneHotEncoder(),\n",
       "                                                                         [&#x27;var0&#x27;,\n",
       "                                                                          &#x27;var1&#x27;,\n",
       "                                                                          &#x27;var2&#x27;])])),\n",
       "                                       (&#x27;lr_classifier&#x27;,\n",
       "                                        LogisticRegression())]),\n",
       "             n_jobs=-1,\n",
       "             param_grid={&#x27;lr_classifier__C&#x27;: [0.001, 0.01, 0.1, 1, 10],\n",
       "                         &#x27;lr_classifier__penalty&#x27;: [&#x27;l1&#x27;, &#x27;l2&#x27;],\n",
       "                         &#x27;lr_classifier__solver&#x27;: [&#x27;liblinear&#x27;, &#x27;lbfgs&#x27;]},\n",
       "             scoring=&#x27;accuracy&#x27;)</pre><b>In a Jupyter environment, please rerun this cell to show the HTML representation or trust the notebook. <br />On GitHub, the HTML representation is unable to render, please try loading this page with nbviewer.org.</b></div><div class=\"sk-container\" hidden><div class=\"sk-item sk-dashed-wrapped\"><div class=\"sk-label-container\"><div class=\"sk-label sk-toggleable\"><input class=\"sk-toggleable__control sk-hidden--visually\" id=\"sk-estimator-id-8\" type=\"checkbox\" ><label for=\"sk-estimator-id-8\" class=\"sk-toggleable__label sk-toggleable__label-arrow\">GridSearchCV</label><div class=\"sk-toggleable__content\"><pre>GridSearchCV(cv=5,\n",
       "             estimator=Pipeline(steps=[(&#x27;preprocessor&#x27;,\n",
       "                                        ColumnTransformer(transformers=[(&#x27;num&#x27;,\n",
       "                                                                         StandardScaler(),\n",
       "                                                                         [&#x27;var3&#x27;,\n",
       "                                                                          &#x27;var4&#x27;,\n",
       "                                                                          &#x27;var5&#x27;,\n",
       "                                                                          &#x27;var6&#x27;,\n",
       "                                                                          &#x27;var7&#x27;,\n",
       "                                                                          &#x27;var8&#x27;,\n",
       "                                                                          &#x27;var9&#x27;,\n",
       "                                                                          &#x27;var10&#x27;,\n",
       "                                                                          &#x27;var11&#x27;,\n",
       "                                                                          &#x27;var12&#x27;,\n",
       "                                                                          &#x27;var13&#x27;,\n",
       "                                                                          &#x27;var14&#x27;,\n",
       "                                                                          &#x27;var15&#x27;,\n",
       "                                                                          &#x27;var16&#x27;,\n",
       "                                                                          &#x27;var17&#x27;,\n",
       "                                                                          &#x27;var18&#x27;,\n",
       "                                                                          &#x27;var19&#x27;,\n",
       "                                                                          &#x27;var20&#x27;,\n",
       "                                                                          &#x27;var21&#x27;,\n",
       "                                                                          &#x27;var22&#x27;,\n",
       "                                                                          &#x27;var23&#x27;,\n",
       "                                                                          &#x27;var24&#x27;,\n",
       "                                                                          &#x27;var25&#x27;,\n",
       "                                                                          &#x27;var26&#x27;,\n",
       "                                                                          &#x27;var27&#x27;,\n",
       "                                                                          &#x27;var28&#x27;,\n",
       "                                                                          &#x27;var29&#x27;,\n",
       "                                                                          &#x27;var30&#x27;,\n",
       "                                                                          &#x27;var31&#x27;,\n",
       "                                                                          &#x27;var32&#x27;, ...]),\n",
       "                                                                        (&#x27;cat&#x27;,\n",
       "                                                                         OneHotEncoder(),\n",
       "                                                                         [&#x27;var0&#x27;,\n",
       "                                                                          &#x27;var1&#x27;,\n",
       "                                                                          &#x27;var2&#x27;])])),\n",
       "                                       (&#x27;lr_classifier&#x27;,\n",
       "                                        LogisticRegression())]),\n",
       "             n_jobs=-1,\n",
       "             param_grid={&#x27;lr_classifier__C&#x27;: [0.001, 0.01, 0.1, 1, 10],\n",
       "                         &#x27;lr_classifier__penalty&#x27;: [&#x27;l1&#x27;, &#x27;l2&#x27;],\n",
       "                         &#x27;lr_classifier__solver&#x27;: [&#x27;liblinear&#x27;, &#x27;lbfgs&#x27;]},\n",
       "             scoring=&#x27;accuracy&#x27;)</pre></div></div></div><div class=\"sk-parallel\"><div class=\"sk-parallel-item\"><div class=\"sk-item\"><div class=\"sk-label-container\"><div class=\"sk-label sk-toggleable\"><input class=\"sk-toggleable__control sk-hidden--visually\" id=\"sk-estimator-id-9\" type=\"checkbox\" ><label for=\"sk-estimator-id-9\" class=\"sk-toggleable__label sk-toggleable__label-arrow\">estimator: Pipeline</label><div class=\"sk-toggleable__content\"><pre>Pipeline(steps=[(&#x27;preprocessor&#x27;,\n",
       "                 ColumnTransformer(transformers=[(&#x27;num&#x27;, StandardScaler(),\n",
       "                                                  [&#x27;var3&#x27;, &#x27;var4&#x27;, &#x27;var5&#x27;,\n",
       "                                                   &#x27;var6&#x27;, &#x27;var7&#x27;, &#x27;var8&#x27;,\n",
       "                                                   &#x27;var9&#x27;, &#x27;var10&#x27;, &#x27;var11&#x27;,\n",
       "                                                   &#x27;var12&#x27;, &#x27;var13&#x27;, &#x27;var14&#x27;,\n",
       "                                                   &#x27;var15&#x27;, &#x27;var16&#x27;, &#x27;var17&#x27;,\n",
       "                                                   &#x27;var18&#x27;, &#x27;var19&#x27;, &#x27;var20&#x27;,\n",
       "                                                   &#x27;var21&#x27;, &#x27;var22&#x27;, &#x27;var23&#x27;,\n",
       "                                                   &#x27;var24&#x27;, &#x27;var25&#x27;, &#x27;var26&#x27;,\n",
       "                                                   &#x27;var27&#x27;, &#x27;var28&#x27;, &#x27;var29&#x27;,\n",
       "                                                   &#x27;var30&#x27;, &#x27;var31&#x27;, &#x27;var32&#x27;, ...]),\n",
       "                                                 (&#x27;cat&#x27;, OneHotEncoder(),\n",
       "                                                  [&#x27;var0&#x27;, &#x27;var1&#x27;, &#x27;var2&#x27;])])),\n",
       "                (&#x27;lr_classifier&#x27;, LogisticRegression())])</pre></div></div></div><div class=\"sk-serial\"><div class=\"sk-item\"><div class=\"sk-serial\"><div class=\"sk-item sk-dashed-wrapped\"><div class=\"sk-label-container\"><div class=\"sk-label sk-toggleable\"><input class=\"sk-toggleable__control sk-hidden--visually\" id=\"sk-estimator-id-10\" type=\"checkbox\" ><label for=\"sk-estimator-id-10\" class=\"sk-toggleable__label sk-toggleable__label-arrow\">preprocessor: ColumnTransformer</label><div class=\"sk-toggleable__content\"><pre>ColumnTransformer(transformers=[(&#x27;num&#x27;, StandardScaler(),\n",
       "                                 [&#x27;var3&#x27;, &#x27;var4&#x27;, &#x27;var5&#x27;, &#x27;var6&#x27;, &#x27;var7&#x27;,\n",
       "                                  &#x27;var8&#x27;, &#x27;var9&#x27;, &#x27;var10&#x27;, &#x27;var11&#x27;, &#x27;var12&#x27;,\n",
       "                                  &#x27;var13&#x27;, &#x27;var14&#x27;, &#x27;var15&#x27;, &#x27;var16&#x27;, &#x27;var17&#x27;,\n",
       "                                  &#x27;var18&#x27;, &#x27;var19&#x27;, &#x27;var20&#x27;, &#x27;var21&#x27;, &#x27;var22&#x27;,\n",
       "                                  &#x27;var23&#x27;, &#x27;var24&#x27;, &#x27;var25&#x27;, &#x27;var26&#x27;, &#x27;var27&#x27;,\n",
       "                                  &#x27;var28&#x27;, &#x27;var29&#x27;, &#x27;var30&#x27;, &#x27;var31&#x27;, &#x27;var32&#x27;, ...]),\n",
       "                                (&#x27;cat&#x27;, OneHotEncoder(),\n",
       "                                 [&#x27;var0&#x27;, &#x27;var1&#x27;, &#x27;var2&#x27;])])</pre></div></div></div><div class=\"sk-parallel\"><div class=\"sk-parallel-item\"><div class=\"sk-item\"><div class=\"sk-label-container\"><div class=\"sk-label sk-toggleable\"><input class=\"sk-toggleable__control sk-hidden--visually\" id=\"sk-estimator-id-11\" type=\"checkbox\" ><label for=\"sk-estimator-id-11\" class=\"sk-toggleable__label sk-toggleable__label-arrow\">num</label><div class=\"sk-toggleable__content\"><pre>[&#x27;var3&#x27;, &#x27;var4&#x27;, &#x27;var5&#x27;, &#x27;var6&#x27;, &#x27;var7&#x27;, &#x27;var8&#x27;, &#x27;var9&#x27;, &#x27;var10&#x27;, &#x27;var11&#x27;, &#x27;var12&#x27;, &#x27;var13&#x27;, &#x27;var14&#x27;, &#x27;var15&#x27;, &#x27;var16&#x27;, &#x27;var17&#x27;, &#x27;var18&#x27;, &#x27;var19&#x27;, &#x27;var20&#x27;, &#x27;var21&#x27;, &#x27;var22&#x27;, &#x27;var23&#x27;, &#x27;var24&#x27;, &#x27;var25&#x27;, &#x27;var26&#x27;, &#x27;var27&#x27;, &#x27;var28&#x27;, &#x27;var29&#x27;, &#x27;var30&#x27;, &#x27;var31&#x27;, &#x27;var32&#x27;, &#x27;var33&#x27;, &#x27;var34&#x27;, &#x27;var35&#x27;, &#x27;var36&#x27;, &#x27;var37&#x27;, &#x27;var38&#x27;, &#x27;var39&#x27;, &#x27;var40&#x27;, &#x27;var41&#x27;, &#x27;var42&#x27;, &#x27;var43&#x27;, &#x27;var44&#x27;, &#x27;var45&#x27;, &#x27;var46&#x27;, &#x27;var47&#x27;, &#x27;var48&#x27;, &#x27;var49&#x27;]</pre></div></div></div><div class=\"sk-serial\"><div class=\"sk-item\"><div class=\"sk-estimator sk-toggleable\"><input class=\"sk-toggleable__control sk-hidden--visually\" id=\"sk-estimator-id-12\" type=\"checkbox\" ><label for=\"sk-estimator-id-12\" class=\"sk-toggleable__label sk-toggleable__label-arrow\">StandardScaler</label><div class=\"sk-toggleable__content\"><pre>StandardScaler()</pre></div></div></div></div></div></div><div class=\"sk-parallel-item\"><div class=\"sk-item\"><div class=\"sk-label-container\"><div class=\"sk-label sk-toggleable\"><input class=\"sk-toggleable__control sk-hidden--visually\" id=\"sk-estimator-id-13\" type=\"checkbox\" ><label for=\"sk-estimator-id-13\" class=\"sk-toggleable__label sk-toggleable__label-arrow\">cat</label><div class=\"sk-toggleable__content\"><pre>[&#x27;var0&#x27;, &#x27;var1&#x27;, &#x27;var2&#x27;]</pre></div></div></div><div class=\"sk-serial\"><div class=\"sk-item\"><div class=\"sk-estimator sk-toggleable\"><input class=\"sk-toggleable__control sk-hidden--visually\" id=\"sk-estimator-id-14\" type=\"checkbox\" ><label for=\"sk-estimator-id-14\" class=\"sk-toggleable__label sk-toggleable__label-arrow\">OneHotEncoder</label><div class=\"sk-toggleable__content\"><pre>OneHotEncoder()</pre></div></div></div></div></div></div></div></div><div class=\"sk-item\"><div class=\"sk-estimator sk-toggleable\"><input class=\"sk-toggleable__control sk-hidden--visually\" id=\"sk-estimator-id-15\" type=\"checkbox\" ><label for=\"sk-estimator-id-15\" class=\"sk-toggleable__label sk-toggleable__label-arrow\">LogisticRegression</label><div class=\"sk-toggleable__content\"><pre>LogisticRegression()</pre></div></div></div></div></div></div></div></div></div></div></div></div>"
      ],
      "text/plain": [
       "GridSearchCV(cv=5,\n",
       "             estimator=Pipeline(steps=[('preprocessor',\n",
       "                                        ColumnTransformer(transformers=[('num',\n",
       "                                                                         StandardScaler(),\n",
       "                                                                         ['var3',\n",
       "                                                                          'var4',\n",
       "                                                                          'var5',\n",
       "                                                                          'var6',\n",
       "                                                                          'var7',\n",
       "                                                                          'var8',\n",
       "                                                                          'var9',\n",
       "                                                                          'var10',\n",
       "                                                                          'var11',\n",
       "                                                                          'var12',\n",
       "                                                                          'var13',\n",
       "                                                                          'var14',\n",
       "                                                                          'var15',\n",
       "                                                                          'var16',\n",
       "                                                                          'var17',\n",
       "                                                                          'var18',\n",
       "                                                                          'var19',\n",
       "                                                                          'var20',\n",
       "                                                                          'var21',\n",
       "                                                                          'var22',\n",
       "                                                                          'var23',\n",
       "                                                                          'var24',\n",
       "                                                                          'var25',\n",
       "                                                                          'var26',\n",
       "                                                                          'var27',\n",
       "                                                                          'var28',\n",
       "                                                                          'var29',\n",
       "                                                                          'var30',\n",
       "                                                                          'var31',\n",
       "                                                                          'var32', ...]),\n",
       "                                                                        ('cat',\n",
       "                                                                         OneHotEncoder(),\n",
       "                                                                         ['var0',\n",
       "                                                                          'var1',\n",
       "                                                                          'var2'])])),\n",
       "                                       ('lr_classifier',\n",
       "                                        LogisticRegression())]),\n",
       "             n_jobs=-1,\n",
       "             param_grid={'lr_classifier__C': [0.001, 0.01, 0.1, 1, 10],\n",
       "                         'lr_classifier__penalty': ['l1', 'l2'],\n",
       "                         'lr_classifier__solver': ['liblinear', 'lbfgs']},\n",
       "             scoring='accuracy')"
      ]
     },
     "execution_count": 37,
     "metadata": {},
     "output_type": "execute_result"
    }
   ],
   "source": [
    "from sklearn.model_selection import GridSearchCV\n",
    "from sklearn.metrics import classification_report\n",
    "\n",
    "lr_pipeline = Pipeline([\n",
    "    ('preprocessor', preprocessor),\n",
    "    ('lr_classifier', LogisticRegression())\n",
    "])\n",
    "\n",
    "# Initialize the grid parameters of logistic regression\n",
    "param_grid = {\n",
    "    'lr_classifier__C': [0.001, 0.01, 0.1, 1, 10],  # Strength of regularization\n",
    "    'lr_classifier__penalty': ['l1', 'l2'],  # Type of regularization\n",
    "    'lr_classifier__solver': ['liblinear', 'lbfgs']  # Optimization of solver \n",
    "}\n",
    "\n",
    "# Create a GridSearchCV for cross validation\n",
    "grid_search_lr = GridSearchCV(lr_pipeline, param_grid, cv=5, scoring='accuracy', n_jobs=-1) # for parallel processing\n",
    "\n",
    "# Perform hyperparameter tuning\n",
    "grid_search_lr.fit(X_train, y_train)"
   ]
  },
  {
   "cell_type": "code",
   "execution_count": 38,
   "metadata": {},
   "outputs": [
    {
     "data": {
      "text/plain": [
       "array([0., 1., 1., ..., 0., 1., 1.])"
      ]
     },
     "execution_count": 38,
     "metadata": {},
     "output_type": "execute_result"
    }
   ],
   "source": [
    "y_trainp = grid_search_lr.predict(X_train)\n",
    "y_trainp"
   ]
  },
  {
   "cell_type": "code",
   "execution_count": 39,
   "metadata": {},
   "outputs": [
    {
     "name": "stdout",
     "output_type": "stream",
     "text": [
      "[[1602    3]\n",
      " [ 176 1419]]\n"
     ]
    }
   ],
   "source": [
    "print(confusion_matrix(y_train, y_trainp))"
   ]
  },
  {
   "cell_type": "code",
   "execution_count": 40,
   "metadata": {},
   "outputs": [
    {
     "name": "stdout",
     "output_type": "stream",
     "text": [
      "              precision    recall  f1-score   support\n",
      "\n",
      "         0.0       0.90      1.00      0.95      1605\n",
      "         1.0       1.00      0.89      0.94      1595\n",
      "\n",
      "    accuracy                           0.94      3200\n",
      "   macro avg       0.95      0.94      0.94      3200\n",
      "weighted avg       0.95      0.94      0.94      3200\n",
      "\n"
     ]
    }
   ],
   "source": [
    "print(classification_report(y_train, y_trainp))"
   ]
  },
  {
   "cell_type": "code",
   "execution_count": 41,
   "metadata": {},
   "outputs": [],
   "source": [
    "y_testp = grid_search_lr.predict(X_test)"
   ]
  },
  {
   "cell_type": "code",
   "execution_count": 42,
   "metadata": {},
   "outputs": [
    {
     "name": "stdout",
     "output_type": "stream",
     "text": [
      "[[392   2]\n",
      " [ 54 352]]\n"
     ]
    }
   ],
   "source": [
    "print(confusion_matrix(y_test, y_testp))"
   ]
  },
  {
   "cell_type": "code",
   "execution_count": 43,
   "metadata": {},
   "outputs": [
    {
     "name": "stdout",
     "output_type": "stream",
     "text": [
      "              precision    recall  f1-score   support\n",
      "\n",
      "         0.0       0.88      0.99      0.93       394\n",
      "         1.0       0.99      0.87      0.93       406\n",
      "\n",
      "    accuracy                           0.93       800\n",
      "   macro avg       0.94      0.93      0.93       800\n",
      "weighted avg       0.94      0.93      0.93       800\n",
      "\n"
     ]
    }
   ],
   "source": [
    "print(classification_report(y_test, y_testp))"
   ]
  },
  {
   "cell_type": "code",
   "execution_count": 44,
   "metadata": {},
   "outputs": [
    {
     "name": "stdout",
     "output_type": "stream",
     "text": [
      "Accuracy of logistic regression of training dataset is:  94.40625\n"
     ]
    }
   ],
   "source": [
    "from sklearn.metrics import accuracy_score\n",
    "\n",
    "log_train_accuracy_p = accuracy_score(y_train,y_trainp)\n",
    "\n",
    "print(\"Accuracy of logistic regression of training dataset is: \",log_train_accuracy_p*100)"
   ]
  },
  {
   "cell_type": "code",
   "execution_count": 45,
   "metadata": {},
   "outputs": [
    {
     "name": "stdout",
     "output_type": "stream",
     "text": [
      "Accuracy of logistic regression of testing dataset is:  93.0\n"
     ]
    }
   ],
   "source": [
    "from sklearn.metrics import accuracy_score\n",
    "\n",
    "log_test_accuracy_p = accuracy_score(y_test,y_testp)\n",
    "\n",
    "print(\"Accuracy of logistic regression of testing dataset is: \",log_test_accuracy_p*100)"
   ]
  },
  {
   "cell_type": "code",
   "execution_count": 46,
   "metadata": {},
   "outputs": [
    {
     "name": "stdout",
     "output_type": "stream",
     "text": [
      "Precision of logistic regression of training dataset is:  99.78902953586498\n"
     ]
    }
   ],
   "source": [
    "from sklearn.metrics import precision_score\n",
    "\n",
    "log_train_precision_p = precision_score(y_train,y_trainp)\n",
    "\n",
    "print(\"Precision of logistic regression of training dataset is: \",log_train_precision_p*100)"
   ]
  },
  {
   "cell_type": "code",
   "execution_count": 47,
   "metadata": {},
   "outputs": [
    {
     "name": "stdout",
     "output_type": "stream",
     "text": [
      "Precision of logistic regression of testing dataset is:  99.43502824858757\n"
     ]
    }
   ],
   "source": [
    "from sklearn.metrics import precision_score\n",
    "\n",
    "log_test_precision_p = precision_score(y_test,y_testp)\n",
    "\n",
    "print(\"Precision of logistic regression of testing dataset is: \",log_test_precision_p*100)"
   ]
  },
  {
   "cell_type": "code",
   "execution_count": 48,
   "metadata": {},
   "outputs": [
    {
     "name": "stdout",
     "output_type": "stream",
     "text": [
      "Recall of logistic regression of training dataset is:  88.96551724137932\n"
     ]
    }
   ],
   "source": [
    "from sklearn.metrics import recall_score\n",
    "\n",
    "log_train_recall_p = recall_score(y_train,y_trainp)\n",
    "\n",
    "print(\"Recall of logistic regression of training dataset is: \",log_train_recall_p*100)"
   ]
  },
  {
   "cell_type": "code",
   "execution_count": 49,
   "metadata": {},
   "outputs": [
    {
     "name": "stdout",
     "output_type": "stream",
     "text": [
      "Recall of logistic regression of testing dataset is:  86.69950738916256\n"
     ]
    }
   ],
   "source": [
    "from sklearn.metrics import recall_score\n",
    "\n",
    "log_test_recall_p = recall_score(y_test,y_testp)\n",
    "\n",
    "print(\"Recall of logistic regression of testing dataset is: \",log_test_recall_p*100)"
   ]
  },
  {
   "cell_type": "code",
   "execution_count": null,
   "metadata": {},
   "outputs": [],
   "source": []
  },
  {
   "cell_type": "markdown",
   "metadata": {},
   "source": [
    "**Insert conclusions**\n",
    "\n",
    "**In the above cells, I have done the following:-**\n",
    "\n",
    "- I have done the preprocessor pipeline.\n",
    "- I have implemented the logistic regression in the pipeline.\n",
    "- I have plotted the ROC_AUC curve and found that the training and testing line are close to each other, which means that the model performs well on unseen data.\n",
    "- Accuracy of training data and testing data is 94 and 92.5 respectively.\n",
    "- Precision of training data and testing data is 99.5 and 98.8 respectively.\n",
    "- Recall of training data and testing data is 88.4 and 86.2 respectively.\n",
    "- Cross validation scores are 92, 93 and 95 respectively.\n",
    "\n",
    "**Implemented Grid Search**\n",
    "- Accuracy of training and testing data is 94.4 and 93 respectively.\n",
    "- Precision of training and testing data is 99.7 and 99.4 respectively.\n",
    "- Recall of training and testing data is 88.9 and 86.6 respectively.\n",
    "\n",
    "**I can say that this model performs well on this data because there is neither overfitting nor underfitting.**"
   ]
  },
  {
   "cell_type": "markdown",
   "metadata": {},
   "source": [
    "# Question 3\n",
    "- Using `X_train` and `y_train`, create a logistic regression model, that includes a pipeline step that uses PCA.  \n",
    "- Perform a grid search on various number of components and regularization strengths using best practices.\n",
    "- Provide a ROC chart and provide accuracy, precision, and recall.  \n",
    "- What is your opinion of the model's performance?"
   ]
  },
  {
   "cell_type": "code",
   "execution_count": 50,
   "metadata": {},
   "outputs": [],
   "source": [
    "# Insert code"
   ]
  },
  {
   "cell_type": "markdown",
   "metadata": {},
   "source": [
    "### Creating pipeline step that creates logistic regression using PCA"
   ]
  },
  {
   "cell_type": "code",
   "execution_count": 51,
   "metadata": {},
   "outputs": [
    {
     "data": {
      "text/html": [
       "<style>#sk-container-id-3 {color: black;background-color: white;}#sk-container-id-3 pre{padding: 0;}#sk-container-id-3 div.sk-toggleable {background-color: white;}#sk-container-id-3 label.sk-toggleable__label {cursor: pointer;display: block;width: 100%;margin-bottom: 0;padding: 0.3em;box-sizing: border-box;text-align: center;}#sk-container-id-3 label.sk-toggleable__label-arrow:before {content: \"▸\";float: left;margin-right: 0.25em;color: #696969;}#sk-container-id-3 label.sk-toggleable__label-arrow:hover:before {color: black;}#sk-container-id-3 div.sk-estimator:hover label.sk-toggleable__label-arrow:before {color: black;}#sk-container-id-3 div.sk-toggleable__content {max-height: 0;max-width: 0;overflow: hidden;text-align: left;background-color: #f0f8ff;}#sk-container-id-3 div.sk-toggleable__content pre {margin: 0.2em;color: black;border-radius: 0.25em;background-color: #f0f8ff;}#sk-container-id-3 input.sk-toggleable__control:checked~div.sk-toggleable__content {max-height: 200px;max-width: 100%;overflow: auto;}#sk-container-id-3 input.sk-toggleable__control:checked~label.sk-toggleable__label-arrow:before {content: \"▾\";}#sk-container-id-3 div.sk-estimator input.sk-toggleable__control:checked~label.sk-toggleable__label {background-color: #d4ebff;}#sk-container-id-3 div.sk-label input.sk-toggleable__control:checked~label.sk-toggleable__label {background-color: #d4ebff;}#sk-container-id-3 input.sk-hidden--visually {border: 0;clip: rect(1px 1px 1px 1px);clip: rect(1px, 1px, 1px, 1px);height: 1px;margin: -1px;overflow: hidden;padding: 0;position: absolute;width: 1px;}#sk-container-id-3 div.sk-estimator {font-family: monospace;background-color: #f0f8ff;border: 1px dotted black;border-radius: 0.25em;box-sizing: border-box;margin-bottom: 0.5em;}#sk-container-id-3 div.sk-estimator:hover {background-color: #d4ebff;}#sk-container-id-3 div.sk-parallel-item::after {content: \"\";width: 100%;border-bottom: 1px solid gray;flex-grow: 1;}#sk-container-id-3 div.sk-label:hover label.sk-toggleable__label {background-color: #d4ebff;}#sk-container-id-3 div.sk-serial::before {content: \"\";position: absolute;border-left: 1px solid gray;box-sizing: border-box;top: 0;bottom: 0;left: 50%;z-index: 0;}#sk-container-id-3 div.sk-serial {display: flex;flex-direction: column;align-items: center;background-color: white;padding-right: 0.2em;padding-left: 0.2em;position: relative;}#sk-container-id-3 div.sk-item {position: relative;z-index: 1;}#sk-container-id-3 div.sk-parallel {display: flex;align-items: stretch;justify-content: center;background-color: white;position: relative;}#sk-container-id-3 div.sk-item::before, #sk-container-id-3 div.sk-parallel-item::before {content: \"\";position: absolute;border-left: 1px solid gray;box-sizing: border-box;top: 0;bottom: 0;left: 50%;z-index: -1;}#sk-container-id-3 div.sk-parallel-item {display: flex;flex-direction: column;z-index: 1;position: relative;background-color: white;}#sk-container-id-3 div.sk-parallel-item:first-child::after {align-self: flex-end;width: 50%;}#sk-container-id-3 div.sk-parallel-item:last-child::after {align-self: flex-start;width: 50%;}#sk-container-id-3 div.sk-parallel-item:only-child::after {width: 0;}#sk-container-id-3 div.sk-dashed-wrapped {border: 1px dashed gray;margin: 0 0.4em 0.5em 0.4em;box-sizing: border-box;padding-bottom: 0.4em;background-color: white;}#sk-container-id-3 div.sk-label label {font-family: monospace;font-weight: bold;display: inline-block;line-height: 1.2em;}#sk-container-id-3 div.sk-label-container {text-align: center;}#sk-container-id-3 div.sk-container {/* jupyter's `normalize.less` sets `[hidden] { display: none; }` but bootstrap.min.css set `[hidden] { display: none !important; }` so we also need the `!important` here to be able to override the default hidden behavior on the sphinx rendered scikit-learn.org. See: https://github.com/scikit-learn/scikit-learn/issues/21755 */display: inline-block !important;position: relative;}#sk-container-id-3 div.sk-text-repr-fallback {display: none;}</style><div id=\"sk-container-id-3\" class=\"sk-top-container\"><div class=\"sk-text-repr-fallback\"><pre>Pipeline(steps=[(&#x27;preprocessor&#x27;,\n",
       "                 ColumnTransformer(transformers=[(&#x27;num&#x27;, StandardScaler(),\n",
       "                                                  [&#x27;var3&#x27;, &#x27;var4&#x27;, &#x27;var5&#x27;,\n",
       "                                                   &#x27;var6&#x27;, &#x27;var7&#x27;, &#x27;var8&#x27;,\n",
       "                                                   &#x27;var9&#x27;, &#x27;var10&#x27;, &#x27;var11&#x27;,\n",
       "                                                   &#x27;var12&#x27;, &#x27;var13&#x27;, &#x27;var14&#x27;,\n",
       "                                                   &#x27;var15&#x27;, &#x27;var16&#x27;, &#x27;var17&#x27;,\n",
       "                                                   &#x27;var18&#x27;, &#x27;var19&#x27;, &#x27;var20&#x27;,\n",
       "                                                   &#x27;var21&#x27;, &#x27;var22&#x27;, &#x27;var23&#x27;,\n",
       "                                                   &#x27;var24&#x27;, &#x27;var25&#x27;, &#x27;var26&#x27;,\n",
       "                                                   &#x27;var27&#x27;, &#x27;var28&#x27;, &#x27;var29&#x27;,\n",
       "                                                   &#x27;var30&#x27;, &#x27;var31&#x27;, &#x27;var32&#x27;, ...]),\n",
       "                                                 (&#x27;cat&#x27;, OneHotEncoder(),\n",
       "                                                  [&#x27;var0&#x27;, &#x27;var1&#x27;, &#x27;var2&#x27;])])),\n",
       "                (&#x27;pca&#x27;, PCA(n_components=5)),\n",
       "                (&#x27;model&#x27;, LogisticRegression(C=1))])</pre><b>In a Jupyter environment, please rerun this cell to show the HTML representation or trust the notebook. <br />On GitHub, the HTML representation is unable to render, please try loading this page with nbviewer.org.</b></div><div class=\"sk-container\" hidden><div class=\"sk-item sk-dashed-wrapped\"><div class=\"sk-label-container\"><div class=\"sk-label sk-toggleable\"><input class=\"sk-toggleable__control sk-hidden--visually\" id=\"sk-estimator-id-16\" type=\"checkbox\" ><label for=\"sk-estimator-id-16\" class=\"sk-toggleable__label sk-toggleable__label-arrow\">Pipeline</label><div class=\"sk-toggleable__content\"><pre>Pipeline(steps=[(&#x27;preprocessor&#x27;,\n",
       "                 ColumnTransformer(transformers=[(&#x27;num&#x27;, StandardScaler(),\n",
       "                                                  [&#x27;var3&#x27;, &#x27;var4&#x27;, &#x27;var5&#x27;,\n",
       "                                                   &#x27;var6&#x27;, &#x27;var7&#x27;, &#x27;var8&#x27;,\n",
       "                                                   &#x27;var9&#x27;, &#x27;var10&#x27;, &#x27;var11&#x27;,\n",
       "                                                   &#x27;var12&#x27;, &#x27;var13&#x27;, &#x27;var14&#x27;,\n",
       "                                                   &#x27;var15&#x27;, &#x27;var16&#x27;, &#x27;var17&#x27;,\n",
       "                                                   &#x27;var18&#x27;, &#x27;var19&#x27;, &#x27;var20&#x27;,\n",
       "                                                   &#x27;var21&#x27;, &#x27;var22&#x27;, &#x27;var23&#x27;,\n",
       "                                                   &#x27;var24&#x27;, &#x27;var25&#x27;, &#x27;var26&#x27;,\n",
       "                                                   &#x27;var27&#x27;, &#x27;var28&#x27;, &#x27;var29&#x27;,\n",
       "                                                   &#x27;var30&#x27;, &#x27;var31&#x27;, &#x27;var32&#x27;, ...]),\n",
       "                                                 (&#x27;cat&#x27;, OneHotEncoder(),\n",
       "                                                  [&#x27;var0&#x27;, &#x27;var1&#x27;, &#x27;var2&#x27;])])),\n",
       "                (&#x27;pca&#x27;, PCA(n_components=5)),\n",
       "                (&#x27;model&#x27;, LogisticRegression(C=1))])</pre></div></div></div><div class=\"sk-serial\"><div class=\"sk-item sk-dashed-wrapped\"><div class=\"sk-label-container\"><div class=\"sk-label sk-toggleable\"><input class=\"sk-toggleable__control sk-hidden--visually\" id=\"sk-estimator-id-17\" type=\"checkbox\" ><label for=\"sk-estimator-id-17\" class=\"sk-toggleable__label sk-toggleable__label-arrow\">preprocessor: ColumnTransformer</label><div class=\"sk-toggleable__content\"><pre>ColumnTransformer(transformers=[(&#x27;num&#x27;, StandardScaler(),\n",
       "                                 [&#x27;var3&#x27;, &#x27;var4&#x27;, &#x27;var5&#x27;, &#x27;var6&#x27;, &#x27;var7&#x27;,\n",
       "                                  &#x27;var8&#x27;, &#x27;var9&#x27;, &#x27;var10&#x27;, &#x27;var11&#x27;, &#x27;var12&#x27;,\n",
       "                                  &#x27;var13&#x27;, &#x27;var14&#x27;, &#x27;var15&#x27;, &#x27;var16&#x27;, &#x27;var17&#x27;,\n",
       "                                  &#x27;var18&#x27;, &#x27;var19&#x27;, &#x27;var20&#x27;, &#x27;var21&#x27;, &#x27;var22&#x27;,\n",
       "                                  &#x27;var23&#x27;, &#x27;var24&#x27;, &#x27;var25&#x27;, &#x27;var26&#x27;, &#x27;var27&#x27;,\n",
       "                                  &#x27;var28&#x27;, &#x27;var29&#x27;, &#x27;var30&#x27;, &#x27;var31&#x27;, &#x27;var32&#x27;, ...]),\n",
       "                                (&#x27;cat&#x27;, OneHotEncoder(),\n",
       "                                 [&#x27;var0&#x27;, &#x27;var1&#x27;, &#x27;var2&#x27;])])</pre></div></div></div><div class=\"sk-parallel\"><div class=\"sk-parallel-item\"><div class=\"sk-item\"><div class=\"sk-label-container\"><div class=\"sk-label sk-toggleable\"><input class=\"sk-toggleable__control sk-hidden--visually\" id=\"sk-estimator-id-18\" type=\"checkbox\" ><label for=\"sk-estimator-id-18\" class=\"sk-toggleable__label sk-toggleable__label-arrow\">num</label><div class=\"sk-toggleable__content\"><pre>[&#x27;var3&#x27;, &#x27;var4&#x27;, &#x27;var5&#x27;, &#x27;var6&#x27;, &#x27;var7&#x27;, &#x27;var8&#x27;, &#x27;var9&#x27;, &#x27;var10&#x27;, &#x27;var11&#x27;, &#x27;var12&#x27;, &#x27;var13&#x27;, &#x27;var14&#x27;, &#x27;var15&#x27;, &#x27;var16&#x27;, &#x27;var17&#x27;, &#x27;var18&#x27;, &#x27;var19&#x27;, &#x27;var20&#x27;, &#x27;var21&#x27;, &#x27;var22&#x27;, &#x27;var23&#x27;, &#x27;var24&#x27;, &#x27;var25&#x27;, &#x27;var26&#x27;, &#x27;var27&#x27;, &#x27;var28&#x27;, &#x27;var29&#x27;, &#x27;var30&#x27;, &#x27;var31&#x27;, &#x27;var32&#x27;, &#x27;var33&#x27;, &#x27;var34&#x27;, &#x27;var35&#x27;, &#x27;var36&#x27;, &#x27;var37&#x27;, &#x27;var38&#x27;, &#x27;var39&#x27;, &#x27;var40&#x27;, &#x27;var41&#x27;, &#x27;var42&#x27;, &#x27;var43&#x27;, &#x27;var44&#x27;, &#x27;var45&#x27;, &#x27;var46&#x27;, &#x27;var47&#x27;, &#x27;var48&#x27;, &#x27;var49&#x27;]</pre></div></div></div><div class=\"sk-serial\"><div class=\"sk-item\"><div class=\"sk-estimator sk-toggleable\"><input class=\"sk-toggleable__control sk-hidden--visually\" id=\"sk-estimator-id-19\" type=\"checkbox\" ><label for=\"sk-estimator-id-19\" class=\"sk-toggleable__label sk-toggleable__label-arrow\">StandardScaler</label><div class=\"sk-toggleable__content\"><pre>StandardScaler()</pre></div></div></div></div></div></div><div class=\"sk-parallel-item\"><div class=\"sk-item\"><div class=\"sk-label-container\"><div class=\"sk-label sk-toggleable\"><input class=\"sk-toggleable__control sk-hidden--visually\" id=\"sk-estimator-id-20\" type=\"checkbox\" ><label for=\"sk-estimator-id-20\" class=\"sk-toggleable__label sk-toggleable__label-arrow\">cat</label><div class=\"sk-toggleable__content\"><pre>[&#x27;var0&#x27;, &#x27;var1&#x27;, &#x27;var2&#x27;]</pre></div></div></div><div class=\"sk-serial\"><div class=\"sk-item\"><div class=\"sk-estimator sk-toggleable\"><input class=\"sk-toggleable__control sk-hidden--visually\" id=\"sk-estimator-id-21\" type=\"checkbox\" ><label for=\"sk-estimator-id-21\" class=\"sk-toggleable__label sk-toggleable__label-arrow\">OneHotEncoder</label><div class=\"sk-toggleable__content\"><pre>OneHotEncoder()</pre></div></div></div></div></div></div></div></div><div class=\"sk-item\"><div class=\"sk-estimator sk-toggleable\"><input class=\"sk-toggleable__control sk-hidden--visually\" id=\"sk-estimator-id-22\" type=\"checkbox\" ><label for=\"sk-estimator-id-22\" class=\"sk-toggleable__label sk-toggleable__label-arrow\">PCA</label><div class=\"sk-toggleable__content\"><pre>PCA(n_components=5)</pre></div></div></div><div class=\"sk-item\"><div class=\"sk-estimator sk-toggleable\"><input class=\"sk-toggleable__control sk-hidden--visually\" id=\"sk-estimator-id-23\" type=\"checkbox\" ><label for=\"sk-estimator-id-23\" class=\"sk-toggleable__label sk-toggleable__label-arrow\">LogisticRegression</label><div class=\"sk-toggleable__content\"><pre>LogisticRegression(C=1)</pre></div></div></div></div></div></div></div>"
      ],
      "text/plain": [
       "Pipeline(steps=[('preprocessor',\n",
       "                 ColumnTransformer(transformers=[('num', StandardScaler(),\n",
       "                                                  ['var3', 'var4', 'var5',\n",
       "                                                   'var6', 'var7', 'var8',\n",
       "                                                   'var9', 'var10', 'var11',\n",
       "                                                   'var12', 'var13', 'var14',\n",
       "                                                   'var15', 'var16', 'var17',\n",
       "                                                   'var18', 'var19', 'var20',\n",
       "                                                   'var21', 'var22', 'var23',\n",
       "                                                   'var24', 'var25', 'var26',\n",
       "                                                   'var27', 'var28', 'var29',\n",
       "                                                   'var30', 'var31', 'var32', ...]),\n",
       "                                                 ('cat', OneHotEncoder(),\n",
       "                                                  ['var0', 'var1', 'var2'])])),\n",
       "                ('pca', PCA(n_components=5)),\n",
       "                ('model', LogisticRegression(C=1))])"
      ]
     },
     "execution_count": 51,
     "metadata": {},
     "output_type": "execute_result"
    }
   ],
   "source": [
    "p = Pipeline([('preprocessor', preprocessor), \n",
    "              ('pca', PCA()),\n",
    "              ('model', LogisticRegression())\n",
    "             ])\n",
    "\n",
    "params = {'model__C': [0.01, 0.1, 1, 10], 'pca__n_components': [1, 2, 3, 4, 5, 6, 7, 8, 9, 10]}\n",
    "\n",
    "df_search = GridSearchCV(p, param_grid=params, scoring='accuracy', cv=10, refit=True)\n",
    "df_search = df_search.fit(X_train, y_train)\n",
    "\n",
    "df_search.best_estimator_"
   ]
  },
  {
   "cell_type": "code",
   "execution_count": 52,
   "metadata": {},
   "outputs": [
    {
     "data": {
      "text/plain": [
       "array([0., 1., 1., ..., 0., 1., 1.])"
      ]
     },
     "execution_count": 52,
     "metadata": {},
     "output_type": "execute_result"
    }
   ],
   "source": [
    "y_train_predictions = df_search.predict(X_train)\n",
    "y_train_predictions"
   ]
  },
  {
   "cell_type": "code",
   "execution_count": 53,
   "metadata": {},
   "outputs": [],
   "source": [
    "y_test_predictions = df_search.predict(X_test)"
   ]
  },
  {
   "cell_type": "code",
   "execution_count": 54,
   "metadata": {},
   "outputs": [
    {
     "data": {
      "image/png": "[encoded data removed]",
      "text/plain": [
       "<Figure size 432x288 with 1 Axes>"
      ]
     },
     "metadata": {
      "needs_background": "light"
     },
     "output_type": "display_data"
    }
   ],
   "source": [
    "from sklearn.metrics import roc_curve\n",
    "\n",
    "def generate_probs(X, model= df_search):\n",
    "    return model.predict_proba(X)[:, 1]\n",
    "\n",
    "def generate_roc(y, probs):\n",
    "    fpr, tpr, _ = roc_curve(y, probs, pos_label= 1)\n",
    "    return fpr, tpr\n",
    "    \n",
    "fpr_test, tpr_test = generate_roc(y_test, generate_probs(X_test))\n",
    "fpr_train, tpr_train = generate_roc(y_train, generate_probs(X_train))\n",
    "\n",
    "plt.plot(fpr_test, tpr_test,'-r')\n",
    "plt.plot(fpr_train, tpr_train,'-b')\n",
    "plt.xlabel('False Positive Rate')\n",
    "plt.ylabel('True Positive Rate')\n",
    "plt.legend(['Test','Training'])\n",
    "plt.plot([0, 1], [0, 1], color='navy', linestyle='--')\n",
    "plt.show()"
   ]
  },
  {
   "cell_type": "code",
   "execution_count": 55,
   "metadata": {},
   "outputs": [
    {
     "name": "stdout",
     "output_type": "stream",
     "text": [
      "Accuracy of logistic regression of training dataset is:  94.90625\n"
     ]
    }
   ],
   "source": [
    "from sklearn.metrics import accuracy_score\n",
    "\n",
    "log_train_accuracy_g = accuracy_score(y_train,y_train_predictions)\n",
    "\n",
    "print(\"Accuracy of logistic regression of training dataset is: \",log_train_accuracy_g*100)"
   ]
  },
  {
   "cell_type": "code",
   "execution_count": 56,
   "metadata": {},
   "outputs": [
    {
     "name": "stdout",
     "output_type": "stream",
     "text": [
      "Accuracy of logistic regression of testing dataset is:  93.0\n"
     ]
    }
   ],
   "source": [
    "from sklearn.metrics import accuracy_score\n",
    "\n",
    "log_test_accuracy_g = accuracy_score(y_test,y_test_predictions)\n",
    "\n",
    "print(\"Accuracy of logistic regression of testing dataset is: \",log_test_accuracy_g*100)"
   ]
  },
  {
   "cell_type": "code",
   "execution_count": 57,
   "metadata": {},
   "outputs": [
    {
     "name": "stdout",
     "output_type": "stream",
     "text": [
      "Precision of logistic regression of training dataset is:  99.79137691237831\n"
     ]
    }
   ],
   "source": [
    "from sklearn.metrics import precision_score\n",
    "\n",
    "log_train_precision_g = precision_score(y_train,y_train_predictions)\n",
    "\n",
    "print(\"Precision of logistic regression of training dataset is: \",log_train_precision_g*100)"
   ]
  },
  {
   "cell_type": "code",
   "execution_count": 58,
   "metadata": {},
   "outputs": [
    {
     "name": "stdout",
     "output_type": "stream",
     "text": [
      "Precision of logistic regression of testing dataset is:  99.15730337078652\n"
     ]
    }
   ],
   "source": [
    "from sklearn.metrics import precision_score\n",
    "\n",
    "log_test_precision_g = precision_score(y_test,y_test_predictions)\n",
    "\n",
    "print(\"Precision of logistic regression of testing dataset is: \",log_test_precision_g*100)"
   ]
  },
  {
   "cell_type": "code",
   "execution_count": 59,
   "metadata": {},
   "outputs": [
    {
     "name": "stdout",
     "output_type": "stream",
     "text": [
      "Recall of logistic regression of training dataset is:  89.96865203761756\n"
     ]
    }
   ],
   "source": [
    "from sklearn.metrics import recall_score\n",
    "\n",
    "log_train_recall_g = recall_score(y_train,y_train_predictions)\n",
    "\n",
    "print(\"Recall of logistic regression of training dataset is: \",log_train_recall_g*100)"
   ]
  },
  {
   "cell_type": "code",
   "execution_count": 60,
   "metadata": {},
   "outputs": [
    {
     "name": "stdout",
     "output_type": "stream",
     "text": [
      "Recall of logistic regression of testing dataset is:  86.94581280788178\n"
     ]
    }
   ],
   "source": [
    "from sklearn.metrics import recall_score\n",
    "\n",
    "log_test_recall_g = recall_score(y_test,y_test_predictions)\n",
    "\n",
    "print(\"Recall of logistic regression of testing dataset is: \",log_test_recall_g*100)"
   ]
  },
  {
   "cell_type": "code",
   "execution_count": null,
   "metadata": {},
   "outputs": [],
   "source": []
  },
  {
   "cell_type": "markdown",
   "metadata": {},
   "source": [
    "**Insert conclusions**\n",
    "\n",
    "**In the above cells, I have implemented the following:-**\n",
    "\n",
    "- Created pipeline step that creates logistic regression using PCA.\n",
    "- I have plotted the ROC_AUC curve and found that the training and testing line are close to each other, which means that the model performs well on unseen data.\n",
    "- Accuracy of training data and testing data is 95 and 93 respectively.\n",
    "- Precision of training data and testing data is 99.7 and 99 respectively.\n",
    "- Recall of training data and testing data is 89.7 and 86.9 respectively.\n",
    "\n",
    "**I can say that this model performs well on this data than the above model because it has high accuracy.**"
   ]
  },
  {
   "cell_type": "markdown",
   "metadata": {},
   "source": [
    "# Question 4\n",
    "- Using `X_train` and `y_train`, create a logistic regression model, that includes a pipeline step that uses k-means clustering as a processing step.  \n",
    "- Use grid search and evaluate multiple cluster numbers and regularization strengths using best practices.\n",
    "- Provide a ROC chart and provide accuracy, precision, and recall.  \n",
    "- What is your opinion of the model's performance?"
   ]
  },
  {
   "cell_type": "code",
   "execution_count": 61,
   "metadata": {},
   "outputs": [],
   "source": [
    "# Insert code"
   ]
  },
  {
   "cell_type": "code",
   "execution_count": 62,
   "metadata": {},
   "outputs": [
    {
     "name": "stdout",
     "output_type": "stream",
     "text": [
      "Using k-means preprocesser: 94.12%\n"
     ]
    }
   ],
   "source": [
    "p = Pipeline([('preprocessor', preprocessor),\n",
    "             ('kmeans', KMeans(n_clusters=100, n_init='auto')),\n",
    "             ('logreg', LogisticRegression(solver='liblinear'))])\n",
    "\n",
    "p = p.fit(X_train, y_train)\n",
    "p_score = p.score(X_test, y_test)\n",
    "print(f'Using k-means preprocesser: {p_score:.2%}')"
   ]
  },
  {
   "cell_type": "code",
   "execution_count": 63,
   "metadata": {},
   "outputs": [
    {
     "data": {
      "text/html": [
       "<style>#sk-container-id-4 {color: black;background-color: white;}#sk-container-id-4 pre{padding: 0;}#sk-container-id-4 div.sk-toggleable {background-color: white;}#sk-container-id-4 label.sk-toggleable__label {cursor: pointer;display: block;width: 100%;margin-bottom: 0;padding: 0.3em;box-sizing: border-box;text-align: center;}#sk-container-id-4 label.sk-toggleable__label-arrow:before {content: \"▸\";float: left;margin-right: 0.25em;color: #696969;}#sk-container-id-4 label.sk-toggleable__label-arrow:hover:before {color: black;}#sk-container-id-4 div.sk-estimator:hover label.sk-toggleable__label-arrow:before {color: black;}#sk-container-id-4 div.sk-toggleable__content {max-height: 0;max-width: 0;overflow: hidden;text-align: left;background-color: #f0f8ff;}#sk-container-id-4 div.sk-toggleable__content pre {margin: 0.2em;color: black;border-radius: 0.25em;background-color: #f0f8ff;}#sk-container-id-4 input.sk-toggleable__control:checked~div.sk-toggleable__content {max-height: 200px;max-width: 100%;overflow: auto;}#sk-container-id-4 input.sk-toggleable__control:checked~label.sk-toggleable__label-arrow:before {content: \"▾\";}#sk-container-id-4 div.sk-estimator input.sk-toggleable__control:checked~label.sk-toggleable__label {background-color: #d4ebff;}#sk-container-id-4 div.sk-label input.sk-toggleable__control:checked~label.sk-toggleable__label {background-color: #d4ebff;}#sk-container-id-4 input.sk-hidden--visually {border: 0;clip: rect(1px 1px 1px 1px);clip: rect(1px, 1px, 1px, 1px);height: 1px;margin: -1px;overflow: hidden;padding: 0;position: absolute;width: 1px;}#sk-container-id-4 div.sk-estimator {font-family: monospace;background-color: #f0f8ff;border: 1px dotted black;border-radius: 0.25em;box-sizing: border-box;margin-bottom: 0.5em;}#sk-container-id-4 div.sk-estimator:hover {background-color: #d4ebff;}#sk-container-id-4 div.sk-parallel-item::after {content: \"\";width: 100%;border-bottom: 1px solid gray;flex-grow: 1;}#sk-container-id-4 div.sk-label:hover label.sk-toggleable__label {background-color: #d4ebff;}#sk-container-id-4 div.sk-serial::before {content: \"\";position: absolute;border-left: 1px solid gray;box-sizing: border-box;top: 0;bottom: 0;left: 50%;z-index: 0;}#sk-container-id-4 div.sk-serial {display: flex;flex-direction: column;align-items: center;background-color: white;padding-right: 0.2em;padding-left: 0.2em;position: relative;}#sk-container-id-4 div.sk-item {position: relative;z-index: 1;}#sk-container-id-4 div.sk-parallel {display: flex;align-items: stretch;justify-content: center;background-color: white;position: relative;}#sk-container-id-4 div.sk-item::before, #sk-container-id-4 div.sk-parallel-item::before {content: \"\";position: absolute;border-left: 1px solid gray;box-sizing: border-box;top: 0;bottom: 0;left: 50%;z-index: -1;}#sk-container-id-4 div.sk-parallel-item {display: flex;flex-direction: column;z-index: 1;position: relative;background-color: white;}#sk-container-id-4 div.sk-parallel-item:first-child::after {align-self: flex-end;width: 50%;}#sk-container-id-4 div.sk-parallel-item:last-child::after {align-self: flex-start;width: 50%;}#sk-container-id-4 div.sk-parallel-item:only-child::after {width: 0;}#sk-container-id-4 div.sk-dashed-wrapped {border: 1px dashed gray;margin: 0 0.4em 0.5em 0.4em;box-sizing: border-box;padding-bottom: 0.4em;background-color: white;}#sk-container-id-4 div.sk-label label {font-family: monospace;font-weight: bold;display: inline-block;line-height: 1.2em;}#sk-container-id-4 div.sk-label-container {text-align: center;}#sk-container-id-4 div.sk-container {/* jupyter's `normalize.less` sets `[hidden] { display: none; }` but bootstrap.min.css set `[hidden] { display: none !important; }` so we also need the `!important` here to be able to override the default hidden behavior on the sphinx rendered scikit-learn.org. See: https://github.com/scikit-learn/scikit-learn/issues/21755 */display: inline-block !important;position: relative;}#sk-container-id-4 div.sk-text-repr-fallback {display: none;}</style><div id=\"sk-container-id-4\" class=\"sk-top-container\"><div class=\"sk-text-repr-fallback\"><pre>Pipeline(steps=[(&#x27;preprocessor&#x27;,\n",
       "                 ColumnTransformer(transformers=[(&#x27;num&#x27;, StandardScaler(),\n",
       "                                                  [&#x27;var3&#x27;, &#x27;var4&#x27;, &#x27;var5&#x27;,\n",
       "                                                   &#x27;var6&#x27;, &#x27;var7&#x27;, &#x27;var8&#x27;,\n",
       "                                                   &#x27;var9&#x27;, &#x27;var10&#x27;, &#x27;var11&#x27;,\n",
       "                                                   &#x27;var12&#x27;, &#x27;var13&#x27;, &#x27;var14&#x27;,\n",
       "                                                   &#x27;var15&#x27;, &#x27;var16&#x27;, &#x27;var17&#x27;,\n",
       "                                                   &#x27;var18&#x27;, &#x27;var19&#x27;, &#x27;var20&#x27;,\n",
       "                                                   &#x27;var21&#x27;, &#x27;var22&#x27;, &#x27;var23&#x27;,\n",
       "                                                   &#x27;var24&#x27;, &#x27;var25&#x27;, &#x27;var26&#x27;,\n",
       "                                                   &#x27;var27&#x27;, &#x27;var28&#x27;, &#x27;var29&#x27;,\n",
       "                                                   &#x27;var30&#x27;, &#x27;var31&#x27;, &#x27;var32&#x27;, ...]),\n",
       "                                                 (&#x27;cat&#x27;, OneHotEncoder(),\n",
       "                                                  [&#x27;var0&#x27;, &#x27;var1&#x27;, &#x27;var2&#x27;])])),\n",
       "                (&#x27;kmeans&#x27;, KMeans(n_clusters=5, n_init=&#x27;auto&#x27;)),\n",
       "                (&#x27;logreg&#x27;, LogisticRegression(C=10, solver=&#x27;liblinear&#x27;))])</pre><b>In a Jupyter environment, please rerun this cell to show the HTML representation or trust the notebook. <br />On GitHub, the HTML representation is unable to render, please try loading this page with nbviewer.org.</b></div><div class=\"sk-container\" hidden><div class=\"sk-item sk-dashed-wrapped\"><div class=\"sk-label-container\"><div class=\"sk-label sk-toggleable\"><input class=\"sk-toggleable__control sk-hidden--visually\" id=\"sk-estimator-id-24\" type=\"checkbox\" ><label for=\"sk-estimator-id-24\" class=\"sk-toggleable__label sk-toggleable__label-arrow\">Pipeline</label><div class=\"sk-toggleable__content\"><pre>Pipeline(steps=[(&#x27;preprocessor&#x27;,\n",
       "                 ColumnTransformer(transformers=[(&#x27;num&#x27;, StandardScaler(),\n",
       "                                                  [&#x27;var3&#x27;, &#x27;var4&#x27;, &#x27;var5&#x27;,\n",
       "                                                   &#x27;var6&#x27;, &#x27;var7&#x27;, &#x27;var8&#x27;,\n",
       "                                                   &#x27;var9&#x27;, &#x27;var10&#x27;, &#x27;var11&#x27;,\n",
       "                                                   &#x27;var12&#x27;, &#x27;var13&#x27;, &#x27;var14&#x27;,\n",
       "                                                   &#x27;var15&#x27;, &#x27;var16&#x27;, &#x27;var17&#x27;,\n",
       "                                                   &#x27;var18&#x27;, &#x27;var19&#x27;, &#x27;var20&#x27;,\n",
       "                                                   &#x27;var21&#x27;, &#x27;var22&#x27;, &#x27;var23&#x27;,\n",
       "                                                   &#x27;var24&#x27;, &#x27;var25&#x27;, &#x27;var26&#x27;,\n",
       "                                                   &#x27;var27&#x27;, &#x27;var28&#x27;, &#x27;var29&#x27;,\n",
       "                                                   &#x27;var30&#x27;, &#x27;var31&#x27;, &#x27;var32&#x27;, ...]),\n",
       "                                                 (&#x27;cat&#x27;, OneHotEncoder(),\n",
       "                                                  [&#x27;var0&#x27;, &#x27;var1&#x27;, &#x27;var2&#x27;])])),\n",
       "                (&#x27;kmeans&#x27;, KMeans(n_clusters=5, n_init=&#x27;auto&#x27;)),\n",
       "                (&#x27;logreg&#x27;, LogisticRegression(C=10, solver=&#x27;liblinear&#x27;))])</pre></div></div></div><div class=\"sk-serial\"><div class=\"sk-item sk-dashed-wrapped\"><div class=\"sk-label-container\"><div class=\"sk-label sk-toggleable\"><input class=\"sk-toggleable__control sk-hidden--visually\" id=\"sk-estimator-id-25\" type=\"checkbox\" ><label for=\"sk-estimator-id-25\" class=\"sk-toggleable__label sk-toggleable__label-arrow\">preprocessor: ColumnTransformer</label><div class=\"sk-toggleable__content\"><pre>ColumnTransformer(transformers=[(&#x27;num&#x27;, StandardScaler(),\n",
       "                                 [&#x27;var3&#x27;, &#x27;var4&#x27;, &#x27;var5&#x27;, &#x27;var6&#x27;, &#x27;var7&#x27;,\n",
       "                                  &#x27;var8&#x27;, &#x27;var9&#x27;, &#x27;var10&#x27;, &#x27;var11&#x27;, &#x27;var12&#x27;,\n",
       "                                  &#x27;var13&#x27;, &#x27;var14&#x27;, &#x27;var15&#x27;, &#x27;var16&#x27;, &#x27;var17&#x27;,\n",
       "                                  &#x27;var18&#x27;, &#x27;var19&#x27;, &#x27;var20&#x27;, &#x27;var21&#x27;, &#x27;var22&#x27;,\n",
       "                                  &#x27;var23&#x27;, &#x27;var24&#x27;, &#x27;var25&#x27;, &#x27;var26&#x27;, &#x27;var27&#x27;,\n",
       "                                  &#x27;var28&#x27;, &#x27;var29&#x27;, &#x27;var30&#x27;, &#x27;var31&#x27;, &#x27;var32&#x27;, ...]),\n",
       "                                (&#x27;cat&#x27;, OneHotEncoder(),\n",
       "                                 [&#x27;var0&#x27;, &#x27;var1&#x27;, &#x27;var2&#x27;])])</pre></div></div></div><div class=\"sk-parallel\"><div class=\"sk-parallel-item\"><div class=\"sk-item\"><div class=\"sk-label-container\"><div class=\"sk-label sk-toggleable\"><input class=\"sk-toggleable__control sk-hidden--visually\" id=\"sk-estimator-id-26\" type=\"checkbox\" ><label for=\"sk-estimator-id-26\" class=\"sk-toggleable__label sk-toggleable__label-arrow\">num</label><div class=\"sk-toggleable__content\"><pre>[&#x27;var3&#x27;, &#x27;var4&#x27;, &#x27;var5&#x27;, &#x27;var6&#x27;, &#x27;var7&#x27;, &#x27;var8&#x27;, &#x27;var9&#x27;, &#x27;var10&#x27;, &#x27;var11&#x27;, &#x27;var12&#x27;, &#x27;var13&#x27;, &#x27;var14&#x27;, &#x27;var15&#x27;, &#x27;var16&#x27;, &#x27;var17&#x27;, &#x27;var18&#x27;, &#x27;var19&#x27;, &#x27;var20&#x27;, &#x27;var21&#x27;, &#x27;var22&#x27;, &#x27;var23&#x27;, &#x27;var24&#x27;, &#x27;var25&#x27;, &#x27;var26&#x27;, &#x27;var27&#x27;, &#x27;var28&#x27;, &#x27;var29&#x27;, &#x27;var30&#x27;, &#x27;var31&#x27;, &#x27;var32&#x27;, &#x27;var33&#x27;, &#x27;var34&#x27;, &#x27;var35&#x27;, &#x27;var36&#x27;, &#x27;var37&#x27;, &#x27;var38&#x27;, &#x27;var39&#x27;, &#x27;var40&#x27;, &#x27;var41&#x27;, &#x27;var42&#x27;, &#x27;var43&#x27;, &#x27;var44&#x27;, &#x27;var45&#x27;, &#x27;var46&#x27;, &#x27;var47&#x27;, &#x27;var48&#x27;, &#x27;var49&#x27;]</pre></div></div></div><div class=\"sk-serial\"><div class=\"sk-item\"><div class=\"sk-estimator sk-toggleable\"><input class=\"sk-toggleable__control sk-hidden--visually\" id=\"sk-estimator-id-27\" type=\"checkbox\" ><label for=\"sk-estimator-id-27\" class=\"sk-toggleable__label sk-toggleable__label-arrow\">StandardScaler</label><div class=\"sk-toggleable__content\"><pre>StandardScaler()</pre></div></div></div></div></div></div><div class=\"sk-parallel-item\"><div class=\"sk-item\"><div class=\"sk-label-container\"><div class=\"sk-label sk-toggleable\"><input class=\"sk-toggleable__control sk-hidden--visually\" id=\"sk-estimator-id-28\" type=\"checkbox\" ><label for=\"sk-estimator-id-28\" class=\"sk-toggleable__label sk-toggleable__label-arrow\">cat</label><div class=\"sk-toggleable__content\"><pre>[&#x27;var0&#x27;, &#x27;var1&#x27;, &#x27;var2&#x27;]</pre></div></div></div><div class=\"sk-serial\"><div class=\"sk-item\"><div class=\"sk-estimator sk-toggleable\"><input class=\"sk-toggleable__control sk-hidden--visually\" id=\"sk-estimator-id-29\" type=\"checkbox\" ><label for=\"sk-estimator-id-29\" class=\"sk-toggleable__label sk-toggleable__label-arrow\">OneHotEncoder</label><div class=\"sk-toggleable__content\"><pre>OneHotEncoder()</pre></div></div></div></div></div></div></div></div><div class=\"sk-item\"><div class=\"sk-estimator sk-toggleable\"><input class=\"sk-toggleable__control sk-hidden--visually\" id=\"sk-estimator-id-30\" type=\"checkbox\" ><label for=\"sk-estimator-id-30\" class=\"sk-toggleable__label sk-toggleable__label-arrow\">KMeans</label><div class=\"sk-toggleable__content\"><pre>KMeans(n_clusters=5, n_init=&#x27;auto&#x27;)</pre></div></div></div><div class=\"sk-item\"><div class=\"sk-estimator sk-toggleable\"><input class=\"sk-toggleable__control sk-hidden--visually\" id=\"sk-estimator-id-31\" type=\"checkbox\" ><label for=\"sk-estimator-id-31\" class=\"sk-toggleable__label sk-toggleable__label-arrow\">LogisticRegression</label><div class=\"sk-toggleable__content\"><pre>LogisticRegression(C=10, solver=&#x27;liblinear&#x27;)</pre></div></div></div></div></div></div></div>"
      ],
      "text/plain": [
       "Pipeline(steps=[('preprocessor',\n",
       "                 ColumnTransformer(transformers=[('num', StandardScaler(),\n",
       "                                                  ['var3', 'var4', 'var5',\n",
       "                                                   'var6', 'var7', 'var8',\n",
       "                                                   'var9', 'var10', 'var11',\n",
       "                                                   'var12', 'var13', 'var14',\n",
       "                                                   'var15', 'var16', 'var17',\n",
       "                                                   'var18', 'var19', 'var20',\n",
       "                                                   'var21', 'var22', 'var23',\n",
       "                                                   'var24', 'var25', 'var26',\n",
       "                                                   'var27', 'var28', 'var29',\n",
       "                                                   'var30', 'var31', 'var32', ...]),\n",
       "                                                 ('cat', OneHotEncoder(),\n",
       "                                                  ['var0', 'var1', 'var2'])])),\n",
       "                ('kmeans', KMeans(n_clusters=5, n_init='auto')),\n",
       "                ('logreg', LogisticRegression(C=10, solver='liblinear'))])"
      ]
     },
     "execution_count": 63,
     "metadata": {},
     "output_type": "execute_result"
    }
   ],
   "source": [
    "# Initialize the grid parameters of logistic regression\n",
    "param_grid = {\n",
    "    'logreg__C': [0.001, 0.01, 0.1, 1, 10],  # Strength of regularization\n",
    "    'logreg__penalty': ['l1', 'l2'],  # Type of regularization\n",
    "    'logreg__solver': ['liblinear', 'lbfgs'],  # Optimization of solver\n",
    "    'kmeans__n_clusters': [2, 3, 4, 5, 7, 10]\n",
    "}\n",
    "\n",
    "# Create a GridSearchCV for cross validation\n",
    "grid_search_lr = GridSearchCV(p, param_grid, cv=5, scoring='accuracy', n_jobs=-1) # for parallel processing\n",
    "\n",
    "# Perform hyperparameter tuning\n",
    "grid_search_lr.fit(X_train, y_train)\n",
    "\n",
    "grid_search_lr.best_estimator_"
   ]
  },
  {
   "cell_type": "code",
   "execution_count": 64,
   "metadata": {},
   "outputs": [
    {
     "data": {
      "text/plain": [
       "array([0., 1., 1., ..., 0., 1., 1.])"
      ]
     },
     "execution_count": 64,
     "metadata": {},
     "output_type": "execute_result"
    }
   ],
   "source": [
    "y_train_predictions = grid_search_lr.predict(X_train)\n",
    "y_train_predictions"
   ]
  },
  {
   "cell_type": "code",
   "execution_count": 65,
   "metadata": {},
   "outputs": [],
   "source": [
    "y_test_predictions = grid_search_lr.predict(X_test)"
   ]
  },
  {
   "cell_type": "code",
   "execution_count": 66,
   "metadata": {},
   "outputs": [
    {
     "data": {
      "image/png": "[encoded data removed]",
      "text/plain": [
       "<Figure size 432x288 with 1 Axes>"
      ]
     },
     "metadata": {
      "needs_background": "light"
     },
     "output_type": "display_data"
    }
   ],
   "source": [
    "from sklearn.metrics import roc_curve\n",
    "\n",
    "def generate_probs(X, model= grid_search_lr):\n",
    "    return model.predict_proba(X)[:, 1]\n",
    "\n",
    "def generate_roc(y, probs):\n",
    "    fpr, tpr, _ = roc_curve(y, probs, pos_label= 1)\n",
    "    return fpr, tpr\n",
    "    \n",
    "fpr_test, tpr_test = generate_roc(y_test, generate_probs(X_test))\n",
    "fpr_train, tpr_train = generate_roc(y_train, generate_probs(X_train))\n",
    "\n",
    "plt.plot(fpr_test, tpr_test,'-r')\n",
    "plt.plot(fpr_train, tpr_train,'-b')\n",
    "plt.xlabel('False Positive Rate')\n",
    "plt.ylabel('True Positive Rate')\n",
    "plt.legend(['Test','Training'])\n",
    "plt.plot([0, 1], [0, 1], color='navy', linestyle='--')\n",
    "plt.show()"
   ]
  },
  {
   "cell_type": "code",
   "execution_count": 67,
   "metadata": {},
   "outputs": [
    {
     "name": "stdout",
     "output_type": "stream",
     "text": [
      "Accuracy of logistic regression of training dataset is:  95.53125\n"
     ]
    }
   ],
   "source": [
    "from sklearn.metrics import accuracy_score\n",
    "\n",
    "log_train_accuracy_lgc = accuracy_score(y_train,y_train_predictions)\n",
    "\n",
    "print(\"Accuracy of logistic regression of training dataset is: \",log_train_accuracy_lgc*100)"
   ]
  },
  {
   "cell_type": "code",
   "execution_count": 68,
   "metadata": {},
   "outputs": [
    {
     "name": "stdout",
     "output_type": "stream",
     "text": [
      "Accuracy of logistic regression of testing dataset is:  94.5\n"
     ]
    }
   ],
   "source": [
    "from sklearn.metrics import accuracy_score\n",
    "\n",
    "log_test_accuracy_lgc = accuracy_score(y_test,y_test_predictions)\n",
    "\n",
    "print(\"Accuracy of logistic regression of testing dataset is: \",log_test_accuracy_lgc*100)"
   ]
  },
  {
   "cell_type": "code",
   "execution_count": 69,
   "metadata": {},
   "outputs": [
    {
     "name": "stdout",
     "output_type": "stream",
     "text": [
      "Precision of logistic regression of training dataset is:  99.79423868312757\n"
     ]
    }
   ],
   "source": [
    "from sklearn.metrics import precision_score\n",
    "\n",
    "log_train_precision_lgc = precision_score(y_train,y_train_predictions)\n",
    "\n",
    "print(\"Precision of logistic regression of training dataset is: \",log_train_precision_lgc*100)"
   ]
  },
  {
   "cell_type": "code",
   "execution_count": 70,
   "metadata": {},
   "outputs": [
    {
     "name": "stdout",
     "output_type": "stream",
     "text": [
      "Precision of logistic regression of testing dataset is:  99.4535519125683\n"
     ]
    }
   ],
   "source": [
    "from sklearn.metrics import precision_score\n",
    "\n",
    "log_test_precision_lgc = precision_score(y_test,y_test_predictions)\n",
    "\n",
    "print(\"Precision of logistic regression of testing dataset is: \",log_test_precision_lgc*100)"
   ]
  },
  {
   "cell_type": "code",
   "execution_count": 71,
   "metadata": {},
   "outputs": [
    {
     "name": "stdout",
     "output_type": "stream",
     "text": [
      "Recall of logistic regression of training dataset is:  91.22257053291536\n"
     ]
    }
   ],
   "source": [
    "from sklearn.metrics import recall_score\n",
    "\n",
    "log_train_recall_lgc = recall_score(y_train,y_train_predictions)\n",
    "\n",
    "print(\"Recall of logistic regression of training dataset is: \",log_train_recall_lgc*100)"
   ]
  },
  {
   "cell_type": "code",
   "execution_count": 72,
   "metadata": {},
   "outputs": [
    {
     "name": "stdout",
     "output_type": "stream",
     "text": [
      "Recall of logistic regression of testing dataset is:  89.65517241379311\n"
     ]
    }
   ],
   "source": [
    "from sklearn.metrics import recall_score\n",
    "\n",
    "log_test_recall_lgc = recall_score(y_test,y_test_predictions)\n",
    "\n",
    "print(\"Recall of logistic regression of testing dataset is: \",log_test_recall_lgc*100)"
   ]
  },
  {
   "cell_type": "markdown",
   "metadata": {},
   "source": [
    "Insert conclusions"
   ]
  },
  {
   "cell_type": "markdown",
   "metadata": {},
   "source": [
    "**Insert conclusions**\n",
    "\n",
    "**In the above cells, I have implemented the following:-**\n",
    "\n",
    "- Created pipeline step that creates logistic regression using k-means clustering.\n",
    "- I have plotted the ROC_AUC curve and found that the training and testing line are close to each other, which means that the model performs well on unseen data.\n",
    "- Accuracy of training data and testing data is 95.5 and 94.5 respectively.\n",
    "- Precision of training data and testing data is 99.7 and 99.4 respectively.\n",
    "- Recall of training data and testing data is 91.1 and 89.6 respectively.\n",
    "\n",
    "**I can say that this model performs well on this data than the above two model because it has high accuracy, precision and recall compared to the above models.**"
   ]
  },
  {
   "cell_type": "markdown",
   "metadata": {},
   "source": [
    "# Question 5\n",
    "- Which model, based on the results of `Questions 2-4` would you recommend to use?  \n",
    "- Use as much code as necessary to support your choice."
   ]
  },
  {
   "cell_type": "code",
   "execution_count": 73,
   "metadata": {},
   "outputs": [
    {
     "name": "stdout",
     "output_type": "stream",
     "text": [
      "Cross-Validation Scores of Logistic Regression: [0.921875  0.9328125 0.9515625 0.925     0.9546875]\n"
     ]
    }
   ],
   "source": [
    "from sklearn.model_selection import cross_val_score\n",
    "log_scores = cross_val_score(lr_model, X_train, y_train, cv=5)\n",
    "print(\"Cross-Validation Scores of Logistic Regression:\", log_scores)"
   ]
  },
  {
   "cell_type": "code",
   "execution_count": 74,
   "metadata": {},
   "outputs": [
    {
     "name": "stdout",
     "output_type": "stream",
     "text": [
      "Cross-Validation Scores of Grid Search Logistic Regression: [0.9453125 0.9609375 0.9578125 0.9421875 0.95625  ]\n"
     ]
    }
   ],
   "source": [
    "from sklearn.model_selection import cross_val_score\n",
    "grid_log_scores = cross_val_score(grid_search_lr, X_train, y_train, cv=5)\n",
    "print(\"Cross-Validation Scores of Grid Search Logistic Regression:\", grid_log_scores)"
   ]
  },
  {
   "cell_type": "code",
   "execution_count": 75,
   "metadata": {},
   "outputs": [
    {
     "name": "stdout",
     "output_type": "stream",
     "text": [
      "Cross-Validation Scores of PCA Logistic Regression: [0.9421875 0.95      0.9546875 0.9359375 0.95625  ]\n"
     ]
    }
   ],
   "source": [
    "from sklearn.model_selection import cross_val_score\n",
    "pca_log_scores = cross_val_score(df_search, X_train, y_train, cv=5)\n",
    "print(\"Cross-Validation Scores of PCA Logistic Regression:\", pca_log_scores)"
   ]
  },
  {
   "cell_type": "code",
   "execution_count": 76,
   "metadata": {},
   "outputs": [
    {
     "name": "stdout",
     "output_type": "stream",
     "text": [
      "Cross-Validation Scores of K-means Logistic Regression: [0.9453125 0.9640625 0.9578125 0.9421875 0.9625   ]\n"
     ]
    }
   ],
   "source": [
    "from sklearn.model_selection import cross_val_score\n",
    "k_log_scores = cross_val_score(grid_search_lr, X_train, y_train, cv=5)\n",
    "print(\"Cross-Validation Scores of K-means Logistic Regression:\", k_log_scores)"
   ]
  },
  {
   "cell_type": "code",
   "execution_count": null,
   "metadata": {},
   "outputs": [],
   "source": []
  },
  {
   "cell_type": "markdown",
   "metadata": {},
   "source": [
    "**Insert response**\n",
    "\n",
    "**For answering the above question, I have calculated the cross-validation scores of all the implemented models because it calculates how the model performs on the unseen data. I have found that the logistic regression with K-means clustering, PCA and Grid Search performs better than the other model.**"
   ]
  },
  {
   "cell_type": "code",
   "execution_count": null,
   "metadata": {},
   "outputs": [],
   "source": []
  }
 ],
 "metadata": {
  "kernelspec": {
   "display_name": "Python 3",
   "language": "python",
   "name": "python3"
  },
  "language_info": {
   "codemirror_mode": {
    "name": "ipython",
    "version": 3
   },
   "file_extension": ".py",
   "mimetype": "text/x-python",
   "name": "python",
   "nbconvert_exporter": "python",
   "pygments_lexer": "ipython3",
   "version": "3.8.8"
  },
  "toc": {
   "base_numbering": 1,
   "nav_menu": {},
   "number_sections": true,
   "sideBar": true,
   "skip_h1_title": false,
   "title_cell": "Table of Contents",
   "title_sidebar": "Contents",
   "toc_cell": false,
   "toc_position": {},
   "toc_section_display": true,
   "toc_window_display": false
  }
 },
 "nbformat": 4,
 "nbformat_minor": 4
}
