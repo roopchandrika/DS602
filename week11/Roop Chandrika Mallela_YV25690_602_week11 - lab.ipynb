{
 "cells": [
  {
   "cell_type": "markdown",
   "id": "318de7cb",
   "metadata": {},
   "source": [
    "# Week11 - Clustering Lab\n",
    "\n",
    "* Create clusters for the following dataset\n",
    "* Choose a meaningful cluster count\n",
    "* Identify potential labels for each cluster"
   ]
  },
  {
   "cell_type": "code",
   "execution_count": 1,
   "id": "4089dbd4",
   "metadata": {},
   "outputs": [
    {
     "data": {
      "text/html": [
       "<div>\n",
       "<style scoped>\n",
       "    .dataframe tbody tr th:only-of-type {\n",
       "        vertical-align: middle;\n",
       "    }\n",
       "\n",
       "    .dataframe tbody tr th {\n",
       "        vertical-align: top;\n",
       "    }\n",
       "\n",
       "    .dataframe thead th {\n",
       "        text-align: right;\n",
       "    }\n",
       "</style>\n",
       "<table border=\"1\" class=\"dataframe\">\n",
       "  <thead>\n",
       "    <tr style=\"text-align: right;\">\n",
       "      <th></th>\n",
       "      <th>name</th>\n",
       "      <th>text</th>\n",
       "    </tr>\n",
       "  </thead>\n",
       "  <tbody>\n",
       "    <tr>\n",
       "      <th>0</th>\n",
       "      <td>Digby Morrell</td>\n",
       "      <td>digby morrell born 10 october 1979 is a former...</td>\n",
       "    </tr>\n",
       "    <tr>\n",
       "      <th>1</th>\n",
       "      <td>Alfred J. Lewy</td>\n",
       "      <td>alfred j lewy aka sandy lewy graduated from un...</td>\n",
       "    </tr>\n",
       "    <tr>\n",
       "      <th>2</th>\n",
       "      <td>Harpdog Brown</td>\n",
       "      <td>harpdog brown is a singer and harmonica player...</td>\n",
       "    </tr>\n",
       "    <tr>\n",
       "      <th>3</th>\n",
       "      <td>Franz Rottensteiner</td>\n",
       "      <td>franz rottensteiner born in waidmannsfeld lowe...</td>\n",
       "    </tr>\n",
       "    <tr>\n",
       "      <th>4</th>\n",
       "      <td>G-Enka</td>\n",
       "      <td>henry krvits born 30 december 1974 in tallinn ...</td>\n",
       "    </tr>\n",
       "  </tbody>\n",
       "</table>\n",
       "</div>"
      ],
      "text/plain": [
       "                  name                                               text\n",
       "0        Digby Morrell  digby morrell born 10 october 1979 is a former...\n",
       "1       Alfred J. Lewy  alfred j lewy aka sandy lewy graduated from un...\n",
       "2        Harpdog Brown  harpdog brown is a singer and harmonica player...\n",
       "3  Franz Rottensteiner  franz rottensteiner born in waidmannsfeld lowe...\n",
       "4               G-Enka  henry krvits born 30 december 1974 in tallinn ..."
      ]
     },
     "execution_count": 1,
     "metadata": {},
     "output_type": "execute_result"
    }
   ],
   "source": [
    "from zipfile import ZipFile\n",
    "from io import BytesIO\n",
    "import urllib.request as urllib2\n",
    "import pandas as pd\n",
    "\n",
    "def get_data():\n",
    "    r = urllib2.urlopen(\"https://github.com/msaricaumbc/DS_data/blob/master/ds602/people_wiki.zip?raw=true\").read()\n",
    "    file = ZipFile(BytesIO(r))\n",
    "    people_wiki_csv = file.open(\"people_wiki.csv\")\n",
    "    people = pd.read_csv(people_wiki_csv)\n",
    "    people.drop('URI', inplace=True, axis=1)\n",
    "    return people\n",
    "\n",
    "people = get_data()\n",
    "people.head()"
   ]
  },
  {
   "cell_type": "markdown",
   "id": "8129d6bd",
   "metadata": {},
   "source": [
    "## Implementation of Count Vectorizer"
   ]
  },
  {
   "cell_type": "code",
   "execution_count": 2,
   "id": "14f7d251",
   "metadata": {},
   "outputs": [],
   "source": [
    "from sklearn.feature_extraction.text import CountVectorizer\n",
    "\n",
    "vec = CountVectorizer(stop_words='english', max_features=5000)\n",
    "corpus = vec.fit_transform(people.text)\n",
    "corpus = corpus.toarray()"
   ]
  },
  {
   "cell_type": "code",
   "execution_count": 3,
   "id": "5949a090",
   "metadata": {
    "scrolled": true
   },
   "outputs": [
    {
     "data": {
      "text/plain": [
       "array([[1, 0, 0, ..., 0, 0, 0],\n",
       "       [0, 0, 0, ..., 0, 0, 0],\n",
       "       [0, 0, 0, ..., 0, 0, 0],\n",
       "       ...,\n",
       "       [1, 0, 0, ..., 0, 0, 0],\n",
       "       [0, 0, 0, ..., 0, 0, 0],\n",
       "       [0, 0, 0, ..., 0, 0, 0]], dtype=int64)"
      ]
     },
     "execution_count": 3,
     "metadata": {},
     "output_type": "execute_result"
    }
   ],
   "source": [
    "corpus"
   ]
  },
  {
   "cell_type": "markdown",
   "id": "879a61f8",
   "metadata": {},
   "source": [
    "## Implementing sparse matrix"
   ]
  },
  {
   "cell_type": "markdown",
   "id": "6c3aa611",
   "metadata": {},
   "source": [
    "**Implementation of sparse matrix representation which is used to save memory because the count vectorizer of text column has many values.**"
   ]
  },
  {
   "cell_type": "code",
   "execution_count": 4,
   "id": "d81586df",
   "metadata": {},
   "outputs": [
    {
     "data": {
      "text/plain": [
       "<42786x5000 sparse matrix of type '<class 'numpy.int64'>'\n",
       "\twith 4141027 stored elements in Compressed Sparse Row format>"
      ]
     },
     "execution_count": 4,
     "metadata": {},
     "output_type": "execute_result"
    }
   ],
   "source": [
    "from scipy.sparse import csr_matrix\n",
    "\n",
    "corpus_sp = csr_matrix(corpus)\n",
    "\n",
    "corpus_sp"
   ]
  },
  {
   "cell_type": "markdown",
   "id": "e6516313",
   "metadata": {},
   "source": [
    "## Plotting the elbow plot to find the optimal number of clusters"
   ]
  },
  {
   "cell_type": "code",
   "execution_count": 5,
   "id": "dd71b1bc",
   "metadata": {},
   "outputs": [
    {
     "data": {
      "image/png": "[encoded data removed]",
      "text/plain": [
       "<Figure size 432x288 with 1 Axes>"
      ]
     },
     "metadata": {
      "needs_background": "light"
     },
     "output_type": "display_data"
    }
   ],
   "source": [
    "import matplotlib.pyplot as plt\n",
    "from sklearn.cluster import KMeans\n",
    "\n",
    "distortions = list()\n",
    "\n",
    "for i in range(1, 15):\n",
    "    km = KMeans(n_clusters=i, random_state=0, n_init='auto')\n",
    "    km = km.fit(corpus_sp)\n",
    "    distortions.append(km.inertia_)\n",
    "    \n",
    "plt.plot(range(1, 15), distortions, marker='o')\n",
    "plt.xlabel('Number of Clusters')\n",
    "plt.ylabel('Inertia')\n",
    "plt.show()"
   ]
  },
  {
   "cell_type": "markdown",
   "id": "8dd66978",
   "metadata": {},
   "source": [
    "**From the elbow plot, I can say that from cluster number 13, there is an elbow which means it is the optimal cluster number.**"
   ]
  },
  {
   "cell_type": "code",
   "execution_count": 6,
   "id": "cbcdc241",
   "metadata": {},
   "outputs": [],
   "source": [
    "import warnings\n",
    "warnings.filterwarnings(\"ignore\")"
   ]
  },
  {
   "cell_type": "markdown",
   "id": "abb90189",
   "metadata": {},
   "source": [
    "## Implementing K-means clustering"
   ]
  },
  {
   "cell_type": "code",
   "execution_count": 7,
   "id": "a2a3bb4f",
   "metadata": {},
   "outputs": [],
   "source": [
    "k = 13\n",
    "\n",
    "km = KMeans(n_clusters=k, random_state=42)\n",
    "\n",
    "people['k_cluster'] = km.fit_predict(corpus_sp)"
   ]
  },
  {
   "cell_type": "code",
   "execution_count": 8,
   "id": "8a8389c6",
   "metadata": {},
   "outputs": [
    {
     "data": {
      "text/plain": [
       "array([ 1,  2,  8, ..., 12,  2,  2])"
      ]
     },
     "execution_count": 8,
     "metadata": {},
     "output_type": "execute_result"
    }
   ],
   "source": [
    "km.labels_"
   ]
  },
  {
   "cell_type": "code",
   "execution_count": 9,
   "id": "ccdab60f",
   "metadata": {},
   "outputs": [
    {
     "data": {
      "text/plain": [
       "2     15079\n",
       "1      4351\n",
       "5      4196\n",
       "9      3717\n",
       "8      3024\n",
       "12     2679\n",
       "7      2517\n",
       "4      1849\n",
       "6      1661\n",
       "0      1297\n",
       "10     1234\n",
       "11      745\n",
       "3       437\n",
       "dtype: int64"
      ]
     },
     "execution_count": 9,
     "metadata": {},
     "output_type": "execute_result"
    }
   ],
   "source": [
    "pd.Series(km.labels_).value_counts()"
   ]
  },
  {
   "cell_type": "code",
   "execution_count": 10,
   "id": "4263ab77",
   "metadata": {},
   "outputs": [
    {
     "data": {
      "text/plain": [
       "13"
      ]
     },
     "execution_count": 10,
     "metadata": {},
     "output_type": "execute_result"
    }
   ],
   "source": [
    "pd.Series(km.labels_).nunique()"
   ]
  },
  {
   "cell_type": "markdown",
   "id": "fe31c0ee",
   "metadata": {},
   "source": [
    "## Identify potential labels for each cluster "
   ]
  },
  {
   "cell_type": "code",
   "execution_count": 11,
   "id": "d36b3674",
   "metadata": {},
   "outputs": [
    {
     "name": "stdout",
     "output_type": "stream",
     "text": [
      "Cluster Number 1 (%C3%87a%C4%9Fan Irmak)\n",
      "Cluster Number 2 (%C3%81ngel Garc%C3%ADa)\n",
      "Cluster Number 3 ( Renate Lorenz)\n",
      "Cluster Number 4 (Aaron Twerski)\n",
      "Cluster Number 5 (A. J. Hammer)\n",
      "Cluster Number 6 (%C3%81lvaro Gon%C3%A7alves)\n",
      "Cluster Number 7 (%C3%81lvaro Pierri)\n",
      "Cluster Number 8 (%C3%81ine Brady)\n",
      "Cluster Number 9 (%C3%81sgeir Trausti)\n",
      "Cluster Number 10 (%C3%81ine Hyland)\n",
      "Cluster Number 11 (%C3%81ngel Salazar (baseball))\n",
      "Cluster Number 12 (%C4%B0smail Ate%C5%9F)\n",
      "Cluster Number 13 (%C3%81ron G%C3%A1dorfalvi)\n"
     ]
    }
   ],
   "source": [
    "c_labels = {}\n",
    "for i in range(k):\n",
    "    c_data = people[people['k_cluster'] == i]\n",
    "    most_name = c_data['name'].mode().values[0] # Used mode function because the column has a text as the value\n",
    "    c_labels[i] = f\"Cluster Number {i + 1} ({most_name})\"\n",
    "\n",
    "for i, label in c_labels.items():\n",
    "    print(label)"
   ]
  },
  {
   "cell_type": "code",
   "execution_count": null,
   "id": "ad64323a",
   "metadata": {},
   "outputs": [],
   "source": []
  }
 ],
 "metadata": {
  "kernelspec": {
   "display_name": "Python 3",
   "language": "python",
   "name": "python3"
  },
  "language_info": {
   "codemirror_mode": {
    "name": "ipython",
    "version": 3
   },
   "file_extension": ".py",
   "mimetype": "text/x-python",
   "name": "python",
   "nbconvert_exporter": "python",
   "pygments_lexer": "ipython3",
   "version": "3.8.8"
  },
  "toc": {
   "base_numbering": 1,
   "nav_menu": {},
   "number_sections": false,
   "sideBar": true,
   "skip_h1_title": false,
   "title_cell": "Table of Contents",
   "title_sidebar": "Contents",
   "toc_cell": false,
   "toc_position": {},
   "toc_section_display": true,
   "toc_window_display": true
  }
 },
 "nbformat": 4,
 "nbformat_minor": 5
}
