{
 "cells": [
  {
   "cell_type": "markdown",
   "id": "8dbacf51",
   "metadata": {},
   "source": [
    "# DS602 Midterm\n",
    "\n",
    "Fake Reviews Dataset.\n",
    "\n",
    "https://osf.io/3vds7\n",
    "\n",
    "Goal is to identify the `label`. \n",
    "\n",
    "* Use random_state = 120\n",
    "* Don't use any pretrained ML model/library\n",
    "* If you need to encode the target variable (label), you may use [LabelEncoder](https://scikit-learn.org/stable/modules/generated/sklearn.preprocessing.LabelEncoder.html)"
   ]
  },
  {
   "cell_type": "markdown",
   "id": "7150ccc9",
   "metadata": {},
   "source": [
    "### Importing the libraries"
   ]
  },
  {
   "cell_type": "markdown",
   "id": "db619fb0",
   "metadata": {},
   "source": [
    "**The following code imports the required libraries.**"
   ]
  },
  {
   "cell_type": "code",
   "execution_count": 1,
   "id": "887381ca",
   "metadata": {},
   "outputs": [],
   "source": [
    "import pandas as pd\n",
    "import seaborn as sns\n",
    "import matplotlib.pyplot as plt\n",
    "# you can import additional libraries"
   ]
  },
  {
   "cell_type": "markdown",
   "id": "3fa22c2d",
   "metadata": {},
   "source": [
    "**The following code is used to read the dataset.**"
   ]
  },
  {
   "cell_type": "code",
   "execution_count": 2,
   "id": "73d28d3c",
   "metadata": {},
   "outputs": [],
   "source": [
    "df = pd.read_csv('https://osf.io/download/3vds7/')"
   ]
  },
  {
   "cell_type": "markdown",
   "id": "4e1e2267",
   "metadata": {},
   "source": [
    "**The following code is to view the head of the dataset.**"
   ]
  },
  {
   "cell_type": "code",
   "execution_count": 3,
   "id": "ddd0c156",
   "metadata": {
    "scrolled": true
   },
   "outputs": [
    {
     "data": {
      "text/html": [
       "<div>\n",
       "<style scoped>\n",
       "    .dataframe tbody tr th:only-of-type {\n",
       "        vertical-align: middle;\n",
       "    }\n",
       "\n",
       "    .dataframe tbody tr th {\n",
       "        vertical-align: top;\n",
       "    }\n",
       "\n",
       "    .dataframe thead th {\n",
       "        text-align: right;\n",
       "    }\n",
       "</style>\n",
       "<table border=\"1\" class=\"dataframe\">\n",
       "  <thead>\n",
       "    <tr style=\"text-align: right;\">\n",
       "      <th></th>\n",
       "      <th>category</th>\n",
       "      <th>rating</th>\n",
       "      <th>label</th>\n",
       "      <th>text_</th>\n",
       "    </tr>\n",
       "  </thead>\n",
       "  <tbody>\n",
       "    <tr>\n",
       "      <th>0</th>\n",
       "      <td>Home_and_Kitchen_5</td>\n",
       "      <td>5.0</td>\n",
       "      <td>CG</td>\n",
       "      <td>Love this!  Well made, sturdy, and very comfor...</td>\n",
       "    </tr>\n",
       "    <tr>\n",
       "      <th>1</th>\n",
       "      <td>Home_and_Kitchen_5</td>\n",
       "      <td>5.0</td>\n",
       "      <td>CG</td>\n",
       "      <td>love it, a great upgrade from the original.  I...</td>\n",
       "    </tr>\n",
       "    <tr>\n",
       "      <th>2</th>\n",
       "      <td>Home_and_Kitchen_5</td>\n",
       "      <td>5.0</td>\n",
       "      <td>CG</td>\n",
       "      <td>This pillow saved my back. I love the look and...</td>\n",
       "    </tr>\n",
       "    <tr>\n",
       "      <th>3</th>\n",
       "      <td>Home_and_Kitchen_5</td>\n",
       "      <td>1.0</td>\n",
       "      <td>CG</td>\n",
       "      <td>Missing information on how to use it, but it i...</td>\n",
       "    </tr>\n",
       "    <tr>\n",
       "      <th>4</th>\n",
       "      <td>Home_and_Kitchen_5</td>\n",
       "      <td>5.0</td>\n",
       "      <td>CG</td>\n",
       "      <td>Very nice set. Good quality. We have had the s...</td>\n",
       "    </tr>\n",
       "  </tbody>\n",
       "</table>\n",
       "</div>"
      ],
      "text/plain": [
       "             category  rating label  \\\n",
       "0  Home_and_Kitchen_5     5.0    CG   \n",
       "1  Home_and_Kitchen_5     5.0    CG   \n",
       "2  Home_and_Kitchen_5     5.0    CG   \n",
       "3  Home_and_Kitchen_5     1.0    CG   \n",
       "4  Home_and_Kitchen_5     5.0    CG   \n",
       "\n",
       "                                               text_  \n",
       "0  Love this!  Well made, sturdy, and very comfor...  \n",
       "1  love it, a great upgrade from the original.  I...  \n",
       "2  This pillow saved my back. I love the look and...  \n",
       "3  Missing information on how to use it, but it i...  \n",
       "4  Very nice set. Good quality. We have had the s...  "
      ]
     },
     "execution_count": 3,
     "metadata": {},
     "output_type": "execute_result"
    }
   ],
   "source": [
    "df.head()"
   ]
  },
  {
   "cell_type": "markdown",
   "id": "2cfaff16",
   "metadata": {},
   "source": [
    "**Get the info of the dataset.**"
   ]
  },
  {
   "cell_type": "code",
   "execution_count": 4,
   "id": "a7aa0c5e",
   "metadata": {
    "scrolled": true
   },
   "outputs": [
    {
     "name": "stdout",
     "output_type": "stream",
     "text": [
      "<class 'pandas.core.frame.DataFrame'>\n",
      "RangeIndex: 40432 entries, 0 to 40431\n",
      "Data columns (total 4 columns):\n",
      " #   Column    Non-Null Count  Dtype  \n",
      "---  ------    --------------  -----  \n",
      " 0   category  40432 non-null  object \n",
      " 1   rating    40432 non-null  float64\n",
      " 2   label     40432 non-null  object \n",
      " 3   text_     40432 non-null  object \n",
      "dtypes: float64(1), object(3)\n",
      "memory usage: 1.2+ MB\n"
     ]
    }
   ],
   "source": [
    "df.info()"
   ]
  },
  {
   "cell_type": "markdown",
   "id": "da3cd023",
   "metadata": {},
   "source": [
    "**The dataset contains 4 columns, one column is target column (label) and other 3 columns are features.**"
   ]
  },
  {
   "cell_type": "markdown",
   "id": "b95fa048",
   "metadata": {},
   "source": [
    "**Get the value counts of the label column.**"
   ]
  },
  {
   "cell_type": "code",
   "execution_count": 5,
   "id": "957fc82d",
   "metadata": {},
   "outputs": [
    {
     "data": {
      "text/plain": [
       "CG    20216\n",
       "OR    20216\n",
       "Name: label, dtype: int64"
      ]
     },
     "execution_count": 5,
     "metadata": {},
     "output_type": "execute_result"
    }
   ],
   "source": [
    "df.label.value_counts()"
   ]
  },
  {
   "cell_type": "markdown",
   "id": "edf14a12",
   "metadata": {},
   "source": [
    "**The data is balanced.**"
   ]
  },
  {
   "cell_type": "markdown",
   "id": "26887e53",
   "metadata": {},
   "source": [
    "**Get the shape of the dataset.**"
   ]
  },
  {
   "cell_type": "code",
   "execution_count": 6,
   "id": "5d0230b5",
   "metadata": {},
   "outputs": [
    {
     "data": {
      "text/plain": [
       "(40432, 4)"
      ]
     },
     "execution_count": 6,
     "metadata": {},
     "output_type": "execute_result"
    }
   ],
   "source": [
    "df.shape"
   ]
  },
  {
   "cell_type": "markdown",
   "id": "d53be3ee",
   "metadata": {},
   "source": [
    "**The dataset contains 40432 rows and 4 columns.**"
   ]
  },
  {
   "cell_type": "markdown",
   "id": "13b38253",
   "metadata": {},
   "source": [
    "**Get the value counts of the category column.**"
   ]
  },
  {
   "cell_type": "code",
   "execution_count": 7,
   "id": "d45b638a",
   "metadata": {},
   "outputs": [
    {
     "data": {
      "text/plain": [
       "Kindle_Store_5                  4730\n",
       "Books_5                         4370\n",
       "Pet_Supplies_5                  4254\n",
       "Home_and_Kitchen_5              4056\n",
       "Electronics_5                   3988\n",
       "Sports_and_Outdoors_5           3946\n",
       "Tools_and_Home_Improvement_5    3858\n",
       "Clothing_Shoes_and_Jewelry_5    3848\n",
       "Toys_and_Games_5                3794\n",
       "Movies_and_TV_5                 3588\n",
       "Name: category, dtype: int64"
      ]
     },
     "execution_count": 7,
     "metadata": {},
     "output_type": "execute_result"
    }
   ],
   "source": [
    "df['category'].value_counts()"
   ]
  },
  {
   "cell_type": "markdown",
   "id": "901dca49",
   "metadata": {},
   "source": [
    "**The category column contains 10 different categories with Kindle_Store_5 with highest count and Movies_and_TV_5 with the least count.**"
   ]
  },
  {
   "cell_type": "markdown",
   "id": "9b5047e8",
   "metadata": {},
   "source": [
    "**Get the value counts of the rating column.**"
   ]
  },
  {
   "cell_type": "code",
   "execution_count": 8,
   "id": "d8372ebd",
   "metadata": {},
   "outputs": [
    {
     "data": {
      "text/plain": [
       "5.0    24559\n",
       "4.0     7965\n",
       "3.0     3786\n",
       "1.0     2155\n",
       "2.0     1967\n",
       "Name: rating, dtype: int64"
      ]
     },
     "execution_count": 8,
     "metadata": {},
     "output_type": "execute_result"
    }
   ],
   "source": [
    "df['rating'].value_counts()"
   ]
  },
  {
   "cell_type": "markdown",
   "id": "d91e58fe",
   "metadata": {},
   "source": [
    "**The rating column has 5 different values, 5.0 with highest value and 2.0 wit lowest value.**"
   ]
  },
  {
   "cell_type": "markdown",
   "id": "b7c27bf7",
   "metadata": {},
   "source": [
    "**View the head of the text_ column to know what kind of data it contains.**"
   ]
  },
  {
   "cell_type": "code",
   "execution_count": 9,
   "id": "4b8cf58f",
   "metadata": {},
   "outputs": [
    {
     "data": {
      "text/plain": [
       "0    Love this!  Well made, sturdy, and very comfor...\n",
       "1    love it, a great upgrade from the original.  I...\n",
       "2    This pillow saved my back. I love the look and...\n",
       "3    Missing information on how to use it, but it i...\n",
       "4    Very nice set. Good quality. We have had the s...\n",
       "Name: text_, dtype: object"
      ]
     },
     "execution_count": 9,
     "metadata": {},
     "output_type": "execute_result"
    }
   ],
   "source": [
    "df['text_'].head(5)"
   ]
  },
  {
   "cell_type": "markdown",
   "id": "d03c5916",
   "metadata": {},
   "source": [
    "**View the number of missing values in the dataset.**"
   ]
  },
  {
   "cell_type": "code",
   "execution_count": 10,
   "id": "0b6c5b2f",
   "metadata": {},
   "outputs": [
    {
     "data": {
      "text/plain": [
       "category    0\n",
       "rating      0\n",
       "label       0\n",
       "text_       0\n",
       "dtype: int64"
      ]
     },
     "execution_count": 10,
     "metadata": {},
     "output_type": "execute_result"
    }
   ],
   "source": [
    "df.isnull().sum()"
   ]
  },
  {
   "cell_type": "markdown",
   "id": "7603e61e",
   "metadata": {},
   "source": [
    "**From the above code, it is clear that there are no missing values in the dataset.**"
   ]
  },
  {
   "cell_type": "markdown",
   "id": "b7a27151",
   "metadata": {},
   "source": [
    "### Visualizing the columns"
   ]
  },
  {
   "cell_type": "markdown",
   "id": "9dba23fd",
   "metadata": {},
   "source": [
    "**Visualizing the target column using the countplot.**"
   ]
  },
  {
   "cell_type": "code",
   "execution_count": 11,
   "id": "4d4ef299",
   "metadata": {},
   "outputs": [
    {
     "data": {
      "image/png": "[encoded data removed]",
      "text/plain": [
       "<Figure size 432x288 with 1 Axes>"
      ]
     },
     "metadata": {
      "needs_background": "light"
     },
     "output_type": "display_data"
    }
   ],
   "source": [
    "sns.countplot(x='label', data=df)\n",
    "plt.title('Target Column Distributions')\n",
    "plt.show()"
   ]
  },
  {
   "cell_type": "markdown",
   "id": "37e13506",
   "metadata": {},
   "source": [
    "**The target column is balanced.**"
   ]
  },
  {
   "cell_type": "markdown",
   "id": "9e7c7697",
   "metadata": {},
   "source": [
    "**Visualize the category column using countplot.**"
   ]
  },
  {
   "cell_type": "code",
   "execution_count": 12,
   "id": "8dc1225a",
   "metadata": {},
   "outputs": [
    {
     "data": {
      "image/png": "[encoded data removed]",
      "text/plain": [
       "<Figure size 864x432 with 1 Axes>"
      ]
     },
     "metadata": {
      "needs_background": "light"
     },
     "output_type": "display_data"
    }
   ],
   "source": [
    "plt.figure(figsize=(12, 6))\n",
    "sns.countplot(x='category', data=df)\n",
    "plt.title('Category column distribution')\n",
    "plt.xticks(rotation=90) # used for rotating the x-axis for clear visibility of all the column names\n",
    "plt.show()"
   ]
  },
  {
   "cell_type": "markdown",
   "id": "d1b4ab76",
   "metadata": {},
   "source": [
    "**Visualize the rating column.**"
   ]
  },
  {
   "cell_type": "code",
   "execution_count": 13,
   "id": "d5aa8cde",
   "metadata": {},
   "outputs": [
    {
     "data": {
      "image/png": "[encoded data removed]",
      "text/plain": [
       "<Figure size 864x432 with 1 Axes>"
      ]
     },
     "metadata": {
      "needs_background": "light"
     },
     "output_type": "display_data"
    }
   ],
   "source": [
    "plt.figure(figsize=(12, 6))\n",
    "sns.countplot(x='rating', data=df)\n",
    "plt.title('Rating column distribution')\n",
    "plt.xticks(rotation=90)\n",
    "plt.show()"
   ]
  },
  {
   "cell_type": "markdown",
   "id": "93ff48af",
   "metadata": {},
   "source": [
    "### LabelEncoder\n",
    "\n",
    "**Do the label encoder for the target variable using LabelEncoder.**"
   ]
  },
  {
   "cell_type": "code",
   "execution_count": 14,
   "id": "0aada803",
   "metadata": {},
   "outputs": [
    {
     "data": {
      "text/html": [
       "<div>\n",
       "<style scoped>\n",
       "    .dataframe tbody tr th:only-of-type {\n",
       "        vertical-align: middle;\n",
       "    }\n",
       "\n",
       "    .dataframe tbody tr th {\n",
       "        vertical-align: top;\n",
       "    }\n",
       "\n",
       "    .dataframe thead th {\n",
       "        text-align: right;\n",
       "    }\n",
       "</style>\n",
       "<table border=\"1\" class=\"dataframe\">\n",
       "  <thead>\n",
       "    <tr style=\"text-align: right;\">\n",
       "      <th></th>\n",
       "      <th>category</th>\n",
       "      <th>rating</th>\n",
       "      <th>label</th>\n",
       "      <th>text_</th>\n",
       "    </tr>\n",
       "  </thead>\n",
       "  <tbody>\n",
       "    <tr>\n",
       "      <th>0</th>\n",
       "      <td>Home_and_Kitchen_5</td>\n",
       "      <td>5.0</td>\n",
       "      <td>0</td>\n",
       "      <td>Love this!  Well made, sturdy, and very comfor...</td>\n",
       "    </tr>\n",
       "    <tr>\n",
       "      <th>1</th>\n",
       "      <td>Home_and_Kitchen_5</td>\n",
       "      <td>5.0</td>\n",
       "      <td>0</td>\n",
       "      <td>love it, a great upgrade from the original.  I...</td>\n",
       "    </tr>\n",
       "    <tr>\n",
       "      <th>2</th>\n",
       "      <td>Home_and_Kitchen_5</td>\n",
       "      <td>5.0</td>\n",
       "      <td>0</td>\n",
       "      <td>This pillow saved my back. I love the look and...</td>\n",
       "    </tr>\n",
       "    <tr>\n",
       "      <th>3</th>\n",
       "      <td>Home_and_Kitchen_5</td>\n",
       "      <td>1.0</td>\n",
       "      <td>0</td>\n",
       "      <td>Missing information on how to use it, but it i...</td>\n",
       "    </tr>\n",
       "    <tr>\n",
       "      <th>4</th>\n",
       "      <td>Home_and_Kitchen_5</td>\n",
       "      <td>5.0</td>\n",
       "      <td>0</td>\n",
       "      <td>Very nice set. Good quality. We have had the s...</td>\n",
       "    </tr>\n",
       "  </tbody>\n",
       "</table>\n",
       "</div>"
      ],
      "text/plain": [
       "             category  rating  label  \\\n",
       "0  Home_and_Kitchen_5     5.0      0   \n",
       "1  Home_and_Kitchen_5     5.0      0   \n",
       "2  Home_and_Kitchen_5     5.0      0   \n",
       "3  Home_and_Kitchen_5     1.0      0   \n",
       "4  Home_and_Kitchen_5     5.0      0   \n",
       "\n",
       "                                               text_  \n",
       "0  Love this!  Well made, sturdy, and very comfor...  \n",
       "1  love it, a great upgrade from the original.  I...  \n",
       "2  This pillow saved my back. I love the look and...  \n",
       "3  Missing information on how to use it, but it i...  \n",
       "4  Very nice set. Good quality. We have had the s...  "
      ]
     },
     "execution_count": 14,
     "metadata": {},
     "output_type": "execute_result"
    }
   ],
   "source": [
    "from sklearn.preprocessing import LabelEncoder\n",
    "\n",
    "a = LabelEncoder() # Initialising the LabelEncoder()\n",
    "\n",
    "df.label = a.fit_transform(df.label) # Fitting and transforming the label column\n",
    "\n",
    "df.head() # viewing the head of the dataset after label encoding"
   ]
  },
  {
   "cell_type": "markdown",
   "id": "78f9dd1b",
   "metadata": {},
   "source": [
    "### Train and test split"
   ]
  },
  {
   "cell_type": "markdown",
   "id": "bc0a78cf",
   "metadata": {},
   "source": [
    "**Divide the dataset into X and y. X contains the features except target column. y contains the target column.**"
   ]
  },
  {
   "cell_type": "code",
   "execution_count": 15,
   "id": "49eb1274",
   "metadata": {},
   "outputs": [],
   "source": [
    "y = df['label'] # Target column is label\n",
    "X = df[[x for x in df.columns if x != 'label']] # Columns except the target column"
   ]
  },
  {
   "cell_type": "code",
   "execution_count": 16,
   "id": "04757ad4",
   "metadata": {},
   "outputs": [
    {
     "data": {
      "text/plain": [
       "Index(['category', 'rating', 'text_'], dtype='object')"
      ]
     },
     "execution_count": 16,
     "metadata": {},
     "output_type": "execute_result"
    }
   ],
   "source": [
    "X.columns"
   ]
  },
  {
   "cell_type": "code",
   "execution_count": 17,
   "id": "5ffea535",
   "metadata": {},
   "outputs": [
    {
     "data": {
      "text/plain": [
       "0        0\n",
       "1        0\n",
       "2        0\n",
       "3        0\n",
       "4        0\n",
       "        ..\n",
       "40427    1\n",
       "40428    0\n",
       "40429    1\n",
       "40430    0\n",
       "40431    1\n",
       "Name: label, Length: 40432, dtype: int32"
      ]
     },
     "execution_count": 17,
     "metadata": {},
     "output_type": "execute_result"
    }
   ],
   "source": [
    "y"
   ]
  },
  {
   "cell_type": "markdown",
   "id": "ccf2ece6",
   "metadata": {},
   "source": [
    "**Split the dataset into train and test with a random_state of 120.**"
   ]
  },
  {
   "cell_type": "code",
   "execution_count": 18,
   "id": "69ee8765",
   "metadata": {},
   "outputs": [],
   "source": [
    "from sklearn.model_selection import train_test_split\n",
    "\n",
    "X_train, X_test, y_train, y_test = train_test_split(X, y, test_size=0.2, random_state=120)"
   ]
  },
  {
   "cell_type": "code",
   "execution_count": 19,
   "id": "eca8072f",
   "metadata": {},
   "outputs": [
    {
     "name": "stdout",
     "output_type": "stream",
     "text": [
      "Training samples: 32,345\n",
      "Test samples: 8,087\n"
     ]
    }
   ],
   "source": [
    "print(f'Training samples: {X_train.shape[0]:,}')\n",
    "print(f'Test samples: {X_test.shape[0]:,}')"
   ]
  },
  {
   "cell_type": "markdown",
   "id": "a01f94fd",
   "metadata": {},
   "source": [
    "**The training samples are 32,345 and testing samples are 8087.** "
   ]
  },
  {
   "cell_type": "code",
   "execution_count": 20,
   "id": "cc1f01ff",
   "metadata": {},
   "outputs": [
    {
     "data": {
      "text/plain": [
       "(32345, 3)"
      ]
     },
     "execution_count": 20,
     "metadata": {},
     "output_type": "execute_result"
    }
   ],
   "source": [
    "X_train.shape"
   ]
  },
  {
   "cell_type": "code",
   "execution_count": 21,
   "id": "8265a1c7",
   "metadata": {},
   "outputs": [
    {
     "data": {
      "text/plain": [
       "(32345,)"
      ]
     },
     "execution_count": 21,
     "metadata": {},
     "output_type": "execute_result"
    }
   ],
   "source": [
    "y_train.shape"
   ]
  },
  {
   "cell_type": "code",
   "execution_count": null,
   "id": "775c7c04",
   "metadata": {},
   "outputs": [],
   "source": []
  },
  {
   "cell_type": "markdown",
   "id": "22facfef",
   "metadata": {},
   "source": [
    "**Import the libraries required for feature engineering. These are done in pipeline.**"
   ]
  },
  {
   "cell_type": "code",
   "execution_count": 22,
   "id": "e84b0881",
   "metadata": {},
   "outputs": [],
   "source": [
    "import pandas as pd\n",
    "import numpy as np\n",
    "from sklearn.model_selection import train_test_split\n",
    "from sklearn.feature_extraction.text import TfidfVectorizer\n",
    "from sklearn.pipeline import Pipeline\n",
    "from sklearn.metrics import accuracy_score, classification_report, confusion_matrix\n",
    "from sklearn.compose import ColumnTransformer\n",
    "from sklearn.base import BaseEstimator, TransformerMixin\n",
    "from sklearn.preprocessing import StandardScaler, OneHotEncoder, LabelEncoder\n"
   ]
  },
  {
   "cell_type": "markdown",
   "id": "9bf51dd6",
   "metadata": {},
   "source": [
    "**The steps done in feature engineering are**\n",
    "- TFIDF Vectorization (term frequency inverse document frequency, measure for information retrieval and quantifying the importance of strings).\n",
    "- Creating dummies for category column"
   ]
  },
  {
   "cell_type": "code",
   "execution_count": 23,
   "id": "247bc17f",
   "metadata": {},
   "outputs": [],
   "source": [
    "class TextPreprocessor(BaseEstimator, TransformerMixin):\n",
    "    def fit(self, X, y=None):\n",
    "        return self\n",
    "\n",
    "    def transform(self, X, y=None):\n",
    "        return X['text_']\n",
    "\n",
    "text_vectorizer = Pipeline([\n",
    "    ('tfidf', TfidfVectorizer())\n",
    "])\n",
    "\n",
    "cat_encoder = Pipeline([\n",
    "    ('create_dummies_cats', OneHotEncoder(handle_unknown='ignore', drop='first')),\n",
    "])\n",
    "\n",
    "preprocessor = ColumnTransformer(\n",
    "    transformers=[\n",
    "        ('text', text_vectorizer, 'text_'),\n",
    "        ('categorical', cat_encoder, ['category'])\n",
    "    ])\n"
   ]
  },
  {
   "cell_type": "markdown",
   "id": "62773735",
   "metadata": {},
   "source": [
    "**The following code is used to implement LogisticRegression model which implements the pipelines preprocessor and model.**"
   ]
  },
  {
   "cell_type": "code",
   "execution_count": 24,
   "id": "56f1cbfa",
   "metadata": {},
   "outputs": [],
   "source": [
    "# Pipeline for implementing preprocessor and LogisticRegression.\n",
    "\n",
    "from sklearn.linear_model import LogisticRegression\n",
    "\n",
    "lr_model = Pipeline([\n",
    "    ('preprocessor', preprocessor),\n",
    "    ('logreg', LogisticRegression(penalty=None))\n",
    "])"
   ]
  },
  {
   "cell_type": "markdown",
   "id": "54508410",
   "metadata": {},
   "source": [
    "**The following code is for fitting the model to the data.**"
   ]
  },
  {
   "cell_type": "code",
   "execution_count": 25,
   "id": "b486900b",
   "metadata": {},
   "outputs": [
    {
     "name": "stderr",
     "output_type": "stream",
     "text": [
      "C:\\Users\\CHANDRIKA\\anaconda3\\lib\\site-packages\\sklearn\\linear_model\\_logistic.py:458: ConvergenceWarning: lbfgs failed to converge (status=1):\n",
      "STOP: TOTAL NO. of ITERATIONS REACHED LIMIT.\n",
      "\n",
      "Increase the number of iterations (max_iter) or scale the data as shown in:\n",
      "    https://scikit-learn.org/stable/modules/preprocessing.html\n",
      "Please also refer to the documentation for alternative solver options:\n",
      "    https://scikit-learn.org/stable/modules/linear_model.html#logistic-regression\n",
      "  n_iter_i = _check_optimize_result(\n"
     ]
    },
    {
     "data": {
      "text/html": [
       "<style>#sk-container-id-1 {color: black;background-color: white;}#sk-container-id-1 pre{padding: 0;}#sk-container-id-1 div.sk-toggleable {background-color: white;}#sk-container-id-1 label.sk-toggleable__label {cursor: pointer;display: block;width: 100%;margin-bottom: 0;padding: 0.3em;box-sizing: border-box;text-align: center;}#sk-container-id-1 label.sk-toggleable__label-arrow:before {content: \"▸\";float: left;margin-right: 0.25em;color: #696969;}#sk-container-id-1 label.sk-toggleable__label-arrow:hover:before {color: black;}#sk-container-id-1 div.sk-estimator:hover label.sk-toggleable__label-arrow:before {color: black;}#sk-container-id-1 div.sk-toggleable__content {max-height: 0;max-width: 0;overflow: hidden;text-align: left;background-color: #f0f8ff;}#sk-container-id-1 div.sk-toggleable__content pre {margin: 0.2em;color: black;border-radius: 0.25em;background-color: #f0f8ff;}#sk-container-id-1 input.sk-toggleable__control:checked~div.sk-toggleable__content {max-height: 200px;max-width: 100%;overflow: auto;}#sk-container-id-1 input.sk-toggleable__control:checked~label.sk-toggleable__label-arrow:before {content: \"▾\";}#sk-container-id-1 div.sk-estimator input.sk-toggleable__control:checked~label.sk-toggleable__label {background-color: #d4ebff;}#sk-container-id-1 div.sk-label input.sk-toggleable__control:checked~label.sk-toggleable__label {background-color: #d4ebff;}#sk-container-id-1 input.sk-hidden--visually {border: 0;clip: rect(1px 1px 1px 1px);clip: rect(1px, 1px, 1px, 1px);height: 1px;margin: -1px;overflow: hidden;padding: 0;position: absolute;width: 1px;}#sk-container-id-1 div.sk-estimator {font-family: monospace;background-color: #f0f8ff;border: 1px dotted black;border-radius: 0.25em;box-sizing: border-box;margin-bottom: 0.5em;}#sk-container-id-1 div.sk-estimator:hover {background-color: #d4ebff;}#sk-container-id-1 div.sk-parallel-item::after {content: \"\";width: 100%;border-bottom: 1px solid gray;flex-grow: 1;}#sk-container-id-1 div.sk-label:hover label.sk-toggleable__label {background-color: #d4ebff;}#sk-container-id-1 div.sk-serial::before {content: \"\";position: absolute;border-left: 1px solid gray;box-sizing: border-box;top: 0;bottom: 0;left: 50%;z-index: 0;}#sk-container-id-1 div.sk-serial {display: flex;flex-direction: column;align-items: center;background-color: white;padding-right: 0.2em;padding-left: 0.2em;position: relative;}#sk-container-id-1 div.sk-item {position: relative;z-index: 1;}#sk-container-id-1 div.sk-parallel {display: flex;align-items: stretch;justify-content: center;background-color: white;position: relative;}#sk-container-id-1 div.sk-item::before, #sk-container-id-1 div.sk-parallel-item::before {content: \"\";position: absolute;border-left: 1px solid gray;box-sizing: border-box;top: 0;bottom: 0;left: 50%;z-index: -1;}#sk-container-id-1 div.sk-parallel-item {display: flex;flex-direction: column;z-index: 1;position: relative;background-color: white;}#sk-container-id-1 div.sk-parallel-item:first-child::after {align-self: flex-end;width: 50%;}#sk-container-id-1 div.sk-parallel-item:last-child::after {align-self: flex-start;width: 50%;}#sk-container-id-1 div.sk-parallel-item:only-child::after {width: 0;}#sk-container-id-1 div.sk-dashed-wrapped {border: 1px dashed gray;margin: 0 0.4em 0.5em 0.4em;box-sizing: border-box;padding-bottom: 0.4em;background-color: white;}#sk-container-id-1 div.sk-label label {font-family: monospace;font-weight: bold;display: inline-block;line-height: 1.2em;}#sk-container-id-1 div.sk-label-container {text-align: center;}#sk-container-id-1 div.sk-container {/* jupyter's `normalize.less` sets `[hidden] { display: none; }` but bootstrap.min.css set `[hidden] { display: none !important; }` so we also need the `!important` here to be able to override the default hidden behavior on the sphinx rendered scikit-learn.org. See: https://github.com/scikit-learn/scikit-learn/issues/21755 */display: inline-block !important;position: relative;}#sk-container-id-1 div.sk-text-repr-fallback {display: none;}</style><div id=\"sk-container-id-1\" class=\"sk-top-container\"><div class=\"sk-text-repr-fallback\"><pre>Pipeline(steps=[(&#x27;preprocessor&#x27;,\n",
       "                 ColumnTransformer(transformers=[(&#x27;text&#x27;,\n",
       "                                                  Pipeline(steps=[(&#x27;tfidf&#x27;,\n",
       "                                                                   TfidfVectorizer())]),\n",
       "                                                  &#x27;text_&#x27;),\n",
       "                                                 (&#x27;categorical&#x27;,\n",
       "                                                  Pipeline(steps=[(&#x27;create_dummies_cats&#x27;,\n",
       "                                                                   OneHotEncoder(drop=&#x27;first&#x27;,\n",
       "                                                                                 handle_unknown=&#x27;ignore&#x27;))]),\n",
       "                                                  [&#x27;category&#x27;])])),\n",
       "                (&#x27;logreg&#x27;, LogisticRegression(penalty=None))])</pre><b>In a Jupyter environment, please rerun this cell to show the HTML representation or trust the notebook. <br />On GitHub, the HTML representation is unable to render, please try loading this page with nbviewer.org.</b></div><div class=\"sk-container\" hidden><div class=\"sk-item sk-dashed-wrapped\"><div class=\"sk-label-container\"><div class=\"sk-label sk-toggleable\"><input class=\"sk-toggleable__control sk-hidden--visually\" id=\"sk-estimator-id-1\" type=\"checkbox\" ><label for=\"sk-estimator-id-1\" class=\"sk-toggleable__label sk-toggleable__label-arrow\">Pipeline</label><div class=\"sk-toggleable__content\"><pre>Pipeline(steps=[(&#x27;preprocessor&#x27;,\n",
       "                 ColumnTransformer(transformers=[(&#x27;text&#x27;,\n",
       "                                                  Pipeline(steps=[(&#x27;tfidf&#x27;,\n",
       "                                                                   TfidfVectorizer())]),\n",
       "                                                  &#x27;text_&#x27;),\n",
       "                                                 (&#x27;categorical&#x27;,\n",
       "                                                  Pipeline(steps=[(&#x27;create_dummies_cats&#x27;,\n",
       "                                                                   OneHotEncoder(drop=&#x27;first&#x27;,\n",
       "                                                                                 handle_unknown=&#x27;ignore&#x27;))]),\n",
       "                                                  [&#x27;category&#x27;])])),\n",
       "                (&#x27;logreg&#x27;, LogisticRegression(penalty=None))])</pre></div></div></div><div class=\"sk-serial\"><div class=\"sk-item sk-dashed-wrapped\"><div class=\"sk-label-container\"><div class=\"sk-label sk-toggleable\"><input class=\"sk-toggleable__control sk-hidden--visually\" id=\"sk-estimator-id-2\" type=\"checkbox\" ><label for=\"sk-estimator-id-2\" class=\"sk-toggleable__label sk-toggleable__label-arrow\">preprocessor: ColumnTransformer</label><div class=\"sk-toggleable__content\"><pre>ColumnTransformer(transformers=[(&#x27;text&#x27;,\n",
       "                                 Pipeline(steps=[(&#x27;tfidf&#x27;, TfidfVectorizer())]),\n",
       "                                 &#x27;text_&#x27;),\n",
       "                                (&#x27;categorical&#x27;,\n",
       "                                 Pipeline(steps=[(&#x27;create_dummies_cats&#x27;,\n",
       "                                                  OneHotEncoder(drop=&#x27;first&#x27;,\n",
       "                                                                handle_unknown=&#x27;ignore&#x27;))]),\n",
       "                                 [&#x27;category&#x27;])])</pre></div></div></div><div class=\"sk-parallel\"><div class=\"sk-parallel-item\"><div class=\"sk-item\"><div class=\"sk-label-container\"><div class=\"sk-label sk-toggleable\"><input class=\"sk-toggleable__control sk-hidden--visually\" id=\"sk-estimator-id-3\" type=\"checkbox\" ><label for=\"sk-estimator-id-3\" class=\"sk-toggleable__label sk-toggleable__label-arrow\">text</label><div class=\"sk-toggleable__content\"><pre>text_</pre></div></div></div><div class=\"sk-serial\"><div class=\"sk-item\"><div class=\"sk-serial\"><div class=\"sk-item\"><div class=\"sk-estimator sk-toggleable\"><input class=\"sk-toggleable__control sk-hidden--visually\" id=\"sk-estimator-id-4\" type=\"checkbox\" ><label for=\"sk-estimator-id-4\" class=\"sk-toggleable__label sk-toggleable__label-arrow\">TfidfVectorizer</label><div class=\"sk-toggleable__content\"><pre>TfidfVectorizer()</pre></div></div></div></div></div></div></div></div><div class=\"sk-parallel-item\"><div class=\"sk-item\"><div class=\"sk-label-container\"><div class=\"sk-label sk-toggleable\"><input class=\"sk-toggleable__control sk-hidden--visually\" id=\"sk-estimator-id-5\" type=\"checkbox\" ><label for=\"sk-estimator-id-5\" class=\"sk-toggleable__label sk-toggleable__label-arrow\">categorical</label><div class=\"sk-toggleable__content\"><pre>[&#x27;category&#x27;]</pre></div></div></div><div class=\"sk-serial\"><div class=\"sk-item\"><div class=\"sk-serial\"><div class=\"sk-item\"><div class=\"sk-estimator sk-toggleable\"><input class=\"sk-toggleable__control sk-hidden--visually\" id=\"sk-estimator-id-6\" type=\"checkbox\" ><label for=\"sk-estimator-id-6\" class=\"sk-toggleable__label sk-toggleable__label-arrow\">OneHotEncoder</label><div class=\"sk-toggleable__content\"><pre>OneHotEncoder(drop=&#x27;first&#x27;, handle_unknown=&#x27;ignore&#x27;)</pre></div></div></div></div></div></div></div></div></div></div><div class=\"sk-item\"><div class=\"sk-estimator sk-toggleable\"><input class=\"sk-toggleable__control sk-hidden--visually\" id=\"sk-estimator-id-7\" type=\"checkbox\" ><label for=\"sk-estimator-id-7\" class=\"sk-toggleable__label sk-toggleable__label-arrow\">LogisticRegression</label><div class=\"sk-toggleable__content\"><pre>LogisticRegression(penalty=None)</pre></div></div></div></div></div></div></div>"
      ],
      "text/plain": [
       "Pipeline(steps=[('preprocessor',\n",
       "                 ColumnTransformer(transformers=[('text',\n",
       "                                                  Pipeline(steps=[('tfidf',\n",
       "                                                                   TfidfVectorizer())]),\n",
       "                                                  'text_'),\n",
       "                                                 ('categorical',\n",
       "                                                  Pipeline(steps=[('create_dummies_cats',\n",
       "                                                                   OneHotEncoder(drop='first',\n",
       "                                                                                 handle_unknown='ignore'))]),\n",
       "                                                  ['category'])])),\n",
       "                ('logreg', LogisticRegression(penalty=None))])"
      ]
     },
     "execution_count": 25,
     "metadata": {},
     "output_type": "execute_result"
    }
   ],
   "source": [
    "lr_model.fit(X_train, y_train)"
   ]
  },
  {
   "cell_type": "markdown",
   "id": "6e5ca848",
   "metadata": {},
   "source": [
    "### EVALUATION OF TRAINING DATA"
   ]
  },
  {
   "cell_type": "markdown",
   "id": "67fc734d",
   "metadata": {},
   "source": [
    "**The following code is for predicting the probabilities of training dataset using predict_proba function.**"
   ]
  },
  {
   "cell_type": "code",
   "execution_count": 26,
   "id": "ec9fe4c0",
   "metadata": {},
   "outputs": [
    {
     "data": {
      "text/plain": [
       "array([[9.99993629e-01, 6.37107643e-06],\n",
       "       [5.96445116e-09, 9.99999994e-01],\n",
       "       [1.28025279e-09, 9.99999999e-01],\n",
       "       [9.99999970e-01, 2.97445771e-08],\n",
       "       [9.99782619e-01, 2.17380542e-04]])"
      ]
     },
     "execution_count": 26,
     "metadata": {},
     "output_type": "execute_result"
    }
   ],
   "source": [
    "y_train_predictions = lr_model.predict_proba(X_train)\n",
    "y_train_predictions[:5]"
   ]
  },
  {
   "cell_type": "markdown",
   "id": "b03b7511",
   "metadata": {},
   "source": [
    "**The following code is used to plot the histogram for the training predictions with the legend values Yes and No.**"
   ]
  },
  {
   "cell_type": "code",
   "execution_count": 27,
   "id": "f23b718d",
   "metadata": {},
   "outputs": [
    {
     "data": {
      "image/png": "[encoded data removed]",
      "text/plain": [
       "<Figure size 432x288 with 1 Axes>"
      ]
     },
     "metadata": {
      "needs_background": "light"
     },
     "output_type": "display_data"
    }
   ],
   "source": [
    "plt.hist(y_train_predictions)\n",
    "plt.legend(['Yes', 'No'])\n",
    "plt.show()"
   ]
  },
  {
   "cell_type": "markdown",
   "id": "6727e93e",
   "metadata": {},
   "source": [
    "**The below code is used to find the confusion matrix of training data and predictions of training data.**"
   ]
  },
  {
   "cell_type": "code",
   "execution_count": 28,
   "id": "dccd4184",
   "metadata": {},
   "outputs": [
    {
     "name": "stdout",
     "output_type": "stream",
     "text": [
      "[[15893   341]\n",
      " [  365 15746]]\n"
     ]
    }
   ],
   "source": [
    "from sklearn.metrics import confusion_matrix\n",
    "\n",
    "y_train_predictions = lr_model.predict(X_train)\n",
    "\n",
    "print(confusion_matrix(y_train, y_train_predictions))"
   ]
  },
  {
   "cell_type": "markdown",
   "id": "39a447ac",
   "metadata": {},
   "source": [
    "**From the above code, it is clear that true positive and true negative values are high which means the model can be a good fit for the data.**"
   ]
  },
  {
   "cell_type": "code",
   "execution_count": 29,
   "id": "9059bb48",
   "metadata": {},
   "outputs": [
    {
     "data": {
      "text/plain": [
       "0.9781696869094227"
      ]
     },
     "execution_count": 29,
     "metadata": {},
     "output_type": "execute_result"
    }
   ],
   "source": [
    "from sklearn.metrics import roc_auc_score\n",
    "\n",
    "roc_auc_score(y_train, y_train_predictions)"
   ]
  },
  {
   "cell_type": "code",
   "execution_count": 30,
   "id": "483e026b",
   "metadata": {},
   "outputs": [
    {
     "name": "stdout",
     "output_type": "stream",
     "text": [
      "              precision    recall  f1-score   support\n",
      "\n",
      "           0       0.98      0.98      0.98     16234\n",
      "           1       0.98      0.98      0.98     16111\n",
      "\n",
      "    accuracy                           0.98     32345\n",
      "   macro avg       0.98      0.98      0.98     32345\n",
      "weighted avg       0.98      0.98      0.98     32345\n",
      "\n"
     ]
    }
   ],
   "source": [
    "from sklearn.metrics import classification_report\n",
    "print(classification_report(y_train, y_train_predictions))"
   ]
  },
  {
   "cell_type": "markdown",
   "id": "70f5afd9",
   "metadata": {},
   "source": [
    "**Logistic Regression model for this training data has an accuracy of 98 percent.**"
   ]
  },
  {
   "cell_type": "markdown",
   "id": "9b2a807f",
   "metadata": {},
   "source": [
    "### EVALUATION FOR TESTING DATA"
   ]
  },
  {
   "cell_type": "markdown",
   "id": "e550c5b3",
   "metadata": {},
   "source": [
    "**The following code is for predicting the probabilities of testing dataset using predict_proba function.**"
   ]
  },
  {
   "cell_type": "code",
   "execution_count": 31,
   "id": "b5237077",
   "metadata": {},
   "outputs": [
    {
     "data": {
      "text/plain": [
       "array([[9.99999587e-01, 4.13031003e-07],\n",
       "       [9.99959302e-01, 4.06983727e-05],\n",
       "       [9.54224711e-05, 9.99904578e-01],\n",
       "       [9.90372047e-01, 9.62795264e-03],\n",
       "       [7.14977447e-01, 2.85022553e-01]])"
      ]
     },
     "execution_count": 31,
     "metadata": {},
     "output_type": "execute_result"
    }
   ],
   "source": [
    "y_test_predictions = lr_model.predict_proba(X_test)\n",
    "y_test_predictions[:5]"
   ]
  },
  {
   "cell_type": "markdown",
   "id": "5ab4336b",
   "metadata": {},
   "source": [
    "**The following code is used to plot the histogram for the testing predictions with the legend values Yes and No.**"
   ]
  },
  {
   "cell_type": "code",
   "execution_count": 32,
   "id": "01fd7236",
   "metadata": {},
   "outputs": [
    {
     "data": {
      "image/png": "[encoded data removed]",
      "text/plain": [
       "<Figure size 432x288 with 1 Axes>"
      ]
     },
     "metadata": {
      "needs_background": "light"
     },
     "output_type": "display_data"
    }
   ],
   "source": [
    "plt.hist(y_test_predictions)\n",
    "plt.legend(['Yes', 'No'])\n",
    "plt.show()"
   ]
  },
  {
   "cell_type": "markdown",
   "id": "cd8d8b00",
   "metadata": {},
   "source": [
    "**The below code is used to find the confusion matrix of testing data and predictions of testing data.**"
   ]
  },
  {
   "cell_type": "code",
   "execution_count": 33,
   "id": "7b1bfb09",
   "metadata": {},
   "outputs": [
    {
     "name": "stdout",
     "output_type": "stream",
     "text": [
      "[[3585  397]\n",
      " [ 475 3630]]\n"
     ]
    }
   ],
   "source": [
    "from sklearn.metrics import confusion_matrix\n",
    "\n",
    "y_test_predictions = lr_model.predict(X_test)\n",
    "\n",
    "print(confusion_matrix(y_test, y_test_predictions))"
   ]
  },
  {
   "cell_type": "markdown",
   "id": "6c728948",
   "metadata": {},
   "source": [
    "**From the above code, it is clear that true positive and true negative values are high which means the model can be a good fit for the testing data also.**"
   ]
  },
  {
   "cell_type": "code",
   "execution_count": 34,
   "id": "09badc52",
   "metadata": {},
   "outputs": [
    {
     "data": {
      "text/plain": [
       "0.8922944052132281"
      ]
     },
     "execution_count": 34,
     "metadata": {},
     "output_type": "execute_result"
    }
   ],
   "source": [
    "from sklearn.metrics import roc_auc_score\n",
    "\n",
    "roc_auc_score(y_test, y_test_predictions)"
   ]
  },
  {
   "cell_type": "code",
   "execution_count": 35,
   "id": "5a275cf9",
   "metadata": {},
   "outputs": [
    {
     "name": "stdout",
     "output_type": "stream",
     "text": [
      "              precision    recall  f1-score   support\n",
      "\n",
      "           0       0.88      0.90      0.89      3982\n",
      "           1       0.90      0.88      0.89      4105\n",
      "\n",
      "    accuracy                           0.89      8087\n",
      "   macro avg       0.89      0.89      0.89      8087\n",
      "weighted avg       0.89      0.89      0.89      8087\n",
      "\n"
     ]
    }
   ],
   "source": [
    "from sklearn.metrics import classification_report\n",
    "print(classification_report(y_test, y_test_predictions))"
   ]
  },
  {
   "cell_type": "markdown",
   "id": "c0eb4a3e",
   "metadata": {},
   "source": [
    "**Logistic Regression model for this testing data has an accuracy of 89 percent.**"
   ]
  },
  {
   "cell_type": "code",
   "execution_count": 36,
   "id": "15e63bd9",
   "metadata": {},
   "outputs": [
    {
     "name": "stdout",
     "output_type": "stream",
     "text": [
      "Accuracy of logistic regression of training dataset is:  97.81728242386768\n"
     ]
    }
   ],
   "source": [
    "from sklearn.metrics import accuracy_score\n",
    "\n",
    "log_train_accuracy = accuracy_score(y_train,y_train_predictions)\n",
    "\n",
    "print(\"Accuracy of logistic regression of training dataset is: \",log_train_accuracy*100)"
   ]
  },
  {
   "cell_type": "code",
   "execution_count": 37,
   "id": "b1aeb25d",
   "metadata": {},
   "outputs": [
    {
     "name": "stdout",
     "output_type": "stream",
     "text": [
      "Accuracy of logistic regression of testing dataset is:  89.21726227278349\n"
     ]
    }
   ],
   "source": [
    "from sklearn.metrics import accuracy_score\n",
    "\n",
    "log_test_accuracy = accuracy_score(y_test,y_test_predictions)\n",
    "\n",
    "print(\"Accuracy of logistic regression of testing dataset is: \",log_test_accuracy*100)"
   ]
  },
  {
   "cell_type": "markdown",
   "id": "d5a391e8",
   "metadata": {},
   "source": [
    "**The training data accuarcy is 97.8 and testing data is 89 which means the model is slightly overfitted (good for already known data but not for new data) for the data.** "
   ]
  },
  {
   "cell_type": "markdown",
   "id": "7b1be4f7",
   "metadata": {},
   "source": [
    "# DECISION TREE "
   ]
  },
  {
   "cell_type": "markdown",
   "id": "feaf976d",
   "metadata": {},
   "source": [
    "**The following code is used to implement Decision Tree Classifier model which implements the pipelines preprocessor and model.**"
   ]
  },
  {
   "cell_type": "code",
   "execution_count": 38,
   "id": "97362f16",
   "metadata": {},
   "outputs": [],
   "source": [
    "from sklearn.tree import DecisionTreeClassifier\n",
    "\n",
    "dt_modeling_pipeline = Pipeline([\n",
    "    ('preprocessor', preprocessor),\n",
    "    ('dt', DecisionTreeClassifier())  # decision tree classifier\n",
    "])"
   ]
  },
  {
   "cell_type": "markdown",
   "id": "6b4ad822",
   "metadata": {},
   "source": [
    "**The below code is for fitting the data into decision tree model.**"
   ]
  },
  {
   "cell_type": "code",
   "execution_count": 39,
   "id": "e8e56682",
   "metadata": {},
   "outputs": [
    {
     "data": {
      "text/html": [
       "<style>#sk-container-id-2 {color: black;background-color: white;}#sk-container-id-2 pre{padding: 0;}#sk-container-id-2 div.sk-toggleable {background-color: white;}#sk-container-id-2 label.sk-toggleable__label {cursor: pointer;display: block;width: 100%;margin-bottom: 0;padding: 0.3em;box-sizing: border-box;text-align: center;}#sk-container-id-2 label.sk-toggleable__label-arrow:before {content: \"▸\";float: left;margin-right: 0.25em;color: #696969;}#sk-container-id-2 label.sk-toggleable__label-arrow:hover:before {color: black;}#sk-container-id-2 div.sk-estimator:hover label.sk-toggleable__label-arrow:before {color: black;}#sk-container-id-2 div.sk-toggleable__content {max-height: 0;max-width: 0;overflow: hidden;text-align: left;background-color: #f0f8ff;}#sk-container-id-2 div.sk-toggleable__content pre {margin: 0.2em;color: black;border-radius: 0.25em;background-color: #f0f8ff;}#sk-container-id-2 input.sk-toggleable__control:checked~div.sk-toggleable__content {max-height: 200px;max-width: 100%;overflow: auto;}#sk-container-id-2 input.sk-toggleable__control:checked~label.sk-toggleable__label-arrow:before {content: \"▾\";}#sk-container-id-2 div.sk-estimator input.sk-toggleable__control:checked~label.sk-toggleable__label {background-color: #d4ebff;}#sk-container-id-2 div.sk-label input.sk-toggleable__control:checked~label.sk-toggleable__label {background-color: #d4ebff;}#sk-container-id-2 input.sk-hidden--visually {border: 0;clip: rect(1px 1px 1px 1px);clip: rect(1px, 1px, 1px, 1px);height: 1px;margin: -1px;overflow: hidden;padding: 0;position: absolute;width: 1px;}#sk-container-id-2 div.sk-estimator {font-family: monospace;background-color: #f0f8ff;border: 1px dotted black;border-radius: 0.25em;box-sizing: border-box;margin-bottom: 0.5em;}#sk-container-id-2 div.sk-estimator:hover {background-color: #d4ebff;}#sk-container-id-2 div.sk-parallel-item::after {content: \"\";width: 100%;border-bottom: 1px solid gray;flex-grow: 1;}#sk-container-id-2 div.sk-label:hover label.sk-toggleable__label {background-color: #d4ebff;}#sk-container-id-2 div.sk-serial::before {content: \"\";position: absolute;border-left: 1px solid gray;box-sizing: border-box;top: 0;bottom: 0;left: 50%;z-index: 0;}#sk-container-id-2 div.sk-serial {display: flex;flex-direction: column;align-items: center;background-color: white;padding-right: 0.2em;padding-left: 0.2em;position: relative;}#sk-container-id-2 div.sk-item {position: relative;z-index: 1;}#sk-container-id-2 div.sk-parallel {display: flex;align-items: stretch;justify-content: center;background-color: white;position: relative;}#sk-container-id-2 div.sk-item::before, #sk-container-id-2 div.sk-parallel-item::before {content: \"\";position: absolute;border-left: 1px solid gray;box-sizing: border-box;top: 0;bottom: 0;left: 50%;z-index: -1;}#sk-container-id-2 div.sk-parallel-item {display: flex;flex-direction: column;z-index: 1;position: relative;background-color: white;}#sk-container-id-2 div.sk-parallel-item:first-child::after {align-self: flex-end;width: 50%;}#sk-container-id-2 div.sk-parallel-item:last-child::after {align-self: flex-start;width: 50%;}#sk-container-id-2 div.sk-parallel-item:only-child::after {width: 0;}#sk-container-id-2 div.sk-dashed-wrapped {border: 1px dashed gray;margin: 0 0.4em 0.5em 0.4em;box-sizing: border-box;padding-bottom: 0.4em;background-color: white;}#sk-container-id-2 div.sk-label label {font-family: monospace;font-weight: bold;display: inline-block;line-height: 1.2em;}#sk-container-id-2 div.sk-label-container {text-align: center;}#sk-container-id-2 div.sk-container {/* jupyter's `normalize.less` sets `[hidden] { display: none; }` but bootstrap.min.css set `[hidden] { display: none !important; }` so we also need the `!important` here to be able to override the default hidden behavior on the sphinx rendered scikit-learn.org. See: https://github.com/scikit-learn/scikit-learn/issues/21755 */display: inline-block !important;position: relative;}#sk-container-id-2 div.sk-text-repr-fallback {display: none;}</style><div id=\"sk-container-id-2\" class=\"sk-top-container\"><div class=\"sk-text-repr-fallback\"><pre>Pipeline(steps=[(&#x27;preprocessor&#x27;,\n",
       "                 ColumnTransformer(transformers=[(&#x27;text&#x27;,\n",
       "                                                  Pipeline(steps=[(&#x27;tfidf&#x27;,\n",
       "                                                                   TfidfVectorizer())]),\n",
       "                                                  &#x27;text_&#x27;),\n",
       "                                                 (&#x27;categorical&#x27;,\n",
       "                                                  Pipeline(steps=[(&#x27;create_dummies_cats&#x27;,\n",
       "                                                                   OneHotEncoder(drop=&#x27;first&#x27;,\n",
       "                                                                                 handle_unknown=&#x27;ignore&#x27;))]),\n",
       "                                                  [&#x27;category&#x27;])])),\n",
       "                (&#x27;dt&#x27;, DecisionTreeClassifier())])</pre><b>In a Jupyter environment, please rerun this cell to show the HTML representation or trust the notebook. <br />On GitHub, the HTML representation is unable to render, please try loading this page with nbviewer.org.</b></div><div class=\"sk-container\" hidden><div class=\"sk-item sk-dashed-wrapped\"><div class=\"sk-label-container\"><div class=\"sk-label sk-toggleable\"><input class=\"sk-toggleable__control sk-hidden--visually\" id=\"sk-estimator-id-8\" type=\"checkbox\" ><label for=\"sk-estimator-id-8\" class=\"sk-toggleable__label sk-toggleable__label-arrow\">Pipeline</label><div class=\"sk-toggleable__content\"><pre>Pipeline(steps=[(&#x27;preprocessor&#x27;,\n",
       "                 ColumnTransformer(transformers=[(&#x27;text&#x27;,\n",
       "                                                  Pipeline(steps=[(&#x27;tfidf&#x27;,\n",
       "                                                                   TfidfVectorizer())]),\n",
       "                                                  &#x27;text_&#x27;),\n",
       "                                                 (&#x27;categorical&#x27;,\n",
       "                                                  Pipeline(steps=[(&#x27;create_dummies_cats&#x27;,\n",
       "                                                                   OneHotEncoder(drop=&#x27;first&#x27;,\n",
       "                                                                                 handle_unknown=&#x27;ignore&#x27;))]),\n",
       "                                                  [&#x27;category&#x27;])])),\n",
       "                (&#x27;dt&#x27;, DecisionTreeClassifier())])</pre></div></div></div><div class=\"sk-serial\"><div class=\"sk-item sk-dashed-wrapped\"><div class=\"sk-label-container\"><div class=\"sk-label sk-toggleable\"><input class=\"sk-toggleable__control sk-hidden--visually\" id=\"sk-estimator-id-9\" type=\"checkbox\" ><label for=\"sk-estimator-id-9\" class=\"sk-toggleable__label sk-toggleable__label-arrow\">preprocessor: ColumnTransformer</label><div class=\"sk-toggleable__content\"><pre>ColumnTransformer(transformers=[(&#x27;text&#x27;,\n",
       "                                 Pipeline(steps=[(&#x27;tfidf&#x27;, TfidfVectorizer())]),\n",
       "                                 &#x27;text_&#x27;),\n",
       "                                (&#x27;categorical&#x27;,\n",
       "                                 Pipeline(steps=[(&#x27;create_dummies_cats&#x27;,\n",
       "                                                  OneHotEncoder(drop=&#x27;first&#x27;,\n",
       "                                                                handle_unknown=&#x27;ignore&#x27;))]),\n",
       "                                 [&#x27;category&#x27;])])</pre></div></div></div><div class=\"sk-parallel\"><div class=\"sk-parallel-item\"><div class=\"sk-item\"><div class=\"sk-label-container\"><div class=\"sk-label sk-toggleable\"><input class=\"sk-toggleable__control sk-hidden--visually\" id=\"sk-estimator-id-10\" type=\"checkbox\" ><label for=\"sk-estimator-id-10\" class=\"sk-toggleable__label sk-toggleable__label-arrow\">text</label><div class=\"sk-toggleable__content\"><pre>text_</pre></div></div></div><div class=\"sk-serial\"><div class=\"sk-item\"><div class=\"sk-serial\"><div class=\"sk-item\"><div class=\"sk-estimator sk-toggleable\"><input class=\"sk-toggleable__control sk-hidden--visually\" id=\"sk-estimator-id-11\" type=\"checkbox\" ><label for=\"sk-estimator-id-11\" class=\"sk-toggleable__label sk-toggleable__label-arrow\">TfidfVectorizer</label><div class=\"sk-toggleable__content\"><pre>TfidfVectorizer()</pre></div></div></div></div></div></div></div></div><div class=\"sk-parallel-item\"><div class=\"sk-item\"><div class=\"sk-label-container\"><div class=\"sk-label sk-toggleable\"><input class=\"sk-toggleable__control sk-hidden--visually\" id=\"sk-estimator-id-12\" type=\"checkbox\" ><label for=\"sk-estimator-id-12\" class=\"sk-toggleable__label sk-toggleable__label-arrow\">categorical</label><div class=\"sk-toggleable__content\"><pre>[&#x27;category&#x27;]</pre></div></div></div><div class=\"sk-serial\"><div class=\"sk-item\"><div class=\"sk-serial\"><div class=\"sk-item\"><div class=\"sk-estimator sk-toggleable\"><input class=\"sk-toggleable__control sk-hidden--visually\" id=\"sk-estimator-id-13\" type=\"checkbox\" ><label for=\"sk-estimator-id-13\" class=\"sk-toggleable__label sk-toggleable__label-arrow\">OneHotEncoder</label><div class=\"sk-toggleable__content\"><pre>OneHotEncoder(drop=&#x27;first&#x27;, handle_unknown=&#x27;ignore&#x27;)</pre></div></div></div></div></div></div></div></div></div></div><div class=\"sk-item\"><div class=\"sk-estimator sk-toggleable\"><input class=\"sk-toggleable__control sk-hidden--visually\" id=\"sk-estimator-id-14\" type=\"checkbox\" ><label for=\"sk-estimator-id-14\" class=\"sk-toggleable__label sk-toggleable__label-arrow\">DecisionTreeClassifier</label><div class=\"sk-toggleable__content\"><pre>DecisionTreeClassifier()</pre></div></div></div></div></div></div></div>"
      ],
      "text/plain": [
       "Pipeline(steps=[('preprocessor',\n",
       "                 ColumnTransformer(transformers=[('text',\n",
       "                                                  Pipeline(steps=[('tfidf',\n",
       "                                                                   TfidfVectorizer())]),\n",
       "                                                  'text_'),\n",
       "                                                 ('categorical',\n",
       "                                                  Pipeline(steps=[('create_dummies_cats',\n",
       "                                                                   OneHotEncoder(drop='first',\n",
       "                                                                                 handle_unknown='ignore'))]),\n",
       "                                                  ['category'])])),\n",
       "                ('dt', DecisionTreeClassifier())])"
      ]
     },
     "execution_count": 39,
     "metadata": {},
     "output_type": "execute_result"
    }
   ],
   "source": [
    "dt_modeling_pipeline.fit(X_train, y_train)"
   ]
  },
  {
   "cell_type": "markdown",
   "id": "86b09b1b",
   "metadata": {},
   "source": [
    "**The following code is for predicting the probabilities of training dataset using predict_proba function.**"
   ]
  },
  {
   "cell_type": "markdown",
   "id": "db81bb72",
   "metadata": {},
   "source": [
    "## EVALUATION OF TRAINING DATA"
   ]
  },
  {
   "cell_type": "code",
   "execution_count": 40,
   "id": "e6cb992c",
   "metadata": {},
   "outputs": [
    {
     "data": {
      "text/plain": [
       "array([[1., 0.],\n",
       "       [0., 1.],\n",
       "       [0., 1.],\n",
       "       [1., 0.],\n",
       "       [1., 0.]])"
      ]
     },
     "execution_count": 40,
     "metadata": {},
     "output_type": "execute_result"
    }
   ],
   "source": [
    "y_pred = dt_modeling_pipeline.predict_proba(X_train)\n",
    "y_pred[:5]"
   ]
  },
  {
   "cell_type": "markdown",
   "id": "7488570d",
   "metadata": {},
   "source": [
    "**The following code is used to plot the histogram for the predictions of the data.**"
   ]
  },
  {
   "cell_type": "code",
   "execution_count": 41,
   "id": "0eebd16c",
   "metadata": {},
   "outputs": [
    {
     "data": {
      "image/png": "[encoded data removed]",
      "text/plain": [
       "<Figure size 432x288 with 1 Axes>"
      ]
     },
     "metadata": {
      "needs_background": "light"
     },
     "output_type": "display_data"
    }
   ],
   "source": [
    "plt.hist(y_pred)\n",
    "plt.legend(['Yes', 'No'])\n",
    "plt.show()"
   ]
  },
  {
   "cell_type": "markdown",
   "id": "66c4025a",
   "metadata": {},
   "source": [
    "**The below code is used to get the confusion matrix of the training data.**"
   ]
  },
  {
   "cell_type": "code",
   "execution_count": 42,
   "id": "13f4d754",
   "metadata": {},
   "outputs": [
    {
     "name": "stdout",
     "output_type": "stream",
     "text": [
      "[[16234     0]\n",
      " [    0 16111]]\n"
     ]
    }
   ],
   "source": [
    "from sklearn.metrics import confusion_matrix\n",
    "\n",
    "y_train_pred = dt_modeling_pipeline.predict(X_train)\n",
    "\n",
    "print(confusion_matrix(y_train, y_train_pred))"
   ]
  },
  {
   "cell_type": "markdown",
   "id": "a8e54e5e",
   "metadata": {},
   "source": [
    "**The above code output clearly states that there are values only for true positive and true negative which means the model best fits the data.**"
   ]
  },
  {
   "cell_type": "code",
   "execution_count": 43,
   "id": "4f6bfc78",
   "metadata": {},
   "outputs": [
    {
     "name": "stdout",
     "output_type": "stream",
     "text": [
      "Accuracy of decision tree is:  100.0\n"
     ]
    }
   ],
   "source": [
    "from sklearn.metrics import accuracy_score\n",
    "\n",
    "dt_train_accuracy = accuracy_score(y_train,y_train_pred)\n",
    "\n",
    "print(\"Accuracy of decision tree is: \",dt_train_accuracy*100)"
   ]
  },
  {
   "cell_type": "markdown",
   "id": "55a43914",
   "metadata": {},
   "source": [
    "**From the above code, it is clear that training data accuracy of the model is 100.**"
   ]
  },
  {
   "cell_type": "markdown",
   "id": "9af3c4a0",
   "metadata": {},
   "source": [
    "**The below code is used to implement the classification report of the training data.**"
   ]
  },
  {
   "cell_type": "code",
   "execution_count": 44,
   "id": "eff6852a",
   "metadata": {},
   "outputs": [
    {
     "name": "stdout",
     "output_type": "stream",
     "text": [
      "              precision    recall  f1-score   support\n",
      "\n",
      "           0       1.00      1.00      1.00     16234\n",
      "           1       1.00      1.00      1.00     16111\n",
      "\n",
      "    accuracy                           1.00     32345\n",
      "   macro avg       1.00      1.00      1.00     32345\n",
      "weighted avg       1.00      1.00      1.00     32345\n",
      "\n"
     ]
    }
   ],
   "source": [
    "report = classification_report(y_train, y_train_pred)\n",
    "print(report)"
   ]
  },
  {
   "cell_type": "markdown",
   "id": "c388e68c",
   "metadata": {},
   "source": [
    "**The below code is used to get the confusion matrix of the testing data.**"
   ]
  },
  {
   "cell_type": "markdown",
   "id": "33f457a4",
   "metadata": {},
   "source": [
    "## EVALUATION OF TESTING DATA"
   ]
  },
  {
   "cell_type": "code",
   "execution_count": 45,
   "id": "7c3df0a0",
   "metadata": {},
   "outputs": [
    {
     "name": "stdout",
     "output_type": "stream",
     "text": [
      "[[3132  850]\n",
      " [ 986 3119]]\n"
     ]
    }
   ],
   "source": [
    "from sklearn.metrics import confusion_matrix\n",
    "\n",
    "y_test_pred = dt_modeling_pipeline.predict(X_test)\n",
    "\n",
    "print(confusion_matrix(y_test, y_test_pred))"
   ]
  },
  {
   "cell_type": "markdown",
   "id": "d13da50f",
   "metadata": {},
   "source": [
    "**The above code output clearly states that there are values only for true positive and true negative which means the model might best fits the data.**"
   ]
  },
  {
   "cell_type": "code",
   "execution_count": 46,
   "id": "93cc4210",
   "metadata": {},
   "outputs": [
    {
     "name": "stdout",
     "output_type": "stream",
     "text": [
      "Accuracy of decision tree is:  77.29689625324595\n"
     ]
    }
   ],
   "source": [
    "from sklearn.metrics import accuracy_score\n",
    "\n",
    "dt_test_accuracy = accuracy_score(y_test,y_test_pred)\n",
    "\n",
    "print(\"Accuracy of decision tree is: \",dt_test_accuracy*100)"
   ]
  },
  {
   "cell_type": "markdown",
   "id": "05155a72",
   "metadata": {},
   "source": [
    "**From the above code, it is clear that testing data accuracy of the model is 77.**"
   ]
  },
  {
   "cell_type": "code",
   "execution_count": 47,
   "id": "03fa5008",
   "metadata": {},
   "outputs": [
    {
     "name": "stdout",
     "output_type": "stream",
     "text": [
      "              precision    recall  f1-score   support\n",
      "\n",
      "           0       0.76      0.79      0.77      3982\n",
      "           1       0.79      0.76      0.77      4105\n",
      "\n",
      "    accuracy                           0.77      8087\n",
      "   macro avg       0.77      0.77      0.77      8087\n",
      "weighted avg       0.77      0.77      0.77      8087\n",
      "\n"
     ]
    }
   ],
   "source": [
    "report = classification_report(y_test, y_test_pred)\n",
    "print(report)"
   ]
  },
  {
   "cell_type": "markdown",
   "id": "69fa382f",
   "metadata": {},
   "source": [
    "**Decision Tree model has a training accuracy of 100 and testing accuracy of 77 which means that the model is overfitted for the data and this model cannot be the best fit for the data.**"
   ]
  },
  {
   "cell_type": "markdown",
   "id": "7d4bce6d",
   "metadata": {},
   "source": [
    "# RANDOM FOREST"
   ]
  },
  {
   "cell_type": "markdown",
   "id": "0f6aa3ff",
   "metadata": {},
   "source": [
    "**The following code is used to implement the data preprocessor and random forest classifier model.** "
   ]
  },
  {
   "cell_type": "code",
   "execution_count": 48,
   "id": "d00574c6",
   "metadata": {},
   "outputs": [],
   "source": [
    "from sklearn.ensemble import RandomForestClassifier\n",
    "\n",
    "rf_modeling_pipeline = Pipeline([\n",
    "    ('preprocessor', preprocessor), \n",
    "    ('classifier', RandomForestClassifier(n_estimators=100, random_state=120))  # Random Forest Classifier\n",
    "])"
   ]
  },
  {
   "cell_type": "markdown",
   "id": "70028522",
   "metadata": {},
   "source": [
    "**The below code is used to fit the model for the data.**"
   ]
  },
  {
   "cell_type": "code",
   "execution_count": 49,
   "id": "4fc8aeb2",
   "metadata": {},
   "outputs": [
    {
     "data": {
      "text/html": [
       "<style>#sk-container-id-3 {color: black;background-color: white;}#sk-container-id-3 pre{padding: 0;}#sk-container-id-3 div.sk-toggleable {background-color: white;}#sk-container-id-3 label.sk-toggleable__label {cursor: pointer;display: block;width: 100%;margin-bottom: 0;padding: 0.3em;box-sizing: border-box;text-align: center;}#sk-container-id-3 label.sk-toggleable__label-arrow:before {content: \"▸\";float: left;margin-right: 0.25em;color: #696969;}#sk-container-id-3 label.sk-toggleable__label-arrow:hover:before {color: black;}#sk-container-id-3 div.sk-estimator:hover label.sk-toggleable__label-arrow:before {color: black;}#sk-container-id-3 div.sk-toggleable__content {max-height: 0;max-width: 0;overflow: hidden;text-align: left;background-color: #f0f8ff;}#sk-container-id-3 div.sk-toggleable__content pre {margin: 0.2em;color: black;border-radius: 0.25em;background-color: #f0f8ff;}#sk-container-id-3 input.sk-toggleable__control:checked~div.sk-toggleable__content {max-height: 200px;max-width: 100%;overflow: auto;}#sk-container-id-3 input.sk-toggleable__control:checked~label.sk-toggleable__label-arrow:before {content: \"▾\";}#sk-container-id-3 div.sk-estimator input.sk-toggleable__control:checked~label.sk-toggleable__label {background-color: #d4ebff;}#sk-container-id-3 div.sk-label input.sk-toggleable__control:checked~label.sk-toggleable__label {background-color: #d4ebff;}#sk-container-id-3 input.sk-hidden--visually {border: 0;clip: rect(1px 1px 1px 1px);clip: rect(1px, 1px, 1px, 1px);height: 1px;margin: -1px;overflow: hidden;padding: 0;position: absolute;width: 1px;}#sk-container-id-3 div.sk-estimator {font-family: monospace;background-color: #f0f8ff;border: 1px dotted black;border-radius: 0.25em;box-sizing: border-box;margin-bottom: 0.5em;}#sk-container-id-3 div.sk-estimator:hover {background-color: #d4ebff;}#sk-container-id-3 div.sk-parallel-item::after {content: \"\";width: 100%;border-bottom: 1px solid gray;flex-grow: 1;}#sk-container-id-3 div.sk-label:hover label.sk-toggleable__label {background-color: #d4ebff;}#sk-container-id-3 div.sk-serial::before {content: \"\";position: absolute;border-left: 1px solid gray;box-sizing: border-box;top: 0;bottom: 0;left: 50%;z-index: 0;}#sk-container-id-3 div.sk-serial {display: flex;flex-direction: column;align-items: center;background-color: white;padding-right: 0.2em;padding-left: 0.2em;position: relative;}#sk-container-id-3 div.sk-item {position: relative;z-index: 1;}#sk-container-id-3 div.sk-parallel {display: flex;align-items: stretch;justify-content: center;background-color: white;position: relative;}#sk-container-id-3 div.sk-item::before, #sk-container-id-3 div.sk-parallel-item::before {content: \"\";position: absolute;border-left: 1px solid gray;box-sizing: border-box;top: 0;bottom: 0;left: 50%;z-index: -1;}#sk-container-id-3 div.sk-parallel-item {display: flex;flex-direction: column;z-index: 1;position: relative;background-color: white;}#sk-container-id-3 div.sk-parallel-item:first-child::after {align-self: flex-end;width: 50%;}#sk-container-id-3 div.sk-parallel-item:last-child::after {align-self: flex-start;width: 50%;}#sk-container-id-3 div.sk-parallel-item:only-child::after {width: 0;}#sk-container-id-3 div.sk-dashed-wrapped {border: 1px dashed gray;margin: 0 0.4em 0.5em 0.4em;box-sizing: border-box;padding-bottom: 0.4em;background-color: white;}#sk-container-id-3 div.sk-label label {font-family: monospace;font-weight: bold;display: inline-block;line-height: 1.2em;}#sk-container-id-3 div.sk-label-container {text-align: center;}#sk-container-id-3 div.sk-container {/* jupyter's `normalize.less` sets `[hidden] { display: none; }` but bootstrap.min.css set `[hidden] { display: none !important; }` so we also need the `!important` here to be able to override the default hidden behavior on the sphinx rendered scikit-learn.org. See: https://github.com/scikit-learn/scikit-learn/issues/21755 */display: inline-block !important;position: relative;}#sk-container-id-3 div.sk-text-repr-fallback {display: none;}</style><div id=\"sk-container-id-3\" class=\"sk-top-container\"><div class=\"sk-text-repr-fallback\"><pre>Pipeline(steps=[(&#x27;preprocessor&#x27;,\n",
       "                 ColumnTransformer(transformers=[(&#x27;text&#x27;,\n",
       "                                                  Pipeline(steps=[(&#x27;tfidf&#x27;,\n",
       "                                                                   TfidfVectorizer())]),\n",
       "                                                  &#x27;text_&#x27;),\n",
       "                                                 (&#x27;categorical&#x27;,\n",
       "                                                  Pipeline(steps=[(&#x27;create_dummies_cats&#x27;,\n",
       "                                                                   OneHotEncoder(drop=&#x27;first&#x27;,\n",
       "                                                                                 handle_unknown=&#x27;ignore&#x27;))]),\n",
       "                                                  [&#x27;category&#x27;])])),\n",
       "                (&#x27;classifier&#x27;, RandomForestClassifier(random_state=120))])</pre><b>In a Jupyter environment, please rerun this cell to show the HTML representation or trust the notebook. <br />On GitHub, the HTML representation is unable to render, please try loading this page with nbviewer.org.</b></div><div class=\"sk-container\" hidden><div class=\"sk-item sk-dashed-wrapped\"><div class=\"sk-label-container\"><div class=\"sk-label sk-toggleable\"><input class=\"sk-toggleable__control sk-hidden--visually\" id=\"sk-estimator-id-15\" type=\"checkbox\" ><label for=\"sk-estimator-id-15\" class=\"sk-toggleable__label sk-toggleable__label-arrow\">Pipeline</label><div class=\"sk-toggleable__content\"><pre>Pipeline(steps=[(&#x27;preprocessor&#x27;,\n",
       "                 ColumnTransformer(transformers=[(&#x27;text&#x27;,\n",
       "                                                  Pipeline(steps=[(&#x27;tfidf&#x27;,\n",
       "                                                                   TfidfVectorizer())]),\n",
       "                                                  &#x27;text_&#x27;),\n",
       "                                                 (&#x27;categorical&#x27;,\n",
       "                                                  Pipeline(steps=[(&#x27;create_dummies_cats&#x27;,\n",
       "                                                                   OneHotEncoder(drop=&#x27;first&#x27;,\n",
       "                                                                                 handle_unknown=&#x27;ignore&#x27;))]),\n",
       "                                                  [&#x27;category&#x27;])])),\n",
       "                (&#x27;classifier&#x27;, RandomForestClassifier(random_state=120))])</pre></div></div></div><div class=\"sk-serial\"><div class=\"sk-item sk-dashed-wrapped\"><div class=\"sk-label-container\"><div class=\"sk-label sk-toggleable\"><input class=\"sk-toggleable__control sk-hidden--visually\" id=\"sk-estimator-id-16\" type=\"checkbox\" ><label for=\"sk-estimator-id-16\" class=\"sk-toggleable__label sk-toggleable__label-arrow\">preprocessor: ColumnTransformer</label><div class=\"sk-toggleable__content\"><pre>ColumnTransformer(transformers=[(&#x27;text&#x27;,\n",
       "                                 Pipeline(steps=[(&#x27;tfidf&#x27;, TfidfVectorizer())]),\n",
       "                                 &#x27;text_&#x27;),\n",
       "                                (&#x27;categorical&#x27;,\n",
       "                                 Pipeline(steps=[(&#x27;create_dummies_cats&#x27;,\n",
       "                                                  OneHotEncoder(drop=&#x27;first&#x27;,\n",
       "                                                                handle_unknown=&#x27;ignore&#x27;))]),\n",
       "                                 [&#x27;category&#x27;])])</pre></div></div></div><div class=\"sk-parallel\"><div class=\"sk-parallel-item\"><div class=\"sk-item\"><div class=\"sk-label-container\"><div class=\"sk-label sk-toggleable\"><input class=\"sk-toggleable__control sk-hidden--visually\" id=\"sk-estimator-id-17\" type=\"checkbox\" ><label for=\"sk-estimator-id-17\" class=\"sk-toggleable__label sk-toggleable__label-arrow\">text</label><div class=\"sk-toggleable__content\"><pre>text_</pre></div></div></div><div class=\"sk-serial\"><div class=\"sk-item\"><div class=\"sk-serial\"><div class=\"sk-item\"><div class=\"sk-estimator sk-toggleable\"><input class=\"sk-toggleable__control sk-hidden--visually\" id=\"sk-estimator-id-18\" type=\"checkbox\" ><label for=\"sk-estimator-id-18\" class=\"sk-toggleable__label sk-toggleable__label-arrow\">TfidfVectorizer</label><div class=\"sk-toggleable__content\"><pre>TfidfVectorizer()</pre></div></div></div></div></div></div></div></div><div class=\"sk-parallel-item\"><div class=\"sk-item\"><div class=\"sk-label-container\"><div class=\"sk-label sk-toggleable\"><input class=\"sk-toggleable__control sk-hidden--visually\" id=\"sk-estimator-id-19\" type=\"checkbox\" ><label for=\"sk-estimator-id-19\" class=\"sk-toggleable__label sk-toggleable__label-arrow\">categorical</label><div class=\"sk-toggleable__content\"><pre>[&#x27;category&#x27;]</pre></div></div></div><div class=\"sk-serial\"><div class=\"sk-item\"><div class=\"sk-serial\"><div class=\"sk-item\"><div class=\"sk-estimator sk-toggleable\"><input class=\"sk-toggleable__control sk-hidden--visually\" id=\"sk-estimator-id-20\" type=\"checkbox\" ><label for=\"sk-estimator-id-20\" class=\"sk-toggleable__label sk-toggleable__label-arrow\">OneHotEncoder</label><div class=\"sk-toggleable__content\"><pre>OneHotEncoder(drop=&#x27;first&#x27;, handle_unknown=&#x27;ignore&#x27;)</pre></div></div></div></div></div></div></div></div></div></div><div class=\"sk-item\"><div class=\"sk-estimator sk-toggleable\"><input class=\"sk-toggleable__control sk-hidden--visually\" id=\"sk-estimator-id-21\" type=\"checkbox\" ><label for=\"sk-estimator-id-21\" class=\"sk-toggleable__label sk-toggleable__label-arrow\">RandomForestClassifier</label><div class=\"sk-toggleable__content\"><pre>RandomForestClassifier(random_state=120)</pre></div></div></div></div></div></div></div>"
      ],
      "text/plain": [
       "Pipeline(steps=[('preprocessor',\n",
       "                 ColumnTransformer(transformers=[('text',\n",
       "                                                  Pipeline(steps=[('tfidf',\n",
       "                                                                   TfidfVectorizer())]),\n",
       "                                                  'text_'),\n",
       "                                                 ('categorical',\n",
       "                                                  Pipeline(steps=[('create_dummies_cats',\n",
       "                                                                   OneHotEncoder(drop='first',\n",
       "                                                                                 handle_unknown='ignore'))]),\n",
       "                                                  ['category'])])),\n",
       "                ('classifier', RandomForestClassifier(random_state=120))])"
      ]
     },
     "execution_count": 49,
     "metadata": {},
     "output_type": "execute_result"
    }
   ],
   "source": [
    "rf_modeling_pipeline.fit(X_train, y_train)"
   ]
  },
  {
   "cell_type": "markdown",
   "id": "e9d8ac11",
   "metadata": {},
   "source": [
    "**The following code is for predicting the probabilities of training dataset using predict_proba function.**"
   ]
  },
  {
   "cell_type": "markdown",
   "id": "79011190",
   "metadata": {},
   "source": [
    "## EVALUATION OF TRAINING DATA"
   ]
  },
  {
   "cell_type": "code",
   "execution_count": 50,
   "id": "35054eba",
   "metadata": {},
   "outputs": [
    {
     "data": {
      "text/plain": [
       "array([[0.9 , 0.1 ],\n",
       "       [0.16, 0.84],\n",
       "       [0.1 , 0.9 ],\n",
       "       [0.9 , 0.1 ],\n",
       "       [0.98, 0.02]])"
      ]
     },
     "execution_count": 50,
     "metadata": {},
     "output_type": "execute_result"
    }
   ],
   "source": [
    "y_pred = rf_modeling_pipeline.predict_proba(X_train)\n",
    "y_pred[:5]"
   ]
  },
  {
   "cell_type": "markdown",
   "id": "fca191c5",
   "metadata": {},
   "source": [
    "**The following code is used to plot the histogram for the predictions of the data.**"
   ]
  },
  {
   "cell_type": "code",
   "execution_count": 51,
   "id": "082680b2",
   "metadata": {},
   "outputs": [
    {
     "data": {
      "image/png": "[encoded data removed]",
      "text/plain": [
       "<Figure size 432x288 with 1 Axes>"
      ]
     },
     "metadata": {
      "needs_background": "light"
     },
     "output_type": "display_data"
    }
   ],
   "source": [
    "plt.hist(y_pred)\n",
    "plt.legend(['Yes', 'No'])\n",
    "plt.show()"
   ]
  },
  {
   "cell_type": "markdown",
   "id": "7aeb908d",
   "metadata": {},
   "source": [
    "**The below code is used to get the confusion matrix of the training data.**"
   ]
  },
  {
   "cell_type": "code",
   "execution_count": 52,
   "id": "0712230c",
   "metadata": {},
   "outputs": [
    {
     "name": "stdout",
     "output_type": "stream",
     "text": [
      "[[16234     0]\n",
      " [    0 16111]]\n"
     ]
    }
   ],
   "source": [
    "from sklearn.metrics import confusion_matrix\n",
    "\n",
    "y_train_pred = rf_modeling_pipeline.predict(X_train)\n",
    "\n",
    "print(confusion_matrix(y_train, y_train_pred))"
   ]
  },
  {
   "cell_type": "markdown",
   "id": "3a12c5b0",
   "metadata": {},
   "source": [
    "**The above code output clearly states that there are values only for true positive and true negative which means the model might best fits the data.**"
   ]
  },
  {
   "cell_type": "code",
   "execution_count": 53,
   "id": "c5ea0aaa",
   "metadata": {},
   "outputs": [
    {
     "name": "stdout",
     "output_type": "stream",
     "text": [
      "Accuracy of random forest is:  100.0\n"
     ]
    }
   ],
   "source": [
    "from sklearn.metrics import accuracy_score\n",
    "\n",
    "rf_train_accuracy = accuracy_score(y_train,y_train_pred)\n",
    "\n",
    "print(\"Accuracy of random forest is: \",rf_train_accuracy*100)"
   ]
  },
  {
   "cell_type": "markdown",
   "id": "09dfd51a",
   "metadata": {},
   "source": [
    "**From the above code, it is clear that training data accuracy of the model is 100.**"
   ]
  },
  {
   "cell_type": "code",
   "execution_count": 54,
   "id": "ee97f175",
   "metadata": {},
   "outputs": [
    {
     "name": "stdout",
     "output_type": "stream",
     "text": [
      "              precision    recall  f1-score   support\n",
      "\n",
      "           0       1.00      1.00      1.00     16234\n",
      "           1       1.00      1.00      1.00     16111\n",
      "\n",
      "    accuracy                           1.00     32345\n",
      "   macro avg       1.00      1.00      1.00     32345\n",
      "weighted avg       1.00      1.00      1.00     32345\n",
      "\n"
     ]
    }
   ],
   "source": [
    "report = classification_report(y_train, y_train_pred)\n",
    "print(report)"
   ]
  },
  {
   "cell_type": "markdown",
   "id": "f090631a",
   "metadata": {},
   "source": [
    "## EVALUATION OF TESTING DATA"
   ]
  },
  {
   "cell_type": "markdown",
   "id": "f831817d",
   "metadata": {},
   "source": [
    "**The below code is used to get the confusion matrix of the testing data.**"
   ]
  },
  {
   "cell_type": "code",
   "execution_count": 55,
   "id": "3f37b95e",
   "metadata": {},
   "outputs": [
    {
     "name": "stdout",
     "output_type": "stream",
     "text": [
      "[[3678  304]\n",
      " [ 590 3515]]\n"
     ]
    }
   ],
   "source": [
    "from sklearn.metrics import confusion_matrix\n",
    "\n",
    "y_test_pred = rf_modeling_pipeline.predict(X_test)\n",
    "\n",
    "print(confusion_matrix(y_test, y_test_pred))"
   ]
  },
  {
   "cell_type": "markdown",
   "id": "efd302bb",
   "metadata": {},
   "source": [
    "**The above code output clearly states that there are values only for true positive and true negative which means the model might best fits the data.**"
   ]
  },
  {
   "cell_type": "code",
   "execution_count": 56,
   "id": "c6cc2d89",
   "metadata": {},
   "outputs": [
    {
     "name": "stdout",
     "output_type": "stream",
     "text": [
      "Accuracy of random forest is:  88.94522072461976\n"
     ]
    }
   ],
   "source": [
    "from sklearn.metrics import accuracy_score\n",
    "\n",
    "rf_test_accuracy = accuracy_score(y_test,y_test_pred)\n",
    "\n",
    "print(\"Accuracy of random forest is: \",rf_test_accuracy*100)"
   ]
  },
  {
   "cell_type": "markdown",
   "id": "46de21ee",
   "metadata": {},
   "source": [
    "**From the above code, it is clear that testing data accuracy of the model is 88.**"
   ]
  },
  {
   "cell_type": "code",
   "execution_count": 57,
   "id": "cd1a94db",
   "metadata": {},
   "outputs": [
    {
     "name": "stdout",
     "output_type": "stream",
     "text": [
      "              precision    recall  f1-score   support\n",
      "\n",
      "           0       0.86      0.92      0.89      3982\n",
      "           1       0.92      0.86      0.89      4105\n",
      "\n",
      "    accuracy                           0.89      8087\n",
      "   macro avg       0.89      0.89      0.89      8087\n",
      "weighted avg       0.89      0.89      0.89      8087\n",
      "\n"
     ]
    }
   ],
   "source": [
    "report = classification_report(y_test, y_test_pred)\n",
    "print(report)"
   ]
  },
  {
   "cell_type": "markdown",
   "id": "206cfa3a",
   "metadata": {},
   "source": [
    "**Random Forest model has a training accuracy of 100 and testing accuracy of 89 which means that the model is slightly overfitted for the data and this model cannot be the best fit for the data.**"
   ]
  },
  {
   "cell_type": "code",
   "execution_count": 58,
   "id": "04b655cd",
   "metadata": {},
   "outputs": [
    {
     "data": {
      "text/plain": [
       "array([3.37083554e-05, 7.85206864e-06, 0.00000000e+00, ...,\n",
       "       1.17433961e-03, 1.16088728e-03, 1.25903863e-03])"
      ]
     },
     "execution_count": 58,
     "metadata": {},
     "output_type": "execute_result"
    }
   ],
   "source": [
    "model = rf_modeling_pipeline.named_steps['classifier'] \n",
    "\n",
    "# Get feature importances\n",
    "feature_importances = model.feature_importances_\n",
    "feature_importances"
   ]
  },
  {
   "cell_type": "markdown",
   "id": "9623d531",
   "metadata": {},
   "source": [
    "**The above code is used to get the feature importances of the data.**"
   ]
  },
  {
   "cell_type": "markdown",
   "id": "cdbfb236",
   "metadata": {},
   "source": [
    "# Naive Bayes Classifier"
   ]
  },
  {
   "cell_type": "markdown",
   "id": "cf6e024c",
   "metadata": {},
   "source": [
    "**The following code is used to implement the data preprocessor and naive bayes classifier model.** "
   ]
  },
  {
   "cell_type": "code",
   "execution_count": 59,
   "id": "6208c6e4",
   "metadata": {},
   "outputs": [],
   "source": [
    "from sklearn.naive_bayes import MultinomialNB\n",
    "\n",
    "naive_bayes_pipeline = Pipeline([\n",
    "    ('preprocessor', preprocessor), \n",
    "    ('classifier', MultinomialNB()) \n",
    "])"
   ]
  },
  {
   "cell_type": "markdown",
   "id": "0a0af988",
   "metadata": {},
   "source": [
    "**The below code is used to fit the model for the data.**"
   ]
  },
  {
   "cell_type": "code",
   "execution_count": 60,
   "id": "49c134ed",
   "metadata": {},
   "outputs": [
    {
     "data": {
      "text/html": [
       "<style>#sk-container-id-4 {color: black;background-color: white;}#sk-container-id-4 pre{padding: 0;}#sk-container-id-4 div.sk-toggleable {background-color: white;}#sk-container-id-4 label.sk-toggleable__label {cursor: pointer;display: block;width: 100%;margin-bottom: 0;padding: 0.3em;box-sizing: border-box;text-align: center;}#sk-container-id-4 label.sk-toggleable__label-arrow:before {content: \"▸\";float: left;margin-right: 0.25em;color: #696969;}#sk-container-id-4 label.sk-toggleable__label-arrow:hover:before {color: black;}#sk-container-id-4 div.sk-estimator:hover label.sk-toggleable__label-arrow:before {color: black;}#sk-container-id-4 div.sk-toggleable__content {max-height: 0;max-width: 0;overflow: hidden;text-align: left;background-color: #f0f8ff;}#sk-container-id-4 div.sk-toggleable__content pre {margin: 0.2em;color: black;border-radius: 0.25em;background-color: #f0f8ff;}#sk-container-id-4 input.sk-toggleable__control:checked~div.sk-toggleable__content {max-height: 200px;max-width: 100%;overflow: auto;}#sk-container-id-4 input.sk-toggleable__control:checked~label.sk-toggleable__label-arrow:before {content: \"▾\";}#sk-container-id-4 div.sk-estimator input.sk-toggleable__control:checked~label.sk-toggleable__label {background-color: #d4ebff;}#sk-container-id-4 div.sk-label input.sk-toggleable__control:checked~label.sk-toggleable__label {background-color: #d4ebff;}#sk-container-id-4 input.sk-hidden--visually {border: 0;clip: rect(1px 1px 1px 1px);clip: rect(1px, 1px, 1px, 1px);height: 1px;margin: -1px;overflow: hidden;padding: 0;position: absolute;width: 1px;}#sk-container-id-4 div.sk-estimator {font-family: monospace;background-color: #f0f8ff;border: 1px dotted black;border-radius: 0.25em;box-sizing: border-box;margin-bottom: 0.5em;}#sk-container-id-4 div.sk-estimator:hover {background-color: #d4ebff;}#sk-container-id-4 div.sk-parallel-item::after {content: \"\";width: 100%;border-bottom: 1px solid gray;flex-grow: 1;}#sk-container-id-4 div.sk-label:hover label.sk-toggleable__label {background-color: #d4ebff;}#sk-container-id-4 div.sk-serial::before {content: \"\";position: absolute;border-left: 1px solid gray;box-sizing: border-box;top: 0;bottom: 0;left: 50%;z-index: 0;}#sk-container-id-4 div.sk-serial {display: flex;flex-direction: column;align-items: center;background-color: white;padding-right: 0.2em;padding-left: 0.2em;position: relative;}#sk-container-id-4 div.sk-item {position: relative;z-index: 1;}#sk-container-id-4 div.sk-parallel {display: flex;align-items: stretch;justify-content: center;background-color: white;position: relative;}#sk-container-id-4 div.sk-item::before, #sk-container-id-4 div.sk-parallel-item::before {content: \"\";position: absolute;border-left: 1px solid gray;box-sizing: border-box;top: 0;bottom: 0;left: 50%;z-index: -1;}#sk-container-id-4 div.sk-parallel-item {display: flex;flex-direction: column;z-index: 1;position: relative;background-color: white;}#sk-container-id-4 div.sk-parallel-item:first-child::after {align-self: flex-end;width: 50%;}#sk-container-id-4 div.sk-parallel-item:last-child::after {align-self: flex-start;width: 50%;}#sk-container-id-4 div.sk-parallel-item:only-child::after {width: 0;}#sk-container-id-4 div.sk-dashed-wrapped {border: 1px dashed gray;margin: 0 0.4em 0.5em 0.4em;box-sizing: border-box;padding-bottom: 0.4em;background-color: white;}#sk-container-id-4 div.sk-label label {font-family: monospace;font-weight: bold;display: inline-block;line-height: 1.2em;}#sk-container-id-4 div.sk-label-container {text-align: center;}#sk-container-id-4 div.sk-container {/* jupyter's `normalize.less` sets `[hidden] { display: none; }` but bootstrap.min.css set `[hidden] { display: none !important; }` so we also need the `!important` here to be able to override the default hidden behavior on the sphinx rendered scikit-learn.org. See: https://github.com/scikit-learn/scikit-learn/issues/21755 */display: inline-block !important;position: relative;}#sk-container-id-4 div.sk-text-repr-fallback {display: none;}</style><div id=\"sk-container-id-4\" class=\"sk-top-container\"><div class=\"sk-text-repr-fallback\"><pre>Pipeline(steps=[(&#x27;preprocessor&#x27;,\n",
       "                 ColumnTransformer(transformers=[(&#x27;text&#x27;,\n",
       "                                                  Pipeline(steps=[(&#x27;tfidf&#x27;,\n",
       "                                                                   TfidfVectorizer())]),\n",
       "                                                  &#x27;text_&#x27;),\n",
       "                                                 (&#x27;categorical&#x27;,\n",
       "                                                  Pipeline(steps=[(&#x27;create_dummies_cats&#x27;,\n",
       "                                                                   OneHotEncoder(drop=&#x27;first&#x27;,\n",
       "                                                                                 handle_unknown=&#x27;ignore&#x27;))]),\n",
       "                                                  [&#x27;category&#x27;])])),\n",
       "                (&#x27;classifier&#x27;, MultinomialNB())])</pre><b>In a Jupyter environment, please rerun this cell to show the HTML representation or trust the notebook. <br />On GitHub, the HTML representation is unable to render, please try loading this page with nbviewer.org.</b></div><div class=\"sk-container\" hidden><div class=\"sk-item sk-dashed-wrapped\"><div class=\"sk-label-container\"><div class=\"sk-label sk-toggleable\"><input class=\"sk-toggleable__control sk-hidden--visually\" id=\"sk-estimator-id-22\" type=\"checkbox\" ><label for=\"sk-estimator-id-22\" class=\"sk-toggleable__label sk-toggleable__label-arrow\">Pipeline</label><div class=\"sk-toggleable__content\"><pre>Pipeline(steps=[(&#x27;preprocessor&#x27;,\n",
       "                 ColumnTransformer(transformers=[(&#x27;text&#x27;,\n",
       "                                                  Pipeline(steps=[(&#x27;tfidf&#x27;,\n",
       "                                                                   TfidfVectorizer())]),\n",
       "                                                  &#x27;text_&#x27;),\n",
       "                                                 (&#x27;categorical&#x27;,\n",
       "                                                  Pipeline(steps=[(&#x27;create_dummies_cats&#x27;,\n",
       "                                                                   OneHotEncoder(drop=&#x27;first&#x27;,\n",
       "                                                                                 handle_unknown=&#x27;ignore&#x27;))]),\n",
       "                                                  [&#x27;category&#x27;])])),\n",
       "                (&#x27;classifier&#x27;, MultinomialNB())])</pre></div></div></div><div class=\"sk-serial\"><div class=\"sk-item sk-dashed-wrapped\"><div class=\"sk-label-container\"><div class=\"sk-label sk-toggleable\"><input class=\"sk-toggleable__control sk-hidden--visually\" id=\"sk-estimator-id-23\" type=\"checkbox\" ><label for=\"sk-estimator-id-23\" class=\"sk-toggleable__label sk-toggleable__label-arrow\">preprocessor: ColumnTransformer</label><div class=\"sk-toggleable__content\"><pre>ColumnTransformer(transformers=[(&#x27;text&#x27;,\n",
       "                                 Pipeline(steps=[(&#x27;tfidf&#x27;, TfidfVectorizer())]),\n",
       "                                 &#x27;text_&#x27;),\n",
       "                                (&#x27;categorical&#x27;,\n",
       "                                 Pipeline(steps=[(&#x27;create_dummies_cats&#x27;,\n",
       "                                                  OneHotEncoder(drop=&#x27;first&#x27;,\n",
       "                                                                handle_unknown=&#x27;ignore&#x27;))]),\n",
       "                                 [&#x27;category&#x27;])])</pre></div></div></div><div class=\"sk-parallel\"><div class=\"sk-parallel-item\"><div class=\"sk-item\"><div class=\"sk-label-container\"><div class=\"sk-label sk-toggleable\"><input class=\"sk-toggleable__control sk-hidden--visually\" id=\"sk-estimator-id-24\" type=\"checkbox\" ><label for=\"sk-estimator-id-24\" class=\"sk-toggleable__label sk-toggleable__label-arrow\">text</label><div class=\"sk-toggleable__content\"><pre>text_</pre></div></div></div><div class=\"sk-serial\"><div class=\"sk-item\"><div class=\"sk-serial\"><div class=\"sk-item\"><div class=\"sk-estimator sk-toggleable\"><input class=\"sk-toggleable__control sk-hidden--visually\" id=\"sk-estimator-id-25\" type=\"checkbox\" ><label for=\"sk-estimator-id-25\" class=\"sk-toggleable__label sk-toggleable__label-arrow\">TfidfVectorizer</label><div class=\"sk-toggleable__content\"><pre>TfidfVectorizer()</pre></div></div></div></div></div></div></div></div><div class=\"sk-parallel-item\"><div class=\"sk-item\"><div class=\"sk-label-container\"><div class=\"sk-label sk-toggleable\"><input class=\"sk-toggleable__control sk-hidden--visually\" id=\"sk-estimator-id-26\" type=\"checkbox\" ><label for=\"sk-estimator-id-26\" class=\"sk-toggleable__label sk-toggleable__label-arrow\">categorical</label><div class=\"sk-toggleable__content\"><pre>[&#x27;category&#x27;]</pre></div></div></div><div class=\"sk-serial\"><div class=\"sk-item\"><div class=\"sk-serial\"><div class=\"sk-item\"><div class=\"sk-estimator sk-toggleable\"><input class=\"sk-toggleable__control sk-hidden--visually\" id=\"sk-estimator-id-27\" type=\"checkbox\" ><label for=\"sk-estimator-id-27\" class=\"sk-toggleable__label sk-toggleable__label-arrow\">OneHotEncoder</label><div class=\"sk-toggleable__content\"><pre>OneHotEncoder(drop=&#x27;first&#x27;, handle_unknown=&#x27;ignore&#x27;)</pre></div></div></div></div></div></div></div></div></div></div><div class=\"sk-item\"><div class=\"sk-estimator sk-toggleable\"><input class=\"sk-toggleable__control sk-hidden--visually\" id=\"sk-estimator-id-28\" type=\"checkbox\" ><label for=\"sk-estimator-id-28\" class=\"sk-toggleable__label sk-toggleable__label-arrow\">MultinomialNB</label><div class=\"sk-toggleable__content\"><pre>MultinomialNB()</pre></div></div></div></div></div></div></div>"
      ],
      "text/plain": [
       "Pipeline(steps=[('preprocessor',\n",
       "                 ColumnTransformer(transformers=[('text',\n",
       "                                                  Pipeline(steps=[('tfidf',\n",
       "                                                                   TfidfVectorizer())]),\n",
       "                                                  'text_'),\n",
       "                                                 ('categorical',\n",
       "                                                  Pipeline(steps=[('create_dummies_cats',\n",
       "                                                                   OneHotEncoder(drop='first',\n",
       "                                                                                 handle_unknown='ignore'))]),\n",
       "                                                  ['category'])])),\n",
       "                ('classifier', MultinomialNB())])"
      ]
     },
     "execution_count": 60,
     "metadata": {},
     "output_type": "execute_result"
    }
   ],
   "source": [
    "naive_bayes_pipeline.fit(X_train, y_train)"
   ]
  },
  {
   "cell_type": "markdown",
   "id": "cd6fb69c",
   "metadata": {},
   "source": [
    "## EVALUATION OF TRAINING DATA"
   ]
  },
  {
   "cell_type": "markdown",
   "id": "0ce86fb2",
   "metadata": {},
   "source": [
    "**The below code is used to get the confusion matrix of the training data.**"
   ]
  },
  {
   "cell_type": "code",
   "execution_count": 61,
   "id": "1b85f096",
   "metadata": {},
   "outputs": [
    {
     "name": "stdout",
     "output_type": "stream",
     "text": [
      "[[15587   647]\n",
      " [ 2817 13294]]\n"
     ]
    }
   ],
   "source": [
    "from sklearn.metrics import confusion_matrix\n",
    "\n",
    "y_train_pred = naive_bayes_pipeline.predict(X_train)\n",
    "\n",
    "print(confusion_matrix(y_train, y_train_pred))"
   ]
  },
  {
   "cell_type": "markdown",
   "id": "047e3350",
   "metadata": {},
   "source": [
    "**The above code output clearly states that there are values only for true positive and true negative which means the model might best fits the data.**"
   ]
  },
  {
   "cell_type": "code",
   "execution_count": 62,
   "id": "b951a5e9",
   "metadata": {},
   "outputs": [
    {
     "name": "stdout",
     "output_type": "stream",
     "text": [
      "Accuracy of naive bayes is:  89.29046220435926\n"
     ]
    }
   ],
   "source": [
    "from sklearn.metrics import accuracy_score\n",
    "\n",
    "nb_train_accuracy = accuracy_score(y_train,y_train_pred)\n",
    "\n",
    "print(\"Accuracy of naive bayes is: \",nb_train_accuracy*100)"
   ]
  },
  {
   "cell_type": "markdown",
   "id": "e11bc4e0",
   "metadata": {},
   "source": [
    "**From the above code, it is clear that training data accuracy of the model is 89.**"
   ]
  },
  {
   "cell_type": "code",
   "execution_count": 63,
   "id": "24bdc393",
   "metadata": {},
   "outputs": [
    {
     "name": "stdout",
     "output_type": "stream",
     "text": [
      "              precision    recall  f1-score   support\n",
      "\n",
      "           0       0.85      0.96      0.90     16234\n",
      "           1       0.95      0.83      0.88     16111\n",
      "\n",
      "    accuracy                           0.89     32345\n",
      "   macro avg       0.90      0.89      0.89     32345\n",
      "weighted avg       0.90      0.89      0.89     32345\n",
      "\n"
     ]
    }
   ],
   "source": [
    "report = classification_report(y_train, y_train_pred)\n",
    "print(report)"
   ]
  },
  {
   "cell_type": "markdown",
   "id": "238e0ccb",
   "metadata": {},
   "source": [
    "## EVALUATION OF TESTING DATA"
   ]
  },
  {
   "cell_type": "markdown",
   "id": "39a64e00",
   "metadata": {},
   "source": [
    "**The below code is used to get the confusion matrix of the testing data.**"
   ]
  },
  {
   "cell_type": "code",
   "execution_count": 64,
   "id": "a47fa31b",
   "metadata": {},
   "outputs": [
    {
     "name": "stdout",
     "output_type": "stream",
     "text": [
      "[[3697  285]\n",
      " [ 860 3245]]\n"
     ]
    }
   ],
   "source": [
    "from sklearn.metrics import confusion_matrix\n",
    "\n",
    "y_test_pred = naive_bayes_pipeline.predict(X_test)\n",
    "\n",
    "print(confusion_matrix(y_test, y_test_pred))"
   ]
  },
  {
   "cell_type": "markdown",
   "id": "82c6bab3",
   "metadata": {},
   "source": [
    "**The above code output clearly states that there are values only for true positive and true negative which means the model might best fits the data.**"
   ]
  },
  {
   "cell_type": "code",
   "execution_count": 65,
   "id": "82d461ad",
   "metadata": {},
   "outputs": [
    {
     "name": "stdout",
     "output_type": "stream",
     "text": [
      "Accuracy of naive bayes is:  85.84147397057005\n"
     ]
    }
   ],
   "source": [
    "from sklearn.metrics import accuracy_score\n",
    "\n",
    "nb_test_accuracy = accuracy_score(y_test,y_test_pred)\n",
    "\n",
    "print(\"Accuracy of naive bayes is: \",nb_test_accuracy*100)"
   ]
  },
  {
   "cell_type": "markdown",
   "id": "7765919d",
   "metadata": {},
   "source": [
    "**From the above code, it is clear that testing data accuracy of the model is 86.**"
   ]
  },
  {
   "cell_type": "code",
   "execution_count": 66,
   "id": "c9c98556",
   "metadata": {
    "scrolled": true
   },
   "outputs": [
    {
     "name": "stdout",
     "output_type": "stream",
     "text": [
      "              precision    recall  f1-score   support\n",
      "\n",
      "           0       0.81      0.93      0.87      3982\n",
      "           1       0.92      0.79      0.85      4105\n",
      "\n",
      "    accuracy                           0.86      8087\n",
      "   macro avg       0.87      0.86      0.86      8087\n",
      "weighted avg       0.87      0.86      0.86      8087\n",
      "\n"
     ]
    }
   ],
   "source": [
    "report = classification_report(y_test, y_test_pred)\n",
    "print(report)"
   ]
  },
  {
   "cell_type": "markdown",
   "id": "4b5b7393",
   "metadata": {},
   "source": [
    "**Naive Bayes Classifier model has a training accuracy of 89 and testing accuracy of 86 which means that the model is just slightly overfitted for the data and this model cannot be the best fit for the data.**"
   ]
  },
  {
   "cell_type": "markdown",
   "id": "56a25669",
   "metadata": {},
   "source": [
    "# SVM"
   ]
  },
  {
   "cell_type": "markdown",
   "id": "2e69c9e3",
   "metadata": {},
   "source": [
    "**The below code is used to implement the preprocessor and Support Vector Machines model using a pipeline.**"
   ]
  },
  {
   "cell_type": "code",
   "execution_count": 67,
   "id": "ef449a4b",
   "metadata": {},
   "outputs": [],
   "source": [
    "from sklearn.svm import SVC\n",
    "\n",
    "svm_pipeline = Pipeline([\n",
    "    ('preprocessor', preprocessor), \n",
    "    ('classifier', SVC(kernel='linear', decision_function_shape='ovr')) # for parallel processing\n",
    "])"
   ]
  },
  {
   "cell_type": "markdown",
   "id": "864b8645",
   "metadata": {},
   "source": [
    "**The below code is used to fit the pipeline to the training data.**"
   ]
  },
  {
   "cell_type": "code",
   "execution_count": 68,
   "id": "518e857a",
   "metadata": {},
   "outputs": [
    {
     "data": {
      "text/html": [
       "<style>#sk-container-id-5 {color: black;background-color: white;}#sk-container-id-5 pre{padding: 0;}#sk-container-id-5 div.sk-toggleable {background-color: white;}#sk-container-id-5 label.sk-toggleable__label {cursor: pointer;display: block;width: 100%;margin-bottom: 0;padding: 0.3em;box-sizing: border-box;text-align: center;}#sk-container-id-5 label.sk-toggleable__label-arrow:before {content: \"▸\";float: left;margin-right: 0.25em;color: #696969;}#sk-container-id-5 label.sk-toggleable__label-arrow:hover:before {color: black;}#sk-container-id-5 div.sk-estimator:hover label.sk-toggleable__label-arrow:before {color: black;}#sk-container-id-5 div.sk-toggleable__content {max-height: 0;max-width: 0;overflow: hidden;text-align: left;background-color: #f0f8ff;}#sk-container-id-5 div.sk-toggleable__content pre {margin: 0.2em;color: black;border-radius: 0.25em;background-color: #f0f8ff;}#sk-container-id-5 input.sk-toggleable__control:checked~div.sk-toggleable__content {max-height: 200px;max-width: 100%;overflow: auto;}#sk-container-id-5 input.sk-toggleable__control:checked~label.sk-toggleable__label-arrow:before {content: \"▾\";}#sk-container-id-5 div.sk-estimator input.sk-toggleable__control:checked~label.sk-toggleable__label {background-color: #d4ebff;}#sk-container-id-5 div.sk-label input.sk-toggleable__control:checked~label.sk-toggleable__label {background-color: #d4ebff;}#sk-container-id-5 input.sk-hidden--visually {border: 0;clip: rect(1px 1px 1px 1px);clip: rect(1px, 1px, 1px, 1px);height: 1px;margin: -1px;overflow: hidden;padding: 0;position: absolute;width: 1px;}#sk-container-id-5 div.sk-estimator {font-family: monospace;background-color: #f0f8ff;border: 1px dotted black;border-radius: 0.25em;box-sizing: border-box;margin-bottom: 0.5em;}#sk-container-id-5 div.sk-estimator:hover {background-color: #d4ebff;}#sk-container-id-5 div.sk-parallel-item::after {content: \"\";width: 100%;border-bottom: 1px solid gray;flex-grow: 1;}#sk-container-id-5 div.sk-label:hover label.sk-toggleable__label {background-color: #d4ebff;}#sk-container-id-5 div.sk-serial::before {content: \"\";position: absolute;border-left: 1px solid gray;box-sizing: border-box;top: 0;bottom: 0;left: 50%;z-index: 0;}#sk-container-id-5 div.sk-serial {display: flex;flex-direction: column;align-items: center;background-color: white;padding-right: 0.2em;padding-left: 0.2em;position: relative;}#sk-container-id-5 div.sk-item {position: relative;z-index: 1;}#sk-container-id-5 div.sk-parallel {display: flex;align-items: stretch;justify-content: center;background-color: white;position: relative;}#sk-container-id-5 div.sk-item::before, #sk-container-id-5 div.sk-parallel-item::before {content: \"\";position: absolute;border-left: 1px solid gray;box-sizing: border-box;top: 0;bottom: 0;left: 50%;z-index: -1;}#sk-container-id-5 div.sk-parallel-item {display: flex;flex-direction: column;z-index: 1;position: relative;background-color: white;}#sk-container-id-5 div.sk-parallel-item:first-child::after {align-self: flex-end;width: 50%;}#sk-container-id-5 div.sk-parallel-item:last-child::after {align-self: flex-start;width: 50%;}#sk-container-id-5 div.sk-parallel-item:only-child::after {width: 0;}#sk-container-id-5 div.sk-dashed-wrapped {border: 1px dashed gray;margin: 0 0.4em 0.5em 0.4em;box-sizing: border-box;padding-bottom: 0.4em;background-color: white;}#sk-container-id-5 div.sk-label label {font-family: monospace;font-weight: bold;display: inline-block;line-height: 1.2em;}#sk-container-id-5 div.sk-label-container {text-align: center;}#sk-container-id-5 div.sk-container {/* jupyter's `normalize.less` sets `[hidden] { display: none; }` but bootstrap.min.css set `[hidden] { display: none !important; }` so we also need the `!important` here to be able to override the default hidden behavior on the sphinx rendered scikit-learn.org. See: https://github.com/scikit-learn/scikit-learn/issues/21755 */display: inline-block !important;position: relative;}#sk-container-id-5 div.sk-text-repr-fallback {display: none;}</style><div id=\"sk-container-id-5\" class=\"sk-top-container\"><div class=\"sk-text-repr-fallback\"><pre>Pipeline(steps=[(&#x27;preprocessor&#x27;,\n",
       "                 ColumnTransformer(transformers=[(&#x27;text&#x27;,\n",
       "                                                  Pipeline(steps=[(&#x27;tfidf&#x27;,\n",
       "                                                                   TfidfVectorizer())]),\n",
       "                                                  &#x27;text_&#x27;),\n",
       "                                                 (&#x27;categorical&#x27;,\n",
       "                                                  Pipeline(steps=[(&#x27;create_dummies_cats&#x27;,\n",
       "                                                                   OneHotEncoder(drop=&#x27;first&#x27;,\n",
       "                                                                                 handle_unknown=&#x27;ignore&#x27;))]),\n",
       "                                                  [&#x27;category&#x27;])])),\n",
       "                (&#x27;classifier&#x27;, SVC(kernel=&#x27;linear&#x27;))])</pre><b>In a Jupyter environment, please rerun this cell to show the HTML representation or trust the notebook. <br />On GitHub, the HTML representation is unable to render, please try loading this page with nbviewer.org.</b></div><div class=\"sk-container\" hidden><div class=\"sk-item sk-dashed-wrapped\"><div class=\"sk-label-container\"><div class=\"sk-label sk-toggleable\"><input class=\"sk-toggleable__control sk-hidden--visually\" id=\"sk-estimator-id-29\" type=\"checkbox\" ><label for=\"sk-estimator-id-29\" class=\"sk-toggleable__label sk-toggleable__label-arrow\">Pipeline</label><div class=\"sk-toggleable__content\"><pre>Pipeline(steps=[(&#x27;preprocessor&#x27;,\n",
       "                 ColumnTransformer(transformers=[(&#x27;text&#x27;,\n",
       "                                                  Pipeline(steps=[(&#x27;tfidf&#x27;,\n",
       "                                                                   TfidfVectorizer())]),\n",
       "                                                  &#x27;text_&#x27;),\n",
       "                                                 (&#x27;categorical&#x27;,\n",
       "                                                  Pipeline(steps=[(&#x27;create_dummies_cats&#x27;,\n",
       "                                                                   OneHotEncoder(drop=&#x27;first&#x27;,\n",
       "                                                                                 handle_unknown=&#x27;ignore&#x27;))]),\n",
       "                                                  [&#x27;category&#x27;])])),\n",
       "                (&#x27;classifier&#x27;, SVC(kernel=&#x27;linear&#x27;))])</pre></div></div></div><div class=\"sk-serial\"><div class=\"sk-item sk-dashed-wrapped\"><div class=\"sk-label-container\"><div class=\"sk-label sk-toggleable\"><input class=\"sk-toggleable__control sk-hidden--visually\" id=\"sk-estimator-id-30\" type=\"checkbox\" ><label for=\"sk-estimator-id-30\" class=\"sk-toggleable__label sk-toggleable__label-arrow\">preprocessor: ColumnTransformer</label><div class=\"sk-toggleable__content\"><pre>ColumnTransformer(transformers=[(&#x27;text&#x27;,\n",
       "                                 Pipeline(steps=[(&#x27;tfidf&#x27;, TfidfVectorizer())]),\n",
       "                                 &#x27;text_&#x27;),\n",
       "                                (&#x27;categorical&#x27;,\n",
       "                                 Pipeline(steps=[(&#x27;create_dummies_cats&#x27;,\n",
       "                                                  OneHotEncoder(drop=&#x27;first&#x27;,\n",
       "                                                                handle_unknown=&#x27;ignore&#x27;))]),\n",
       "                                 [&#x27;category&#x27;])])</pre></div></div></div><div class=\"sk-parallel\"><div class=\"sk-parallel-item\"><div class=\"sk-item\"><div class=\"sk-label-container\"><div class=\"sk-label sk-toggleable\"><input class=\"sk-toggleable__control sk-hidden--visually\" id=\"sk-estimator-id-31\" type=\"checkbox\" ><label for=\"sk-estimator-id-31\" class=\"sk-toggleable__label sk-toggleable__label-arrow\">text</label><div class=\"sk-toggleable__content\"><pre>text_</pre></div></div></div><div class=\"sk-serial\"><div class=\"sk-item\"><div class=\"sk-serial\"><div class=\"sk-item\"><div class=\"sk-estimator sk-toggleable\"><input class=\"sk-toggleable__control sk-hidden--visually\" id=\"sk-estimator-id-32\" type=\"checkbox\" ><label for=\"sk-estimator-id-32\" class=\"sk-toggleable__label sk-toggleable__label-arrow\">TfidfVectorizer</label><div class=\"sk-toggleable__content\"><pre>TfidfVectorizer()</pre></div></div></div></div></div></div></div></div><div class=\"sk-parallel-item\"><div class=\"sk-item\"><div class=\"sk-label-container\"><div class=\"sk-label sk-toggleable\"><input class=\"sk-toggleable__control sk-hidden--visually\" id=\"sk-estimator-id-33\" type=\"checkbox\" ><label for=\"sk-estimator-id-33\" class=\"sk-toggleable__label sk-toggleable__label-arrow\">categorical</label><div class=\"sk-toggleable__content\"><pre>[&#x27;category&#x27;]</pre></div></div></div><div class=\"sk-serial\"><div class=\"sk-item\"><div class=\"sk-serial\"><div class=\"sk-item\"><div class=\"sk-estimator sk-toggleable\"><input class=\"sk-toggleable__control sk-hidden--visually\" id=\"sk-estimator-id-34\" type=\"checkbox\" ><label for=\"sk-estimator-id-34\" class=\"sk-toggleable__label sk-toggleable__label-arrow\">OneHotEncoder</label><div class=\"sk-toggleable__content\"><pre>OneHotEncoder(drop=&#x27;first&#x27;, handle_unknown=&#x27;ignore&#x27;)</pre></div></div></div></div></div></div></div></div></div></div><div class=\"sk-item\"><div class=\"sk-estimator sk-toggleable\"><input class=\"sk-toggleable__control sk-hidden--visually\" id=\"sk-estimator-id-35\" type=\"checkbox\" ><label for=\"sk-estimator-id-35\" class=\"sk-toggleable__label sk-toggleable__label-arrow\">SVC</label><div class=\"sk-toggleable__content\"><pre>SVC(kernel=&#x27;linear&#x27;)</pre></div></div></div></div></div></div></div>"
      ],
      "text/plain": [
       "Pipeline(steps=[('preprocessor',\n",
       "                 ColumnTransformer(transformers=[('text',\n",
       "                                                  Pipeline(steps=[('tfidf',\n",
       "                                                                   TfidfVectorizer())]),\n",
       "                                                  'text_'),\n",
       "                                                 ('categorical',\n",
       "                                                  Pipeline(steps=[('create_dummies_cats',\n",
       "                                                                   OneHotEncoder(drop='first',\n",
       "                                                                                 handle_unknown='ignore'))]),\n",
       "                                                  ['category'])])),\n",
       "                ('classifier', SVC(kernel='linear'))])"
      ]
     },
     "execution_count": 68,
     "metadata": {},
     "output_type": "execute_result"
    }
   ],
   "source": [
    "svm_pipeline.fit(X_train, y_train)"
   ]
  },
  {
   "cell_type": "markdown",
   "id": "050ada7b",
   "metadata": {},
   "source": [
    "## EVALUATION OF TRAINING DATA"
   ]
  },
  {
   "cell_type": "markdown",
   "id": "de06ea73",
   "metadata": {},
   "source": [
    "**The below code is used to get the confusion matrix of training data and predictions.**"
   ]
  },
  {
   "cell_type": "code",
   "execution_count": 69,
   "id": "e3ff35a4",
   "metadata": {},
   "outputs": [
    {
     "name": "stdout",
     "output_type": "stream",
     "text": [
      "[[15286   948]\n",
      " [  755 15356]]\n"
     ]
    }
   ],
   "source": [
    "from sklearn.metrics import confusion_matrix\n",
    "\n",
    "y_train_pred = svm_pipeline.predict(X_train)\n",
    "\n",
    "print(confusion_matrix(y_train, y_train_pred))"
   ]
  },
  {
   "cell_type": "markdown",
   "id": "d3f4ef69",
   "metadata": {},
   "source": [
    "**From the above code, it is clear that true positive and true negative values are high, which means that the model might be the best fit for the data.**"
   ]
  },
  {
   "cell_type": "markdown",
   "id": "3febe5a7",
   "metadata": {},
   "source": [
    "**The below code is used to get the training data accuracy of the SVM model.**"
   ]
  },
  {
   "cell_type": "code",
   "execution_count": 70,
   "id": "1068e200",
   "metadata": {},
   "outputs": [
    {
     "name": "stdout",
     "output_type": "stream",
     "text": [
      "Accuracy of svm is:  94.7348894728706\n"
     ]
    }
   ],
   "source": [
    "from sklearn.metrics import accuracy_score\n",
    "\n",
    "svm_train_accuracy = accuracy_score(y_train,y_train_pred)\n",
    "\n",
    "print(\"Accuracy of svm is: \",svm_train_accuracy*100)"
   ]
  },
  {
   "cell_type": "markdown",
   "id": "8ce68dd8",
   "metadata": {},
   "source": [
    "**The training data accuracy of the SVM model is 95.**"
   ]
  },
  {
   "cell_type": "code",
   "execution_count": 71,
   "id": "aa8b35d7",
   "metadata": {},
   "outputs": [
    {
     "name": "stdout",
     "output_type": "stream",
     "text": [
      "              precision    recall  f1-score   support\n",
      "\n",
      "           0       0.95      0.94      0.95     16234\n",
      "           1       0.94      0.95      0.95     16111\n",
      "\n",
      "    accuracy                           0.95     32345\n",
      "   macro avg       0.95      0.95      0.95     32345\n",
      "weighted avg       0.95      0.95      0.95     32345\n",
      "\n"
     ]
    }
   ],
   "source": [
    "report = classification_report(y_train, y_train_pred)\n",
    "print(report)"
   ]
  },
  {
   "cell_type": "markdown",
   "id": "9a57fa70",
   "metadata": {},
   "source": [
    "**The above code is used to get the report of the training data and its predictions.**"
   ]
  },
  {
   "cell_type": "code",
   "execution_count": 72,
   "id": "51dfc14e",
   "metadata": {},
   "outputs": [
    {
     "name": "stdout",
     "output_type": "stream",
     "text": [
      "[[3620  362]\n",
      " [ 341 3764]]\n"
     ]
    }
   ],
   "source": [
    "from sklearn.metrics import confusion_matrix\n",
    "\n",
    "y_test_pred = svm_pipeline.predict(X_test)\n",
    "\n",
    "print(confusion_matrix(y_test, y_test_pred))"
   ]
  },
  {
   "cell_type": "markdown",
   "id": "c42e4e40",
   "metadata": {},
   "source": [
    "**The above code is used to get the confusion matrix of testing data and predictions.**"
   ]
  },
  {
   "cell_type": "code",
   "execution_count": 73,
   "id": "a57f8748",
   "metadata": {},
   "outputs": [
    {
     "name": "stdout",
     "output_type": "stream",
     "text": [
      "Accuracy of svm is:  91.30703598367751\n"
     ]
    }
   ],
   "source": [
    "from sklearn.metrics import accuracy_score\n",
    "\n",
    "svm_test_accuracy = accuracy_score(y_test,y_test_pred)\n",
    "\n",
    "print(\"Accuracy of svm is: \",svm_test_accuracy*100)"
   ]
  },
  {
   "cell_type": "markdown",
   "id": "ad4be50e",
   "metadata": {},
   "source": [
    "**From the above code, it is clear that testing data accuracy is 91.**"
   ]
  },
  {
   "cell_type": "code",
   "execution_count": 74,
   "id": "709742af",
   "metadata": {},
   "outputs": [
    {
     "name": "stdout",
     "output_type": "stream",
     "text": [
      "              precision    recall  f1-score   support\n",
      "\n",
      "           0       0.91      0.91      0.91      3982\n",
      "           1       0.91      0.92      0.91      4105\n",
      "\n",
      "    accuracy                           0.91      8087\n",
      "   macro avg       0.91      0.91      0.91      8087\n",
      "weighted avg       0.91      0.91      0.91      8087\n",
      "\n"
     ]
    }
   ],
   "source": [
    "report = classification_report(y_test, y_test_pred)\n",
    "print(report)"
   ]
  },
  {
   "cell_type": "markdown",
   "id": "8c2ceea9",
   "metadata": {},
   "source": [
    "**The training data accuracy of SVM model is 95 and testing data accuracy is 91 which means the model is slightly overfitted which means that the model might or might not be the best fit for the data.**"
   ]
  },
  {
   "cell_type": "markdown",
   "id": "ffafc662",
   "metadata": {},
   "source": [
    "# KNN"
   ]
  },
  {
   "cell_type": "markdown",
   "id": "9efd4919",
   "metadata": {},
   "source": [
    "**The below code is used to implement the KNN Classifier and data preprocessor.**"
   ]
  },
  {
   "cell_type": "code",
   "execution_count": 75,
   "id": "9498bb93",
   "metadata": {},
   "outputs": [],
   "source": [
    "from sklearn.neighbors import KNeighborsClassifier\n",
    "knn_pipeline = Pipeline([\n",
    "    ('preprocessor', preprocessor), \n",
    "    ('classifier', KNeighborsClassifier(n_neighbors=5)) \n",
    "])"
   ]
  },
  {
   "cell_type": "markdown",
   "id": "9ecb974b",
   "metadata": {},
   "source": [
    "**The below code is used to fit the pipeline to the training data.**"
   ]
  },
  {
   "cell_type": "code",
   "execution_count": 76,
   "id": "ffd9f85b",
   "metadata": {},
   "outputs": [
    {
     "data": {
      "text/html": [
       "<style>#sk-container-id-6 {color: black;background-color: white;}#sk-container-id-6 pre{padding: 0;}#sk-container-id-6 div.sk-toggleable {background-color: white;}#sk-container-id-6 label.sk-toggleable__label {cursor: pointer;display: block;width: 100%;margin-bottom: 0;padding: 0.3em;box-sizing: border-box;text-align: center;}#sk-container-id-6 label.sk-toggleable__label-arrow:before {content: \"▸\";float: left;margin-right: 0.25em;color: #696969;}#sk-container-id-6 label.sk-toggleable__label-arrow:hover:before {color: black;}#sk-container-id-6 div.sk-estimator:hover label.sk-toggleable__label-arrow:before {color: black;}#sk-container-id-6 div.sk-toggleable__content {max-height: 0;max-width: 0;overflow: hidden;text-align: left;background-color: #f0f8ff;}#sk-container-id-6 div.sk-toggleable__content pre {margin: 0.2em;color: black;border-radius: 0.25em;background-color: #f0f8ff;}#sk-container-id-6 input.sk-toggleable__control:checked~div.sk-toggleable__content {max-height: 200px;max-width: 100%;overflow: auto;}#sk-container-id-6 input.sk-toggleable__control:checked~label.sk-toggleable__label-arrow:before {content: \"▾\";}#sk-container-id-6 div.sk-estimator input.sk-toggleable__control:checked~label.sk-toggleable__label {background-color: #d4ebff;}#sk-container-id-6 div.sk-label input.sk-toggleable__control:checked~label.sk-toggleable__label {background-color: #d4ebff;}#sk-container-id-6 input.sk-hidden--visually {border: 0;clip: rect(1px 1px 1px 1px);clip: rect(1px, 1px, 1px, 1px);height: 1px;margin: -1px;overflow: hidden;padding: 0;position: absolute;width: 1px;}#sk-container-id-6 div.sk-estimator {font-family: monospace;background-color: #f0f8ff;border: 1px dotted black;border-radius: 0.25em;box-sizing: border-box;margin-bottom: 0.5em;}#sk-container-id-6 div.sk-estimator:hover {background-color: #d4ebff;}#sk-container-id-6 div.sk-parallel-item::after {content: \"\";width: 100%;border-bottom: 1px solid gray;flex-grow: 1;}#sk-container-id-6 div.sk-label:hover label.sk-toggleable__label {background-color: #d4ebff;}#sk-container-id-6 div.sk-serial::before {content: \"\";position: absolute;border-left: 1px solid gray;box-sizing: border-box;top: 0;bottom: 0;left: 50%;z-index: 0;}#sk-container-id-6 div.sk-serial {display: flex;flex-direction: column;align-items: center;background-color: white;padding-right: 0.2em;padding-left: 0.2em;position: relative;}#sk-container-id-6 div.sk-item {position: relative;z-index: 1;}#sk-container-id-6 div.sk-parallel {display: flex;align-items: stretch;justify-content: center;background-color: white;position: relative;}#sk-container-id-6 div.sk-item::before, #sk-container-id-6 div.sk-parallel-item::before {content: \"\";position: absolute;border-left: 1px solid gray;box-sizing: border-box;top: 0;bottom: 0;left: 50%;z-index: -1;}#sk-container-id-6 div.sk-parallel-item {display: flex;flex-direction: column;z-index: 1;position: relative;background-color: white;}#sk-container-id-6 div.sk-parallel-item:first-child::after {align-self: flex-end;width: 50%;}#sk-container-id-6 div.sk-parallel-item:last-child::after {align-self: flex-start;width: 50%;}#sk-container-id-6 div.sk-parallel-item:only-child::after {width: 0;}#sk-container-id-6 div.sk-dashed-wrapped {border: 1px dashed gray;margin: 0 0.4em 0.5em 0.4em;box-sizing: border-box;padding-bottom: 0.4em;background-color: white;}#sk-container-id-6 div.sk-label label {font-family: monospace;font-weight: bold;display: inline-block;line-height: 1.2em;}#sk-container-id-6 div.sk-label-container {text-align: center;}#sk-container-id-6 div.sk-container {/* jupyter's `normalize.less` sets `[hidden] { display: none; }` but bootstrap.min.css set `[hidden] { display: none !important; }` so we also need the `!important` here to be able to override the default hidden behavior on the sphinx rendered scikit-learn.org. See: https://github.com/scikit-learn/scikit-learn/issues/21755 */display: inline-block !important;position: relative;}#sk-container-id-6 div.sk-text-repr-fallback {display: none;}</style><div id=\"sk-container-id-6\" class=\"sk-top-container\"><div class=\"sk-text-repr-fallback\"><pre>Pipeline(steps=[(&#x27;preprocessor&#x27;,\n",
       "                 ColumnTransformer(transformers=[(&#x27;text&#x27;,\n",
       "                                                  Pipeline(steps=[(&#x27;tfidf&#x27;,\n",
       "                                                                   TfidfVectorizer())]),\n",
       "                                                  &#x27;text_&#x27;),\n",
       "                                                 (&#x27;categorical&#x27;,\n",
       "                                                  Pipeline(steps=[(&#x27;create_dummies_cats&#x27;,\n",
       "                                                                   OneHotEncoder(drop=&#x27;first&#x27;,\n",
       "                                                                                 handle_unknown=&#x27;ignore&#x27;))]),\n",
       "                                                  [&#x27;category&#x27;])])),\n",
       "                (&#x27;classifier&#x27;, KNeighborsClassifier())])</pre><b>In a Jupyter environment, please rerun this cell to show the HTML representation or trust the notebook. <br />On GitHub, the HTML representation is unable to render, please try loading this page with nbviewer.org.</b></div><div class=\"sk-container\" hidden><div class=\"sk-item sk-dashed-wrapped\"><div class=\"sk-label-container\"><div class=\"sk-label sk-toggleable\"><input class=\"sk-toggleable__control sk-hidden--visually\" id=\"sk-estimator-id-36\" type=\"checkbox\" ><label for=\"sk-estimator-id-36\" class=\"sk-toggleable__label sk-toggleable__label-arrow\">Pipeline</label><div class=\"sk-toggleable__content\"><pre>Pipeline(steps=[(&#x27;preprocessor&#x27;,\n",
       "                 ColumnTransformer(transformers=[(&#x27;text&#x27;,\n",
       "                                                  Pipeline(steps=[(&#x27;tfidf&#x27;,\n",
       "                                                                   TfidfVectorizer())]),\n",
       "                                                  &#x27;text_&#x27;),\n",
       "                                                 (&#x27;categorical&#x27;,\n",
       "                                                  Pipeline(steps=[(&#x27;create_dummies_cats&#x27;,\n",
       "                                                                   OneHotEncoder(drop=&#x27;first&#x27;,\n",
       "                                                                                 handle_unknown=&#x27;ignore&#x27;))]),\n",
       "                                                  [&#x27;category&#x27;])])),\n",
       "                (&#x27;classifier&#x27;, KNeighborsClassifier())])</pre></div></div></div><div class=\"sk-serial\"><div class=\"sk-item sk-dashed-wrapped\"><div class=\"sk-label-container\"><div class=\"sk-label sk-toggleable\"><input class=\"sk-toggleable__control sk-hidden--visually\" id=\"sk-estimator-id-37\" type=\"checkbox\" ><label for=\"sk-estimator-id-37\" class=\"sk-toggleable__label sk-toggleable__label-arrow\">preprocessor: ColumnTransformer</label><div class=\"sk-toggleable__content\"><pre>ColumnTransformer(transformers=[(&#x27;text&#x27;,\n",
       "                                 Pipeline(steps=[(&#x27;tfidf&#x27;, TfidfVectorizer())]),\n",
       "                                 &#x27;text_&#x27;),\n",
       "                                (&#x27;categorical&#x27;,\n",
       "                                 Pipeline(steps=[(&#x27;create_dummies_cats&#x27;,\n",
       "                                                  OneHotEncoder(drop=&#x27;first&#x27;,\n",
       "                                                                handle_unknown=&#x27;ignore&#x27;))]),\n",
       "                                 [&#x27;category&#x27;])])</pre></div></div></div><div class=\"sk-parallel\"><div class=\"sk-parallel-item\"><div class=\"sk-item\"><div class=\"sk-label-container\"><div class=\"sk-label sk-toggleable\"><input class=\"sk-toggleable__control sk-hidden--visually\" id=\"sk-estimator-id-38\" type=\"checkbox\" ><label for=\"sk-estimator-id-38\" class=\"sk-toggleable__label sk-toggleable__label-arrow\">text</label><div class=\"sk-toggleable__content\"><pre>text_</pre></div></div></div><div class=\"sk-serial\"><div class=\"sk-item\"><div class=\"sk-serial\"><div class=\"sk-item\"><div class=\"sk-estimator sk-toggleable\"><input class=\"sk-toggleable__control sk-hidden--visually\" id=\"sk-estimator-id-39\" type=\"checkbox\" ><label for=\"sk-estimator-id-39\" class=\"sk-toggleable__label sk-toggleable__label-arrow\">TfidfVectorizer</label><div class=\"sk-toggleable__content\"><pre>TfidfVectorizer()</pre></div></div></div></div></div></div></div></div><div class=\"sk-parallel-item\"><div class=\"sk-item\"><div class=\"sk-label-container\"><div class=\"sk-label sk-toggleable\"><input class=\"sk-toggleable__control sk-hidden--visually\" id=\"sk-estimator-id-40\" type=\"checkbox\" ><label for=\"sk-estimator-id-40\" class=\"sk-toggleable__label sk-toggleable__label-arrow\">categorical</label><div class=\"sk-toggleable__content\"><pre>[&#x27;category&#x27;]</pre></div></div></div><div class=\"sk-serial\"><div class=\"sk-item\"><div class=\"sk-serial\"><div class=\"sk-item\"><div class=\"sk-estimator sk-toggleable\"><input class=\"sk-toggleable__control sk-hidden--visually\" id=\"sk-estimator-id-41\" type=\"checkbox\" ><label for=\"sk-estimator-id-41\" class=\"sk-toggleable__label sk-toggleable__label-arrow\">OneHotEncoder</label><div class=\"sk-toggleable__content\"><pre>OneHotEncoder(drop=&#x27;first&#x27;, handle_unknown=&#x27;ignore&#x27;)</pre></div></div></div></div></div></div></div></div></div></div><div class=\"sk-item\"><div class=\"sk-estimator sk-toggleable\"><input class=\"sk-toggleable__control sk-hidden--visually\" id=\"sk-estimator-id-42\" type=\"checkbox\" ><label for=\"sk-estimator-id-42\" class=\"sk-toggleable__label sk-toggleable__label-arrow\">KNeighborsClassifier</label><div class=\"sk-toggleable__content\"><pre>KNeighborsClassifier()</pre></div></div></div></div></div></div></div>"
      ],
      "text/plain": [
       "Pipeline(steps=[('preprocessor',\n",
       "                 ColumnTransformer(transformers=[('text',\n",
       "                                                  Pipeline(steps=[('tfidf',\n",
       "                                                                   TfidfVectorizer())]),\n",
       "                                                  'text_'),\n",
       "                                                 ('categorical',\n",
       "                                                  Pipeline(steps=[('create_dummies_cats',\n",
       "                                                                   OneHotEncoder(drop='first',\n",
       "                                                                                 handle_unknown='ignore'))]),\n",
       "                                                  ['category'])])),\n",
       "                ('classifier', KNeighborsClassifier())])"
      ]
     },
     "execution_count": 76,
     "metadata": {},
     "output_type": "execute_result"
    }
   ],
   "source": [
    "knn_pipeline.fit(X_train, y_train)"
   ]
  },
  {
   "cell_type": "markdown",
   "id": "ee63497c",
   "metadata": {},
   "source": [
    "## EVALUATION OF TRAINING DATA"
   ]
  },
  {
   "cell_type": "markdown",
   "id": "992e13bb",
   "metadata": {},
   "source": [
    "**The below code is used to get the training data accuracy.**"
   ]
  },
  {
   "cell_type": "code",
   "execution_count": 77,
   "id": "e5950424",
   "metadata": {},
   "outputs": [],
   "source": [
    "y_train_pred = knn_pipeline.predict(X_train)"
   ]
  },
  {
   "cell_type": "code",
   "execution_count": 78,
   "id": "bd3de1c3",
   "metadata": {},
   "outputs": [
    {
     "name": "stdout",
     "output_type": "stream",
     "text": [
      "Accuracy of knn is:  65.86180244241768\n"
     ]
    }
   ],
   "source": [
    "from sklearn.metrics import accuracy_score\n",
    "\n",
    "knn_train_accuracy = accuracy_score(y_train,y_train_pred)\n",
    "\n",
    "print(\"Accuracy of knn is: \",knn_train_accuracy*100)"
   ]
  },
  {
   "cell_type": "markdown",
   "id": "82a3f285",
   "metadata": {},
   "source": [
    "**The training data accuracy of KNN model is 66.**"
   ]
  },
  {
   "cell_type": "code",
   "execution_count": 79,
   "id": "4374adfe",
   "metadata": {},
   "outputs": [
    {
     "name": "stdout",
     "output_type": "stream",
     "text": [
      "              precision    recall  f1-score   support\n",
      "\n",
      "           0       0.60      0.99      0.74     16234\n",
      "           1       0.96      0.33      0.49     16111\n",
      "\n",
      "    accuracy                           0.66     32345\n",
      "   macro avg       0.78      0.66      0.62     32345\n",
      "weighted avg       0.78      0.66      0.62     32345\n",
      "\n"
     ]
    }
   ],
   "source": [
    "report = classification_report(y_train, y_train_pred)\n",
    "print(report)"
   ]
  },
  {
   "cell_type": "markdown",
   "id": "48edb7b0",
   "metadata": {},
   "source": [
    "**The below code is used to get the testing data accuracy.**"
   ]
  },
  {
   "cell_type": "code",
   "execution_count": 80,
   "id": "9a9f5a61",
   "metadata": {},
   "outputs": [],
   "source": [
    "y_test_pred = knn_pipeline.predict(X_test)"
   ]
  },
  {
   "cell_type": "code",
   "execution_count": 81,
   "id": "e89be0af",
   "metadata": {},
   "outputs": [
    {
     "name": "stdout",
     "output_type": "stream",
     "text": [
      "Accuracy of knn is:  58.37764313095091\n"
     ]
    }
   ],
   "source": [
    "from sklearn.metrics import accuracy_score\n",
    "\n",
    "knn_test_accuracy = accuracy_score(y_test,y_test_pred)\n",
    "\n",
    "print(\"Accuracy of knn is: \",knn_test_accuracy*100)"
   ]
  },
  {
   "cell_type": "markdown",
   "id": "786a4ed7",
   "metadata": {},
   "source": [
    "**The training data accuracy of KNN model is 58.**"
   ]
  },
  {
   "cell_type": "code",
   "execution_count": 82,
   "id": "4bd8e28b",
   "metadata": {},
   "outputs": [
    {
     "name": "stdout",
     "output_type": "stream",
     "text": [
      "              precision    recall  f1-score   support\n",
      "\n",
      "           0       0.54      0.98      0.70      3982\n",
      "           1       0.90      0.20      0.33      4105\n",
      "\n",
      "    accuracy                           0.58      8087\n",
      "   macro avg       0.72      0.59      0.51      8087\n",
      "weighted avg       0.72      0.58      0.51      8087\n",
      "\n"
     ]
    }
   ],
   "source": [
    "report = classification_report(y_test, y_test_pred)\n",
    "print(report)"
   ]
  },
  {
   "cell_type": "code",
   "execution_count": null,
   "id": "1b86dd5c",
   "metadata": {},
   "outputs": [],
   "source": []
  },
  {
   "cell_type": "code",
   "execution_count": null,
   "id": "d2048a88",
   "metadata": {},
   "outputs": [],
   "source": []
  },
  {
   "cell_type": "markdown",
   "id": "f721b56d",
   "metadata": {},
   "source": [
    "## COMPARISONS OF TRAINING DATA ACCURACY OF ALL THE ABOVE MODELS"
   ]
  },
  {
   "cell_type": "code",
   "execution_count": 83,
   "id": "4a962555",
   "metadata": {},
   "outputs": [
    {
     "name": "stdout",
     "output_type": "stream",
     "text": [
      "Accuracy of all models for the training dataset\n"
     ]
    },
    {
     "data": {
      "text/html": [
       "<div>\n",
       "<style scoped>\n",
       "    .dataframe tbody tr th:only-of-type {\n",
       "        vertical-align: middle;\n",
       "    }\n",
       "\n",
       "    .dataframe tbody tr th {\n",
       "        vertical-align: top;\n",
       "    }\n",
       "\n",
       "    .dataframe thead th {\n",
       "        text-align: right;\n",
       "    }\n",
       "</style>\n",
       "<table border=\"1\" class=\"dataframe\">\n",
       "  <thead>\n",
       "    <tr style=\"text-align: right;\">\n",
       "      <th></th>\n",
       "      <th>Score</th>\n",
       "      <th>Model</th>\n",
       "    </tr>\n",
       "  </thead>\n",
       "  <tbody>\n",
       "    <tr>\n",
       "      <th>0</th>\n",
       "      <td>1.000000</td>\n",
       "      <td>Decision Tree</td>\n",
       "    </tr>\n",
       "    <tr>\n",
       "      <th>1</th>\n",
       "      <td>1.000000</td>\n",
       "      <td>Random Forest</td>\n",
       "    </tr>\n",
       "    <tr>\n",
       "      <th>2</th>\n",
       "      <td>0.978173</td>\n",
       "      <td>Logistic Regression</td>\n",
       "    </tr>\n",
       "    <tr>\n",
       "      <th>3</th>\n",
       "      <td>0.947349</td>\n",
       "      <td>Support Vector Machine</td>\n",
       "    </tr>\n",
       "    <tr>\n",
       "      <th>4</th>\n",
       "      <td>0.892905</td>\n",
       "      <td>Naive Bayes</td>\n",
       "    </tr>\n",
       "    <tr>\n",
       "      <th>5</th>\n",
       "      <td>0.658618</td>\n",
       "      <td>K-Nearest Neighbor</td>\n",
       "    </tr>\n",
       "  </tbody>\n",
       "</table>\n",
       "</div>"
      ],
      "text/plain": [
       "      Score                   Model\n",
       "0  1.000000           Decision Tree\n",
       "1  1.000000           Random Forest\n",
       "2  0.978173     Logistic Regression\n",
       "3  0.947349  Support Vector Machine\n",
       "4  0.892905             Naive Bayes\n",
       "5  0.658618      K-Nearest Neighbor"
      ]
     },
     "execution_count": 83,
     "metadata": {},
     "output_type": "execute_result"
    }
   ],
   "source": [
    "# Compare Several models according to their Accuracies\n",
    "print('Accuracy of all models for the training dataset')\n",
    "\n",
    "Model_Comparison_train = pd.DataFrame({\n",
    "    'Model': ['Logistic Regression', 'Decision Tree','Random Forest', \n",
    "              'Naive Bayes','Support Vector Machine', 'K-Nearest Neighbor'],\n",
    "    'Score': [log_train_accuracy, dt_train_accuracy,rf_train_accuracy, nb_train_accuracy, svm_train_accuracy, knn_train_accuracy\n",
    "              ]})\n",
    "Model_Comparison_df = Model_Comparison_train.sort_values(by='Score', ascending=False)\n",
    "Model_Comparison_df = Model_Comparison_df.set_index('Score')\n",
    "Model_Comparison_df.reset_index()"
   ]
  },
  {
   "cell_type": "markdown",
   "id": "b1a05989",
   "metadata": {},
   "source": [
    "## COMPARISONS OF TESTING DATA ACCURACY OF ALL THE ABOVE MODELS"
   ]
  },
  {
   "cell_type": "code",
   "execution_count": 84,
   "id": "b87c28c4",
   "metadata": {},
   "outputs": [
    {
     "name": "stdout",
     "output_type": "stream",
     "text": [
      "Accuracy of all models for the testing dataset\n"
     ]
    },
    {
     "data": {
      "text/html": [
       "<div>\n",
       "<style scoped>\n",
       "    .dataframe tbody tr th:only-of-type {\n",
       "        vertical-align: middle;\n",
       "    }\n",
       "\n",
       "    .dataframe tbody tr th {\n",
       "        vertical-align: top;\n",
       "    }\n",
       "\n",
       "    .dataframe thead th {\n",
       "        text-align: right;\n",
       "    }\n",
       "</style>\n",
       "<table border=\"1\" class=\"dataframe\">\n",
       "  <thead>\n",
       "    <tr style=\"text-align: right;\">\n",
       "      <th></th>\n",
       "      <th>Score</th>\n",
       "      <th>Model</th>\n",
       "    </tr>\n",
       "  </thead>\n",
       "  <tbody>\n",
       "    <tr>\n",
       "      <th>0</th>\n",
       "      <td>0.913070</td>\n",
       "      <td>Support Vector Machine</td>\n",
       "    </tr>\n",
       "    <tr>\n",
       "      <th>1</th>\n",
       "      <td>0.892173</td>\n",
       "      <td>Logistic Regression</td>\n",
       "    </tr>\n",
       "    <tr>\n",
       "      <th>2</th>\n",
       "      <td>0.889452</td>\n",
       "      <td>Random Forest</td>\n",
       "    </tr>\n",
       "    <tr>\n",
       "      <th>3</th>\n",
       "      <td>0.858415</td>\n",
       "      <td>Naive Bayes</td>\n",
       "    </tr>\n",
       "    <tr>\n",
       "      <th>4</th>\n",
       "      <td>0.772969</td>\n",
       "      <td>Decision Tree</td>\n",
       "    </tr>\n",
       "    <tr>\n",
       "      <th>5</th>\n",
       "      <td>0.583776</td>\n",
       "      <td>K-Nearest Neighbor</td>\n",
       "    </tr>\n",
       "  </tbody>\n",
       "</table>\n",
       "</div>"
      ],
      "text/plain": [
       "      Score                   Model\n",
       "0  0.913070  Support Vector Machine\n",
       "1  0.892173     Logistic Regression\n",
       "2  0.889452           Random Forest\n",
       "3  0.858415             Naive Bayes\n",
       "4  0.772969           Decision Tree\n",
       "5  0.583776      K-Nearest Neighbor"
      ]
     },
     "execution_count": 84,
     "metadata": {},
     "output_type": "execute_result"
    }
   ],
   "source": [
    "# Compare Several models according to their Accuracies\n",
    "print('Accuracy of all models for the testing dataset')\n",
    "\n",
    "Model_Comparison_test = pd.DataFrame({\n",
    "    'Model': ['Logistic Regression', 'Decision Tree','Random Forest', \n",
    "              'Naive Bayes','Support Vector Machine', 'K-Nearest Neighbor'],\n",
    "    'Score': [log_test_accuracy, dt_test_accuracy, rf_test_accuracy, nb_test_accuracy, svm_test_accuracy, knn_test_accuracy\n",
    "              ]})\n",
    "Model_Comparison_df = Model_Comparison_test.sort_values(by='Score', ascending=False)\n",
    "Model_Comparison_df = Model_Comparison_df.set_index('Score')\n",
    "Model_Comparison_df.reset_index()"
   ]
  },
  {
   "cell_type": "markdown",
   "id": "27a8dadc",
   "metadata": {},
   "source": [
    "### From the above comparisons of accuracies of all the models, \n",
    "\n",
    "- it is clear that SVM has less difference between training and testing data, ( that is only 4). So, I can say that SVM model is the best fit for the data.\n",
    "\n",
    "- To my understanding from the above codes, I can say that SVM is the best fit for the data."
   ]
  },
  {
   "cell_type": "markdown",
   "id": "df7e6649",
   "metadata": {},
   "source": [
    "# CROSS VALIDATION"
   ]
  },
  {
   "cell_type": "code",
   "execution_count": 85,
   "id": "0474e575",
   "metadata": {},
   "outputs": [],
   "source": [
    "from sklearn.model_selection import cross_val_score"
   ]
  },
  {
   "cell_type": "code",
   "execution_count": 86,
   "id": "28196aed",
   "metadata": {},
   "outputs": [
    {
     "name": "stderr",
     "output_type": "stream",
     "text": [
      "C:\\Users\\CHANDRIKA\\anaconda3\\lib\\site-packages\\sklearn\\linear_model\\_logistic.py:458: ConvergenceWarning: lbfgs failed to converge (status=1):\n",
      "STOP: TOTAL NO. of ITERATIONS REACHED LIMIT.\n",
      "\n",
      "Increase the number of iterations (max_iter) or scale the data as shown in:\n",
      "    https://scikit-learn.org/stable/modules/preprocessing.html\n",
      "Please also refer to the documentation for alternative solver options:\n",
      "    https://scikit-learn.org/stable/modules/linear_model.html#logistic-regression\n",
      "  n_iter_i = _check_optimize_result(\n",
      "C:\\Users\\CHANDRIKA\\anaconda3\\lib\\site-packages\\sklearn\\linear_model\\_logistic.py:458: ConvergenceWarning: lbfgs failed to converge (status=1):\n",
      "STOP: TOTAL NO. of ITERATIONS REACHED LIMIT.\n",
      "\n",
      "Increase the number of iterations (max_iter) or scale the data as shown in:\n",
      "    https://scikit-learn.org/stable/modules/preprocessing.html\n",
      "Please also refer to the documentation for alternative solver options:\n",
      "    https://scikit-learn.org/stable/modules/linear_model.html#logistic-regression\n",
      "  n_iter_i = _check_optimize_result(\n",
      "C:\\Users\\CHANDRIKA\\anaconda3\\lib\\site-packages\\sklearn\\linear_model\\_logistic.py:458: ConvergenceWarning: lbfgs failed to converge (status=1):\n",
      "STOP: TOTAL NO. of ITERATIONS REACHED LIMIT.\n",
      "\n",
      "Increase the number of iterations (max_iter) or scale the data as shown in:\n",
      "    https://scikit-learn.org/stable/modules/preprocessing.html\n",
      "Please also refer to the documentation for alternative solver options:\n",
      "    https://scikit-learn.org/stable/modules/linear_model.html#logistic-regression\n",
      "  n_iter_i = _check_optimize_result(\n",
      "C:\\Users\\CHANDRIKA\\anaconda3\\lib\\site-packages\\sklearn\\linear_model\\_logistic.py:458: ConvergenceWarning: lbfgs failed to converge (status=1):\n",
      "STOP: TOTAL NO. of ITERATIONS REACHED LIMIT.\n",
      "\n",
      "Increase the number of iterations (max_iter) or scale the data as shown in:\n",
      "    https://scikit-learn.org/stable/modules/preprocessing.html\n",
      "Please also refer to the documentation for alternative solver options:\n",
      "    https://scikit-learn.org/stable/modules/linear_model.html#logistic-regression\n",
      "  n_iter_i = _check_optimize_result(\n",
      "C:\\Users\\CHANDRIKA\\anaconda3\\lib\\site-packages\\sklearn\\linear_model\\_logistic.py:458: ConvergenceWarning: lbfgs failed to converge (status=1):\n",
      "STOP: TOTAL NO. of ITERATIONS REACHED LIMIT.\n",
      "\n",
      "Increase the number of iterations (max_iter) or scale the data as shown in:\n",
      "    https://scikit-learn.org/stable/modules/preprocessing.html\n",
      "Please also refer to the documentation for alternative solver options:\n",
      "    https://scikit-learn.org/stable/modules/linear_model.html#logistic-regression\n",
      "  n_iter_i = _check_optimize_result(\n"
     ]
    },
    {
     "name": "stdout",
     "output_type": "stream",
     "text": [
      "Cross-Validation Scores of Logistic Regression: [0.88591745 0.88607204 0.89117329 0.88143453 0.8845262 ]\n"
     ]
    }
   ],
   "source": [
    "log_scores = cross_val_score(lr_model, X_train, y_train, cv=5)\n",
    "print(\"Cross-Validation Scores of Logistic Regression:\", log_scores)"
   ]
  },
  {
   "cell_type": "markdown",
   "id": "376936f7",
   "metadata": {},
   "source": [
    "**From the above code, it is clear that cross validation of logistic regression is approximately 88 percent. Cross validation is defined as a technique which evaluates the model performance on unseen data.**\n",
    "\n",
    "- From the above result, I can say that logistic regression might be the best fit for the data."
   ]
  },
  {
   "cell_type": "code",
   "execution_count": 87,
   "id": "679938d8",
   "metadata": {},
   "outputs": [
    {
     "name": "stdout",
     "output_type": "stream",
     "text": [
      "Cross-Validation Scores of Decision Tree: [0.77569949 0.76920699 0.77075282 0.76657907 0.76642449]\n"
     ]
    }
   ],
   "source": [
    "dt_scores = cross_val_score(dt_modeling_pipeline, X_train, y_train, cv=5)\n",
    "print(\"Cross-Validation Scores of Decision Tree:\", dt_scores)"
   ]
  },
  {
   "cell_type": "markdown",
   "id": "d3e82bce",
   "metadata": {},
   "source": [
    "**From the above code, it is clear that cross validation of decision tree is approximately 77 percent. Cross validation is defined as a technique which evaluates the model performance on unseen data.**\n",
    "\n",
    "- From the above result, I can say that decision tree might not be the best fit for the data."
   ]
  },
  {
   "cell_type": "code",
   "execution_count": 88,
   "id": "4993e996",
   "metadata": {},
   "outputs": [
    {
     "name": "stdout",
     "output_type": "stream",
     "text": [
      "Cross-Validation Scores of Random Forest: [0.8771062  0.88143453 0.88622662 0.87586953 0.8863812 ]\n"
     ]
    }
   ],
   "source": [
    "rf_scores = cross_val_score(rf_modeling_pipeline, X_train, y_train, cv=5, n_jobs=-1)\n",
    "print(\"Cross-Validation Scores of Random Forest:\", rf_scores)"
   ]
  },
  {
   "cell_type": "markdown",
   "id": "f42ecc9e",
   "metadata": {},
   "source": [
    "**From the above code, it is clear that cross validation of random forest is approximately 88 percent. Cross validation is defined as a technique which evaluates the model performance on unseen data.**\n",
    "\n",
    "- From the above result, I can say that random forest might be the best fit for the data."
   ]
  },
  {
   "cell_type": "code",
   "execution_count": 89,
   "id": "9bbbde55",
   "metadata": {},
   "outputs": [
    {
     "name": "stdout",
     "output_type": "stream",
     "text": [
      "Cross-Validation Scores of Naive Bayes: [0.85778327 0.85809244 0.86597619 0.84928119 0.85654661]\n"
     ]
    }
   ],
   "source": [
    "nb_scores = cross_val_score(naive_bayes_pipeline, X_train, y_train, cv=5, n_jobs=-1)\n",
    "print(\"Cross-Validation Scores of Naive Bayes:\", nb_scores)"
   ]
  },
  {
   "cell_type": "markdown",
   "id": "3544a4f4",
   "metadata": {},
   "source": [
    "**From the above code, it is clear that cross validation of naive bayes is approximately 85 percent. Cross validation is defined as a technique which evaluates the model performance on unseen data.**\n",
    "\n",
    "- From the above result, I can say that naive bayes might be the best fit for the data."
   ]
  },
  {
   "cell_type": "code",
   "execution_count": 90,
   "id": "5c969408",
   "metadata": {},
   "outputs": [
    {
     "name": "stdout",
     "output_type": "stream",
     "text": [
      "Cross-Validation Scores of SVM: [0.90400371 0.90353996 0.90941413 0.90570413 0.90446746]\n"
     ]
    }
   ],
   "source": [
    "svm_scores = cross_val_score(svm_pipeline, X_train, y_train, cv=5, n_jobs=-1)\n",
    "print(\"Cross-Validation Scores of SVM:\", svm_scores)"
   ]
  },
  {
   "cell_type": "markdown",
   "id": "647f7260",
   "metadata": {},
   "source": [
    "**From the above code, it is clear that cross validation of SVM is approximately 90 percent. Cross validation is defined as a technique which evaluates the model performance on unseen data.**\n",
    "\n",
    "- From the above result, I can say that SVM might be the best fit for the data."
   ]
  },
  {
   "cell_type": "code",
   "execution_count": 91,
   "id": "23f38deb",
   "metadata": {},
   "outputs": [
    {
     "name": "stdout",
     "output_type": "stream",
     "text": [
      "Cross-Validation Scores of KNN: [0.57937857 0.58324316 0.58818983 0.58494358 0.58447983]\n"
     ]
    }
   ],
   "source": [
    "knn_scores = cross_val_score(knn_pipeline, X_train, y_train, cv=5, n_jobs=-1)\n",
    "print(\"Cross-Validation Scores of KNN:\", knn_scores)"
   ]
  },
  {
   "cell_type": "markdown",
   "id": "c5cd779e",
   "metadata": {},
   "source": [
    "**From the above code, it is clear that cross validation of KNN is approximately 58 percent. Cross validation is defined as a technique which evaluates the model performance on unseen data.**\n",
    "\n",
    "- From the above result, I can say that KNN might not be the best fit for the data."
   ]
  },
  {
   "cell_type": "markdown",
   "id": "bd8e2135",
   "metadata": {},
   "source": [
    "**From all the above results, I can say that SVM has the highest cross validation accuracy (90) which means that SVM is the best model fit for this data.**"
   ]
  },
  {
   "cell_type": "code",
   "execution_count": null,
   "id": "53fc4dd3",
   "metadata": {},
   "outputs": [],
   "source": []
  },
  {
   "cell_type": "markdown",
   "id": "9a764ac0",
   "metadata": {},
   "source": [
    "# HYPERPARAMETER TUNING"
   ]
  },
  {
   "cell_type": "markdown",
   "id": "9551a53a",
   "metadata": {},
   "source": [
    "# LOGISTIC REGRESSION - HYPERPARAMETER TUNING"
   ]
  },
  {
   "cell_type": "code",
   "execution_count": 92,
   "id": "38385446",
   "metadata": {},
   "outputs": [
    {
     "name": "stderr",
     "output_type": "stream",
     "text": [
      "C:\\Users\\CHANDRIKA\\anaconda3\\lib\\site-packages\\sklearn\\model_selection\\_validation.py:378: FitFailedWarning: \n",
      "25 fits failed out of a total of 100.\n",
      "The score on these train-test partitions for these parameters will be set to nan.\n",
      "If these failures are not expected, you can try to debug them by setting error_score='raise'.\n",
      "\n",
      "Below are more details about the failures:\n",
      "--------------------------------------------------------------------------------\n",
      "25 fits failed with the following error:\n",
      "Traceback (most recent call last):\n",
      "  File \"C:\\Users\\CHANDRIKA\\anaconda3\\lib\\site-packages\\sklearn\\model_selection\\_validation.py\", line 686, in _fit_and_score\n",
      "    estimator.fit(X_train, y_train, **fit_params)\n",
      "  File \"C:\\Users\\CHANDRIKA\\anaconda3\\lib\\site-packages\\sklearn\\pipeline.py\", line 405, in fit\n",
      "    self._final_estimator.fit(Xt, y, **fit_params_last_step)\n",
      "  File \"C:\\Users\\CHANDRIKA\\anaconda3\\lib\\site-packages\\sklearn\\linear_model\\_logistic.py\", line 1162, in fit\n",
      "    solver = _check_solver(self.solver, self.penalty, self.dual)\n",
      "  File \"C:\\Users\\CHANDRIKA\\anaconda3\\lib\\site-packages\\sklearn\\linear_model\\_logistic.py\", line 54, in _check_solver\n",
      "    raise ValueError(\n",
      "ValueError: Solver lbfgs supports only 'l2' or 'none' penalties, got l1 penalty.\n",
      "\n",
      "  warnings.warn(some_fits_failed_message, FitFailedWarning)\n",
      "C:\\Users\\CHANDRIKA\\anaconda3\\lib\\site-packages\\sklearn\\model_selection\\_search.py:952: UserWarning: One or more of the test scores are non-finite: [0.50190138        nan 0.77137115 0.78345958 0.65988561        nan\n",
      " 0.81864276 0.81731334 0.8374401         nan 0.86922245 0.8693152\n",
      " 0.89058587        nan 0.89976812 0.89979904 0.89222446        nan\n",
      " 0.90400371 0.90412738]\n",
      "  warnings.warn(\n",
      "C:\\Users\\CHANDRIKA\\anaconda3\\lib\\site-packages\\sklearn\\linear_model\\_logistic.py:458: ConvergenceWarning: lbfgs failed to converge (status=1):\n",
      "STOP: TOTAL NO. of ITERATIONS REACHED LIMIT.\n",
      "\n",
      "Increase the number of iterations (max_iter) or scale the data as shown in:\n",
      "    https://scikit-learn.org/stable/modules/preprocessing.html\n",
      "Please also refer to the documentation for alternative solver options:\n",
      "    https://scikit-learn.org/stable/modules/linear_model.html#logistic-regression\n",
      "  n_iter_i = _check_optimize_result(\n"
     ]
    },
    {
     "data": {
      "text/html": [
       "<style>#sk-container-id-7 {color: black;background-color: white;}#sk-container-id-7 pre{padding: 0;}#sk-container-id-7 div.sk-toggleable {background-color: white;}#sk-container-id-7 label.sk-toggleable__label {cursor: pointer;display: block;width: 100%;margin-bottom: 0;padding: 0.3em;box-sizing: border-box;text-align: center;}#sk-container-id-7 label.sk-toggleable__label-arrow:before {content: \"▸\";float: left;margin-right: 0.25em;color: #696969;}#sk-container-id-7 label.sk-toggleable__label-arrow:hover:before {color: black;}#sk-container-id-7 div.sk-estimator:hover label.sk-toggleable__label-arrow:before {color: black;}#sk-container-id-7 div.sk-toggleable__content {max-height: 0;max-width: 0;overflow: hidden;text-align: left;background-color: #f0f8ff;}#sk-container-id-7 div.sk-toggleable__content pre {margin: 0.2em;color: black;border-radius: 0.25em;background-color: #f0f8ff;}#sk-container-id-7 input.sk-toggleable__control:checked~div.sk-toggleable__content {max-height: 200px;max-width: 100%;overflow: auto;}#sk-container-id-7 input.sk-toggleable__control:checked~label.sk-toggleable__label-arrow:before {content: \"▾\";}#sk-container-id-7 div.sk-estimator input.sk-toggleable__control:checked~label.sk-toggleable__label {background-color: #d4ebff;}#sk-container-id-7 div.sk-label input.sk-toggleable__control:checked~label.sk-toggleable__label {background-color: #d4ebff;}#sk-container-id-7 input.sk-hidden--visually {border: 0;clip: rect(1px 1px 1px 1px);clip: rect(1px, 1px, 1px, 1px);height: 1px;margin: -1px;overflow: hidden;padding: 0;position: absolute;width: 1px;}#sk-container-id-7 div.sk-estimator {font-family: monospace;background-color: #f0f8ff;border: 1px dotted black;border-radius: 0.25em;box-sizing: border-box;margin-bottom: 0.5em;}#sk-container-id-7 div.sk-estimator:hover {background-color: #d4ebff;}#sk-container-id-7 div.sk-parallel-item::after {content: \"\";width: 100%;border-bottom: 1px solid gray;flex-grow: 1;}#sk-container-id-7 div.sk-label:hover label.sk-toggleable__label {background-color: #d4ebff;}#sk-container-id-7 div.sk-serial::before {content: \"\";position: absolute;border-left: 1px solid gray;box-sizing: border-box;top: 0;bottom: 0;left: 50%;z-index: 0;}#sk-container-id-7 div.sk-serial {display: flex;flex-direction: column;align-items: center;background-color: white;padding-right: 0.2em;padding-left: 0.2em;position: relative;}#sk-container-id-7 div.sk-item {position: relative;z-index: 1;}#sk-container-id-7 div.sk-parallel {display: flex;align-items: stretch;justify-content: center;background-color: white;position: relative;}#sk-container-id-7 div.sk-item::before, #sk-container-id-7 div.sk-parallel-item::before {content: \"\";position: absolute;border-left: 1px solid gray;box-sizing: border-box;top: 0;bottom: 0;left: 50%;z-index: -1;}#sk-container-id-7 div.sk-parallel-item {display: flex;flex-direction: column;z-index: 1;position: relative;background-color: white;}#sk-container-id-7 div.sk-parallel-item:first-child::after {align-self: flex-end;width: 50%;}#sk-container-id-7 div.sk-parallel-item:last-child::after {align-self: flex-start;width: 50%;}#sk-container-id-7 div.sk-parallel-item:only-child::after {width: 0;}#sk-container-id-7 div.sk-dashed-wrapped {border: 1px dashed gray;margin: 0 0.4em 0.5em 0.4em;box-sizing: border-box;padding-bottom: 0.4em;background-color: white;}#sk-container-id-7 div.sk-label label {font-family: monospace;font-weight: bold;display: inline-block;line-height: 1.2em;}#sk-container-id-7 div.sk-label-container {text-align: center;}#sk-container-id-7 div.sk-container {/* jupyter's `normalize.less` sets `[hidden] { display: none; }` but bootstrap.min.css set `[hidden] { display: none !important; }` so we also need the `!important` here to be able to override the default hidden behavior on the sphinx rendered scikit-learn.org. See: https://github.com/scikit-learn/scikit-learn/issues/21755 */display: inline-block !important;position: relative;}#sk-container-id-7 div.sk-text-repr-fallback {display: none;}</style><div id=\"sk-container-id-7\" class=\"sk-top-container\"><div class=\"sk-text-repr-fallback\"><pre>GridSearchCV(cv=5,\n",
       "             estimator=Pipeline(steps=[(&#x27;preprocessor&#x27;,\n",
       "                                        ColumnTransformer(transformers=[(&#x27;text&#x27;,\n",
       "                                                                         Pipeline(steps=[(&#x27;tfidf&#x27;,\n",
       "                                                                                          TfidfVectorizer())]),\n",
       "                                                                         &#x27;text_&#x27;),\n",
       "                                                                        (&#x27;categorical&#x27;,\n",
       "                                                                         Pipeline(steps=[(&#x27;create_dummies_cats&#x27;,\n",
       "                                                                                          OneHotEncoder(drop=&#x27;first&#x27;,\n",
       "                                                                                                        handle_unknown=&#x27;ignore&#x27;))]),\n",
       "                                                                         [&#x27;category&#x27;])])),\n",
       "                                       (&#x27;lr_classifier&#x27;,\n",
       "                                        LogisticRegression())]),\n",
       "             n_jobs=-1,\n",
       "             param_grid={&#x27;lr_classifier__C&#x27;: [0.001, 0.01, 0.1, 1, 10],\n",
       "                         &#x27;lr_classifier__penalty&#x27;: [&#x27;l1&#x27;, &#x27;l2&#x27;],\n",
       "                         &#x27;lr_classifier__solver&#x27;: [&#x27;liblinear&#x27;, &#x27;lbfgs&#x27;]},\n",
       "             scoring=&#x27;accuracy&#x27;)</pre><b>In a Jupyter environment, please rerun this cell to show the HTML representation or trust the notebook. <br />On GitHub, the HTML representation is unable to render, please try loading this page with nbviewer.org.</b></div><div class=\"sk-container\" hidden><div class=\"sk-item sk-dashed-wrapped\"><div class=\"sk-label-container\"><div class=\"sk-label sk-toggleable\"><input class=\"sk-toggleable__control sk-hidden--visually\" id=\"sk-estimator-id-43\" type=\"checkbox\" ><label for=\"sk-estimator-id-43\" class=\"sk-toggleable__label sk-toggleable__label-arrow\">GridSearchCV</label><div class=\"sk-toggleable__content\"><pre>GridSearchCV(cv=5,\n",
       "             estimator=Pipeline(steps=[(&#x27;preprocessor&#x27;,\n",
       "                                        ColumnTransformer(transformers=[(&#x27;text&#x27;,\n",
       "                                                                         Pipeline(steps=[(&#x27;tfidf&#x27;,\n",
       "                                                                                          TfidfVectorizer())]),\n",
       "                                                                         &#x27;text_&#x27;),\n",
       "                                                                        (&#x27;categorical&#x27;,\n",
       "                                                                         Pipeline(steps=[(&#x27;create_dummies_cats&#x27;,\n",
       "                                                                                          OneHotEncoder(drop=&#x27;first&#x27;,\n",
       "                                                                                                        handle_unknown=&#x27;ignore&#x27;))]),\n",
       "                                                                         [&#x27;category&#x27;])])),\n",
       "                                       (&#x27;lr_classifier&#x27;,\n",
       "                                        LogisticRegression())]),\n",
       "             n_jobs=-1,\n",
       "             param_grid={&#x27;lr_classifier__C&#x27;: [0.001, 0.01, 0.1, 1, 10],\n",
       "                         &#x27;lr_classifier__penalty&#x27;: [&#x27;l1&#x27;, &#x27;l2&#x27;],\n",
       "                         &#x27;lr_classifier__solver&#x27;: [&#x27;liblinear&#x27;, &#x27;lbfgs&#x27;]},\n",
       "             scoring=&#x27;accuracy&#x27;)</pre></div></div></div><div class=\"sk-parallel\"><div class=\"sk-parallel-item\"><div class=\"sk-item\"><div class=\"sk-label-container\"><div class=\"sk-label sk-toggleable\"><input class=\"sk-toggleable__control sk-hidden--visually\" id=\"sk-estimator-id-44\" type=\"checkbox\" ><label for=\"sk-estimator-id-44\" class=\"sk-toggleable__label sk-toggleable__label-arrow\">estimator: Pipeline</label><div class=\"sk-toggleable__content\"><pre>Pipeline(steps=[(&#x27;preprocessor&#x27;,\n",
       "                 ColumnTransformer(transformers=[(&#x27;text&#x27;,\n",
       "                                                  Pipeline(steps=[(&#x27;tfidf&#x27;,\n",
       "                                                                   TfidfVectorizer())]),\n",
       "                                                  &#x27;text_&#x27;),\n",
       "                                                 (&#x27;categorical&#x27;,\n",
       "                                                  Pipeline(steps=[(&#x27;create_dummies_cats&#x27;,\n",
       "                                                                   OneHotEncoder(drop=&#x27;first&#x27;,\n",
       "                                                                                 handle_unknown=&#x27;ignore&#x27;))]),\n",
       "                                                  [&#x27;category&#x27;])])),\n",
       "                (&#x27;lr_classifier&#x27;, LogisticRegression())])</pre></div></div></div><div class=\"sk-serial\"><div class=\"sk-item\"><div class=\"sk-serial\"><div class=\"sk-item sk-dashed-wrapped\"><div class=\"sk-label-container\"><div class=\"sk-label sk-toggleable\"><input class=\"sk-toggleable__control sk-hidden--visually\" id=\"sk-estimator-id-45\" type=\"checkbox\" ><label for=\"sk-estimator-id-45\" class=\"sk-toggleable__label sk-toggleable__label-arrow\">preprocessor: ColumnTransformer</label><div class=\"sk-toggleable__content\"><pre>ColumnTransformer(transformers=[(&#x27;text&#x27;,\n",
       "                                 Pipeline(steps=[(&#x27;tfidf&#x27;, TfidfVectorizer())]),\n",
       "                                 &#x27;text_&#x27;),\n",
       "                                (&#x27;categorical&#x27;,\n",
       "                                 Pipeline(steps=[(&#x27;create_dummies_cats&#x27;,\n",
       "                                                  OneHotEncoder(drop=&#x27;first&#x27;,\n",
       "                                                                handle_unknown=&#x27;ignore&#x27;))]),\n",
       "                                 [&#x27;category&#x27;])])</pre></div></div></div><div class=\"sk-parallel\"><div class=\"sk-parallel-item\"><div class=\"sk-item\"><div class=\"sk-label-container\"><div class=\"sk-label sk-toggleable\"><input class=\"sk-toggleable__control sk-hidden--visually\" id=\"sk-estimator-id-46\" type=\"checkbox\" ><label for=\"sk-estimator-id-46\" class=\"sk-toggleable__label sk-toggleable__label-arrow\">text</label><div class=\"sk-toggleable__content\"><pre>text_</pre></div></div></div><div class=\"sk-serial\"><div class=\"sk-item\"><div class=\"sk-serial\"><div class=\"sk-item\"><div class=\"sk-estimator sk-toggleable\"><input class=\"sk-toggleable__control sk-hidden--visually\" id=\"sk-estimator-id-47\" type=\"checkbox\" ><label for=\"sk-estimator-id-47\" class=\"sk-toggleable__label sk-toggleable__label-arrow\">TfidfVectorizer</label><div class=\"sk-toggleable__content\"><pre>TfidfVectorizer()</pre></div></div></div></div></div></div></div></div><div class=\"sk-parallel-item\"><div class=\"sk-item\"><div class=\"sk-label-container\"><div class=\"sk-label sk-toggleable\"><input class=\"sk-toggleable__control sk-hidden--visually\" id=\"sk-estimator-id-48\" type=\"checkbox\" ><label for=\"sk-estimator-id-48\" class=\"sk-toggleable__label sk-toggleable__label-arrow\">categorical</label><div class=\"sk-toggleable__content\"><pre>[&#x27;category&#x27;]</pre></div></div></div><div class=\"sk-serial\"><div class=\"sk-item\"><div class=\"sk-serial\"><div class=\"sk-item\"><div class=\"sk-estimator sk-toggleable\"><input class=\"sk-toggleable__control sk-hidden--visually\" id=\"sk-estimator-id-49\" type=\"checkbox\" ><label for=\"sk-estimator-id-49\" class=\"sk-toggleable__label sk-toggleable__label-arrow\">OneHotEncoder</label><div class=\"sk-toggleable__content\"><pre>OneHotEncoder(drop=&#x27;first&#x27;, handle_unknown=&#x27;ignore&#x27;)</pre></div></div></div></div></div></div></div></div></div></div><div class=\"sk-item\"><div class=\"sk-estimator sk-toggleable\"><input class=\"sk-toggleable__control sk-hidden--visually\" id=\"sk-estimator-id-50\" type=\"checkbox\" ><label for=\"sk-estimator-id-50\" class=\"sk-toggleable__label sk-toggleable__label-arrow\">LogisticRegression</label><div class=\"sk-toggleable__content\"><pre>LogisticRegression()</pre></div></div></div></div></div></div></div></div></div></div></div></div>"
      ],
      "text/plain": [
       "GridSearchCV(cv=5,\n",
       "             estimator=Pipeline(steps=[('preprocessor',\n",
       "                                        ColumnTransformer(transformers=[('text',\n",
       "                                                                         Pipeline(steps=[('tfidf',\n",
       "                                                                                          TfidfVectorizer())]),\n",
       "                                                                         'text_'),\n",
       "                                                                        ('categorical',\n",
       "                                                                         Pipeline(steps=[('create_dummies_cats',\n",
       "                                                                                          OneHotEncoder(drop='first',\n",
       "                                                                                                        handle_unknown='ignore'))]),\n",
       "                                                                         ['category'])])),\n",
       "                                       ('lr_classifier',\n",
       "                                        LogisticRegression())]),\n",
       "             n_jobs=-1,\n",
       "             param_grid={'lr_classifier__C': [0.001, 0.01, 0.1, 1, 10],\n",
       "                         'lr_classifier__penalty': ['l1', 'l2'],\n",
       "                         'lr_classifier__solver': ['liblinear', 'lbfgs']},\n",
       "             scoring='accuracy')"
      ]
     },
     "execution_count": 92,
     "metadata": {},
     "output_type": "execute_result"
    }
   ],
   "source": [
    "from sklearn.model_selection import GridSearchCV\n",
    "from sklearn.metrics import classification_report\n",
    "\n",
    "lr_pipeline = Pipeline([\n",
    "    ('preprocessor', preprocessor),\n",
    "    ('lr_classifier', LogisticRegression())\n",
    "])\n",
    "\n",
    "# Initialize the grid parameters of logistic regression\n",
    "param_grid = {\n",
    "    'lr_classifier__C': [0.001, 0.01, 0.1, 1, 10],  # Strength of regularization\n",
    "    'lr_classifier__penalty': ['l1', 'l2'],  # Type of regularization\n",
    "    'lr_classifier__solver': ['liblinear', 'lbfgs']  # Optimization of solver \n",
    "}\n",
    "\n",
    "# Create a GridSearchCV for cross validation\n",
    "grid_search_lr = GridSearchCV(lr_pipeline, param_grid, cv=5, scoring='accuracy', n_jobs=-1) # for parallel processing\n",
    "\n",
    "# Perform hyperparameter tuning\n",
    "grid_search_lr.fit(X_train, y_train)"
   ]
  },
  {
   "cell_type": "markdown",
   "id": "9132d8a8",
   "metadata": {},
   "source": [
    "## EVALUATION OF TRAINING DATA"
   ]
  },
  {
   "cell_type": "code",
   "execution_count": 93,
   "id": "e2b6e623",
   "metadata": {},
   "outputs": [],
   "source": [
    "y_trainp = grid_search_lr.predict(X_train)"
   ]
  },
  {
   "cell_type": "code",
   "execution_count": 94,
   "id": "5aa3b22f",
   "metadata": {},
   "outputs": [
    {
     "name": "stdout",
     "output_type": "stream",
     "text": [
      "[[15632   602]\n",
      " [  513 15598]]\n"
     ]
    }
   ],
   "source": [
    "print(confusion_matrix(y_train, y_trainp))"
   ]
  },
  {
   "cell_type": "code",
   "execution_count": 95,
   "id": "45a25aa4",
   "metadata": {},
   "outputs": [
    {
     "name": "stdout",
     "output_type": "stream",
     "text": [
      "              precision    recall  f1-score   support\n",
      "\n",
      "           0       0.97      0.96      0.97     16234\n",
      "           1       0.96      0.97      0.97     16111\n",
      "\n",
      "    accuracy                           0.97     32345\n",
      "   macro avg       0.97      0.97      0.97     32345\n",
      "weighted avg       0.97      0.97      0.97     32345\n",
      "\n"
     ]
    }
   ],
   "source": [
    "print(classification_report(y_train, y_trainp))"
   ]
  },
  {
   "cell_type": "code",
   "execution_count": 96,
   "id": "e0f4ee93",
   "metadata": {},
   "outputs": [
    {
     "name": "stdout",
     "output_type": "stream",
     "text": [
      "Accuracy of grid search logistic regression is:  96.55279023032926\n"
     ]
    }
   ],
   "source": [
    "from sklearn.metrics import accuracy_score\n",
    "\n",
    "lrg_train_accuracy = accuracy_score(y_train,y_trainp)\n",
    "\n",
    "print(\"Accuracy of grid search logistic regression is: \",lrg_train_accuracy*100)"
   ]
  },
  {
   "cell_type": "markdown",
   "id": "3917a6f8",
   "metadata": {},
   "source": [
    "## EVALUATION OF TESTING DATA"
   ]
  },
  {
   "cell_type": "code",
   "execution_count": 97,
   "id": "ed9ff29c",
   "metadata": {},
   "outputs": [],
   "source": [
    "y_testp = grid_search_lr.predict(X_test)"
   ]
  },
  {
   "cell_type": "code",
   "execution_count": 98,
   "id": "32737dca",
   "metadata": {},
   "outputs": [
    {
     "name": "stdout",
     "output_type": "stream",
     "text": [
      "[[3635  347]\n",
      " [ 365 3740]]\n"
     ]
    }
   ],
   "source": [
    "print(confusion_matrix(y_test, y_testp))"
   ]
  },
  {
   "cell_type": "code",
   "execution_count": 99,
   "id": "04d31bb1",
   "metadata": {},
   "outputs": [
    {
     "name": "stdout",
     "output_type": "stream",
     "text": [
      "              precision    recall  f1-score   support\n",
      "\n",
      "           0       0.91      0.91      0.91      3982\n",
      "           1       0.92      0.91      0.91      4105\n",
      "\n",
      "    accuracy                           0.91      8087\n",
      "   macro avg       0.91      0.91      0.91      8087\n",
      "weighted avg       0.91      0.91      0.91      8087\n",
      "\n"
     ]
    }
   ],
   "source": [
    "print(classification_report(y_test, y_testp))"
   ]
  },
  {
   "cell_type": "code",
   "execution_count": 100,
   "id": "a162fd9b",
   "metadata": {},
   "outputs": [
    {
     "name": "stdout",
     "output_type": "stream",
     "text": [
      "Accuracy of grid search logistic regression is:  91.19574625942872\n"
     ]
    }
   ],
   "source": [
    "from sklearn.metrics import accuracy_score\n",
    "\n",
    "lrg_test_accuracy = accuracy_score(y_test,y_testp)\n",
    "\n",
    "print(\"Accuracy of grid search logistic regression is: \",lrg_test_accuracy*100)"
   ]
  },
  {
   "cell_type": "markdown",
   "id": "9e41f3a4",
   "metadata": {},
   "source": [
    "### Get the best hyperparameters and corresponding accuracy"
   ]
  },
  {
   "cell_type": "code",
   "execution_count": 101,
   "id": "e250fcaf",
   "metadata": {},
   "outputs": [
    {
     "name": "stdout",
     "output_type": "stream",
     "text": [
      "Best Hyperparameter: {'lr_classifier__C': 10, 'lr_classifier__penalty': 'l2', 'lr_classifier__solver': 'lbfgs'}\n",
      "High Accuracy: 0.9041273767197403\n"
     ]
    }
   ],
   "source": [
    "best_params = grid_search_lr.best_params_\n",
    "high_accuracy = grid_search_lr.best_score_\n",
    "\n",
    "print(\"Best Hyperparameter:\", best_params)\n",
    "print(\"High Accuracy:\", high_accuracy)"
   ]
  },
  {
   "cell_type": "code",
   "execution_count": null,
   "id": "e214c366",
   "metadata": {},
   "outputs": [],
   "source": []
  },
  {
   "cell_type": "markdown",
   "id": "7415d94f",
   "metadata": {},
   "source": [
    "# DECISION TREE - HYPERPARAMETER TUNING"
   ]
  },
  {
   "cell_type": "code",
   "execution_count": 102,
   "id": "dec4162f",
   "metadata": {},
   "outputs": [],
   "source": [
    "dt_modeling_pipeline = Pipeline([\n",
    "    ('preprocessor', preprocessor),\n",
    "    ('dt', DecisionTreeClassifier())]\n",
    ")\n",
    "\n",
    "param_grid = [\n",
    "  {'dt__max_depth': [2, 5, 10],\n",
    "   'dt__min_samples_split':[3, 5, 10],\n",
    "   'dt__min_samples_leaf': [2, 5],\n",
    "   'dt__class_weight':[None]\n",
    "  }\n",
    " ]\n",
    "\n",
    "dt_gcv_results = GridSearchCV(estimator=dt_modeling_pipeline, \n",
    "                           param_grid=param_grid, scoring='accuracy', refit=True, n_jobs=-1)\n",
    "\n",
    "dt_gcv_results = dt_gcv_results.fit(X_train, y_train)"
   ]
  },
  {
   "cell_type": "markdown",
   "id": "e09ba045",
   "metadata": {},
   "source": [
    "## EVALUATION OF TRAINING DATA"
   ]
  },
  {
   "cell_type": "code",
   "execution_count": 103,
   "id": "70440acf",
   "metadata": {},
   "outputs": [],
   "source": [
    "y_trainp = dt_gcv_results.predict(X_train)"
   ]
  },
  {
   "cell_type": "code",
   "execution_count": 104,
   "id": "085dc2f7",
   "metadata": {},
   "outputs": [
    {
     "name": "stdout",
     "output_type": "stream",
     "text": [
      "[[11922  4312]\n",
      " [ 1724 14387]]\n"
     ]
    }
   ],
   "source": [
    "print(confusion_matrix(y_train, y_trainp))"
   ]
  },
  {
   "cell_type": "code",
   "execution_count": 105,
   "id": "6a46c304",
   "metadata": {},
   "outputs": [
    {
     "name": "stdout",
     "output_type": "stream",
     "text": [
      "              precision    recall  f1-score   support\n",
      "\n",
      "           0       0.87      0.73      0.80     16234\n",
      "           1       0.77      0.89      0.83     16111\n",
      "\n",
      "    accuracy                           0.81     32345\n",
      "   macro avg       0.82      0.81      0.81     32345\n",
      "weighted avg       0.82      0.81      0.81     32345\n",
      "\n"
     ]
    }
   ],
   "source": [
    "print(classification_report(y_train, y_trainp))"
   ]
  },
  {
   "cell_type": "code",
   "execution_count": 106,
   "id": "87b897d5",
   "metadata": {},
   "outputs": [
    {
     "name": "stdout",
     "output_type": "stream",
     "text": [
      "Accuracy of grid search decision tree is:  81.33869222445509\n"
     ]
    }
   ],
   "source": [
    "from sklearn.metrics import accuracy_score\n",
    "\n",
    "dtg_train_accuracy = accuracy_score(y_train,y_trainp)\n",
    "\n",
    "print(\"Accuracy of grid search decision tree is: \",dtg_train_accuracy*100)"
   ]
  },
  {
   "cell_type": "markdown",
   "id": "9b631714",
   "metadata": {},
   "source": [
    "## EVALUATION OF TRAINING DATA"
   ]
  },
  {
   "cell_type": "code",
   "execution_count": 107,
   "id": "399db979",
   "metadata": {},
   "outputs": [],
   "source": [
    "y_testp = dt_gcv_results.predict(X_test)"
   ]
  },
  {
   "cell_type": "code",
   "execution_count": 108,
   "id": "37957357",
   "metadata": {},
   "outputs": [
    {
     "name": "stdout",
     "output_type": "stream",
     "text": [
      "[[2809 1173]\n",
      " [ 683 3422]]\n"
     ]
    }
   ],
   "source": [
    "print(confusion_matrix(y_test, y_testp))"
   ]
  },
  {
   "cell_type": "code",
   "execution_count": 109,
   "id": "3677bc28",
   "metadata": {},
   "outputs": [
    {
     "name": "stdout",
     "output_type": "stream",
     "text": [
      "              precision    recall  f1-score   support\n",
      "\n",
      "           0       0.80      0.71      0.75      3982\n",
      "           1       0.74      0.83      0.79      4105\n",
      "\n",
      "    accuracy                           0.77      8087\n",
      "   macro avg       0.77      0.77      0.77      8087\n",
      "weighted avg       0.77      0.77      0.77      8087\n",
      "\n"
     ]
    }
   ],
   "source": [
    "print(classification_report(y_test, y_testp))"
   ]
  },
  {
   "cell_type": "code",
   "execution_count": 110,
   "id": "2e8bbf08",
   "metadata": {},
   "outputs": [
    {
     "name": "stdout",
     "output_type": "stream",
     "text": [
      "Accuracy of grid search decision tree is:  77.0495857549153\n"
     ]
    }
   ],
   "source": [
    "from sklearn.metrics import accuracy_score\n",
    "\n",
    "dtg_test_accuracy = accuracy_score(y_test,y_testp)\n",
    "\n",
    "print(\"Accuracy of grid search decision tree is: \",dtg_test_accuracy*100)"
   ]
  },
  {
   "cell_type": "code",
   "execution_count": null,
   "id": "f0889d7e",
   "metadata": {},
   "outputs": [],
   "source": []
  },
  {
   "cell_type": "markdown",
   "id": "db832879",
   "metadata": {},
   "source": [
    "# RANDOM FOREST - HYPERPARAMETER TUNING"
   ]
  },
  {
   "cell_type": "code",
   "execution_count": 111,
   "id": "ef89c52c",
   "metadata": {},
   "outputs": [],
   "source": [
    "rf_pipeline = Pipeline([\n",
    "    ('preprocessor', preprocessor),\n",
    "    ('rf', RandomForestClassifier())]\n",
    ")\n",
    "\n",
    "param_grid = [{'rf__max_depth': [5, 10],\n",
    "               'rf__n_estimators': [10, 50],\n",
    "               'rf__class_weight': [None, 'balanced'],\n",
    "               'rf__max_samples': [1000, 2000]\n",
    "              }]\n",
    "\n",
    "rf_results = GridSearchCV(estimator=rf_pipeline, param_grid=param_grid, scoring='recall', refit=True, n_jobs=-1)\n",
    "rf_results = rf_results.fit(X_train, y_train)"
   ]
  },
  {
   "cell_type": "markdown",
   "id": "a797486d",
   "metadata": {},
   "source": [
    "## EVALUATION OF TRAINING DATA"
   ]
  },
  {
   "cell_type": "code",
   "execution_count": 112,
   "id": "0a01d7a7",
   "metadata": {},
   "outputs": [],
   "source": [
    "rft_yhat = rf_results.predict(X_train)"
   ]
  },
  {
   "cell_type": "code",
   "execution_count": 113,
   "id": "3777d72d",
   "metadata": {},
   "outputs": [
    {
     "name": "stdout",
     "output_type": "stream",
     "text": [
      "[[13530  2704]\n",
      " [ 3269 12842]]\n"
     ]
    }
   ],
   "source": [
    "print(confusion_matrix(y_train, rft_yhat))"
   ]
  },
  {
   "cell_type": "code",
   "execution_count": 114,
   "id": "781d687d",
   "metadata": {},
   "outputs": [
    {
     "name": "stdout",
     "output_type": "stream",
     "text": [
      "              precision    recall  f1-score   support\n",
      "\n",
      "           0       0.81      0.83      0.82     16234\n",
      "           1       0.83      0.80      0.81     16111\n",
      "\n",
      "    accuracy                           0.82     32345\n",
      "   macro avg       0.82      0.82      0.82     32345\n",
      "weighted avg       0.82      0.82      0.82     32345\n",
      "\n"
     ]
    }
   ],
   "source": [
    "print(classification_report(y_train, rft_yhat))"
   ]
  },
  {
   "cell_type": "code",
   "execution_count": 115,
   "id": "03055ff0",
   "metadata": {},
   "outputs": [
    {
     "name": "stdout",
     "output_type": "stream",
     "text": [
      "Accuracy of grid search random forest is:  81.53346730561137\n"
     ]
    }
   ],
   "source": [
    "from sklearn.metrics import accuracy_score\n",
    "\n",
    "rfg_train_accuracy = accuracy_score(y_train,rft_yhat)\n",
    "\n",
    "print(\"Accuracy of grid search random forest is: \",rfg_train_accuracy*100)"
   ]
  },
  {
   "cell_type": "markdown",
   "id": "c1048be5",
   "metadata": {},
   "source": [
    "## EVALUATION OF TESTING DATA"
   ]
  },
  {
   "cell_type": "code",
   "execution_count": 116,
   "id": "9c99b06a",
   "metadata": {},
   "outputs": [],
   "source": [
    "rf_yhat = rf_results.predict(X_test)"
   ]
  },
  {
   "cell_type": "code",
   "execution_count": 117,
   "id": "b79bda24",
   "metadata": {},
   "outputs": [
    {
     "name": "stdout",
     "output_type": "stream",
     "text": [
      "[[3352  630]\n",
      " [ 885 3220]]\n"
     ]
    }
   ],
   "source": [
    "print(confusion_matrix(y_test, rf_yhat))"
   ]
  },
  {
   "cell_type": "code",
   "execution_count": 118,
   "id": "46485b00",
   "metadata": {},
   "outputs": [
    {
     "name": "stdout",
     "output_type": "stream",
     "text": [
      "              precision    recall  f1-score   support\n",
      "\n",
      "           0       0.79      0.84      0.82      3982\n",
      "           1       0.84      0.78      0.81      4105\n",
      "\n",
      "    accuracy                           0.81      8087\n",
      "   macro avg       0.81      0.81      0.81      8087\n",
      "weighted avg       0.81      0.81      0.81      8087\n",
      "\n"
     ]
    }
   ],
   "source": [
    "print(classification_report(y_test, rf_yhat))"
   ]
  },
  {
   "cell_type": "code",
   "execution_count": 119,
   "id": "31400429",
   "metadata": {},
   "outputs": [
    {
     "name": "stdout",
     "output_type": "stream",
     "text": [
      "Accuracy of grid search random forest is:  81.26622975145294\n"
     ]
    }
   ],
   "source": [
    "from sklearn.metrics import accuracy_score\n",
    "\n",
    "rfg_test_accuracy = accuracy_score(y_test,rf_yhat)\n",
    "\n",
    "print(\"Accuracy of grid search random forest is: \",rfg_test_accuracy*100)"
   ]
  },
  {
   "cell_type": "code",
   "execution_count": 120,
   "id": "fd102073",
   "metadata": {},
   "outputs": [
    {
     "name": "stdout",
     "output_type": "stream",
     "text": [
      "Pipeline(steps=[('preprocessor',\n",
      "                 ColumnTransformer(transformers=[('text',\n",
      "                                                  Pipeline(steps=[('tfidf',\n",
      "                                                                   TfidfVectorizer())]),\n",
      "                                                  'text_'),\n",
      "                                                 ('categorical',\n",
      "                                                  Pipeline(steps=[('create_dummies_cats',\n",
      "                                                                   OneHotEncoder(drop='first',\n",
      "                                                                                 handle_unknown='ignore'))]),\n",
      "                                                  ['category'])])),\n",
      "                ('rf',\n",
      "                 RandomForestClassifier(class_weight='balanced', max_depth=10,\n",
      "                                        max_samples=1000, n_estimators=50))])\n"
     ]
    }
   ],
   "source": [
    "print(rf_results.best_estimator_)"
   ]
  },
  {
   "cell_type": "markdown",
   "id": "858c9643",
   "metadata": {},
   "source": [
    "# NAIVE BAYES - HYPERPARAMETER TUNING"
   ]
  },
  {
   "cell_type": "code",
   "execution_count": 121,
   "id": "fb1a0dd7",
   "metadata": {},
   "outputs": [
    {
     "data": {
      "text/html": [
       "<style>#sk-container-id-8 {color: black;background-color: white;}#sk-container-id-8 pre{padding: 0;}#sk-container-id-8 div.sk-toggleable {background-color: white;}#sk-container-id-8 label.sk-toggleable__label {cursor: pointer;display: block;width: 100%;margin-bottom: 0;padding: 0.3em;box-sizing: border-box;text-align: center;}#sk-container-id-8 label.sk-toggleable__label-arrow:before {content: \"▸\";float: left;margin-right: 0.25em;color: #696969;}#sk-container-id-8 label.sk-toggleable__label-arrow:hover:before {color: black;}#sk-container-id-8 div.sk-estimator:hover label.sk-toggleable__label-arrow:before {color: black;}#sk-container-id-8 div.sk-toggleable__content {max-height: 0;max-width: 0;overflow: hidden;text-align: left;background-color: #f0f8ff;}#sk-container-id-8 div.sk-toggleable__content pre {margin: 0.2em;color: black;border-radius: 0.25em;background-color: #f0f8ff;}#sk-container-id-8 input.sk-toggleable__control:checked~div.sk-toggleable__content {max-height: 200px;max-width: 100%;overflow: auto;}#sk-container-id-8 input.sk-toggleable__control:checked~label.sk-toggleable__label-arrow:before {content: \"▾\";}#sk-container-id-8 div.sk-estimator input.sk-toggleable__control:checked~label.sk-toggleable__label {background-color: #d4ebff;}#sk-container-id-8 div.sk-label input.sk-toggleable__control:checked~label.sk-toggleable__label {background-color: #d4ebff;}#sk-container-id-8 input.sk-hidden--visually {border: 0;clip: rect(1px 1px 1px 1px);clip: rect(1px, 1px, 1px, 1px);height: 1px;margin: -1px;overflow: hidden;padding: 0;position: absolute;width: 1px;}#sk-container-id-8 div.sk-estimator {font-family: monospace;background-color: #f0f8ff;border: 1px dotted black;border-radius: 0.25em;box-sizing: border-box;margin-bottom: 0.5em;}#sk-container-id-8 div.sk-estimator:hover {background-color: #d4ebff;}#sk-container-id-8 div.sk-parallel-item::after {content: \"\";width: 100%;border-bottom: 1px solid gray;flex-grow: 1;}#sk-container-id-8 div.sk-label:hover label.sk-toggleable__label {background-color: #d4ebff;}#sk-container-id-8 div.sk-serial::before {content: \"\";position: absolute;border-left: 1px solid gray;box-sizing: border-box;top: 0;bottom: 0;left: 50%;z-index: 0;}#sk-container-id-8 div.sk-serial {display: flex;flex-direction: column;align-items: center;background-color: white;padding-right: 0.2em;padding-left: 0.2em;position: relative;}#sk-container-id-8 div.sk-item {position: relative;z-index: 1;}#sk-container-id-8 div.sk-parallel {display: flex;align-items: stretch;justify-content: center;background-color: white;position: relative;}#sk-container-id-8 div.sk-item::before, #sk-container-id-8 div.sk-parallel-item::before {content: \"\";position: absolute;border-left: 1px solid gray;box-sizing: border-box;top: 0;bottom: 0;left: 50%;z-index: -1;}#sk-container-id-8 div.sk-parallel-item {display: flex;flex-direction: column;z-index: 1;position: relative;background-color: white;}#sk-container-id-8 div.sk-parallel-item:first-child::after {align-self: flex-end;width: 50%;}#sk-container-id-8 div.sk-parallel-item:last-child::after {align-self: flex-start;width: 50%;}#sk-container-id-8 div.sk-parallel-item:only-child::after {width: 0;}#sk-container-id-8 div.sk-dashed-wrapped {border: 1px dashed gray;margin: 0 0.4em 0.5em 0.4em;box-sizing: border-box;padding-bottom: 0.4em;background-color: white;}#sk-container-id-8 div.sk-label label {font-family: monospace;font-weight: bold;display: inline-block;line-height: 1.2em;}#sk-container-id-8 div.sk-label-container {text-align: center;}#sk-container-id-8 div.sk-container {/* jupyter's `normalize.less` sets `[hidden] { display: none; }` but bootstrap.min.css set `[hidden] { display: none !important; }` so we also need the `!important` here to be able to override the default hidden behavior on the sphinx rendered scikit-learn.org. See: https://github.com/scikit-learn/scikit-learn/issues/21755 */display: inline-block !important;position: relative;}#sk-container-id-8 div.sk-text-repr-fallback {display: none;}</style><div id=\"sk-container-id-8\" class=\"sk-top-container\"><div class=\"sk-text-repr-fallback\"><pre>GridSearchCV(cv=5,\n",
       "             estimator=Pipeline(steps=[(&#x27;preprocessor&#x27;,\n",
       "                                        ColumnTransformer(transformers=[(&#x27;text&#x27;,\n",
       "                                                                         Pipeline(steps=[(&#x27;tfidf&#x27;,\n",
       "                                                                                          TfidfVectorizer())]),\n",
       "                                                                         &#x27;text_&#x27;),\n",
       "                                                                        (&#x27;categorical&#x27;,\n",
       "                                                                         Pipeline(steps=[(&#x27;create_dummies_cats&#x27;,\n",
       "                                                                                          OneHotEncoder(drop=&#x27;first&#x27;,\n",
       "                                                                                                        handle_unknown=&#x27;ignore&#x27;))]),\n",
       "                                                                         [&#x27;category&#x27;])])),\n",
       "                                       (&#x27;nb_classifier&#x27;, MultinomialNB())]),\n",
       "             n_jobs=-1, param_grid={&#x27;nb_classifier__alpha&#x27;: [0.01, 0.1]})</pre><b>In a Jupyter environment, please rerun this cell to show the HTML representation or trust the notebook. <br />On GitHub, the HTML representation is unable to render, please try loading this page with nbviewer.org.</b></div><div class=\"sk-container\" hidden><div class=\"sk-item sk-dashed-wrapped\"><div class=\"sk-label-container\"><div class=\"sk-label sk-toggleable\"><input class=\"sk-toggleable__control sk-hidden--visually\" id=\"sk-estimator-id-51\" type=\"checkbox\" ><label for=\"sk-estimator-id-51\" class=\"sk-toggleable__label sk-toggleable__label-arrow\">GridSearchCV</label><div class=\"sk-toggleable__content\"><pre>GridSearchCV(cv=5,\n",
       "             estimator=Pipeline(steps=[(&#x27;preprocessor&#x27;,\n",
       "                                        ColumnTransformer(transformers=[(&#x27;text&#x27;,\n",
       "                                                                         Pipeline(steps=[(&#x27;tfidf&#x27;,\n",
       "                                                                                          TfidfVectorizer())]),\n",
       "                                                                         &#x27;text_&#x27;),\n",
       "                                                                        (&#x27;categorical&#x27;,\n",
       "                                                                         Pipeline(steps=[(&#x27;create_dummies_cats&#x27;,\n",
       "                                                                                          OneHotEncoder(drop=&#x27;first&#x27;,\n",
       "                                                                                                        handle_unknown=&#x27;ignore&#x27;))]),\n",
       "                                                                         [&#x27;category&#x27;])])),\n",
       "                                       (&#x27;nb_classifier&#x27;, MultinomialNB())]),\n",
       "             n_jobs=-1, param_grid={&#x27;nb_classifier__alpha&#x27;: [0.01, 0.1]})</pre></div></div></div><div class=\"sk-parallel\"><div class=\"sk-parallel-item\"><div class=\"sk-item\"><div class=\"sk-label-container\"><div class=\"sk-label sk-toggleable\"><input class=\"sk-toggleable__control sk-hidden--visually\" id=\"sk-estimator-id-52\" type=\"checkbox\" ><label for=\"sk-estimator-id-52\" class=\"sk-toggleable__label sk-toggleable__label-arrow\">estimator: Pipeline</label><div class=\"sk-toggleable__content\"><pre>Pipeline(steps=[(&#x27;preprocessor&#x27;,\n",
       "                 ColumnTransformer(transformers=[(&#x27;text&#x27;,\n",
       "                                                  Pipeline(steps=[(&#x27;tfidf&#x27;,\n",
       "                                                                   TfidfVectorizer())]),\n",
       "                                                  &#x27;text_&#x27;),\n",
       "                                                 (&#x27;categorical&#x27;,\n",
       "                                                  Pipeline(steps=[(&#x27;create_dummies_cats&#x27;,\n",
       "                                                                   OneHotEncoder(drop=&#x27;first&#x27;,\n",
       "                                                                                 handle_unknown=&#x27;ignore&#x27;))]),\n",
       "                                                  [&#x27;category&#x27;])])),\n",
       "                (&#x27;nb_classifier&#x27;, MultinomialNB())])</pre></div></div></div><div class=\"sk-serial\"><div class=\"sk-item\"><div class=\"sk-serial\"><div class=\"sk-item sk-dashed-wrapped\"><div class=\"sk-label-container\"><div class=\"sk-label sk-toggleable\"><input class=\"sk-toggleable__control sk-hidden--visually\" id=\"sk-estimator-id-53\" type=\"checkbox\" ><label for=\"sk-estimator-id-53\" class=\"sk-toggleable__label sk-toggleable__label-arrow\">preprocessor: ColumnTransformer</label><div class=\"sk-toggleable__content\"><pre>ColumnTransformer(transformers=[(&#x27;text&#x27;,\n",
       "                                 Pipeline(steps=[(&#x27;tfidf&#x27;, TfidfVectorizer())]),\n",
       "                                 &#x27;text_&#x27;),\n",
       "                                (&#x27;categorical&#x27;,\n",
       "                                 Pipeline(steps=[(&#x27;create_dummies_cats&#x27;,\n",
       "                                                  OneHotEncoder(drop=&#x27;first&#x27;,\n",
       "                                                                handle_unknown=&#x27;ignore&#x27;))]),\n",
       "                                 [&#x27;category&#x27;])])</pre></div></div></div><div class=\"sk-parallel\"><div class=\"sk-parallel-item\"><div class=\"sk-item\"><div class=\"sk-label-container\"><div class=\"sk-label sk-toggleable\"><input class=\"sk-toggleable__control sk-hidden--visually\" id=\"sk-estimator-id-54\" type=\"checkbox\" ><label for=\"sk-estimator-id-54\" class=\"sk-toggleable__label sk-toggleable__label-arrow\">text</label><div class=\"sk-toggleable__content\"><pre>text_</pre></div></div></div><div class=\"sk-serial\"><div class=\"sk-item\"><div class=\"sk-serial\"><div class=\"sk-item\"><div class=\"sk-estimator sk-toggleable\"><input class=\"sk-toggleable__control sk-hidden--visually\" id=\"sk-estimator-id-55\" type=\"checkbox\" ><label for=\"sk-estimator-id-55\" class=\"sk-toggleable__label sk-toggleable__label-arrow\">TfidfVectorizer</label><div class=\"sk-toggleable__content\"><pre>TfidfVectorizer()</pre></div></div></div></div></div></div></div></div><div class=\"sk-parallel-item\"><div class=\"sk-item\"><div class=\"sk-label-container\"><div class=\"sk-label sk-toggleable\"><input class=\"sk-toggleable__control sk-hidden--visually\" id=\"sk-estimator-id-56\" type=\"checkbox\" ><label for=\"sk-estimator-id-56\" class=\"sk-toggleable__label sk-toggleable__label-arrow\">categorical</label><div class=\"sk-toggleable__content\"><pre>[&#x27;category&#x27;]</pre></div></div></div><div class=\"sk-serial\"><div class=\"sk-item\"><div class=\"sk-serial\"><div class=\"sk-item\"><div class=\"sk-estimator sk-toggleable\"><input class=\"sk-toggleable__control sk-hidden--visually\" id=\"sk-estimator-id-57\" type=\"checkbox\" ><label for=\"sk-estimator-id-57\" class=\"sk-toggleable__label sk-toggleable__label-arrow\">OneHotEncoder</label><div class=\"sk-toggleable__content\"><pre>OneHotEncoder(drop=&#x27;first&#x27;, handle_unknown=&#x27;ignore&#x27;)</pre></div></div></div></div></div></div></div></div></div></div><div class=\"sk-item\"><div class=\"sk-estimator sk-toggleable\"><input class=\"sk-toggleable__control sk-hidden--visually\" id=\"sk-estimator-id-58\" type=\"checkbox\" ><label for=\"sk-estimator-id-58\" class=\"sk-toggleable__label sk-toggleable__label-arrow\">MultinomialNB</label><div class=\"sk-toggleable__content\"><pre>MultinomialNB()</pre></div></div></div></div></div></div></div></div></div></div></div></div>"
      ],
      "text/plain": [
       "GridSearchCV(cv=5,\n",
       "             estimator=Pipeline(steps=[('preprocessor',\n",
       "                                        ColumnTransformer(transformers=[('text',\n",
       "                                                                         Pipeline(steps=[('tfidf',\n",
       "                                                                                          TfidfVectorizer())]),\n",
       "                                                                         'text_'),\n",
       "                                                                        ('categorical',\n",
       "                                                                         Pipeline(steps=[('create_dummies_cats',\n",
       "                                                                                          OneHotEncoder(drop='first',\n",
       "                                                                                                        handle_unknown='ignore'))]),\n",
       "                                                                         ['category'])])),\n",
       "                                       ('nb_classifier', MultinomialNB())]),\n",
       "             n_jobs=-1, param_grid={'nb_classifier__alpha': [0.01, 0.1]})"
      ]
     },
     "execution_count": 121,
     "metadata": {},
     "output_type": "execute_result"
    }
   ],
   "source": [
    "nb_pipeline = Pipeline([\n",
    "    ('preprocessor', preprocessor),\n",
    "    ('nb_classifier', MultinomialNB())\n",
    "])\n",
    "\n",
    "nb_param_grid = {\n",
    "    'nb_classifier__alpha': [0.01, 0.1]\n",
    "}\n",
    "\n",
    "nb_grid = GridSearchCV(nb_pipeline, param_grid=nb_param_grid, cv=5, n_jobs=-1)\n",
    "nb_grid.fit(X_train, y_train)"
   ]
  },
  {
   "cell_type": "markdown",
   "id": "17f7a484",
   "metadata": {},
   "source": [
    "## EVALUATION OF TRAINING DATA"
   ]
  },
  {
   "cell_type": "code",
   "execution_count": 122,
   "id": "c32b99a8",
   "metadata": {},
   "outputs": [],
   "source": [
    "nbt_yhat = nb_grid.predict(X_train)"
   ]
  },
  {
   "cell_type": "code",
   "execution_count": 123,
   "id": "c34bd6c7",
   "metadata": {},
   "outputs": [
    {
     "name": "stdout",
     "output_type": "stream",
     "text": [
      "[[15535   699]\n",
      " [ 1947 14164]]\n"
     ]
    }
   ],
   "source": [
    "print(confusion_matrix(y_train, nbt_yhat))"
   ]
  },
  {
   "cell_type": "code",
   "execution_count": 124,
   "id": "63e45a40",
   "metadata": {},
   "outputs": [
    {
     "name": "stdout",
     "output_type": "stream",
     "text": [
      "              precision    recall  f1-score   support\n",
      "\n",
      "           0       0.89      0.96      0.92     16234\n",
      "           1       0.95      0.88      0.91     16111\n",
      "\n",
      "    accuracy                           0.92     32345\n",
      "   macro avg       0.92      0.92      0.92     32345\n",
      "weighted avg       0.92      0.92      0.92     32345\n",
      "\n"
     ]
    }
   ],
   "source": [
    "print(classification_report(y_train, nbt_yhat))"
   ]
  },
  {
   "cell_type": "code",
   "execution_count": 125,
   "id": "7320d4bc",
   "metadata": {},
   "outputs": [
    {
     "name": "stdout",
     "output_type": "stream",
     "text": [
      "Accuracy of grid search Naive Bayes is:  91.81944659143608\n"
     ]
    }
   ],
   "source": [
    "from sklearn.metrics import accuracy_score\n",
    "\n",
    "nbg_train_accuracy = accuracy_score(y_train,nbt_yhat)\n",
    "\n",
    "print(\"Accuracy of grid search Naive Bayes is: \",nbg_train_accuracy*100)"
   ]
  },
  {
   "cell_type": "markdown",
   "id": "58bb70d6",
   "metadata": {},
   "source": [
    "## EVALUATION OF TESTING DATA"
   ]
  },
  {
   "cell_type": "code",
   "execution_count": 126,
   "id": "58e953bb",
   "metadata": {},
   "outputs": [],
   "source": [
    "nb_yhat = nb_grid.predict(X_test)"
   ]
  },
  {
   "cell_type": "code",
   "execution_count": 127,
   "id": "af857a44",
   "metadata": {},
   "outputs": [
    {
     "name": "stdout",
     "output_type": "stream",
     "text": [
      "[[3578  404]\n",
      " [ 641 3464]]\n"
     ]
    }
   ],
   "source": [
    "print(confusion_matrix(y_test, nb_yhat))"
   ]
  },
  {
   "cell_type": "code",
   "execution_count": 128,
   "id": "1ec335ca",
   "metadata": {},
   "outputs": [
    {
     "name": "stdout",
     "output_type": "stream",
     "text": [
      "              precision    recall  f1-score   support\n",
      "\n",
      "           0       0.85      0.90      0.87      3982\n",
      "           1       0.90      0.84      0.87      4105\n",
      "\n",
      "    accuracy                           0.87      8087\n",
      "   macro avg       0.87      0.87      0.87      8087\n",
      "weighted avg       0.87      0.87      0.87      8087\n",
      "\n"
     ]
    }
   ],
   "source": [
    "print(classification_report(y_test, nb_yhat))"
   ]
  },
  {
   "cell_type": "code",
   "execution_count": 129,
   "id": "0c689875",
   "metadata": {},
   "outputs": [
    {
     "name": "stdout",
     "output_type": "stream",
     "text": [
      "Accuracy of grid search Naive Bayes is:  87.07802646222332\n"
     ]
    }
   ],
   "source": [
    "from sklearn.metrics import accuracy_score\n",
    "\n",
    "nbg_test_accuracy = accuracy_score(y_test,nb_yhat)\n",
    "\n",
    "print(\"Accuracy of grid search Naive Bayes is: \",nbg_test_accuracy*100)"
   ]
  },
  {
   "cell_type": "code",
   "execution_count": 130,
   "id": "659a9d47",
   "metadata": {},
   "outputs": [
    {
     "name": "stdout",
     "output_type": "stream",
     "text": [
      "Pipeline(steps=[('preprocessor',\n",
      "                 ColumnTransformer(transformers=[('text',\n",
      "                                                  Pipeline(steps=[('tfidf',\n",
      "                                                                   TfidfVectorizer())]),\n",
      "                                                  'text_'),\n",
      "                                                 ('categorical',\n",
      "                                                  Pipeline(steps=[('create_dummies_cats',\n",
      "                                                                   OneHotEncoder(drop='first',\n",
      "                                                                                 handle_unknown='ignore'))]),\n",
      "                                                  ['category'])])),\n",
      "                ('nb_classifier', MultinomialNB(alpha=0.1))])\n"
     ]
    }
   ],
   "source": [
    "print(nb_grid.best_estimator_)"
   ]
  },
  {
   "cell_type": "markdown",
   "id": "daab0408",
   "metadata": {},
   "source": [
    "## COMPARISONS OF GRID SEARCH TRAINING ACCURACY OF ALL ALGORITHMS"
   ]
  },
  {
   "cell_type": "code",
   "execution_count": 131,
   "id": "951d63f8",
   "metadata": {},
   "outputs": [
    {
     "name": "stdout",
     "output_type": "stream",
     "text": [
      "Accuracy of all models for the training dataset\n"
     ]
    },
    {
     "data": {
      "text/html": [
       "<div>\n",
       "<style scoped>\n",
       "    .dataframe tbody tr th:only-of-type {\n",
       "        vertical-align: middle;\n",
       "    }\n",
       "\n",
       "    .dataframe tbody tr th {\n",
       "        vertical-align: top;\n",
       "    }\n",
       "\n",
       "    .dataframe thead th {\n",
       "        text-align: right;\n",
       "    }\n",
       "</style>\n",
       "<table border=\"1\" class=\"dataframe\">\n",
       "  <thead>\n",
       "    <tr style=\"text-align: right;\">\n",
       "      <th></th>\n",
       "      <th>Score</th>\n",
       "      <th>Model</th>\n",
       "    </tr>\n",
       "  </thead>\n",
       "  <tbody>\n",
       "    <tr>\n",
       "      <th>0</th>\n",
       "      <td>0.965528</td>\n",
       "      <td>Logistic Regression</td>\n",
       "    </tr>\n",
       "    <tr>\n",
       "      <th>1</th>\n",
       "      <td>0.918194</td>\n",
       "      <td>Naive Bayes</td>\n",
       "    </tr>\n",
       "    <tr>\n",
       "      <th>2</th>\n",
       "      <td>0.815335</td>\n",
       "      <td>Random Forest</td>\n",
       "    </tr>\n",
       "    <tr>\n",
       "      <th>3</th>\n",
       "      <td>0.813387</td>\n",
       "      <td>Decision Tree</td>\n",
       "    </tr>\n",
       "  </tbody>\n",
       "</table>\n",
       "</div>"
      ],
      "text/plain": [
       "      Score                Model\n",
       "0  0.965528  Logistic Regression\n",
       "1  0.918194          Naive Bayes\n",
       "2  0.815335        Random Forest\n",
       "3  0.813387        Decision Tree"
      ]
     },
     "execution_count": 131,
     "metadata": {},
     "output_type": "execute_result"
    }
   ],
   "source": [
    "# Compare Several models according to their Accuracies\n",
    "print('Accuracy of all models for the training dataset')\n",
    "\n",
    "Model_Comparison_train_g = pd.DataFrame({\n",
    "    'Model': ['Logistic Regression', 'Decision Tree','Random Forest', \n",
    "              'Naive Bayes'],\n",
    "    'Score': [lrg_train_accuracy, dtg_train_accuracy,rfg_train_accuracy, nbg_train_accuracy]})\n",
    "\n",
    "Model_Comparison_df_g = Model_Comparison_train_g.sort_values(by='Score', ascending=False)\n",
    "Model_Comparison_df_g = Model_Comparison_df_g.set_index('Score')\n",
    "Model_Comparison_df_g.reset_index()"
   ]
  },
  {
   "cell_type": "markdown",
   "id": "6dc04953",
   "metadata": {},
   "source": [
    "## COMPARISONS OF GRID SEARCH TESTING ACCURACY OF ALL ALGORITHMS"
   ]
  },
  {
   "cell_type": "code",
   "execution_count": 132,
   "id": "812869d5",
   "metadata": {},
   "outputs": [
    {
     "name": "stdout",
     "output_type": "stream",
     "text": [
      "Accuracy of all models for the testing dataset\n"
     ]
    },
    {
     "data": {
      "text/html": [
       "<div>\n",
       "<style scoped>\n",
       "    .dataframe tbody tr th:only-of-type {\n",
       "        vertical-align: middle;\n",
       "    }\n",
       "\n",
       "    .dataframe tbody tr th {\n",
       "        vertical-align: top;\n",
       "    }\n",
       "\n",
       "    .dataframe thead th {\n",
       "        text-align: right;\n",
       "    }\n",
       "</style>\n",
       "<table border=\"1\" class=\"dataframe\">\n",
       "  <thead>\n",
       "    <tr style=\"text-align: right;\">\n",
       "      <th></th>\n",
       "      <th>Score</th>\n",
       "      <th>Model</th>\n",
       "    </tr>\n",
       "  </thead>\n",
       "  <tbody>\n",
       "    <tr>\n",
       "      <th>0</th>\n",
       "      <td>0.911957</td>\n",
       "      <td>Logistic Regression</td>\n",
       "    </tr>\n",
       "    <tr>\n",
       "      <th>1</th>\n",
       "      <td>0.870780</td>\n",
       "      <td>Naive Bayes</td>\n",
       "    </tr>\n",
       "    <tr>\n",
       "      <th>2</th>\n",
       "      <td>0.812662</td>\n",
       "      <td>Random Forest</td>\n",
       "    </tr>\n",
       "    <tr>\n",
       "      <th>3</th>\n",
       "      <td>0.770496</td>\n",
       "      <td>Decision Tree</td>\n",
       "    </tr>\n",
       "  </tbody>\n",
       "</table>\n",
       "</div>"
      ],
      "text/plain": [
       "      Score                Model\n",
       "0  0.911957  Logistic Regression\n",
       "1  0.870780          Naive Bayes\n",
       "2  0.812662        Random Forest\n",
       "3  0.770496        Decision Tree"
      ]
     },
     "execution_count": 132,
     "metadata": {},
     "output_type": "execute_result"
    }
   ],
   "source": [
    "# Compare Several models according to their Accuracies\n",
    "print('Accuracy of all models for the testing dataset')\n",
    "\n",
    "Model_Comparison_test_g = pd.DataFrame({\n",
    "    'Model': ['Logistic Regression', 'Decision Tree','Random Forest', \n",
    "              'Naive Bayes'],\n",
    "    'Score': [lrg_test_accuracy, dtg_test_accuracy, rfg_test_accuracy, nbg_test_accuracy]})\n",
    "\n",
    "Model_Comparison_df_tg = Model_Comparison_test_g.sort_values(by='Score', ascending=False)\n",
    "Model_Comparison_df_tg = Model_Comparison_df_tg.set_index('Score')\n",
    "Model_Comparison_df_tg.reset_index()"
   ]
  },
  {
   "cell_type": "markdown",
   "id": "a709658b",
   "metadata": {},
   "source": [
    "**From the above code, it is clear that**\n",
    "- Logistic regression has the highest accuracies for both training and testing dataset with a difference of 6 (slightly overfitted). \n",
    "- It is also clear that random forest has same accuracy of 81 for both training and testing dataset which means it is neither overfitted or underfitted. \n",
    "- I can say that both the logistic regression and random forest can be the best model fits for this data."
   ]
  },
  {
   "cell_type": "markdown",
   "id": "ba37c090",
   "metadata": {},
   "source": [
    "# CONCLUSION"
   ]
  },
  {
   "cell_type": "markdown",
   "id": "2ed9f4f0",
   "metadata": {},
   "source": [
    "## In this project I have done the following :-\n",
    "\n",
    "**EXPLORATORY DATA ANALYSIS**\n",
    "\n",
    "- Importing the required libraries.\n",
    "- Reading the dataset.\n",
    "- Viewing the head of the dataset.\n",
    "- View the info of the dataset (category, label and text_ column as categorical and rating column as numerical).\n",
    "- View the value counts of the target (label) column [the target column is balanced].\n",
    "- View the shape of the dataset (40432 rows and 4 columns).\n",
    "- View the category column value counts (consists of 10 different categories).\n",
    "- View the rating column value counts (values ranging from 1 to 5).\n",
    "- View the text_ column head to know how the text_ column data looks.\n",
    "- Check whether there are missing values in the data (there are no missing values).\n",
    "- Visualize the columns category, rating and label column.\n",
    "- Do the LabelEncoder of target (label) variable - converting categorical variable to numerical which can be very useful during classification.\n",
    "\n",
    "**TRAIN AND TEST SPLIT**\n",
    "\n",
    "- The dataset is divided into train and test split with the random state of 120. After the split, there are 32,345 training samples and 8087 testing samples.\n",
    "\n",
    "**FEATURE ENGINEERING**\n",
    "\n",
    "- Create pipelines for TFIDF (TFIDF vectorizer) \n",
    "     - TFIDF Vectorization (term frequency inverse document frequency, measure for information retrieval and quantifying the importance of strings) for text_ column.\n",
    "- Create pipeline for categorical variable encoding using OneHotEncoder to create dummies for category column.\n",
    "\n",
    "**MODELING**\n",
    "\n",
    "- Create a pipelines for Logistic Regression, Decision Tree, Random Forest, Naive Bayes, Support Vector Machines, K-Nearest Neighbors.\n",
    "\n",
    "**MODEL EVALUATION**\n",
    "\n",
    "- Fit all the above models with the data and evaluate its accuracy, get the classification report, confusion matrix.\n",
    "- Logistic Regression (Training - 98, Testing - 89 [Overfitted])\n",
    "- Decision Tree (Training - 100, Testing - 77 [Overfitted])\n",
    "- Random Forest (Training - 100, Testing - 89 [Overfitted])\n",
    "- Naive Bayes (Training - 89, Testing - 86 [Slightly Overfitted])\n",
    "- SVM (Training - 95, Testing - 91 [Slightly Overfitted])\n",
    "- KNN (Training - 66, Testing - 58 [Overfitted])\n",
    "\n",
    "**CROSS VALIDATION**\n",
    "\n",
    "- I have done cross validation with cv = 5 and got the following results\n",
    "- Logistic Regression (Accuracy - 89)\n",
    "- Decision Tree (Accuracy - 77)\n",
    "- Random Forest (Accuracy - 88)\n",
    "- Naive Bayes (Accuracy - 85)\n",
    "- SVM (Accuracy - 90)\n",
    "- KNN (Accuracy - 58)\n",
    "\n",
    "**HYPERPARAMETER TUNING**\n",
    "\n",
    "- I have done the hyperparameter tuning using GridSearchCV for the 4 models (Logistic Regression, Decision Tree, Random Forest, Naive Bayes)\n",
    "- Logistic Regression (Training - 97, Testing - 91 [Overfitted])\n",
    "- Decision Tree (Training - 81, Testing - 77 [Overfitted])\n",
    "- Random Forest (Training - 81, Testing - 81 [Overfitted])\n",
    "- Naive Bayes (Training - 92, Testing - 87 [Slightly Overfitted])\n",
    "\n",
    "**Considering all the above results, I can say that Logistic Regression, Random Forest and Naive Bayes are the best models for this data taking the parameters like fitting, accuracy, cross validation and hyperparameter tuning.**"
   ]
  },
  {
   "cell_type": "code",
   "execution_count": null,
   "id": "ca9a4cdb",
   "metadata": {},
   "outputs": [],
   "source": []
  }
 ],
 "metadata": {
  "kernelspec": {
   "display_name": "Python 3",
   "language": "python",
   "name": "python3"
  },
  "language_info": {
   "codemirror_mode": {
    "name": "ipython",
    "version": 3
   },
   "file_extension": ".py",
   "mimetype": "text/x-python",
   "name": "python",
   "nbconvert_exporter": "python",
   "pygments_lexer": "ipython3",
   "version": "3.8.8"
  }
 },
 "nbformat": 4,
 "nbformat_minor": 5
}
