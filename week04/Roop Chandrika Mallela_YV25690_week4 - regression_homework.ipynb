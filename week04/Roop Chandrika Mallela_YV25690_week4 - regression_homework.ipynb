{
 "cells": [
  {
   "cell_type": "markdown",
   "metadata": {},
   "source": [
    "# Week4 - Homework\n",
    "\n",
    "- Execute the below code, then answer the numbered questions."
   ]
  },
  {
   "cell_type": "code",
   "execution_count": 1,
   "metadata": {},
   "outputs": [
    {
     "name": "stdout",
     "output_type": "stream",
     "text": [
      "<class 'pandas.core.frame.DataFrame'>\n",
      "RangeIndex: 9055 entries, 0 to 9054\n",
      "Data columns (total 7 columns):\n",
      " #   Column         Non-Null Count  Dtype  \n",
      "---  ------         --------------  -----  \n",
      " 0   make           8164 non-null   object \n",
      " 1   transmission   8106 non-null   object \n",
      " 2   state          8152 non-null   object \n",
      " 3   condition      8173 non-null   float64\n",
      " 4   odometer       8178 non-null   float64\n",
      " 5   auction_value  8107 non-null   float64\n",
      " 6   selling_price  9055 non-null   float64\n",
      "dtypes: float64(4), object(3)\n",
      "memory usage: 495.3+ KB\n"
     ]
    }
   ],
   "source": [
    "import pandas as pd\n",
    "\n",
    "df = pd.read_csv('https://raw.githubusercontent.com/msaricaumbc/DS_data/master/ds602/regression/car-reg-data.csv')\n",
    "df.info()"
   ]
  },
  {
   "cell_type": "code",
   "execution_count": 2,
   "metadata": {},
   "outputs": [
    {
     "name": "stdout",
     "output_type": "stream",
     "text": [
      "Records in training data: 7,244\n",
      "Records in test data: 1,811\n",
      "\n",
      "Features:\n",
      "make\n",
      "transmission\n",
      "state\n",
      "condition\n",
      "odometer\n",
      "auction_value\n"
     ]
    }
   ],
   "source": [
    "from sklearn.model_selection import train_test_split\n",
    "features = [x for x in df.columns if x != 'selling_price']\n",
    "\n",
    "X = df[features]\n",
    "y = df['selling_price']\n",
    "\n",
    "X_train, X_test, y_train, y_test = train_test_split(X, y, test_size=0.2, random_state=100)\n",
    "\n",
    "print(f'Records in training data: {X_train.shape[0]:,}')\n",
    "print(f'Records in test data: {X_test.shape[0]:,}')\n",
    "print('\\nFeatures:')\n",
    "print(*X_train.columns, sep='\\n')"
   ]
  },
  {
   "cell_type": "markdown",
   "metadata": {},
   "source": [
    "## Question 1: Split the features into two lists, one for the numerical features and another for the categorical features."
   ]
  },
  {
   "cell_type": "markdown",
   "metadata": {},
   "source": [
    "**select_dtypes(include=['number'] is used to select the numerical features and convert them to the list\n",
    "whereas select_dtypes(exclude=['number'] is used to select the categorical features and convert them to the list**"
   ]
  },
  {
   "cell_type": "code",
   "execution_count": 3,
   "metadata": {},
   "outputs": [
    {
     "name": "stdout",
     "output_type": "stream",
     "text": [
      "Numerical Features: ['condition', 'odometer', 'auction_value']\n",
      "Categorical Features: ['make', 'transmission', 'state']\n"
     ]
    }
   ],
   "source": [
    "# insert code here\n",
    "\n",
    "# select_dtypes function with include and exclude parameters for the features except target column\n",
    "numerical_features = df[features].select_dtypes(include=['number']).columns.tolist()\n",
    "categorical_features = df[features].select_dtypes(exclude=['number']).columns.tolist()\n",
    "\n",
    "# Print the numerical and categorical features\n",
    "print(\"Numerical Features:\", numerical_features)\n",
    "print(\"Categorical Features:\", categorical_features)\n"
   ]
  },
  {
   "cell_type": "markdown",
   "metadata": {},
   "source": [
    "**Numerical features are condition, odometer and auction_value. Categorical features are make, transmission and state.**"
   ]
  },
  {
   "cell_type": "markdown",
   "metadata": {},
   "source": [
    "## Question 2: Using the numerical variables, create a pipeline that replaces the missing values with the median and then standardizes the values using a standard scaler."
   ]
  },
  {
   "cell_type": "markdown",
   "metadata": {},
   "source": [
    "**Import all the libraries required for pipelines like Pipeline, ColumnTransformer, SimpleImputer, OneHotEncoder, \n",
    "StandardScaler.**"
   ]
  },
  {
   "cell_type": "code",
   "execution_count": 4,
   "metadata": {},
   "outputs": [],
   "source": [
    "from sklearn.pipeline import Pipeline # import pipeline\n",
    "from sklearn.compose import ColumnTransformer # import column transformer for transforming the data.\n",
    "from sklearn.impute import SimpleImputer # import simple imputer for imputing missing values\n",
    "from sklearn.preprocessing import OneHotEncoder # used for representing categorical columns as numeric.\n",
    "from sklearn.preprocessing import StandardScaler # used for standardizing the values"
   ]
  },
  {
   "cell_type": "code",
   "execution_count": 5,
   "metadata": {},
   "outputs": [
    {
     "data": {
      "text/plain": [
       "make             891\n",
       "transmission     949\n",
       "state            903\n",
       "condition        882\n",
       "odometer         877\n",
       "auction_value    948\n",
       "selling_price      0\n",
       "dtype: int64"
      ]
     },
     "execution_count": 5,
     "metadata": {},
     "output_type": "execute_result"
    }
   ],
   "source": [
    "df.isnull().sum() # Get the sum of missing values for each column"
   ]
  },
  {
   "cell_type": "code",
   "execution_count": 6,
   "metadata": {},
   "outputs": [],
   "source": [
    "# insert code here\n",
    "# create a pipeline that imputes missing values of numerical features with median and then standardizes the values\n",
    "\n",
    "num_pipeline = Pipeline([('impute_missing', SimpleImputer(strategy='median')),\n",
    "                           ('standardize_num', StandardScaler())\n",
    "                        ])"
   ]
  },
  {
   "cell_type": "markdown",
   "metadata": {},
   "source": [
    "**The above code shows how the pipeline that imputes missing values in numerical features and also standardize for the same using StandardScaler() is shown.**"
   ]
  },
  {
   "cell_type": "markdown",
   "metadata": {},
   "source": [
    "## Question 3: Using the categorical variables, create a pipeline that replaces the missing values with the most frequent and then use one-hot encoding to convert the data to numerical arrays.\n",
    "- You should be dropping one category from each variable when using the one-hot encoder.  \n",
    "- To ensure the pipeline doesn't break when it receives new/unexpected categories, you should ignore new categories.\n",
    "- Use a fit transformer on the training dataset to validate all the columns are now numeric and to determine how many columns the transformed data contains."
   ]
  },
  {
   "cell_type": "code",
   "execution_count": 7,
   "metadata": {},
   "outputs": [],
   "source": [
    "# insert code here\n",
    "# create a pipeline that imputes missing values of categorical features with most frequent value\n",
    "# and then used OneHotEncoder to convert the data to numerical arrays\n",
    "\n",
    "cat_pipeline = Pipeline([('impute_missing_cats', SimpleImputer(strategy='most_frequent')),\n",
    "                          ('create_dummies_cats', OneHotEncoder(handle_unknown='ignore', drop='first'))])"
   ]
  },
  {
   "cell_type": "markdown",
   "metadata": {},
   "source": [
    "**The above code shows how the pipeline that imputes missing values in categorical features and also use OneHotEncoder to convert the data to numerical arrays is shown.**"
   ]
  },
  {
   "cell_type": "markdown",
   "metadata": {},
   "source": [
    "**Use a fit transformer on the training dataset to validate all the columns are now numeric and to determine how many columns the transformed data contains.**"
   ]
  },
  {
   "cell_type": "code",
   "execution_count": 8,
   "metadata": {},
   "outputs": [
    {
     "data": {
      "text/html": [
       "<style>#sk-container-id-1 {color: black;background-color: white;}#sk-container-id-1 pre{padding: 0;}#sk-container-id-1 div.sk-toggleable {background-color: white;}#sk-container-id-1 label.sk-toggleable__label {cursor: pointer;display: block;width: 100%;margin-bottom: 0;padding: 0.3em;box-sizing: border-box;text-align: center;}#sk-container-id-1 label.sk-toggleable__label-arrow:before {content: \"▸\";float: left;margin-right: 0.25em;color: #696969;}#sk-container-id-1 label.sk-toggleable__label-arrow:hover:before {color: black;}#sk-container-id-1 div.sk-estimator:hover label.sk-toggleable__label-arrow:before {color: black;}#sk-container-id-1 div.sk-toggleable__content {max-height: 0;max-width: 0;overflow: hidden;text-align: left;background-color: #f0f8ff;}#sk-container-id-1 div.sk-toggleable__content pre {margin: 0.2em;color: black;border-radius: 0.25em;background-color: #f0f8ff;}#sk-container-id-1 input.sk-toggleable__control:checked~div.sk-toggleable__content {max-height: 200px;max-width: 100%;overflow: auto;}#sk-container-id-1 input.sk-toggleable__control:checked~label.sk-toggleable__label-arrow:before {content: \"▾\";}#sk-container-id-1 div.sk-estimator input.sk-toggleable__control:checked~label.sk-toggleable__label {background-color: #d4ebff;}#sk-container-id-1 div.sk-label input.sk-toggleable__control:checked~label.sk-toggleable__label {background-color: #d4ebff;}#sk-container-id-1 input.sk-hidden--visually {border: 0;clip: rect(1px 1px 1px 1px);clip: rect(1px, 1px, 1px, 1px);height: 1px;margin: -1px;overflow: hidden;padding: 0;position: absolute;width: 1px;}#sk-container-id-1 div.sk-estimator {font-family: monospace;background-color: #f0f8ff;border: 1px dotted black;border-radius: 0.25em;box-sizing: border-box;margin-bottom: 0.5em;}#sk-container-id-1 div.sk-estimator:hover {background-color: #d4ebff;}#sk-container-id-1 div.sk-parallel-item::after {content: \"\";width: 100%;border-bottom: 1px solid gray;flex-grow: 1;}#sk-container-id-1 div.sk-label:hover label.sk-toggleable__label {background-color: #d4ebff;}#sk-container-id-1 div.sk-serial::before {content: \"\";position: absolute;border-left: 1px solid gray;box-sizing: border-box;top: 0;bottom: 0;left: 50%;z-index: 0;}#sk-container-id-1 div.sk-serial {display: flex;flex-direction: column;align-items: center;background-color: white;padding-right: 0.2em;padding-left: 0.2em;position: relative;}#sk-container-id-1 div.sk-item {position: relative;z-index: 1;}#sk-container-id-1 div.sk-parallel {display: flex;align-items: stretch;justify-content: center;background-color: white;position: relative;}#sk-container-id-1 div.sk-item::before, #sk-container-id-1 div.sk-parallel-item::before {content: \"\";position: absolute;border-left: 1px solid gray;box-sizing: border-box;top: 0;bottom: 0;left: 50%;z-index: -1;}#sk-container-id-1 div.sk-parallel-item {display: flex;flex-direction: column;z-index: 1;position: relative;background-color: white;}#sk-container-id-1 div.sk-parallel-item:first-child::after {align-self: flex-end;width: 50%;}#sk-container-id-1 div.sk-parallel-item:last-child::after {align-self: flex-start;width: 50%;}#sk-container-id-1 div.sk-parallel-item:only-child::after {width: 0;}#sk-container-id-1 div.sk-dashed-wrapped {border: 1px dashed gray;margin: 0 0.4em 0.5em 0.4em;box-sizing: border-box;padding-bottom: 0.4em;background-color: white;}#sk-container-id-1 div.sk-label label {font-family: monospace;font-weight: bold;display: inline-block;line-height: 1.2em;}#sk-container-id-1 div.sk-label-container {text-align: center;}#sk-container-id-1 div.sk-container {/* jupyter's `normalize.less` sets `[hidden] { display: none; }` but bootstrap.min.css set `[hidden] { display: none !important; }` so we also need the `!important` here to be able to override the default hidden behavior on the sphinx rendered scikit-learn.org. See: https://github.com/scikit-learn/scikit-learn/issues/21755 */display: inline-block !important;position: relative;}#sk-container-id-1 div.sk-text-repr-fallback {display: none;}</style><div id=\"sk-container-id-1\" class=\"sk-top-container\"><div class=\"sk-text-repr-fallback\"><pre>ColumnTransformer(transformers=[(&#x27;create_dummies&#x27;,\n",
       "                                 Pipeline(steps=[(&#x27;impute_missing_cats&#x27;,\n",
       "                                                  SimpleImputer(strategy=&#x27;most_frequent&#x27;)),\n",
       "                                                 (&#x27;create_dummies_cats&#x27;,\n",
       "                                                  OneHotEncoder(drop=&#x27;first&#x27;,\n",
       "                                                                handle_unknown=&#x27;ignore&#x27;))]),\n",
       "                                 [&#x27;make&#x27;, &#x27;transmission&#x27;, &#x27;state&#x27;])])</pre><b>In a Jupyter environment, please rerun this cell to show the HTML representation or trust the notebook. <br />On GitHub, the HTML representation is unable to render, please try loading this page with nbviewer.org.</b></div><div class=\"sk-container\" hidden><div class=\"sk-item sk-dashed-wrapped\"><div class=\"sk-label-container\"><div class=\"sk-label sk-toggleable\"><input class=\"sk-toggleable__control sk-hidden--visually\" id=\"sk-estimator-id-1\" type=\"checkbox\" ><label for=\"sk-estimator-id-1\" class=\"sk-toggleable__label sk-toggleable__label-arrow\">ColumnTransformer</label><div class=\"sk-toggleable__content\"><pre>ColumnTransformer(transformers=[(&#x27;create_dummies&#x27;,\n",
       "                                 Pipeline(steps=[(&#x27;impute_missing_cats&#x27;,\n",
       "                                                  SimpleImputer(strategy=&#x27;most_frequent&#x27;)),\n",
       "                                                 (&#x27;create_dummies_cats&#x27;,\n",
       "                                                  OneHotEncoder(drop=&#x27;first&#x27;,\n",
       "                                                                handle_unknown=&#x27;ignore&#x27;))]),\n",
       "                                 [&#x27;make&#x27;, &#x27;transmission&#x27;, &#x27;state&#x27;])])</pre></div></div></div><div class=\"sk-parallel\"><div class=\"sk-parallel-item\"><div class=\"sk-item\"><div class=\"sk-label-container\"><div class=\"sk-label sk-toggleable\"><input class=\"sk-toggleable__control sk-hidden--visually\" id=\"sk-estimator-id-2\" type=\"checkbox\" ><label for=\"sk-estimator-id-2\" class=\"sk-toggleable__label sk-toggleable__label-arrow\">create_dummies</label><div class=\"sk-toggleable__content\"><pre>[&#x27;make&#x27;, &#x27;transmission&#x27;, &#x27;state&#x27;]</pre></div></div></div><div class=\"sk-serial\"><div class=\"sk-item\"><div class=\"sk-serial\"><div class=\"sk-item\"><div class=\"sk-estimator sk-toggleable\"><input class=\"sk-toggleable__control sk-hidden--visually\" id=\"sk-estimator-id-3\" type=\"checkbox\" ><label for=\"sk-estimator-id-3\" class=\"sk-toggleable__label sk-toggleable__label-arrow\">SimpleImputer</label><div class=\"sk-toggleable__content\"><pre>SimpleImputer(strategy=&#x27;most_frequent&#x27;)</pre></div></div></div><div class=\"sk-item\"><div class=\"sk-estimator sk-toggleable\"><input class=\"sk-toggleable__control sk-hidden--visually\" id=\"sk-estimator-id-4\" type=\"checkbox\" ><label for=\"sk-estimator-id-4\" class=\"sk-toggleable__label sk-toggleable__label-arrow\">OneHotEncoder</label><div class=\"sk-toggleable__content\"><pre>OneHotEncoder(drop=&#x27;first&#x27;, handle_unknown=&#x27;ignore&#x27;)</pre></div></div></div></div></div></div></div></div></div></div></div></div>"
      ],
      "text/plain": [
       "ColumnTransformer(transformers=[('create_dummies',\n",
       "                                 Pipeline(steps=[('impute_missing_cats',\n",
       "                                                  SimpleImputer(strategy='most_frequent')),\n",
       "                                                 ('create_dummies_cats',\n",
       "                                                  OneHotEncoder(drop='first',\n",
       "                                                                handle_unknown='ignore'))]),\n",
       "                                 ['make', 'transmission', 'state'])])"
      ]
     },
     "execution_count": 8,
     "metadata": {},
     "output_type": "execute_result"
    }
   ],
   "source": [
    "cat_processing_pipeline = ColumnTransformer(transformers=[('create_dummies', cat_pipeline, categorical_features)])\n",
    "cat_processing_pipeline"
   ]
  },
  {
   "cell_type": "markdown",
   "metadata": {},
   "source": [
    "**The above code is used to column transform the categorical features.**"
   ]
  },
  {
   "cell_type": "markdown",
   "metadata": {},
   "source": [
    "**The below code is used for processing the data for categorical features**"
   ]
  },
  {
   "cell_type": "code",
   "execution_count": 9,
   "metadata": {},
   "outputs": [
    {
     "data": {
      "text/html": [
       "<style>#sk-container-id-2 {color: black;background-color: white;}#sk-container-id-2 pre{padding: 0;}#sk-container-id-2 div.sk-toggleable {background-color: white;}#sk-container-id-2 label.sk-toggleable__label {cursor: pointer;display: block;width: 100%;margin-bottom: 0;padding: 0.3em;box-sizing: border-box;text-align: center;}#sk-container-id-2 label.sk-toggleable__label-arrow:before {content: \"▸\";float: left;margin-right: 0.25em;color: #696969;}#sk-container-id-2 label.sk-toggleable__label-arrow:hover:before {color: black;}#sk-container-id-2 div.sk-estimator:hover label.sk-toggleable__label-arrow:before {color: black;}#sk-container-id-2 div.sk-toggleable__content {max-height: 0;max-width: 0;overflow: hidden;text-align: left;background-color: #f0f8ff;}#sk-container-id-2 div.sk-toggleable__content pre {margin: 0.2em;color: black;border-radius: 0.25em;background-color: #f0f8ff;}#sk-container-id-2 input.sk-toggleable__control:checked~div.sk-toggleable__content {max-height: 200px;max-width: 100%;overflow: auto;}#sk-container-id-2 input.sk-toggleable__control:checked~label.sk-toggleable__label-arrow:before {content: \"▾\";}#sk-container-id-2 div.sk-estimator input.sk-toggleable__control:checked~label.sk-toggleable__label {background-color: #d4ebff;}#sk-container-id-2 div.sk-label input.sk-toggleable__control:checked~label.sk-toggleable__label {background-color: #d4ebff;}#sk-container-id-2 input.sk-hidden--visually {border: 0;clip: rect(1px 1px 1px 1px);clip: rect(1px, 1px, 1px, 1px);height: 1px;margin: -1px;overflow: hidden;padding: 0;position: absolute;width: 1px;}#sk-container-id-2 div.sk-estimator {font-family: monospace;background-color: #f0f8ff;border: 1px dotted black;border-radius: 0.25em;box-sizing: border-box;margin-bottom: 0.5em;}#sk-container-id-2 div.sk-estimator:hover {background-color: #d4ebff;}#sk-container-id-2 div.sk-parallel-item::after {content: \"\";width: 100%;border-bottom: 1px solid gray;flex-grow: 1;}#sk-container-id-2 div.sk-label:hover label.sk-toggleable__label {background-color: #d4ebff;}#sk-container-id-2 div.sk-serial::before {content: \"\";position: absolute;border-left: 1px solid gray;box-sizing: border-box;top: 0;bottom: 0;left: 50%;z-index: 0;}#sk-container-id-2 div.sk-serial {display: flex;flex-direction: column;align-items: center;background-color: white;padding-right: 0.2em;padding-left: 0.2em;position: relative;}#sk-container-id-2 div.sk-item {position: relative;z-index: 1;}#sk-container-id-2 div.sk-parallel {display: flex;align-items: stretch;justify-content: center;background-color: white;position: relative;}#sk-container-id-2 div.sk-item::before, #sk-container-id-2 div.sk-parallel-item::before {content: \"\";position: absolute;border-left: 1px solid gray;box-sizing: border-box;top: 0;bottom: 0;left: 50%;z-index: -1;}#sk-container-id-2 div.sk-parallel-item {display: flex;flex-direction: column;z-index: 1;position: relative;background-color: white;}#sk-container-id-2 div.sk-parallel-item:first-child::after {align-self: flex-end;width: 50%;}#sk-container-id-2 div.sk-parallel-item:last-child::after {align-self: flex-start;width: 50%;}#sk-container-id-2 div.sk-parallel-item:only-child::after {width: 0;}#sk-container-id-2 div.sk-dashed-wrapped {border: 1px dashed gray;margin: 0 0.4em 0.5em 0.4em;box-sizing: border-box;padding-bottom: 0.4em;background-color: white;}#sk-container-id-2 div.sk-label label {font-family: monospace;font-weight: bold;display: inline-block;line-height: 1.2em;}#sk-container-id-2 div.sk-label-container {text-align: center;}#sk-container-id-2 div.sk-container {/* jupyter's `normalize.less` sets `[hidden] { display: none; }` but bootstrap.min.css set `[hidden] { display: none !important; }` so we also need the `!important` here to be able to override the default hidden behavior on the sphinx rendered scikit-learn.org. See: https://github.com/scikit-learn/scikit-learn/issues/21755 */display: inline-block !important;position: relative;}#sk-container-id-2 div.sk-text-repr-fallback {display: none;}</style><div id=\"sk-container-id-2\" class=\"sk-top-container\"><div class=\"sk-text-repr-fallback\"><pre>Pipeline(steps=[(&#x27;data_processing&#x27;,\n",
       "                 ColumnTransformer(transformers=[(&#x27;create_dummies&#x27;,\n",
       "                                                  Pipeline(steps=[(&#x27;impute_missing_cats&#x27;,\n",
       "                                                                   SimpleImputer(strategy=&#x27;most_frequent&#x27;)),\n",
       "                                                                  (&#x27;create_dummies_cats&#x27;,\n",
       "                                                                   OneHotEncoder(drop=&#x27;first&#x27;,\n",
       "                                                                                 handle_unknown=&#x27;ignore&#x27;))]),\n",
       "                                                  [&#x27;make&#x27;, &#x27;transmission&#x27;,\n",
       "                                                   &#x27;state&#x27;])]))])</pre><b>In a Jupyter environment, please rerun this cell to show the HTML representation or trust the notebook. <br />On GitHub, the HTML representation is unable to render, please try loading this page with nbviewer.org.</b></div><div class=\"sk-container\" hidden><div class=\"sk-item sk-dashed-wrapped\"><div class=\"sk-label-container\"><div class=\"sk-label sk-toggleable\"><input class=\"sk-toggleable__control sk-hidden--visually\" id=\"sk-estimator-id-5\" type=\"checkbox\" ><label for=\"sk-estimator-id-5\" class=\"sk-toggleable__label sk-toggleable__label-arrow\">Pipeline</label><div class=\"sk-toggleable__content\"><pre>Pipeline(steps=[(&#x27;data_processing&#x27;,\n",
       "                 ColumnTransformer(transformers=[(&#x27;create_dummies&#x27;,\n",
       "                                                  Pipeline(steps=[(&#x27;impute_missing_cats&#x27;,\n",
       "                                                                   SimpleImputer(strategy=&#x27;most_frequent&#x27;)),\n",
       "                                                                  (&#x27;create_dummies_cats&#x27;,\n",
       "                                                                   OneHotEncoder(drop=&#x27;first&#x27;,\n",
       "                                                                                 handle_unknown=&#x27;ignore&#x27;))]),\n",
       "                                                  [&#x27;make&#x27;, &#x27;transmission&#x27;,\n",
       "                                                   &#x27;state&#x27;])]))])</pre></div></div></div><div class=\"sk-serial\"><div class=\"sk-item sk-dashed-wrapped\"><div class=\"sk-label-container\"><div class=\"sk-label sk-toggleable\"><input class=\"sk-toggleable__control sk-hidden--visually\" id=\"sk-estimator-id-6\" type=\"checkbox\" ><label for=\"sk-estimator-id-6\" class=\"sk-toggleable__label sk-toggleable__label-arrow\">data_processing: ColumnTransformer</label><div class=\"sk-toggleable__content\"><pre>ColumnTransformer(transformers=[(&#x27;create_dummies&#x27;,\n",
       "                                 Pipeline(steps=[(&#x27;impute_missing_cats&#x27;,\n",
       "                                                  SimpleImputer(strategy=&#x27;most_frequent&#x27;)),\n",
       "                                                 (&#x27;create_dummies_cats&#x27;,\n",
       "                                                  OneHotEncoder(drop=&#x27;first&#x27;,\n",
       "                                                                handle_unknown=&#x27;ignore&#x27;))]),\n",
       "                                 [&#x27;make&#x27;, &#x27;transmission&#x27;, &#x27;state&#x27;])])</pre></div></div></div><div class=\"sk-parallel\"><div class=\"sk-parallel-item\"><div class=\"sk-item\"><div class=\"sk-label-container\"><div class=\"sk-label sk-toggleable\"><input class=\"sk-toggleable__control sk-hidden--visually\" id=\"sk-estimator-id-7\" type=\"checkbox\" ><label for=\"sk-estimator-id-7\" class=\"sk-toggleable__label sk-toggleable__label-arrow\">create_dummies</label><div class=\"sk-toggleable__content\"><pre>[&#x27;make&#x27;, &#x27;transmission&#x27;, &#x27;state&#x27;]</pre></div></div></div><div class=\"sk-serial\"><div class=\"sk-item\"><div class=\"sk-serial\"><div class=\"sk-item\"><div class=\"sk-estimator sk-toggleable\"><input class=\"sk-toggleable__control sk-hidden--visually\" id=\"sk-estimator-id-8\" type=\"checkbox\" ><label for=\"sk-estimator-id-8\" class=\"sk-toggleable__label sk-toggleable__label-arrow\">SimpleImputer</label><div class=\"sk-toggleable__content\"><pre>SimpleImputer(strategy=&#x27;most_frequent&#x27;)</pre></div></div></div><div class=\"sk-item\"><div class=\"sk-estimator sk-toggleable\"><input class=\"sk-toggleable__control sk-hidden--visually\" id=\"sk-estimator-id-9\" type=\"checkbox\" ><label for=\"sk-estimator-id-9\" class=\"sk-toggleable__label sk-toggleable__label-arrow\">OneHotEncoder</label><div class=\"sk-toggleable__content\"><pre>OneHotEncoder(drop=&#x27;first&#x27;, handle_unknown=&#x27;ignore&#x27;)</pre></div></div></div></div></div></div></div></div></div></div></div></div></div></div>"
      ],
      "text/plain": [
       "Pipeline(steps=[('data_processing',\n",
       "                 ColumnTransformer(transformers=[('create_dummies',\n",
       "                                                  Pipeline(steps=[('impute_missing_cats',\n",
       "                                                                   SimpleImputer(strategy='most_frequent')),\n",
       "                                                                  ('create_dummies_cats',\n",
       "                                                                   OneHotEncoder(drop='first',\n",
       "                                                                                 handle_unknown='ignore'))]),\n",
       "                                                  ['make', 'transmission',\n",
       "                                                   'state'])]))])"
      ]
     },
     "execution_count": 9,
     "metadata": {},
     "output_type": "execute_result"
    }
   ],
   "source": [
    "cat_data_processing_pipeline = Pipeline(steps=[\n",
    "    ('data_processing', cat_processing_pipeline)\n",
    "])\n",
    "\n",
    "cat_data_processing_pipeline"
   ]
  },
  {
   "cell_type": "markdown",
   "metadata": {},
   "source": [
    "**The below code is used to fit transform the processing pipeline to the training dataset.**"
   ]
  },
  {
   "cell_type": "code",
   "execution_count": 10,
   "metadata": {},
   "outputs": [
    {
     "data": {
      "text/plain": [
       "<7244x41 sparse matrix of type '<class 'numpy.float64'>'\n",
       "\twith 14213 stored elements in Compressed Sparse Row format>"
      ]
     },
     "execution_count": 10,
     "metadata": {},
     "output_type": "execute_result"
    }
   ],
   "source": [
    "cat_transformed_data = cat_data_processing_pipeline.fit_transform(X_train)\n",
    "cat_transformed_data"
   ]
  },
  {
   "cell_type": "code",
   "execution_count": 11,
   "metadata": {},
   "outputs": [
    {
     "data": {
      "text/plain": [
       "dtype('float64')"
      ]
     },
     "execution_count": 11,
     "metadata": {},
     "output_type": "execute_result"
    }
   ],
   "source": [
    "cat_transformed_data.dtype # get the type of transformed data"
   ]
  },
  {
   "cell_type": "code",
   "execution_count": 12,
   "metadata": {},
   "outputs": [
    {
     "name": "stdout",
     "output_type": "stream",
     "text": [
      "(7244, 41)\n"
     ]
    }
   ],
   "source": [
    "cat_transformed_data_array = cat_transformed_data.toarray() # the transformed data is converted to array\n",
    "\n",
    "df_cat_transform = pd.DataFrame(cat_transformed_data_array) # the above array is converted into dataframe \n",
    "\n",
    "print(df_cat_transform.shape) # print the shape of the transformed dataframe"
   ]
  },
  {
   "cell_type": "code",
   "execution_count": 13,
   "metadata": {},
   "outputs": [
    {
     "name": "stdout",
     "output_type": "stream",
     "text": [
      "0     float64\n",
      "1     float64\n",
      "2     float64\n",
      "3     float64\n",
      "4     float64\n",
      "5     float64\n",
      "6     float64\n",
      "7     float64\n",
      "8     float64\n",
      "9     float64\n",
      "10    float64\n",
      "11    float64\n",
      "12    float64\n",
      "13    float64\n",
      "14    float64\n",
      "15    float64\n",
      "16    float64\n",
      "17    float64\n",
      "18    float64\n",
      "19    float64\n",
      "20    float64\n",
      "21    float64\n",
      "22    float64\n",
      "23    float64\n",
      "24    float64\n",
      "25    float64\n",
      "26    float64\n",
      "27    float64\n",
      "28    float64\n",
      "29    float64\n",
      "30    float64\n",
      "31    float64\n",
      "32    float64\n",
      "33    float64\n",
      "34    float64\n",
      "35    float64\n",
      "36    float64\n",
      "37    float64\n",
      "38    float64\n",
      "39    float64\n",
      "40    float64\n",
      "dtype: object\n"
     ]
    }
   ],
   "source": [
    "print(df_cat_transform.dtypes) #print the data types of the transformed data"
   ]
  },
  {
   "cell_type": "markdown",
   "metadata": {},
   "source": [
    "**By the above output, I can say that all the columns are numeric**"
   ]
  },
  {
   "cell_type": "code",
   "execution_count": 14,
   "metadata": {},
   "outputs": [
    {
     "name": "stdout",
     "output_type": "stream",
     "text": [
      "<class 'pandas.core.frame.DataFrame'>\n",
      "RangeIndex: 7244 entries, 0 to 7243\n",
      "Data columns (total 41 columns):\n",
      " #   Column  Non-Null Count  Dtype  \n",
      "---  ------  --------------  -----  \n",
      " 0   0       7244 non-null   float64\n",
      " 1   1       7244 non-null   float64\n",
      " 2   2       7244 non-null   float64\n",
      " 3   3       7244 non-null   float64\n",
      " 4   4       7244 non-null   float64\n",
      " 5   5       7244 non-null   float64\n",
      " 6   6       7244 non-null   float64\n",
      " 7   7       7244 non-null   float64\n",
      " 8   8       7244 non-null   float64\n",
      " 9   9       7244 non-null   float64\n",
      " 10  10      7244 non-null   float64\n",
      " 11  11      7244 non-null   float64\n",
      " 12  12      7244 non-null   float64\n",
      " 13  13      7244 non-null   float64\n",
      " 14  14      7244 non-null   float64\n",
      " 15  15      7244 non-null   float64\n",
      " 16  16      7244 non-null   float64\n",
      " 17  17      7244 non-null   float64\n",
      " 18  18      7244 non-null   float64\n",
      " 19  19      7244 non-null   float64\n",
      " 20  20      7244 non-null   float64\n",
      " 21  21      7244 non-null   float64\n",
      " 22  22      7244 non-null   float64\n",
      " 23  23      7244 non-null   float64\n",
      " 24  24      7244 non-null   float64\n",
      " 25  25      7244 non-null   float64\n",
      " 26  26      7244 non-null   float64\n",
      " 27  27      7244 non-null   float64\n",
      " 28  28      7244 non-null   float64\n",
      " 29  29      7244 non-null   float64\n",
      " 30  30      7244 non-null   float64\n",
      " 31  31      7244 non-null   float64\n",
      " 32  32      7244 non-null   float64\n",
      " 33  33      7244 non-null   float64\n",
      " 34  34      7244 non-null   float64\n",
      " 35  35      7244 non-null   float64\n",
      " 36  36      7244 non-null   float64\n",
      " 37  37      7244 non-null   float64\n",
      " 38  38      7244 non-null   float64\n",
      " 39  39      7244 non-null   float64\n",
      " 40  40      7244 non-null   float64\n",
      "dtypes: float64(41)\n",
      "memory usage: 2.3 MB\n"
     ]
    }
   ],
   "source": [
    "df_cat_transform.info()"
   ]
  },
  {
   "cell_type": "markdown",
   "metadata": {},
   "source": [
    "**By the above output, I can say that all the columns are numeric.**"
   ]
  },
  {
   "cell_type": "code",
   "execution_count": 15,
   "metadata": {},
   "outputs": [
    {
     "data": {
      "text/plain": [
       "41"
      ]
     },
     "execution_count": 15,
     "metadata": {},
     "output_type": "execute_result"
    }
   ],
   "source": [
    "df_cat_transform.shape[1] # get the number of columns in transformed data"
   ]
  },
  {
   "cell_type": "markdown",
   "metadata": {},
   "source": [
    "**The transformed data has 41 columns**"
   ]
  },
  {
   "cell_type": "markdown",
   "metadata": {},
   "source": [
    "## Question 4: Combine the numerical and categorical pipelines into one data processing pipeline.\n",
    "- Use a fit transformers and the training dataset to verify the data has no missing values and the correct number of columns."
   ]
  },
  {
   "cell_type": "code",
   "execution_count": 16,
   "metadata": {},
   "outputs": [
    {
     "name": "stdout",
     "output_type": "stream",
     "text": [
      "ColumnTransformer(transformers=[('proc_numeric',\n",
      "                                 Pipeline(steps=[('impute_missing',\n",
      "                                                  SimpleImputer(strategy='median')),\n",
      "                                                 ('standardize_num',\n",
      "                                                  StandardScaler())]),\n",
      "                                 ['condition', 'odometer', 'auction_value']),\n",
      "                                ('create_dummies',\n",
      "                                 Pipeline(steps=[('impute_missing_cats',\n",
      "                                                  SimpleImputer(strategy='most_frequent')),\n",
      "                                                 ('create_dummies_cats',\n",
      "                                                  OneHotEncoder(drop='first',\n",
      "                                                                handle_unknown='ignore'))]),\n",
      "                                 ['make', 'transmission', 'state'])])\n"
     ]
    }
   ],
   "source": [
    "# insert code here\n",
    "\n",
    "processing_pipeline = ColumnTransformer(transformers=[('proc_numeric', num_pipeline, numerical_features),\n",
    "                                                      ('create_dummies', cat_pipeline, categorical_features)])\n",
    "\n",
    "print(processing_pipeline)"
   ]
  },
  {
   "cell_type": "markdown",
   "metadata": {},
   "source": [
    "**The above code is used for processing pipeline of both numerical and categorical features.**"
   ]
  },
  {
   "cell_type": "code",
   "execution_count": 17,
   "metadata": {},
   "outputs": [
    {
     "data": {
      "text/html": [
       "<style>#sk-container-id-3 {color: black;background-color: white;}#sk-container-id-3 pre{padding: 0;}#sk-container-id-3 div.sk-toggleable {background-color: white;}#sk-container-id-3 label.sk-toggleable__label {cursor: pointer;display: block;width: 100%;margin-bottom: 0;padding: 0.3em;box-sizing: border-box;text-align: center;}#sk-container-id-3 label.sk-toggleable__label-arrow:before {content: \"▸\";float: left;margin-right: 0.25em;color: #696969;}#sk-container-id-3 label.sk-toggleable__label-arrow:hover:before {color: black;}#sk-container-id-3 div.sk-estimator:hover label.sk-toggleable__label-arrow:before {color: black;}#sk-container-id-3 div.sk-toggleable__content {max-height: 0;max-width: 0;overflow: hidden;text-align: left;background-color: #f0f8ff;}#sk-container-id-3 div.sk-toggleable__content pre {margin: 0.2em;color: black;border-radius: 0.25em;background-color: #f0f8ff;}#sk-container-id-3 input.sk-toggleable__control:checked~div.sk-toggleable__content {max-height: 200px;max-width: 100%;overflow: auto;}#sk-container-id-3 input.sk-toggleable__control:checked~label.sk-toggleable__label-arrow:before {content: \"▾\";}#sk-container-id-3 div.sk-estimator input.sk-toggleable__control:checked~label.sk-toggleable__label {background-color: #d4ebff;}#sk-container-id-3 div.sk-label input.sk-toggleable__control:checked~label.sk-toggleable__label {background-color: #d4ebff;}#sk-container-id-3 input.sk-hidden--visually {border: 0;clip: rect(1px 1px 1px 1px);clip: rect(1px, 1px, 1px, 1px);height: 1px;margin: -1px;overflow: hidden;padding: 0;position: absolute;width: 1px;}#sk-container-id-3 div.sk-estimator {font-family: monospace;background-color: #f0f8ff;border: 1px dotted black;border-radius: 0.25em;box-sizing: border-box;margin-bottom: 0.5em;}#sk-container-id-3 div.sk-estimator:hover {background-color: #d4ebff;}#sk-container-id-3 div.sk-parallel-item::after {content: \"\";width: 100%;border-bottom: 1px solid gray;flex-grow: 1;}#sk-container-id-3 div.sk-label:hover label.sk-toggleable__label {background-color: #d4ebff;}#sk-container-id-3 div.sk-serial::before {content: \"\";position: absolute;border-left: 1px solid gray;box-sizing: border-box;top: 0;bottom: 0;left: 50%;z-index: 0;}#sk-container-id-3 div.sk-serial {display: flex;flex-direction: column;align-items: center;background-color: white;padding-right: 0.2em;padding-left: 0.2em;position: relative;}#sk-container-id-3 div.sk-item {position: relative;z-index: 1;}#sk-container-id-3 div.sk-parallel {display: flex;align-items: stretch;justify-content: center;background-color: white;position: relative;}#sk-container-id-3 div.sk-item::before, #sk-container-id-3 div.sk-parallel-item::before {content: \"\";position: absolute;border-left: 1px solid gray;box-sizing: border-box;top: 0;bottom: 0;left: 50%;z-index: -1;}#sk-container-id-3 div.sk-parallel-item {display: flex;flex-direction: column;z-index: 1;position: relative;background-color: white;}#sk-container-id-3 div.sk-parallel-item:first-child::after {align-self: flex-end;width: 50%;}#sk-container-id-3 div.sk-parallel-item:last-child::after {align-self: flex-start;width: 50%;}#sk-container-id-3 div.sk-parallel-item:only-child::after {width: 0;}#sk-container-id-3 div.sk-dashed-wrapped {border: 1px dashed gray;margin: 0 0.4em 0.5em 0.4em;box-sizing: border-box;padding-bottom: 0.4em;background-color: white;}#sk-container-id-3 div.sk-label label {font-family: monospace;font-weight: bold;display: inline-block;line-height: 1.2em;}#sk-container-id-3 div.sk-label-container {text-align: center;}#sk-container-id-3 div.sk-container {/* jupyter's `normalize.less` sets `[hidden] { display: none; }` but bootstrap.min.css set `[hidden] { display: none !important; }` so we also need the `!important` here to be able to override the default hidden behavior on the sphinx rendered scikit-learn.org. See: https://github.com/scikit-learn/scikit-learn/issues/21755 */display: inline-block !important;position: relative;}#sk-container-id-3 div.sk-text-repr-fallback {display: none;}</style><div id=\"sk-container-id-3\" class=\"sk-top-container\"><div class=\"sk-text-repr-fallback\"><pre>Pipeline(steps=[(&#x27;data_processing&#x27;,\n",
       "                 ColumnTransformer(transformers=[(&#x27;proc_numeric&#x27;,\n",
       "                                                  Pipeline(steps=[(&#x27;impute_missing&#x27;,\n",
       "                                                                   SimpleImputer(strategy=&#x27;median&#x27;)),\n",
       "                                                                  (&#x27;standardize_num&#x27;,\n",
       "                                                                   StandardScaler())]),\n",
       "                                                  [&#x27;condition&#x27;, &#x27;odometer&#x27;,\n",
       "                                                   &#x27;auction_value&#x27;]),\n",
       "                                                 (&#x27;create_dummies&#x27;,\n",
       "                                                  Pipeline(steps=[(&#x27;impute_missing_cats&#x27;,\n",
       "                                                                   SimpleImputer(strategy=&#x27;most_frequent&#x27;)),\n",
       "                                                                  (&#x27;create_dummies_cats&#x27;,\n",
       "                                                                   OneHotEncoder(drop=&#x27;first&#x27;,\n",
       "                                                                                 handle_unknown=&#x27;ignore&#x27;))]),\n",
       "                                                  [&#x27;make&#x27;, &#x27;transmission&#x27;,\n",
       "                                                   &#x27;state&#x27;])]))])</pre><b>In a Jupyter environment, please rerun this cell to show the HTML representation or trust the notebook. <br />On GitHub, the HTML representation is unable to render, please try loading this page with nbviewer.org.</b></div><div class=\"sk-container\" hidden><div class=\"sk-item sk-dashed-wrapped\"><div class=\"sk-label-container\"><div class=\"sk-label sk-toggleable\"><input class=\"sk-toggleable__control sk-hidden--visually\" id=\"sk-estimator-id-10\" type=\"checkbox\" ><label for=\"sk-estimator-id-10\" class=\"sk-toggleable__label sk-toggleable__label-arrow\">Pipeline</label><div class=\"sk-toggleable__content\"><pre>Pipeline(steps=[(&#x27;data_processing&#x27;,\n",
       "                 ColumnTransformer(transformers=[(&#x27;proc_numeric&#x27;,\n",
       "                                                  Pipeline(steps=[(&#x27;impute_missing&#x27;,\n",
       "                                                                   SimpleImputer(strategy=&#x27;median&#x27;)),\n",
       "                                                                  (&#x27;standardize_num&#x27;,\n",
       "                                                                   StandardScaler())]),\n",
       "                                                  [&#x27;condition&#x27;, &#x27;odometer&#x27;,\n",
       "                                                   &#x27;auction_value&#x27;]),\n",
       "                                                 (&#x27;create_dummies&#x27;,\n",
       "                                                  Pipeline(steps=[(&#x27;impute_missing_cats&#x27;,\n",
       "                                                                   SimpleImputer(strategy=&#x27;most_frequent&#x27;)),\n",
       "                                                                  (&#x27;create_dummies_cats&#x27;,\n",
       "                                                                   OneHotEncoder(drop=&#x27;first&#x27;,\n",
       "                                                                                 handle_unknown=&#x27;ignore&#x27;))]),\n",
       "                                                  [&#x27;make&#x27;, &#x27;transmission&#x27;,\n",
       "                                                   &#x27;state&#x27;])]))])</pre></div></div></div><div class=\"sk-serial\"><div class=\"sk-item sk-dashed-wrapped\"><div class=\"sk-label-container\"><div class=\"sk-label sk-toggleable\"><input class=\"sk-toggleable__control sk-hidden--visually\" id=\"sk-estimator-id-11\" type=\"checkbox\" ><label for=\"sk-estimator-id-11\" class=\"sk-toggleable__label sk-toggleable__label-arrow\">data_processing: ColumnTransformer</label><div class=\"sk-toggleable__content\"><pre>ColumnTransformer(transformers=[(&#x27;proc_numeric&#x27;,\n",
       "                                 Pipeline(steps=[(&#x27;impute_missing&#x27;,\n",
       "                                                  SimpleImputer(strategy=&#x27;median&#x27;)),\n",
       "                                                 (&#x27;standardize_num&#x27;,\n",
       "                                                  StandardScaler())]),\n",
       "                                 [&#x27;condition&#x27;, &#x27;odometer&#x27;, &#x27;auction_value&#x27;]),\n",
       "                                (&#x27;create_dummies&#x27;,\n",
       "                                 Pipeline(steps=[(&#x27;impute_missing_cats&#x27;,\n",
       "                                                  SimpleImputer(strategy=&#x27;most_frequent&#x27;)),\n",
       "                                                 (&#x27;create_dummies_cats&#x27;,\n",
       "                                                  OneHotEncoder(drop=&#x27;first&#x27;,\n",
       "                                                                handle_unknown=&#x27;ignore&#x27;))]),\n",
       "                                 [&#x27;make&#x27;, &#x27;transmission&#x27;, &#x27;state&#x27;])])</pre></div></div></div><div class=\"sk-parallel\"><div class=\"sk-parallel-item\"><div class=\"sk-item\"><div class=\"sk-label-container\"><div class=\"sk-label sk-toggleable\"><input class=\"sk-toggleable__control sk-hidden--visually\" id=\"sk-estimator-id-12\" type=\"checkbox\" ><label for=\"sk-estimator-id-12\" class=\"sk-toggleable__label sk-toggleable__label-arrow\">proc_numeric</label><div class=\"sk-toggleable__content\"><pre>[&#x27;condition&#x27;, &#x27;odometer&#x27;, &#x27;auction_value&#x27;]</pre></div></div></div><div class=\"sk-serial\"><div class=\"sk-item\"><div class=\"sk-serial\"><div class=\"sk-item\"><div class=\"sk-estimator sk-toggleable\"><input class=\"sk-toggleable__control sk-hidden--visually\" id=\"sk-estimator-id-13\" type=\"checkbox\" ><label for=\"sk-estimator-id-13\" class=\"sk-toggleable__label sk-toggleable__label-arrow\">SimpleImputer</label><div class=\"sk-toggleable__content\"><pre>SimpleImputer(strategy=&#x27;median&#x27;)</pre></div></div></div><div class=\"sk-item\"><div class=\"sk-estimator sk-toggleable\"><input class=\"sk-toggleable__control sk-hidden--visually\" id=\"sk-estimator-id-14\" type=\"checkbox\" ><label for=\"sk-estimator-id-14\" class=\"sk-toggleable__label sk-toggleable__label-arrow\">StandardScaler</label><div class=\"sk-toggleable__content\"><pre>StandardScaler()</pre></div></div></div></div></div></div></div></div><div class=\"sk-parallel-item\"><div class=\"sk-item\"><div class=\"sk-label-container\"><div class=\"sk-label sk-toggleable\"><input class=\"sk-toggleable__control sk-hidden--visually\" id=\"sk-estimator-id-15\" type=\"checkbox\" ><label for=\"sk-estimator-id-15\" class=\"sk-toggleable__label sk-toggleable__label-arrow\">create_dummies</label><div class=\"sk-toggleable__content\"><pre>[&#x27;make&#x27;, &#x27;transmission&#x27;, &#x27;state&#x27;]</pre></div></div></div><div class=\"sk-serial\"><div class=\"sk-item\"><div class=\"sk-serial\"><div class=\"sk-item\"><div class=\"sk-estimator sk-toggleable\"><input class=\"sk-toggleable__control sk-hidden--visually\" id=\"sk-estimator-id-16\" type=\"checkbox\" ><label for=\"sk-estimator-id-16\" class=\"sk-toggleable__label sk-toggleable__label-arrow\">SimpleImputer</label><div class=\"sk-toggleable__content\"><pre>SimpleImputer(strategy=&#x27;most_frequent&#x27;)</pre></div></div></div><div class=\"sk-item\"><div class=\"sk-estimator sk-toggleable\"><input class=\"sk-toggleable__control sk-hidden--visually\" id=\"sk-estimator-id-17\" type=\"checkbox\" ><label for=\"sk-estimator-id-17\" class=\"sk-toggleable__label sk-toggleable__label-arrow\">OneHotEncoder</label><div class=\"sk-toggleable__content\"><pre>OneHotEncoder(drop=&#x27;first&#x27;, handle_unknown=&#x27;ignore&#x27;)</pre></div></div></div></div></div></div></div></div></div></div></div></div></div></div>"
      ],
      "text/plain": [
       "Pipeline(steps=[('data_processing',\n",
       "                 ColumnTransformer(transformers=[('proc_numeric',\n",
       "                                                  Pipeline(steps=[('impute_missing',\n",
       "                                                                   SimpleImputer(strategy='median')),\n",
       "                                                                  ('standardize_num',\n",
       "                                                                   StandardScaler())]),\n",
       "                                                  ['condition', 'odometer',\n",
       "                                                   'auction_value']),\n",
       "                                                 ('create_dummies',\n",
       "                                                  Pipeline(steps=[('impute_missing_cats',\n",
       "                                                                   SimpleImputer(strategy='most_frequent')),\n",
       "                                                                  ('create_dummies_cats',\n",
       "                                                                   OneHotEncoder(drop='first',\n",
       "                                                                                 handle_unknown='ignore'))]),\n",
       "                                                  ['make', 'transmission',\n",
       "                                                   'state'])]))])"
      ]
     },
     "execution_count": 17,
     "metadata": {},
     "output_type": "execute_result"
    }
   ],
   "source": [
    "data_processing_pipeline = Pipeline(steps=[\n",
    "    ('data_processing', processing_pipeline)\n",
    "])\n",
    "\n",
    "data_processing_pipeline"
   ]
  },
  {
   "cell_type": "markdown",
   "metadata": {},
   "source": [
    "**The above code is used for preprocessing the data combining both the numerical and categorical features.**"
   ]
  },
  {
   "cell_type": "markdown",
   "metadata": {},
   "source": [
    "**The below code is used to fit transform the processing pipeline to the training dataset.**"
   ]
  },
  {
   "cell_type": "code",
   "execution_count": 18,
   "metadata": {},
   "outputs": [
    {
     "data": {
      "text/plain": [
       "<7244x44 sparse matrix of type '<class 'numpy.float64'>'\n",
       "\twith 35945 stored elements in Compressed Sparse Row format>"
      ]
     },
     "execution_count": 18,
     "metadata": {},
     "output_type": "execute_result"
    }
   ],
   "source": [
    "data_transformed = data_processing_pipeline.fit_transform(X_train)\n",
    "data_transformed"
   ]
  },
  {
   "cell_type": "code",
   "execution_count": 19,
   "metadata": {},
   "outputs": [
    {
     "data": {
      "text/plain": [
       "dtype('float64')"
      ]
     },
     "execution_count": 19,
     "metadata": {},
     "output_type": "execute_result"
    }
   ],
   "source": [
    "data_transformed.dtype # get the data type of transformed data"
   ]
  },
  {
   "cell_type": "code",
   "execution_count": 20,
   "metadata": {},
   "outputs": [
    {
     "name": "stdout",
     "output_type": "stream",
     "text": [
      "(7244, 44)\n"
     ]
    }
   ],
   "source": [
    "data_transformed_array = data_transformed.toarray() # the transformed data is converted to array\n",
    "\n",
    "df_transformed = pd.DataFrame(data_transformed_array) # the above array is converted into dataframe \n",
    "\n",
    "print(df_transformed.shape) # print the shape of the transformed dataframe"
   ]
  },
  {
   "cell_type": "code",
   "execution_count": 21,
   "metadata": {},
   "outputs": [
    {
     "name": "stdout",
     "output_type": "stream",
     "text": [
      "0     float64\n",
      "1     float64\n",
      "2     float64\n",
      "3     float64\n",
      "4     float64\n",
      "5     float64\n",
      "6     float64\n",
      "7     float64\n",
      "8     float64\n",
      "9     float64\n",
      "10    float64\n",
      "11    float64\n",
      "12    float64\n",
      "13    float64\n",
      "14    float64\n",
      "15    float64\n",
      "16    float64\n",
      "17    float64\n",
      "18    float64\n",
      "19    float64\n",
      "20    float64\n",
      "21    float64\n",
      "22    float64\n",
      "23    float64\n",
      "24    float64\n",
      "25    float64\n",
      "26    float64\n",
      "27    float64\n",
      "28    float64\n",
      "29    float64\n",
      "30    float64\n",
      "31    float64\n",
      "32    float64\n",
      "33    float64\n",
      "34    float64\n",
      "35    float64\n",
      "36    float64\n",
      "37    float64\n",
      "38    float64\n",
      "39    float64\n",
      "40    float64\n",
      "41    float64\n",
      "42    float64\n",
      "43    float64\n",
      "dtype: object\n"
     ]
    }
   ],
   "source": [
    "print(df_transformed.dtypes) # print the data types of the transformed data"
   ]
  },
  {
   "cell_type": "code",
   "execution_count": 22,
   "metadata": {},
   "outputs": [
    {
     "name": "stdout",
     "output_type": "stream",
     "text": [
      "0     0\n",
      "1     0\n",
      "2     0\n",
      "3     0\n",
      "4     0\n",
      "5     0\n",
      "6     0\n",
      "7     0\n",
      "8     0\n",
      "9     0\n",
      "10    0\n",
      "11    0\n",
      "12    0\n",
      "13    0\n",
      "14    0\n",
      "15    0\n",
      "16    0\n",
      "17    0\n",
      "18    0\n",
      "19    0\n",
      "20    0\n",
      "21    0\n",
      "22    0\n",
      "23    0\n",
      "24    0\n",
      "25    0\n",
      "26    0\n",
      "27    0\n",
      "28    0\n",
      "29    0\n",
      "30    0\n",
      "31    0\n",
      "32    0\n",
      "33    0\n",
      "34    0\n",
      "35    0\n",
      "36    0\n",
      "37    0\n",
      "38    0\n",
      "39    0\n",
      "40    0\n",
      "41    0\n",
      "42    0\n",
      "43    0\n",
      "dtype: int64\n"
     ]
    }
   ],
   "source": [
    "print(df_transformed.isnull().sum()) # get the sum of missing values of all the features"
   ]
  },
  {
   "cell_type": "markdown",
   "metadata": {},
   "source": [
    "**From the above code, I can say that there are no missing values in the transformed data.**"
   ]
  },
  {
   "cell_type": "code",
   "execution_count": 23,
   "metadata": {
    "scrolled": false
   },
   "outputs": [
    {
     "name": "stdout",
     "output_type": "stream",
     "text": [
      "<class 'pandas.core.frame.DataFrame'>\n",
      "RangeIndex: 7244 entries, 0 to 7243\n",
      "Data columns (total 44 columns):\n",
      " #   Column  Non-Null Count  Dtype  \n",
      "---  ------  --------------  -----  \n",
      " 0   0       7244 non-null   float64\n",
      " 1   1       7244 non-null   float64\n",
      " 2   2       7244 non-null   float64\n",
      " 3   3       7244 non-null   float64\n",
      " 4   4       7244 non-null   float64\n",
      " 5   5       7244 non-null   float64\n",
      " 6   6       7244 non-null   float64\n",
      " 7   7       7244 non-null   float64\n",
      " 8   8       7244 non-null   float64\n",
      " 9   9       7244 non-null   float64\n",
      " 10  10      7244 non-null   float64\n",
      " 11  11      7244 non-null   float64\n",
      " 12  12      7244 non-null   float64\n",
      " 13  13      7244 non-null   float64\n",
      " 14  14      7244 non-null   float64\n",
      " 15  15      7244 non-null   float64\n",
      " 16  16      7244 non-null   float64\n",
      " 17  17      7244 non-null   float64\n",
      " 18  18      7244 non-null   float64\n",
      " 19  19      7244 non-null   float64\n",
      " 20  20      7244 non-null   float64\n",
      " 21  21      7244 non-null   float64\n",
      " 22  22      7244 non-null   float64\n",
      " 23  23      7244 non-null   float64\n",
      " 24  24      7244 non-null   float64\n",
      " 25  25      7244 non-null   float64\n",
      " 26  26      7244 non-null   float64\n",
      " 27  27      7244 non-null   float64\n",
      " 28  28      7244 non-null   float64\n",
      " 29  29      7244 non-null   float64\n",
      " 30  30      7244 non-null   float64\n",
      " 31  31      7244 non-null   float64\n",
      " 32  32      7244 non-null   float64\n",
      " 33  33      7244 non-null   float64\n",
      " 34  34      7244 non-null   float64\n",
      " 35  35      7244 non-null   float64\n",
      " 36  36      7244 non-null   float64\n",
      " 37  37      7244 non-null   float64\n",
      " 38  38      7244 non-null   float64\n",
      " 39  39      7244 non-null   float64\n",
      " 40  40      7244 non-null   float64\n",
      " 41  41      7244 non-null   float64\n",
      " 42  42      7244 non-null   float64\n",
      " 43  43      7244 non-null   float64\n",
      "dtypes: float64(44)\n",
      "memory usage: 2.4 MB\n"
     ]
    }
   ],
   "source": [
    "df_transformed.info()"
   ]
  },
  {
   "cell_type": "markdown",
   "metadata": {},
   "source": [
    "## Question 5: Add a linear regression model to the pipeline.\n",
    "- Report what the $R^2$ is using the `test` data.  "
   ]
  },
  {
   "cell_type": "markdown",
   "metadata": {},
   "source": [
    "**The below code is to add the linear regression model to the pipeline.**"
   ]
  },
  {
   "cell_type": "code",
   "execution_count": 24,
   "metadata": {},
   "outputs": [
    {
     "data": {
      "text/html": [
       "<style>#sk-container-id-4 {color: black;background-color: white;}#sk-container-id-4 pre{padding: 0;}#sk-container-id-4 div.sk-toggleable {background-color: white;}#sk-container-id-4 label.sk-toggleable__label {cursor: pointer;display: block;width: 100%;margin-bottom: 0;padding: 0.3em;box-sizing: border-box;text-align: center;}#sk-container-id-4 label.sk-toggleable__label-arrow:before {content: \"▸\";float: left;margin-right: 0.25em;color: #696969;}#sk-container-id-4 label.sk-toggleable__label-arrow:hover:before {color: black;}#sk-container-id-4 div.sk-estimator:hover label.sk-toggleable__label-arrow:before {color: black;}#sk-container-id-4 div.sk-toggleable__content {max-height: 0;max-width: 0;overflow: hidden;text-align: left;background-color: #f0f8ff;}#sk-container-id-4 div.sk-toggleable__content pre {margin: 0.2em;color: black;border-radius: 0.25em;background-color: #f0f8ff;}#sk-container-id-4 input.sk-toggleable__control:checked~div.sk-toggleable__content {max-height: 200px;max-width: 100%;overflow: auto;}#sk-container-id-4 input.sk-toggleable__control:checked~label.sk-toggleable__label-arrow:before {content: \"▾\";}#sk-container-id-4 div.sk-estimator input.sk-toggleable__control:checked~label.sk-toggleable__label {background-color: #d4ebff;}#sk-container-id-4 div.sk-label input.sk-toggleable__control:checked~label.sk-toggleable__label {background-color: #d4ebff;}#sk-container-id-4 input.sk-hidden--visually {border: 0;clip: rect(1px 1px 1px 1px);clip: rect(1px, 1px, 1px, 1px);height: 1px;margin: -1px;overflow: hidden;padding: 0;position: absolute;width: 1px;}#sk-container-id-4 div.sk-estimator {font-family: monospace;background-color: #f0f8ff;border: 1px dotted black;border-radius: 0.25em;box-sizing: border-box;margin-bottom: 0.5em;}#sk-container-id-4 div.sk-estimator:hover {background-color: #d4ebff;}#sk-container-id-4 div.sk-parallel-item::after {content: \"\";width: 100%;border-bottom: 1px solid gray;flex-grow: 1;}#sk-container-id-4 div.sk-label:hover label.sk-toggleable__label {background-color: #d4ebff;}#sk-container-id-4 div.sk-serial::before {content: \"\";position: absolute;border-left: 1px solid gray;box-sizing: border-box;top: 0;bottom: 0;left: 50%;z-index: 0;}#sk-container-id-4 div.sk-serial {display: flex;flex-direction: column;align-items: center;background-color: white;padding-right: 0.2em;padding-left: 0.2em;position: relative;}#sk-container-id-4 div.sk-item {position: relative;z-index: 1;}#sk-container-id-4 div.sk-parallel {display: flex;align-items: stretch;justify-content: center;background-color: white;position: relative;}#sk-container-id-4 div.sk-item::before, #sk-container-id-4 div.sk-parallel-item::before {content: \"\";position: absolute;border-left: 1px solid gray;box-sizing: border-box;top: 0;bottom: 0;left: 50%;z-index: -1;}#sk-container-id-4 div.sk-parallel-item {display: flex;flex-direction: column;z-index: 1;position: relative;background-color: white;}#sk-container-id-4 div.sk-parallel-item:first-child::after {align-self: flex-end;width: 50%;}#sk-container-id-4 div.sk-parallel-item:last-child::after {align-self: flex-start;width: 50%;}#sk-container-id-4 div.sk-parallel-item:only-child::after {width: 0;}#sk-container-id-4 div.sk-dashed-wrapped {border: 1px dashed gray;margin: 0 0.4em 0.5em 0.4em;box-sizing: border-box;padding-bottom: 0.4em;background-color: white;}#sk-container-id-4 div.sk-label label {font-family: monospace;font-weight: bold;display: inline-block;line-height: 1.2em;}#sk-container-id-4 div.sk-label-container {text-align: center;}#sk-container-id-4 div.sk-container {/* jupyter's `normalize.less` sets `[hidden] { display: none; }` but bootstrap.min.css set `[hidden] { display: none !important; }` so we also need the `!important` here to be able to override the default hidden behavior on the sphinx rendered scikit-learn.org. See: https://github.com/scikit-learn/scikit-learn/issues/21755 */display: inline-block !important;position: relative;}#sk-container-id-4 div.sk-text-repr-fallback {display: none;}</style><div id=\"sk-container-id-4\" class=\"sk-top-container\"><div class=\"sk-text-repr-fallback\"><pre>Pipeline(steps=[(&#x27;data_processing&#x27;,\n",
       "                 ColumnTransformer(transformers=[(&#x27;proc_numeric&#x27;,\n",
       "                                                  Pipeline(steps=[(&#x27;impute_missing&#x27;,\n",
       "                                                                   SimpleImputer(strategy=&#x27;median&#x27;)),\n",
       "                                                                  (&#x27;standardize_num&#x27;,\n",
       "                                                                   StandardScaler())]),\n",
       "                                                  [&#x27;condition&#x27;, &#x27;odometer&#x27;,\n",
       "                                                   &#x27;auction_value&#x27;]),\n",
       "                                                 (&#x27;create_dummies&#x27;,\n",
       "                                                  Pipeline(steps=[(&#x27;impute_missing_cats&#x27;,\n",
       "                                                                   SimpleImputer(strategy=&#x27;most_frequent&#x27;)),\n",
       "                                                                  (&#x27;create_dummies_cats&#x27;,\n",
       "                                                                   OneHotEncoder(drop=&#x27;first&#x27;,\n",
       "                                                                                 handle_unknown=&#x27;ignore&#x27;))]),\n",
       "                                                  [&#x27;make&#x27;, &#x27;transmission&#x27;,\n",
       "                                                   &#x27;state&#x27;])])),\n",
       "                (&#x27;lm&#x27;, LinearRegression())])</pre><b>In a Jupyter environment, please rerun this cell to show the HTML representation or trust the notebook. <br />On GitHub, the HTML representation is unable to render, please try loading this page with nbviewer.org.</b></div><div class=\"sk-container\" hidden><div class=\"sk-item sk-dashed-wrapped\"><div class=\"sk-label-container\"><div class=\"sk-label sk-toggleable\"><input class=\"sk-toggleable__control sk-hidden--visually\" id=\"sk-estimator-id-18\" type=\"checkbox\" ><label for=\"sk-estimator-id-18\" class=\"sk-toggleable__label sk-toggleable__label-arrow\">Pipeline</label><div class=\"sk-toggleable__content\"><pre>Pipeline(steps=[(&#x27;data_processing&#x27;,\n",
       "                 ColumnTransformer(transformers=[(&#x27;proc_numeric&#x27;,\n",
       "                                                  Pipeline(steps=[(&#x27;impute_missing&#x27;,\n",
       "                                                                   SimpleImputer(strategy=&#x27;median&#x27;)),\n",
       "                                                                  (&#x27;standardize_num&#x27;,\n",
       "                                                                   StandardScaler())]),\n",
       "                                                  [&#x27;condition&#x27;, &#x27;odometer&#x27;,\n",
       "                                                   &#x27;auction_value&#x27;]),\n",
       "                                                 (&#x27;create_dummies&#x27;,\n",
       "                                                  Pipeline(steps=[(&#x27;impute_missing_cats&#x27;,\n",
       "                                                                   SimpleImputer(strategy=&#x27;most_frequent&#x27;)),\n",
       "                                                                  (&#x27;create_dummies_cats&#x27;,\n",
       "                                                                   OneHotEncoder(drop=&#x27;first&#x27;,\n",
       "                                                                                 handle_unknown=&#x27;ignore&#x27;))]),\n",
       "                                                  [&#x27;make&#x27;, &#x27;transmission&#x27;,\n",
       "                                                   &#x27;state&#x27;])])),\n",
       "                (&#x27;lm&#x27;, LinearRegression())])</pre></div></div></div><div class=\"sk-serial\"><div class=\"sk-item sk-dashed-wrapped\"><div class=\"sk-label-container\"><div class=\"sk-label sk-toggleable\"><input class=\"sk-toggleable__control sk-hidden--visually\" id=\"sk-estimator-id-19\" type=\"checkbox\" ><label for=\"sk-estimator-id-19\" class=\"sk-toggleable__label sk-toggleable__label-arrow\">data_processing: ColumnTransformer</label><div class=\"sk-toggleable__content\"><pre>ColumnTransformer(transformers=[(&#x27;proc_numeric&#x27;,\n",
       "                                 Pipeline(steps=[(&#x27;impute_missing&#x27;,\n",
       "                                                  SimpleImputer(strategy=&#x27;median&#x27;)),\n",
       "                                                 (&#x27;standardize_num&#x27;,\n",
       "                                                  StandardScaler())]),\n",
       "                                 [&#x27;condition&#x27;, &#x27;odometer&#x27;, &#x27;auction_value&#x27;]),\n",
       "                                (&#x27;create_dummies&#x27;,\n",
       "                                 Pipeline(steps=[(&#x27;impute_missing_cats&#x27;,\n",
       "                                                  SimpleImputer(strategy=&#x27;most_frequent&#x27;)),\n",
       "                                                 (&#x27;create_dummies_cats&#x27;,\n",
       "                                                  OneHotEncoder(drop=&#x27;first&#x27;,\n",
       "                                                                handle_unknown=&#x27;ignore&#x27;))]),\n",
       "                                 [&#x27;make&#x27;, &#x27;transmission&#x27;, &#x27;state&#x27;])])</pre></div></div></div><div class=\"sk-parallel\"><div class=\"sk-parallel-item\"><div class=\"sk-item\"><div class=\"sk-label-container\"><div class=\"sk-label sk-toggleable\"><input class=\"sk-toggleable__control sk-hidden--visually\" id=\"sk-estimator-id-20\" type=\"checkbox\" ><label for=\"sk-estimator-id-20\" class=\"sk-toggleable__label sk-toggleable__label-arrow\">proc_numeric</label><div class=\"sk-toggleable__content\"><pre>[&#x27;condition&#x27;, &#x27;odometer&#x27;, &#x27;auction_value&#x27;]</pre></div></div></div><div class=\"sk-serial\"><div class=\"sk-item\"><div class=\"sk-serial\"><div class=\"sk-item\"><div class=\"sk-estimator sk-toggleable\"><input class=\"sk-toggleable__control sk-hidden--visually\" id=\"sk-estimator-id-21\" type=\"checkbox\" ><label for=\"sk-estimator-id-21\" class=\"sk-toggleable__label sk-toggleable__label-arrow\">SimpleImputer</label><div class=\"sk-toggleable__content\"><pre>SimpleImputer(strategy=&#x27;median&#x27;)</pre></div></div></div><div class=\"sk-item\"><div class=\"sk-estimator sk-toggleable\"><input class=\"sk-toggleable__control sk-hidden--visually\" id=\"sk-estimator-id-22\" type=\"checkbox\" ><label for=\"sk-estimator-id-22\" class=\"sk-toggleable__label sk-toggleable__label-arrow\">StandardScaler</label><div class=\"sk-toggleable__content\"><pre>StandardScaler()</pre></div></div></div></div></div></div></div></div><div class=\"sk-parallel-item\"><div class=\"sk-item\"><div class=\"sk-label-container\"><div class=\"sk-label sk-toggleable\"><input class=\"sk-toggleable__control sk-hidden--visually\" id=\"sk-estimator-id-23\" type=\"checkbox\" ><label for=\"sk-estimator-id-23\" class=\"sk-toggleable__label sk-toggleable__label-arrow\">create_dummies</label><div class=\"sk-toggleable__content\"><pre>[&#x27;make&#x27;, &#x27;transmission&#x27;, &#x27;state&#x27;]</pre></div></div></div><div class=\"sk-serial\"><div class=\"sk-item\"><div class=\"sk-serial\"><div class=\"sk-item\"><div class=\"sk-estimator sk-toggleable\"><input class=\"sk-toggleable__control sk-hidden--visually\" id=\"sk-estimator-id-24\" type=\"checkbox\" ><label for=\"sk-estimator-id-24\" class=\"sk-toggleable__label sk-toggleable__label-arrow\">SimpleImputer</label><div class=\"sk-toggleable__content\"><pre>SimpleImputer(strategy=&#x27;most_frequent&#x27;)</pre></div></div></div><div class=\"sk-item\"><div class=\"sk-estimator sk-toggleable\"><input class=\"sk-toggleable__control sk-hidden--visually\" id=\"sk-estimator-id-25\" type=\"checkbox\" ><label for=\"sk-estimator-id-25\" class=\"sk-toggleable__label sk-toggleable__label-arrow\">OneHotEncoder</label><div class=\"sk-toggleable__content\"><pre>OneHotEncoder(drop=&#x27;first&#x27;, handle_unknown=&#x27;ignore&#x27;)</pre></div></div></div></div></div></div></div></div></div></div><div class=\"sk-item\"><div class=\"sk-estimator sk-toggleable\"><input class=\"sk-toggleable__control sk-hidden--visually\" id=\"sk-estimator-id-26\" type=\"checkbox\" ><label for=\"sk-estimator-id-26\" class=\"sk-toggleable__label sk-toggleable__label-arrow\">LinearRegression</label><div class=\"sk-toggleable__content\"><pre>LinearRegression()</pre></div></div></div></div></div></div></div>"
      ],
      "text/plain": [
       "Pipeline(steps=[('data_processing',\n",
       "                 ColumnTransformer(transformers=[('proc_numeric',\n",
       "                                                  Pipeline(steps=[('impute_missing',\n",
       "                                                                   SimpleImputer(strategy='median')),\n",
       "                                                                  ('standardize_num',\n",
       "                                                                   StandardScaler())]),\n",
       "                                                  ['condition', 'odometer',\n",
       "                                                   'auction_value']),\n",
       "                                                 ('create_dummies',\n",
       "                                                  Pipeline(steps=[('impute_missing_cats',\n",
       "                                                                   SimpleImputer(strategy='most_frequent')),\n",
       "                                                                  ('create_dummies_cats',\n",
       "                                                                   OneHotEncoder(drop='first',\n",
       "                                                                                 handle_unknown='ignore'))]),\n",
       "                                                  ['make', 'transmission',\n",
       "                                                   'state'])])),\n",
       "                ('lm', LinearRegression())])"
      ]
     },
     "execution_count": 24,
     "metadata": {},
     "output_type": "execute_result"
    }
   ],
   "source": [
    "from sklearn.linear_model import LinearRegression\n",
    "\n",
    "modeling_pipeline = Pipeline([('data_processing', processing_pipeline), \n",
    "                              ('lm', LinearRegression())\n",
    "                             ])\n",
    "modeling_pipeline.fit(X_train, y_train) # fit the training dataset for pipeline model"
   ]
  },
  {
   "cell_type": "code",
   "execution_count": 25,
   "metadata": {},
   "outputs": [],
   "source": [
    "selling_price_predictions = modeling_pipeline.predict(X_test) # predict the selling price"
   ]
  },
  {
   "cell_type": "markdown",
   "metadata": {},
   "source": [
    "**The below code is used to find the mean_squared_error for the actual test data and predicted data.**"
   ]
  },
  {
   "cell_type": "code",
   "execution_count": 26,
   "metadata": {},
   "outputs": [
    {
     "data": {
      "text/plain": [
       "6998122.101547145"
      ]
     },
     "execution_count": 26,
     "metadata": {},
     "output_type": "execute_result"
    }
   ],
   "source": [
    "from sklearn.metrics import mean_squared_error\n",
    "mse = mean_squared_error(y_test, selling_price_predictions)\n",
    "mse"
   ]
  },
  {
   "cell_type": "markdown",
   "metadata": {},
   "source": [
    "**The below code is used to find the root_mean_squared_error which is the sqaure root of mean_squared_error.**"
   ]
  },
  {
   "cell_type": "code",
   "execution_count": 27,
   "metadata": {},
   "outputs": [
    {
     "data": {
      "text/plain": [
       "2645.396397810193"
      ]
     },
     "execution_count": 27,
     "metadata": {},
     "output_type": "execute_result"
    }
   ],
   "source": [
    "import numpy as np\n",
    "rmse = np.sqrt(mse)\n",
    "rmse"
   ]
  },
  {
   "cell_type": "markdown",
   "metadata": {},
   "source": [
    "**The below code is used to find the R-squared for the actual test data and predicted data.**"
   ]
  },
  {
   "cell_type": "code",
   "execution_count": 28,
   "metadata": {},
   "outputs": [
    {
     "data": {
      "text/plain": [
       "0.8838274412917084"
      ]
     },
     "execution_count": 28,
     "metadata": {},
     "output_type": "execute_result"
    }
   ],
   "source": [
    "from sklearn.metrics import r2_score\n",
    "r2 = r2_score(y_test, selling_price_predictions)\n",
    "r2"
   ]
  },
  {
   "cell_type": "markdown",
   "metadata": {},
   "source": [
    "**From the above code, I can say that this model has an accuracy of 88 percent which can be considered as a good fit.**"
   ]
  },
  {
   "cell_type": "code",
   "execution_count": null,
   "metadata": {},
   "outputs": [],
   "source": []
  },
  {
   "cell_type": "markdown",
   "metadata": {},
   "source": [
    "## Question 6: Create a plot(s) of the residuals. Do you have any concerns about patterns in the residuals that the model is neglecting to pick-up?\n",
    "- Include a sentence or two on what you observe."
   ]
  },
  {
   "cell_type": "code",
   "execution_count": 29,
   "metadata": {},
   "outputs": [
    {
     "data": {
      "image/png": "[encoded data removed]",
      "text/plain": [
       "<Figure size 432x288 with 1 Axes>"
      ]
     },
     "metadata": {
      "needs_background": "light"
     },
     "output_type": "display_data"
    }
   ],
   "source": [
    "# insert code here\n",
    "\n",
    "# The below code is used to plot between actual and predicted values\n",
    "import matplotlib.pyplot as plt\n",
    "plt.plot(y_test, selling_price_predictions, 'ro')\n",
    "plt.xlabel('Actual')\n",
    "plt.ylabel('Predicted')\n",
    "plt.show()"
   ]
  },
  {
   "cell_type": "code",
   "execution_count": 30,
   "metadata": {
    "scrolled": true
   },
   "outputs": [
    {
     "data": {
      "image/png": "[encoded data removed]",
      "text/plain": [
       "<Figure size 432x288 with 1 Axes>"
      ]
     },
     "metadata": {
      "needs_background": "light"
     },
     "output_type": "display_data"
    }
   ],
   "source": [
    "# The below code is used to plot the residuals\n",
    "plt.plot(selling_price_predictions, selling_price_predictions - y_test, 'ro')\n",
    "plt.ylabel('Residual')\n",
    "plt.xlabel('Predicted')\n",
    "plt.show()"
   ]
  },
  {
   "cell_type": "markdown",
   "metadata": {},
   "source": [
    "Insert description here."
   ]
  },
  {
   "cell_type": "markdown",
   "metadata": {},
   "source": [
    "- The above model can be determined as a perfect model when the residuals would be 0 for all values.  \n",
    "- Some of the information is not picked by the residuals, it can be a feature which we may have no access, and it may be noise (meaningless data) in the data."
   ]
  },
  {
   "cell_type": "markdown",
   "metadata": {},
   "source": [
    "## Question 7: Modify the pipeline to use a ridge regression model with an alpha value of 100. How does this change the $R^2$?"
   ]
  },
  {
   "cell_type": "markdown",
   "metadata": {},
   "source": [
    "**The below code implements the ridge regression model with an alpha value of 100.**"
   ]
  },
  {
   "cell_type": "code",
   "execution_count": 31,
   "metadata": {},
   "outputs": [
    {
     "data": {
      "text/plain": [
       "array([ 9.02786677e+02, -2.25028852e+02,  6.85997275e+03, -3.29171110e+02,\n",
       "       -4.28890863e+02, -3.36314025e+02, -3.07566832e+02, -2.36888763e+02,\n",
       "       -7.96923058e+02, -9.61136367e+02, -6.89133823e+02, -2.15603550e+02,\n",
       "       -3.02558470e+02,  3.55083770e+02,  3.95839103e+02,  1.78575018e+01,\n",
       "        8.80105155e+01, -8.38199050e+01,  1.23308740e+02, -3.15859949e+02,\n",
       "        7.39305590e+00, -2.42430931e+02, -3.75025022e+02,  1.27260823e+02,\n",
       "       -7.68705408e+01,  3.90364689e+02,  1.34460352e+02, -1.57903684e+02,\n",
       "        1.30759942e+02, -6.21722897e+01, -5.10951048e+00,  3.05570447e+02,\n",
       "       -3.22288264e+02, -1.32482404e+02, -8.83878928e+01, -1.10312101e+02,\n",
       "       -4.20455432e+02, -1.73303315e+02,  3.06242057e+02,  1.47493945e+02,\n",
       "       -6.03854342e+01, -1.11112938e+02,  1.42735184e+01,  9.45228992e+01])"
      ]
     },
     "execution_count": 31,
     "metadata": {},
     "output_type": "execute_result"
    }
   ],
   "source": [
    "from sklearn.linear_model import Ridge\n",
    "\n",
    "modeling_pipeline_ridge = Pipeline([('data_processing', processing_pipeline), ('ridge', Ridge(alpha=100))])\n",
    "modeling_pipeline_ridge.fit(X_train, y_train) # fit the training dataset\n",
    "modeling_pipeline_ridge['ridge'].coef_ # ridge regression coefficients"
   ]
  },
  {
   "cell_type": "code",
   "execution_count": 32,
   "metadata": {},
   "outputs": [
    {
     "data": {
      "text/plain": [
       "array([  887.27576825,  -225.88035222,  6817.22034435, -2031.21320804,\n",
       "       -2258.08086443, -2066.5171836 , -1977.60505844, -1939.85918185,\n",
       "       -2645.77635028, -2881.12970838, -2439.73349705, -1881.48899592,\n",
       "        -550.68503187,   154.6563302 ,   720.37924956,  -110.31939002,\n",
       "         -31.25678524,  -823.6350036 ,    83.03883838,  -804.38607562,\n",
       "         -31.26300376,  -920.26226766,  -849.52479318,   109.44637755,\n",
       "        -191.16096484,   441.92452207,   575.46185069,  -341.51288343,\n",
       "         257.63433427,  -274.74451994,  -546.95092904,   301.03273065,\n",
       "        -816.96424368,  -403.11084964,  -793.08276483,  -231.64913934,\n",
       "       -1843.22789155,  -629.6019474 ,   347.37964313,    91.24066628,\n",
       "        -454.03516013,  -295.42181856,  -100.24198962,   -27.36533866])"
      ]
     },
     "execution_count": 32,
     "metadata": {},
     "output_type": "execute_result"
    }
   ],
   "source": [
    "modeling_pipeline['lm'].coef_ # linear regression model coefficients"
   ]
  },
  {
   "cell_type": "code",
   "execution_count": 33,
   "metadata": {},
   "outputs": [],
   "source": [
    "selling_price_predictions_ridge = modeling_pipeline_ridge.predict(X_test) # predict the selling price"
   ]
  },
  {
   "cell_type": "code",
   "execution_count": 34,
   "metadata": {},
   "outputs": [
    {
     "data": {
      "text/plain": [
       "0.8825299600422705"
      ]
     },
     "execution_count": 34,
     "metadata": {},
     "output_type": "execute_result"
    }
   ],
   "source": [
    "from sklearn.metrics import r2_score\n",
    "r2 = r2_score(y_test, selling_price_predictions_ridge)\n",
    "r2"
   ]
  },
  {
   "cell_type": "markdown",
   "metadata": {},
   "source": [
    "### Now to evaluate different  𝜆 values"
   ]
  },
  {
   "cell_type": "markdown",
   "metadata": {},
   "source": [
    "**We need to evaluate a gradient of $\\lambda$ values to determine the best one to use.**"
   ]
  },
  {
   "cell_type": "markdown",
   "metadata": {},
   "source": [
    "**The below code is used to process the pipeline, fit the training dataset, training and testing score.**"
   ]
  },
  {
   "cell_type": "code",
   "execution_count": 35,
   "metadata": {},
   "outputs": [
    {
     "name": "stdout",
     "output_type": "stream",
     "text": [
      "Done\n"
     ]
    }
   ],
   "source": [
    "from collections import defaultdict\n",
    "alphas = [0, 1, 2, 5, 10, 50, 55, 60,70,80]\n",
    "\n",
    "ridge_results = defaultdict(dict)\n",
    "\n",
    "for alph in alphas:\n",
    "    modeling_pipeline_ridge = Pipeline([('data_processing', processing_pipeline), ('ridge', Ridge(alpha=alph))])\n",
    "    modeling_pipeline_ridge.fit(X_train, y_train)\n",
    "    ridge_results['coefficients'][alph] = modeling_pipeline_ridge['ridge'].coef_\n",
    "    ridge_results['training score'][alph] = modeling_pipeline_ridge.score(X_train, y_train)\n",
    "    ridge_results['test score'][alph] = modeling_pipeline_ridge.score(X_test, y_test)\n",
    "\n",
    "print('Done')"
   ]
  },
  {
   "cell_type": "markdown",
   "metadata": {},
   "source": [
    "**The below code is used to plot the alpha and coefficient amount**"
   ]
  },
  {
   "cell_type": "code",
   "execution_count": 36,
   "metadata": {},
   "outputs": [
    {
     "data": {
      "image/png": "[encoded data removed]",
      "text/plain": [
       "<Figure size 576x288 with 1 Axes>"
      ]
     },
     "metadata": {
      "needs_background": "light"
     },
     "output_type": "display_data"
    }
   ],
   "source": [
    "coefficients_ridge = pd.DataFrame.from_dict(ridge_results['coefficients'])\n",
    "coefficients_ridge = coefficients_ridge.reset_index()\n",
    "coefficients_ridge = coefficients_ridge.rename(columns={'index':'coefficient_nbr'})\n",
    "coefficients_ridge = coefficients_ridge.melt(id_vars='coefficient_nbr', var_name='alpha', value_name='coefficient')\n",
    "\n",
    "(\n",
    "coefficients_ridge.pivot_table(index='alpha', columns='coefficient_nbr', values='coefficient')\n",
    "    .plot(figsize=(8,4),legend=False)\n",
    ")\n",
    "\n",
    "plt.title('Ridge Coefficients', loc='left')\n",
    "plt.xlabel('Alpha (Regularization Amount)')\n",
    "plt.ylabel('Coefficient')\n",
    "plt.show()"
   ]
  },
  {
   "cell_type": "markdown",
   "metadata": {},
   "source": [
    "### Changes in $R^2$"
   ]
  },
  {
   "cell_type": "code",
   "execution_count": 37,
   "metadata": {},
   "outputs": [
    {
     "data": {
      "image/png": "[encoded data removed]",
      "text/plain": [
       "<Figure size 432x288 with 1 Axes>"
      ]
     },
     "metadata": {
      "needs_background": "light"
     },
     "output_type": "display_data"
    }
   ],
   "source": [
    "ridge_training_r2 = pd.Series(ridge_results['training score'])\n",
    "ridge_test_r2 = pd.Series(ridge_results['test score'])\n",
    "\n",
    "ridge_training_r2.plot()\n",
    "ridge_test_r2.plot()\n",
    "plt.title('$R^2$ for Ridge Regression')\n",
    "plt.legend(['Training','Test'])\n",
    "plt.xlabel('Alpha (Regularization Level)')\n",
    "plt.ylabel('Percent of Variance Explained')\n",
    "plt.ylim(0.4, 1)\n",
    "plt.show()"
   ]
  },
  {
   "cell_type": "markdown",
   "metadata": {},
   "source": [
    "**The above code is used to plot the changes in $R^2$, alpha and percent of variance. By looking at the training and test lines, test line is above the training line which determines model is not overfitting and it is taking into care of the underlying relationships effectively. I can say that this can be the suitable model for this data.**"
   ]
  },
  {
   "cell_type": "code",
   "execution_count": null,
   "metadata": {},
   "outputs": [],
   "source": []
  }
 ],
 "metadata": {
  "kernelspec": {
   "display_name": "Python 3",
   "language": "python",
   "name": "python3"
  },
  "language_info": {
   "codemirror_mode": {
    "name": "ipython",
    "version": 3
   },
   "file_extension": ".py",
   "mimetype": "text/x-python",
   "name": "python",
   "nbconvert_exporter": "python",
   "pygments_lexer": "ipython3",
   "version": "3.8.8"
  },
  "toc": {
   "base_numbering": 1,
   "nav_menu": {},
   "number_sections": true,
   "sideBar": true,
   "skip_h1_title": false,
   "title_cell": "Table of Contents",
   "title_sidebar": "Contents",
   "toc_cell": false,
   "toc_position": {},
   "toc_section_display": true,
   "toc_window_display": false
  }
 },
 "nbformat": 4,
 "nbformat_minor": 4
}
