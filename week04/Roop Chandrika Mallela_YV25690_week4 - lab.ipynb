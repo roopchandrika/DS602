{
 "cells": [
  {
   "cell_type": "markdown",
   "id": "318de7cb",
   "metadata": {},
   "source": [
    "# Week4 - Lab\n",
    "\n",
    "Take a look at these toy datasets. Perform the following operations\n",
    "* Train-test split\n",
    "* Train a linear regression model\n",
    "* Evaluate/create residual plots\n",
    "* Explain findings"
   ]
  },
  {
   "cell_type": "markdown",
   "id": "42e0de73",
   "metadata": {},
   "source": [
    "### Implementing the above operations on first data"
   ]
  },
  {
   "cell_type": "code",
   "execution_count": 1,
   "id": "4089dbd4",
   "metadata": {},
   "outputs": [],
   "source": [
    "import pandas as pd\n",
    "import numpy as np\n",
    "import matplotlib.pyplot as plt\n",
    "import random\n",
    "\n",
    "data1 = pd.read_csv('https://raw.githubusercontent.com/msaricaumbc/DS_data/master/ds602/regression/lab4_1.csv', index_col=0)\n",
    "#data2 = pd.read_csv('https://raw.githubusercontent.com/msaricaumbc/DS_data/master/ds602/regression/lab4_2.csv', index_col=0)"
   ]
  },
  {
   "cell_type": "markdown",
   "id": "ba26d799",
   "metadata": {},
   "source": [
    "### viewing the head of the dataset"
   ]
  },
  {
   "cell_type": "code",
   "execution_count": 2,
   "id": "f7cda82e",
   "metadata": {},
   "outputs": [
    {
     "data": {
      "text/html": [
       "<div>\n",
       "<style scoped>\n",
       "    .dataframe tbody tr th:only-of-type {\n",
       "        vertical-align: middle;\n",
       "    }\n",
       "\n",
       "    .dataframe tbody tr th {\n",
       "        vertical-align: top;\n",
       "    }\n",
       "\n",
       "    .dataframe thead th {\n",
       "        text-align: right;\n",
       "    }\n",
       "</style>\n",
       "<table border=\"1\" class=\"dataframe\">\n",
       "  <thead>\n",
       "    <tr style=\"text-align: right;\">\n",
       "      <th></th>\n",
       "      <th>X</th>\n",
       "      <th>y</th>\n",
       "    </tr>\n",
       "  </thead>\n",
       "  <tbody>\n",
       "    <tr>\n",
       "      <th>0</th>\n",
       "      <td>50</td>\n",
       "      <td>147</td>\n",
       "    </tr>\n",
       "    <tr>\n",
       "      <th>1</th>\n",
       "      <td>82</td>\n",
       "      <td>246</td>\n",
       "    </tr>\n",
       "    <tr>\n",
       "      <th>2</th>\n",
       "      <td>66</td>\n",
       "      <td>207</td>\n",
       "    </tr>\n",
       "    <tr>\n",
       "      <th>3</th>\n",
       "      <td>35</td>\n",
       "      <td>105</td>\n",
       "    </tr>\n",
       "    <tr>\n",
       "      <th>4</th>\n",
       "      <td>81</td>\n",
       "      <td>240</td>\n",
       "    </tr>\n",
       "  </tbody>\n",
       "</table>\n",
       "</div>"
      ],
      "text/plain": [
       "    X    y\n",
       "0  50  147\n",
       "1  82  246\n",
       "2  66  207\n",
       "3  35  105\n",
       "4  81  240"
      ]
     },
     "execution_count": 2,
     "metadata": {},
     "output_type": "execute_result"
    }
   ],
   "source": [
    "data1.head()"
   ]
  },
  {
   "cell_type": "markdown",
   "id": "65ec8eda",
   "metadata": {},
   "source": [
    "### checking whether there are any missing values"
   ]
  },
  {
   "cell_type": "code",
   "execution_count": 3,
   "id": "2ad68f2a",
   "metadata": {},
   "outputs": [
    {
     "data": {
      "text/plain": [
       "X    0\n",
       "y    0\n",
       "dtype: int64"
      ]
     },
     "execution_count": 3,
     "metadata": {},
     "output_type": "execute_result"
    }
   ],
   "source": [
    "data1.isnull().sum()"
   ]
  },
  {
   "cell_type": "markdown",
   "id": "605df4b4",
   "metadata": {},
   "source": [
    "### reshaping the dependent and independent variables to make it easy to use for training the model"
   ]
  },
  {
   "cell_type": "code",
   "execution_count": 4,
   "id": "7f373d7d",
   "metadata": {},
   "outputs": [
    {
     "data": {
      "text/plain": [
       "((100, 1), (100, 1))"
      ]
     },
     "execution_count": 4,
     "metadata": {},
     "output_type": "execute_result"
    }
   ],
   "source": [
    "X = np.array(data1['X']).reshape(-1,1)\n",
    "y = np.array(data1['y']).reshape(-1,1)\n",
    "\n",
    "X.shape, y.shape"
   ]
  },
  {
   "cell_type": "markdown",
   "id": "a1d57fd4",
   "metadata": {},
   "source": [
    "### Train test split with a ratio of 80:20"
   ]
  },
  {
   "cell_type": "code",
   "execution_count": 5,
   "id": "43dbb018",
   "metadata": {},
   "outputs": [
    {
     "name": "stdout",
     "output_type": "stream",
     "text": [
      "Training samples: 80\n",
      "Test samples: 20\n"
     ]
    }
   ],
   "source": [
    "from sklearn.model_selection import train_test_split\n",
    "\n",
    "X_training, X_test, y_training, y_test = train_test_split(X, y, test_size=0.20)\n",
    "\n",
    "print(f'Training samples: {X_training.shape[0]:,}')\n",
    "print(f'Test samples: {X_test.shape[0]:,}')\n"
   ]
  },
  {
   "cell_type": "markdown",
   "id": "2036f6a9",
   "metadata": {},
   "source": [
    "### Using simple model for training the dataset"
   ]
  },
  {
   "cell_type": "code",
   "execution_count": 6,
   "id": "bbe22c71",
   "metadata": {},
   "outputs": [
    {
     "name": "stdout",
     "output_type": "stream",
     "text": [
      "                                 OLS Regression Results                                \n",
      "=======================================================================================\n",
      "Dep. Variable:                      y   R-squared (uncentered):                   0.997\n",
      "Model:                            OLS   Adj. R-squared (uncentered):              0.997\n",
      "Method:                 Least Squares   F-statistic:                          3.047e+04\n",
      "Date:                Tue, 26 Sep 2023   Prob (F-statistic):                   5.66e-104\n",
      "Time:                        22:27:23   Log-Likelihood:                         -193.87\n",
      "No. Observations:                  80   AIC:                                      389.7\n",
      "Df Residuals:                      79   BIC:                                      392.1\n",
      "Df Model:                           1                                                  \n",
      "Covariance Type:            nonrobust                                                  \n",
      "==============================================================================\n",
      "                 coef    std err          t      P>|t|      [0.025      0.975]\n",
      "------------------------------------------------------------------------------\n",
      "x1             0.3363      0.002    174.547      0.000       0.332       0.340\n",
      "==============================================================================\n",
      "Omnibus:                       12.981   Durbin-Watson:                   2.064\n",
      "Prob(Omnibus):                  0.002   Jarque-Bera (JB):                4.058\n",
      "Skew:                          -0.175   Prob(JB):                        0.131\n",
      "Kurtosis:                       1.954   Cond. No.                         1.00\n",
      "==============================================================================\n",
      "\n",
      "Notes:\n",
      "[1] R² is computed without centering (uncentered) since the model does not contain a constant.\n",
      "[2] Standard Errors assume that the covariance matrix of the errors is correctly specified.\n"
     ]
    }
   ],
   "source": [
    "# Fit the training dataset into the simple model\n",
    "\n",
    "import statsmodels.api as smf\n",
    "simpleModel = smf.OLS(X_training, y_training).fit()\n",
    "print(simpleModel.summary())"
   ]
  },
  {
   "cell_type": "code",
   "execution_count": 7,
   "id": "68642bee",
   "metadata": {},
   "outputs": [
    {
     "name": "stdout",
     "output_type": "stream",
     "text": [
      "                                 OLS Regression Results                                \n",
      "=======================================================================================\n",
      "Dep. Variable:                      y   R-squared (uncentered):                   0.998\n",
      "Model:                            OLS   Adj. R-squared (uncentered):              0.998\n",
      "Method:                 Least Squares   F-statistic:                              8734.\n",
      "Date:                Tue, 26 Sep 2023   Prob (F-statistic):                    9.02e-27\n",
      "Time:                        22:27:23   Log-Likelihood:                         -47.833\n",
      "No. Observations:                  20   AIC:                                      97.67\n",
      "Df Residuals:                      19   BIC:                                      98.66\n",
      "Df Model:                           1                                                  \n",
      "Covariance Type:            nonrobust                                                  \n",
      "==============================================================================\n",
      "                 coef    std err          t      P>|t|      [0.025      0.975]\n",
      "------------------------------------------------------------------------------\n",
      "x1             0.3310      0.004     93.454      0.000       0.324       0.338\n",
      "==============================================================================\n",
      "Omnibus:                        1.092   Durbin-Watson:                   2.248\n",
      "Prob(Omnibus):                  0.579   Jarque-Bera (JB):                1.002\n",
      "Skew:                           0.399   Prob(JB):                        0.606\n",
      "Kurtosis:                       2.248   Cond. No.                         1.00\n",
      "==============================================================================\n",
      "\n",
      "Notes:\n",
      "[1] R² is computed without centering (uncentered) since the model does not contain a constant.\n",
      "[2] Standard Errors assume that the covariance matrix of the errors is correctly specified.\n"
     ]
    }
   ],
   "source": [
    "# Fit the testing dataset into the simple model\n",
    "\n",
    "import statsmodels.api as smf\n",
    "simpleModel = smf.OLS(X_test, y_test).fit()\n",
    "print(simpleModel.summary())"
   ]
  },
  {
   "cell_type": "markdown",
   "id": "9cc46ff6",
   "metadata": {},
   "source": [
    "### Predicting the y value using the simple model and also the residuals"
   ]
  },
  {
   "cell_type": "markdown",
   "id": "0cb1a256",
   "metadata": {},
   "source": [
    "**Plot actual versus predicted values**"
   ]
  },
  {
   "cell_type": "code",
   "execution_count": 8,
   "id": "72a54135",
   "metadata": {},
   "outputs": [
    {
     "data": {
      "image/png": "[encoded data removed]",
      "text/plain": [
       "<Figure size 360x360 with 1 Axes>"
      ]
     },
     "metadata": {
      "needs_background": "light"
     },
     "output_type": "display_data"
    }
   ],
   "source": [
    "yhat = simpleModel.predict(X)\n",
    "\n",
    "resid = y - yhat\n",
    "\n",
    "plt.figure(figsize=(5,5))\n",
    "plt.plot(y, yhat, 'ro')\n",
    "plt.xlabel('Actual')\n",
    "plt.ylabel('Predicted')\n",
    "plt.title('Actual vs. Predicted')\n",
    "plt.show()"
   ]
  },
  {
   "cell_type": "markdown",
   "id": "e71c487f",
   "metadata": {},
   "source": [
    "### Plot predicted versus residuals values"
   ]
  },
  {
   "cell_type": "code",
   "execution_count": 9,
   "id": "cc6a3cd8",
   "metadata": {},
   "outputs": [
    {
     "data": {
      "image/png": "[encoded data removed]",
      "text/plain": [
       "<Figure size 360x360 with 1 Axes>"
      ]
     },
     "metadata": {
      "needs_background": "light"
     },
     "output_type": "display_data"
    }
   ],
   "source": [
    "plt.figure(figsize=(5,5))\n",
    "plt.plot(yhat, resid, 'bo')\n",
    "plt.xlabel('Predicted')\n",
    "plt.ylabel('Residuals')\n",
    "plt.title('Predicted vs. Residuals')\n",
    "plt.show()"
   ]
  },
  {
   "cell_type": "markdown",
   "id": "58b2ea1b",
   "metadata": {},
   "source": [
    "### Get the r-squared score for this simple model "
   ]
  },
  {
   "cell_type": "code",
   "execution_count": 10,
   "id": "3cb457b3",
   "metadata": {},
   "outputs": [
    {
     "data": {
      "text/plain": [
       "0.9978292357027361"
      ]
     },
     "execution_count": 10,
     "metadata": {},
     "output_type": "execute_result"
    }
   ],
   "source": [
    "simpleModel.rsquared"
   ]
  },
  {
   "cell_type": "markdown",
   "id": "a2a61ad4",
   "metadata": {},
   "source": [
    "**From the above implementation of code, I can say that predicted values are very close to actual values. From the above cell, it can be found that the R-squared value is also high. By this, I can say that this is a better for this dataset.**"
   ]
  },
  {
   "cell_type": "code",
   "execution_count": null,
   "id": "c7df801d",
   "metadata": {},
   "outputs": [],
   "source": []
  },
  {
   "cell_type": "code",
   "execution_count": null,
   "id": "5e2a6b5d",
   "metadata": {},
   "outputs": [],
   "source": []
  },
  {
   "cell_type": "markdown",
   "id": "115d99a0",
   "metadata": {},
   "source": [
    "## Training data1 using linear regression model"
   ]
  },
  {
   "cell_type": "markdown",
   "id": "5cc7c300",
   "metadata": {},
   "source": [
    "**Train and test split is already done in the top cells**"
   ]
  },
  {
   "cell_type": "code",
   "execution_count": 11,
   "id": "e4456fd2",
   "metadata": {},
   "outputs": [],
   "source": [
    "from sklearn.linear_model import LinearRegression #Import the libraries for linear regression"
   ]
  },
  {
   "cell_type": "code",
   "execution_count": 12,
   "id": "ff0ecaff",
   "metadata": {},
   "outputs": [
    {
     "data": {
      "text/html": [
       "<style>#sk-container-id-1 {color: black;background-color: white;}#sk-container-id-1 pre{padding: 0;}#sk-container-id-1 div.sk-toggleable {background-color: white;}#sk-container-id-1 label.sk-toggleable__label {cursor: pointer;display: block;width: 100%;margin-bottom: 0;padding: 0.3em;box-sizing: border-box;text-align: center;}#sk-container-id-1 label.sk-toggleable__label-arrow:before {content: \"▸\";float: left;margin-right: 0.25em;color: #696969;}#sk-container-id-1 label.sk-toggleable__label-arrow:hover:before {color: black;}#sk-container-id-1 div.sk-estimator:hover label.sk-toggleable__label-arrow:before {color: black;}#sk-container-id-1 div.sk-toggleable__content {max-height: 0;max-width: 0;overflow: hidden;text-align: left;background-color: #f0f8ff;}#sk-container-id-1 div.sk-toggleable__content pre {margin: 0.2em;color: black;border-radius: 0.25em;background-color: #f0f8ff;}#sk-container-id-1 input.sk-toggleable__control:checked~div.sk-toggleable__content {max-height: 200px;max-width: 100%;overflow: auto;}#sk-container-id-1 input.sk-toggleable__control:checked~label.sk-toggleable__label-arrow:before {content: \"▾\";}#sk-container-id-1 div.sk-estimator input.sk-toggleable__control:checked~label.sk-toggleable__label {background-color: #d4ebff;}#sk-container-id-1 div.sk-label input.sk-toggleable__control:checked~label.sk-toggleable__label {background-color: #d4ebff;}#sk-container-id-1 input.sk-hidden--visually {border: 0;clip: rect(1px 1px 1px 1px);clip: rect(1px, 1px, 1px, 1px);height: 1px;margin: -1px;overflow: hidden;padding: 0;position: absolute;width: 1px;}#sk-container-id-1 div.sk-estimator {font-family: monospace;background-color: #f0f8ff;border: 1px dotted black;border-radius: 0.25em;box-sizing: border-box;margin-bottom: 0.5em;}#sk-container-id-1 div.sk-estimator:hover {background-color: #d4ebff;}#sk-container-id-1 div.sk-parallel-item::after {content: \"\";width: 100%;border-bottom: 1px solid gray;flex-grow: 1;}#sk-container-id-1 div.sk-label:hover label.sk-toggleable__label {background-color: #d4ebff;}#sk-container-id-1 div.sk-serial::before {content: \"\";position: absolute;border-left: 1px solid gray;box-sizing: border-box;top: 0;bottom: 0;left: 50%;z-index: 0;}#sk-container-id-1 div.sk-serial {display: flex;flex-direction: column;align-items: center;background-color: white;padding-right: 0.2em;padding-left: 0.2em;position: relative;}#sk-container-id-1 div.sk-item {position: relative;z-index: 1;}#sk-container-id-1 div.sk-parallel {display: flex;align-items: stretch;justify-content: center;background-color: white;position: relative;}#sk-container-id-1 div.sk-item::before, #sk-container-id-1 div.sk-parallel-item::before {content: \"\";position: absolute;border-left: 1px solid gray;box-sizing: border-box;top: 0;bottom: 0;left: 50%;z-index: -1;}#sk-container-id-1 div.sk-parallel-item {display: flex;flex-direction: column;z-index: 1;position: relative;background-color: white;}#sk-container-id-1 div.sk-parallel-item:first-child::after {align-self: flex-end;width: 50%;}#sk-container-id-1 div.sk-parallel-item:last-child::after {align-self: flex-start;width: 50%;}#sk-container-id-1 div.sk-parallel-item:only-child::after {width: 0;}#sk-container-id-1 div.sk-dashed-wrapped {border: 1px dashed gray;margin: 0 0.4em 0.5em 0.4em;box-sizing: border-box;padding-bottom: 0.4em;background-color: white;}#sk-container-id-1 div.sk-label label {font-family: monospace;font-weight: bold;display: inline-block;line-height: 1.2em;}#sk-container-id-1 div.sk-label-container {text-align: center;}#sk-container-id-1 div.sk-container {/* jupyter's `normalize.less` sets `[hidden] { display: none; }` but bootstrap.min.css set `[hidden] { display: none !important; }` so we also need the `!important` here to be able to override the default hidden behavior on the sphinx rendered scikit-learn.org. See: https://github.com/scikit-learn/scikit-learn/issues/21755 */display: inline-block !important;position: relative;}#sk-container-id-1 div.sk-text-repr-fallback {display: none;}</style><div id=\"sk-container-id-1\" class=\"sk-top-container\"><div class=\"sk-text-repr-fallback\"><pre>LinearRegression()</pre><b>In a Jupyter environment, please rerun this cell to show the HTML representation or trust the notebook. <br />On GitHub, the HTML representation is unable to render, please try loading this page with nbviewer.org.</b></div><div class=\"sk-container\" hidden><div class=\"sk-item\"><div class=\"sk-estimator sk-toggleable\"><input class=\"sk-toggleable__control sk-hidden--visually\" id=\"sk-estimator-id-1\" type=\"checkbox\" checked><label for=\"sk-estimator-id-1\" class=\"sk-toggleable__label sk-toggleable__label-arrow\">LinearRegression</label><div class=\"sk-toggleable__content\"><pre>LinearRegression()</pre></div></div></div></div></div>"
      ],
      "text/plain": [
       "LinearRegression()"
      ]
     },
     "execution_count": 12,
     "metadata": {},
     "output_type": "execute_result"
    }
   ],
   "source": [
    "# Fit the training dataset using linear regression model\n",
    "\n",
    "model = LinearRegression()\n",
    "model.fit(X_training,y_training)"
   ]
  },
  {
   "cell_type": "code",
   "execution_count": 13,
   "id": "e7e7ad28",
   "metadata": {},
   "outputs": [],
   "source": [
    "# Predict the y value\n",
    "\n",
    "y_predictions = model.predict(X_test)"
   ]
  },
  {
   "cell_type": "code",
   "execution_count": 14,
   "id": "7a3d6de9",
   "metadata": {},
   "outputs": [
    {
     "data": {
      "text/plain": [
       "array([[186.90961321],\n",
       "       [153.75308582],\n",
       "       [114.56809891],\n",
       "       [277.33650608],\n",
       "       [141.69616677],\n",
       "       [183.89538345],\n",
       "       [226.09460012],\n",
       "       [180.88115368],\n",
       "       [102.51117986],\n",
       "       [111.55386915],\n",
       "       [ 54.28350366],\n",
       "       [204.99499178],\n",
       "       [132.65347748],\n",
       "       [265.27958703],\n",
       "       [ 24.14120604],\n",
       "       [165.81000487],\n",
       "       [208.00922155],\n",
       "       [ 57.29773342],\n",
       "       [ 90.45426081],\n",
       "       [204.99499178]])"
      ]
     },
     "execution_count": 14,
     "metadata": {},
     "output_type": "execute_result"
    }
   ],
   "source": [
    "y_predictions"
   ]
  },
  {
   "cell_type": "markdown",
   "id": "e525c58e",
   "metadata": {},
   "source": [
    "**Calculate the mean_squared_error, root mean squared error and R^2 score for this dataset**"
   ]
  },
  {
   "cell_type": "code",
   "execution_count": 15,
   "id": "cac6c85e",
   "metadata": {},
   "outputs": [
    {
     "data": {
      "text/plain": [
       "78.0456428848972"
      ]
     },
     "execution_count": 15,
     "metadata": {},
     "output_type": "execute_result"
    }
   ],
   "source": [
    "from sklearn.metrics import mean_squared_error\n",
    "mse = mean_squared_error(y_test, y_predictions)\n",
    "mse"
   ]
  },
  {
   "cell_type": "code",
   "execution_count": 16,
   "id": "f78fdd8d",
   "metadata": {},
   "outputs": [
    {
     "data": {
      "text/plain": [
       "8.834344507935901"
      ]
     },
     "execution_count": 16,
     "metadata": {},
     "output_type": "execute_result"
    }
   ],
   "source": [
    "rmse = np.sqrt(mse)\n",
    "rmse"
   ]
  },
  {
   "cell_type": "code",
   "execution_count": 17,
   "id": "9d7ce030",
   "metadata": {},
   "outputs": [
    {
     "data": {
      "text/plain": [
       "0.9818654019640373"
      ]
     },
     "execution_count": 17,
     "metadata": {},
     "output_type": "execute_result"
    }
   ],
   "source": [
    "from sklearn.metrics import r2_score\n",
    "r2 = r2_score(y_test, y_predictions)\n",
    "r2"
   ]
  },
  {
   "cell_type": "markdown",
   "id": "d636159f",
   "metadata": {},
   "source": [
    "### Plot actual versus predicted values"
   ]
  },
  {
   "cell_type": "code",
   "execution_count": 18,
   "id": "34a37bb5",
   "metadata": {},
   "outputs": [
    {
     "data": {
      "image/png": "[encoded data removed]",
      "text/plain": [
       "<Figure size 432x288 with 1 Axes>"
      ]
     },
     "metadata": {
      "needs_background": "light"
     },
     "output_type": "display_data"
    }
   ],
   "source": [
    "import matplotlib.pyplot as plt\n",
    "\n",
    "plt.plot(y_test, y_predictions, 'ro')\n",
    "plt.xlabel('Actual')\n",
    "plt.ylabel('Predicted')\n",
    "plt.show()"
   ]
  },
  {
   "cell_type": "markdown",
   "id": "369a81af",
   "metadata": {},
   "source": [
    "### Plot residual values versus predicted values"
   ]
  },
  {
   "cell_type": "code",
   "execution_count": 19,
   "id": "a0ad24f3",
   "metadata": {
    "scrolled": true
   },
   "outputs": [
    {
     "data": {
      "image/png": "[encoded data removed]",
      "text/plain": [
       "<Figure size 432x288 with 1 Axes>"
      ]
     },
     "metadata": {
      "needs_background": "light"
     },
     "output_type": "display_data"
    }
   ],
   "source": [
    "plt.plot(y_predictions, y_predictions - y_test, 'ro')\n",
    "plt.ylabel('Residual')\n",
    "plt.xlabel('Predicted')\n",
    "plt.show()"
   ]
  },
  {
   "cell_type": "markdown",
   "id": "c2e2bdab",
   "metadata": {},
   "source": [
    "**From the above code implementation of linear regression model on the dataset, I can say that this is best fit for this data. The evaluations are equal to 0.98 which is very good accuracy to fit the model. The plot also suggests that predicted values are very close to actual values. There are also not a lot of residuals which tells that this model fits the data. (negative residual states that predicted value is high and positive in turn states that predicted value is low)**"
   ]
  },
  {
   "cell_type": "code",
   "execution_count": null,
   "id": "cf432361",
   "metadata": {},
   "outputs": [],
   "source": []
  },
  {
   "cell_type": "markdown",
   "id": "43a54671",
   "metadata": {},
   "source": [
    "## Implementing the same things above on data2 dataset"
   ]
  },
  {
   "cell_type": "code",
   "execution_count": null,
   "id": "0f4c295a",
   "metadata": {},
   "outputs": [],
   "source": []
  },
  {
   "cell_type": "code",
   "execution_count": 20,
   "id": "601f070c",
   "metadata": {},
   "outputs": [],
   "source": [
    "import pandas as pd\n",
    "import numpy as np\n",
    "import matplotlib.pyplot as plt\n",
    "import random\n",
    "\n",
    "#data1 = pd.read_csv('https://raw.githubusercontent.com/msaricaumbc/DS_data/master/ds602/regression/lab4_1.csv', index_col=0)\n",
    "data2 = pd.read_csv('https://raw.githubusercontent.com/msaricaumbc/DS_data/master/ds602/regression/lab4_2.csv', index_col=0)"
   ]
  },
  {
   "cell_type": "code",
   "execution_count": 21,
   "id": "d15617d3",
   "metadata": {},
   "outputs": [
    {
     "data": {
      "text/html": [
       "<div>\n",
       "<style scoped>\n",
       "    .dataframe tbody tr th:only-of-type {\n",
       "        vertical-align: middle;\n",
       "    }\n",
       "\n",
       "    .dataframe tbody tr th {\n",
       "        vertical-align: top;\n",
       "    }\n",
       "\n",
       "    .dataframe thead th {\n",
       "        text-align: right;\n",
       "    }\n",
       "</style>\n",
       "<table border=\"1\" class=\"dataframe\">\n",
       "  <thead>\n",
       "    <tr style=\"text-align: right;\">\n",
       "      <th></th>\n",
       "      <th>X1</th>\n",
       "      <th>X2</th>\n",
       "      <th>y</th>\n",
       "    </tr>\n",
       "  </thead>\n",
       "  <tbody>\n",
       "    <tr>\n",
       "      <th>0</th>\n",
       "      <td>50</td>\n",
       "      <td>B</td>\n",
       "      <td>2510</td>\n",
       "    </tr>\n",
       "    <tr>\n",
       "      <th>1</th>\n",
       "      <td>82</td>\n",
       "      <td>B</td>\n",
       "      <td>6738</td>\n",
       "    </tr>\n",
       "    <tr>\n",
       "      <th>2</th>\n",
       "      <td>66</td>\n",
       "      <td>B</td>\n",
       "      <td>4355</td>\n",
       "    </tr>\n",
       "    <tr>\n",
       "      <th>3</th>\n",
       "      <td>35</td>\n",
       "      <td>A</td>\n",
       "      <td>2225</td>\n",
       "    </tr>\n",
       "    <tr>\n",
       "      <th>4</th>\n",
       "      <td>81</td>\n",
       "      <td>A</td>\n",
       "      <td>7560</td>\n",
       "    </tr>\n",
       "  </tbody>\n",
       "</table>\n",
       "</div>"
      ],
      "text/plain": [
       "   X1 X2     y\n",
       "0  50  B  2510\n",
       "1  82  B  6738\n",
       "2  66  B  4355\n",
       "3  35  A  2225\n",
       "4  81  A  7560"
      ]
     },
     "execution_count": 21,
     "metadata": {},
     "output_type": "execute_result"
    }
   ],
   "source": [
    "data2.head() # view the head of the dataset"
   ]
  },
  {
   "cell_type": "code",
   "execution_count": 22,
   "id": "0c9e5646",
   "metadata": {},
   "outputs": [
    {
     "data": {
      "text/plain": [
       "X1    0\n",
       "X2    0\n",
       "y     0\n",
       "dtype: int64"
      ]
     },
     "execution_count": 22,
     "metadata": {},
     "output_type": "execute_result"
    }
   ],
   "source": [
    "data2.isnull().sum() # check the missing values"
   ]
  },
  {
   "cell_type": "code",
   "execution_count": 23,
   "id": "bc8d013b",
   "metadata": {},
   "outputs": [
    {
     "data": {
      "text/plain": [
       "array(['B', 'A'], dtype=object)"
      ]
     },
     "execution_count": 23,
     "metadata": {},
     "output_type": "execute_result"
    }
   ],
   "source": [
    "data2['X2'].unique() # find the unique values of X2 because it seems to be categorical column"
   ]
  },
  {
   "cell_type": "markdown",
   "id": "6be362ba",
   "metadata": {},
   "source": [
    "### Create dummies for X2 column to make it easy for the model to fit in the dataset"
   ]
  },
  {
   "cell_type": "code",
   "execution_count": 24,
   "id": "bcde0789",
   "metadata": {},
   "outputs": [
    {
     "name": "stdout",
     "output_type": "stream",
     "text": [
      "    X1     y  X2_A  X2_B\n",
      "0   50  2510     0     1\n",
      "1   82  6738     0     1\n",
      "2   66  4355     0     1\n",
      "3   35  2225     1     0\n",
      "4   81  7560     1     0\n",
      "..  ..   ...   ...   ...\n",
      "95  98  9615     0     1\n",
      "96   9  1066     1     0\n",
      "97  56  4139     1     0\n",
      "98  50  2502     0     1\n",
      "99  53  3815     1     0\n",
      "\n",
      "[100 rows x 4 columns]\n"
     ]
    }
   ],
   "source": [
    "# create dummies for X2 Column\n",
    "dummy_variables = pd.get_dummies(data2['X2'], prefix='X2')\n",
    "\n",
    "# Concatenate the dummy variables with the original Dataset\n",
    "data2 = pd.concat([data2, dummy_variables], axis=1)\n",
    "\n",
    "# Drop the original 'X2' column \n",
    "data2 = data2.drop('X2', axis=1)\n",
    "\n",
    "print(data2)\n"
   ]
  },
  {
   "cell_type": "markdown",
   "id": "6a42445c",
   "metadata": {},
   "source": [
    "### Divide the above columns into dependent and independent variables"
   ]
  },
  {
   "cell_type": "code",
   "execution_count": 25,
   "id": "4a48ab0c",
   "metadata": {},
   "outputs": [
    {
     "name": "stdout",
     "output_type": "stream",
     "text": [
      "<class 'pandas.core.frame.DataFrame'>\n",
      "Int64Index: 100 entries, 0 to 99\n",
      "Data columns (total 3 columns):\n",
      " #   Column  Non-Null Count  Dtype\n",
      "---  ------  --------------  -----\n",
      " 0   X1      100 non-null    int64\n",
      " 1   X2_A    100 non-null    uint8\n",
      " 2   X2_B    100 non-null    uint8\n",
      "dtypes: int64(1), uint8(2)\n",
      "memory usage: 1.8 KB\n"
     ]
    }
   ],
   "source": [
    "y = data2.y # dependent variable\n",
    "\n",
    "features = ['X1','X2_A','X2_B'] # independent features\n",
    "X = data2[features]\n",
    "\n",
    "X.info()"
   ]
  },
  {
   "cell_type": "markdown",
   "id": "1fed5337",
   "metadata": {},
   "source": [
    "### Train and test split"
   ]
  },
  {
   "cell_type": "code",
   "execution_count": 26,
   "id": "60dc99e5",
   "metadata": {},
   "outputs": [
    {
     "name": "stdout",
     "output_type": "stream",
     "text": [
      "Training samples: 80\n",
      "Test samples: 20\n"
     ]
    }
   ],
   "source": [
    "from sklearn.model_selection import train_test_split\n",
    "\n",
    "X_training, X_test, y_training, y_test = train_test_split(X, y, test_size=0.20)\n",
    "\n",
    "print(f'Training samples: {X_training.shape[0]:,}')\n",
    "print(f'Test samples: {X_test.shape[0]:,}')"
   ]
  },
  {
   "cell_type": "code",
   "execution_count": 27,
   "id": "74928986",
   "metadata": {},
   "outputs": [
    {
     "name": "stdout",
     "output_type": "stream",
     "text": [
      "<class 'pandas.core.frame.DataFrame'>\n",
      "Int64Index: 80 entries, 27 to 1\n",
      "Data columns (total 3 columns):\n",
      " #   Column  Non-Null Count  Dtype\n",
      "---  ------  --------------  -----\n",
      " 0   X1      80 non-null     int64\n",
      " 1   X2_A    80 non-null     uint8\n",
      " 2   X2_B    80 non-null     uint8\n",
      "dtypes: int64(1), uint8(2)\n",
      "memory usage: 1.4 KB\n"
     ]
    }
   ],
   "source": [
    "X_training.info()"
   ]
  },
  {
   "cell_type": "code",
   "execution_count": 28,
   "id": "c5cabbdf",
   "metadata": {},
   "outputs": [],
   "source": [
    "# import the required libraries for linear regression\n",
    "from sklearn.linear_model import LinearRegression"
   ]
  },
  {
   "cell_type": "code",
   "execution_count": 29,
   "id": "8acd6216",
   "metadata": {},
   "outputs": [
    {
     "data": {
      "text/html": [
       "<style>#sk-container-id-2 {color: black;background-color: white;}#sk-container-id-2 pre{padding: 0;}#sk-container-id-2 div.sk-toggleable {background-color: white;}#sk-container-id-2 label.sk-toggleable__label {cursor: pointer;display: block;width: 100%;margin-bottom: 0;padding: 0.3em;box-sizing: border-box;text-align: center;}#sk-container-id-2 label.sk-toggleable__label-arrow:before {content: \"▸\";float: left;margin-right: 0.25em;color: #696969;}#sk-container-id-2 label.sk-toggleable__label-arrow:hover:before {color: black;}#sk-container-id-2 div.sk-estimator:hover label.sk-toggleable__label-arrow:before {color: black;}#sk-container-id-2 div.sk-toggleable__content {max-height: 0;max-width: 0;overflow: hidden;text-align: left;background-color: #f0f8ff;}#sk-container-id-2 div.sk-toggleable__content pre {margin: 0.2em;color: black;border-radius: 0.25em;background-color: #f0f8ff;}#sk-container-id-2 input.sk-toggleable__control:checked~div.sk-toggleable__content {max-height: 200px;max-width: 100%;overflow: auto;}#sk-container-id-2 input.sk-toggleable__control:checked~label.sk-toggleable__label-arrow:before {content: \"▾\";}#sk-container-id-2 div.sk-estimator input.sk-toggleable__control:checked~label.sk-toggleable__label {background-color: #d4ebff;}#sk-container-id-2 div.sk-label input.sk-toggleable__control:checked~label.sk-toggleable__label {background-color: #d4ebff;}#sk-container-id-2 input.sk-hidden--visually {border: 0;clip: rect(1px 1px 1px 1px);clip: rect(1px, 1px, 1px, 1px);height: 1px;margin: -1px;overflow: hidden;padding: 0;position: absolute;width: 1px;}#sk-container-id-2 div.sk-estimator {font-family: monospace;background-color: #f0f8ff;border: 1px dotted black;border-radius: 0.25em;box-sizing: border-box;margin-bottom: 0.5em;}#sk-container-id-2 div.sk-estimator:hover {background-color: #d4ebff;}#sk-container-id-2 div.sk-parallel-item::after {content: \"\";width: 100%;border-bottom: 1px solid gray;flex-grow: 1;}#sk-container-id-2 div.sk-label:hover label.sk-toggleable__label {background-color: #d4ebff;}#sk-container-id-2 div.sk-serial::before {content: \"\";position: absolute;border-left: 1px solid gray;box-sizing: border-box;top: 0;bottom: 0;left: 50%;z-index: 0;}#sk-container-id-2 div.sk-serial {display: flex;flex-direction: column;align-items: center;background-color: white;padding-right: 0.2em;padding-left: 0.2em;position: relative;}#sk-container-id-2 div.sk-item {position: relative;z-index: 1;}#sk-container-id-2 div.sk-parallel {display: flex;align-items: stretch;justify-content: center;background-color: white;position: relative;}#sk-container-id-2 div.sk-item::before, #sk-container-id-2 div.sk-parallel-item::before {content: \"\";position: absolute;border-left: 1px solid gray;box-sizing: border-box;top: 0;bottom: 0;left: 50%;z-index: -1;}#sk-container-id-2 div.sk-parallel-item {display: flex;flex-direction: column;z-index: 1;position: relative;background-color: white;}#sk-container-id-2 div.sk-parallel-item:first-child::after {align-self: flex-end;width: 50%;}#sk-container-id-2 div.sk-parallel-item:last-child::after {align-self: flex-start;width: 50%;}#sk-container-id-2 div.sk-parallel-item:only-child::after {width: 0;}#sk-container-id-2 div.sk-dashed-wrapped {border: 1px dashed gray;margin: 0 0.4em 0.5em 0.4em;box-sizing: border-box;padding-bottom: 0.4em;background-color: white;}#sk-container-id-2 div.sk-label label {font-family: monospace;font-weight: bold;display: inline-block;line-height: 1.2em;}#sk-container-id-2 div.sk-label-container {text-align: center;}#sk-container-id-2 div.sk-container {/* jupyter's `normalize.less` sets `[hidden] { display: none; }` but bootstrap.min.css set `[hidden] { display: none !important; }` so we also need the `!important` here to be able to override the default hidden behavior on the sphinx rendered scikit-learn.org. See: https://github.com/scikit-learn/scikit-learn/issues/21755 */display: inline-block !important;position: relative;}#sk-container-id-2 div.sk-text-repr-fallback {display: none;}</style><div id=\"sk-container-id-2\" class=\"sk-top-container\"><div class=\"sk-text-repr-fallback\"><pre>LinearRegression()</pre><b>In a Jupyter environment, please rerun this cell to show the HTML representation or trust the notebook. <br />On GitHub, the HTML representation is unable to render, please try loading this page with nbviewer.org.</b></div><div class=\"sk-container\" hidden><div class=\"sk-item\"><div class=\"sk-estimator sk-toggleable\"><input class=\"sk-toggleable__control sk-hidden--visually\" id=\"sk-estimator-id-2\" type=\"checkbox\" checked><label for=\"sk-estimator-id-2\" class=\"sk-toggleable__label sk-toggleable__label-arrow\">LinearRegression</label><div class=\"sk-toggleable__content\"><pre>LinearRegression()</pre></div></div></div></div></div>"
      ],
      "text/plain": [
       "LinearRegression()"
      ]
     },
     "execution_count": 29,
     "metadata": {},
     "output_type": "execute_result"
    }
   ],
   "source": [
    "# Fit the dataset into the model\n",
    "model = LinearRegression()\n",
    "model.fit(X_training,y_training)"
   ]
  },
  {
   "cell_type": "code",
   "execution_count": 30,
   "id": "40f18a47",
   "metadata": {},
   "outputs": [],
   "source": [
    "#predict the y values\n",
    "y_predictions = model.predict(X_test)"
   ]
  },
  {
   "cell_type": "code",
   "execution_count": 31,
   "id": "ea152347",
   "metadata": {},
   "outputs": [
    {
     "data": {
      "text/plain": [
       "array([ 398.28294721, 3490.55248059, 1711.70600482, 1430.83550865,\n",
       "       4517.71689109, 2551.62341787, 5641.19887579,  960.02393956,\n",
       "       6767.37493595, 3490.55248059, 2367.07049589, 5173.08138216,\n",
       "        211.03594976, 7420.04535156, 7700.91584773, 5079.45788344,\n",
       "       -350.70504259,  307.35352395, 4330.46989364, 4145.91697166])"
      ]
     },
     "execution_count": 31,
     "metadata": {},
     "output_type": "execute_result"
    }
   ],
   "source": [
    "y_predictions"
   ]
  },
  {
   "cell_type": "markdown",
   "id": "5166aee2",
   "metadata": {},
   "source": [
    "### Evaluate the model"
   ]
  },
  {
   "cell_type": "code",
   "execution_count": 32,
   "id": "b3fd5782",
   "metadata": {},
   "outputs": [
    {
     "data": {
      "text/plain": [
       "466235.1509085203"
      ]
     },
     "execution_count": 32,
     "metadata": {},
     "output_type": "execute_result"
    }
   ],
   "source": [
    "from sklearn.metrics import mean_squared_error\n",
    "mse = mean_squared_error(y_test, y_predictions)\n",
    "mse"
   ]
  },
  {
   "cell_type": "code",
   "execution_count": 33,
   "id": "5639b3cc",
   "metadata": {},
   "outputs": [
    {
     "data": {
      "text/plain": [
       "682.8141408234897"
      ]
     },
     "execution_count": 33,
     "metadata": {},
     "output_type": "execute_result"
    }
   ],
   "source": [
    "rmse = np.sqrt(mse)\n",
    "rmse"
   ]
  },
  {
   "cell_type": "code",
   "execution_count": 34,
   "id": "32ddd539",
   "metadata": {},
   "outputs": [
    {
     "data": {
      "text/plain": [
       "0.9229274898768963"
      ]
     },
     "execution_count": 34,
     "metadata": {},
     "output_type": "execute_result"
    }
   ],
   "source": [
    "from sklearn.metrics import r2_score\n",
    "r2 = r2_score(y_test, y_predictions)\n",
    "r2"
   ]
  },
  {
   "cell_type": "markdown",
   "id": "8edcf622",
   "metadata": {},
   "source": [
    "### Plot actual versus predicted values"
   ]
  },
  {
   "cell_type": "code",
   "execution_count": 35,
   "id": "75944c82",
   "metadata": {},
   "outputs": [
    {
     "data": {
      "image/png": "[encoded data removed]",
      "text/plain": [
       "<Figure size 432x288 with 1 Axes>"
      ]
     },
     "metadata": {
      "needs_background": "light"
     },
     "output_type": "display_data"
    }
   ],
   "source": [
    "import matplotlib.pyplot as plt\n",
    "\n",
    "plt.plot(y_test, y_predictions, 'ro')\n",
    "plt.xlabel('Actual')\n",
    "plt.ylabel('Predicted')\n",
    "plt.show()"
   ]
  },
  {
   "cell_type": "markdown",
   "id": "0aada9aa",
   "metadata": {},
   "source": [
    "### Plot residuals versus predicted values"
   ]
  },
  {
   "cell_type": "code",
   "execution_count": 36,
   "id": "793e7ab4",
   "metadata": {},
   "outputs": [
    {
     "data": {
      "image/png": "[encoded data removed]",
      "text/plain": [
       "<Figure size 432x288 with 1 Axes>"
      ]
     },
     "metadata": {
      "needs_background": "light"
     },
     "output_type": "display_data"
    }
   ],
   "source": [
    "plt.plot(y_predictions, y_predictions - y_test, 'ro')\n",
    "plt.ylabel('Residual')\n",
    "plt.xlabel('Predicted')\n",
    "plt.show()"
   ]
  },
  {
   "cell_type": "markdown",
   "id": "c50659c4",
   "metadata": {},
   "source": [
    "**From the above code implementation of linear regression model on the dataset, I can say that this is best fit for this data. The evaluations are equal to 0.92 which is very good accuracy to make this model a good fit for this dataset. The plot also suggests that predicted values are very close to actual values. There are also not a lot of residuals which tells that this model fits the data. (negative residual states that predicted value is high and positive in turn states that predicted value is low). Creation of dummy also contributes to the accuracy of the model.**"
   ]
  },
  {
   "cell_type": "code",
   "execution_count": null,
   "id": "ae5922d6",
   "metadata": {},
   "outputs": [],
   "source": []
  }
 ],
 "metadata": {
  "kernelspec": {
   "display_name": "Python 3",
   "language": "python",
   "name": "python3"
  },
  "language_info": {
   "codemirror_mode": {
    "name": "ipython",
    "version": 3
   },
   "file_extension": ".py",
   "mimetype": "text/x-python",
   "name": "python",
   "nbconvert_exporter": "python",
   "pygments_lexer": "ipython3",
   "version": "3.8.8"
  },
  "toc": {
   "base_numbering": 1,
   "nav_menu": {},
   "number_sections": false,
   "sideBar": true,
   "skip_h1_title": false,
   "title_cell": "Table of Contents",
   "title_sidebar": "Contents",
   "toc_cell": false,
   "toc_position": {},
   "toc_section_display": true,
   "toc_window_display": false
  }
 },
 "nbformat": 4,
 "nbformat_minor": 5
}
